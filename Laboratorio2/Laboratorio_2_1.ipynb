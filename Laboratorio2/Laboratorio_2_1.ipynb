{
  "nbformat": 4,
  "nbformat_minor": 0,
  "metadata": {
    "colab": {
      "provenance": [],
      "gpuType": "T4"
    },
    "kernelspec": {
      "name": "python3",
      "display_name": "Python 3"
    },
    "language_info": {
      "name": "python"
    },
    "accelerator": "GPU"
  },
  "cells": [
    {
      "cell_type": "markdown",
      "source": [
        "# Dataset plantas medicinales\n",
        "En este dataset se entrenará un modelo utilizando las plantas\n",
        "  * Aloe Vera\n",
        "  * Cedron\n",
        "  * Floripondio\n",
        "  * Higuera\n",
        "  * Níspero\n",
        "\n",
        "  Se utilizará pytorch para su entrenamiento\n",
        "\n",
        "\n",
        "\n",
        "\n",
        "\n",
        "\n",
        "  Lo primero que hacemos es importar las librerías necesarias"
      ],
      "metadata": {
        "id": "AgLeUARn3yHK"
      }
    },
    {
      "cell_type": "code",
      "execution_count": 1,
      "metadata": {
        "id": "Xsr_ALKYoPb_"
      },
      "outputs": [],
      "source": [
        "# Importamos las librerias\n",
        "\n",
        "import torch\n",
        "import torchvision\n",
        "import os\n",
        "import matplotlib.pyplot as plt\n",
        "import numpy as np\n",
        "import pandas as pd\n",
        "import cv2\n",
        "from PIL import Image\n",
        "import random\n",
        "from sklearn.model_selection import train_test_split"
      ]
    },
    {
      "cell_type": "markdown",
      "source": [
        "Importamos google drive para poder cargar las imágenes"
      ],
      "metadata": {
        "id": "nPSo1R4B4QcM"
      }
    },
    {
      "cell_type": "code",
      "source": [
        "from google.colab import drive\n",
        "drive.mount('/content/drive')"
      ],
      "metadata": {
        "id": "nyWG0xWGohQ-",
        "colab": {
          "base_uri": "https://localhost:8080/"
        },
        "outputId": "639544af-bbc1-4d8e-d853-4f87f6516050"
      },
      "execution_count": 2,
      "outputs": [
        {
          "output_type": "stream",
          "name": "stdout",
          "text": [
            "Mounted at /content/drive\n"
          ]
        }
      ]
    },
    {
      "cell_type": "markdown",
      "source": [
        "Dentro de la carpeta de drive se encuentra el dataset cargado en una carpeta, dicha carpeta contiene dentro de sí 5 carpetas con sus imágenes correspondientes.\n",
        "\n",
        "El siguiente código nos permite cargar las imágenes y etiquetarlas según el orden alfabético que tengan el nombre de las carpetas, es decir que\n",
        "* Aloe Vera ---> 0\n",
        "* Cedron --> 1\n",
        "* Floripondio --> 2\n",
        "* Higuera --> 3\n",
        "* Nispero --> 4\n"
      ],
      "metadata": {
        "id": "uaW5qM9X4UYs"
      }
    },
    {
      "cell_type": "markdown",
      "source": [
        "Abrir imagen: Para cada archivo de imagen encontrado, lo abrimos utilizando la biblioteca PIL (Image.open).\n",
        "Convertir a RGB: Convertimos la imagen a modo RGB para asegurarnos de que todas las imágenes tengan el mismo formato de color.\n",
        "Normalización: Convertimos la imagen a un array de NumPy y normalizamos los valores de píxel dividiendo por 255.0 para que estén en el rango [0, 1]. Esto es importante para estandarizar los datos antes de ingresarlos a la red neuronal.\n",
        "Redimensionar: Cambiamos el tamaño de la imagen a un tamaño fijo ( 50x50 píxeles) para que todas las imágenes tengan el mismo tamaño de entrada. Esto es crucial para poder entrenar un modelo, ya que la mayoría de los modelos de aprendizaje automático requieren que todas las entradas tengan el mismo tamaño."
      ],
      "metadata": {
        "id": "j7cw07EN5fZj"
      }
    },
    {
      "cell_type": "code",
      "source": [
        "def cargar_dataset_train(ruta_dataset, tamaño_imagen=(50, 50)):\n",
        "    # Reiniciar variables\n",
        "    dataset = []\n",
        "    etiquetas_mapping = {}\n",
        "\n",
        "    # Obtener clases del nuevo dataset y ordenarlas\n",
        "    clases = sorted(os.listdir(ruta_dataset))\n",
        "\n",
        "    # Mapeo de etiquetas a valores numéricos\n",
        "    etiquetas_mapping = {clase: idx for idx, clase in enumerate(clases)}\n",
        "\n",
        "    for clase in clases:\n",
        "        #print(f\"Procesando clase testing: {clase} ({etiquetas_mapping[clase]})\")\n",
        "        ruta_clase = os.path.join(ruta_dataset, clase)\n",
        "        etiqueta_num = etiquetas_mapping[clase]  # Obtener el valor numérico de la etiqueta directamente\n",
        "        with os.scandir(ruta_clase) as entries:\n",
        "            for idx, entry in enumerate(entries, start=1):\n",
        "                if entry.is_file():\n",
        "                    imagen_ruta = os.path.join(ruta_clase, entry.name)\n",
        "                    # Abrir imagen como objeto PIL\n",
        "                    imagen = Image.open(imagen_ruta).convert('RGB')\n",
        "                    # Normalizar la imagen\n",
        "                    imagen = np.array(imagen) / 255.0\n",
        "                    # Convertir la imagen normalizada a objeto PIL\n",
        "                    imagen_pil = Image.fromarray((imagen * 255).astype(np.uint8))\n",
        "                    # Redimensionar imagen\n",
        "                    imagen_resized = imagen_pil.resize(tamaño_imagen)\n",
        "                    dataset.append((imagen_resized, etiqueta_num))  # Tupla con imagen y etiqueta numérica\n",
        "\n",
        "    random.shuffle(dataset)\n",
        "    return dataset"
      ],
      "metadata": {
        "id": "zNT0ZQ2HoksV"
      },
      "execution_count": 3,
      "outputs": []
    },
    {
      "cell_type": "code",
      "source": [
        "trainset = cargar_dataset_train('/content/drive/MyDrive/SIS421 prueba dataset 1')\n",
        "\n",
        "print(\"Número de ejemplos en el conjunto de entrenamiento:\", len(trainset))\n",
        "# print(\"Número de ejemplos en el conjunto de prueba:\", len(testset))"
      ],
      "metadata": {
        "id": "0TREYZyTotZD",
        "colab": {
          "base_uri": "https://localhost:8080/"
        },
        "outputId": "8c867b14-9319-4ff4-b167-00a7d066458c"
      },
      "execution_count": 4,
      "outputs": [
        {
          "output_type": "stream",
          "name": "stdout",
          "text": [
            "Número de ejemplos en el conjunto de entrenamiento: 11158\n"
          ]
        }
      ]
    },
    {
      "cell_type": "code",
      "source": [
        "# Ejemplo de cómo definir la lista de clases\n",
        "classes = ['Aloe Vera', 'Cedron', 'Floripondio', 'Higuera', 'Nispero']"
      ],
      "metadata": {
        "id": "mMBUEnvs09E_"
      },
      "execution_count": 6,
      "outputs": []
    },
    {
      "cell_type": "markdown",
      "source": [
        "Aquí podemos observar como las imágenes son redimensionadas y cuentan con su etiqueta correspondiente"
      ],
      "metadata": {
        "id": "MSayT3p45HRN"
      }
    },
    {
      "cell_type": "code",
      "source": [
        "import random\n",
        "import matplotlib.pyplot as plt\n",
        "\n",
        "r, c = 3, 5\n",
        "plt.figure(figsize=(c*3, r*3))\n",
        "for row in range(r):\n",
        "    for col in range(c):\n",
        "        index = c*row + col\n",
        "        plt.subplot(r, c, index + 1)\n",
        "        ix = random.randint(0, len(trainset)-1)\n",
        "        img, label = trainset[ix]\n",
        "        #print(label)\n",
        "        #clase_index = classes.index(clase)\n",
        "        plt.imshow(img)\n",
        "        plt.axis('off')\n",
        "        plt.title(classes[label])\n",
        "plt.subplots_adjust(wspace=0.2, hspace=0.5)\n",
        "plt.show()"
      ],
      "metadata": {
        "id": "KpTP_9jWo0JI",
        "colab": {
          "base_uri": "https://localhost:8080/",
          "height": 752
        },
        "outputId": "5a17287d-f2df-4210-966f-1fa836158590"
      },
      "execution_count": 7,
      "outputs": [
        {
          "output_type": "display_data",
          "data": {
            "text/plain": [
              "<Figure size 1500x900 with 15 Axes>"
            ],
            "image/png": "[encoded data removed]"
          },
          "metadata": {}
        }
      ]
    },
    {
      "cell_type": "code",
      "source": [
        "# Convertir las imágenes y etiquetas a arrays de NumPy\n",
        "images = np.array([np.array(img) for img, label in trainset])\n",
        "labels = np.array([label for img, label in trainset])\n",
        "\n",
        "# Dividir los datos en 85% entrenamiento y 15% prueba\n",
        "train_images, test_images, train_labels, test_labels = train_test_split(\n",
        "    images, labels, test_size=0.15, random_state=42\n",
        ")\n",
        "\n",
        "# Opcional: convertir nuevamente a arrays de NumPy si necesitas\n",
        "train_images = np.array(train_images)\n",
        "test_images = np.array(test_images)\n",
        "train_labels = np.array(train_labels)\n",
        "test_labels = np.array(test_labels)"
      ],
      "metadata": {
        "id": "VV4dAm8CxAnk"
      },
      "execution_count": 8,
      "outputs": []
    },
    {
      "cell_type": "code",
      "source": [
        "# ver número de imágenes, resolución y número de canales\n",
        "train_images.shape, test_images.shape, train_labels.shape, test_labels.shape"
      ],
      "metadata": {
        "id": "eyH3AmalpC8J",
        "colab": {
          "base_uri": "https://localhost:8080/"
        },
        "outputId": "255bd7dd-7bee-49b7-923e-2c0b607b83d5"
      },
      "execution_count": 9,
      "outputs": [
        {
          "output_type": "execute_result",
          "data": {
            "text/plain": [
              "((9484, 50, 50, 3), (1674, 50, 50, 3), (9484,), (1674,))"
            ]
          },
          "metadata": {},
          "execution_count": 9
        }
      ]
    },
    {
      "cell_type": "code",
      "source": [
        "# tipo de datos\n",
        "train_images.dtype, train_labels.dtype"
      ],
      "metadata": {
        "id": "P6v8WvqCpE_p",
        "colab": {
          "base_uri": "https://localhost:8080/"
        },
        "outputId": "99d3f731-af48-4321-c966-2514e9fd2ed0"
      },
      "execution_count": 11,
      "outputs": [
        {
          "output_type": "execute_result",
          "data": {
            "text/plain": [
              "(dtype('uint8'), dtype('int64'))"
            ]
          },
          "metadata": {},
          "execution_count": 11
        }
      ]
    },
    {
      "cell_type": "code",
      "source": [
        "# Visualización del histograma\n",
        "plt.hist(train_labels, bins=len(classes), width=0.8)\n",
        "plt.xticks(range(len(classes)), classes, rotation=45)\n",
        "plt.tight_layout()\n",
        "plt.show()"
      ],
      "metadata": {
        "id": "K93IT2lTpIyl",
        "colab": {
          "base_uri": "https://localhost:8080/",
          "height": 487
        },
        "outputId": "8bec1b0d-06c7-4e98-abf3-e6c3e988ac48"
      },
      "execution_count": 12,
      "outputs": [
        {
          "output_type": "display_data",
          "data": {
            "text/plain": [
              "<Figure size 640x480 with 1 Axes>"
            ],
            "image/png": "[encoded data removed]"
          },
          "metadata": {}
        }
      ]
    },
    {
      "cell_type": "code",
      "source": [
        "unique, counts = np.unique(train_labels, return_counts=True)\n",
        "(unique, counts)"
      ],
      "metadata": {
        "id": "P6gxLhqFpLee",
        "colab": {
          "base_uri": "https://localhost:8080/"
        },
        "outputId": "5b600f00-5541-4484-f82e-83ca71bbb637"
      },
      "execution_count": 13,
      "outputs": [
        {
          "output_type": "execute_result",
          "data": {
            "text/plain": [
              "(array([0, 1, 2, 3, 4]), array([1953, 1897, 1876, 1867, 1891]))"
            ]
          },
          "metadata": {},
          "execution_count": 13
        }
      ]
    },
    {
      "cell_type": "markdown",
      "source": [
        "Una vez que las imágenes han sido preprocesadas, es que se utiliza el objeto dataset que nos permitirá colocar las imágenes en un formato que Pytorch pueda trabajarlas"
      ],
      "metadata": {
        "id": "VaYQnlDb5yWZ"
      }
    },
    {
      "cell_type": "code",
      "source": [
        "class CustomImageDataset(torch.utils.data.Dataset):\n",
        "    def __init__(self, image_paths, labels, transform=None):\n",
        "        self.image_paths = image_paths\n",
        "        self.labels = labels\n",
        "        self.transform = transform\n",
        "\n",
        "    def __len__(self):\n",
        "        return len(self.image_paths)\n",
        "\n",
        "    def __getitem__(self, idx):\n",
        "        # Verifica si self.image_paths[idx] es una ruta o un numpy.ndarray\n",
        "        if isinstance(self.image_paths[idx], str):\n",
        "            # Si es una ruta, abre la imagen\n",
        "            image = Image.open(self.image_paths[idx]).convert('RGB')\n",
        "        elif isinstance(self.image_paths[idx], np.ndarray):\n",
        "            # Si ya es un numpy.ndarray, conviértelo directamente a imagen PIL\n",
        "            image = Image.fromarray(self.image_paths[idx])\n",
        "\n",
        "        # Aplica transformaciones si se proporcionan\n",
        "        if self.transform:\n",
        "            image = self.transform(image)\n",
        "\n",
        "        label = self.labels[idx]\n",
        "\n",
        "        return image, label\n"
      ],
      "metadata": {
        "id": "F3fpF0H23UOK"
      },
      "execution_count": 31,
      "outputs": []
    },
    {
      "cell_type": "code",
      "source": [
        "from torch.utils.data import DataLoader\n",
        "from torchvision import transforms\n",
        "\n",
        "# Definir las transformaciones para las imágenes (opcional)\n",
        "transform = transforms.Compose([\n",
        "    transforms.Resize((32, 32)),  # Redimensionar imágenes a 32x32\n",
        "    transforms.ToTensor()         # Convertir imágenes a tensores\n",
        "])\n",
        "\n",
        "# Crear el dataset de entrenamiento y de prueba\n",
        "train_dataset = CustomImageDataset(train_images, train_labels, transform=transform)\n",
        "test_dataset = CustomImageDataset(test_images, test_labels, transform=transform)\n",
        "\n",
        "# Crear los DataLoaders\n",
        "train_loader = DataLoader(train_dataset, batch_size=32, shuffle=True, num_workers=4)\n",
        "test_loader = DataLoader(test_dataset, batch_size=32, shuffle=False, num_workers=4)\n"
      ],
      "metadata": {
        "id": "uWC7zXbh3cc2"
      },
      "execution_count": 32,
      "outputs": []
    },
    {
      "cell_type": "markdown",
      "source": [
        "Normalizamos los datos antes de preprocesarlos, y tmbién serán normalizados antes de entrar en la donde se obtienen los pesos"
      ],
      "metadata": {
        "id": "tpRXMeHe9dnq"
      }
    },
    {
      "cell_type": "code",
      "source": [
        "def build_model(D_in=32*32*3, H=100, D_out=5):\n",
        "    return torch.nn.Sequential(\n",
        "        torch.nn.Linear(D_in, H),\n",
        "        torch.nn.BatchNorm1d(H),\n",
        "        torch.nn.ReLU(),\n",
        "        torch.nn.Linear(H, H),\n",
        "        torch.nn.BatchNorm1d(H),\n",
        "        torch.nn.ReLU(),\n",
        "        torch.nn.Linear(H, D_out)\n",
        "    ).cuda()"
      ],
      "metadata": {
        "id": "C9HhA_mm6JuG"
      },
      "execution_count": 33,
      "outputs": []
    },
    {
      "cell_type": "markdown",
      "source": [
        "El dataloader lo que nos permitirá será cargar los datos en batches que puedan ser manejador de forma más eficiente por el GPU"
      ],
      "metadata": {
        "id": "TQuGJhff6KQO"
      }
    },
    {
      "cell_type": "code",
      "source": [
        "import torch\n",
        "import numpy as np\n",
        "from tqdm import tqdm\n",
        "\n",
        "def fit(model, dataloader, epochs=1000, checkpoint_interval=20, save_path='/content/drive/MyDrive/SIS421 prueba dataset 1 test/Checkpoints/checkpoint.pth'):\n",
        "    model.to(device)\n",
        "    optimizer = torch.optim.Adam(model.parameters(), lr=1e-3)\n",
        "    criterion = torch.nn.CrossEntropyLoss()\n",
        "\n",
        "    for epoch in range(1, epochs + 1):\n",
        "        model.train()\n",
        "        train_loss, train_acc = [], []\n",
        "        bar = tqdm(dataloader['train'])  # Asegúrate de acceder a la clave 'train'\n",
        "        for X, y in bar:\n",
        "            X, y = X.to(device), y.to(device)\n",
        "            optimizer.zero_grad()\n",
        "            y_hat = model(X.view(X.size(0), -1))  # Aplanar imágenes\n",
        "            loss = criterion(y_hat, y)\n",
        "            loss.backward()\n",
        "            optimizer.step()\n",
        "            train_loss.append(loss.item())\n",
        "            acc = (y == torch.argmax(y_hat, axis=1)).sum().item() / len(y)\n",
        "            train_acc.append(acc)\n",
        "            bar.set_description(f\"loss {np.mean(train_loss):.5f} acc {np.mean(train_acc):.5f}\")\n",
        "\n",
        "        model.eval()\n",
        "        val_loss, val_acc = [], []\n",
        "        with torch.no_grad():\n",
        "            bar = tqdm(dataloader['test'])  # Asegúrate de acceder a la clave 'test'\n",
        "            for X, y in bar:\n",
        "                X, y = X.to(device), y.to(device)\n",
        "                y_hat = model(X.view(X.size(0), -1))  # Aplanar imágenes\n",
        "                loss = criterion(y_hat, y)\n",
        "                val_loss.append(loss.item())\n",
        "                acc = (y == torch.argmax(y_hat, axis=1)).sum().item() / len(y)\n",
        "                val_acc.append(acc)\n",
        "                bar.set_description(f\"val_loss {np.mean(val_loss):.5f} val_acc {np.mean(val_acc):.5f}\")\n",
        "\n",
        "        print(f\"Epoch {epoch}/{epochs} loss {np.mean(train_loss):.5f} val_loss {np.mean(val_loss):.5f} acc {np.mean(train_acc):.5f} val_acc {np.mean(val_acc):.5f}\")\n",
        "\n",
        "        if epoch % checkpoint_interval == 0:\n",
        "            torch.save({\n",
        "                'epoch': epoch,\n",
        "                'model_state_dict': model.state_dict(),\n",
        "                'optimizer_state_dict': optimizer.state_dict(),\n",
        "                'loss': np.mean(val_loss),\n",
        "            }, save_path)\n",
        "            print(f\"Checkpoint guardado en {save_path} (Epoch {epoch})\")\n",
        "\n"
      ],
      "metadata": {
        "id": "s0e_vzoyCaem"
      },
      "execution_count": 34,
      "outputs": []
    },
    {
      "cell_type": "code",
      "source": [
        "\n",
        "# Definir el dispositivo a utilizar (GPU o CPU)\n",
        "device = torch.device(\"cuda\" if torch.cuda.is_available() else \"cpu\")\n",
        "\n",
        "# Construir el modelo\n",
        "model = build_model(D_in=32*32*3, H=100, D_out=len(set(train_labels)))\n",
        "model.to(device)  # Mover el modelo al dispositivo\n"
      ],
      "metadata": {
        "colab": {
          "base_uri": "https://localhost:8080/"
        },
        "id": "GQYLhoEMDSIP",
        "outputId": "c5b3a592-0ca0-4d80-ed0b-4c2d478d0ac2"
      },
      "execution_count": 35,
      "outputs": [
        {
          "output_type": "execute_result",
          "data": {
            "text/plain": [
              "Sequential(\n",
              "  (0): Linear(in_features=3072, out_features=100, bias=True)\n",
              "  (1): BatchNorm1d(100, eps=1e-05, momentum=0.1, affine=True, track_running_stats=True)\n",
              "  (2): ReLU()\n",
              "  (3): Linear(in_features=100, out_features=100, bias=True)\n",
              "  (4): BatchNorm1d(100, eps=1e-05, momentum=0.1, affine=True, track_running_stats=True)\n",
              "  (5): ReLU()\n",
              "  (6): Linear(in_features=100, out_features=5, bias=True)\n",
              ")"
            ]
          },
          "metadata": {},
          "execution_count": 35
        }
      ]
    },
    {
      "cell_type": "code",
      "source": [
        "# Entrenar el modelo\n",
        "fit(model, {'train': train_loader, 'test': test_loader}, epochs=1000, checkpoint_interval=20, save_path='/content/drive/MyDrive/SIS421 prueba dataset 1 test/Checkpoints/checkpoint.pth')\n"
      ],
      "metadata": {
        "colab": {
          "base_uri": "https://localhost:8080/"
        },
        "id": "JBaaLR96Dfz2",
        "outputId": "094df95c-338a-4864-ea44-ba0664c5d025"
      },
      "execution_count": 36,
      "outputs": [
        {
          "output_type": "stream",
          "name": "stderr",
          "text": [
            "loss 0.30324 acc 0.91989: 100%|██████████| 297/297 [00:06<00:00, 44.20it/s]\n",
            "val_loss 0.20748 val_acc 0.93219: 100%|██████████| 53/53 [00:01<00:00, 51.56it/s]\n"
          ]
        },
        {
          "output_type": "stream",
          "name": "stdout",
          "text": [
            "Epoch 1/1000 loss 0.30324 val_loss 0.20748 acc 0.91989 val_acc 0.93219\n"
          ]
        },
        {
          "output_type": "stream",
          "name": "stderr",
          "text": [
            "loss 0.07619 acc 0.97896: 100%|██████████| 297/297 [00:03<00:00, 83.26it/s]\n",
            "val_loss 0.09060 val_acc 0.97347: 100%|██████████| 53/53 [00:00<00:00, 66.79it/s]\n"
          ]
        },
        {
          "output_type": "stream",
          "name": "stdout",
          "text": [
            "Epoch 2/1000 loss 0.07619 val_loss 0.09060 acc 0.97896 val_acc 0.97347\n"
          ]
        },
        {
          "output_type": "stream",
          "name": "stderr",
          "text": [
            "loss 0.05043 acc 0.98646: 100%|██████████| 297/297 [00:03<00:00, 81.68it/s]\n",
            "val_loss 0.15256 val_acc 0.93785: 100%|██████████| 53/53 [00:00<00:00, 74.12it/s]\n"
          ]
        },
        {
          "output_type": "stream",
          "name": "stdout",
          "text": [
            "Epoch 3/1000 loss 0.05043 val_loss 0.15256 acc 0.98646 val_acc 0.93785\n"
          ]
        },
        {
          "output_type": "stream",
          "name": "stderr",
          "text": [
            "loss 0.03900 acc 0.98885: 100%|██████████| 297/297 [00:04<00:00, 59.68it/s]\n",
            "val_loss 0.02286 val_acc 0.99469: 100%|██████████| 53/53 [00:01<00:00, 47.95it/s]\n"
          ]
        },
        {
          "output_type": "stream",
          "name": "stdout",
          "text": [
            "Epoch 4/1000 loss 0.03900 val_loss 0.02286 acc 0.98885 val_acc 0.99469\n"
          ]
        },
        {
          "output_type": "stream",
          "name": "stderr",
          "text": [
            "loss 0.02425 acc 0.99306: 100%|██████████| 297/297 [00:04<00:00, 63.67it/s]\n",
            "val_loss 0.46691 val_acc 0.85130: 100%|██████████| 53/53 [00:00<00:00, 70.44it/s]\n"
          ]
        },
        {
          "output_type": "stream",
          "name": "stdout",
          "text": [
            "Epoch 5/1000 loss 0.02425 val_loss 0.46691 acc 0.99306 val_acc 0.85130\n"
          ]
        },
        {
          "output_type": "stream",
          "name": "stderr",
          "text": [
            "loss 0.02522 acc 0.99214: 100%|██████████| 297/297 [00:03<00:00, 80.88it/s]\n",
            "val_loss 0.02365 val_acc 0.99292: 100%|██████████| 53/53 [00:00<00:00, 78.66it/s] \n"
          ]
        },
        {
          "output_type": "stream",
          "name": "stdout",
          "text": [
            "Epoch 6/1000 loss 0.02522 val_loss 0.02365 acc 0.99214 val_acc 0.99292\n"
          ]
        },
        {
          "output_type": "stream",
          "name": "stderr",
          "text": [
            "loss 0.02994 acc 0.98958: 100%|██████████| 297/297 [00:03<00:00, 74.29it/s]\n",
            "val_loss 0.07142 val_acc 0.97524: 100%|██████████| 53/53 [00:01<00:00, 50.65it/s]\n"
          ]
        },
        {
          "output_type": "stream",
          "name": "stdout",
          "text": [
            "Epoch 7/1000 loss 0.02994 val_loss 0.07142 acc 0.98958 val_acc 0.97524\n"
          ]
        },
        {
          "output_type": "stream",
          "name": "stderr",
          "text": [
            "loss 0.01926 acc 0.99320: 100%|██████████| 297/297 [00:05<00:00, 50.96it/s]\n",
            "val_loss 0.02537 val_acc 0.98986: 100%|██████████| 53/53 [00:00<00:00, 64.23it/s]\n"
          ]
        },
        {
          "output_type": "stream",
          "name": "stdout",
          "text": [
            "Epoch 8/1000 loss 0.01926 val_loss 0.02537 acc 0.99320 val_acc 0.98986\n"
          ]
        },
        {
          "output_type": "stream",
          "name": "stderr",
          "text": [
            "loss 0.02082 acc 0.99274: 100%|██████████| 297/297 [00:03<00:00, 80.68it/s]\n",
            "val_loss 0.62399 val_acc 0.82347: 100%|██████████| 53/53 [00:00<00:00, 76.82it/s]\n"
          ]
        },
        {
          "output_type": "stream",
          "name": "stdout",
          "text": [
            "Epoch 9/1000 loss 0.02082 val_loss 0.62399 acc 0.99274 val_acc 0.82347\n"
          ]
        },
        {
          "output_type": "stream",
          "name": "stderr",
          "text": [
            "loss 0.01759 acc 0.99414: 100%|██████████| 297/297 [00:03<00:00, 80.33it/s]\n",
            "val_loss 0.28237 val_acc 0.90259: 100%|██████████| 53/53 [00:00<00:00, 72.84it/s]\n"
          ]
        },
        {
          "output_type": "stream",
          "name": "stdout",
          "text": [
            "Epoch 10/1000 loss 0.01759 val_loss 0.28237 acc 0.99414 val_acc 0.90259\n"
          ]
        },
        {
          "output_type": "stream",
          "name": "stderr",
          "text": [
            "loss 0.01545 acc 0.99516: 100%|██████████| 297/297 [00:05<00:00, 58.68it/s]\n",
            "val_loss 0.00890 val_acc 0.99528: 100%|██████████| 53/53 [00:01<00:00, 47.81it/s]\n"
          ]
        },
        {
          "output_type": "stream",
          "name": "stdout",
          "text": [
            "Epoch 11/1000 loss 0.01545 val_loss 0.00890 acc 0.99516 val_acc 0.99528\n"
          ]
        },
        {
          "output_type": "stream",
          "name": "stderr",
          "text": [
            "loss 0.01028 acc 0.99726: 100%|██████████| 297/297 [00:04<00:00, 62.70it/s]\n",
            "val_loss 0.03646 val_acc 0.99233: 100%|██████████| 53/53 [00:00<00:00, 75.08it/s]\n"
          ]
        },
        {
          "output_type": "stream",
          "name": "stdout",
          "text": [
            "Epoch 12/1000 loss 0.01028 val_loss 0.03646 acc 0.99726 val_acc 0.99233\n"
          ]
        },
        {
          "output_type": "stream",
          "name": "stderr",
          "text": [
            "loss 0.01580 acc 0.99488: 100%|██████████| 297/297 [00:03<00:00, 81.11it/s]\n",
            "val_loss 0.00985 val_acc 0.99705: 100%|██████████| 53/53 [00:00<00:00, 60.98it/s]\n"
          ]
        },
        {
          "output_type": "stream",
          "name": "stdout",
          "text": [
            "Epoch 13/1000 loss 0.01580 val_loss 0.00985 acc 0.99488 val_acc 0.99705\n"
          ]
        },
        {
          "output_type": "stream",
          "name": "stderr",
          "text": [
            "loss 0.01342 acc 0.99632: 100%|██████████| 297/297 [00:04<00:00, 72.87it/s]\n",
            "val_loss 0.00804 val_acc 0.99823: 100%|██████████| 53/53 [00:01<00:00, 47.93it/s]\n"
          ]
        },
        {
          "output_type": "stream",
          "name": "stdout",
          "text": [
            "Epoch 14/1000 loss 0.01342 val_loss 0.00804 acc 0.99632 val_acc 0.99823\n"
          ]
        },
        {
          "output_type": "stream",
          "name": "stderr",
          "text": [
            "loss 0.00670 acc 0.99832: 100%|██████████| 297/297 [00:05<00:00, 53.86it/s]\n",
            "val_loss 0.04516 val_acc 0.98467: 100%|██████████| 53/53 [00:00<00:00, 58.91it/s]\n"
          ]
        },
        {
          "output_type": "stream",
          "name": "stdout",
          "text": [
            "Epoch 15/1000 loss 0.00670 val_loss 0.04516 acc 0.99832 val_acc 0.98467\n"
          ]
        },
        {
          "output_type": "stream",
          "name": "stderr",
          "text": [
            "loss 0.01982 acc 0.99418: 100%|██████████| 297/297 [00:03<00:00, 80.47it/s]\n",
            "val_loss 0.18405 val_acc 0.93160: 100%|██████████| 53/53 [00:00<00:00, 71.02it/s]\n"
          ]
        },
        {
          "output_type": "stream",
          "name": "stdout",
          "text": [
            "Epoch 16/1000 loss 0.01982 val_loss 0.18405 acc 0.99418 val_acc 0.93160\n"
          ]
        },
        {
          "output_type": "stream",
          "name": "stderr",
          "text": [
            "loss 0.01538 acc 0.99484: 100%|██████████| 297/297 [00:03<00:00, 80.55it/s]\n",
            "val_loss 0.00919 val_acc 0.99764: 100%|██████████| 53/53 [00:00<00:00, 72.42it/s]\n"
          ]
        },
        {
          "output_type": "stream",
          "name": "stdout",
          "text": [
            "Epoch 17/1000 loss 0.01538 val_loss 0.00919 acc 0.99484 val_acc 0.99764\n"
          ]
        },
        {
          "output_type": "stream",
          "name": "stderr",
          "text": [
            "loss 0.00828 acc 0.99716: 100%|██████████| 297/297 [00:05<00:00, 58.41it/s]\n",
            "val_loss 0.00385 val_acc 0.99882: 100%|██████████| 53/53 [00:01<00:00, 47.37it/s]\n"
          ]
        },
        {
          "output_type": "stream",
          "name": "stdout",
          "text": [
            "Epoch 18/1000 loss 0.00828 val_loss 0.00385 acc 0.99716 val_acc 0.99882\n"
          ]
        },
        {
          "output_type": "stream",
          "name": "stderr",
          "text": [
            "loss 0.00563 acc 0.99832: 100%|██████████| 297/297 [00:04<00:00, 66.52it/s]\n",
            "val_loss 0.04862 val_acc 0.98337: 100%|██████████| 53/53 [00:00<00:00, 71.90it/s]\n"
          ]
        },
        {
          "output_type": "stream",
          "name": "stdout",
          "text": [
            "Epoch 19/1000 loss 0.00563 val_loss 0.04862 acc 0.99832 val_acc 0.98337\n"
          ]
        },
        {
          "output_type": "stream",
          "name": "stderr",
          "text": [
            "loss 0.01621 acc 0.99390: 100%|██████████| 297/297 [00:03<00:00, 78.65it/s]\n",
            "val_loss 0.25490 val_acc 0.91097: 100%|██████████| 53/53 [00:00<00:00, 74.83it/s]\n"
          ]
        },
        {
          "output_type": "stream",
          "name": "stdout",
          "text": [
            "Epoch 20/1000 loss 0.01621 val_loss 0.25490 acc 0.99390 val_acc 0.91097\n",
            "Checkpoint guardado en /content/drive/MyDrive/SIS421 prueba dataset 1 test/Checkpoints/checkpoint.pth (Epoch 20)\n"
          ]
        },
        {
          "output_type": "stream",
          "name": "stderr",
          "text": [
            "loss 0.01314 acc 0.99569: 100%|██████████| 297/297 [00:04<00:00, 69.40it/s]\n",
            "val_loss 0.00520 val_acc 0.99882: 100%|██████████| 53/53 [00:01<00:00, 47.71it/s]\n"
          ]
        },
        {
          "output_type": "stream",
          "name": "stdout",
          "text": [
            "Epoch 21/1000 loss 0.01314 val_loss 0.00520 acc 0.99569 val_acc 0.99882\n"
          ]
        },
        {
          "output_type": "stream",
          "name": "stderr",
          "text": [
            "loss 0.00567 acc 0.99821: 100%|██████████| 297/297 [00:05<00:00, 50.38it/s]\n",
            "val_loss 0.00379 val_acc 0.99941: 100%|██████████| 53/53 [00:00<00:00, 60.15it/s]\n"
          ]
        },
        {
          "output_type": "stream",
          "name": "stdout",
          "text": [
            "Epoch 22/1000 loss 0.00567 val_loss 0.00379 acc 0.99821 val_acc 0.99941\n"
          ]
        },
        {
          "output_type": "stream",
          "name": "stderr",
          "text": [
            "loss 0.00645 acc 0.99758: 100%|██████████| 297/297 [00:03<00:00, 80.00it/s]\n",
            "val_loss 0.21631 val_acc 0.93868: 100%|██████████| 53/53 [00:00<00:00, 75.51it/s]\n"
          ]
        },
        {
          "output_type": "stream",
          "name": "stdout",
          "text": [
            "Epoch 23/1000 loss 0.00645 val_loss 0.21631 acc 0.99758 val_acc 0.93868\n"
          ]
        },
        {
          "output_type": "stream",
          "name": "stderr",
          "text": [
            "loss 0.01366 acc 0.99600: 100%|██████████| 297/297 [00:03<00:00, 79.78it/s]\n",
            "val_loss 0.00726 val_acc 0.99764: 100%|██████████| 53/53 [00:00<00:00, 71.63it/s]\n"
          ]
        },
        {
          "output_type": "stream",
          "name": "stdout",
          "text": [
            "Epoch 24/1000 loss 0.01366 val_loss 0.00726 acc 0.99600 val_acc 0.99764\n"
          ]
        },
        {
          "output_type": "stream",
          "name": "stderr",
          "text": [
            "loss 0.00762 acc 0.99769: 100%|██████████| 297/297 [00:05<00:00, 56.81it/s]\n",
            "val_loss 0.00984 val_acc 0.99764: 100%|██████████| 53/53 [00:01<00:00, 49.37it/s]\n"
          ]
        },
        {
          "output_type": "stream",
          "name": "stdout",
          "text": [
            "Epoch 25/1000 loss 0.00762 val_loss 0.00984 acc 0.99769 val_acc 0.99764\n"
          ]
        },
        {
          "output_type": "stream",
          "name": "stderr",
          "text": [
            "loss 0.00587 acc 0.99800: 100%|██████████| 297/297 [00:04<00:00, 61.56it/s]\n",
            "val_loss 0.35690 val_acc 0.89198: 100%|██████████| 53/53 [00:00<00:00, 70.33it/s]\n"
          ]
        },
        {
          "output_type": "stream",
          "name": "stdout",
          "text": [
            "Epoch 26/1000 loss 0.00587 val_loss 0.35690 acc 0.99800 val_acc 0.89198\n"
          ]
        },
        {
          "output_type": "stream",
          "name": "stderr",
          "text": [
            "loss 0.00980 acc 0.99702: 100%|██████████| 297/297 [00:03<00:00, 80.68it/s]\n",
            "val_loss 0.01475 val_acc 0.99458: 100%|██████████| 53/53 [00:00<00:00, 71.76it/s]\n"
          ]
        },
        {
          "output_type": "stream",
          "name": "stdout",
          "text": [
            "Epoch 27/1000 loss 0.00980 val_loss 0.01475 acc 0.99702 val_acc 0.99458\n"
          ]
        },
        {
          "output_type": "stream",
          "name": "stderr",
          "text": [
            "loss 0.01247 acc 0.99579: 100%|██████████| 297/297 [00:04<00:00, 68.91it/s]\n",
            "val_loss 0.00424 val_acc 0.99882: 100%|██████████| 53/53 [00:01<00:00, 50.73it/s]\n"
          ]
        },
        {
          "output_type": "stream",
          "name": "stdout",
          "text": [
            "Epoch 28/1000 loss 0.01247 val_loss 0.00424 acc 0.99579 val_acc 0.99882\n"
          ]
        },
        {
          "output_type": "stream",
          "name": "stderr",
          "text": [
            "loss 0.00858 acc 0.99684: 100%|██████████| 297/297 [00:05<00:00, 52.78it/s]\n",
            "val_loss 0.00476 val_acc 0.99882: 100%|██████████| 53/53 [00:00<00:00, 61.54it/s]\n"
          ]
        },
        {
          "output_type": "stream",
          "name": "stdout",
          "text": [
            "Epoch 29/1000 loss 0.00858 val_loss 0.00476 acc 0.99684 val_acc 0.99882\n"
          ]
        },
        {
          "output_type": "stream",
          "name": "stderr",
          "text": [
            "loss 0.00437 acc 0.99863: 100%|██████████| 297/297 [00:03<00:00, 79.48it/s]\n",
            "val_loss 0.00977 val_acc 0.99705: 100%|██████████| 53/53 [00:00<00:00, 72.37it/s]\n"
          ]
        },
        {
          "output_type": "stream",
          "name": "stdout",
          "text": [
            "Epoch 30/1000 loss 0.00437 val_loss 0.00977 acc 0.99863 val_acc 0.99705\n"
          ]
        },
        {
          "output_type": "stream",
          "name": "stderr",
          "text": [
            "loss 0.00963 acc 0.99674: 100%|██████████| 297/297 [00:03<00:00, 77.96it/s]\n",
            "val_loss 0.01517 val_acc 0.99646: 100%|██████████| 53/53 [00:00<00:00, 69.51it/s]\n"
          ]
        },
        {
          "output_type": "stream",
          "name": "stdout",
          "text": [
            "Epoch 31/1000 loss 0.00963 val_loss 0.01517 acc 0.99674 val_acc 0.99646\n"
          ]
        },
        {
          "output_type": "stream",
          "name": "stderr",
          "text": [
            "loss 0.01043 acc 0.99611: 100%|██████████| 297/297 [00:05<00:00, 55.01it/s]\n",
            "val_loss 0.01694 val_acc 0.99351: 100%|██████████| 53/53 [00:01<00:00, 47.21it/s]\n"
          ]
        },
        {
          "output_type": "stream",
          "name": "stdout",
          "text": [
            "Epoch 32/1000 loss 0.01043 val_loss 0.01694 acc 0.99611 val_acc 0.99351\n"
          ]
        },
        {
          "output_type": "stream",
          "name": "stderr",
          "text": [
            "loss 0.00442 acc 0.99895: 100%|██████████| 297/297 [00:04<00:00, 71.36it/s]\n",
            "val_loss 0.00784 val_acc 0.99646: 100%|██████████| 53/53 [00:00<00:00, 69.20it/s]\n"
          ]
        },
        {
          "output_type": "stream",
          "name": "stdout",
          "text": [
            "Epoch 33/1000 loss 0.00442 val_loss 0.00784 acc 0.99895 val_acc 0.99646\n"
          ]
        },
        {
          "output_type": "stream",
          "name": "stderr",
          "text": [
            "loss 0.00272 acc 0.99926: 100%|██████████| 297/297 [00:03<00:00, 80.49it/s]\n",
            "val_loss 0.00181 val_acc 1.00000: 100%|██████████| 53/53 [00:00<00:00, 70.61it/s]\n"
          ]
        },
        {
          "output_type": "stream",
          "name": "stdout",
          "text": [
            "Epoch 34/1000 loss 0.00272 val_loss 0.00181 acc 0.99926 val_acc 1.00000\n"
          ]
        },
        {
          "output_type": "stream",
          "name": "stderr",
          "text": [
            "loss 0.00180 acc 0.99947: 100%|██████████| 297/297 [00:04<00:00, 66.06it/s]\n",
            "val_loss 0.00177 val_acc 0.99941: 100%|██████████| 53/53 [00:01<00:00, 47.97it/s]\n"
          ]
        },
        {
          "output_type": "stream",
          "name": "stdout",
          "text": [
            "Epoch 35/1000 loss 0.00180 val_loss 0.00177 acc 0.99947 val_acc 0.99941\n"
          ]
        },
        {
          "output_type": "stream",
          "name": "stderr",
          "text": [
            "loss 0.00570 acc 0.99804: 100%|██████████| 297/297 [00:05<00:00, 50.96it/s]\n",
            "val_loss 0.00364 val_acc 0.99882: 100%|██████████| 53/53 [00:00<00:00, 62.26it/s]\n"
          ]
        },
        {
          "output_type": "stream",
          "name": "stdout",
          "text": [
            "Epoch 36/1000 loss 0.00570 val_loss 0.00364 acc 0.99804 val_acc 0.99882\n"
          ]
        },
        {
          "output_type": "stream",
          "name": "stderr",
          "text": [
            "loss 0.01297 acc 0.99614: 100%|██████████| 297/297 [00:03<00:00, 79.74it/s]\n",
            "val_loss 0.00284 val_acc 0.99941: 100%|██████████| 53/53 [00:00<00:00, 68.10it/s]\n"
          ]
        },
        {
          "output_type": "stream",
          "name": "stdout",
          "text": [
            "Epoch 37/1000 loss 0.01297 val_loss 0.00284 acc 0.99614 val_acc 0.99941\n"
          ]
        },
        {
          "output_type": "stream",
          "name": "stderr",
          "text": [
            "loss 0.00922 acc 0.99726: 100%|██████████| 297/297 [00:03<00:00, 78.97it/s]\n",
            "val_loss 0.00759 val_acc 0.99634: 100%|██████████| 53/53 [00:00<00:00, 72.50it/s]\n"
          ]
        },
        {
          "output_type": "stream",
          "name": "stdout",
          "text": [
            "Epoch 38/1000 loss 0.00922 val_loss 0.00759 acc 0.99726 val_acc 0.99634\n"
          ]
        },
        {
          "output_type": "stream",
          "name": "stderr",
          "text": [
            "loss 0.00548 acc 0.99800: 100%|██████████| 297/297 [00:05<00:00, 54.39it/s]\n",
            "val_loss 0.02495 val_acc 0.99292: 100%|██████████| 53/53 [00:01<00:00, 42.25it/s]\n"
          ]
        },
        {
          "output_type": "stream",
          "name": "stdout",
          "text": [
            "Epoch 39/1000 loss 0.00548 val_loss 0.02495 acc 0.99800 val_acc 0.99292\n"
          ]
        },
        {
          "output_type": "stream",
          "name": "stderr",
          "text": [
            "loss 0.00555 acc 0.99863: 100%|██████████| 297/297 [00:04<00:00, 66.53it/s]\n",
            "val_loss 0.00134 val_acc 1.00000: 100%|██████████| 53/53 [00:00<00:00, 73.83it/s]\n"
          ]
        },
        {
          "output_type": "stream",
          "name": "stdout",
          "text": [
            "Epoch 40/1000 loss 0.00555 val_loss 0.00134 acc 0.99863 val_acc 1.00000\n",
            "Checkpoint guardado en /content/drive/MyDrive/SIS421 prueba dataset 1 test/Checkpoints/checkpoint.pth (Epoch 40)\n"
          ]
        },
        {
          "output_type": "stream",
          "name": "stderr",
          "text": [
            "loss 0.00405 acc 0.99839: 100%|██████████| 297/297 [00:03<00:00, 78.63it/s]\n",
            "val_loss 0.01118 val_acc 0.99705: 100%|██████████| 53/53 [00:00<00:00, 68.59it/s]\n"
          ]
        },
        {
          "output_type": "stream",
          "name": "stdout",
          "text": [
            "Epoch 41/1000 loss 0.00405 val_loss 0.01118 acc 0.99839 val_acc 0.99705\n"
          ]
        },
        {
          "output_type": "stream",
          "name": "stderr",
          "text": [
            "loss 0.00898 acc 0.99811: 100%|██████████| 297/297 [00:04<00:00, 64.21it/s]\n",
            "val_loss 0.00432 val_acc 0.99882: 100%|██████████| 53/53 [00:01<00:00, 46.49it/s]\n"
          ]
        },
        {
          "output_type": "stream",
          "name": "stdout",
          "text": [
            "Epoch 42/1000 loss 0.00898 val_loss 0.00432 acc 0.99811 val_acc 0.99882\n"
          ]
        },
        {
          "output_type": "stream",
          "name": "stderr",
          "text": [
            "loss 0.00220 acc 0.99919: 100%|██████████| 297/297 [00:05<00:00, 53.40it/s]\n",
            "val_loss 0.00317 val_acc 0.99941: 100%|██████████| 53/53 [00:00<00:00, 61.63it/s]\n"
          ]
        },
        {
          "output_type": "stream",
          "name": "stdout",
          "text": [
            "Epoch 43/1000 loss 0.00220 val_loss 0.00317 acc 0.99919 val_acc 0.99941\n"
          ]
        },
        {
          "output_type": "stream",
          "name": "stderr",
          "text": [
            "loss 0.00288 acc 0.99895: 100%|██████████| 297/297 [00:03<00:00, 79.07it/s]\n",
            "val_loss 0.00308 val_acc 0.99823: 100%|██████████| 53/53 [00:00<00:00, 69.33it/s]\n"
          ]
        },
        {
          "output_type": "stream",
          "name": "stdout",
          "text": [
            "Epoch 44/1000 loss 0.00288 val_loss 0.00308 acc 0.99895 val_acc 0.99823\n"
          ]
        },
        {
          "output_type": "stream",
          "name": "stderr",
          "text": [
            "loss 0.00327 acc 0.99874: 100%|██████████| 297/297 [00:03<00:00, 79.65it/s]\n",
            "val_loss 0.01071 val_acc 0.99705: 100%|██████████| 53/53 [00:00<00:00, 68.88it/s]\n"
          ]
        },
        {
          "output_type": "stream",
          "name": "stdout",
          "text": [
            "Epoch 45/1000 loss 0.00327 val_loss 0.01071 acc 0.99874 val_acc 0.99705\n"
          ]
        },
        {
          "output_type": "stream",
          "name": "stderr",
          "text": [
            "loss 0.00711 acc 0.99747: 100%|██████████| 297/297 [00:05<00:00, 55.60it/s]\n",
            "val_loss 0.05468 val_acc 0.98160: 100%|██████████| 53/53 [00:01<00:00, 43.89it/s]\n"
          ]
        },
        {
          "output_type": "stream",
          "name": "stdout",
          "text": [
            "Epoch 46/1000 loss 0.00711 val_loss 0.05468 acc 0.99747 val_acc 0.98160\n"
          ]
        },
        {
          "output_type": "stream",
          "name": "stderr",
          "text": [
            "loss 0.00279 acc 0.99905: 100%|██████████| 297/297 [00:04<00:00, 63.99it/s]\n",
            "val_loss 0.00598 val_acc 0.99764: 100%|██████████| 53/53 [00:00<00:00, 72.44it/s]\n"
          ]
        },
        {
          "output_type": "stream",
          "name": "stdout",
          "text": [
            "Epoch 47/1000 loss 0.00279 val_loss 0.00598 acc 0.99905 val_acc 0.99764\n"
          ]
        },
        {
          "output_type": "stream",
          "name": "stderr",
          "text": [
            "loss 0.00165 acc 0.99979: 100%|██████████| 297/297 [00:03<00:00, 76.11it/s]\n",
            "val_loss 0.01454 val_acc 0.99634: 100%|██████████| 53/53 [00:00<00:00, 67.87it/s]\n"
          ]
        },
        {
          "output_type": "stream",
          "name": "stdout",
          "text": [
            "Epoch 48/1000 loss 0.00165 val_loss 0.01454 acc 0.99979 val_acc 0.99634\n"
          ]
        },
        {
          "output_type": "stream",
          "name": "stderr",
          "text": [
            "loss 0.00230 acc 0.99916: 100%|██████████| 297/297 [00:04<00:00, 68.06it/s]\n",
            "val_loss 0.00323 val_acc 0.99941: 100%|██████████| 53/53 [00:01<00:00, 48.05it/s]\n"
          ]
        },
        {
          "output_type": "stream",
          "name": "stdout",
          "text": [
            "Epoch 49/1000 loss 0.00230 val_loss 0.00323 acc 0.99916 val_acc 0.99941\n"
          ]
        },
        {
          "output_type": "stream",
          "name": "stderr",
          "text": [
            "loss 0.00713 acc 0.99758: 100%|██████████| 297/297 [00:05<00:00, 52.01it/s]\n",
            "val_loss 0.00215 val_acc 0.99882: 100%|██████████| 53/53 [00:00<00:00, 61.40it/s]\n"
          ]
        },
        {
          "output_type": "stream",
          "name": "stdout",
          "text": [
            "Epoch 50/1000 loss 0.00713 val_loss 0.00215 acc 0.99758 val_acc 0.99882\n"
          ]
        },
        {
          "output_type": "stream",
          "name": "stderr",
          "text": [
            "loss 0.00373 acc 0.99877: 100%|██████████| 297/297 [00:03<00:00, 77.23it/s]\n",
            "val_loss 0.00748 val_acc 0.99882: 100%|██████████| 53/53 [00:00<00:00, 67.93it/s]\n"
          ]
        },
        {
          "output_type": "stream",
          "name": "stdout",
          "text": [
            "Epoch 51/1000 loss 0.00373 val_loss 0.00748 acc 0.99877 val_acc 0.99882\n"
          ]
        },
        {
          "output_type": "stream",
          "name": "stderr",
          "text": [
            "loss 0.00908 acc 0.99674: 100%|██████████| 297/297 [00:03<00:00, 78.86it/s]\n",
            "val_loss 0.00157 val_acc 0.99882: 100%|██████████| 53/53 [00:00<00:00, 67.83it/s]\n"
          ]
        },
        {
          "output_type": "stream",
          "name": "stdout",
          "text": [
            "Epoch 52/1000 loss 0.00908 val_loss 0.00157 acc 0.99674 val_acc 0.99882\n"
          ]
        },
        {
          "output_type": "stream",
          "name": "stderr",
          "text": [
            "loss 0.00598 acc 0.99811: 100%|██████████| 297/297 [00:05<00:00, 55.64it/s]\n",
            "val_loss 0.00462 val_acc 0.99823: 100%|██████████| 53/53 [00:01<00:00, 39.93it/s]\n"
          ]
        },
        {
          "output_type": "stream",
          "name": "stdout",
          "text": [
            "Epoch 53/1000 loss 0.00598 val_loss 0.00462 acc 0.99811 val_acc 0.99823\n"
          ]
        },
        {
          "output_type": "stream",
          "name": "stderr",
          "text": [
            "loss 0.00192 acc 0.99947: 100%|██████████| 297/297 [00:04<00:00, 71.70it/s]\n",
            "val_loss 0.00658 val_acc 0.99764: 100%|██████████| 53/53 [00:00<00:00, 70.32it/s]\n"
          ]
        },
        {
          "output_type": "stream",
          "name": "stdout",
          "text": [
            "Epoch 54/1000 loss 0.00192 val_loss 0.00658 acc 0.99947 val_acc 0.99764\n"
          ]
        },
        {
          "output_type": "stream",
          "name": "stderr",
          "text": [
            "loss 0.00335 acc 0.99874: 100%|██████████| 297/297 [00:03<00:00, 78.45it/s]\n",
            "val_loss 0.00673 val_acc 0.99693: 100%|██████████| 53/53 [00:00<00:00, 72.53it/s]\n"
          ]
        },
        {
          "output_type": "stream",
          "name": "stdout",
          "text": [
            "Epoch 55/1000 loss 0.00335 val_loss 0.00673 acc 0.99874 val_acc 0.99693\n"
          ]
        },
        {
          "output_type": "stream",
          "name": "stderr",
          "text": [
            "loss 0.00258 acc 0.99940: 100%|██████████| 297/297 [00:04<00:00, 60.82it/s]\n",
            "val_loss 0.00362 val_acc 0.99823: 100%|██████████| 53/53 [00:01<00:00, 47.32it/s]\n"
          ]
        },
        {
          "output_type": "stream",
          "name": "stdout",
          "text": [
            "Epoch 56/1000 loss 0.00258 val_loss 0.00362 acc 0.99940 val_acc 0.99823\n"
          ]
        },
        {
          "output_type": "stream",
          "name": "stderr",
          "text": [
            "loss 0.00729 acc 0.99790: 100%|██████████| 297/297 [00:05<00:00, 59.03it/s]\n",
            "val_loss 0.03914 val_acc 0.99057: 100%|██████████| 53/53 [00:00<00:00, 67.64it/s]\n"
          ]
        },
        {
          "output_type": "stream",
          "name": "stdout",
          "text": [
            "Epoch 57/1000 loss 0.00729 val_loss 0.03914 acc 0.99790 val_acc 0.99057\n"
          ]
        },
        {
          "output_type": "stream",
          "name": "stderr",
          "text": [
            "loss 0.00539 acc 0.99842: 100%|██████████| 297/297 [00:03<00:00, 76.88it/s]\n",
            "val_loss 0.00048 val_acc 1.00000: 100%|██████████| 53/53 [00:00<00:00, 66.13it/s]\n"
          ]
        },
        {
          "output_type": "stream",
          "name": "stdout",
          "text": [
            "Epoch 58/1000 loss 0.00539 val_loss 0.00048 acc 0.99842 val_acc 1.00000\n"
          ]
        },
        {
          "output_type": "stream",
          "name": "stderr",
          "text": [
            "loss 0.00202 acc 0.99947: 100%|██████████| 297/297 [00:04<00:00, 69.93it/s]\n",
            "val_loss 0.00361 val_acc 0.99882: 100%|██████████| 53/53 [00:01<00:00, 47.76it/s]\n"
          ]
        },
        {
          "output_type": "stream",
          "name": "stdout",
          "text": [
            "Epoch 59/1000 loss 0.00202 val_loss 0.00361 acc 0.99947 val_acc 0.99882\n"
          ]
        },
        {
          "output_type": "stream",
          "name": "stderr",
          "text": [
            "loss 0.00239 acc 0.99947: 100%|██████████| 297/297 [00:05<00:00, 50.93it/s]\n",
            "val_loss 0.00135 val_acc 0.99941: 100%|██████████| 53/53 [00:00<00:00, 59.92it/s]\n"
          ]
        },
        {
          "output_type": "stream",
          "name": "stdout",
          "text": [
            "Epoch 60/1000 loss 0.00239 val_loss 0.00135 acc 0.99947 val_acc 0.99941\n",
            "Checkpoint guardado en /content/drive/MyDrive/SIS421 prueba dataset 1 test/Checkpoints/checkpoint.pth (Epoch 60)\n"
          ]
        },
        {
          "output_type": "stream",
          "name": "stderr",
          "text": [
            "loss 0.00333 acc 0.99905: 100%|██████████| 297/297 [00:03<00:00, 77.30it/s]\n",
            "val_loss 0.01156 val_acc 0.99646: 100%|██████████| 53/53 [00:00<00:00, 69.60it/s]\n"
          ]
        },
        {
          "output_type": "stream",
          "name": "stdout",
          "text": [
            "Epoch 61/1000 loss 0.00333 val_loss 0.01156 acc 0.99905 val_acc 0.99646\n"
          ]
        },
        {
          "output_type": "stream",
          "name": "stderr",
          "text": [
            "loss 0.00424 acc 0.99863: 100%|██████████| 297/297 [00:03<00:00, 77.57it/s]\n",
            "val_loss 0.02713 val_acc 0.98927: 100%|██████████| 53/53 [00:00<00:00, 65.90it/s]\n"
          ]
        },
        {
          "output_type": "stream",
          "name": "stdout",
          "text": [
            "Epoch 62/1000 loss 0.00424 val_loss 0.02713 acc 0.99863 val_acc 0.98927\n"
          ]
        },
        {
          "output_type": "stream",
          "name": "stderr",
          "text": [
            "loss 0.00720 acc 0.99842: 100%|██████████| 297/297 [00:05<00:00, 52.43it/s]\n",
            "val_loss 0.03113 val_acc 0.98927: 100%|██████████| 53/53 [00:01<00:00, 43.53it/s]\n"
          ]
        },
        {
          "output_type": "stream",
          "name": "stdout",
          "text": [
            "Epoch 63/1000 loss 0.00720 val_loss 0.03113 acc 0.99842 val_acc 0.98927\n"
          ]
        },
        {
          "output_type": "stream",
          "name": "stderr",
          "text": [
            "loss 0.01591 acc 0.99607: 100%|██████████| 297/297 [00:04<00:00, 71.79it/s]\n",
            "val_loss 0.01194 val_acc 0.99587: 100%|██████████| 53/53 [00:00<00:00, 70.03it/s]\n"
          ]
        },
        {
          "output_type": "stream",
          "name": "stdout",
          "text": [
            "Epoch 64/1000 loss 0.01591 val_loss 0.01194 acc 0.99607 val_acc 0.99587\n"
          ]
        },
        {
          "output_type": "stream",
          "name": "stderr",
          "text": [
            "loss 0.00250 acc 0.99916: 100%|██████████| 297/297 [00:04<00:00, 72.87it/s]\n",
            "val_loss 0.00235 val_acc 0.99941: 100%|██████████| 53/53 [00:00<00:00, 68.79it/s]\n"
          ]
        },
        {
          "output_type": "stream",
          "name": "stdout",
          "text": [
            "Epoch 65/1000 loss 0.00250 val_loss 0.00235 acc 0.99916 val_acc 0.99941\n"
          ]
        },
        {
          "output_type": "stream",
          "name": "stderr",
          "text": [
            "loss 0.00185 acc 0.99947: 100%|██████████| 297/297 [00:05<00:00, 57.86it/s]\n",
            "val_loss 0.00181 val_acc 0.99941: 100%|██████████| 53/53 [00:01<00:00, 43.91it/s]\n"
          ]
        },
        {
          "output_type": "stream",
          "name": "stdout",
          "text": [
            "Epoch 66/1000 loss 0.00185 val_loss 0.00181 acc 0.99947 val_acc 0.99941\n"
          ]
        },
        {
          "output_type": "stream",
          "name": "stderr",
          "text": [
            "loss 0.00137 acc 0.99989: 100%|██████████| 297/297 [00:05<00:00, 58.20it/s]\n",
            "val_loss 0.00829 val_acc 0.99634: 100%|██████████| 53/53 [00:00<00:00, 67.22it/s]\n"
          ]
        },
        {
          "output_type": "stream",
          "name": "stdout",
          "text": [
            "Epoch 67/1000 loss 0.00137 val_loss 0.00829 acc 0.99989 val_acc 0.99634\n"
          ]
        },
        {
          "output_type": "stream",
          "name": "stderr",
          "text": [
            "loss 0.00044 acc 1.00000: 100%|██████████| 297/297 [00:03<00:00, 77.56it/s]\n",
            "val_loss 0.00460 val_acc 0.99634: 100%|██████████| 53/53 [00:00<00:00, 67.24it/s]\n"
          ]
        },
        {
          "output_type": "stream",
          "name": "stdout",
          "text": [
            "Epoch 68/1000 loss 0.00044 val_loss 0.00460 acc 1.00000 val_acc 0.99634\n"
          ]
        },
        {
          "output_type": "stream",
          "name": "stderr",
          "text": [
            "loss 0.00206 acc 0.99951: 100%|██████████| 297/297 [00:04<00:00, 71.66it/s]\n",
            "val_loss 0.00941 val_acc 0.99693: 100%|██████████| 53/53 [00:01<00:00, 49.19it/s]\n"
          ]
        },
        {
          "output_type": "stream",
          "name": "stdout",
          "text": [
            "Epoch 69/1000 loss 0.00206 val_loss 0.00941 acc 0.99951 val_acc 0.99693\n"
          ]
        },
        {
          "output_type": "stream",
          "name": "stderr",
          "text": [
            "loss 0.00359 acc 0.99884: 100%|██████████| 297/297 [00:05<00:00, 50.74it/s]\n",
            "val_loss 0.00758 val_acc 0.99764: 100%|██████████| 53/53 [00:00<00:00, 57.95it/s]\n"
          ]
        },
        {
          "output_type": "stream",
          "name": "stdout",
          "text": [
            "Epoch 70/1000 loss 0.00359 val_loss 0.00758 acc 0.99884 val_acc 0.99764\n"
          ]
        },
        {
          "output_type": "stream",
          "name": "stderr",
          "text": [
            "loss 0.00958 acc 0.99737: 100%|██████████| 297/297 [00:03<00:00, 75.79it/s]\n",
            "val_loss 0.00399 val_acc 0.99882: 100%|██████████| 53/53 [00:00<00:00, 73.30it/s]\n"
          ]
        },
        {
          "output_type": "stream",
          "name": "stdout",
          "text": [
            "Epoch 71/1000 loss 0.00958 val_loss 0.00399 acc 0.99737 val_acc 0.99882\n"
          ]
        },
        {
          "output_type": "stream",
          "name": "stderr",
          "text": [
            "loss 0.00280 acc 0.99874: 100%|██████████| 297/297 [00:03<00:00, 77.65it/s]\n",
            "val_loss 0.00060 val_acc 1.00000: 100%|██████████| 53/53 [00:00<00:00, 71.50it/s]\n"
          ]
        },
        {
          "output_type": "stream",
          "name": "stdout",
          "text": [
            "Epoch 72/1000 loss 0.00280 val_loss 0.00060 acc 0.99874 val_acc 1.00000\n"
          ]
        },
        {
          "output_type": "stream",
          "name": "stderr",
          "text": [
            "loss 0.00244 acc 0.99930: 100%|██████████| 297/297 [00:05<00:00, 52.63it/s]\n",
            "val_loss 0.00216 val_acc 0.99882: 100%|██████████| 53/53 [00:01<00:00, 43.31it/s]\n"
          ]
        },
        {
          "output_type": "stream",
          "name": "stdout",
          "text": [
            "Epoch 73/1000 loss 0.00244 val_loss 0.00216 acc 0.99930 val_acc 0.99882\n"
          ]
        },
        {
          "output_type": "stream",
          "name": "stderr",
          "text": [
            "loss 0.00450 acc 0.99874: 100%|██████████| 297/297 [00:04<00:00, 62.70it/s]\n",
            "val_loss 0.00488 val_acc 0.99823: 100%|██████████| 53/53 [00:00<00:00, 72.95it/s] \n"
          ]
        },
        {
          "output_type": "stream",
          "name": "stdout",
          "text": [
            "Epoch 74/1000 loss 0.00450 val_loss 0.00488 acc 0.99874 val_acc 0.99823\n"
          ]
        },
        {
          "output_type": "stream",
          "name": "stderr",
          "text": [
            "loss 0.00221 acc 0.99937: 100%|██████████| 297/297 [00:03<00:00, 75.51it/s]\n",
            "val_loss 0.00086 val_acc 1.00000: 100%|██████████| 53/53 [00:00<00:00, 70.39it/s]\n"
          ]
        },
        {
          "output_type": "stream",
          "name": "stdout",
          "text": [
            "Epoch 75/1000 loss 0.00221 val_loss 0.00086 acc 0.99937 val_acc 1.00000\n"
          ]
        },
        {
          "output_type": "stream",
          "name": "stderr",
          "text": [
            "loss 0.00066 acc 0.99979: 100%|██████████| 297/297 [00:04<00:00, 61.59it/s]\n",
            "val_loss 0.00061 val_acc 1.00000: 100%|██████████| 53/53 [00:01<00:00, 49.32it/s]\n"
          ]
        },
        {
          "output_type": "stream",
          "name": "stdout",
          "text": [
            "Epoch 76/1000 loss 0.00066 val_loss 0.00061 acc 0.99979 val_acc 1.00000\n"
          ]
        },
        {
          "output_type": "stream",
          "name": "stderr",
          "text": [
            "loss 0.00060 acc 0.99989: 100%|██████████| 297/297 [00:06<00:00, 49.00it/s]\n",
            "val_loss 0.00428 val_acc 0.99823: 100%|██████████| 53/53 [00:00<00:00, 58.69it/s]\n"
          ]
        },
        {
          "output_type": "stream",
          "name": "stdout",
          "text": [
            "Epoch 77/1000 loss 0.00060 val_loss 0.00428 acc 0.99989 val_acc 0.99823\n"
          ]
        },
        {
          "output_type": "stream",
          "name": "stderr",
          "text": [
            "loss 0.00098 acc 0.99979: 100%|██████████| 297/297 [00:03<00:00, 75.82it/s]\n",
            "val_loss 0.00073 val_acc 1.00000: 100%|██████████| 53/53 [00:00<00:00, 68.08it/s]\n"
          ]
        },
        {
          "output_type": "stream",
          "name": "stdout",
          "text": [
            "Epoch 78/1000 loss 0.00098 val_loss 0.00073 acc 0.99979 val_acc 1.00000\n"
          ]
        },
        {
          "output_type": "stream",
          "name": "stderr",
          "text": [
            "loss 0.00105 acc 0.99961: 100%|██████████| 297/297 [00:03<00:00, 76.70it/s]\n",
            "val_loss 0.00556 val_acc 0.99811: 100%|██████████| 53/53 [00:00<00:00, 67.28it/s]\n"
          ]
        },
        {
          "output_type": "stream",
          "name": "stdout",
          "text": [
            "Epoch 79/1000 loss 0.00105 val_loss 0.00556 acc 0.99961 val_acc 0.99811\n"
          ]
        },
        {
          "output_type": "stream",
          "name": "stderr",
          "text": [
            "loss 0.00504 acc 0.99863: 100%|██████████| 297/297 [00:05<00:00, 53.22it/s]\n",
            "val_loss 0.00524 val_acc 0.99693: 100%|██████████| 53/53 [00:01<00:00, 42.24it/s]\n"
          ]
        },
        {
          "output_type": "stream",
          "name": "stdout",
          "text": [
            "Epoch 80/1000 loss 0.00504 val_loss 0.00524 acc 0.99863 val_acc 0.99693\n",
            "Checkpoint guardado en /content/drive/MyDrive/SIS421 prueba dataset 1 test/Checkpoints/checkpoint.pth (Epoch 80)\n"
          ]
        },
        {
          "output_type": "stream",
          "name": "stderr",
          "text": [
            "loss 0.00242 acc 0.99926: 100%|██████████| 297/297 [00:04<00:00, 61.80it/s]\n",
            "val_loss 0.00629 val_acc 0.99752: 100%|██████████| 53/53 [00:00<00:00, 66.66it/s]\n"
          ]
        },
        {
          "output_type": "stream",
          "name": "stdout",
          "text": [
            "Epoch 81/1000 loss 0.00242 val_loss 0.00629 acc 0.99926 val_acc 0.99752\n"
          ]
        },
        {
          "output_type": "stream",
          "name": "stderr",
          "text": [
            "loss 0.00305 acc 0.99888: 100%|██████████| 297/297 [00:03<00:00, 75.35it/s]\n",
            "val_loss 0.00201 val_acc 0.99941: 100%|██████████| 53/53 [00:00<00:00, 67.03it/s]\n"
          ]
        },
        {
          "output_type": "stream",
          "name": "stdout",
          "text": [
            "Epoch 82/1000 loss 0.00305 val_loss 0.00201 acc 0.99888 val_acc 0.99941\n"
          ]
        },
        {
          "output_type": "stream",
          "name": "stderr",
          "text": [
            "loss 0.00231 acc 0.99926: 100%|██████████| 297/297 [00:04<00:00, 60.03it/s]\n",
            "val_loss 0.07063 val_acc 0.98691: 100%|██████████| 53/53 [00:01<00:00, 44.81it/s]\n"
          ]
        },
        {
          "output_type": "stream",
          "name": "stdout",
          "text": [
            "Epoch 83/1000 loss 0.00231 val_loss 0.07063 acc 0.99926 val_acc 0.98691\n"
          ]
        },
        {
          "output_type": "stream",
          "name": "stderr",
          "text": [
            "loss 0.00402 acc 0.99884: 100%|██████████| 297/297 [00:05<00:00, 57.00it/s]\n",
            "val_loss 0.00888 val_acc 0.99764: 100%|██████████| 53/53 [00:00<00:00, 67.38it/s]\n"
          ]
        },
        {
          "output_type": "stream",
          "name": "stdout",
          "text": [
            "Epoch 84/1000 loss 0.00402 val_loss 0.00888 acc 0.99884 val_acc 0.99764\n"
          ]
        },
        {
          "output_type": "stream",
          "name": "stderr",
          "text": [
            "loss 0.00683 acc 0.99762: 100%|██████████| 297/297 [00:03<00:00, 74.33it/s]\n",
            "val_loss 0.00819 val_acc 0.99705: 100%|██████████| 53/53 [00:00<00:00, 67.96it/s]\n"
          ]
        },
        {
          "output_type": "stream",
          "name": "stdout",
          "text": [
            "Epoch 85/1000 loss 0.00683 val_loss 0.00819 acc 0.99762 val_acc 0.99705\n"
          ]
        },
        {
          "output_type": "stream",
          "name": "stderr",
          "text": [
            "loss 0.00550 acc 0.99811: 100%|██████████| 297/297 [00:04<00:00, 69.22it/s]\n",
            "val_loss 0.00398 val_acc 0.99764: 100%|██████████| 53/53 [00:01<00:00, 48.42it/s]\n"
          ]
        },
        {
          "output_type": "stream",
          "name": "stdout",
          "text": [
            "Epoch 86/1000 loss 0.00550 val_loss 0.00398 acc 0.99811 val_acc 0.99764\n"
          ]
        },
        {
          "output_type": "stream",
          "name": "stderr",
          "text": [
            "loss 0.00108 acc 0.99968: 100%|██████████| 297/297 [00:05<00:00, 52.02it/s]\n",
            "val_loss 0.00612 val_acc 0.99823: 100%|██████████| 53/53 [00:00<00:00, 53.97it/s]\n"
          ]
        },
        {
          "output_type": "stream",
          "name": "stdout",
          "text": [
            "Epoch 87/1000 loss 0.00108 val_loss 0.00612 acc 0.99968 val_acc 0.99823\n"
          ]
        },
        {
          "output_type": "stream",
          "name": "stderr",
          "text": [
            "loss 0.00116 acc 0.99958: 100%|██████████| 297/297 [00:03<00:00, 76.80it/s]\n",
            "val_loss 0.00629 val_acc 0.99882: 100%|██████████| 53/53 [00:00<00:00, 71.78it/s]\n"
          ]
        },
        {
          "output_type": "stream",
          "name": "stdout",
          "text": [
            "Epoch 88/1000 loss 0.00116 val_loss 0.00629 acc 0.99958 val_acc 0.99882\n"
          ]
        },
        {
          "output_type": "stream",
          "name": "stderr",
          "text": [
            "loss 0.00153 acc 0.99947: 100%|██████████| 297/297 [00:03<00:00, 74.38it/s]\n",
            "val_loss 0.00745 val_acc 0.99764: 100%|██████████| 53/53 [00:00<00:00, 71.65it/s]\n"
          ]
        },
        {
          "output_type": "stream",
          "name": "stdout",
          "text": [
            "Epoch 89/1000 loss 0.00153 val_loss 0.00745 acc 0.99947 val_acc 0.99764\n"
          ]
        },
        {
          "output_type": "stream",
          "name": "stderr",
          "text": [
            "loss 0.00455 acc 0.99870: 100%|██████████| 297/297 [00:05<00:00, 53.20it/s]\n",
            "val_loss 0.00366 val_acc 0.99941: 100%|██████████| 53/53 [00:01<00:00, 43.52it/s]\n"
          ]
        },
        {
          "output_type": "stream",
          "name": "stdout",
          "text": [
            "Epoch 90/1000 loss 0.00455 val_loss 0.00366 acc 0.99870 val_acc 0.99941\n"
          ]
        },
        {
          "output_type": "stream",
          "name": "stderr",
          "text": [
            "loss 0.00746 acc 0.99811: 100%|██████████| 297/297 [00:04<00:00, 67.49it/s]\n",
            "val_loss 0.02438 val_acc 0.99399: 100%|██████████| 53/53 [00:00<00:00, 64.64it/s]\n"
          ]
        },
        {
          "output_type": "stream",
          "name": "stdout",
          "text": [
            "Epoch 91/1000 loss 0.00746 val_loss 0.02438 acc 0.99811 val_acc 0.99399\n"
          ]
        },
        {
          "output_type": "stream",
          "name": "stderr",
          "text": [
            "loss 0.00361 acc 0.99856: 100%|██████████| 297/297 [00:03<00:00, 75.53it/s]\n",
            "val_loss 0.00367 val_acc 0.99882: 100%|██████████| 53/53 [00:00<00:00, 65.90it/s]\n"
          ]
        },
        {
          "output_type": "stream",
          "name": "stdout",
          "text": [
            "Epoch 92/1000 loss 0.00361 val_loss 0.00367 acc 0.99856 val_acc 0.99882\n"
          ]
        },
        {
          "output_type": "stream",
          "name": "stderr",
          "text": [
            "loss 0.00127 acc 0.99968: 100%|██████████| 297/297 [00:05<00:00, 58.75it/s]\n",
            "val_loss 0.00173 val_acc 0.99941: 100%|██████████| 53/53 [00:01<00:00, 46.97it/s]\n"
          ]
        },
        {
          "output_type": "stream",
          "name": "stdout",
          "text": [
            "Epoch 93/1000 loss 0.00127 val_loss 0.00173 acc 0.99968 val_acc 0.99941\n"
          ]
        },
        {
          "output_type": "stream",
          "name": "stderr",
          "text": [
            "loss 0.00090 acc 0.99968: 100%|██████████| 297/297 [00:05<00:00, 53.49it/s]\n",
            "val_loss 0.00019 val_acc 1.00000: 100%|██████████| 53/53 [00:00<00:00, 68.33it/s]\n"
          ]
        },
        {
          "output_type": "stream",
          "name": "stdout",
          "text": [
            "Epoch 94/1000 loss 0.00090 val_loss 0.00019 acc 0.99968 val_acc 1.00000\n"
          ]
        },
        {
          "output_type": "stream",
          "name": "stderr",
          "text": [
            "loss 0.00317 acc 0.99916: 100%|██████████| 297/297 [00:03<00:00, 76.41it/s]\n",
            "val_loss 0.00150 val_acc 0.99941: 100%|██████████| 53/53 [00:00<00:00, 67.72it/s]\n"
          ]
        },
        {
          "output_type": "stream",
          "name": "stdout",
          "text": [
            "Epoch 95/1000 loss 0.00317 val_loss 0.00150 acc 0.99916 val_acc 0.99941\n"
          ]
        },
        {
          "output_type": "stream",
          "name": "stderr",
          "text": [
            "loss 0.00175 acc 0.99937: 100%|██████████| 297/297 [00:03<00:00, 75.62it/s]\n",
            "val_loss 0.00353 val_acc 0.99823: 100%|██████████| 53/53 [00:01<00:00, 43.27it/s]\n"
          ]
        },
        {
          "output_type": "stream",
          "name": "stdout",
          "text": [
            "Epoch 96/1000 loss 0.00175 val_loss 0.00353 acc 0.99937 val_acc 0.99823\n"
          ]
        },
        {
          "output_type": "stream",
          "name": "stderr",
          "text": [
            "loss 0.00102 acc 0.99958: 100%|██████████| 297/297 [00:05<00:00, 52.47it/s]\n",
            "val_loss 0.00026 val_acc 1.00000: 100%|██████████| 53/53 [00:01<00:00, 46.71it/s]\n"
          ]
        },
        {
          "output_type": "stream",
          "name": "stdout",
          "text": [
            "Epoch 97/1000 loss 0.00102 val_loss 0.00026 acc 0.99958 val_acc 1.00000\n"
          ]
        },
        {
          "output_type": "stream",
          "name": "stderr",
          "text": [
            "loss 0.00235 acc 0.99930: 100%|██████████| 297/297 [00:04<00:00, 71.81it/s]\n",
            "val_loss 0.00112 val_acc 0.99941: 100%|██████████| 53/53 [00:00<00:00, 72.06it/s]\n"
          ]
        },
        {
          "output_type": "stream",
          "name": "stdout",
          "text": [
            "Epoch 98/1000 loss 0.00235 val_loss 0.00112 acc 0.99930 val_acc 0.99941\n"
          ]
        },
        {
          "output_type": "stream",
          "name": "stderr",
          "text": [
            "loss 0.00547 acc 0.99874: 100%|██████████| 297/297 [00:03<00:00, 74.73it/s]\n",
            "val_loss 0.03572 val_acc 0.98821: 100%|██████████| 53/53 [00:00<00:00, 63.85it/s]\n"
          ]
        },
        {
          "output_type": "stream",
          "name": "stdout",
          "text": [
            "Epoch 99/1000 loss 0.00547 val_loss 0.03572 acc 0.99874 val_acc 0.98821\n"
          ]
        },
        {
          "output_type": "stream",
          "name": "stderr",
          "text": [
            "loss 0.00409 acc 0.99895: 100%|██████████| 297/297 [00:05<00:00, 54.04it/s]\n",
            "val_loss 0.00473 val_acc 0.99823: 100%|██████████| 53/53 [00:01<00:00, 43.35it/s]\n"
          ]
        },
        {
          "output_type": "stream",
          "name": "stdout",
          "text": [
            "Epoch 100/1000 loss 0.00409 val_loss 0.00473 acc 0.99895 val_acc 0.99823\n",
            "Checkpoint guardado en /content/drive/MyDrive/SIS421 prueba dataset 1 test/Checkpoints/checkpoint.pth (Epoch 100)\n"
          ]
        },
        {
          "output_type": "stream",
          "name": "stderr",
          "text": [
            "loss 0.00202 acc 0.99947: 100%|██████████| 297/297 [00:04<00:00, 66.26it/s]\n",
            "val_loss 0.00232 val_acc 0.99941: 100%|██████████| 53/53 [00:00<00:00, 63.42it/s]\n"
          ]
        },
        {
          "output_type": "stream",
          "name": "stdout",
          "text": [
            "Epoch 101/1000 loss 0.00202 val_loss 0.00232 acc 0.99947 val_acc 0.99941\n"
          ]
        },
        {
          "output_type": "stream",
          "name": "stderr",
          "text": [
            "loss 0.00120 acc 0.99968: 100%|██████████| 297/297 [00:03<00:00, 75.43it/s]\n",
            "val_loss 0.00364 val_acc 0.99882: 100%|██████████| 53/53 [00:00<00:00, 66.27it/s]\n"
          ]
        },
        {
          "output_type": "stream",
          "name": "stdout",
          "text": [
            "Epoch 102/1000 loss 0.00120 val_loss 0.00364 acc 0.99968 val_acc 0.99882\n"
          ]
        },
        {
          "output_type": "stream",
          "name": "stderr",
          "text": [
            "loss 0.00161 acc 0.99937: 100%|██████████| 297/297 [00:04<00:00, 60.02it/s]\n",
            "val_loss 0.00365 val_acc 0.99882: 100%|██████████| 53/53 [00:01<00:00, 45.79it/s]\n"
          ]
        },
        {
          "output_type": "stream",
          "name": "stdout",
          "text": [
            "Epoch 103/1000 loss 0.00161 val_loss 0.00365 acc 0.99937 val_acc 0.99882\n"
          ]
        },
        {
          "output_type": "stream",
          "name": "stderr",
          "text": [
            "loss 0.00043 acc 0.99989: 100%|██████████| 297/297 [00:05<00:00, 51.62it/s]\n",
            "val_loss 0.00021 val_acc 1.00000: 100%|██████████| 53/53 [00:00<00:00, 57.03it/s]\n"
          ]
        },
        {
          "output_type": "stream",
          "name": "stdout",
          "text": [
            "Epoch 104/1000 loss 0.00043 val_loss 0.00021 acc 0.99989 val_acc 1.00000\n"
          ]
        },
        {
          "output_type": "stream",
          "name": "stderr",
          "text": [
            "loss 0.00085 acc 0.99979: 100%|██████████| 297/297 [00:03<00:00, 75.33it/s]\n",
            "val_loss 0.00177 val_acc 0.99941: 100%|██████████| 53/53 [00:00<00:00, 70.53it/s]\n"
          ]
        },
        {
          "output_type": "stream",
          "name": "stdout",
          "text": [
            "Epoch 105/1000 loss 0.00085 val_loss 0.00177 acc 0.99979 val_acc 0.99941\n"
          ]
        },
        {
          "output_type": "stream",
          "name": "stderr",
          "text": [
            "loss 0.00293 acc 0.99947: 100%|██████████| 297/297 [00:03<00:00, 74.69it/s]\n",
            "val_loss 0.00018 val_acc 1.00000: 100%|██████████| 53/53 [00:00<00:00, 64.84it/s]\n"
          ]
        },
        {
          "output_type": "stream",
          "name": "stdout",
          "text": [
            "Epoch 106/1000 loss 0.00293 val_loss 0.00018 acc 0.99947 val_acc 1.00000\n"
          ]
        },
        {
          "output_type": "stream",
          "name": "stderr",
          "text": [
            "loss 0.00474 acc 0.99916: 100%|██████████| 297/297 [00:05<00:00, 51.82it/s]\n",
            "val_loss 0.00081 val_acc 0.99941: 100%|██████████| 53/53 [00:01<00:00, 41.11it/s]\n"
          ]
        },
        {
          "output_type": "stream",
          "name": "stdout",
          "text": [
            "Epoch 107/1000 loss 0.00474 val_loss 0.00081 acc 0.99916 val_acc 0.99941\n"
          ]
        },
        {
          "output_type": "stream",
          "name": "stderr",
          "text": [
            "loss 0.00389 acc 0.99884: 100%|██████████| 297/297 [00:04<00:00, 70.36it/s]\n",
            "val_loss 0.01917 val_acc 0.99469: 100%|██████████| 53/53 [00:00<00:00, 68.69it/s]\n"
          ]
        },
        {
          "output_type": "stream",
          "name": "stdout",
          "text": [
            "Epoch 108/1000 loss 0.00389 val_loss 0.01917 acc 0.99884 val_acc 0.99469\n"
          ]
        },
        {
          "output_type": "stream",
          "name": "stderr",
          "text": [
            "loss 0.00228 acc 0.99926: 100%|██████████| 297/297 [00:04<00:00, 71.76it/s]\n",
            "val_loss 0.00250 val_acc 0.99941: 100%|██████████| 53/53 [00:00<00:00, 64.25it/s]\n"
          ]
        },
        {
          "output_type": "stream",
          "name": "stdout",
          "text": [
            "Epoch 109/1000 loss 0.00228 val_loss 0.00250 acc 0.99926 val_acc 0.99941\n"
          ]
        },
        {
          "output_type": "stream",
          "name": "stderr",
          "text": [
            "loss 0.00313 acc 0.99874: 100%|██████████| 297/297 [00:05<00:00, 56.09it/s]\n",
            "val_loss 0.02500 val_acc 0.99116: 100%|██████████| 53/53 [00:01<00:00, 46.80it/s]\n"
          ]
        },
        {
          "output_type": "stream",
          "name": "stdout",
          "text": [
            "Epoch 110/1000 loss 0.00313 val_loss 0.02500 acc 0.99874 val_acc 0.99116\n"
          ]
        },
        {
          "output_type": "stream",
          "name": "stderr",
          "text": [
            "loss 0.00147 acc 0.99947: 100%|██████████| 297/297 [00:04<00:00, 60.95it/s]\n",
            "val_loss 0.00359 val_acc 0.99882: 100%|██████████| 53/53 [00:00<00:00, 68.97it/s]\n"
          ]
        },
        {
          "output_type": "stream",
          "name": "stdout",
          "text": [
            "Epoch 111/1000 loss 0.00147 val_loss 0.00359 acc 0.99947 val_acc 0.99882\n"
          ]
        },
        {
          "output_type": "stream",
          "name": "stderr",
          "text": [
            "loss 0.00060 acc 0.99979: 100%|██████████| 297/297 [00:04<00:00, 74.13it/s]\n",
            "val_loss 0.00140 val_acc 0.99941: 100%|██████████| 53/53 [00:00<00:00, 64.26it/s]\n"
          ]
        },
        {
          "output_type": "stream",
          "name": "stdout",
          "text": [
            "Epoch 112/1000 loss 0.00060 val_loss 0.00140 acc 0.99979 val_acc 0.99941\n"
          ]
        },
        {
          "output_type": "stream",
          "name": "stderr",
          "text": [
            "loss 0.00265 acc 0.99958: 100%|██████████| 297/297 [00:04<00:00, 61.07it/s]\n",
            "val_loss 0.01183 val_acc 0.99646: 100%|██████████| 53/53 [00:01<00:00, 47.24it/s]\n"
          ]
        },
        {
          "output_type": "stream",
          "name": "stdout",
          "text": [
            "Epoch 113/1000 loss 0.00265 val_loss 0.01183 acc 0.99958 val_acc 0.99646\n"
          ]
        },
        {
          "output_type": "stream",
          "name": "stderr",
          "text": [
            "loss 0.00048 acc 0.99989: 100%|██████████| 297/297 [00:06<00:00, 48.93it/s]\n",
            "val_loss 0.00104 val_acc 0.99941: 100%|██████████| 53/53 [00:00<00:00, 63.31it/s]\n"
          ]
        },
        {
          "output_type": "stream",
          "name": "stdout",
          "text": [
            "Epoch 114/1000 loss 0.00048 val_loss 0.00104 acc 0.99989 val_acc 0.99941\n"
          ]
        },
        {
          "output_type": "stream",
          "name": "stderr",
          "text": [
            "loss 0.00154 acc 0.99968: 100%|██████████| 297/297 [00:04<00:00, 72.40it/s]\n",
            "val_loss 0.00039 val_acc 1.00000: 100%|██████████| 53/53 [00:00<00:00, 67.08it/s]\n"
          ]
        },
        {
          "output_type": "stream",
          "name": "stdout",
          "text": [
            "Epoch 115/1000 loss 0.00154 val_loss 0.00039 acc 0.99968 val_acc 1.00000\n"
          ]
        },
        {
          "output_type": "stream",
          "name": "stderr",
          "text": [
            "loss 0.00118 acc 0.99979: 100%|██████████| 297/297 [00:03<00:00, 74.33it/s]\n",
            "val_loss 0.00029 val_acc 1.00000: 100%|██████████| 53/53 [00:01<00:00, 49.65it/s]\n"
          ]
        },
        {
          "output_type": "stream",
          "name": "stdout",
          "text": [
            "Epoch 116/1000 loss 0.00118 val_loss 0.00029 acc 0.99979 val_acc 1.00000\n"
          ]
        },
        {
          "output_type": "stream",
          "name": "stderr",
          "text": [
            "loss 0.00100 acc 0.99968: 100%|██████████| 297/297 [00:05<00:00, 51.03it/s]\n",
            "val_loss 0.02412 val_acc 0.99634: 100%|██████████| 53/53 [00:01<00:00, 47.76it/s]\n"
          ]
        },
        {
          "output_type": "stream",
          "name": "stdout",
          "text": [
            "Epoch 117/1000 loss 0.00100 val_loss 0.02412 acc 0.99968 val_acc 0.99634\n"
          ]
        },
        {
          "output_type": "stream",
          "name": "stderr",
          "text": [
            "loss 0.00115 acc 0.99968: 100%|██████████| 297/297 [00:04<00:00, 72.57it/s]\n",
            "val_loss 0.00026 val_acc 1.00000: 100%|██████████| 53/53 [00:00<00:00, 67.51it/s]\n"
          ]
        },
        {
          "output_type": "stream",
          "name": "stdout",
          "text": [
            "Epoch 118/1000 loss 0.00115 val_loss 0.00026 acc 0.99968 val_acc 1.00000\n"
          ]
        },
        {
          "output_type": "stream",
          "name": "stderr",
          "text": [
            "loss 0.00273 acc 0.99895: 100%|██████████| 297/297 [00:04<00:00, 73.43it/s]\n",
            "val_loss 0.00061 val_acc 0.99941: 100%|██████████| 53/53 [00:00<00:00, 66.11it/s]\n"
          ]
        },
        {
          "output_type": "stream",
          "name": "stdout",
          "text": [
            "Epoch 119/1000 loss 0.00273 val_loss 0.00061 acc 0.99895 val_acc 0.99941\n"
          ]
        },
        {
          "output_type": "stream",
          "name": "stderr",
          "text": [
            "loss 0.00450 acc 0.99835: 100%|██████████| 297/297 [00:05<00:00, 52.18it/s]\n",
            "val_loss 0.00125 val_acc 0.99941: 100%|██████████| 53/53 [00:01<00:00, 46.29it/s]\n"
          ]
        },
        {
          "output_type": "stream",
          "name": "stdout",
          "text": [
            "Epoch 120/1000 loss 0.00450 val_loss 0.00125 acc 0.99835 val_acc 0.99941\n",
            "Checkpoint guardado en /content/drive/MyDrive/SIS421 prueba dataset 1 test/Checkpoints/checkpoint.pth (Epoch 120)\n"
          ]
        },
        {
          "output_type": "stream",
          "name": "stderr",
          "text": [
            "loss 0.00660 acc 0.99842: 100%|██████████| 297/297 [00:04<00:00, 62.38it/s]\n",
            "val_loss 0.00072 val_acc 1.00000: 100%|██████████| 53/53 [00:00<00:00, 66.30it/s]\n"
          ]
        },
        {
          "output_type": "stream",
          "name": "stdout",
          "text": [
            "Epoch 121/1000 loss 0.00660 val_loss 0.00072 acc 0.99842 val_acc 1.00000\n"
          ]
        },
        {
          "output_type": "stream",
          "name": "stderr",
          "text": [
            "loss 0.00171 acc 0.99947: 100%|██████████| 297/297 [00:04<00:00, 71.95it/s]\n",
            "val_loss 0.00183 val_acc 0.99882: 100%|██████████| 53/53 [00:00<00:00, 59.09it/s]\n"
          ]
        },
        {
          "output_type": "stream",
          "name": "stdout",
          "text": [
            "Epoch 122/1000 loss 0.00171 val_loss 0.00183 acc 0.99947 val_acc 0.99882\n"
          ]
        },
        {
          "output_type": "stream",
          "name": "stderr",
          "text": [
            "loss 0.00104 acc 0.99968: 100%|██████████| 297/297 [00:04<00:00, 60.71it/s]\n",
            "val_loss 0.00417 val_acc 0.99882: 100%|██████████| 53/53 [00:01<00:00, 48.70it/s]\n"
          ]
        },
        {
          "output_type": "stream",
          "name": "stdout",
          "text": [
            "Epoch 123/1000 loss 0.00104 val_loss 0.00417 acc 0.99968 val_acc 0.99882\n"
          ]
        },
        {
          "output_type": "stream",
          "name": "stderr",
          "text": [
            "loss 0.00073 acc 0.99979: 100%|██████████| 297/297 [00:05<00:00, 50.07it/s]\n",
            "val_loss 0.00159 val_acc 0.99941: 100%|██████████| 53/53 [00:00<00:00, 61.62it/s]\n"
          ]
        },
        {
          "output_type": "stream",
          "name": "stdout",
          "text": [
            "Epoch 124/1000 loss 0.00073 val_loss 0.00159 acc 0.99979 val_acc 0.99941\n"
          ]
        },
        {
          "output_type": "stream",
          "name": "stderr",
          "text": [
            "loss 0.00033 acc 0.99989: 100%|██████████| 297/297 [00:04<00:00, 70.87it/s]\n",
            "val_loss 0.00122 val_acc 0.99941: 100%|██████████| 53/53 [00:00<00:00, 58.67it/s]\n"
          ]
        },
        {
          "output_type": "stream",
          "name": "stdout",
          "text": [
            "Epoch 125/1000 loss 0.00033 val_loss 0.00122 acc 0.99989 val_acc 0.99941\n"
          ]
        },
        {
          "output_type": "stream",
          "name": "stderr",
          "text": [
            "loss 0.00067 acc 0.99961: 100%|██████████| 297/297 [00:04<00:00, 73.48it/s]\n",
            "val_loss 0.00213 val_acc 0.99941: 100%|██████████| 53/53 [00:00<00:00, 53.04it/s]\n"
          ]
        },
        {
          "output_type": "stream",
          "name": "stdout",
          "text": [
            "Epoch 126/1000 loss 0.00067 val_loss 0.00213 acc 0.99961 val_acc 0.99941\n"
          ]
        },
        {
          "output_type": "stream",
          "name": "stderr",
          "text": [
            "loss 0.00269 acc 0.99905: 100%|██████████| 297/297 [00:05<00:00, 52.26it/s]\n",
            "val_loss 0.12806 val_acc 0.96403: 100%|██████████| 53/53 [00:01<00:00, 41.29it/s]\n"
          ]
        },
        {
          "output_type": "stream",
          "name": "stdout",
          "text": [
            "Epoch 127/1000 loss 0.00269 val_loss 0.12806 acc 0.99905 val_acc 0.96403\n"
          ]
        },
        {
          "output_type": "stream",
          "name": "stderr",
          "text": [
            "loss 0.00361 acc 0.99835: 100%|██████████| 297/297 [00:04<00:00, 65.38it/s]\n",
            "val_loss 0.00114 val_acc 0.99941: 100%|██████████| 53/53 [00:00<00:00, 67.96it/s]\n"
          ]
        },
        {
          "output_type": "stream",
          "name": "stdout",
          "text": [
            "Epoch 128/1000 loss 0.00361 val_loss 0.00114 acc 0.99835 val_acc 0.99941\n"
          ]
        },
        {
          "output_type": "stream",
          "name": "stderr",
          "text": [
            "loss 0.00263 acc 0.99905: 100%|██████████| 297/297 [00:04<00:00, 72.97it/s]\n",
            "val_loss 0.00011 val_acc 1.00000: 100%|██████████| 53/53 [00:00<00:00, 67.25it/s]\n"
          ]
        },
        {
          "output_type": "stream",
          "name": "stdout",
          "text": [
            "Epoch 129/1000 loss 0.00263 val_loss 0.00011 acc 0.99905 val_acc 1.00000\n"
          ]
        },
        {
          "output_type": "stream",
          "name": "stderr",
          "text": [
            "loss 0.00071 acc 0.99989: 100%|██████████| 297/297 [00:05<00:00, 55.52it/s]\n",
            "val_loss 0.00549 val_acc 0.99941: 100%|██████████| 53/53 [00:01<00:00, 42.54it/s]\n"
          ]
        },
        {
          "output_type": "stream",
          "name": "stdout",
          "text": [
            "Epoch 130/1000 loss 0.00071 val_loss 0.00549 acc 0.99989 val_acc 0.99941\n"
          ]
        },
        {
          "output_type": "stream",
          "name": "stderr",
          "text": [
            "loss 0.00194 acc 0.99916: 100%|██████████| 297/297 [00:05<00:00, 57.61it/s]\n",
            "val_loss 0.00082 val_acc 0.99941: 100%|██████████| 53/53 [00:00<00:00, 63.49it/s]\n"
          ]
        },
        {
          "output_type": "stream",
          "name": "stdout",
          "text": [
            "Epoch 131/1000 loss 0.00194 val_loss 0.00082 acc 0.99916 val_acc 0.99941\n"
          ]
        },
        {
          "output_type": "stream",
          "name": "stderr",
          "text": [
            "loss 0.00117 acc 0.99968: 100%|██████████| 297/297 [00:04<00:00, 73.90it/s]\n",
            "val_loss 0.00034 val_acc 1.00000: 100%|██████████| 53/53 [00:00<00:00, 63.02it/s]\n"
          ]
        },
        {
          "output_type": "stream",
          "name": "stdout",
          "text": [
            "Epoch 132/1000 loss 0.00117 val_loss 0.00034 acc 0.99968 val_acc 1.00000\n"
          ]
        },
        {
          "output_type": "stream",
          "name": "stderr",
          "text": [
            "loss 0.00095 acc 0.99968: 100%|██████████| 297/297 [00:04<00:00, 65.10it/s]\n",
            "val_loss 0.00116 val_acc 0.99941: 100%|██████████| 53/53 [00:01<00:00, 45.62it/s]\n"
          ]
        },
        {
          "output_type": "stream",
          "name": "stdout",
          "text": [
            "Epoch 133/1000 loss 0.00095 val_loss 0.00116 acc 0.99968 val_acc 0.99941\n"
          ]
        },
        {
          "output_type": "stream",
          "name": "stderr",
          "text": [
            "loss 0.00590 acc 0.99853: 100%|██████████| 297/297 [00:05<00:00, 50.65it/s]\n",
            "val_loss 0.00657 val_acc 0.99705: 100%|██████████| 53/53 [00:00<00:00, 54.43it/s]\n"
          ]
        },
        {
          "output_type": "stream",
          "name": "stdout",
          "text": [
            "Epoch 134/1000 loss 0.00590 val_loss 0.00657 acc 0.99853 val_acc 0.99705\n"
          ]
        },
        {
          "output_type": "stream",
          "name": "stderr",
          "text": [
            "loss 0.00118 acc 0.99958: 100%|██████████| 297/297 [00:04<00:00, 73.01it/s]\n",
            "val_loss 0.00191 val_acc 0.99941: 100%|██████████| 53/53 [00:00<00:00, 67.54it/s]\n"
          ]
        },
        {
          "output_type": "stream",
          "name": "stdout",
          "text": [
            "Epoch 135/1000 loss 0.00118 val_loss 0.00191 acc 0.99958 val_acc 0.99941\n"
          ]
        },
        {
          "output_type": "stream",
          "name": "stderr",
          "text": [
            "loss 0.00071 acc 0.99989: 100%|██████████| 297/297 [00:04<00:00, 70.09it/s]\n",
            "val_loss 0.00344 val_acc 0.99882: 100%|██████████| 53/53 [00:00<00:00, 59.29it/s]\n"
          ]
        },
        {
          "output_type": "stream",
          "name": "stdout",
          "text": [
            "Epoch 136/1000 loss 0.00071 val_loss 0.00344 acc 0.99989 val_acc 0.99882\n"
          ]
        },
        {
          "output_type": "stream",
          "name": "stderr",
          "text": [
            "loss 0.00182 acc 0.99937: 100%|██████████| 297/297 [00:05<00:00, 50.11it/s]\n",
            "val_loss 0.00113 val_acc 0.99941: 100%|██████████| 53/53 [00:01<00:00, 45.29it/s]\n"
          ]
        },
        {
          "output_type": "stream",
          "name": "stdout",
          "text": [
            "Epoch 137/1000 loss 0.00182 val_loss 0.00113 acc 0.99937 val_acc 0.99941\n"
          ]
        },
        {
          "output_type": "stream",
          "name": "stderr",
          "text": [
            "loss 0.00265 acc 0.99951: 100%|██████████| 297/297 [00:04<00:00, 69.20it/s]\n",
            "val_loss 0.00145 val_acc 0.99941: 100%|██████████| 53/53 [00:00<00:00, 63.46it/s]\n"
          ]
        },
        {
          "output_type": "stream",
          "name": "stdout",
          "text": [
            "Epoch 138/1000 loss 0.00265 val_loss 0.00145 acc 0.99951 val_acc 0.99941\n"
          ]
        },
        {
          "output_type": "stream",
          "name": "stderr",
          "text": [
            "loss 0.00294 acc 0.99905: 100%|██████████| 297/297 [00:04<00:00, 73.18it/s]\n",
            "val_loss 0.00732 val_acc 0.99823: 100%|██████████| 53/53 [00:00<00:00, 60.15it/s]\n"
          ]
        },
        {
          "output_type": "stream",
          "name": "stdout",
          "text": [
            "Epoch 139/1000 loss 0.00294 val_loss 0.00732 acc 0.99905 val_acc 0.99823\n"
          ]
        },
        {
          "output_type": "stream",
          "name": "stderr",
          "text": [
            "loss 0.00090 acc 0.99979: 100%|██████████| 297/297 [00:05<00:00, 52.95it/s]\n",
            "val_loss 0.00755 val_acc 0.99823: 100%|██████████| 53/53 [00:01<00:00, 44.30it/s]\n"
          ]
        },
        {
          "output_type": "stream",
          "name": "stdout",
          "text": [
            "Epoch 140/1000 loss 0.00090 val_loss 0.00755 acc 0.99979 val_acc 0.99823\n",
            "Checkpoint guardado en /content/drive/MyDrive/SIS421 prueba dataset 1 test/Checkpoints/checkpoint.pth (Epoch 140)\n"
          ]
        },
        {
          "output_type": "stream",
          "name": "stderr",
          "text": [
            "loss 0.00153 acc 0.99968: 100%|██████████| 297/297 [00:04<00:00, 62.99it/s]\n",
            "val_loss 0.00096 val_acc 1.00000: 100%|██████████| 53/53 [00:00<00:00, 63.18it/s]\n"
          ]
        },
        {
          "output_type": "stream",
          "name": "stdout",
          "text": [
            "Epoch 141/1000 loss 0.00153 val_loss 0.00096 acc 0.99968 val_acc 1.00000\n"
          ]
        },
        {
          "output_type": "stream",
          "name": "stderr",
          "text": [
            "loss 0.00022 acc 1.00000: 100%|██████████| 297/297 [00:04<00:00, 72.92it/s]\n",
            "val_loss 0.00043 val_acc 1.00000: 100%|██████████| 53/53 [00:00<00:00, 63.65it/s]\n"
          ]
        },
        {
          "output_type": "stream",
          "name": "stdout",
          "text": [
            "Epoch 142/1000 loss 0.00022 val_loss 0.00043 acc 1.00000 val_acc 1.00000\n"
          ]
        },
        {
          "output_type": "stream",
          "name": "stderr",
          "text": [
            "loss 0.00093 acc 0.99968: 100%|██████████| 297/297 [00:05<00:00, 56.49it/s]\n",
            "val_loss 0.00060 val_acc 1.00000: 100%|██████████| 53/53 [00:01<00:00, 46.07it/s]\n"
          ]
        },
        {
          "output_type": "stream",
          "name": "stdout",
          "text": [
            "Epoch 143/1000 loss 0.00093 val_loss 0.00060 acc 0.99968 val_acc 1.00000\n"
          ]
        },
        {
          "output_type": "stream",
          "name": "stderr",
          "text": [
            "loss 0.00232 acc 0.99937: 100%|██████████| 297/297 [00:05<00:00, 57.53it/s]\n",
            "val_loss 0.00123 val_acc 0.99941: 100%|██████████| 53/53 [00:00<00:00, 65.43it/s]\n"
          ]
        },
        {
          "output_type": "stream",
          "name": "stdout",
          "text": [
            "Epoch 144/1000 loss 0.00232 val_loss 0.00123 acc 0.99937 val_acc 0.99941\n"
          ]
        },
        {
          "output_type": "stream",
          "name": "stderr",
          "text": [
            "loss 0.00050 acc 0.99979: 100%|██████████| 297/297 [00:04<00:00, 72.84it/s]\n",
            "val_loss 0.00057 val_acc 1.00000: 100%|██████████| 53/53 [00:00<00:00, 66.60it/s]\n"
          ]
        },
        {
          "output_type": "stream",
          "name": "stdout",
          "text": [
            "Epoch 145/1000 loss 0.00050 val_loss 0.00057 acc 0.99979 val_acc 1.00000\n"
          ]
        },
        {
          "output_type": "stream",
          "name": "stderr",
          "text": [
            "loss 0.00022 acc 1.00000: 100%|██████████| 297/297 [00:04<00:00, 64.34it/s]\n",
            "val_loss 0.00069 val_acc 0.99941: 100%|██████████| 53/53 [00:01<00:00, 45.70it/s]\n"
          ]
        },
        {
          "output_type": "stream",
          "name": "stdout",
          "text": [
            "Epoch 146/1000 loss 0.00022 val_loss 0.00069 acc 1.00000 val_acc 0.99941\n"
          ]
        },
        {
          "output_type": "stream",
          "name": "stderr",
          "text": [
            "loss 0.00115 acc 0.99958: 100%|██████████| 297/297 [00:05<00:00, 51.56it/s]\n",
            "val_loss 0.00101 val_acc 1.00000: 100%|██████████| 53/53 [00:00<00:00, 56.88it/s]\n"
          ]
        },
        {
          "output_type": "stream",
          "name": "stdout",
          "text": [
            "Epoch 147/1000 loss 0.00115 val_loss 0.00101 acc 0.99958 val_acc 1.00000\n"
          ]
        },
        {
          "output_type": "stream",
          "name": "stderr",
          "text": [
            "loss 0.00191 acc 0.99947: 100%|██████████| 297/297 [00:04<00:00, 70.77it/s]\n",
            "val_loss 0.00697 val_acc 0.99823: 100%|██████████| 53/53 [00:00<00:00, 59.73it/s]\n"
          ]
        },
        {
          "output_type": "stream",
          "name": "stdout",
          "text": [
            "Epoch 148/1000 loss 0.00191 val_loss 0.00697 acc 0.99947 val_acc 0.99823\n"
          ]
        },
        {
          "output_type": "stream",
          "name": "stderr",
          "text": [
            "loss 0.00084 acc 0.99979: 100%|██████████| 297/297 [00:04<00:00, 73.18it/s]\n",
            "val_loss 0.00221 val_acc 0.99882: 100%|██████████| 53/53 [00:01<00:00, 52.84it/s]\n"
          ]
        },
        {
          "output_type": "stream",
          "name": "stdout",
          "text": [
            "Epoch 149/1000 loss 0.00084 val_loss 0.00221 acc 0.99979 val_acc 0.99882\n"
          ]
        },
        {
          "output_type": "stream",
          "name": "stderr",
          "text": [
            "loss 0.00151 acc 0.99958: 100%|██████████| 297/297 [00:05<00:00, 52.96it/s]\n",
            "val_loss 0.00197 val_acc 0.99941: 100%|██████████| 53/53 [00:01<00:00, 43.44it/s]\n"
          ]
        },
        {
          "output_type": "stream",
          "name": "stdout",
          "text": [
            "Epoch 150/1000 loss 0.00151 val_loss 0.00197 acc 0.99958 val_acc 0.99941\n"
          ]
        },
        {
          "output_type": "stream",
          "name": "stderr",
          "text": [
            "loss 0.00166 acc 0.99937: 100%|██████████| 297/297 [00:04<00:00, 66.28it/s]\n",
            "val_loss 0.00766 val_acc 0.99823: 100%|██████████| 53/53 [00:00<00:00, 64.55it/s]\n"
          ]
        },
        {
          "output_type": "stream",
          "name": "stdout",
          "text": [
            "Epoch 151/1000 loss 0.00166 val_loss 0.00766 acc 0.99937 val_acc 0.99823\n"
          ]
        },
        {
          "output_type": "stream",
          "name": "stderr",
          "text": [
            "loss 0.00369 acc 0.99895: 100%|██████████| 297/297 [00:04<00:00, 69.10it/s]\n",
            "val_loss 0.00643 val_acc 0.99705: 100%|██████████| 53/53 [00:00<00:00, 66.37it/s]\n"
          ]
        },
        {
          "output_type": "stream",
          "name": "stdout",
          "text": [
            "Epoch 152/1000 loss 0.00369 val_loss 0.00643 acc 0.99895 val_acc 0.99705\n"
          ]
        },
        {
          "output_type": "stream",
          "name": "stderr",
          "text": [
            "loss 0.00601 acc 0.99758: 100%|██████████| 297/297 [00:05<00:00, 55.21it/s]\n",
            "val_loss 0.00732 val_acc 0.99646: 100%|██████████| 53/53 [00:01<00:00, 44.50it/s]\n"
          ]
        },
        {
          "output_type": "stream",
          "name": "stdout",
          "text": [
            "Epoch 153/1000 loss 0.00601 val_loss 0.00732 acc 0.99758 val_acc 0.99646\n"
          ]
        },
        {
          "output_type": "stream",
          "name": "stderr",
          "text": [
            "loss 0.00027 acc 0.99989: 100%|██████████| 297/297 [00:05<00:00, 58.80it/s]\n",
            "val_loss 0.00357 val_acc 0.99823: 100%|██████████| 53/53 [00:00<00:00, 67.57it/s]\n"
          ]
        },
        {
          "output_type": "stream",
          "name": "stdout",
          "text": [
            "Epoch 154/1000 loss 0.00027 val_loss 0.00357 acc 0.99989 val_acc 0.99823\n"
          ]
        },
        {
          "output_type": "stream",
          "name": "stderr",
          "text": [
            "loss 0.00023 acc 1.00000: 100%|██████████| 297/297 [00:04<00:00, 71.79it/s]\n",
            "val_loss 0.00293 val_acc 0.99941: 100%|██████████| 53/53 [00:00<00:00, 62.78it/s]\n"
          ]
        },
        {
          "output_type": "stream",
          "name": "stdout",
          "text": [
            "Epoch 155/1000 loss 0.00023 val_loss 0.00293 acc 1.00000 val_acc 0.99941\n"
          ]
        },
        {
          "output_type": "stream",
          "name": "stderr",
          "text": [
            "loss 0.00231 acc 0.99926: 100%|██████████| 297/297 [00:04<00:00, 63.59it/s]\n",
            "val_loss 0.01248 val_acc 0.99646: 100%|██████████| 53/53 [00:01<00:00, 47.18it/s]\n"
          ]
        },
        {
          "output_type": "stream",
          "name": "stdout",
          "text": [
            "Epoch 156/1000 loss 0.00231 val_loss 0.01248 acc 0.99926 val_acc 0.99646\n"
          ]
        },
        {
          "output_type": "stream",
          "name": "stderr",
          "text": [
            "loss 0.00181 acc 0.99947: 100%|██████████| 297/297 [00:05<00:00, 50.45it/s]\n",
            "val_loss 0.00353 val_acc 0.99941: 100%|██████████| 53/53 [00:00<00:00, 55.76it/s]\n"
          ]
        },
        {
          "output_type": "stream",
          "name": "stdout",
          "text": [
            "Epoch 157/1000 loss 0.00181 val_loss 0.00353 acc 0.99947 val_acc 0.99941\n"
          ]
        },
        {
          "output_type": "stream",
          "name": "stderr",
          "text": [
            "loss 0.00184 acc 0.99937: 100%|██████████| 297/297 [00:04<00:00, 71.97it/s]\n",
            "val_loss 0.00024 val_acc 1.00000: 100%|██████████| 53/53 [00:00<00:00, 67.17it/s]\n"
          ]
        },
        {
          "output_type": "stream",
          "name": "stdout",
          "text": [
            "Epoch 158/1000 loss 0.00184 val_loss 0.00024 acc 0.99937 val_acc 1.00000\n"
          ]
        },
        {
          "output_type": "stream",
          "name": "stderr",
          "text": [
            "loss 0.00168 acc 0.99937: 100%|██████████| 297/297 [00:04<00:00, 70.97it/s]\n",
            "val_loss 0.00081 val_acc 1.00000: 100%|██████████| 53/53 [00:00<00:00, 55.14it/s]\n"
          ]
        },
        {
          "output_type": "stream",
          "name": "stdout",
          "text": [
            "Epoch 159/1000 loss 0.00168 val_loss 0.00081 acc 0.99937 val_acc 1.00000\n"
          ]
        },
        {
          "output_type": "stream",
          "name": "stderr",
          "text": [
            "loss 0.00027 acc 1.00000: 100%|██████████| 297/297 [00:05<00:00, 51.46it/s]\n",
            "val_loss 0.00153 val_acc 0.99941: 100%|██████████| 53/53 [00:01<00:00, 44.03it/s]\n"
          ]
        },
        {
          "output_type": "stream",
          "name": "stdout",
          "text": [
            "Epoch 160/1000 loss 0.00027 val_loss 0.00153 acc 1.00000 val_acc 0.99941\n",
            "Checkpoint guardado en /content/drive/MyDrive/SIS421 prueba dataset 1 test/Checkpoints/checkpoint.pth (Epoch 160)\n"
          ]
        },
        {
          "output_type": "stream",
          "name": "stderr",
          "text": [
            "loss 0.00042 acc 0.99979: 100%|██████████| 297/297 [00:04<00:00, 66.34it/s]\n",
            "val_loss 0.00092 val_acc 1.00000: 100%|██████████| 53/53 [00:00<00:00, 62.13it/s]\n"
          ]
        },
        {
          "output_type": "stream",
          "name": "stdout",
          "text": [
            "Epoch 161/1000 loss 0.00042 val_loss 0.00092 acc 0.99979 val_acc 1.00000\n"
          ]
        },
        {
          "output_type": "stream",
          "name": "stderr",
          "text": [
            "loss 0.00307 acc 0.99912: 100%|██████████| 297/297 [00:04<00:00, 72.41it/s]\n",
            "val_loss 0.00058 val_acc 1.00000: 100%|██████████| 53/53 [00:00<00:00, 59.15it/s]\n"
          ]
        },
        {
          "output_type": "stream",
          "name": "stdout",
          "text": [
            "Epoch 162/1000 loss 0.00307 val_loss 0.00058 acc 0.99912 val_acc 1.00000\n"
          ]
        },
        {
          "output_type": "stream",
          "name": "stderr",
          "text": [
            "loss 0.00581 acc 0.99835: 100%|██████████| 297/297 [00:05<00:00, 52.98it/s]\n",
            "val_loss 0.00512 val_acc 0.99823: 100%|██████████| 53/53 [00:01<00:00, 44.49it/s]\n"
          ]
        },
        {
          "output_type": "stream",
          "name": "stdout",
          "text": [
            "Epoch 163/1000 loss 0.00581 val_loss 0.00512 acc 0.99835 val_acc 0.99823\n"
          ]
        },
        {
          "output_type": "stream",
          "name": "stderr",
          "text": [
            "loss 0.00119 acc 0.99958: 100%|██████████| 297/297 [00:05<00:00, 58.27it/s]\n",
            "val_loss 0.00467 val_acc 0.99882: 100%|██████████| 53/53 [00:00<00:00, 63.49it/s]\n"
          ]
        },
        {
          "output_type": "stream",
          "name": "stdout",
          "text": [
            "Epoch 164/1000 loss 0.00119 val_loss 0.00467 acc 0.99958 val_acc 0.99882\n"
          ]
        },
        {
          "output_type": "stream",
          "name": "stderr",
          "text": [
            "loss 0.00181 acc 0.99926: 100%|██████████| 297/297 [00:04<00:00, 73.55it/s]\n",
            "val_loss 0.00131 val_acc 0.99941: 100%|██████████| 53/53 [00:00<00:00, 62.78it/s]\n"
          ]
        },
        {
          "output_type": "stream",
          "name": "stdout",
          "text": [
            "Epoch 165/1000 loss 0.00181 val_loss 0.00131 acc 0.99926 val_acc 0.99941\n"
          ]
        },
        {
          "output_type": "stream",
          "name": "stderr",
          "text": [
            "loss 0.00058 acc 0.99968: 100%|██████████| 297/297 [00:04<00:00, 62.12it/s]\n",
            "val_loss 0.02748 val_acc 0.99410: 100%|██████████| 53/53 [00:01<00:00, 46.36it/s]\n"
          ]
        },
        {
          "output_type": "stream",
          "name": "stdout",
          "text": [
            "Epoch 166/1000 loss 0.00058 val_loss 0.02748 acc 0.99968 val_acc 0.99410\n"
          ]
        },
        {
          "output_type": "stream",
          "name": "stderr",
          "text": [
            "loss 0.00034 acc 0.99979: 100%|██████████| 297/297 [00:05<00:00, 50.30it/s]\n",
            "val_loss 0.00039 val_acc 1.00000: 100%|██████████| 53/53 [00:00<00:00, 55.92it/s]\n"
          ]
        },
        {
          "output_type": "stream",
          "name": "stdout",
          "text": [
            "Epoch 167/1000 loss 0.00034 val_loss 0.00039 acc 0.99979 val_acc 1.00000\n"
          ]
        },
        {
          "output_type": "stream",
          "name": "stderr",
          "text": [
            "loss 0.00024 acc 1.00000: 100%|██████████| 297/297 [00:04<00:00, 68.89it/s]\n",
            "val_loss 0.00021 val_acc 1.00000: 100%|██████████| 53/53 [00:00<00:00, 64.37it/s]\n"
          ]
        },
        {
          "output_type": "stream",
          "name": "stdout",
          "text": [
            "Epoch 168/1000 loss 0.00024 val_loss 0.00021 acc 1.00000 val_acc 1.00000\n"
          ]
        },
        {
          "output_type": "stream",
          "name": "stderr",
          "text": [
            "loss 0.00009 acc 1.00000: 100%|██████████| 297/297 [00:04<00:00, 71.30it/s]\n",
            "val_loss 0.00018 val_acc 1.00000: 100%|██████████| 53/53 [00:01<00:00, 46.54it/s]\n"
          ]
        },
        {
          "output_type": "stream",
          "name": "stdout",
          "text": [
            "Epoch 169/1000 loss 0.00009 val_loss 0.00018 acc 1.00000 val_acc 1.00000\n"
          ]
        },
        {
          "output_type": "stream",
          "name": "stderr",
          "text": [
            "loss 0.00008 acc 1.00000: 100%|██████████| 297/297 [00:06<00:00, 48.21it/s]\n",
            "val_loss 0.00009 val_acc 1.00000: 100%|██████████| 53/53 [00:00<00:00, 54.01it/s]\n"
          ]
        },
        {
          "output_type": "stream",
          "name": "stdout",
          "text": [
            "Epoch 170/1000 loss 0.00008 val_loss 0.00009 acc 1.00000 val_acc 1.00000\n"
          ]
        },
        {
          "output_type": "stream",
          "name": "stderr",
          "text": [
            "loss 0.00487 acc 0.99825: 100%|██████████| 297/297 [00:04<00:00, 71.93it/s]\n",
            "val_loss 0.00061 val_acc 1.00000: 100%|██████████| 53/53 [00:00<00:00, 62.60it/s]\n"
          ]
        },
        {
          "output_type": "stream",
          "name": "stdout",
          "text": [
            "Epoch 171/1000 loss 0.00487 val_loss 0.00061 acc 0.99825 val_acc 1.00000\n"
          ]
        },
        {
          "output_type": "stream",
          "name": "stderr",
          "text": [
            "loss 0.00601 acc 0.99811: 100%|██████████| 297/297 [00:04<00:00, 72.03it/s]\n",
            "val_loss 0.00429 val_acc 0.99882: 100%|██████████| 53/53 [00:00<00:00, 53.33it/s]\n"
          ]
        },
        {
          "output_type": "stream",
          "name": "stdout",
          "text": [
            "Epoch 172/1000 loss 0.00601 val_loss 0.00429 acc 0.99811 val_acc 0.99882\n"
          ]
        },
        {
          "output_type": "stream",
          "name": "stderr",
          "text": [
            "loss 0.00137 acc 0.99937: 100%|██████████| 297/297 [00:05<00:00, 51.50it/s]\n",
            "val_loss 0.00523 val_acc 0.99823: 100%|██████████| 53/53 [00:01<00:00, 42.54it/s]\n"
          ]
        },
        {
          "output_type": "stream",
          "name": "stdout",
          "text": [
            "Epoch 173/1000 loss 0.00137 val_loss 0.00523 acc 0.99937 val_acc 0.99823\n"
          ]
        },
        {
          "output_type": "stream",
          "name": "stderr",
          "text": [
            "loss 0.00085 acc 0.99979: 100%|██████████| 297/297 [00:05<00:00, 59.24it/s]\n",
            "val_loss 0.00202 val_acc 0.99882: 100%|██████████| 53/53 [00:00<00:00, 64.41it/s]\n"
          ]
        },
        {
          "output_type": "stream",
          "name": "stdout",
          "text": [
            "Epoch 174/1000 loss 0.00085 val_loss 0.00202 acc 0.99979 val_acc 0.99882\n"
          ]
        },
        {
          "output_type": "stream",
          "name": "stderr",
          "text": [
            "loss 0.00027 acc 0.99989: 100%|██████████| 297/297 [00:04<00:00, 72.73it/s]\n",
            "val_loss 0.00048 val_acc 1.00000: 100%|██████████| 53/53 [00:00<00:00, 60.66it/s]\n"
          ]
        },
        {
          "output_type": "stream",
          "name": "stdout",
          "text": [
            "Epoch 175/1000 loss 0.00027 val_loss 0.00048 acc 0.99989 val_acc 1.00000\n"
          ]
        },
        {
          "output_type": "stream",
          "name": "stderr",
          "text": [
            "loss 0.00026 acc 0.99989: 100%|██████████| 297/297 [00:04<00:00, 61.17it/s]\n",
            "val_loss 0.00019 val_acc 1.00000: 100%|██████████| 53/53 [00:01<00:00, 44.16it/s]\n"
          ]
        },
        {
          "output_type": "stream",
          "name": "stdout",
          "text": [
            "Epoch 176/1000 loss 0.00026 val_loss 0.00019 acc 0.99989 val_acc 1.00000\n"
          ]
        },
        {
          "output_type": "stream",
          "name": "stderr",
          "text": [
            "loss 0.00041 acc 0.99989: 100%|██████████| 297/297 [00:05<00:00, 49.81it/s]\n",
            "val_loss 0.00015 val_acc 1.00000: 100%|██████████| 53/53 [00:00<00:00, 56.91it/s]\n"
          ]
        },
        {
          "output_type": "stream",
          "name": "stdout",
          "text": [
            "Epoch 177/1000 loss 0.00041 val_loss 0.00015 acc 0.99989 val_acc 1.00000\n"
          ]
        },
        {
          "output_type": "stream",
          "name": "stderr",
          "text": [
            "loss 0.00039 acc 1.00000: 100%|██████████| 297/297 [00:04<00:00, 69.52it/s]\n",
            "val_loss 0.00007 val_acc 1.00000: 100%|██████████| 53/53 [00:00<00:00, 60.51it/s]\n"
          ]
        },
        {
          "output_type": "stream",
          "name": "stdout",
          "text": [
            "Epoch 178/1000 loss 0.00039 val_loss 0.00007 acc 1.00000 val_acc 1.00000\n"
          ]
        },
        {
          "output_type": "stream",
          "name": "stderr",
          "text": [
            "loss 0.00071 acc 0.99968: 100%|██████████| 297/297 [00:04<00:00, 70.87it/s]\n",
            "val_loss 0.00098 val_acc 1.00000: 100%|██████████| 53/53 [00:01<00:00, 47.07it/s]\n"
          ]
        },
        {
          "output_type": "stream",
          "name": "stdout",
          "text": [
            "Epoch 179/1000 loss 0.00071 val_loss 0.00098 acc 0.99968 val_acc 1.00000\n"
          ]
        },
        {
          "output_type": "stream",
          "name": "stderr",
          "text": [
            "loss 0.00088 acc 0.99968: 100%|██████████| 297/297 [00:05<00:00, 51.48it/s]\n",
            "val_loss 0.00103 val_acc 0.99941: 100%|██████████| 53/53 [00:01<00:00, 47.35it/s]\n"
          ]
        },
        {
          "output_type": "stream",
          "name": "stdout",
          "text": [
            "Epoch 180/1000 loss 0.00088 val_loss 0.00103 acc 0.99968 val_acc 0.99941\n",
            "Checkpoint guardado en /content/drive/MyDrive/SIS421 prueba dataset 1 test/Checkpoints/checkpoint.pth (Epoch 180)\n"
          ]
        },
        {
          "output_type": "stream",
          "name": "stderr",
          "text": [
            "loss 0.00702 acc 0.99821: 100%|██████████| 297/297 [00:04<00:00, 65.67it/s]\n",
            "val_loss 0.00195 val_acc 0.99941: 100%|██████████| 53/53 [00:00<00:00, 59.51it/s]\n"
          ]
        },
        {
          "output_type": "stream",
          "name": "stdout",
          "text": [
            "Epoch 181/1000 loss 0.00702 val_loss 0.00195 acc 0.99821 val_acc 0.99941\n"
          ]
        },
        {
          "output_type": "stream",
          "name": "stderr",
          "text": [
            "loss 0.00403 acc 0.99895: 100%|██████████| 297/297 [00:04<00:00, 70.80it/s]\n",
            "val_loss 0.00916 val_acc 0.99705: 100%|██████████| 53/53 [00:00<00:00, 62.45it/s]\n"
          ]
        },
        {
          "output_type": "stream",
          "name": "stdout",
          "text": [
            "Epoch 182/1000 loss 0.00403 val_loss 0.00916 acc 0.99895 val_acc 0.99705\n"
          ]
        },
        {
          "output_type": "stream",
          "name": "stderr",
          "text": [
            "loss 0.00114 acc 0.99958: 100%|██████████| 297/297 [00:05<00:00, 55.15it/s]\n",
            "val_loss 0.00042 val_acc 1.00000: 100%|██████████| 53/53 [00:01<00:00, 47.10it/s]\n"
          ]
        },
        {
          "output_type": "stream",
          "name": "stdout",
          "text": [
            "Epoch 183/1000 loss 0.00114 val_loss 0.00042 acc 0.99958 val_acc 1.00000\n"
          ]
        },
        {
          "output_type": "stream",
          "name": "stderr",
          "text": [
            "loss 0.00136 acc 0.99951: 100%|██████████| 297/297 [00:05<00:00, 55.35it/s]\n",
            "val_loss 0.00144 val_acc 0.99941: 100%|██████████| 53/53 [00:00<00:00, 61.58it/s]\n"
          ]
        },
        {
          "output_type": "stream",
          "name": "stdout",
          "text": [
            "Epoch 184/1000 loss 0.00136 val_loss 0.00144 acc 0.99951 val_acc 0.99941\n"
          ]
        },
        {
          "output_type": "stream",
          "name": "stderr",
          "text": [
            "loss 0.00112 acc 0.99940: 100%|██████████| 297/297 [00:04<00:00, 71.50it/s]\n",
            "val_loss 0.00124 val_acc 0.99941: 100%|██████████| 53/53 [00:00<00:00, 62.06it/s]\n"
          ]
        },
        {
          "output_type": "stream",
          "name": "stdout",
          "text": [
            "Epoch 185/1000 loss 0.00112 val_loss 0.00124 acc 0.99940 val_acc 0.99941\n"
          ]
        },
        {
          "output_type": "stream",
          "name": "stderr",
          "text": [
            "loss 0.00045 acc 0.99989: 100%|██████████| 297/297 [00:04<00:00, 62.90it/s]\n",
            "val_loss 0.00009 val_acc 1.00000: 100%|██████████| 53/53 [00:01<00:00, 45.63it/s]\n"
          ]
        },
        {
          "output_type": "stream",
          "name": "stdout",
          "text": [
            "Epoch 186/1000 loss 0.00045 val_loss 0.00009 acc 0.99989 val_acc 1.00000\n"
          ]
        },
        {
          "output_type": "stream",
          "name": "stderr",
          "text": [
            "loss 0.00047 acc 0.99989: 100%|██████████| 297/297 [00:05<00:00, 51.14it/s]\n",
            "val_loss 0.00109 val_acc 0.99941: 100%|██████████| 53/53 [00:01<00:00, 50.84it/s]\n"
          ]
        },
        {
          "output_type": "stream",
          "name": "stdout",
          "text": [
            "Epoch 187/1000 loss 0.00047 val_loss 0.00109 acc 0.99989 val_acc 0.99941\n"
          ]
        },
        {
          "output_type": "stream",
          "name": "stderr",
          "text": [
            "loss 0.00011 acc 1.00000: 100%|██████████| 297/297 [00:04<00:00, 70.92it/s]\n",
            "val_loss 0.00035 val_acc 1.00000: 100%|██████████| 53/53 [00:00<00:00, 64.83it/s]\n"
          ]
        },
        {
          "output_type": "stream",
          "name": "stdout",
          "text": [
            "Epoch 188/1000 loss 0.00011 val_loss 0.00035 acc 1.00000 val_acc 1.00000\n"
          ]
        },
        {
          "output_type": "stream",
          "name": "stderr",
          "text": [
            "loss 0.00300 acc 0.99916: 100%|██████████| 297/297 [00:04<00:00, 66.91it/s]\n",
            "val_loss 0.00069 val_acc 1.00000: 100%|██████████| 53/53 [00:01<00:00, 42.78it/s]\n"
          ]
        },
        {
          "output_type": "stream",
          "name": "stdout",
          "text": [
            "Epoch 189/1000 loss 0.00300 val_loss 0.00069 acc 0.99916 val_acc 1.00000\n"
          ]
        },
        {
          "output_type": "stream",
          "name": "stderr",
          "text": [
            "loss 0.00156 acc 0.99930: 100%|██████████| 297/297 [00:05<00:00, 50.15it/s]\n",
            "val_loss 0.00734 val_acc 0.99705: 100%|██████████| 53/53 [00:01<00:00, 45.72it/s]\n"
          ]
        },
        {
          "output_type": "stream",
          "name": "stdout",
          "text": [
            "Epoch 190/1000 loss 0.00156 val_loss 0.00734 acc 0.99930 val_acc 0.99705\n"
          ]
        },
        {
          "output_type": "stream",
          "name": "stderr",
          "text": [
            "loss 0.00277 acc 0.99905: 100%|██████████| 297/297 [00:04<00:00, 67.61it/s]\n",
            "val_loss 0.00068 val_acc 1.00000: 100%|██████████| 53/53 [00:00<00:00, 63.27it/s]\n"
          ]
        },
        {
          "output_type": "stream",
          "name": "stdout",
          "text": [
            "Epoch 191/1000 loss 0.00277 val_loss 0.00068 acc 0.99905 val_acc 1.00000\n"
          ]
        },
        {
          "output_type": "stream",
          "name": "stderr",
          "text": [
            "loss 0.00091 acc 0.99958: 100%|██████████| 297/297 [00:04<00:00, 71.40it/s]\n",
            "val_loss 0.00235 val_acc 0.99882: 100%|██████████| 53/53 [00:00<00:00, 59.72it/s]\n"
          ]
        },
        {
          "output_type": "stream",
          "name": "stdout",
          "text": [
            "Epoch 192/1000 loss 0.00091 val_loss 0.00235 acc 0.99958 val_acc 0.99882\n"
          ]
        },
        {
          "output_type": "stream",
          "name": "stderr",
          "text": [
            "loss 0.00129 acc 0.99947: 100%|██████████| 297/297 [00:05<00:00, 51.59it/s]\n",
            "val_loss 0.00095 val_acc 0.99941: 100%|██████████| 53/53 [00:01<00:00, 42.46it/s]\n"
          ]
        },
        {
          "output_type": "stream",
          "name": "stdout",
          "text": [
            "Epoch 193/1000 loss 0.00129 val_loss 0.00095 acc 0.99947 val_acc 0.99941\n"
          ]
        },
        {
          "output_type": "stream",
          "name": "stderr",
          "text": [
            "loss 0.00055 acc 0.99989: 100%|██████████| 297/297 [00:04<00:00, 61.50it/s]\n",
            "val_loss 0.00175 val_acc 0.99882: 100%|██████████| 53/53 [00:00<00:00, 65.28it/s]\n"
          ]
        },
        {
          "output_type": "stream",
          "name": "stdout",
          "text": [
            "Epoch 194/1000 loss 0.00055 val_loss 0.00175 acc 0.99989 val_acc 0.99882\n"
          ]
        },
        {
          "output_type": "stream",
          "name": "stderr",
          "text": [
            "loss 0.00310 acc 0.99884: 100%|██████████| 297/297 [00:04<00:00, 70.61it/s]\n",
            "val_loss 0.00995 val_acc 0.99764: 100%|██████████| 53/53 [00:00<00:00, 63.07it/s]\n"
          ]
        },
        {
          "output_type": "stream",
          "name": "stdout",
          "text": [
            "Epoch 195/1000 loss 0.00310 val_loss 0.00995 acc 0.99884 val_acc 0.99764\n"
          ]
        },
        {
          "output_type": "stream",
          "name": "stderr",
          "text": [
            "loss 0.00056 acc 0.99989: 100%|██████████| 297/297 [00:05<00:00, 54.55it/s]\n",
            "val_loss 0.00100 val_acc 0.99941: 100%|██████████| 53/53 [00:01<00:00, 48.57it/s]\n"
          ]
        },
        {
          "output_type": "stream",
          "name": "stdout",
          "text": [
            "Epoch 196/1000 loss 0.00056 val_loss 0.00100 acc 0.99989 val_acc 0.99941\n"
          ]
        },
        {
          "output_type": "stream",
          "name": "stderr",
          "text": [
            "loss 0.00043 acc 0.99979: 100%|██████████| 297/297 [00:05<00:00, 56.13it/s]\n",
            "val_loss 0.00108 val_acc 0.99941: 100%|██████████| 53/53 [00:00<00:00, 60.94it/s]\n"
          ]
        },
        {
          "output_type": "stream",
          "name": "stdout",
          "text": [
            "Epoch 197/1000 loss 0.00043 val_loss 0.00108 acc 0.99979 val_acc 0.99941\n"
          ]
        },
        {
          "output_type": "stream",
          "name": "stderr",
          "text": [
            "loss 0.00190 acc 0.99958: 100%|██████████| 297/297 [00:04<00:00, 69.97it/s]\n",
            "val_loss 0.01006 val_acc 0.99823: 100%|██████████| 53/53 [00:00<00:00, 55.25it/s]\n"
          ]
        },
        {
          "output_type": "stream",
          "name": "stdout",
          "text": [
            "Epoch 198/1000 loss 0.00190 val_loss 0.01006 acc 0.99958 val_acc 0.99823\n"
          ]
        },
        {
          "output_type": "stream",
          "name": "stderr",
          "text": [
            "loss 0.00061 acc 0.99961: 100%|██████████| 297/297 [00:05<00:00, 59.14it/s]\n",
            "val_loss 0.00339 val_acc 0.99823: 100%|██████████| 53/53 [00:01<00:00, 46.30it/s]\n"
          ]
        },
        {
          "output_type": "stream",
          "name": "stdout",
          "text": [
            "Epoch 199/1000 loss 0.00061 val_loss 0.00339 acc 0.99961 val_acc 0.99823\n"
          ]
        },
        {
          "output_type": "stream",
          "name": "stderr",
          "text": [
            "loss 0.00184 acc 0.99916: 100%|██████████| 297/297 [00:06<00:00, 49.00it/s]\n",
            "val_loss 0.00083 val_acc 1.00000: 100%|██████████| 53/53 [00:01<00:00, 52.69it/s]\n"
          ]
        },
        {
          "output_type": "stream",
          "name": "stdout",
          "text": [
            "Epoch 200/1000 loss 0.00184 val_loss 0.00083 acc 0.99916 val_acc 1.00000\n",
            "Checkpoint guardado en /content/drive/MyDrive/SIS421 prueba dataset 1 test/Checkpoints/checkpoint.pth (Epoch 200)\n"
          ]
        },
        {
          "output_type": "stream",
          "name": "stderr",
          "text": [
            "loss 0.00172 acc 0.99968: 100%|██████████| 297/297 [00:04<00:00, 70.16it/s]\n",
            "val_loss 0.00212 val_acc 0.99941: 100%|██████████| 53/53 [00:00<00:00, 59.71it/s]\n"
          ]
        },
        {
          "output_type": "stream",
          "name": "stdout",
          "text": [
            "Epoch 201/1000 loss 0.00172 val_loss 0.00212 acc 0.99968 val_acc 0.99941\n"
          ]
        },
        {
          "output_type": "stream",
          "name": "stderr",
          "text": [
            "loss 0.00098 acc 0.99968: 100%|██████████| 297/297 [00:04<00:00, 69.87it/s]\n",
            "val_loss 0.00090 val_acc 0.99941: 100%|██████████| 53/53 [00:01<00:00, 44.11it/s]\n"
          ]
        },
        {
          "output_type": "stream",
          "name": "stdout",
          "text": [
            "Epoch 202/1000 loss 0.00098 val_loss 0.00090 acc 0.99968 val_acc 0.99941\n"
          ]
        },
        {
          "output_type": "stream",
          "name": "stderr",
          "text": [
            "loss 0.00075 acc 0.99989: 100%|██████████| 297/297 [00:05<00:00, 49.93it/s]\n",
            "val_loss 0.00274 val_acc 0.99941: 100%|██████████| 53/53 [00:01<00:00, 45.19it/s]\n"
          ]
        },
        {
          "output_type": "stream",
          "name": "stdout",
          "text": [
            "Epoch 203/1000 loss 0.00075 val_loss 0.00274 acc 0.99989 val_acc 0.99941\n"
          ]
        },
        {
          "output_type": "stream",
          "name": "stderr",
          "text": [
            "loss 0.00115 acc 0.99968: 100%|██████████| 297/297 [00:04<00:00, 66.85it/s]\n",
            "val_loss 0.00019 val_acc 1.00000: 100%|██████████| 53/53 [00:00<00:00, 61.95it/s]\n"
          ]
        },
        {
          "output_type": "stream",
          "name": "stdout",
          "text": [
            "Epoch 204/1000 loss 0.00115 val_loss 0.00019 acc 0.99968 val_acc 1.00000\n"
          ]
        },
        {
          "output_type": "stream",
          "name": "stderr",
          "text": [
            "loss 0.00127 acc 0.99958: 100%|██████████| 297/297 [00:04<00:00, 70.82it/s]\n",
            "val_loss 0.00039 val_acc 1.00000: 100%|██████████| 53/53 [00:01<00:00, 51.27it/s]\n"
          ]
        },
        {
          "output_type": "stream",
          "name": "stdout",
          "text": [
            "Epoch 205/1000 loss 0.00127 val_loss 0.00039 acc 0.99958 val_acc 1.00000\n"
          ]
        },
        {
          "output_type": "stream",
          "name": "stderr",
          "text": [
            "loss 0.00144 acc 0.99947: 100%|██████████| 297/297 [00:05<00:00, 50.18it/s]\n",
            "val_loss 0.00053 val_acc 1.00000: 100%|██████████| 53/53 [00:01<00:00, 40.20it/s]\n"
          ]
        },
        {
          "output_type": "stream",
          "name": "stdout",
          "text": [
            "Epoch 206/1000 loss 0.00144 val_loss 0.00053 acc 0.99947 val_acc 1.00000\n"
          ]
        },
        {
          "output_type": "stream",
          "name": "stderr",
          "text": [
            "loss 0.00104 acc 0.99958: 100%|██████████| 297/297 [00:04<00:00, 61.45it/s]\n",
            "val_loss 0.00035 val_acc 1.00000: 100%|██████████| 53/53 [00:00<00:00, 59.46it/s]\n"
          ]
        },
        {
          "output_type": "stream",
          "name": "stdout",
          "text": [
            "Epoch 207/1000 loss 0.00104 val_loss 0.00035 acc 0.99958 val_acc 1.00000\n"
          ]
        },
        {
          "output_type": "stream",
          "name": "stderr",
          "text": [
            "loss 0.00059 acc 0.99979: 100%|██████████| 297/297 [00:04<00:00, 69.63it/s]\n",
            "val_loss 0.00080 val_acc 1.00000: 100%|██████████| 53/53 [00:00<00:00, 60.01it/s]\n"
          ]
        },
        {
          "output_type": "stream",
          "name": "stdout",
          "text": [
            "Epoch 208/1000 loss 0.00059 val_loss 0.00080 acc 0.99979 val_acc 1.00000\n"
          ]
        },
        {
          "output_type": "stream",
          "name": "stderr",
          "text": [
            "loss 0.00019 acc 1.00000: 100%|██████████| 297/297 [00:05<00:00, 53.90it/s]\n",
            "val_loss 0.00009 val_acc 1.00000: 100%|██████████| 53/53 [00:01<00:00, 41.25it/s]\n"
          ]
        },
        {
          "output_type": "stream",
          "name": "stdout",
          "text": [
            "Epoch 209/1000 loss 0.00019 val_loss 0.00009 acc 1.00000 val_acc 1.00000\n"
          ]
        },
        {
          "output_type": "stream",
          "name": "stderr",
          "text": [
            "loss 0.00069 acc 0.99989: 100%|██████████| 297/297 [00:05<00:00, 56.96it/s]\n",
            "val_loss 0.00012 val_acc 1.00000: 100%|██████████| 53/53 [00:00<00:00, 59.79it/s]\n"
          ]
        },
        {
          "output_type": "stream",
          "name": "stdout",
          "text": [
            "Epoch 210/1000 loss 0.00069 val_loss 0.00012 acc 0.99989 val_acc 1.00000\n"
          ]
        },
        {
          "output_type": "stream",
          "name": "stderr",
          "text": [
            "loss 0.00013 acc 1.00000: 100%|██████████| 297/297 [00:04<00:00, 70.53it/s]\n",
            "val_loss 0.00004 val_acc 1.00000: 100%|██████████| 53/53 [00:00<00:00, 61.06it/s]\n"
          ]
        },
        {
          "output_type": "stream",
          "name": "stdout",
          "text": [
            "Epoch 211/1000 loss 0.00013 val_loss 0.00004 acc 1.00000 val_acc 1.00000\n"
          ]
        },
        {
          "output_type": "stream",
          "name": "stderr",
          "text": [
            "loss 0.00111 acc 0.99968: 100%|██████████| 297/297 [00:05<00:00, 57.92it/s]\n",
            "val_loss 0.00014 val_acc 1.00000: 100%|██████████| 53/53 [00:01<00:00, 40.71it/s]\n"
          ]
        },
        {
          "output_type": "stream",
          "name": "stdout",
          "text": [
            "Epoch 212/1000 loss 0.00111 val_loss 0.00014 acc 0.99968 val_acc 1.00000\n"
          ]
        },
        {
          "output_type": "stream",
          "name": "stderr",
          "text": [
            "loss 0.00092 acc 0.99968: 100%|██████████| 297/297 [00:06<00:00, 48.44it/s]\n",
            "val_loss 0.00131 val_acc 0.99941: 100%|██████████| 53/53 [00:01<00:00, 52.75it/s]\n"
          ]
        },
        {
          "output_type": "stream",
          "name": "stdout",
          "text": [
            "Epoch 213/1000 loss 0.00092 val_loss 0.00131 acc 0.99968 val_acc 0.99941\n"
          ]
        },
        {
          "output_type": "stream",
          "name": "stderr",
          "text": [
            "loss 0.00059 acc 0.99979: 100%|██████████| 297/297 [00:04<00:00, 69.63it/s]\n",
            "val_loss 0.00020 val_acc 1.00000: 100%|██████████| 53/53 [00:00<00:00, 60.29it/s]\n"
          ]
        },
        {
          "output_type": "stream",
          "name": "stdout",
          "text": [
            "Epoch 214/1000 loss 0.00059 val_loss 0.00020 acc 0.99979 val_acc 1.00000\n"
          ]
        },
        {
          "output_type": "stream",
          "name": "stderr",
          "text": [
            "loss 0.00110 acc 0.99979: 100%|██████████| 297/297 [00:04<00:00, 67.77it/s]\n",
            "val_loss 0.00010 val_acc 1.00000: 100%|██████████| 53/53 [00:01<00:00, 48.03it/s]\n"
          ]
        },
        {
          "output_type": "stream",
          "name": "stdout",
          "text": [
            "Epoch 215/1000 loss 0.00110 val_loss 0.00010 acc 0.99979 val_acc 1.00000\n"
          ]
        },
        {
          "output_type": "stream",
          "name": "stderr",
          "text": [
            "loss 0.00044 acc 0.99979: 100%|██████████| 297/297 [00:05<00:00, 50.63it/s]\n",
            "val_loss 0.00008 val_acc 1.00000: 100%|██████████| 53/53 [00:01<00:00, 44.99it/s]\n"
          ]
        },
        {
          "output_type": "stream",
          "name": "stdout",
          "text": [
            "Epoch 216/1000 loss 0.00044 val_loss 0.00008 acc 0.99979 val_acc 1.00000\n"
          ]
        },
        {
          "output_type": "stream",
          "name": "stderr",
          "text": [
            "loss 0.00025 acc 0.99989: 100%|██████████| 297/297 [00:04<00:00, 64.58it/s]\n",
            "val_loss 0.00041 val_acc 1.00000: 100%|██████████| 53/53 [00:00<00:00, 58.61it/s]\n"
          ]
        },
        {
          "output_type": "stream",
          "name": "stdout",
          "text": [
            "Epoch 217/1000 loss 0.00025 val_loss 0.00041 acc 0.99989 val_acc 1.00000\n"
          ]
        },
        {
          "output_type": "stream",
          "name": "stderr",
          "text": [
            "loss 0.00264 acc 0.99909: 100%|██████████| 297/297 [00:04<00:00, 70.16it/s]\n",
            "val_loss 0.00104 val_acc 0.99941: 100%|██████████| 53/53 [00:00<00:00, 61.62it/s]\n"
          ]
        },
        {
          "output_type": "stream",
          "name": "stdout",
          "text": [
            "Epoch 218/1000 loss 0.00264 val_loss 0.00104 acc 0.99909 val_acc 0.99941\n"
          ]
        },
        {
          "output_type": "stream",
          "name": "stderr",
          "text": [
            "loss 0.00276 acc 0.99884: 100%|██████████| 297/297 [00:05<00:00, 51.98it/s]\n",
            "val_loss 0.00373 val_acc 0.99882: 100%|██████████| 53/53 [00:01<00:00, 40.75it/s]\n"
          ]
        },
        {
          "output_type": "stream",
          "name": "stdout",
          "text": [
            "Epoch 219/1000 loss 0.00276 val_loss 0.00373 acc 0.99884 val_acc 0.99882\n"
          ]
        },
        {
          "output_type": "stream",
          "name": "stderr",
          "text": [
            "loss 0.00057 acc 0.99968: 100%|██████████| 297/297 [00:05<00:00, 56.80it/s]\n",
            "val_loss 0.00281 val_acc 0.99882: 100%|██████████| 53/53 [00:00<00:00, 60.60it/s]\n"
          ]
        },
        {
          "output_type": "stream",
          "name": "stdout",
          "text": [
            "Epoch 220/1000 loss 0.00057 val_loss 0.00281 acc 0.99968 val_acc 0.99882\n",
            "Checkpoint guardado en /content/drive/MyDrive/SIS421 prueba dataset 1 test/Checkpoints/checkpoint.pth (Epoch 220)\n"
          ]
        },
        {
          "output_type": "stream",
          "name": "stderr",
          "text": [
            "loss 0.00090 acc 0.99968: 100%|██████████| 297/297 [00:04<00:00, 68.13it/s]\n",
            "val_loss 0.00375 val_acc 0.99823: 100%|██████████| 53/53 [00:00<00:00, 59.36it/s]\n"
          ]
        },
        {
          "output_type": "stream",
          "name": "stdout",
          "text": [
            "Epoch 221/1000 loss 0.00090 val_loss 0.00375 acc 0.99968 val_acc 0.99823\n"
          ]
        },
        {
          "output_type": "stream",
          "name": "stderr",
          "text": [
            "loss 0.00196 acc 0.99947: 100%|██████████| 297/297 [00:05<00:00, 58.86it/s]\n",
            "val_loss 0.00044 val_acc 1.00000: 100%|██████████| 53/53 [00:01<00:00, 45.00it/s]\n"
          ]
        },
        {
          "output_type": "stream",
          "name": "stdout",
          "text": [
            "Epoch 222/1000 loss 0.00196 val_loss 0.00044 acc 0.99947 val_acc 1.00000\n"
          ]
        },
        {
          "output_type": "stream",
          "name": "stderr",
          "text": [
            "loss 0.00060 acc 0.99979: 100%|██████████| 297/297 [00:06<00:00, 47.92it/s]\n",
            "val_loss 0.00023 val_acc 1.00000: 100%|██████████| 53/53 [00:00<00:00, 53.58it/s]\n"
          ]
        },
        {
          "output_type": "stream",
          "name": "stdout",
          "text": [
            "Epoch 223/1000 loss 0.00060 val_loss 0.00023 acc 0.99979 val_acc 1.00000\n"
          ]
        },
        {
          "output_type": "stream",
          "name": "stderr",
          "text": [
            "loss 0.00007 acc 1.00000: 100%|██████████| 297/297 [00:04<00:00, 69.30it/s]\n",
            "val_loss 0.00005 val_acc 1.00000: 100%|██████████| 53/53 [00:00<00:00, 62.20it/s]\n"
          ]
        },
        {
          "output_type": "stream",
          "name": "stdout",
          "text": [
            "Epoch 224/1000 loss 0.00007 val_loss 0.00005 acc 1.00000 val_acc 1.00000\n"
          ]
        },
        {
          "output_type": "stream",
          "name": "stderr",
          "text": [
            "loss 0.00030 acc 0.99989: 100%|██████████| 297/297 [00:04<00:00, 64.80it/s]\n",
            "val_loss 0.00010 val_acc 1.00000: 100%|██████████| 53/53 [00:01<00:00, 43.76it/s]\n"
          ]
        },
        {
          "output_type": "stream",
          "name": "stdout",
          "text": [
            "Epoch 225/1000 loss 0.00030 val_loss 0.00010 acc 0.99989 val_acc 1.00000\n"
          ]
        },
        {
          "output_type": "stream",
          "name": "stderr",
          "text": [
            "loss 0.00018 acc 1.00000: 100%|██████████| 297/297 [00:06<00:00, 49.42it/s]\n",
            "val_loss 0.00011 val_acc 1.00000: 100%|██████████| 53/53 [00:01<00:00, 42.11it/s]\n"
          ]
        },
        {
          "output_type": "stream",
          "name": "stdout",
          "text": [
            "Epoch 226/1000 loss 0.00018 val_loss 0.00011 acc 1.00000 val_acc 1.00000\n"
          ]
        },
        {
          "output_type": "stream",
          "name": "stderr",
          "text": [
            "loss 0.00078 acc 0.99979: 100%|██████████| 297/297 [00:04<00:00, 65.74it/s]\n",
            "val_loss 0.00011 val_acc 1.00000: 100%|██████████| 53/53 [00:00<00:00, 60.09it/s]\n"
          ]
        },
        {
          "output_type": "stream",
          "name": "stdout",
          "text": [
            "Epoch 227/1000 loss 0.00078 val_loss 0.00011 acc 0.99979 val_acc 1.00000\n"
          ]
        },
        {
          "output_type": "stream",
          "name": "stderr",
          "text": [
            "loss 0.00003 acc 1.00000: 100%|██████████| 297/297 [00:04<00:00, 69.98it/s]\n",
            "val_loss 0.00003 val_acc 1.00000: 100%|██████████| 53/53 [00:00<00:00, 61.00it/s]\n"
          ]
        },
        {
          "output_type": "stream",
          "name": "stdout",
          "text": [
            "Epoch 228/1000 loss 0.00003 val_loss 0.00003 acc 1.00000 val_acc 1.00000\n"
          ]
        },
        {
          "output_type": "stream",
          "name": "stderr",
          "text": [
            "loss 0.00054 acc 0.99989: 100%|██████████| 297/297 [00:05<00:00, 52.10it/s]\n",
            "val_loss 0.59365 val_acc 0.94623: 100%|██████████| 53/53 [00:01<00:00, 43.04it/s]\n"
          ]
        },
        {
          "output_type": "stream",
          "name": "stdout",
          "text": [
            "Epoch 229/1000 loss 0.00054 val_loss 0.59365 acc 0.99989 val_acc 0.94623\n"
          ]
        },
        {
          "output_type": "stream",
          "name": "stderr",
          "text": [
            "loss 0.00229 acc 0.99905: 100%|██████████| 297/297 [00:05<00:00, 52.87it/s]\n",
            "val_loss 0.00421 val_acc 0.99823: 100%|██████████| 53/53 [00:00<00:00, 59.17it/s]\n"
          ]
        },
        {
          "output_type": "stream",
          "name": "stdout",
          "text": [
            "Epoch 230/1000 loss 0.00229 val_loss 0.00421 acc 0.99905 val_acc 0.99823\n"
          ]
        },
        {
          "output_type": "stream",
          "name": "stderr",
          "text": [
            "loss 0.00164 acc 0.99958: 100%|██████████| 297/297 [00:04<00:00, 68.24it/s]\n",
            "val_loss 0.00009 val_acc 1.00000: 100%|██████████| 53/53 [00:00<00:00, 61.06it/s]\n"
          ]
        },
        {
          "output_type": "stream",
          "name": "stdout",
          "text": [
            "Epoch 231/1000 loss 0.00164 val_loss 0.00009 acc 0.99958 val_acc 1.00000\n"
          ]
        },
        {
          "output_type": "stream",
          "name": "stderr",
          "text": [
            "loss 0.00066 acc 0.99979: 100%|██████████| 297/297 [00:04<00:00, 61.07it/s]\n",
            "val_loss 0.00020 val_acc 1.00000: 100%|██████████| 53/53 [00:01<00:00, 42.54it/s]\n"
          ]
        },
        {
          "output_type": "stream",
          "name": "stdout",
          "text": [
            "Epoch 232/1000 loss 0.00066 val_loss 0.00020 acc 0.99979 val_acc 1.00000\n"
          ]
        },
        {
          "output_type": "stream",
          "name": "stderr",
          "text": [
            "loss 0.00167 acc 0.99937: 100%|██████████| 297/297 [00:06<00:00, 46.99it/s]\n",
            "val_loss 0.00464 val_acc 0.99941: 100%|██████████| 53/53 [00:01<00:00, 51.01it/s]\n"
          ]
        },
        {
          "output_type": "stream",
          "name": "stdout",
          "text": [
            "Epoch 233/1000 loss 0.00167 val_loss 0.00464 acc 0.99937 val_acc 0.99941\n"
          ]
        },
        {
          "output_type": "stream",
          "name": "stderr",
          "text": [
            "loss 0.00180 acc 0.99979: 100%|██████████| 297/297 [00:04<00:00, 67.92it/s]\n",
            "val_loss 0.00174 val_acc 0.99941: 100%|██████████| 53/53 [00:00<00:00, 62.29it/s]\n"
          ]
        },
        {
          "output_type": "stream",
          "name": "stdout",
          "text": [
            "Epoch 234/1000 loss 0.00180 val_loss 0.00174 acc 0.99979 val_acc 0.99941\n"
          ]
        },
        {
          "output_type": "stream",
          "name": "stderr",
          "text": [
            "loss 0.00076 acc 0.99947: 100%|██████████| 297/297 [00:04<00:00, 63.81it/s]\n",
            "val_loss 0.00054 val_acc 1.00000: 100%|██████████| 53/53 [00:01<00:00, 44.36it/s]\n"
          ]
        },
        {
          "output_type": "stream",
          "name": "stdout",
          "text": [
            "Epoch 235/1000 loss 0.00076 val_loss 0.00054 acc 0.99947 val_acc 1.00000\n"
          ]
        },
        {
          "output_type": "stream",
          "name": "stderr",
          "text": [
            "loss 0.00075 acc 0.99968: 100%|██████████| 297/297 [00:06<00:00, 48.13it/s]\n",
            "val_loss 0.00024 val_acc 1.00000: 100%|██████████| 53/53 [00:01<00:00, 44.04it/s]\n"
          ]
        },
        {
          "output_type": "stream",
          "name": "stdout",
          "text": [
            "Epoch 236/1000 loss 0.00075 val_loss 0.00024 acc 0.99968 val_acc 1.00000\n"
          ]
        },
        {
          "output_type": "stream",
          "name": "stderr",
          "text": [
            "loss 0.00107 acc 0.99940: 100%|██████████| 297/297 [00:04<00:00, 67.46it/s]\n",
            "val_loss 0.00332 val_acc 0.99823: 100%|██████████| 53/53 [00:00<00:00, 59.18it/s]\n"
          ]
        },
        {
          "output_type": "stream",
          "name": "stdout",
          "text": [
            "Epoch 237/1000 loss 0.00107 val_loss 0.00332 acc 0.99940 val_acc 0.99823\n"
          ]
        },
        {
          "output_type": "stream",
          "name": "stderr",
          "text": [
            "loss 0.00162 acc 0.99937: 100%|██████████| 297/297 [00:04<00:00, 68.41it/s]\n",
            "val_loss 0.00022 val_acc 1.00000: 100%|██████████| 53/53 [00:01<00:00, 50.56it/s]\n"
          ]
        },
        {
          "output_type": "stream",
          "name": "stdout",
          "text": [
            "Epoch 238/1000 loss 0.00162 val_loss 0.00022 acc 0.99937 val_acc 1.00000\n"
          ]
        },
        {
          "output_type": "stream",
          "name": "stderr",
          "text": [
            "loss 0.00098 acc 0.99968: 100%|██████████| 297/297 [00:05<00:00, 50.09it/s]\n",
            "val_loss 0.00035 val_acc 1.00000: 100%|██████████| 53/53 [00:01<00:00, 40.72it/s]\n"
          ]
        },
        {
          "output_type": "stream",
          "name": "stdout",
          "text": [
            "Epoch 239/1000 loss 0.00098 val_loss 0.00035 acc 0.99968 val_acc 1.00000\n"
          ]
        },
        {
          "output_type": "stream",
          "name": "stderr",
          "text": [
            "loss 0.00015 acc 1.00000: 100%|██████████| 297/297 [00:05<00:00, 56.50it/s]\n",
            "val_loss 0.00024 val_acc 1.00000: 100%|██████████| 53/53 [00:00<00:00, 58.25it/s]\n"
          ]
        },
        {
          "output_type": "stream",
          "name": "stdout",
          "text": [
            "Epoch 240/1000 loss 0.00015 val_loss 0.00024 acc 1.00000 val_acc 1.00000\n",
            "Checkpoint guardado en /content/drive/MyDrive/SIS421 prueba dataset 1 test/Checkpoints/checkpoint.pth (Epoch 240)\n"
          ]
        },
        {
          "output_type": "stream",
          "name": "stderr",
          "text": [
            "loss 0.00011 acc 1.00000: 100%|██████████| 297/297 [00:04<00:00, 67.81it/s]\n",
            "val_loss 0.00019 val_acc 1.00000: 100%|██████████| 53/53 [00:00<00:00, 56.98it/s]\n"
          ]
        },
        {
          "output_type": "stream",
          "name": "stdout",
          "text": [
            "Epoch 241/1000 loss 0.00011 val_loss 0.00019 acc 1.00000 val_acc 1.00000\n"
          ]
        },
        {
          "output_type": "stream",
          "name": "stderr",
          "text": [
            "loss 0.00114 acc 0.99989: 100%|██████████| 297/297 [00:05<00:00, 51.60it/s]\n",
            "val_loss 0.00371 val_acc 0.99941: 100%|██████████| 53/53 [00:01<00:00, 45.57it/s]\n"
          ]
        },
        {
          "output_type": "stream",
          "name": "stdout",
          "text": [
            "Epoch 242/1000 loss 0.00114 val_loss 0.00371 acc 0.99989 val_acc 0.99941\n"
          ]
        },
        {
          "output_type": "stream",
          "name": "stderr",
          "text": [
            "loss 0.00013 acc 1.00000: 100%|██████████| 297/297 [00:05<00:00, 57.47it/s]\n",
            "val_loss 0.00294 val_acc 0.99941: 100%|██████████| 53/53 [00:00<00:00, 56.49it/s]\n"
          ]
        },
        {
          "output_type": "stream",
          "name": "stdout",
          "text": [
            "Epoch 243/1000 loss 0.00013 val_loss 0.00294 acc 1.00000 val_acc 0.99941\n"
          ]
        },
        {
          "output_type": "stream",
          "name": "stderr",
          "text": [
            "loss 0.00025 acc 1.00000: 100%|██████████| 297/297 [00:04<00:00, 67.56it/s]\n",
            "val_loss 0.00212 val_acc 0.99941: 100%|██████████| 53/53 [00:00<00:00, 60.21it/s]\n"
          ]
        },
        {
          "output_type": "stream",
          "name": "stdout",
          "text": [
            "Epoch 244/1000 loss 0.00025 val_loss 0.00212 acc 1.00000 val_acc 0.99941\n"
          ]
        },
        {
          "output_type": "stream",
          "name": "stderr",
          "text": [
            "loss 0.00027 acc 1.00000: 100%|██████████| 297/297 [00:05<00:00, 53.91it/s]\n",
            "val_loss 0.00484 val_acc 0.99882: 100%|██████████| 53/53 [00:01<00:00, 43.63it/s]\n"
          ]
        },
        {
          "output_type": "stream",
          "name": "stdout",
          "text": [
            "Epoch 245/1000 loss 0.00027 val_loss 0.00484 acc 1.00000 val_acc 0.99882\n"
          ]
        },
        {
          "output_type": "stream",
          "name": "stderr",
          "text": [
            "loss 0.00081 acc 0.99968: 100%|██████████| 297/297 [00:06<00:00, 48.63it/s]\n",
            "val_loss 0.02705 val_acc 0.99705: 100%|██████████| 53/53 [00:01<00:00, 50.20it/s]\n"
          ]
        },
        {
          "output_type": "stream",
          "name": "stdout",
          "text": [
            "Epoch 246/1000 loss 0.00081 val_loss 0.02705 acc 0.99968 val_acc 0.99705\n"
          ]
        },
        {
          "output_type": "stream",
          "name": "stderr",
          "text": [
            "loss 0.00369 acc 0.99926: 100%|██████████| 297/297 [00:04<00:00, 66.55it/s]\n",
            "val_loss 0.00029 val_acc 1.00000: 100%|██████████| 53/53 [00:00<00:00, 59.19it/s]\n"
          ]
        },
        {
          "output_type": "stream",
          "name": "stdout",
          "text": [
            "Epoch 247/1000 loss 0.00369 val_loss 0.00029 acc 0.99926 val_acc 1.00000\n"
          ]
        },
        {
          "output_type": "stream",
          "name": "stderr",
          "text": [
            "loss 0.00036 acc 0.99979: 100%|██████████| 297/297 [00:04<00:00, 65.72it/s]\n",
            "val_loss 0.00028 val_acc 1.00000: 100%|██████████| 53/53 [00:01<00:00, 47.33it/s]\n"
          ]
        },
        {
          "output_type": "stream",
          "name": "stdout",
          "text": [
            "Epoch 248/1000 loss 0.00036 val_loss 0.00028 acc 0.99979 val_acc 1.00000\n"
          ]
        },
        {
          "output_type": "stream",
          "name": "stderr",
          "text": [
            "loss 0.00015 acc 1.00000: 100%|██████████| 297/297 [00:06<00:00, 48.93it/s]\n",
            "val_loss 0.00023 val_acc 1.00000: 100%|██████████| 53/53 [00:01<00:00, 43.36it/s]\n"
          ]
        },
        {
          "output_type": "stream",
          "name": "stdout",
          "text": [
            "Epoch 249/1000 loss 0.00015 val_loss 0.00023 acc 1.00000 val_acc 1.00000\n"
          ]
        },
        {
          "output_type": "stream",
          "name": "stderr",
          "text": [
            "loss 0.00111 acc 0.99958: 100%|██████████| 297/297 [00:04<00:00, 61.18it/s]\n",
            "val_loss 0.00347 val_acc 0.99882: 100%|██████████| 53/53 [00:00<00:00, 57.13it/s]\n"
          ]
        },
        {
          "output_type": "stream",
          "name": "stdout",
          "text": [
            "Epoch 250/1000 loss 0.00111 val_loss 0.00347 acc 0.99958 val_acc 0.99882\n"
          ]
        },
        {
          "output_type": "stream",
          "name": "stderr",
          "text": [
            "loss 0.00130 acc 0.99958: 100%|██████████| 297/297 [00:04<00:00, 66.17it/s]\n",
            "val_loss 0.00406 val_acc 0.99823: 100%|██████████| 53/53 [00:00<00:00, 58.06it/s]\n"
          ]
        },
        {
          "output_type": "stream",
          "name": "stdout",
          "text": [
            "Epoch 251/1000 loss 0.00130 val_loss 0.00406 acc 0.99958 val_acc 0.99823\n"
          ]
        },
        {
          "output_type": "stream",
          "name": "stderr",
          "text": [
            "loss 0.00056 acc 0.99989: 100%|██████████| 297/297 [00:06<00:00, 49.36it/s]\n",
            "val_loss 0.00195 val_acc 0.99823: 100%|██████████| 53/53 [00:01<00:00, 41.90it/s]\n"
          ]
        },
        {
          "output_type": "stream",
          "name": "stdout",
          "text": [
            "Epoch 252/1000 loss 0.00056 val_loss 0.00195 acc 0.99989 val_acc 0.99823\n"
          ]
        },
        {
          "output_type": "stream",
          "name": "stderr",
          "text": [
            "loss 0.00024 acc 0.99989: 100%|██████████| 297/297 [00:05<00:00, 59.33it/s]\n",
            "val_loss 0.00020 val_acc 1.00000: 100%|██████████| 53/53 [00:00<00:00, 57.24it/s]\n"
          ]
        },
        {
          "output_type": "stream",
          "name": "stdout",
          "text": [
            "Epoch 253/1000 loss 0.00024 val_loss 0.00020 acc 0.99989 val_acc 1.00000\n"
          ]
        },
        {
          "output_type": "stream",
          "name": "stderr",
          "text": [
            "loss 0.00047 acc 0.99979: 100%|██████████| 297/297 [00:04<00:00, 68.40it/s]\n",
            "val_loss 0.00187 val_acc 0.99882: 100%|██████████| 53/53 [00:00<00:00, 62.26it/s]\n"
          ]
        },
        {
          "output_type": "stream",
          "name": "stdout",
          "text": [
            "Epoch 254/1000 loss 0.00047 val_loss 0.00187 acc 0.99979 val_acc 0.99882\n"
          ]
        },
        {
          "output_type": "stream",
          "name": "stderr",
          "text": [
            "loss 0.00087 acc 0.99968: 100%|██████████| 297/297 [00:05<00:00, 51.96it/s]\n",
            "val_loss 0.00006 val_acc 1.00000: 100%|██████████| 53/53 [00:01<00:00, 45.13it/s]\n"
          ]
        },
        {
          "output_type": "stream",
          "name": "stdout",
          "text": [
            "Epoch 255/1000 loss 0.00087 val_loss 0.00006 acc 0.99968 val_acc 1.00000\n"
          ]
        },
        {
          "output_type": "stream",
          "name": "stderr",
          "text": [
            "loss 0.00070 acc 0.99961: 100%|██████████| 297/297 [00:05<00:00, 50.11it/s]\n",
            "val_loss 0.00002 val_acc 1.00000: 100%|██████████| 53/53 [00:00<00:00, 56.05it/s]\n"
          ]
        },
        {
          "output_type": "stream",
          "name": "stdout",
          "text": [
            "Epoch 256/1000 loss 0.00070 val_loss 0.00002 acc 0.99961 val_acc 1.00000\n"
          ]
        },
        {
          "output_type": "stream",
          "name": "stderr",
          "text": [
            "loss 0.00301 acc 0.99937: 100%|██████████| 297/297 [00:04<00:00, 66.79it/s]\n",
            "val_loss 0.00371 val_acc 0.99823: 100%|██████████| 53/53 [00:00<00:00, 60.31it/s]\n"
          ]
        },
        {
          "output_type": "stream",
          "name": "stdout",
          "text": [
            "Epoch 257/1000 loss 0.00301 val_loss 0.00371 acc 0.99937 val_acc 0.99823\n"
          ]
        },
        {
          "output_type": "stream",
          "name": "stderr",
          "text": [
            "loss 0.00027 acc 0.99989: 100%|██████████| 297/297 [00:04<00:00, 63.27it/s]\n",
            "val_loss 0.00153 val_acc 0.99882: 100%|██████████| 53/53 [00:01<00:00, 43.04it/s]\n"
          ]
        },
        {
          "output_type": "stream",
          "name": "stdout",
          "text": [
            "Epoch 258/1000 loss 0.00027 val_loss 0.00153 acc 0.99989 val_acc 0.99882\n"
          ]
        },
        {
          "output_type": "stream",
          "name": "stderr",
          "text": [
            "loss 0.00184 acc 0.99947: 100%|██████████| 297/297 [00:05<00:00, 50.97it/s]\n",
            "val_loss 0.00009 val_acc 1.00000: 100%|██████████| 53/53 [00:01<00:00, 50.69it/s]\n"
          ]
        },
        {
          "output_type": "stream",
          "name": "stdout",
          "text": [
            "Epoch 259/1000 loss 0.00184 val_loss 0.00009 acc 0.99947 val_acc 1.00000\n"
          ]
        },
        {
          "output_type": "stream",
          "name": "stderr",
          "text": [
            "loss 0.00015 acc 1.00000: 100%|██████████| 297/297 [00:04<00:00, 64.48it/s]\n",
            "val_loss 0.00004 val_acc 1.00000: 100%|██████████| 53/53 [00:00<00:00, 59.06it/s]\n"
          ]
        },
        {
          "output_type": "stream",
          "name": "stdout",
          "text": [
            "Epoch 260/1000 loss 0.00015 val_loss 0.00004 acc 1.00000 val_acc 1.00000\n",
            "Checkpoint guardado en /content/drive/MyDrive/SIS421 prueba dataset 1 test/Checkpoints/checkpoint.pth (Epoch 260)\n"
          ]
        },
        {
          "output_type": "stream",
          "name": "stderr",
          "text": [
            "loss 0.00126 acc 0.99937: 100%|██████████| 297/297 [00:04<00:00, 65.19it/s]\n",
            "val_loss 0.00094 val_acc 1.00000: 100%|██████████| 53/53 [00:01<00:00, 40.54it/s]\n"
          ]
        },
        {
          "output_type": "stream",
          "name": "stdout",
          "text": [
            "Epoch 261/1000 loss 0.00126 val_loss 0.00094 acc 0.99937 val_acc 1.00000\n"
          ]
        },
        {
          "output_type": "stream",
          "name": "stderr",
          "text": [
            "loss 0.00024 acc 0.99989: 100%|██████████| 297/297 [00:06<00:00, 49.06it/s]\n",
            "val_loss 0.00184 val_acc 0.99941: 100%|██████████| 53/53 [00:01<00:00, 41.53it/s]\n"
          ]
        },
        {
          "output_type": "stream",
          "name": "stdout",
          "text": [
            "Epoch 262/1000 loss 0.00024 val_loss 0.00184 acc 0.99989 val_acc 0.99941\n"
          ]
        },
        {
          "output_type": "stream",
          "name": "stderr",
          "text": [
            "loss 0.00337 acc 0.99919: 100%|██████████| 297/297 [00:04<00:00, 67.19it/s]\n",
            "val_loss 0.00008 val_acc 1.00000: 100%|██████████| 53/53 [00:00<00:00, 60.79it/s]\n"
          ]
        },
        {
          "output_type": "stream",
          "name": "stdout",
          "text": [
            "Epoch 263/1000 loss 0.00337 val_loss 0.00008 acc 0.99919 val_acc 1.00000\n"
          ]
        },
        {
          "output_type": "stream",
          "name": "stderr",
          "text": [
            "loss 0.00055 acc 0.99979: 100%|██████████| 297/297 [00:04<00:00, 65.28it/s]\n",
            "val_loss 0.00001 val_acc 1.00000: 100%|██████████| 53/53 [00:01<00:00, 46.28it/s]\n"
          ]
        },
        {
          "output_type": "stream",
          "name": "stdout",
          "text": [
            "Epoch 264/1000 loss 0.00055 val_loss 0.00001 acc 0.99979 val_acc 1.00000\n"
          ]
        },
        {
          "output_type": "stream",
          "name": "stderr",
          "text": [
            "loss 0.00035 acc 0.99989: 100%|██████████| 297/297 [00:05<00:00, 50.91it/s]\n",
            "val_loss 0.00004 val_acc 1.00000: 100%|██████████| 53/53 [00:01<00:00, 43.65it/s]\n"
          ]
        },
        {
          "output_type": "stream",
          "name": "stdout",
          "text": [
            "Epoch 265/1000 loss 0.00035 val_loss 0.00004 acc 0.99989 val_acc 1.00000\n"
          ]
        },
        {
          "output_type": "stream",
          "name": "stderr",
          "text": [
            "loss 0.00062 acc 0.99979: 100%|██████████| 297/297 [00:04<00:00, 59.53it/s]\n",
            "val_loss 0.00002 val_acc 1.00000: 100%|██████████| 53/53 [00:00<00:00, 58.15it/s]\n"
          ]
        },
        {
          "output_type": "stream",
          "name": "stdout",
          "text": [
            "Epoch 266/1000 loss 0.00062 val_loss 0.00002 acc 0.99979 val_acc 1.00000\n"
          ]
        },
        {
          "output_type": "stream",
          "name": "stderr",
          "text": [
            "loss 0.00106 acc 0.99968: 100%|██████████| 297/297 [00:04<00:00, 67.65it/s]\n",
            "val_loss 0.00314 val_acc 0.99882: 100%|██████████| 53/53 [00:00<00:00, 57.82it/s]\n"
          ]
        },
        {
          "output_type": "stream",
          "name": "stdout",
          "text": [
            "Epoch 267/1000 loss 0.00106 val_loss 0.00314 acc 0.99968 val_acc 0.99882\n"
          ]
        },
        {
          "output_type": "stream",
          "name": "stderr",
          "text": [
            "loss 0.00254 acc 0.99937: 100%|██████████| 297/297 [00:05<00:00, 52.17it/s]\n",
            "val_loss 0.00111 val_acc 0.99941: 100%|██████████| 53/53 [00:01<00:00, 43.39it/s]\n"
          ]
        },
        {
          "output_type": "stream",
          "name": "stdout",
          "text": [
            "Epoch 268/1000 loss 0.00254 val_loss 0.00111 acc 0.99937 val_acc 0.99941\n"
          ]
        },
        {
          "output_type": "stream",
          "name": "stderr",
          "text": [
            "loss 0.00147 acc 0.99937: 100%|██████████| 297/297 [00:05<00:00, 55.91it/s]\n",
            "val_loss 0.00042 val_acc 1.00000: 100%|██████████| 53/53 [00:00<00:00, 61.04it/s]\n"
          ]
        },
        {
          "output_type": "stream",
          "name": "stdout",
          "text": [
            "Epoch 269/1000 loss 0.00147 val_loss 0.00042 acc 0.99937 val_acc 1.00000\n"
          ]
        },
        {
          "output_type": "stream",
          "name": "stderr",
          "text": [
            "loss 0.00111 acc 0.99937: 100%|██████████| 297/297 [00:04<00:00, 64.53it/s]\n",
            "val_loss 0.00124 val_acc 0.99941: 100%|██████████| 53/53 [00:00<00:00, 58.19it/s]\n"
          ]
        },
        {
          "output_type": "stream",
          "name": "stdout",
          "text": [
            "Epoch 270/1000 loss 0.00111 val_loss 0.00124 acc 0.99937 val_acc 0.99941\n"
          ]
        },
        {
          "output_type": "stream",
          "name": "stderr",
          "text": [
            "loss 0.00034 acc 0.99979: 100%|██████████| 297/297 [00:05<00:00, 55.56it/s]\n",
            "val_loss 0.00013 val_acc 1.00000: 100%|██████████| 53/53 [00:01<00:00, 45.05it/s]\n"
          ]
        },
        {
          "output_type": "stream",
          "name": "stdout",
          "text": [
            "Epoch 271/1000 loss 0.00034 val_loss 0.00013 acc 0.99979 val_acc 1.00000\n"
          ]
        },
        {
          "output_type": "stream",
          "name": "stderr",
          "text": [
            "loss 0.00109 acc 0.99968: 100%|██████████| 297/297 [00:06<00:00, 48.12it/s]\n",
            "val_loss 0.00540 val_acc 0.99823: 100%|██████████| 53/53 [00:01<00:00, 52.10it/s]\n"
          ]
        },
        {
          "output_type": "stream",
          "name": "stdout",
          "text": [
            "Epoch 272/1000 loss 0.00109 val_loss 0.00540 acc 0.99968 val_acc 0.99823\n"
          ]
        },
        {
          "output_type": "stream",
          "name": "stderr",
          "text": [
            "loss 0.00231 acc 0.99937: 100%|██████████| 297/297 [00:04<00:00, 68.01it/s]\n",
            "val_loss 0.00326 val_acc 0.99882: 100%|██████████| 53/53 [00:00<00:00, 59.51it/s]\n"
          ]
        },
        {
          "output_type": "stream",
          "name": "stdout",
          "text": [
            "Epoch 273/1000 loss 0.00231 val_loss 0.00326 acc 0.99937 val_acc 0.99882\n"
          ]
        },
        {
          "output_type": "stream",
          "name": "stderr",
          "text": [
            "loss 0.00220 acc 0.99937: 100%|██████████| 297/297 [00:04<00:00, 62.70it/s]\n",
            "val_loss 0.00094 val_acc 0.99941: 100%|██████████| 53/53 [00:01<00:00, 44.13it/s]\n"
          ]
        },
        {
          "output_type": "stream",
          "name": "stdout",
          "text": [
            "Epoch 274/1000 loss 0.00220 val_loss 0.00094 acc 0.99937 val_acc 0.99941\n"
          ]
        },
        {
          "output_type": "stream",
          "name": "stderr",
          "text": [
            "loss 0.00034 acc 0.99989: 100%|██████████| 297/297 [00:06<00:00, 48.54it/s]\n",
            "val_loss 0.00131 val_acc 0.99941: 100%|██████████| 53/53 [00:01<00:00, 43.85it/s]\n"
          ]
        },
        {
          "output_type": "stream",
          "name": "stdout",
          "text": [
            "Epoch 275/1000 loss 0.00034 val_loss 0.00131 acc 0.99989 val_acc 0.99941\n"
          ]
        },
        {
          "output_type": "stream",
          "name": "stderr",
          "text": [
            "loss 0.00274 acc 0.99937: 100%|██████████| 297/297 [00:04<00:00, 60.78it/s]\n",
            "val_loss 0.00012 val_acc 1.00000: 100%|██████████| 53/53 [00:00<00:00, 59.42it/s]\n"
          ]
        },
        {
          "output_type": "stream",
          "name": "stdout",
          "text": [
            "Epoch 276/1000 loss 0.00274 val_loss 0.00012 acc 0.99937 val_acc 1.00000\n"
          ]
        },
        {
          "output_type": "stream",
          "name": "stderr",
          "text": [
            "loss 0.00033 acc 0.99989: 100%|██████████| 297/297 [00:04<00:00, 65.88it/s]\n",
            "val_loss 0.00019 val_acc 1.00000: 100%|██████████| 53/53 [00:00<00:00, 58.45it/s]\n"
          ]
        },
        {
          "output_type": "stream",
          "name": "stdout",
          "text": [
            "Epoch 277/1000 loss 0.00033 val_loss 0.00019 acc 0.99989 val_acc 1.00000\n"
          ]
        },
        {
          "output_type": "stream",
          "name": "stderr",
          "text": [
            "loss 0.00058 acc 0.99989: 100%|██████████| 297/297 [00:05<00:00, 51.72it/s]\n",
            "val_loss 0.00002 val_acc 1.00000: 100%|██████████| 53/53 [00:01<00:00, 44.45it/s]\n"
          ]
        },
        {
          "output_type": "stream",
          "name": "stdout",
          "text": [
            "Epoch 278/1000 loss 0.00058 val_loss 0.00002 acc 0.99989 val_acc 1.00000\n"
          ]
        },
        {
          "output_type": "stream",
          "name": "stderr",
          "text": [
            "loss 0.00215 acc 0.99958: 100%|██████████| 297/297 [00:05<00:00, 54.08it/s]\n",
            "val_loss 0.00014 val_acc 1.00000: 100%|██████████| 53/53 [00:00<00:00, 56.59it/s]\n"
          ]
        },
        {
          "output_type": "stream",
          "name": "stdout",
          "text": [
            "Epoch 279/1000 loss 0.00215 val_loss 0.00014 acc 0.99958 val_acc 1.00000\n"
          ]
        },
        {
          "output_type": "stream",
          "name": "stderr",
          "text": [
            "loss 0.00028 acc 0.99989: 100%|██████████| 297/297 [00:04<00:00, 66.13it/s]\n",
            "val_loss 0.00257 val_acc 0.99811: 100%|██████████| 53/53 [00:00<00:00, 58.51it/s]\n"
          ]
        },
        {
          "output_type": "stream",
          "name": "stdout",
          "text": [
            "Epoch 280/1000 loss 0.00028 val_loss 0.00257 acc 0.99989 val_acc 0.99811\n",
            "Checkpoint guardado en /content/drive/MyDrive/SIS421 prueba dataset 1 test/Checkpoints/checkpoint.pth (Epoch 280)\n"
          ]
        },
        {
          "output_type": "stream",
          "name": "stderr",
          "text": [
            "loss 0.00058 acc 0.99979: 100%|██████████| 297/297 [00:05<00:00, 54.53it/s]\n",
            "val_loss 0.00024 val_acc 1.00000: 100%|██████████| 53/53 [00:01<00:00, 43.55it/s]\n"
          ]
        },
        {
          "output_type": "stream",
          "name": "stdout",
          "text": [
            "Epoch 281/1000 loss 0.00058 val_loss 0.00024 acc 0.99979 val_acc 1.00000\n"
          ]
        },
        {
          "output_type": "stream",
          "name": "stderr",
          "text": [
            "loss 0.00010 acc 1.00000: 100%|██████████| 297/297 [00:06<00:00, 48.92it/s]\n",
            "val_loss 0.00021 val_acc 1.00000: 100%|██████████| 53/53 [00:01<00:00, 52.46it/s]\n"
          ]
        },
        {
          "output_type": "stream",
          "name": "stdout",
          "text": [
            "Epoch 282/1000 loss 0.00010 val_loss 0.00021 acc 1.00000 val_acc 1.00000\n"
          ]
        },
        {
          "output_type": "stream",
          "name": "stderr",
          "text": [
            "loss 0.00080 acc 0.99968: 100%|██████████| 297/297 [00:04<00:00, 65.59it/s]\n",
            "val_loss 0.00003 val_acc 1.00000: 100%|██████████| 53/53 [00:00<00:00, 57.91it/s]\n"
          ]
        },
        {
          "output_type": "stream",
          "name": "stdout",
          "text": [
            "Epoch 283/1000 loss 0.00080 val_loss 0.00003 acc 0.99968 val_acc 1.00000\n"
          ]
        },
        {
          "output_type": "stream",
          "name": "stderr",
          "text": [
            "loss 0.00153 acc 0.99968: 100%|██████████| 297/297 [00:04<00:00, 65.07it/s]\n",
            "val_loss 0.00012 val_acc 1.00000: 100%|██████████| 53/53 [00:01<00:00, 43.07it/s]\n"
          ]
        },
        {
          "output_type": "stream",
          "name": "stdout",
          "text": [
            "Epoch 284/1000 loss 0.00153 val_loss 0.00012 acc 0.99968 val_acc 1.00000\n"
          ]
        },
        {
          "output_type": "stream",
          "name": "stderr",
          "text": [
            "loss 0.00182 acc 0.99947: 100%|██████████| 297/297 [00:06<00:00, 48.62it/s]\n",
            "val_loss 0.00575 val_acc 0.99823: 100%|██████████| 53/53 [00:01<00:00, 41.89it/s]\n"
          ]
        },
        {
          "output_type": "stream",
          "name": "stdout",
          "text": [
            "Epoch 285/1000 loss 0.00182 val_loss 0.00575 acc 0.99947 val_acc 0.99823\n"
          ]
        },
        {
          "output_type": "stream",
          "name": "stderr",
          "text": [
            "loss 0.00153 acc 0.99958: 100%|██████████| 297/297 [00:04<00:00, 61.87it/s]\n",
            "val_loss 0.00039 val_acc 1.00000: 100%|██████████| 53/53 [00:00<00:00, 58.17it/s]\n"
          ]
        },
        {
          "output_type": "stream",
          "name": "stdout",
          "text": [
            "Epoch 286/1000 loss 0.00153 val_loss 0.00039 acc 0.99958 val_acc 1.00000\n"
          ]
        },
        {
          "output_type": "stream",
          "name": "stderr",
          "text": [
            "loss 0.00016 acc 1.00000: 100%|██████████| 297/297 [00:04<00:00, 66.84it/s]\n",
            "val_loss 0.00007 val_acc 1.00000: 100%|██████████| 53/53 [00:00<00:00, 57.12it/s]\n"
          ]
        },
        {
          "output_type": "stream",
          "name": "stdout",
          "text": [
            "Epoch 287/1000 loss 0.00016 val_loss 0.00007 acc 1.00000 val_acc 1.00000\n"
          ]
        },
        {
          "output_type": "stream",
          "name": "stderr",
          "text": [
            "loss 0.00019 acc 1.00000: 100%|██████████| 297/297 [00:06<00:00, 49.44it/s]\n",
            "val_loss 0.00049 val_acc 1.00000: 100%|██████████| 53/53 [00:01<00:00, 44.83it/s]\n"
          ]
        },
        {
          "output_type": "stream",
          "name": "stdout",
          "text": [
            "Epoch 288/1000 loss 0.00019 val_loss 0.00049 acc 1.00000 val_acc 1.00000\n"
          ]
        },
        {
          "output_type": "stream",
          "name": "stderr",
          "text": [
            "loss 0.00066 acc 0.99979: 100%|██████████| 297/297 [00:05<00:00, 54.81it/s]\n",
            "val_loss 0.00043 val_acc 1.00000: 100%|██████████| 53/53 [00:00<00:00, 59.33it/s]\n"
          ]
        },
        {
          "output_type": "stream",
          "name": "stdout",
          "text": [
            "Epoch 289/1000 loss 0.00066 val_loss 0.00043 acc 0.99979 val_acc 1.00000\n"
          ]
        },
        {
          "output_type": "stream",
          "name": "stderr",
          "text": [
            "loss 0.00220 acc 0.99905: 100%|██████████| 297/297 [00:04<00:00, 64.86it/s]\n",
            "val_loss 0.00004 val_acc 1.00000: 100%|██████████| 53/53 [00:00<00:00, 56.53it/s]\n"
          ]
        },
        {
          "output_type": "stream",
          "name": "stdout",
          "text": [
            "Epoch 290/1000 loss 0.00220 val_loss 0.00004 acc 0.99905 val_acc 1.00000\n"
          ]
        },
        {
          "output_type": "stream",
          "name": "stderr",
          "text": [
            "loss 0.00023 acc 1.00000: 100%|██████████| 297/297 [00:05<00:00, 51.64it/s]\n",
            "val_loss 0.00003 val_acc 1.00000: 100%|██████████| 53/53 [00:01<00:00, 40.40it/s]\n"
          ]
        },
        {
          "output_type": "stream",
          "name": "stdout",
          "text": [
            "Epoch 291/1000 loss 0.00023 val_loss 0.00003 acc 1.00000 val_acc 1.00000\n"
          ]
        },
        {
          "output_type": "stream",
          "name": "stderr",
          "text": [
            "loss 0.00005 acc 1.00000: 100%|██████████| 297/297 [00:05<00:00, 53.61it/s]\n",
            "val_loss 0.00009 val_acc 1.00000: 100%|██████████| 53/53 [00:00<00:00, 55.63it/s]\n"
          ]
        },
        {
          "output_type": "stream",
          "name": "stdout",
          "text": [
            "Epoch 292/1000 loss 0.00005 val_loss 0.00009 acc 1.00000 val_acc 1.00000\n"
          ]
        },
        {
          "output_type": "stream",
          "name": "stderr",
          "text": [
            "loss 0.00011 acc 1.00000: 100%|██████████| 297/297 [00:04<00:00, 65.66it/s]\n",
            "val_loss 0.00120 val_acc 0.99941: 100%|██████████| 53/53 [00:00<00:00, 58.06it/s]\n"
          ]
        },
        {
          "output_type": "stream",
          "name": "stdout",
          "text": [
            "Epoch 293/1000 loss 0.00011 val_loss 0.00120 acc 1.00000 val_acc 0.99941\n"
          ]
        },
        {
          "output_type": "stream",
          "name": "stderr",
          "text": [
            "loss 0.00158 acc 0.99979: 100%|██████████| 297/297 [00:05<00:00, 54.82it/s]\n",
            "val_loss 0.00286 val_acc 0.99882: 100%|██████████| 53/53 [00:01<00:00, 43.61it/s]\n"
          ]
        },
        {
          "output_type": "stream",
          "name": "stdout",
          "text": [
            "Epoch 294/1000 loss 0.00158 val_loss 0.00286 acc 0.99979 val_acc 0.99882\n"
          ]
        },
        {
          "output_type": "stream",
          "name": "stderr",
          "text": [
            "loss 0.00120 acc 0.99958: 100%|██████████| 297/297 [00:06<00:00, 47.96it/s]\n",
            "val_loss 0.00026 val_acc 1.00000: 100%|██████████| 53/53 [00:01<00:00, 50.81it/s]\n"
          ]
        },
        {
          "output_type": "stream",
          "name": "stdout",
          "text": [
            "Epoch 295/1000 loss 0.00120 val_loss 0.00026 acc 0.99958 val_acc 1.00000\n"
          ]
        },
        {
          "output_type": "stream",
          "name": "stderr",
          "text": [
            "loss 0.00116 acc 0.99968: 100%|██████████| 297/297 [00:04<00:00, 66.17it/s]\n",
            "val_loss 0.00002 val_acc 1.00000: 100%|██████████| 53/53 [00:00<00:00, 59.05it/s]\n"
          ]
        },
        {
          "output_type": "stream",
          "name": "stdout",
          "text": [
            "Epoch 296/1000 loss 0.00116 val_loss 0.00002 acc 0.99968 val_acc 1.00000\n"
          ]
        },
        {
          "output_type": "stream",
          "name": "stderr",
          "text": [
            "loss 0.00490 acc 0.99895: 100%|██████████| 297/297 [00:04<00:00, 65.37it/s]\n",
            "val_loss 0.00020 val_acc 1.00000: 100%|██████████| 53/53 [00:01<00:00, 45.63it/s]\n"
          ]
        },
        {
          "output_type": "stream",
          "name": "stdout",
          "text": [
            "Epoch 297/1000 loss 0.00490 val_loss 0.00020 acc 0.99895 val_acc 1.00000\n"
          ]
        },
        {
          "output_type": "stream",
          "name": "stderr",
          "text": [
            "loss 0.00034 acc 1.00000: 100%|██████████| 297/297 [00:06<00:00, 45.82it/s]\n",
            "val_loss 0.00001 val_acc 1.00000: 100%|██████████| 53/53 [00:01<00:00, 37.75it/s]\n"
          ]
        },
        {
          "output_type": "stream",
          "name": "stdout",
          "text": [
            "Epoch 298/1000 loss 0.00034 val_loss 0.00001 acc 1.00000 val_acc 1.00000\n"
          ]
        },
        {
          "output_type": "stream",
          "name": "stderr",
          "text": [
            "loss 0.00017 acc 0.99989: 100%|██████████| 297/297 [00:04<00:00, 60.28it/s]\n",
            "val_loss 0.00002 val_acc 1.00000: 100%|██████████| 53/53 [00:00<00:00, 57.99it/s]\n"
          ]
        },
        {
          "output_type": "stream",
          "name": "stdout",
          "text": [
            "Epoch 299/1000 loss 0.00017 val_loss 0.00002 acc 0.99989 val_acc 1.00000\n"
          ]
        },
        {
          "output_type": "stream",
          "name": "stderr",
          "text": [
            "loss 0.00012 acc 1.00000: 100%|██████████| 297/297 [00:04<00:00, 66.88it/s]\n",
            "val_loss 0.00005 val_acc 1.00000: 100%|██████████| 53/53 [00:01<00:00, 52.05it/s]\n"
          ]
        },
        {
          "output_type": "stream",
          "name": "stdout",
          "text": [
            "Epoch 300/1000 loss 0.00012 val_loss 0.00005 acc 1.00000 val_acc 1.00000\n",
            "Checkpoint guardado en /content/drive/MyDrive/SIS421 prueba dataset 1 test/Checkpoints/checkpoint.pth (Epoch 300)\n"
          ]
        },
        {
          "output_type": "stream",
          "name": "stderr",
          "text": [
            "loss 0.00020 acc 0.99979: 100%|██████████| 297/297 [00:06<00:00, 49.41it/s]\n",
            "val_loss 0.00001 val_acc 1.00000: 100%|██████████| 53/53 [00:01<00:00, 43.37it/s]\n"
          ]
        },
        {
          "output_type": "stream",
          "name": "stdout",
          "text": [
            "Epoch 301/1000 loss 0.00020 val_loss 0.00001 acc 0.99979 val_acc 1.00000\n"
          ]
        },
        {
          "output_type": "stream",
          "name": "stderr",
          "text": [
            "loss 0.00016 acc 0.99989: 100%|██████████| 297/297 [00:05<00:00, 56.48it/s]\n",
            "val_loss 0.00002 val_acc 1.00000: 100%|██████████| 53/53 [00:00<00:00, 58.62it/s]\n"
          ]
        },
        {
          "output_type": "stream",
          "name": "stdout",
          "text": [
            "Epoch 302/1000 loss 0.00016 val_loss 0.00002 acc 0.99989 val_acc 1.00000\n"
          ]
        },
        {
          "output_type": "stream",
          "name": "stderr",
          "text": [
            "loss 0.00022 acc 1.00000: 100%|██████████| 297/297 [00:04<00:00, 65.95it/s]\n",
            "val_loss 0.00000 val_acc 1.00000: 100%|██████████| 53/53 [00:00<00:00, 57.55it/s]\n"
          ]
        },
        {
          "output_type": "stream",
          "name": "stdout",
          "text": [
            "Epoch 303/1000 loss 0.00022 val_loss 0.00000 acc 1.00000 val_acc 1.00000\n"
          ]
        },
        {
          "output_type": "stream",
          "name": "stderr",
          "text": [
            "loss 0.00008 acc 1.00000: 100%|██████████| 297/297 [00:05<00:00, 51.03it/s]\n",
            "val_loss 0.00012 val_acc 1.00000: 100%|██████████| 53/53 [00:01<00:00, 44.00it/s]\n"
          ]
        },
        {
          "output_type": "stream",
          "name": "stdout",
          "text": [
            "Epoch 304/1000 loss 0.00008 val_loss 0.00012 acc 1.00000 val_acc 1.00000\n"
          ]
        },
        {
          "output_type": "stream",
          "name": "stderr",
          "text": [
            "loss 0.00006 acc 1.00000: 100%|██████████| 297/297 [00:05<00:00, 53.92it/s]\n",
            "val_loss 0.00004 val_acc 1.00000: 100%|██████████| 53/53 [00:00<00:00, 56.51it/s]\n"
          ]
        },
        {
          "output_type": "stream",
          "name": "stdout",
          "text": [
            "Epoch 305/1000 loss 0.00006 val_loss 0.00004 acc 1.00000 val_acc 1.00000\n"
          ]
        },
        {
          "output_type": "stream",
          "name": "stderr",
          "text": [
            "loss 0.00005 acc 1.00000: 100%|██████████| 297/297 [00:04<00:00, 67.34it/s]\n",
            "val_loss 0.00003 val_acc 1.00000: 100%|██████████| 53/53 [00:00<00:00, 57.29it/s]\n"
          ]
        },
        {
          "output_type": "stream",
          "name": "stdout",
          "text": [
            "Epoch 306/1000 loss 0.00005 val_loss 0.00003 acc 1.00000 val_acc 1.00000\n"
          ]
        },
        {
          "output_type": "stream",
          "name": "stderr",
          "text": [
            "loss 0.00053 acc 0.99989: 100%|██████████| 297/297 [00:05<00:00, 57.93it/s]\n",
            "val_loss 0.00003 val_acc 1.00000: 100%|██████████| 53/53 [00:01<00:00, 46.46it/s]\n"
          ]
        },
        {
          "output_type": "stream",
          "name": "stdout",
          "text": [
            "Epoch 307/1000 loss 0.00053 val_loss 0.00003 acc 0.99989 val_acc 1.00000\n"
          ]
        },
        {
          "output_type": "stream",
          "name": "stderr",
          "text": [
            "loss 0.00016 acc 1.00000: 100%|██████████| 297/297 [00:06<00:00, 47.55it/s]\n",
            "val_loss 0.00002 val_acc 1.00000: 100%|██████████| 53/53 [00:01<00:00, 48.20it/s]\n"
          ]
        },
        {
          "output_type": "stream",
          "name": "stdout",
          "text": [
            "Epoch 308/1000 loss 0.00016 val_loss 0.00002 acc 1.00000 val_acc 1.00000\n"
          ]
        },
        {
          "output_type": "stream",
          "name": "stderr",
          "text": [
            "loss 0.00025 acc 1.00000: 100%|██████████| 297/297 [00:04<00:00, 65.04it/s]\n",
            "val_loss 0.00001 val_acc 1.00000: 100%|██████████| 53/53 [00:00<00:00, 56.85it/s]\n"
          ]
        },
        {
          "output_type": "stream",
          "name": "stdout",
          "text": [
            "Epoch 309/1000 loss 0.00025 val_loss 0.00001 acc 1.00000 val_acc 1.00000\n"
          ]
        },
        {
          "output_type": "stream",
          "name": "stderr",
          "text": [
            "loss 0.00014 acc 1.00000: 100%|██████████| 297/297 [00:04<00:00, 62.36it/s]\n",
            "val_loss 0.00526 val_acc 0.99882: 100%|██████████| 53/53 [00:01<00:00, 42.62it/s]\n"
          ]
        },
        {
          "output_type": "stream",
          "name": "stdout",
          "text": [
            "Epoch 310/1000 loss 0.00014 val_loss 0.00526 acc 1.00000 val_acc 0.99882\n"
          ]
        },
        {
          "output_type": "stream",
          "name": "stderr",
          "text": [
            "loss 0.00443 acc 0.99895: 100%|██████████| 297/297 [00:06<00:00, 48.27it/s]\n",
            "val_loss 0.00036 val_acc 1.00000: 100%|██████████| 53/53 [00:01<00:00, 39.90it/s]\n"
          ]
        },
        {
          "output_type": "stream",
          "name": "stdout",
          "text": [
            "Epoch 311/1000 loss 0.00443 val_loss 0.00036 acc 0.99895 val_acc 1.00000\n"
          ]
        },
        {
          "output_type": "stream",
          "name": "stderr",
          "text": [
            "loss 0.00206 acc 0.99947: 100%|██████████| 297/297 [00:04<00:00, 64.42it/s]\n",
            "val_loss 0.00011 val_acc 1.00000: 100%|██████████| 53/53 [00:00<00:00, 59.22it/s]\n"
          ]
        },
        {
          "output_type": "stream",
          "name": "stdout",
          "text": [
            "Epoch 312/1000 loss 0.00206 val_loss 0.00011 acc 0.99947 val_acc 1.00000\n"
          ]
        },
        {
          "output_type": "stream",
          "name": "stderr",
          "text": [
            "loss 0.00158 acc 0.99958: 100%|██████████| 297/297 [00:04<00:00, 64.79it/s]\n",
            "val_loss 0.01013 val_acc 0.99823: 100%|██████████| 53/53 [00:01<00:00, 47.11it/s]\n"
          ]
        },
        {
          "output_type": "stream",
          "name": "stdout",
          "text": [
            "Epoch 313/1000 loss 0.00158 val_loss 0.01013 acc 0.99958 val_acc 0.99823\n"
          ]
        },
        {
          "output_type": "stream",
          "name": "stderr",
          "text": [
            "loss 0.00289 acc 0.99958: 100%|██████████| 297/297 [00:06<00:00, 47.89it/s]\n",
            "val_loss 0.00043 val_acc 1.00000: 100%|██████████| 53/53 [00:01<00:00, 41.16it/s]\n"
          ]
        },
        {
          "output_type": "stream",
          "name": "stdout",
          "text": [
            "Epoch 314/1000 loss 0.00289 val_loss 0.00043 acc 0.99958 val_acc 1.00000\n"
          ]
        },
        {
          "output_type": "stream",
          "name": "stderr",
          "text": [
            "loss 0.00096 acc 0.99968: 100%|██████████| 297/297 [00:05<00:00, 58.40it/s]\n",
            "val_loss 0.00009 val_acc 1.00000: 100%|██████████| 53/53 [00:00<00:00, 58.99it/s]\n"
          ]
        },
        {
          "output_type": "stream",
          "name": "stdout",
          "text": [
            "Epoch 315/1000 loss 0.00096 val_loss 0.00009 acc 0.99968 val_acc 1.00000\n"
          ]
        },
        {
          "output_type": "stream",
          "name": "stderr",
          "text": [
            "loss 0.00032 acc 0.99989: 100%|██████████| 297/297 [00:04<00:00, 65.39it/s]\n",
            "val_loss 0.00015 val_acc 1.00000: 100%|██████████| 53/53 [00:00<00:00, 56.75it/s]\n"
          ]
        },
        {
          "output_type": "stream",
          "name": "stdout",
          "text": [
            "Epoch 316/1000 loss 0.00032 val_loss 0.00015 acc 0.99989 val_acc 1.00000\n"
          ]
        },
        {
          "output_type": "stream",
          "name": "stderr",
          "text": [
            "loss 0.00019 acc 1.00000: 100%|██████████| 297/297 [00:06<00:00, 49.43it/s]\n",
            "val_loss 0.00006 val_acc 1.00000: 100%|██████████| 53/53 [00:01<00:00, 43.57it/s]\n"
          ]
        },
        {
          "output_type": "stream",
          "name": "stdout",
          "text": [
            "Epoch 317/1000 loss 0.00019 val_loss 0.00006 acc 1.00000 val_acc 1.00000\n"
          ]
        },
        {
          "output_type": "stream",
          "name": "stderr",
          "text": [
            "loss 0.00055 acc 0.99979: 100%|██████████| 297/297 [00:05<00:00, 53.01it/s]\n",
            "val_loss 0.00019 val_acc 1.00000: 100%|██████████| 53/53 [00:00<00:00, 58.35it/s]\n"
          ]
        },
        {
          "output_type": "stream",
          "name": "stdout",
          "text": [
            "Epoch 318/1000 loss 0.00055 val_loss 0.00019 acc 0.99979 val_acc 1.00000\n"
          ]
        },
        {
          "output_type": "stream",
          "name": "stderr",
          "text": [
            "loss 0.00010 acc 1.00000: 100%|██████████| 297/297 [00:04<00:00, 63.85it/s]\n",
            "val_loss 0.00003 val_acc 1.00000: 100%|██████████| 53/53 [00:00<00:00, 58.81it/s]\n"
          ]
        },
        {
          "output_type": "stream",
          "name": "stdout",
          "text": [
            "Epoch 319/1000 loss 0.00010 val_loss 0.00003 acc 1.00000 val_acc 1.00000\n"
          ]
        },
        {
          "output_type": "stream",
          "name": "stderr",
          "text": [
            "loss 0.00040 acc 0.99979: 100%|██████████| 297/297 [00:05<00:00, 52.67it/s]\n",
            "val_loss 0.00005 val_acc 1.00000: 100%|██████████| 53/53 [00:01<00:00, 43.76it/s]\n"
          ]
        },
        {
          "output_type": "stream",
          "name": "stdout",
          "text": [
            "Epoch 320/1000 loss 0.00040 val_loss 0.00005 acc 0.99979 val_acc 1.00000\n",
            "Checkpoint guardado en /content/drive/MyDrive/SIS421 prueba dataset 1 test/Checkpoints/checkpoint.pth (Epoch 320)\n"
          ]
        },
        {
          "output_type": "stream",
          "name": "stderr",
          "text": [
            "loss 0.00495 acc 0.99821: 100%|██████████| 297/297 [00:06<00:00, 49.17it/s]\n",
            "val_loss 0.00233 val_acc 0.99941: 100%|██████████| 53/53 [00:00<00:00, 58.50it/s]\n"
          ]
        },
        {
          "output_type": "stream",
          "name": "stdout",
          "text": [
            "Epoch 321/1000 loss 0.00495 val_loss 0.00233 acc 0.99821 val_acc 0.99941\n"
          ]
        },
        {
          "output_type": "stream",
          "name": "stderr",
          "text": [
            "loss 0.00072 acc 0.99968: 100%|██████████| 297/297 [00:04<00:00, 64.74it/s]\n",
            "val_loss 0.01624 val_acc 0.99292: 100%|██████████| 53/53 [00:00<00:00, 56.60it/s]\n"
          ]
        },
        {
          "output_type": "stream",
          "name": "stdout",
          "text": [
            "Epoch 322/1000 loss 0.00072 val_loss 0.01624 acc 0.99968 val_acc 0.99292\n"
          ]
        },
        {
          "output_type": "stream",
          "name": "stderr",
          "text": [
            "loss 0.00087 acc 0.99958: 100%|██████████| 297/297 [00:05<00:00, 58.03it/s]\n",
            "val_loss 0.00008 val_acc 1.00000: 100%|██████████| 53/53 [00:01<00:00, 42.45it/s]\n"
          ]
        },
        {
          "output_type": "stream",
          "name": "stdout",
          "text": [
            "Epoch 323/1000 loss 0.00087 val_loss 0.00008 acc 0.99958 val_acc 1.00000\n"
          ]
        },
        {
          "output_type": "stream",
          "name": "stderr",
          "text": [
            "loss 0.00047 acc 0.99989: 100%|██████████| 297/297 [00:06<00:00, 46.39it/s]\n",
            "val_loss 0.00002 val_acc 1.00000: 100%|██████████| 53/53 [00:01<00:00, 47.57it/s]\n"
          ]
        },
        {
          "output_type": "stream",
          "name": "stdout",
          "text": [
            "Epoch 324/1000 loss 0.00047 val_loss 0.00002 acc 0.99989 val_acc 1.00000\n"
          ]
        },
        {
          "output_type": "stream",
          "name": "stderr",
          "text": [
            "loss 0.00088 acc 0.99968: 100%|██████████| 297/297 [00:04<00:00, 66.81it/s]\n",
            "val_loss 0.00025 val_acc 1.00000: 100%|██████████| 53/53 [00:00<00:00, 55.61it/s]\n"
          ]
        },
        {
          "output_type": "stream",
          "name": "stdout",
          "text": [
            "Epoch 325/1000 loss 0.00088 val_loss 0.00025 acc 0.99968 val_acc 1.00000\n"
          ]
        },
        {
          "output_type": "stream",
          "name": "stderr",
          "text": [
            "loss 0.00091 acc 0.99958: 100%|██████████| 297/297 [00:04<00:00, 62.72it/s]\n",
            "val_loss 0.00044 val_acc 1.00000: 100%|██████████| 53/53 [00:01<00:00, 43.96it/s]\n"
          ]
        },
        {
          "output_type": "stream",
          "name": "stdout",
          "text": [
            "Epoch 326/1000 loss 0.00091 val_loss 0.00044 acc 0.99958 val_acc 1.00000\n"
          ]
        },
        {
          "output_type": "stream",
          "name": "stderr",
          "text": [
            "loss 0.00007 acc 1.00000: 100%|██████████| 297/297 [00:06<00:00, 48.77it/s]\n",
            "val_loss 0.00086 val_acc 0.99941: 100%|██████████| 53/53 [00:01<00:00, 40.29it/s]\n"
          ]
        },
        {
          "output_type": "stream",
          "name": "stdout",
          "text": [
            "Epoch 327/1000 loss 0.00007 val_loss 0.00086 acc 1.00000 val_acc 0.99941\n"
          ]
        },
        {
          "output_type": "stream",
          "name": "stderr",
          "text": [
            "loss 0.00013 acc 0.99989: 100%|██████████| 297/297 [00:04<00:00, 61.17it/s]\n",
            "val_loss 0.00150 val_acc 0.99941: 100%|██████████| 53/53 [00:00<00:00, 56.91it/s]\n"
          ]
        },
        {
          "output_type": "stream",
          "name": "stdout",
          "text": [
            "Epoch 328/1000 loss 0.00013 val_loss 0.00150 acc 0.99989 val_acc 0.99941\n"
          ]
        },
        {
          "output_type": "stream",
          "name": "stderr",
          "text": [
            "loss 0.00007 acc 1.00000: 100%|██████████| 297/297 [00:04<00:00, 63.61it/s]\n",
            "val_loss 0.00008 val_acc 1.00000: 100%|██████████| 53/53 [00:01<00:00, 49.52it/s]\n"
          ]
        },
        {
          "output_type": "stream",
          "name": "stdout",
          "text": [
            "Epoch 329/1000 loss 0.00007 val_loss 0.00008 acc 1.00000 val_acc 1.00000\n"
          ]
        },
        {
          "output_type": "stream",
          "name": "stderr",
          "text": [
            "loss 0.00002 acc 1.00000: 100%|██████████| 297/297 [00:06<00:00, 49.01it/s]\n",
            "val_loss 0.00021 val_acc 1.00000: 100%|██████████| 53/53 [00:01<00:00, 39.39it/s]\n"
          ]
        },
        {
          "output_type": "stream",
          "name": "stdout",
          "text": [
            "Epoch 330/1000 loss 0.00002 val_loss 0.00021 acc 1.00000 val_acc 1.00000\n"
          ]
        },
        {
          "output_type": "stream",
          "name": "stderr",
          "text": [
            "loss 0.00021 acc 1.00000: 100%|██████████| 297/297 [00:05<00:00, 55.31it/s]\n",
            "val_loss 0.00002 val_acc 1.00000: 100%|██████████| 53/53 [00:00<00:00, 56.20it/s]\n"
          ]
        },
        {
          "output_type": "stream",
          "name": "stdout",
          "text": [
            "Epoch 331/1000 loss 0.00021 val_loss 0.00002 acc 1.00000 val_acc 1.00000\n"
          ]
        },
        {
          "output_type": "stream",
          "name": "stderr",
          "text": [
            "loss 0.00071 acc 0.99979: 100%|██████████| 297/297 [00:04<00:00, 65.70it/s]\n",
            "val_loss 0.00017 val_acc 1.00000: 100%|██████████| 53/53 [00:00<00:00, 57.59it/s]\n"
          ]
        },
        {
          "output_type": "stream",
          "name": "stdout",
          "text": [
            "Epoch 332/1000 loss 0.00071 val_loss 0.00017 acc 0.99979 val_acc 1.00000\n"
          ]
        },
        {
          "output_type": "stream",
          "name": "stderr",
          "text": [
            "loss 0.00029 acc 0.99989: 100%|██████████| 297/297 [00:05<00:00, 50.35it/s]\n",
            "val_loss 0.00009 val_acc 1.00000: 100%|██████████| 53/53 [00:01<00:00, 40.28it/s]\n"
          ]
        },
        {
          "output_type": "stream",
          "name": "stdout",
          "text": [
            "Epoch 333/1000 loss 0.00029 val_loss 0.00009 acc 0.99989 val_acc 1.00000\n"
          ]
        },
        {
          "output_type": "stream",
          "name": "stderr",
          "text": [
            "loss 0.00005 acc 1.00000: 100%|██████████| 297/297 [00:05<00:00, 53.49it/s]\n",
            "val_loss 0.00012 val_acc 1.00000: 100%|██████████| 53/53 [00:00<00:00, 55.92it/s]\n"
          ]
        },
        {
          "output_type": "stream",
          "name": "stdout",
          "text": [
            "Epoch 334/1000 loss 0.00005 val_loss 0.00012 acc 1.00000 val_acc 1.00000\n"
          ]
        },
        {
          "output_type": "stream",
          "name": "stderr",
          "text": [
            "loss 0.00472 acc 0.99888: 100%|██████████| 297/297 [00:04<00:00, 64.49it/s]\n",
            "val_loss 0.00058 val_acc 1.00000: 100%|██████████| 53/53 [00:00<00:00, 57.28it/s]\n"
          ]
        },
        {
          "output_type": "stream",
          "name": "stdout",
          "text": [
            "Epoch 335/1000 loss 0.00472 val_loss 0.00058 acc 0.99888 val_acc 1.00000\n"
          ]
        },
        {
          "output_type": "stream",
          "name": "stderr",
          "text": [
            "loss 0.00630 acc 0.99902: 100%|██████████| 297/297 [00:05<00:00, 53.54it/s]\n",
            "val_loss 0.00350 val_acc 0.99882: 100%|██████████| 53/53 [00:01<00:00, 42.75it/s]\n"
          ]
        },
        {
          "output_type": "stream",
          "name": "stdout",
          "text": [
            "Epoch 336/1000 loss 0.00630 val_loss 0.00350 acc 0.99902 val_acc 0.99882\n"
          ]
        },
        {
          "output_type": "stream",
          "name": "stderr",
          "text": [
            "loss 0.00158 acc 0.99947: 100%|██████████| 297/297 [00:06<00:00, 46.55it/s]\n",
            "val_loss 0.00038 val_acc 1.00000: 100%|██████████| 53/53 [00:01<00:00, 42.04it/s]\n"
          ]
        },
        {
          "output_type": "stream",
          "name": "stdout",
          "text": [
            "Epoch 337/1000 loss 0.00158 val_loss 0.00038 acc 0.99947 val_acc 1.00000\n"
          ]
        },
        {
          "output_type": "stream",
          "name": "stderr",
          "text": [
            "loss 0.00114 acc 0.99958: 100%|██████████| 297/297 [00:04<00:00, 61.52it/s]\n",
            "val_loss 0.00289 val_acc 0.99764: 100%|██████████| 53/53 [00:00<00:00, 55.59it/s]\n"
          ]
        },
        {
          "output_type": "stream",
          "name": "stdout",
          "text": [
            "Epoch 338/1000 loss 0.00114 val_loss 0.00289 acc 0.99958 val_acc 0.99764\n"
          ]
        },
        {
          "output_type": "stream",
          "name": "stderr",
          "text": [
            "loss 0.00019 acc 0.99989: 100%|██████████| 297/297 [00:05<00:00, 58.55it/s]\n",
            "val_loss 0.00051 val_acc 1.00000: 100%|██████████| 53/53 [00:01<00:00, 42.59it/s]\n"
          ]
        },
        {
          "output_type": "stream",
          "name": "stdout",
          "text": [
            "Epoch 339/1000 loss 0.00019 val_loss 0.00051 acc 0.99989 val_acc 1.00000\n"
          ]
        },
        {
          "output_type": "stream",
          "name": "stderr",
          "text": [
            "loss 0.00023 acc 1.00000: 100%|██████████| 297/297 [00:06<00:00, 45.53it/s]\n",
            "val_loss 0.00047 val_acc 1.00000: 100%|██████████| 53/53 [00:01<00:00, 47.65it/s]\n"
          ]
        },
        {
          "output_type": "stream",
          "name": "stdout",
          "text": [
            "Epoch 340/1000 loss 0.00023 val_loss 0.00047 acc 1.00000 val_acc 1.00000\n",
            "Checkpoint guardado en /content/drive/MyDrive/SIS421 prueba dataset 1 test/Checkpoints/checkpoint.pth (Epoch 340)\n"
          ]
        },
        {
          "output_type": "stream",
          "name": "stderr",
          "text": [
            "loss 0.00062 acc 0.99989: 100%|██████████| 297/297 [00:04<00:00, 64.74it/s]\n",
            "val_loss 0.00123 val_acc 0.99882: 100%|██████████| 53/53 [00:00<00:00, 56.24it/s]\n"
          ]
        },
        {
          "output_type": "stream",
          "name": "stdout",
          "text": [
            "Epoch 341/1000 loss 0.00062 val_loss 0.00123 acc 0.99989 val_acc 0.99882\n"
          ]
        },
        {
          "output_type": "stream",
          "name": "stderr",
          "text": [
            "loss 0.00125 acc 0.99940: 100%|██████████| 297/297 [00:04<00:00, 61.53it/s]\n",
            "val_loss 0.00041 val_acc 1.00000: 100%|██████████| 53/53 [00:01<00:00, 42.01it/s]\n"
          ]
        },
        {
          "output_type": "stream",
          "name": "stdout",
          "text": [
            "Epoch 342/1000 loss 0.00125 val_loss 0.00041 acc 0.99940 val_acc 1.00000\n"
          ]
        },
        {
          "output_type": "stream",
          "name": "stderr",
          "text": [
            "loss 0.00050 acc 0.99979: 100%|██████████| 297/297 [00:06<00:00, 46.66it/s]\n",
            "val_loss 0.00027 val_acc 1.00000: 100%|██████████| 53/53 [00:01<00:00, 31.77it/s]\n"
          ]
        },
        {
          "output_type": "stream",
          "name": "stdout",
          "text": [
            "Epoch 343/1000 loss 0.00050 val_loss 0.00027 acc 0.99979 val_acc 1.00000\n"
          ]
        },
        {
          "output_type": "stream",
          "name": "stderr",
          "text": [
            "loss 0.00077 acc 0.99947: 100%|██████████| 297/297 [00:04<00:00, 62.31it/s]\n",
            "val_loss 0.00003 val_acc 1.00000: 100%|██████████| 53/53 [00:00<00:00, 56.26it/s]\n"
          ]
        },
        {
          "output_type": "stream",
          "name": "stdout",
          "text": [
            "Epoch 344/1000 loss 0.00077 val_loss 0.00003 acc 0.99947 val_acc 1.00000\n"
          ]
        },
        {
          "output_type": "stream",
          "name": "stderr",
          "text": [
            "loss 0.00068 acc 0.99979: 100%|██████████| 297/297 [00:04<00:00, 63.42it/s]\n",
            "val_loss 0.00071 val_acc 0.99941: 100%|██████████| 53/53 [00:01<00:00, 40.19it/s]\n"
          ]
        },
        {
          "output_type": "stream",
          "name": "stdout",
          "text": [
            "Epoch 345/1000 loss 0.00068 val_loss 0.00071 acc 0.99979 val_acc 0.99941\n"
          ]
        },
        {
          "output_type": "stream",
          "name": "stderr",
          "text": [
            "loss 0.00020 acc 1.00000: 100%|██████████| 297/297 [00:06<00:00, 46.45it/s]\n",
            "val_loss 0.00003 val_acc 1.00000: 100%|██████████| 53/53 [00:01<00:00, 41.25it/s]\n"
          ]
        },
        {
          "output_type": "stream",
          "name": "stdout",
          "text": [
            "Epoch 346/1000 loss 0.00020 val_loss 0.00003 acc 1.00000 val_acc 1.00000\n"
          ]
        },
        {
          "output_type": "stream",
          "name": "stderr",
          "text": [
            "loss 0.00418 acc 0.99909: 100%|██████████| 297/297 [00:05<00:00, 58.08it/s]\n",
            "val_loss 0.00002 val_acc 1.00000: 100%|██████████| 53/53 [00:01<00:00, 48.89it/s]\n"
          ]
        },
        {
          "output_type": "stream",
          "name": "stdout",
          "text": [
            "Epoch 347/1000 loss 0.00418 val_loss 0.00002 acc 0.99909 val_acc 1.00000\n"
          ]
        },
        {
          "output_type": "stream",
          "name": "stderr",
          "text": [
            "loss 0.00271 acc 0.99937: 100%|██████████| 297/297 [00:04<00:00, 63.56it/s]\n",
            "val_loss 0.00045 val_acc 0.99941: 100%|██████████| 53/53 [00:01<00:00, 49.77it/s]\n"
          ]
        },
        {
          "output_type": "stream",
          "name": "stdout",
          "text": [
            "Epoch 348/1000 loss 0.00271 val_loss 0.00045 acc 0.99937 val_acc 0.99941\n"
          ]
        },
        {
          "output_type": "stream",
          "name": "stderr",
          "text": [
            "loss 0.00025 acc 0.99979: 100%|██████████| 297/297 [00:06<00:00, 47.71it/s]\n",
            "val_loss 0.00011 val_acc 1.00000: 100%|██████████| 53/53 [00:01<00:00, 42.41it/s]\n"
          ]
        },
        {
          "output_type": "stream",
          "name": "stdout",
          "text": [
            "Epoch 349/1000 loss 0.00025 val_loss 0.00011 acc 0.99979 val_acc 1.00000\n"
          ]
        },
        {
          "output_type": "stream",
          "name": "stderr",
          "text": [
            "loss 0.00006 acc 1.00000: 100%|██████████| 297/297 [00:05<00:00, 54.21it/s]\n",
            "val_loss 0.00002 val_acc 1.00000: 100%|██████████| 53/53 [00:00<00:00, 56.10it/s]\n"
          ]
        },
        {
          "output_type": "stream",
          "name": "stdout",
          "text": [
            "Epoch 350/1000 loss 0.00006 val_loss 0.00002 acc 1.00000 val_acc 1.00000\n"
          ]
        },
        {
          "output_type": "stream",
          "name": "stderr",
          "text": [
            "loss 0.00046 acc 0.99979: 100%|██████████| 297/297 [00:04<00:00, 64.40it/s]\n",
            "val_loss 0.00065 val_acc 1.00000: 100%|██████████| 53/53 [00:00<00:00, 56.17it/s]\n"
          ]
        },
        {
          "output_type": "stream",
          "name": "stdout",
          "text": [
            "Epoch 351/1000 loss 0.00046 val_loss 0.00065 acc 0.99979 val_acc 1.00000\n"
          ]
        },
        {
          "output_type": "stream",
          "name": "stderr",
          "text": [
            "loss 0.00021 acc 1.00000: 100%|██████████| 297/297 [00:06<00:00, 48.46it/s]\n",
            "val_loss 0.00061 val_acc 0.99941: 100%|██████████| 53/53 [00:01<00:00, 40.03it/s]\n"
          ]
        },
        {
          "output_type": "stream",
          "name": "stdout",
          "text": [
            "Epoch 352/1000 loss 0.00021 val_loss 0.00061 acc 1.00000 val_acc 0.99941\n"
          ]
        },
        {
          "output_type": "stream",
          "name": "stderr",
          "text": [
            "loss 0.00652 acc 0.99923: 100%|██████████| 297/297 [00:05<00:00, 51.67it/s]\n",
            "val_loss 0.00003 val_acc 1.00000: 100%|██████████| 53/53 [00:00<00:00, 56.64it/s]\n"
          ]
        },
        {
          "output_type": "stream",
          "name": "stdout",
          "text": [
            "Epoch 353/1000 loss 0.00652 val_loss 0.00003 acc 0.99923 val_acc 1.00000\n"
          ]
        },
        {
          "output_type": "stream",
          "name": "stderr",
          "text": [
            "loss 0.00343 acc 0.99916: 100%|██████████| 297/297 [00:04<00:00, 63.87it/s]\n",
            "val_loss 0.00001 val_acc 1.00000: 100%|██████████| 53/53 [00:00<00:00, 53.08it/s]\n"
          ]
        },
        {
          "output_type": "stream",
          "name": "stdout",
          "text": [
            "Epoch 354/1000 loss 0.00343 val_loss 0.00001 acc 0.99916 val_acc 1.00000\n"
          ]
        },
        {
          "output_type": "stream",
          "name": "stderr",
          "text": [
            "loss 0.00015 acc 1.00000: 100%|██████████| 297/297 [00:05<00:00, 51.72it/s]\n",
            "val_loss 0.00107 val_acc 0.99941: 100%|██████████| 53/53 [00:01<00:00, 45.02it/s]\n"
          ]
        },
        {
          "output_type": "stream",
          "name": "stdout",
          "text": [
            "Epoch 355/1000 loss 0.00015 val_loss 0.00107 acc 1.00000 val_acc 0.99941\n"
          ]
        },
        {
          "output_type": "stream",
          "name": "stderr",
          "text": [
            "loss 0.00006 acc 1.00000: 100%|██████████| 297/297 [00:06<00:00, 45.98it/s]\n",
            "val_loss 0.00008 val_acc 1.00000: 100%|██████████| 53/53 [00:01<00:00, 47.37it/s]\n"
          ]
        },
        {
          "output_type": "stream",
          "name": "stdout",
          "text": [
            "Epoch 356/1000 loss 0.00006 val_loss 0.00008 acc 1.00000 val_acc 1.00000\n"
          ]
        },
        {
          "output_type": "stream",
          "name": "stderr",
          "text": [
            "loss 0.00014 acc 1.00000: 100%|██████████| 297/297 [00:04<00:00, 62.51it/s]\n",
            "val_loss 0.00020 val_acc 1.00000: 100%|██████████| 53/53 [00:00<00:00, 55.80it/s]\n"
          ]
        },
        {
          "output_type": "stream",
          "name": "stdout",
          "text": [
            "Epoch 357/1000 loss 0.00014 val_loss 0.00020 acc 1.00000 val_acc 1.00000\n"
          ]
        },
        {
          "output_type": "stream",
          "name": "stderr",
          "text": [
            "loss 0.00025 acc 0.99989: 100%|██████████| 297/297 [00:04<00:00, 59.45it/s]\n",
            "val_loss 0.00027 val_acc 1.00000: 100%|██████████| 53/53 [00:01<00:00, 41.03it/s]\n"
          ]
        },
        {
          "output_type": "stream",
          "name": "stdout",
          "text": [
            "Epoch 358/1000 loss 0.00025 val_loss 0.00027 acc 0.99989 val_acc 1.00000\n"
          ]
        },
        {
          "output_type": "stream",
          "name": "stderr",
          "text": [
            "loss 0.00017 acc 1.00000: 100%|██████████| 297/297 [00:06<00:00, 46.98it/s]\n",
            "val_loss 0.00065 val_acc 0.99941: 100%|██████████| 53/53 [00:01<00:00, 40.29it/s]\n"
          ]
        },
        {
          "output_type": "stream",
          "name": "stdout",
          "text": [
            "Epoch 359/1000 loss 0.00017 val_loss 0.00065 acc 1.00000 val_acc 0.99941\n"
          ]
        },
        {
          "output_type": "stream",
          "name": "stderr",
          "text": [
            "loss 0.00138 acc 0.99937: 100%|██████████| 297/297 [00:04<00:00, 62.89it/s]\n",
            "val_loss 0.00088 val_acc 0.99941: 100%|██████████| 53/53 [00:00<00:00, 53.94it/s]\n"
          ]
        },
        {
          "output_type": "stream",
          "name": "stdout",
          "text": [
            "Epoch 360/1000 loss 0.00138 val_loss 0.00088 acc 0.99937 val_acc 0.99941\n",
            "Checkpoint guardado en /content/drive/MyDrive/SIS421 prueba dataset 1 test/Checkpoints/checkpoint.pth (Epoch 360)\n"
          ]
        },
        {
          "output_type": "stream",
          "name": "stderr",
          "text": [
            "loss 0.00045 acc 0.99979: 100%|██████████| 297/297 [00:04<00:00, 62.67it/s]\n",
            "val_loss 0.00092 val_acc 0.99941: 100%|██████████| 53/53 [00:01<00:00, 40.04it/s]\n"
          ]
        },
        {
          "output_type": "stream",
          "name": "stdout",
          "text": [
            "Epoch 361/1000 loss 0.00045 val_loss 0.00092 acc 0.99979 val_acc 0.99941\n"
          ]
        },
        {
          "output_type": "stream",
          "name": "stderr",
          "text": [
            "loss 0.00014 acc 1.00000: 100%|██████████| 297/297 [00:06<00:00, 47.95it/s]\n",
            "val_loss 0.00088 val_acc 0.99941: 100%|██████████| 53/53 [00:01<00:00, 38.73it/s]\n"
          ]
        },
        {
          "output_type": "stream",
          "name": "stdout",
          "text": [
            "Epoch 362/1000 loss 0.00014 val_loss 0.00088 acc 1.00000 val_acc 0.99941\n"
          ]
        },
        {
          "output_type": "stream",
          "name": "stderr",
          "text": [
            "loss 0.00016 acc 1.00000: 100%|██████████| 297/297 [00:05<00:00, 57.08it/s]\n",
            "val_loss 0.00021 val_acc 1.00000: 100%|██████████| 53/53 [00:00<00:00, 53.74it/s]\n"
          ]
        },
        {
          "output_type": "stream",
          "name": "stdout",
          "text": [
            "Epoch 363/1000 loss 0.00016 val_loss 0.00021 acc 1.00000 val_acc 1.00000\n"
          ]
        },
        {
          "output_type": "stream",
          "name": "stderr",
          "text": [
            "loss 0.00061 acc 0.99989: 100%|██████████| 297/297 [00:04<00:00, 62.51it/s]\n",
            "val_loss 0.00028 val_acc 1.00000: 100%|██████████| 53/53 [00:01<00:00, 45.61it/s]\n"
          ]
        },
        {
          "output_type": "stream",
          "name": "stdout",
          "text": [
            "Epoch 364/1000 loss 0.00061 val_loss 0.00028 acc 0.99989 val_acc 1.00000\n"
          ]
        },
        {
          "output_type": "stream",
          "name": "stderr",
          "text": [
            "loss 0.00021 acc 0.99989: 100%|██████████| 297/297 [00:06<00:00, 46.80it/s]\n",
            "val_loss 0.00004 val_acc 1.00000: 100%|██████████| 53/53 [00:01<00:00, 39.55it/s]\n"
          ]
        },
        {
          "output_type": "stream",
          "name": "stdout",
          "text": [
            "Epoch 365/1000 loss 0.00021 val_loss 0.00004 acc 0.99989 val_acc 1.00000\n"
          ]
        },
        {
          "output_type": "stream",
          "name": "stderr",
          "text": [
            "loss 0.00122 acc 0.99947: 100%|██████████| 297/297 [00:05<00:00, 57.91it/s]\n",
            "val_loss 0.00057 val_acc 0.99941: 100%|██████████| 53/53 [00:00<00:00, 54.85it/s]\n"
          ]
        },
        {
          "output_type": "stream",
          "name": "stdout",
          "text": [
            "Epoch 366/1000 loss 0.00122 val_loss 0.00057 acc 0.99947 val_acc 0.99941\n"
          ]
        },
        {
          "output_type": "stream",
          "name": "stderr",
          "text": [
            "loss 0.00078 acc 0.99979: 100%|██████████| 297/297 [00:04<00:00, 63.97it/s]\n",
            "val_loss 0.00053 val_acc 1.00000: 100%|██████████| 53/53 [00:01<00:00, 44.86it/s]\n"
          ]
        },
        {
          "output_type": "stream",
          "name": "stdout",
          "text": [
            "Epoch 367/1000 loss 0.00078 val_loss 0.00053 acc 0.99979 val_acc 1.00000\n"
          ]
        },
        {
          "output_type": "stream",
          "name": "stderr",
          "text": [
            "loss 0.00166 acc 0.99951: 100%|██████████| 297/297 [00:06<00:00, 48.73it/s]\n",
            "val_loss 0.00022 val_acc 1.00000: 100%|██████████| 53/53 [00:01<00:00, 39.33it/s]\n"
          ]
        },
        {
          "output_type": "stream",
          "name": "stdout",
          "text": [
            "Epoch 368/1000 loss 0.00166 val_loss 0.00022 acc 0.99951 val_acc 1.00000\n"
          ]
        },
        {
          "output_type": "stream",
          "name": "stderr",
          "text": [
            "loss 0.00347 acc 0.99909: 100%|██████████| 297/297 [00:05<00:00, 56.49it/s]\n",
            "val_loss 0.00260 val_acc 0.99941: 100%|██████████| 53/53 [00:00<00:00, 54.45it/s]\n"
          ]
        },
        {
          "output_type": "stream",
          "name": "stdout",
          "text": [
            "Epoch 369/1000 loss 0.00347 val_loss 0.00260 acc 0.99909 val_acc 0.99941\n"
          ]
        },
        {
          "output_type": "stream",
          "name": "stderr",
          "text": [
            "loss 0.00176 acc 0.99937: 100%|██████████| 297/297 [00:04<00:00, 63.03it/s]\n",
            "val_loss 0.00150 val_acc 0.99882: 100%|██████████| 53/53 [00:00<00:00, 54.32it/s]\n"
          ]
        },
        {
          "output_type": "stream",
          "name": "stdout",
          "text": [
            "Epoch 370/1000 loss 0.00176 val_loss 0.00150 acc 0.99937 val_acc 0.99882\n"
          ]
        },
        {
          "output_type": "stream",
          "name": "stderr",
          "text": [
            "loss 0.00015 acc 1.00000: 100%|██████████| 297/297 [00:06<00:00, 48.64it/s]\n",
            "val_loss 0.00151 val_acc 0.99941: 100%|██████████| 53/53 [00:01<00:00, 43.52it/s]\n"
          ]
        },
        {
          "output_type": "stream",
          "name": "stdout",
          "text": [
            "Epoch 371/1000 loss 0.00015 val_loss 0.00151 acc 1.00000 val_acc 0.99941\n"
          ]
        },
        {
          "output_type": "stream",
          "name": "stderr",
          "text": [
            "loss 0.00135 acc 0.99947: 100%|██████████| 297/297 [00:05<00:00, 49.91it/s]\n",
            "val_loss 0.00343 val_acc 0.99882: 100%|██████████| 53/53 [00:00<00:00, 57.21it/s]\n"
          ]
        },
        {
          "output_type": "stream",
          "name": "stdout",
          "text": [
            "Epoch 372/1000 loss 0.00135 val_loss 0.00343 acc 0.99947 val_acc 0.99882\n"
          ]
        },
        {
          "output_type": "stream",
          "name": "stderr",
          "text": [
            "loss 0.00097 acc 0.99958: 100%|██████████| 297/297 [00:04<00:00, 62.97it/s]\n",
            "val_loss 0.00011 val_acc 1.00000: 100%|██████████| 53/53 [00:00<00:00, 55.47it/s]\n"
          ]
        },
        {
          "output_type": "stream",
          "name": "stdout",
          "text": [
            "Epoch 373/1000 loss 0.00097 val_loss 0.00011 acc 0.99958 val_acc 1.00000\n"
          ]
        },
        {
          "output_type": "stream",
          "name": "stderr",
          "text": [
            "loss 0.00123 acc 0.99958: 100%|██████████| 297/297 [00:05<00:00, 52.30it/s]\n",
            "val_loss 0.00133 val_acc 0.99882: 100%|██████████| 53/53 [00:01<00:00, 38.06it/s]\n"
          ]
        },
        {
          "output_type": "stream",
          "name": "stdout",
          "text": [
            "Epoch 374/1000 loss 0.00123 val_loss 0.00133 acc 0.99958 val_acc 0.99882\n"
          ]
        },
        {
          "output_type": "stream",
          "name": "stderr",
          "text": [
            "loss 0.00066 acc 0.99979: 100%|██████████| 297/297 [00:06<00:00, 47.86it/s]\n",
            "val_loss 0.00569 val_acc 0.99882: 100%|██████████| 53/53 [00:01<00:00, 48.80it/s]\n"
          ]
        },
        {
          "output_type": "stream",
          "name": "stdout",
          "text": [
            "Epoch 375/1000 loss 0.00066 val_loss 0.00569 acc 0.99979 val_acc 0.99882\n"
          ]
        },
        {
          "output_type": "stream",
          "name": "stderr",
          "text": [
            "loss 0.00033 acc 0.99989: 100%|██████████| 297/297 [00:04<00:00, 62.36it/s]\n",
            "val_loss 0.02078 val_acc 0.99410: 100%|██████████| 53/53 [00:00<00:00, 55.66it/s]\n"
          ]
        },
        {
          "output_type": "stream",
          "name": "stdout",
          "text": [
            "Epoch 376/1000 loss 0.00033 val_loss 0.02078 acc 0.99989 val_acc 0.99410\n"
          ]
        },
        {
          "output_type": "stream",
          "name": "stderr",
          "text": [
            "loss 0.00025 acc 0.99989: 100%|██████████| 297/297 [00:05<00:00, 52.36it/s]\n",
            "val_loss 0.00520 val_acc 0.99823: 100%|██████████| 53/53 [00:01<00:00, 41.25it/s]\n"
          ]
        },
        {
          "output_type": "stream",
          "name": "stdout",
          "text": [
            "Epoch 377/1000 loss 0.00025 val_loss 0.00520 acc 0.99989 val_acc 0.99823\n"
          ]
        },
        {
          "output_type": "stream",
          "name": "stderr",
          "text": [
            "loss 0.00026 acc 0.99989: 100%|██████████| 297/297 [00:06<00:00, 46.15it/s]\n",
            "val_loss 0.00584 val_acc 0.99882: 100%|██████████| 53/53 [00:01<00:00, 47.35it/s]\n"
          ]
        },
        {
          "output_type": "stream",
          "name": "stdout",
          "text": [
            "Epoch 378/1000 loss 0.00026 val_loss 0.00584 acc 0.99989 val_acc 0.99882\n"
          ]
        },
        {
          "output_type": "stream",
          "name": "stderr",
          "text": [
            "loss 0.00085 acc 0.99979: 100%|██████████| 297/297 [00:04<00:00, 63.36it/s]\n",
            "val_loss 0.00536 val_acc 0.99941: 100%|██████████| 53/53 [00:00<00:00, 56.27it/s]\n"
          ]
        },
        {
          "output_type": "stream",
          "name": "stdout",
          "text": [
            "Epoch 379/1000 loss 0.00085 val_loss 0.00536 acc 0.99979 val_acc 0.99941\n"
          ]
        },
        {
          "output_type": "stream",
          "name": "stderr",
          "text": [
            "loss 0.00110 acc 0.99947: 100%|██████████| 297/297 [00:05<00:00, 58.71it/s]\n",
            "val_loss 0.01238 val_acc 0.99764: 100%|██████████| 53/53 [00:01<00:00, 43.22it/s]\n"
          ]
        },
        {
          "output_type": "stream",
          "name": "stdout",
          "text": [
            "Epoch 380/1000 loss 0.00110 val_loss 0.01238 acc 0.99947 val_acc 0.99764\n",
            "Checkpoint guardado en /content/drive/MyDrive/SIS421 prueba dataset 1 test/Checkpoints/checkpoint.pth (Epoch 380)\n"
          ]
        },
        {
          "output_type": "stream",
          "name": "stderr",
          "text": [
            "loss 0.00020 acc 1.00000: 100%|██████████| 297/297 [00:06<00:00, 47.30it/s]\n",
            "val_loss 0.01037 val_acc 0.99764: 100%|██████████| 53/53 [00:01<00:00, 38.30it/s]\n"
          ]
        },
        {
          "output_type": "stream",
          "name": "stdout",
          "text": [
            "Epoch 381/1000 loss 0.00020 val_loss 0.01037 acc 1.00000 val_acc 0.99764\n"
          ]
        },
        {
          "output_type": "stream",
          "name": "stderr",
          "text": [
            "loss 0.00088 acc 0.99958: 100%|██████████| 297/297 [00:05<00:00, 59.17it/s]\n",
            "val_loss 0.00352 val_acc 0.99882: 100%|██████████| 53/53 [00:00<00:00, 55.75it/s]\n"
          ]
        },
        {
          "output_type": "stream",
          "name": "stdout",
          "text": [
            "Epoch 382/1000 loss 0.00088 val_loss 0.00352 acc 0.99958 val_acc 0.99882\n"
          ]
        },
        {
          "output_type": "stream",
          "name": "stderr",
          "text": [
            "loss 0.00027 acc 0.99989: 100%|██████████| 297/297 [00:04<00:00, 62.62it/s]\n",
            "val_loss 0.00389 val_acc 0.99823: 100%|██████████| 53/53 [00:01<00:00, 42.74it/s]\n"
          ]
        },
        {
          "output_type": "stream",
          "name": "stdout",
          "text": [
            "Epoch 383/1000 loss 0.00027 val_loss 0.00389 acc 0.99989 val_acc 0.99823\n"
          ]
        },
        {
          "output_type": "stream",
          "name": "stderr",
          "text": [
            "loss 0.00186 acc 0.99916: 100%|██████████| 297/297 [00:06<00:00, 46.76it/s]\n",
            "val_loss 0.00850 val_acc 0.99823: 100%|██████████| 53/53 [00:01<00:00, 37.34it/s]\n"
          ]
        },
        {
          "output_type": "stream",
          "name": "stdout",
          "text": [
            "Epoch 384/1000 loss 0.00186 val_loss 0.00850 acc 0.99916 val_acc 0.99823\n"
          ]
        },
        {
          "output_type": "stream",
          "name": "stderr",
          "text": [
            "loss 0.00035 acc 0.99979: 100%|██████████| 297/297 [00:05<00:00, 57.83it/s]\n",
            "val_loss 0.00322 val_acc 0.99823: 100%|██████████| 53/53 [00:00<00:00, 53.31it/s]\n"
          ]
        },
        {
          "output_type": "stream",
          "name": "stdout",
          "text": [
            "Epoch 385/1000 loss 0.00035 val_loss 0.00322 acc 0.99979 val_acc 0.99823\n"
          ]
        },
        {
          "output_type": "stream",
          "name": "stderr",
          "text": [
            "loss 0.00010 acc 1.00000: 100%|██████████| 297/297 [00:04<00:00, 62.12it/s]\n",
            "val_loss 0.00308 val_acc 0.99882: 100%|██████████| 53/53 [00:01<00:00, 44.25it/s]\n"
          ]
        },
        {
          "output_type": "stream",
          "name": "stdout",
          "text": [
            "Epoch 386/1000 loss 0.00010 val_loss 0.00308 acc 1.00000 val_acc 0.99882\n"
          ]
        },
        {
          "output_type": "stream",
          "name": "stderr",
          "text": [
            "loss 0.00081 acc 0.99968: 100%|██████████| 297/297 [00:06<00:00, 46.72it/s]\n",
            "val_loss 0.00200 val_acc 0.99941: 100%|██████████| 53/53 [00:01<00:00, 41.94it/s]\n"
          ]
        },
        {
          "output_type": "stream",
          "name": "stdout",
          "text": [
            "Epoch 387/1000 loss 0.00081 val_loss 0.00200 acc 0.99968 val_acc 0.99941\n"
          ]
        },
        {
          "output_type": "stream",
          "name": "stderr",
          "text": [
            "loss 0.00173 acc 0.99947: 100%|██████████| 297/297 [00:05<00:00, 56.30it/s]\n",
            "val_loss 0.00182 val_acc 0.99882: 100%|██████████| 53/53 [00:00<00:00, 54.05it/s]\n"
          ]
        },
        {
          "output_type": "stream",
          "name": "stdout",
          "text": [
            "Epoch 388/1000 loss 0.00173 val_loss 0.00182 acc 0.99947 val_acc 0.99882\n"
          ]
        },
        {
          "output_type": "stream",
          "name": "stderr",
          "text": [
            "loss 0.00006 acc 1.00000: 100%|██████████| 297/297 [00:04<00:00, 61.84it/s]\n",
            "val_loss 0.00211 val_acc 0.99882: 100%|██████████| 53/53 [00:01<00:00, 45.08it/s]\n"
          ]
        },
        {
          "output_type": "stream",
          "name": "stdout",
          "text": [
            "Epoch 389/1000 loss 0.00006 val_loss 0.00211 acc 1.00000 val_acc 0.99882\n"
          ]
        },
        {
          "output_type": "stream",
          "name": "stderr",
          "text": [
            "loss 0.00011 acc 0.99989: 100%|██████████| 297/297 [00:06<00:00, 45.73it/s]\n",
            "val_loss 0.00468 val_acc 0.99882: 100%|██████████| 53/53 [00:01<00:00, 40.36it/s]\n"
          ]
        },
        {
          "output_type": "stream",
          "name": "stdout",
          "text": [
            "Epoch 390/1000 loss 0.00011 val_loss 0.00468 acc 0.99989 val_acc 0.99882\n"
          ]
        },
        {
          "output_type": "stream",
          "name": "stderr",
          "text": [
            "loss 0.00049 acc 0.99979: 100%|██████████| 297/297 [00:05<00:00, 57.62it/s]\n",
            "val_loss 0.00148 val_acc 0.99941: 100%|██████████| 53/53 [00:00<00:00, 54.75it/s]\n"
          ]
        },
        {
          "output_type": "stream",
          "name": "stdout",
          "text": [
            "Epoch 391/1000 loss 0.00049 val_loss 0.00148 acc 0.99979 val_acc 0.99941\n"
          ]
        },
        {
          "output_type": "stream",
          "name": "stderr",
          "text": [
            "loss 0.00016 acc 0.99989: 100%|██████████| 297/297 [00:04<00:00, 61.94it/s]\n",
            "val_loss 0.00101 val_acc 0.99941: 100%|██████████| 53/53 [00:01<00:00, 44.93it/s]\n"
          ]
        },
        {
          "output_type": "stream",
          "name": "stdout",
          "text": [
            "Epoch 392/1000 loss 0.00016 val_loss 0.00101 acc 0.99989 val_acc 0.99941\n"
          ]
        },
        {
          "output_type": "stream",
          "name": "stderr",
          "text": [
            "loss 0.00020 acc 0.99989: 100%|██████████| 297/297 [00:06<00:00, 47.38it/s]\n",
            "val_loss 0.00471 val_acc 0.99882: 100%|██████████| 53/53 [00:01<00:00, 40.79it/s]\n"
          ]
        },
        {
          "output_type": "stream",
          "name": "stdout",
          "text": [
            "Epoch 393/1000 loss 0.00020 val_loss 0.00471 acc 0.99989 val_acc 0.99882\n"
          ]
        },
        {
          "output_type": "stream",
          "name": "stderr",
          "text": [
            "loss 0.00031 acc 0.99989: 100%|██████████| 297/297 [00:05<00:00, 55.52it/s]\n",
            "val_loss 0.00020 val_acc 1.00000: 100%|██████████| 53/53 [00:00<00:00, 55.49it/s]\n"
          ]
        },
        {
          "output_type": "stream",
          "name": "stdout",
          "text": [
            "Epoch 394/1000 loss 0.00031 val_loss 0.00020 acc 0.99989 val_acc 1.00000\n"
          ]
        },
        {
          "output_type": "stream",
          "name": "stderr",
          "text": [
            "loss 0.00013 acc 1.00000: 100%|██████████| 297/297 [00:04<00:00, 62.47it/s]\n",
            "val_loss 0.00004 val_acc 1.00000: 100%|██████████| 53/53 [00:01<00:00, 47.69it/s]\n"
          ]
        },
        {
          "output_type": "stream",
          "name": "stdout",
          "text": [
            "Epoch 395/1000 loss 0.00013 val_loss 0.00004 acc 1.00000 val_acc 1.00000\n"
          ]
        },
        {
          "output_type": "stream",
          "name": "stderr",
          "text": [
            "loss 0.00069 acc 0.99979: 100%|██████████| 297/297 [00:06<00:00, 46.63it/s]\n",
            "val_loss 0.00027 val_acc 1.00000: 100%|██████████| 53/53 [00:01<00:00, 36.76it/s]\n"
          ]
        },
        {
          "output_type": "stream",
          "name": "stdout",
          "text": [
            "Epoch 396/1000 loss 0.00069 val_loss 0.00027 acc 0.99979 val_acc 1.00000\n"
          ]
        },
        {
          "output_type": "stream",
          "name": "stderr",
          "text": [
            "loss 0.00161 acc 0.99958: 100%|██████████| 297/297 [00:05<00:00, 53.21it/s]\n",
            "val_loss 0.00409 val_acc 0.99823: 100%|██████████| 53/53 [00:00<00:00, 54.13it/s]\n"
          ]
        },
        {
          "output_type": "stream",
          "name": "stdout",
          "text": [
            "Epoch 397/1000 loss 0.00161 val_loss 0.00409 acc 0.99958 val_acc 0.99823\n"
          ]
        },
        {
          "output_type": "stream",
          "name": "stderr",
          "text": [
            "loss 0.00242 acc 0.99947: 100%|██████████| 297/297 [00:04<00:00, 62.23it/s]\n",
            "val_loss 0.00091 val_acc 1.00000: 100%|██████████| 53/53 [00:01<00:00, 49.27it/s]\n"
          ]
        },
        {
          "output_type": "stream",
          "name": "stdout",
          "text": [
            "Epoch 398/1000 loss 0.00242 val_loss 0.00091 acc 0.99947 val_acc 1.00000\n"
          ]
        },
        {
          "output_type": "stream",
          "name": "stderr",
          "text": [
            "loss 0.00351 acc 0.99895: 100%|██████████| 297/297 [00:06<00:00, 49.16it/s]\n",
            "val_loss 0.00396 val_acc 0.99941: 100%|██████████| 53/53 [00:01<00:00, 36.55it/s]\n"
          ]
        },
        {
          "output_type": "stream",
          "name": "stdout",
          "text": [
            "Epoch 399/1000 loss 0.00351 val_loss 0.00396 acc 0.99895 val_acc 0.99941\n"
          ]
        },
        {
          "output_type": "stream",
          "name": "stderr",
          "text": [
            "loss 0.00068 acc 0.99968: 100%|██████████| 297/297 [00:06<00:00, 48.58it/s]\n",
            "val_loss 0.00874 val_acc 0.99764: 100%|██████████| 53/53 [00:01<00:00, 52.19it/s]\n"
          ]
        },
        {
          "output_type": "stream",
          "name": "stdout",
          "text": [
            "Epoch 400/1000 loss 0.00068 val_loss 0.00874 acc 0.99968 val_acc 0.99764\n",
            "Checkpoint guardado en /content/drive/MyDrive/SIS421 prueba dataset 1 test/Checkpoints/checkpoint.pth (Epoch 400)\n"
          ]
        },
        {
          "output_type": "stream",
          "name": "stderr",
          "text": [
            "loss 0.00058 acc 0.99968: 100%|██████████| 297/297 [00:04<00:00, 62.52it/s]\n",
            "val_loss 0.00767 val_acc 0.99882: 100%|██████████| 53/53 [00:01<00:00, 50.21it/s]\n"
          ]
        },
        {
          "output_type": "stream",
          "name": "stdout",
          "text": [
            "Epoch 401/1000 loss 0.00058 val_loss 0.00767 acc 0.99968 val_acc 0.99882\n"
          ]
        },
        {
          "output_type": "stream",
          "name": "stderr",
          "text": [
            "loss 0.00046 acc 0.99979: 100%|██████████| 297/297 [00:05<00:00, 51.99it/s]\n",
            "val_loss 0.00674 val_acc 0.99882: 100%|██████████| 53/53 [00:01<00:00, 42.58it/s]\n"
          ]
        },
        {
          "output_type": "stream",
          "name": "stdout",
          "text": [
            "Epoch 402/1000 loss 0.00046 val_loss 0.00674 acc 0.99979 val_acc 0.99882\n"
          ]
        },
        {
          "output_type": "stream",
          "name": "stderr",
          "text": [
            "loss 0.00027 acc 0.99989: 100%|██████████| 297/297 [00:06<00:00, 48.90it/s]\n",
            "val_loss 0.00555 val_acc 0.99882: 100%|██████████| 53/53 [00:01<00:00, 39.07it/s]\n"
          ]
        },
        {
          "output_type": "stream",
          "name": "stdout",
          "text": [
            "Epoch 403/1000 loss 0.00027 val_loss 0.00555 acc 0.99989 val_acc 0.99882\n"
          ]
        },
        {
          "output_type": "stream",
          "name": "stderr",
          "text": [
            "loss 0.00016 acc 0.99989: 100%|██████████| 297/297 [00:04<00:00, 62.11it/s]\n",
            "val_loss 0.00643 val_acc 0.99764: 100%|██████████| 53/53 [00:00<00:00, 53.14it/s]\n"
          ]
        },
        {
          "output_type": "stream",
          "name": "stdout",
          "text": [
            "Epoch 404/1000 loss 0.00016 val_loss 0.00643 acc 0.99989 val_acc 0.99764\n"
          ]
        },
        {
          "output_type": "stream",
          "name": "stderr",
          "text": [
            "loss 0.00125 acc 0.99937: 100%|██████████| 297/297 [00:05<00:00, 58.25it/s]\n",
            "val_loss 0.01030 val_acc 0.99764: 100%|██████████| 53/53 [00:01<00:00, 40.79it/s]\n"
          ]
        },
        {
          "output_type": "stream",
          "name": "stdout",
          "text": [
            "Epoch 405/1000 loss 0.00125 val_loss 0.01030 acc 0.99937 val_acc 0.99764\n"
          ]
        },
        {
          "output_type": "stream",
          "name": "stderr",
          "text": [
            "loss 0.00079 acc 0.99958: 100%|██████████| 297/297 [00:06<00:00, 48.02it/s]\n",
            "val_loss 0.00707 val_acc 0.99764: 100%|██████████| 53/53 [00:01<00:00, 37.06it/s]\n"
          ]
        },
        {
          "output_type": "stream",
          "name": "stdout",
          "text": [
            "Epoch 406/1000 loss 0.00079 val_loss 0.00707 acc 0.99958 val_acc 0.99764\n"
          ]
        },
        {
          "output_type": "stream",
          "name": "stderr",
          "text": [
            "loss 0.00172 acc 0.99961: 100%|██████████| 297/297 [00:04<00:00, 59.43it/s]\n",
            "val_loss 0.00717 val_acc 0.99764: 100%|██████████| 53/53 [00:00<00:00, 53.10it/s]\n"
          ]
        },
        {
          "output_type": "stream",
          "name": "stdout",
          "text": [
            "Epoch 407/1000 loss 0.00172 val_loss 0.00717 acc 0.99961 val_acc 0.99764\n"
          ]
        },
        {
          "output_type": "stream",
          "name": "stderr",
          "text": [
            "loss 0.00413 acc 0.99884: 100%|██████████| 297/297 [00:04<00:00, 59.69it/s]\n",
            "val_loss 0.00433 val_acc 0.99823: 100%|██████████| 53/53 [00:01<00:00, 43.51it/s]\n"
          ]
        },
        {
          "output_type": "stream",
          "name": "stdout",
          "text": [
            "Epoch 408/1000 loss 0.00413 val_loss 0.00433 acc 0.99884 val_acc 0.99823\n"
          ]
        },
        {
          "output_type": "stream",
          "name": "stderr",
          "text": [
            "loss 0.00051 acc 0.99989: 100%|██████████| 297/297 [00:06<00:00, 47.16it/s]\n",
            "val_loss 0.00176 val_acc 0.99882: 100%|██████████| 53/53 [00:01<00:00, 37.05it/s]\n"
          ]
        },
        {
          "output_type": "stream",
          "name": "stdout",
          "text": [
            "Epoch 409/1000 loss 0.00051 val_loss 0.00176 acc 0.99989 val_acc 0.99882\n"
          ]
        },
        {
          "output_type": "stream",
          "name": "stderr",
          "text": [
            "loss 0.00136 acc 0.99961: 100%|██████████| 297/297 [00:05<00:00, 57.87it/s]\n",
            "val_loss 0.00513 val_acc 0.99764: 100%|██████████| 53/53 [00:01<00:00, 51.94it/s]\n"
          ]
        },
        {
          "output_type": "stream",
          "name": "stdout",
          "text": [
            "Epoch 410/1000 loss 0.00136 val_loss 0.00513 acc 0.99961 val_acc 0.99764\n"
          ]
        },
        {
          "output_type": "stream",
          "name": "stderr",
          "text": [
            "loss 0.00081 acc 0.99968: 100%|██████████| 297/297 [00:04<00:00, 61.76it/s]\n",
            "val_loss 0.00355 val_acc 0.99823: 100%|██████████| 53/53 [00:01<00:00, 43.29it/s]\n"
          ]
        },
        {
          "output_type": "stream",
          "name": "stdout",
          "text": [
            "Epoch 411/1000 loss 0.00081 val_loss 0.00355 acc 0.99968 val_acc 0.99823\n"
          ]
        },
        {
          "output_type": "stream",
          "name": "stderr",
          "text": [
            "loss 0.00007 acc 1.00000: 100%|██████████| 297/297 [00:06<00:00, 46.78it/s]\n",
            "val_loss 0.00415 val_acc 0.99882: 100%|██████████| 53/53 [00:01<00:00, 41.27it/s]\n"
          ]
        },
        {
          "output_type": "stream",
          "name": "stdout",
          "text": [
            "Epoch 412/1000 loss 0.00007 val_loss 0.00415 acc 1.00000 val_acc 0.99882\n"
          ]
        },
        {
          "output_type": "stream",
          "name": "stderr",
          "text": [
            "loss 0.00006 acc 1.00000: 100%|██████████| 297/297 [00:05<00:00, 57.19it/s]\n",
            "val_loss 0.00371 val_acc 0.99823: 100%|██████████| 53/53 [00:01<00:00, 52.45it/s]\n"
          ]
        },
        {
          "output_type": "stream",
          "name": "stdout",
          "text": [
            "Epoch 413/1000 loss 0.00006 val_loss 0.00371 acc 1.00000 val_acc 0.99823\n"
          ]
        },
        {
          "output_type": "stream",
          "name": "stderr",
          "text": [
            "loss 0.00019 acc 0.99989: 100%|██████████| 297/297 [00:04<00:00, 60.67it/s]\n",
            "val_loss 0.00891 val_acc 0.99646: 100%|██████████| 53/53 [00:01<00:00, 41.90it/s]\n"
          ]
        },
        {
          "output_type": "stream",
          "name": "stdout",
          "text": [
            "Epoch 414/1000 loss 0.00019 val_loss 0.00891 acc 0.99989 val_acc 0.99646\n"
          ]
        },
        {
          "output_type": "stream",
          "name": "stderr",
          "text": [
            "loss 0.00037 acc 0.99979: 100%|██████████| 297/297 [00:06<00:00, 46.60it/s]\n",
            "val_loss 0.00626 val_acc 0.99764: 100%|██████████| 53/53 [00:01<00:00, 37.59it/s]\n"
          ]
        },
        {
          "output_type": "stream",
          "name": "stdout",
          "text": [
            "Epoch 415/1000 loss 0.00037 val_loss 0.00626 acc 0.99979 val_acc 0.99764\n"
          ]
        },
        {
          "output_type": "stream",
          "name": "stderr",
          "text": [
            "loss 0.00043 acc 0.99979: 100%|██████████| 297/297 [00:05<00:00, 58.73it/s]\n",
            "val_loss 0.00372 val_acc 0.99882: 100%|██████████| 53/53 [00:01<00:00, 51.98it/s]\n"
          ]
        },
        {
          "output_type": "stream",
          "name": "stdout",
          "text": [
            "Epoch 416/1000 loss 0.00043 val_loss 0.00372 acc 0.99979 val_acc 0.99882\n"
          ]
        },
        {
          "output_type": "stream",
          "name": "stderr",
          "text": [
            "loss 0.00035 acc 0.99989: 100%|██████████| 297/297 [00:04<00:00, 60.31it/s]\n",
            "val_loss 0.04512 val_acc 0.99045: 100%|██████████| 53/53 [00:01<00:00, 41.60it/s]\n"
          ]
        },
        {
          "output_type": "stream",
          "name": "stdout",
          "text": [
            "Epoch 417/1000 loss 0.00035 val_loss 0.04512 acc 0.99989 val_acc 0.99045\n"
          ]
        },
        {
          "output_type": "stream",
          "name": "stderr",
          "text": [
            "loss 0.00038 acc 0.99979: 100%|██████████| 297/297 [00:06<00:00, 45.80it/s]\n",
            "val_loss 0.00438 val_acc 0.99764: 100%|██████████| 53/53 [00:01<00:00, 37.39it/s]\n"
          ]
        },
        {
          "output_type": "stream",
          "name": "stdout",
          "text": [
            "Epoch 418/1000 loss 0.00038 val_loss 0.00438 acc 0.99979 val_acc 0.99764\n"
          ]
        },
        {
          "output_type": "stream",
          "name": "stderr",
          "text": [
            "loss 0.00041 acc 0.99979: 100%|██████████| 297/297 [00:05<00:00, 58.81it/s]\n",
            "val_loss 0.00017 val_acc 1.00000: 100%|██████████| 53/53 [00:00<00:00, 53.66it/s]\n"
          ]
        },
        {
          "output_type": "stream",
          "name": "stdout",
          "text": [
            "Epoch 419/1000 loss 0.00041 val_loss 0.00017 acc 0.99979 val_acc 1.00000\n"
          ]
        },
        {
          "output_type": "stream",
          "name": "stderr",
          "text": [
            "loss 0.00017 acc 1.00000: 100%|██████████| 297/297 [00:04<00:00, 61.22it/s]\n",
            "val_loss 0.00070 val_acc 0.99941: 100%|██████████| 53/53 [00:01<00:00, 43.17it/s]\n"
          ]
        },
        {
          "output_type": "stream",
          "name": "stdout",
          "text": [
            "Epoch 420/1000 loss 0.00017 val_loss 0.00070 acc 1.00000 val_acc 0.99941\n",
            "Checkpoint guardado en /content/drive/MyDrive/SIS421 prueba dataset 1 test/Checkpoints/checkpoint.pth (Epoch 420)\n"
          ]
        },
        {
          "output_type": "stream",
          "name": "stderr",
          "text": [
            "loss 0.00005 acc 1.00000: 100%|██████████| 297/297 [00:06<00:00, 44.59it/s]\n",
            "val_loss 0.00024 val_acc 1.00000: 100%|██████████| 53/53 [00:01<00:00, 42.11it/s]\n"
          ]
        },
        {
          "output_type": "stream",
          "name": "stdout",
          "text": [
            "Epoch 421/1000 loss 0.00005 val_loss 0.00024 acc 1.00000 val_acc 1.00000\n"
          ]
        },
        {
          "output_type": "stream",
          "name": "stderr",
          "text": [
            "loss 0.00008 acc 1.00000: 100%|██████████| 297/297 [00:05<00:00, 57.94it/s]\n",
            "val_loss 0.00053 val_acc 1.00000: 100%|██████████| 53/53 [00:01<00:00, 52.92it/s]\n"
          ]
        },
        {
          "output_type": "stream",
          "name": "stdout",
          "text": [
            "Epoch 422/1000 loss 0.00008 val_loss 0.00053 acc 1.00000 val_acc 1.00000\n"
          ]
        },
        {
          "output_type": "stream",
          "name": "stderr",
          "text": [
            "loss 0.00003 acc 1.00000: 100%|██████████| 297/297 [00:05<00:00, 59.36it/s]\n",
            "val_loss 0.00125 val_acc 0.99882: 100%|██████████| 53/53 [00:01<00:00, 40.76it/s]\n"
          ]
        },
        {
          "output_type": "stream",
          "name": "stdout",
          "text": [
            "Epoch 423/1000 loss 0.00003 val_loss 0.00125 acc 1.00000 val_acc 0.99882\n"
          ]
        },
        {
          "output_type": "stream",
          "name": "stderr",
          "text": [
            "loss 0.00002 acc 1.00000: 100%|██████████| 297/297 [00:06<00:00, 47.26it/s]\n",
            "val_loss 0.00063 val_acc 1.00000: 100%|██████████| 53/53 [00:01<00:00, 40.05it/s]\n"
          ]
        },
        {
          "output_type": "stream",
          "name": "stdout",
          "text": [
            "Epoch 424/1000 loss 0.00002 val_loss 0.00063 acc 1.00000 val_acc 1.00000\n"
          ]
        },
        {
          "output_type": "stream",
          "name": "stderr",
          "text": [
            "loss 0.00008 acc 1.00000: 100%|██████████| 297/297 [00:05<00:00, 54.99it/s]\n",
            "val_loss 0.00005 val_acc 1.00000: 100%|██████████| 53/53 [00:00<00:00, 53.90it/s]\n"
          ]
        },
        {
          "output_type": "stream",
          "name": "stdout",
          "text": [
            "Epoch 425/1000 loss 0.00008 val_loss 0.00005 acc 1.00000 val_acc 1.00000\n"
          ]
        },
        {
          "output_type": "stream",
          "name": "stderr",
          "text": [
            "loss 0.00040 acc 0.99972: 100%|██████████| 297/297 [00:04<00:00, 60.50it/s]\n",
            "val_loss 0.00002 val_acc 1.00000: 100%|██████████| 53/53 [00:01<00:00, 43.34it/s]\n"
          ]
        },
        {
          "output_type": "stream",
          "name": "stdout",
          "text": [
            "Epoch 426/1000 loss 0.00040 val_loss 0.00002 acc 0.99972 val_acc 1.00000\n"
          ]
        },
        {
          "output_type": "stream",
          "name": "stderr",
          "text": [
            "loss 0.00006 acc 1.00000: 100%|██████████| 297/297 [00:06<00:00, 45.41it/s]\n",
            "val_loss 0.00030 val_acc 1.00000: 100%|██████████| 53/53 [00:01<00:00, 37.84it/s]\n"
          ]
        },
        {
          "output_type": "stream",
          "name": "stdout",
          "text": [
            "Epoch 427/1000 loss 0.00006 val_loss 0.00030 acc 1.00000 val_acc 1.00000\n"
          ]
        },
        {
          "output_type": "stream",
          "name": "stderr",
          "text": [
            "loss 0.00299 acc 0.99874: 100%|██████████| 297/297 [00:05<00:00, 53.16it/s]\n",
            "val_loss 0.00042 val_acc 1.00000: 100%|██████████| 53/53 [00:00<00:00, 54.46it/s]\n"
          ]
        },
        {
          "output_type": "stream",
          "name": "stdout",
          "text": [
            "Epoch 428/1000 loss 0.00299 val_loss 0.00042 acc 0.99874 val_acc 1.00000\n"
          ]
        },
        {
          "output_type": "stream",
          "name": "stderr",
          "text": [
            "loss 0.00082 acc 0.99979: 100%|██████████| 297/297 [00:04<00:00, 61.23it/s]\n",
            "val_loss 0.00659 val_acc 0.99823: 100%|██████████| 53/53 [00:01<00:00, 52.37it/s]\n"
          ]
        },
        {
          "output_type": "stream",
          "name": "stdout",
          "text": [
            "Epoch 429/1000 loss 0.00082 val_loss 0.00659 acc 0.99979 val_acc 0.99823\n"
          ]
        },
        {
          "output_type": "stream",
          "name": "stderr",
          "text": [
            "loss 0.00099 acc 0.99968: 100%|██████████| 297/297 [00:06<00:00, 46.56it/s]\n",
            "val_loss 0.00003 val_acc 1.00000: 100%|██████████| 53/53 [00:01<00:00, 37.08it/s]\n"
          ]
        },
        {
          "output_type": "stream",
          "name": "stdout",
          "text": [
            "Epoch 430/1000 loss 0.00099 val_loss 0.00003 acc 0.99968 val_acc 1.00000\n"
          ]
        },
        {
          "output_type": "stream",
          "name": "stderr",
          "text": [
            "loss 0.00010 acc 1.00000: 100%|██████████| 297/297 [00:05<00:00, 50.28it/s]\n",
            "val_loss 0.00007 val_acc 1.00000: 100%|██████████| 53/53 [00:00<00:00, 54.36it/s]\n"
          ]
        },
        {
          "output_type": "stream",
          "name": "stdout",
          "text": [
            "Epoch 431/1000 loss 0.00010 val_loss 0.00007 acc 1.00000 val_acc 1.00000\n"
          ]
        },
        {
          "output_type": "stream",
          "name": "stderr",
          "text": [
            "loss 0.00152 acc 0.99968: 100%|██████████| 297/297 [00:04<00:00, 60.50it/s]\n",
            "val_loss 0.00055 val_acc 1.00000: 100%|██████████| 53/53 [00:00<00:00, 54.33it/s]\n"
          ]
        },
        {
          "output_type": "stream",
          "name": "stdout",
          "text": [
            "Epoch 432/1000 loss 0.00152 val_loss 0.00055 acc 0.99968 val_acc 1.00000\n"
          ]
        },
        {
          "output_type": "stream",
          "name": "stderr",
          "text": [
            "loss 0.00090 acc 0.99958: 100%|██████████| 297/297 [00:06<00:00, 48.81it/s]\n",
            "val_loss 0.00030 val_acc 1.00000: 100%|██████████| 53/53 [00:01<00:00, 39.45it/s]\n"
          ]
        },
        {
          "output_type": "stream",
          "name": "stdout",
          "text": [
            "Epoch 433/1000 loss 0.00090 val_loss 0.00030 acc 0.99958 val_acc 1.00000\n"
          ]
        },
        {
          "output_type": "stream",
          "name": "stderr",
          "text": [
            "loss 0.00022 acc 0.99989: 100%|██████████| 297/297 [00:05<00:00, 51.44it/s]\n",
            "val_loss 0.00151 val_acc 0.99941: 100%|██████████| 53/53 [00:00<00:00, 53.41it/s]\n"
          ]
        },
        {
          "output_type": "stream",
          "name": "stdout",
          "text": [
            "Epoch 434/1000 loss 0.00022 val_loss 0.00151 acc 0.99989 val_acc 0.99941\n"
          ]
        },
        {
          "output_type": "stream",
          "name": "stderr",
          "text": [
            "loss 0.00008 acc 1.00000: 100%|██████████| 297/297 [00:04<00:00, 59.84it/s]\n",
            "val_loss 0.00094 val_acc 0.99941: 100%|██████████| 53/53 [00:01<00:00, 52.24it/s]\n"
          ]
        },
        {
          "output_type": "stream",
          "name": "stdout",
          "text": [
            "Epoch 435/1000 loss 0.00008 val_loss 0.00094 acc 1.00000 val_acc 0.99941\n"
          ]
        },
        {
          "output_type": "stream",
          "name": "stderr",
          "text": [
            "loss 0.00193 acc 0.99958: 100%|██████████| 297/297 [00:05<00:00, 49.73it/s]\n",
            "val_loss 0.00261 val_acc 0.99882: 100%|██████████| 53/53 [00:01<00:00, 38.77it/s]\n"
          ]
        },
        {
          "output_type": "stream",
          "name": "stdout",
          "text": [
            "Epoch 436/1000 loss 0.00193 val_loss 0.00261 acc 0.99958 val_acc 0.99882\n"
          ]
        },
        {
          "output_type": "stream",
          "name": "stderr",
          "text": [
            "loss 0.00124 acc 0.99947: 100%|██████████| 297/297 [00:06<00:00, 47.14it/s]\n",
            "val_loss 0.00002 val_acc 1.00000: 100%|██████████| 53/53 [00:01<00:00, 45.12it/s]\n"
          ]
        },
        {
          "output_type": "stream",
          "name": "stdout",
          "text": [
            "Epoch 437/1000 loss 0.00124 val_loss 0.00002 acc 0.99947 val_acc 1.00000\n"
          ]
        },
        {
          "output_type": "stream",
          "name": "stderr",
          "text": [
            "loss 0.00129 acc 0.99937: 100%|██████████| 297/297 [00:04<00:00, 60.21it/s]\n",
            "val_loss 0.00341 val_acc 0.99823: 100%|██████████| 53/53 [00:00<00:00, 53.83it/s]\n"
          ]
        },
        {
          "output_type": "stream",
          "name": "stdout",
          "text": [
            "Epoch 438/1000 loss 0.00129 val_loss 0.00341 acc 0.99937 val_acc 0.99823\n"
          ]
        },
        {
          "output_type": "stream",
          "name": "stderr",
          "text": [
            "loss 0.00485 acc 0.99895: 100%|██████████| 297/297 [00:05<00:00, 54.19it/s]\n",
            "val_loss 0.00652 val_acc 0.99882: 100%|██████████| 53/53 [00:01<00:00, 37.79it/s]\n"
          ]
        },
        {
          "output_type": "stream",
          "name": "stdout",
          "text": [
            "Epoch 439/1000 loss 0.00485 val_loss 0.00652 acc 0.99895 val_acc 0.99882\n"
          ]
        },
        {
          "output_type": "stream",
          "name": "stderr",
          "text": [
            "loss 0.00373 acc 0.99951: 100%|██████████| 297/297 [00:06<00:00, 44.57it/s]\n",
            "val_loss 0.00055 val_acc 1.00000: 100%|██████████| 53/53 [00:01<00:00, 41.59it/s]\n"
          ]
        },
        {
          "output_type": "stream",
          "name": "stdout",
          "text": [
            "Epoch 440/1000 loss 0.00373 val_loss 0.00055 acc 0.99951 val_acc 1.00000\n",
            "Checkpoint guardado en /content/drive/MyDrive/SIS421 prueba dataset 1 test/Checkpoints/checkpoint.pth (Epoch 440)\n"
          ]
        },
        {
          "output_type": "stream",
          "name": "stderr",
          "text": [
            "loss 0.00192 acc 0.99937: 100%|██████████| 297/297 [00:05<00:00, 58.38it/s]\n",
            "val_loss 0.00309 val_acc 0.99941: 100%|██████████| 53/53 [00:01<00:00, 51.15it/s]\n"
          ]
        },
        {
          "output_type": "stream",
          "name": "stdout",
          "text": [
            "Epoch 441/1000 loss 0.00192 val_loss 0.00309 acc 0.99937 val_acc 0.99941\n"
          ]
        },
        {
          "output_type": "stream",
          "name": "stderr",
          "text": [
            "loss 0.00094 acc 0.99979: 100%|██████████| 297/297 [00:05<00:00, 55.65it/s]\n",
            "val_loss 0.00266 val_acc 0.99882: 100%|██████████| 53/53 [00:01<00:00, 41.60it/s]\n"
          ]
        },
        {
          "output_type": "stream",
          "name": "stdout",
          "text": [
            "Epoch 442/1000 loss 0.00094 val_loss 0.00266 acc 0.99979 val_acc 0.99882\n"
          ]
        },
        {
          "output_type": "stream",
          "name": "stderr",
          "text": [
            "loss 0.00026 acc 0.99989: 100%|██████████| 297/297 [00:06<00:00, 45.97it/s]\n",
            "val_loss 0.00034 val_acc 1.00000: 100%|██████████| 53/53 [00:01<00:00, 41.19it/s]\n"
          ]
        },
        {
          "output_type": "stream",
          "name": "stdout",
          "text": [
            "Epoch 443/1000 loss 0.00026 val_loss 0.00034 acc 0.99989 val_acc 1.00000\n"
          ]
        },
        {
          "output_type": "stream",
          "name": "stderr",
          "text": [
            "loss 0.00042 acc 0.99979: 100%|██████████| 297/297 [00:04<00:00, 60.55it/s]\n",
            "val_loss 0.00028 val_acc 1.00000: 100%|██████████| 53/53 [00:00<00:00, 53.16it/s]\n"
          ]
        },
        {
          "output_type": "stream",
          "name": "stdout",
          "text": [
            "Epoch 444/1000 loss 0.00042 val_loss 0.00028 acc 0.99979 val_acc 1.00000\n"
          ]
        },
        {
          "output_type": "stream",
          "name": "stderr",
          "text": [
            "loss 0.00014 acc 1.00000: 100%|██████████| 297/297 [00:05<00:00, 54.60it/s]\n",
            "val_loss 0.00002 val_acc 1.00000: 100%|██████████| 53/53 [00:01<00:00, 41.38it/s]\n"
          ]
        },
        {
          "output_type": "stream",
          "name": "stdout",
          "text": [
            "Epoch 445/1000 loss 0.00014 val_loss 0.00002 acc 1.00000 val_acc 1.00000\n"
          ]
        },
        {
          "output_type": "stream",
          "name": "stderr",
          "text": [
            "loss 0.00005 acc 1.00000: 100%|██████████| 297/297 [00:06<00:00, 46.50it/s]\n",
            "val_loss 0.00002 val_acc 1.00000: 100%|██████████| 53/53 [00:01<00:00, 41.51it/s]\n"
          ]
        },
        {
          "output_type": "stream",
          "name": "stdout",
          "text": [
            "Epoch 446/1000 loss 0.00005 val_loss 0.00002 acc 1.00000 val_acc 1.00000\n"
          ]
        },
        {
          "output_type": "stream",
          "name": "stderr",
          "text": [
            "loss 0.00009 acc 1.00000: 100%|██████████| 297/297 [00:05<00:00, 57.93it/s]\n",
            "val_loss 0.00051 val_acc 0.99941: 100%|██████████| 53/53 [00:01<00:00, 51.36it/s]\n"
          ]
        },
        {
          "output_type": "stream",
          "name": "stdout",
          "text": [
            "Epoch 447/1000 loss 0.00009 val_loss 0.00051 acc 1.00000 val_acc 0.99941\n"
          ]
        },
        {
          "output_type": "stream",
          "name": "stderr",
          "text": [
            "loss 0.00006 acc 1.00000: 100%|██████████| 297/297 [00:05<00:00, 57.71it/s]\n",
            "val_loss 0.00003 val_acc 1.00000: 100%|██████████| 53/53 [00:01<00:00, 40.89it/s]\n"
          ]
        },
        {
          "output_type": "stream",
          "name": "stdout",
          "text": [
            "Epoch 448/1000 loss 0.00006 val_loss 0.00003 acc 1.00000 val_acc 1.00000\n"
          ]
        },
        {
          "output_type": "stream",
          "name": "stderr",
          "text": [
            "loss 0.00002 acc 1.00000: 100%|██████████| 297/297 [00:06<00:00, 46.44it/s]\n",
            "val_loss 0.00002 val_acc 1.00000: 100%|██████████| 53/53 [00:01<00:00, 37.28it/s]\n"
          ]
        },
        {
          "output_type": "stream",
          "name": "stdout",
          "text": [
            "Epoch 449/1000 loss 0.00002 val_loss 0.00002 acc 1.00000 val_acc 1.00000\n"
          ]
        },
        {
          "output_type": "stream",
          "name": "stderr",
          "text": [
            "loss 0.00014 acc 1.00000: 100%|██████████| 297/297 [00:05<00:00, 52.14it/s]\n",
            "val_loss 0.00001 val_acc 1.00000: 100%|██████████| 53/53 [00:01<00:00, 51.18it/s]\n"
          ]
        },
        {
          "output_type": "stream",
          "name": "stdout",
          "text": [
            "Epoch 450/1000 loss 0.00014 val_loss 0.00001 acc 1.00000 val_acc 1.00000\n"
          ]
        },
        {
          "output_type": "stream",
          "name": "stderr",
          "text": [
            "loss 0.00002 acc 1.00000: 100%|██████████| 297/297 [00:05<00:00, 57.85it/s]\n",
            "val_loss 0.00001 val_acc 1.00000: 100%|██████████| 53/53 [00:01<00:00, 40.23it/s]\n"
          ]
        },
        {
          "output_type": "stream",
          "name": "stdout",
          "text": [
            "Epoch 451/1000 loss 0.00002 val_loss 0.00001 acc 1.00000 val_acc 1.00000\n"
          ]
        },
        {
          "output_type": "stream",
          "name": "stderr",
          "text": [
            "loss 0.00008 acc 1.00000: 100%|██████████| 297/297 [00:06<00:00, 44.54it/s]\n",
            "val_loss 0.00002 val_acc 1.00000: 100%|██████████| 53/53 [00:01<00:00, 38.43it/s]\n"
          ]
        },
        {
          "output_type": "stream",
          "name": "stdout",
          "text": [
            "Epoch 452/1000 loss 0.00008 val_loss 0.00002 acc 1.00000 val_acc 1.00000\n"
          ]
        },
        {
          "output_type": "stream",
          "name": "stderr",
          "text": [
            "loss 0.00013 acc 0.99989: 100%|██████████| 297/297 [00:05<00:00, 54.26it/s]\n",
            "val_loss 0.00000 val_acc 1.00000: 100%|██████████| 53/53 [00:01<00:00, 48.45it/s]\n"
          ]
        },
        {
          "output_type": "stream",
          "name": "stdout",
          "text": [
            "Epoch 453/1000 loss 0.00013 val_loss 0.00000 acc 0.99989 val_acc 1.00000\n"
          ]
        },
        {
          "output_type": "stream",
          "name": "stderr",
          "text": [
            "loss 0.00004 acc 1.00000: 100%|██████████| 297/297 [00:04<00:00, 60.83it/s]\n",
            "val_loss 0.00001 val_acc 1.00000: 100%|██████████| 53/53 [00:01<00:00, 45.12it/s]\n"
          ]
        },
        {
          "output_type": "stream",
          "name": "stdout",
          "text": [
            "Epoch 454/1000 loss 0.00004 val_loss 0.00001 acc 1.00000 val_acc 1.00000\n"
          ]
        },
        {
          "output_type": "stream",
          "name": "stderr",
          "text": [
            "loss 0.00001 acc 1.00000: 100%|██████████| 297/297 [00:06<00:00, 45.04it/s]\n",
            "val_loss 0.00001 val_acc 1.00000: 100%|██████████| 53/53 [00:01<00:00, 37.77it/s]\n"
          ]
        },
        {
          "output_type": "stream",
          "name": "stdout",
          "text": [
            "Epoch 455/1000 loss 0.00001 val_loss 0.00001 acc 1.00000 val_acc 1.00000\n"
          ]
        },
        {
          "output_type": "stream",
          "name": "stderr",
          "text": [
            "loss 0.00482 acc 0.99888: 100%|██████████| 297/297 [00:05<00:00, 54.04it/s]\n",
            "val_loss 0.00059 val_acc 1.00000: 100%|██████████| 53/53 [00:01<00:00, 50.56it/s]\n"
          ]
        },
        {
          "output_type": "stream",
          "name": "stdout",
          "text": [
            "Epoch 456/1000 loss 0.00482 val_loss 0.00059 acc 0.99888 val_acc 1.00000\n"
          ]
        },
        {
          "output_type": "stream",
          "name": "stderr",
          "text": [
            "loss 0.00534 acc 0.99898: 100%|██████████| 297/297 [00:04<00:00, 60.66it/s]\n",
            "val_loss 0.00075 val_acc 0.99941: 100%|██████████| 53/53 [00:01<00:00, 43.07it/s]\n"
          ]
        },
        {
          "output_type": "stream",
          "name": "stdout",
          "text": [
            "Epoch 457/1000 loss 0.00534 val_loss 0.00075 acc 0.99898 val_acc 0.99941\n"
          ]
        },
        {
          "output_type": "stream",
          "name": "stderr",
          "text": [
            "loss 0.00513 acc 0.99846: 100%|██████████| 297/297 [00:06<00:00, 47.08it/s]\n",
            "val_loss 0.00038 val_acc 1.00000: 100%|██████████| 53/53 [00:01<00:00, 39.16it/s]\n"
          ]
        },
        {
          "output_type": "stream",
          "name": "stdout",
          "text": [
            "Epoch 458/1000 loss 0.00513 val_loss 0.00038 acc 0.99846 val_acc 1.00000\n"
          ]
        },
        {
          "output_type": "stream",
          "name": "stderr",
          "text": [
            "loss 0.00109 acc 0.99958: 100%|██████████| 297/297 [00:05<00:00, 50.31it/s]\n",
            "val_loss 0.00158 val_acc 0.99941: 100%|██████████| 53/53 [00:01<00:00, 52.55it/s]\n"
          ]
        },
        {
          "output_type": "stream",
          "name": "stdout",
          "text": [
            "Epoch 459/1000 loss 0.00109 val_loss 0.00158 acc 0.99958 val_acc 0.99941\n"
          ]
        },
        {
          "output_type": "stream",
          "name": "stderr",
          "text": [
            "loss 0.00090 acc 0.99979: 100%|██████████| 297/297 [00:04<00:00, 60.98it/s]\n",
            "val_loss 0.00010 val_acc 1.00000: 100%|██████████| 53/53 [00:01<00:00, 51.46it/s]\n"
          ]
        },
        {
          "output_type": "stream",
          "name": "stdout",
          "text": [
            "Epoch 460/1000 loss 0.00090 val_loss 0.00010 acc 0.99979 val_acc 1.00000\n",
            "Checkpoint guardado en /content/drive/MyDrive/SIS421 prueba dataset 1 test/Checkpoints/checkpoint.pth (Epoch 460)\n"
          ]
        },
        {
          "output_type": "stream",
          "name": "stderr",
          "text": [
            "loss 0.00015 acc 1.00000: 100%|██████████| 297/297 [00:06<00:00, 46.20it/s]\n",
            "val_loss 0.00009 val_acc 1.00000: 100%|██████████| 53/53 [00:01<00:00, 38.27it/s]\n"
          ]
        },
        {
          "output_type": "stream",
          "name": "stdout",
          "text": [
            "Epoch 461/1000 loss 0.00015 val_loss 0.00009 acc 1.00000 val_acc 1.00000\n"
          ]
        },
        {
          "output_type": "stream",
          "name": "stderr",
          "text": [
            "loss 0.00006 acc 1.00000: 100%|██████████| 297/297 [00:06<00:00, 48.60it/s]\n",
            "val_loss 0.00008 val_acc 1.00000: 100%|██████████| 53/53 [00:01<00:00, 52.24it/s]\n"
          ]
        },
        {
          "output_type": "stream",
          "name": "stdout",
          "text": [
            "Epoch 462/1000 loss 0.00006 val_loss 0.00008 acc 1.00000 val_acc 1.00000\n"
          ]
        },
        {
          "output_type": "stream",
          "name": "stderr",
          "text": [
            "loss 0.00022 acc 1.00000: 100%|██████████| 297/297 [00:04<00:00, 59.99it/s]\n",
            "val_loss 0.00026 val_acc 1.00000: 100%|██████████| 53/53 [00:01<00:00, 43.18it/s]\n"
          ]
        },
        {
          "output_type": "stream",
          "name": "stdout",
          "text": [
            "Epoch 463/1000 loss 0.00022 val_loss 0.00026 acc 1.00000 val_acc 1.00000\n"
          ]
        },
        {
          "output_type": "stream",
          "name": "stderr",
          "text": [
            "loss 0.00083 acc 0.99979: 100%|██████████| 297/297 [00:06<00:00, 47.24it/s]\n",
            "val_loss 0.01347 val_acc 0.99517: 100%|██████████| 53/53 [00:01<00:00, 36.33it/s]\n"
          ]
        },
        {
          "output_type": "stream",
          "name": "stdout",
          "text": [
            "Epoch 464/1000 loss 0.00083 val_loss 0.01347 acc 0.99979 val_acc 0.99517\n"
          ]
        },
        {
          "output_type": "stream",
          "name": "stderr",
          "text": [
            "loss 0.00011 acc 1.00000: 100%|██████████| 297/297 [00:05<00:00, 49.70it/s]\n",
            "val_loss 0.00003 val_acc 1.00000: 100%|██████████| 53/53 [00:01<00:00, 50.27it/s]\n"
          ]
        },
        {
          "output_type": "stream",
          "name": "stdout",
          "text": [
            "Epoch 465/1000 loss 0.00011 val_loss 0.00003 acc 1.00000 val_acc 1.00000\n"
          ]
        },
        {
          "output_type": "stream",
          "name": "stderr",
          "text": [
            "loss 0.00052 acc 0.99989: 100%|██████████| 297/297 [00:05<00:00, 55.43it/s]\n",
            "val_loss 0.00300 val_acc 0.99882: 100%|██████████| 53/53 [00:01<00:00, 39.75it/s]\n"
          ]
        },
        {
          "output_type": "stream",
          "name": "stdout",
          "text": [
            "Epoch 466/1000 loss 0.00052 val_loss 0.00300 acc 0.99989 val_acc 0.99882\n"
          ]
        },
        {
          "output_type": "stream",
          "name": "stderr",
          "text": [
            "loss 0.00046 acc 0.99989: 100%|██████████| 297/297 [00:06<00:00, 44.01it/s]\n",
            "val_loss 0.00122 val_acc 0.99941: 100%|██████████| 53/53 [00:01<00:00, 36.53it/s]\n"
          ]
        },
        {
          "output_type": "stream",
          "name": "stdout",
          "text": [
            "Epoch 467/1000 loss 0.00046 val_loss 0.00122 acc 0.99989 val_acc 0.99941\n"
          ]
        },
        {
          "output_type": "stream",
          "name": "stderr",
          "text": [
            "loss 0.00037 acc 1.00000: 100%|██████████| 297/297 [00:05<00:00, 53.50it/s]\n",
            "val_loss 0.00012 val_acc 1.00000: 100%|██████████| 53/53 [00:01<00:00, 50.02it/s]\n"
          ]
        },
        {
          "output_type": "stream",
          "name": "stdout",
          "text": [
            "Epoch 468/1000 loss 0.00037 val_loss 0.00012 acc 1.00000 val_acc 1.00000\n"
          ]
        },
        {
          "output_type": "stream",
          "name": "stderr",
          "text": [
            "loss 0.00111 acc 0.99951: 100%|██████████| 297/297 [00:05<00:00, 56.39it/s]\n",
            "val_loss 0.00012 val_acc 1.00000: 100%|██████████| 53/53 [00:01<00:00, 38.80it/s]\n"
          ]
        },
        {
          "output_type": "stream",
          "name": "stdout",
          "text": [
            "Epoch 469/1000 loss 0.00111 val_loss 0.00012 acc 0.99951 val_acc 1.00000\n"
          ]
        },
        {
          "output_type": "stream",
          "name": "stderr",
          "text": [
            "loss 0.00047 acc 0.99968: 100%|██████████| 297/297 [00:06<00:00, 44.49it/s]\n",
            "val_loss 0.00020 val_acc 1.00000: 100%|██████████| 53/53 [00:01<00:00, 40.57it/s]\n"
          ]
        },
        {
          "output_type": "stream",
          "name": "stdout",
          "text": [
            "Epoch 470/1000 loss 0.00047 val_loss 0.00020 acc 0.99968 val_acc 1.00000\n"
          ]
        },
        {
          "output_type": "stream",
          "name": "stderr",
          "text": [
            "loss 0.00127 acc 0.99961: 100%|██████████| 297/297 [00:05<00:00, 55.30it/s]\n",
            "val_loss 0.00014 val_acc 1.00000: 100%|██████████| 53/53 [00:01<00:00, 50.91it/s]\n"
          ]
        },
        {
          "output_type": "stream",
          "name": "stdout",
          "text": [
            "Epoch 471/1000 loss 0.00127 val_loss 0.00014 acc 0.99961 val_acc 1.00000\n"
          ]
        },
        {
          "output_type": "stream",
          "name": "stderr",
          "text": [
            "loss 0.00008 acc 1.00000: 100%|██████████| 297/297 [00:05<00:00, 54.07it/s]\n",
            "val_loss 0.00002 val_acc 1.00000: 100%|██████████| 53/53 [00:01<00:00, 37.65it/s]\n"
          ]
        },
        {
          "output_type": "stream",
          "name": "stdout",
          "text": [
            "Epoch 472/1000 loss 0.00008 val_loss 0.00002 acc 1.00000 val_acc 1.00000\n"
          ]
        },
        {
          "output_type": "stream",
          "name": "stderr",
          "text": [
            "loss 0.00022 acc 0.99989: 100%|██████████| 297/297 [00:06<00:00, 43.69it/s]\n",
            "val_loss 0.00008 val_acc 1.00000: 100%|██████████| 53/53 [00:01<00:00, 42.96it/s]\n"
          ]
        },
        {
          "output_type": "stream",
          "name": "stdout",
          "text": [
            "Epoch 473/1000 loss 0.00022 val_loss 0.00008 acc 0.99989 val_acc 1.00000\n"
          ]
        },
        {
          "output_type": "stream",
          "name": "stderr",
          "text": [
            "loss 0.00089 acc 0.99968: 100%|██████████| 297/297 [00:05<00:00, 57.49it/s]\n",
            "val_loss 0.00535 val_acc 0.99823: 100%|██████████| 53/53 [00:01<00:00, 51.43it/s]\n"
          ]
        },
        {
          "output_type": "stream",
          "name": "stdout",
          "text": [
            "Epoch 474/1000 loss 0.00089 val_loss 0.00535 acc 0.99968 val_acc 0.99823\n"
          ]
        },
        {
          "output_type": "stream",
          "name": "stderr",
          "text": [
            "loss 0.00128 acc 0.99958: 100%|██████████| 297/297 [00:05<00:00, 53.07it/s]\n",
            "val_loss 0.00013 val_acc 1.00000: 100%|██████████| 53/53 [00:01<00:00, 39.39it/s]\n"
          ]
        },
        {
          "output_type": "stream",
          "name": "stdout",
          "text": [
            "Epoch 475/1000 loss 0.00128 val_loss 0.00013 acc 0.99958 val_acc 1.00000\n"
          ]
        },
        {
          "output_type": "stream",
          "name": "stderr",
          "text": [
            "loss 0.00038 acc 0.99979: 100%|██████████| 297/297 [00:06<00:00, 43.61it/s]\n",
            "val_loss 0.00003 val_acc 1.00000: 100%|██████████| 53/53 [00:01<00:00, 43.42it/s]\n"
          ]
        },
        {
          "output_type": "stream",
          "name": "stdout",
          "text": [
            "Epoch 476/1000 loss 0.00038 val_loss 0.00003 acc 0.99979 val_acc 1.00000\n"
          ]
        },
        {
          "output_type": "stream",
          "name": "stderr",
          "text": [
            "loss 0.00006 acc 1.00000: 100%|██████████| 297/297 [00:05<00:00, 57.96it/s]\n",
            "val_loss 0.00005 val_acc 1.00000: 100%|██████████| 53/53 [00:01<00:00, 50.23it/s]\n"
          ]
        },
        {
          "output_type": "stream",
          "name": "stdout",
          "text": [
            "Epoch 477/1000 loss 0.00006 val_loss 0.00005 acc 1.00000 val_acc 1.00000\n"
          ]
        },
        {
          "output_type": "stream",
          "name": "stderr",
          "text": [
            "loss 0.00008 acc 1.00000: 100%|██████████| 297/297 [00:05<00:00, 51.11it/s]\n",
            "val_loss 0.00003 val_acc 1.00000: 100%|██████████| 53/53 [00:01<00:00, 38.12it/s]\n"
          ]
        },
        {
          "output_type": "stream",
          "name": "stdout",
          "text": [
            "Epoch 478/1000 loss 0.00008 val_loss 0.00003 acc 1.00000 val_acc 1.00000\n"
          ]
        },
        {
          "output_type": "stream",
          "name": "stderr",
          "text": [
            "loss 0.00086 acc 0.99958: 100%|██████████| 297/297 [00:06<00:00, 44.52it/s]\n",
            "val_loss 0.00003 val_acc 1.00000: 100%|██████████| 53/53 [00:01<00:00, 39.48it/s]\n"
          ]
        },
        {
          "output_type": "stream",
          "name": "stdout",
          "text": [
            "Epoch 479/1000 loss 0.00086 val_loss 0.00003 acc 0.99958 val_acc 1.00000\n"
          ]
        },
        {
          "output_type": "stream",
          "name": "stderr",
          "text": [
            "loss 0.00006 acc 1.00000: 100%|██████████| 297/297 [00:05<00:00, 52.62it/s]\n",
            "val_loss 0.00004 val_acc 1.00000: 100%|██████████| 53/53 [00:01<00:00, 50.53it/s]\n"
          ]
        },
        {
          "output_type": "stream",
          "name": "stdout",
          "text": [
            "Epoch 480/1000 loss 0.00006 val_loss 0.00004 acc 1.00000 val_acc 1.00000\n",
            "Checkpoint guardado en /content/drive/MyDrive/SIS421 prueba dataset 1 test/Checkpoints/checkpoint.pth (Epoch 480)\n"
          ]
        },
        {
          "output_type": "stream",
          "name": "stderr",
          "text": [
            "loss 0.00001 acc 1.00000: 100%|██████████| 297/297 [00:05<00:00, 51.61it/s]\n",
            "val_loss 0.00003 val_acc 1.00000: 100%|██████████| 53/53 [00:01<00:00, 43.06it/s]\n"
          ]
        },
        {
          "output_type": "stream",
          "name": "stdout",
          "text": [
            "Epoch 481/1000 loss 0.00001 val_loss 0.00003 acc 1.00000 val_acc 1.00000\n"
          ]
        },
        {
          "output_type": "stream",
          "name": "stderr",
          "text": [
            "loss 0.00003 acc 1.00000: 100%|██████████| 297/297 [00:06<00:00, 45.61it/s]\n",
            "val_loss 0.00010 val_acc 1.00000: 100%|██████████| 53/53 [00:01<00:00, 41.36it/s]\n"
          ]
        },
        {
          "output_type": "stream",
          "name": "stdout",
          "text": [
            "Epoch 482/1000 loss 0.00003 val_loss 0.00010 acc 1.00000 val_acc 1.00000\n"
          ]
        },
        {
          "output_type": "stream",
          "name": "stderr",
          "text": [
            "loss 0.00089 acc 0.99968: 100%|██████████| 297/297 [00:05<00:00, 53.83it/s]\n",
            "val_loss 0.00003 val_acc 1.00000: 100%|██████████| 53/53 [00:01<00:00, 51.35it/s]\n"
          ]
        },
        {
          "output_type": "stream",
          "name": "stdout",
          "text": [
            "Epoch 483/1000 loss 0.00089 val_loss 0.00003 acc 0.99968 val_acc 1.00000\n"
          ]
        },
        {
          "output_type": "stream",
          "name": "stderr",
          "text": [
            "loss 0.00040 acc 0.99989: 100%|██████████| 297/297 [00:05<00:00, 52.58it/s]\n",
            "val_loss 0.00115 val_acc 0.99941: 100%|██████████| 53/53 [00:01<00:00, 39.40it/s]\n"
          ]
        },
        {
          "output_type": "stream",
          "name": "stdout",
          "text": [
            "Epoch 484/1000 loss 0.00040 val_loss 0.00115 acc 0.99989 val_acc 0.99941\n"
          ]
        },
        {
          "output_type": "stream",
          "name": "stderr",
          "text": [
            "loss 0.00019 acc 0.99989: 100%|██████████| 297/297 [00:06<00:00, 44.71it/s]\n",
            "val_loss 0.00136 val_acc 0.99941: 100%|██████████| 53/53 [00:01<00:00, 40.95it/s]\n"
          ]
        },
        {
          "output_type": "stream",
          "name": "stdout",
          "text": [
            "Epoch 485/1000 loss 0.00019 val_loss 0.00136 acc 0.99989 val_acc 0.99941\n"
          ]
        },
        {
          "output_type": "stream",
          "name": "stderr",
          "text": [
            "loss 0.00013 acc 1.00000: 100%|██████████| 297/297 [00:05<00:00, 55.54it/s]\n",
            "val_loss 0.00060 val_acc 0.99941: 100%|██████████| 53/53 [00:01<00:00, 51.38it/s]\n"
          ]
        },
        {
          "output_type": "stream",
          "name": "stdout",
          "text": [
            "Epoch 486/1000 loss 0.00013 val_loss 0.00060 acc 1.00000 val_acc 0.99941\n"
          ]
        },
        {
          "output_type": "stream",
          "name": "stderr",
          "text": [
            "loss 0.00009 acc 1.00000: 100%|██████████| 297/297 [00:05<00:00, 53.19it/s]\n",
            "val_loss 0.00003 val_acc 1.00000: 100%|██████████| 53/53 [00:01<00:00, 36.86it/s]\n"
          ]
        },
        {
          "output_type": "stream",
          "name": "stdout",
          "text": [
            "Epoch 487/1000 loss 0.00009 val_loss 0.00003 acc 1.00000 val_acc 1.00000\n"
          ]
        },
        {
          "output_type": "stream",
          "name": "stderr",
          "text": [
            "loss 0.00016 acc 0.99989: 100%|██████████| 297/297 [00:06<00:00, 44.19it/s]\n",
            "val_loss 0.00398 val_acc 0.99882: 100%|██████████| 53/53 [00:01<00:00, 41.45it/s]\n"
          ]
        },
        {
          "output_type": "stream",
          "name": "stdout",
          "text": [
            "Epoch 488/1000 loss 0.00016 val_loss 0.00398 acc 0.99989 val_acc 0.99882\n"
          ]
        },
        {
          "output_type": "stream",
          "name": "stderr",
          "text": [
            "loss 0.00240 acc 0.99926: 100%|██████████| 297/297 [00:05<00:00, 54.17it/s]\n",
            "val_loss 0.00012 val_acc 1.00000: 100%|██████████| 53/53 [00:01<00:00, 47.88it/s]\n"
          ]
        },
        {
          "output_type": "stream",
          "name": "stdout",
          "text": [
            "Epoch 489/1000 loss 0.00240 val_loss 0.00012 acc 0.99926 val_acc 1.00000\n"
          ]
        },
        {
          "output_type": "stream",
          "name": "stderr",
          "text": [
            "loss 0.00066 acc 0.99951: 100%|██████████| 297/297 [00:05<00:00, 49.88it/s]\n",
            "val_loss 0.00130 val_acc 0.99941: 100%|██████████| 53/53 [00:01<00:00, 36.89it/s]\n"
          ]
        },
        {
          "output_type": "stream",
          "name": "stdout",
          "text": [
            "Epoch 490/1000 loss 0.00066 val_loss 0.00130 acc 0.99951 val_acc 0.99941\n"
          ]
        },
        {
          "output_type": "stream",
          "name": "stderr",
          "text": [
            "loss 0.00089 acc 0.99958: 100%|██████████| 297/297 [00:06<00:00, 43.24it/s]\n",
            "val_loss 0.00067 val_acc 0.99941: 100%|██████████| 53/53 [00:01<00:00, 41.72it/s]\n"
          ]
        },
        {
          "output_type": "stream",
          "name": "stdout",
          "text": [
            "Epoch 491/1000 loss 0.00089 val_loss 0.00067 acc 0.99958 val_acc 0.99941\n"
          ]
        },
        {
          "output_type": "stream",
          "name": "stderr",
          "text": [
            "loss 0.00243 acc 0.99947: 100%|██████████| 297/297 [00:05<00:00, 53.58it/s]\n",
            "val_loss 0.01172 val_acc 0.99646: 100%|██████████| 53/53 [00:01<00:00, 48.71it/s]\n"
          ]
        },
        {
          "output_type": "stream",
          "name": "stdout",
          "text": [
            "Epoch 492/1000 loss 0.00243 val_loss 0.01172 acc 0.99947 val_acc 0.99646\n"
          ]
        },
        {
          "output_type": "stream",
          "name": "stderr",
          "text": [
            "loss 0.00128 acc 0.99989: 100%|██████████| 297/297 [00:06<00:00, 47.75it/s]\n",
            "val_loss 0.00047 val_acc 1.00000: 100%|██████████| 53/53 [00:01<00:00, 39.60it/s]\n"
          ]
        },
        {
          "output_type": "stream",
          "name": "stdout",
          "text": [
            "Epoch 493/1000 loss 0.00128 val_loss 0.00047 acc 0.99989 val_acc 1.00000\n"
          ]
        },
        {
          "output_type": "stream",
          "name": "stderr",
          "text": [
            "loss 0.00012 acc 1.00000: 100%|██████████| 297/297 [00:06<00:00, 44.38it/s]\n",
            "val_loss 0.00013 val_acc 1.00000: 100%|██████████| 53/53 [00:01<00:00, 40.50it/s]\n"
          ]
        },
        {
          "output_type": "stream",
          "name": "stdout",
          "text": [
            "Epoch 494/1000 loss 0.00012 val_loss 0.00013 acc 1.00000 val_acc 1.00000\n"
          ]
        },
        {
          "output_type": "stream",
          "name": "stderr",
          "text": [
            "loss 0.00005 acc 1.00000: 100%|██████████| 297/297 [00:05<00:00, 57.04it/s]\n",
            "val_loss 0.00028 val_acc 1.00000: 100%|██████████| 53/53 [00:01<00:00, 51.04it/s]\n"
          ]
        },
        {
          "output_type": "stream",
          "name": "stdout",
          "text": [
            "Epoch 495/1000 loss 0.00005 val_loss 0.00028 acc 1.00000 val_acc 1.00000\n"
          ]
        },
        {
          "output_type": "stream",
          "name": "stderr",
          "text": [
            "loss 0.00015 acc 1.00000: 100%|██████████| 297/297 [00:05<00:00, 54.35it/s]\n",
            "val_loss 0.00044 val_acc 1.00000: 100%|██████████| 53/53 [00:01<00:00, 42.91it/s]\n"
          ]
        },
        {
          "output_type": "stream",
          "name": "stdout",
          "text": [
            "Epoch 496/1000 loss 0.00015 val_loss 0.00044 acc 1.00000 val_acc 1.00000\n"
          ]
        },
        {
          "output_type": "stream",
          "name": "stderr",
          "text": [
            "loss 0.00045 acc 0.99989: 100%|██████████| 297/297 [00:06<00:00, 44.71it/s]\n",
            "val_loss 0.00021 val_acc 1.00000: 100%|██████████| 53/53 [00:01<00:00, 42.50it/s]\n"
          ]
        },
        {
          "output_type": "stream",
          "name": "stdout",
          "text": [
            "Epoch 497/1000 loss 0.00045 val_loss 0.00021 acc 0.99989 val_acc 1.00000\n"
          ]
        },
        {
          "output_type": "stream",
          "name": "stderr",
          "text": [
            "loss 0.00009 acc 1.00000: 100%|██████████| 297/297 [00:05<00:00, 56.21it/s]\n",
            "val_loss 0.00068 val_acc 0.99941: 100%|██████████| 53/53 [00:01<00:00, 50.64it/s]\n"
          ]
        },
        {
          "output_type": "stream",
          "name": "stdout",
          "text": [
            "Epoch 498/1000 loss 0.00009 val_loss 0.00068 acc 1.00000 val_acc 0.99941\n"
          ]
        },
        {
          "output_type": "stream",
          "name": "stderr",
          "text": [
            "loss 0.00008 acc 1.00000: 100%|██████████| 297/297 [00:05<00:00, 52.16it/s]\n",
            "val_loss 0.00054 val_acc 1.00000: 100%|██████████| 53/53 [00:01<00:00, 40.26it/s]\n"
          ]
        },
        {
          "output_type": "stream",
          "name": "stdout",
          "text": [
            "Epoch 499/1000 loss 0.00008 val_loss 0.00054 acc 1.00000 val_acc 1.00000\n"
          ]
        },
        {
          "output_type": "stream",
          "name": "stderr",
          "text": [
            "loss 0.00001 acc 1.00000: 100%|██████████| 297/297 [00:06<00:00, 46.19it/s]\n",
            "val_loss 0.00014 val_acc 1.00000: 100%|██████████| 53/53 [00:01<00:00, 40.83it/s]\n"
          ]
        },
        {
          "output_type": "stream",
          "name": "stdout",
          "text": [
            "Epoch 500/1000 loss 0.00001 val_loss 0.00014 acc 1.00000 val_acc 1.00000\n",
            "Checkpoint guardado en /content/drive/MyDrive/SIS421 prueba dataset 1 test/Checkpoints/checkpoint.pth (Epoch 500)\n"
          ]
        },
        {
          "output_type": "stream",
          "name": "stderr",
          "text": [
            "loss 0.00073 acc 0.99972: 100%|██████████| 297/297 [00:05<00:00, 54.13it/s]\n",
            "val_loss 0.00088 val_acc 1.00000: 100%|██████████| 53/53 [00:01<00:00, 50.10it/s]\n"
          ]
        },
        {
          "output_type": "stream",
          "name": "stdout",
          "text": [
            "Epoch 501/1000 loss 0.00073 val_loss 0.00088 acc 0.99972 val_acc 1.00000\n"
          ]
        },
        {
          "output_type": "stream",
          "name": "stderr",
          "text": [
            "loss 0.00217 acc 0.99979: 100%|██████████| 297/297 [00:05<00:00, 50.80it/s]\n",
            "val_loss 0.00232 val_acc 0.99882: 100%|██████████| 53/53 [00:01<00:00, 38.09it/s]\n"
          ]
        },
        {
          "output_type": "stream",
          "name": "stdout",
          "text": [
            "Epoch 502/1000 loss 0.00217 val_loss 0.00232 acc 0.99979 val_acc 0.99882\n"
          ]
        },
        {
          "output_type": "stream",
          "name": "stderr",
          "text": [
            "loss 0.00027 acc 0.99979: 100%|██████████| 297/297 [00:06<00:00, 44.25it/s]\n",
            "val_loss 0.00309 val_acc 0.99882: 100%|██████████| 53/53 [00:01<00:00, 43.02it/s]\n"
          ]
        },
        {
          "output_type": "stream",
          "name": "stdout",
          "text": [
            "Epoch 503/1000 loss 0.00027 val_loss 0.00309 acc 0.99979 val_acc 0.99882\n"
          ]
        },
        {
          "output_type": "stream",
          "name": "stderr",
          "text": [
            "loss 0.00054 acc 0.99958: 100%|██████████| 297/297 [00:05<00:00, 55.22it/s]\n",
            "val_loss 0.00141 val_acc 0.99882: 100%|██████████| 53/53 [00:01<00:00, 51.85it/s]\n"
          ]
        },
        {
          "output_type": "stream",
          "name": "stdout",
          "text": [
            "Epoch 504/1000 loss 0.00054 val_loss 0.00141 acc 0.99958 val_acc 0.99882\n"
          ]
        },
        {
          "output_type": "stream",
          "name": "stderr",
          "text": [
            "loss 0.00168 acc 0.99947: 100%|██████████| 297/297 [00:05<00:00, 52.97it/s]\n",
            "val_loss 0.00501 val_acc 0.99823: 100%|██████████| 53/53 [00:01<00:00, 37.01it/s]\n"
          ]
        },
        {
          "output_type": "stream",
          "name": "stdout",
          "text": [
            "Epoch 505/1000 loss 0.00168 val_loss 0.00501 acc 0.99947 val_acc 0.99823\n"
          ]
        },
        {
          "output_type": "stream",
          "name": "stderr",
          "text": [
            "loss 0.00077 acc 0.99979: 100%|██████████| 297/297 [00:06<00:00, 44.88it/s]\n",
            "val_loss 0.00397 val_acc 0.99823: 100%|██████████| 53/53 [00:01<00:00, 41.39it/s]\n"
          ]
        },
        {
          "output_type": "stream",
          "name": "stdout",
          "text": [
            "Epoch 506/1000 loss 0.00077 val_loss 0.00397 acc 0.99979 val_acc 0.99823\n"
          ]
        },
        {
          "output_type": "stream",
          "name": "stderr",
          "text": [
            "loss 0.00020 acc 0.99989: 100%|██████████| 297/297 [00:05<00:00, 57.71it/s]\n",
            "val_loss 0.00169 val_acc 0.99941: 100%|██████████| 53/53 [00:01<00:00, 48.82it/s]\n"
          ]
        },
        {
          "output_type": "stream",
          "name": "stdout",
          "text": [
            "Epoch 507/1000 loss 0.00020 val_loss 0.00169 acc 0.99989 val_acc 0.99941\n"
          ]
        },
        {
          "output_type": "stream",
          "name": "stderr",
          "text": [
            "loss 0.00012 acc 1.00000: 100%|██████████| 297/297 [00:05<00:00, 55.04it/s]\n",
            "val_loss 0.00013 val_acc 1.00000: 100%|██████████| 53/53 [00:01<00:00, 38.40it/s]\n"
          ]
        },
        {
          "output_type": "stream",
          "name": "stdout",
          "text": [
            "Epoch 508/1000 loss 0.00012 val_loss 0.00013 acc 1.00000 val_acc 1.00000\n"
          ]
        },
        {
          "output_type": "stream",
          "name": "stderr",
          "text": [
            "loss 0.00020 acc 0.99989: 100%|██████████| 297/297 [00:06<00:00, 44.23it/s]\n",
            "val_loss 0.00003 val_acc 1.00000: 100%|██████████| 53/53 [00:01<00:00, 41.69it/s]\n"
          ]
        },
        {
          "output_type": "stream",
          "name": "stdout",
          "text": [
            "Epoch 509/1000 loss 0.00020 val_loss 0.00003 acc 0.99989 val_acc 1.00000\n"
          ]
        },
        {
          "output_type": "stream",
          "name": "stderr",
          "text": [
            "loss 0.00021 acc 1.00000: 100%|██████████| 297/297 [00:05<00:00, 55.93it/s]\n",
            "val_loss 0.00043 val_acc 1.00000: 100%|██████████| 53/53 [00:01<00:00, 51.80it/s]\n"
          ]
        },
        {
          "output_type": "stream",
          "name": "stdout",
          "text": [
            "Epoch 510/1000 loss 0.00021 val_loss 0.00043 acc 1.00000 val_acc 1.00000\n"
          ]
        },
        {
          "output_type": "stream",
          "name": "stderr",
          "text": [
            "loss 0.00048 acc 0.99979: 100%|██████████| 297/297 [00:05<00:00, 53.11it/s]\n",
            "val_loss 0.00489 val_acc 0.99882: 100%|██████████| 53/53 [00:01<00:00, 38.05it/s]\n"
          ]
        },
        {
          "output_type": "stream",
          "name": "stdout",
          "text": [
            "Epoch 511/1000 loss 0.00048 val_loss 0.00489 acc 0.99979 val_acc 0.99882\n"
          ]
        },
        {
          "output_type": "stream",
          "name": "stderr",
          "text": [
            "loss 0.00065 acc 0.99979: 100%|██████████| 297/297 [00:06<00:00, 45.79it/s]\n",
            "val_loss 0.00129 val_acc 0.99941: 100%|██████████| 53/53 [00:01<00:00, 41.29it/s]\n"
          ]
        },
        {
          "output_type": "stream",
          "name": "stdout",
          "text": [
            "Epoch 512/1000 loss 0.00065 val_loss 0.00129 acc 0.99979 val_acc 0.99941\n"
          ]
        },
        {
          "output_type": "stream",
          "name": "stderr",
          "text": [
            "loss 0.00096 acc 0.99979: 100%|██████████| 297/297 [00:05<00:00, 56.42it/s]\n",
            "val_loss 0.00041 val_acc 1.00000: 100%|██████████| 53/53 [00:01<00:00, 49.98it/s]\n"
          ]
        },
        {
          "output_type": "stream",
          "name": "stdout",
          "text": [
            "Epoch 513/1000 loss 0.00096 val_loss 0.00041 acc 0.99979 val_acc 1.00000\n"
          ]
        },
        {
          "output_type": "stream",
          "name": "stderr",
          "text": [
            "loss 0.00162 acc 0.99968: 100%|██████████| 297/297 [00:05<00:00, 53.24it/s]\n",
            "val_loss 0.00068 val_acc 0.99941: 100%|██████████| 53/53 [00:01<00:00, 38.89it/s]\n"
          ]
        },
        {
          "output_type": "stream",
          "name": "stdout",
          "text": [
            "Epoch 514/1000 loss 0.00162 val_loss 0.00068 acc 0.99968 val_acc 0.99941\n"
          ]
        },
        {
          "output_type": "stream",
          "name": "stderr",
          "text": [
            "loss 0.00080 acc 0.99968: 100%|██████████| 297/297 [00:06<00:00, 47.04it/s]\n",
            "val_loss 0.00012 val_acc 1.00000: 100%|██████████| 53/53 [00:01<00:00, 38.79it/s]\n"
          ]
        },
        {
          "output_type": "stream",
          "name": "stdout",
          "text": [
            "Epoch 515/1000 loss 0.00080 val_loss 0.00012 acc 0.99968 val_acc 1.00000\n"
          ]
        },
        {
          "output_type": "stream",
          "name": "stderr",
          "text": [
            "loss 0.00027 acc 1.00000: 100%|██████████| 297/297 [00:05<00:00, 54.48it/s]\n",
            "val_loss 0.00006 val_acc 1.00000: 100%|██████████| 53/53 [00:01<00:00, 44.98it/s]\n"
          ]
        },
        {
          "output_type": "stream",
          "name": "stdout",
          "text": [
            "Epoch 516/1000 loss 0.00027 val_loss 0.00006 acc 1.00000 val_acc 1.00000\n"
          ]
        },
        {
          "output_type": "stream",
          "name": "stderr",
          "text": [
            "loss 0.00071 acc 0.99979: 100%|██████████| 297/297 [00:05<00:00, 53.31it/s]\n",
            "val_loss 0.00023 val_acc 1.00000: 100%|██████████| 53/53 [00:01<00:00, 36.23it/s]\n"
          ]
        },
        {
          "output_type": "stream",
          "name": "stdout",
          "text": [
            "Epoch 517/1000 loss 0.00071 val_loss 0.00023 acc 0.99979 val_acc 1.00000\n"
          ]
        },
        {
          "output_type": "stream",
          "name": "stderr",
          "text": [
            "loss 0.00011 acc 1.00000: 100%|██████████| 297/297 [00:06<00:00, 46.12it/s]\n",
            "val_loss 0.00064 val_acc 0.99941: 100%|██████████| 53/53 [00:01<00:00, 40.57it/s]\n"
          ]
        },
        {
          "output_type": "stream",
          "name": "stdout",
          "text": [
            "Epoch 518/1000 loss 0.00011 val_loss 0.00064 acc 1.00000 val_acc 0.99941\n"
          ]
        },
        {
          "output_type": "stream",
          "name": "stderr",
          "text": [
            "loss 0.00129 acc 0.99979: 100%|██████████| 297/297 [00:05<00:00, 55.36it/s]\n",
            "val_loss 0.00010 val_acc 1.00000: 100%|██████████| 53/53 [00:01<00:00, 46.11it/s]\n"
          ]
        },
        {
          "output_type": "stream",
          "name": "stdout",
          "text": [
            "Epoch 519/1000 loss 0.00129 val_loss 0.00010 acc 0.99979 val_acc 1.00000\n"
          ]
        },
        {
          "output_type": "stream",
          "name": "stderr",
          "text": [
            "loss 0.00013 acc 1.00000: 100%|██████████| 297/297 [00:05<00:00, 52.83it/s]\n",
            "val_loss 0.00019 val_acc 1.00000: 100%|██████████| 53/53 [00:01<00:00, 36.08it/s]\n"
          ]
        },
        {
          "output_type": "stream",
          "name": "stdout",
          "text": [
            "Epoch 520/1000 loss 0.00013 val_loss 0.00019 acc 1.00000 val_acc 1.00000\n",
            "Checkpoint guardado en /content/drive/MyDrive/SIS421 prueba dataset 1 test/Checkpoints/checkpoint.pth (Epoch 520)\n"
          ]
        },
        {
          "output_type": "stream",
          "name": "stderr",
          "text": [
            "loss 0.00006 acc 1.00000: 100%|██████████| 297/297 [00:06<00:00, 42.79it/s]\n",
            "val_loss 0.00043 val_acc 1.00000: 100%|██████████| 53/53 [00:01<00:00, 41.69it/s]\n"
          ]
        },
        {
          "output_type": "stream",
          "name": "stdout",
          "text": [
            "Epoch 521/1000 loss 0.00006 val_loss 0.00043 acc 1.00000 val_acc 1.00000\n"
          ]
        },
        {
          "output_type": "stream",
          "name": "stderr",
          "text": [
            "loss 0.00022 acc 0.99989: 100%|██████████| 297/297 [00:05<00:00, 52.52it/s]\n",
            "val_loss 0.00522 val_acc 0.99764: 100%|██████████| 53/53 [00:01<00:00, 48.51it/s]\n"
          ]
        },
        {
          "output_type": "stream",
          "name": "stdout",
          "text": [
            "Epoch 522/1000 loss 0.00022 val_loss 0.00522 acc 0.99989 val_acc 0.99764\n"
          ]
        },
        {
          "output_type": "stream",
          "name": "stderr",
          "text": [
            "loss 0.00237 acc 0.99926: 100%|██████████| 297/297 [00:06<00:00, 49.13it/s]\n",
            "val_loss 0.00004 val_acc 1.00000: 100%|██████████| 53/53 [00:01<00:00, 35.73it/s]\n"
          ]
        },
        {
          "output_type": "stream",
          "name": "stdout",
          "text": [
            "Epoch 523/1000 loss 0.00237 val_loss 0.00004 acc 0.99926 val_acc 1.00000\n"
          ]
        },
        {
          "output_type": "stream",
          "name": "stderr",
          "text": [
            "loss 0.00146 acc 0.99972: 100%|██████████| 297/297 [00:06<00:00, 42.88it/s]\n",
            "val_loss 0.00001 val_acc 1.00000: 100%|██████████| 53/53 [00:01<00:00, 40.48it/s]\n"
          ]
        },
        {
          "output_type": "stream",
          "name": "stdout",
          "text": [
            "Epoch 524/1000 loss 0.00146 val_loss 0.00001 acc 0.99972 val_acc 1.00000\n"
          ]
        },
        {
          "output_type": "stream",
          "name": "stderr",
          "text": [
            "loss 0.00192 acc 0.99947: 100%|██████████| 297/297 [00:05<00:00, 55.27it/s]\n",
            "val_loss 0.01342 val_acc 0.99882: 100%|██████████| 53/53 [00:01<00:00, 51.40it/s]\n"
          ]
        },
        {
          "output_type": "stream",
          "name": "stdout",
          "text": [
            "Epoch 525/1000 loss 0.00192 val_loss 0.01342 acc 0.99947 val_acc 0.99882\n"
          ]
        },
        {
          "output_type": "stream",
          "name": "stderr",
          "text": [
            "loss 0.00069 acc 0.99989: 100%|██████████| 297/297 [00:05<00:00, 53.37it/s]\n",
            "val_loss 0.00109 val_acc 0.99941: 100%|██████████| 53/53 [00:01<00:00, 34.83it/s]\n"
          ]
        },
        {
          "output_type": "stream",
          "name": "stdout",
          "text": [
            "Epoch 526/1000 loss 0.00069 val_loss 0.00109 acc 0.99989 val_acc 0.99941\n"
          ]
        },
        {
          "output_type": "stream",
          "name": "stderr",
          "text": [
            "loss 0.00022 acc 1.00000: 100%|██████████| 297/297 [00:06<00:00, 44.35it/s]\n",
            "val_loss 0.00670 val_acc 0.99882: 100%|██████████| 53/53 [00:01<00:00, 40.20it/s]\n"
          ]
        },
        {
          "output_type": "stream",
          "name": "stdout",
          "text": [
            "Epoch 527/1000 loss 0.00022 val_loss 0.00670 acc 1.00000 val_acc 0.99882\n"
          ]
        },
        {
          "output_type": "stream",
          "name": "stderr",
          "text": [
            "loss 0.00003 acc 1.00000: 100%|██████████| 297/297 [00:05<00:00, 54.37it/s]\n",
            "val_loss 0.00363 val_acc 0.99882: 100%|██████████| 53/53 [00:01<00:00, 42.98it/s]\n"
          ]
        },
        {
          "output_type": "stream",
          "name": "stdout",
          "text": [
            "Epoch 528/1000 loss 0.00003 val_loss 0.00363 acc 1.00000 val_acc 0.99882\n"
          ]
        },
        {
          "output_type": "stream",
          "name": "stderr",
          "text": [
            "loss 0.00007 acc 1.00000: 100%|██████████| 297/297 [00:05<00:00, 51.31it/s]\n",
            "val_loss 0.00235 val_acc 0.99882: 100%|██████████| 53/53 [00:01<00:00, 37.93it/s]\n"
          ]
        },
        {
          "output_type": "stream",
          "name": "stdout",
          "text": [
            "Epoch 529/1000 loss 0.00007 val_loss 0.00235 acc 1.00000 val_acc 0.99882\n"
          ]
        },
        {
          "output_type": "stream",
          "name": "stderr",
          "text": [
            "loss 0.00210 acc 0.99947: 100%|██████████| 297/297 [00:06<00:00, 44.88it/s]\n",
            "val_loss 0.00178 val_acc 0.99941: 100%|██████████| 53/53 [00:01<00:00, 41.39it/s]\n"
          ]
        },
        {
          "output_type": "stream",
          "name": "stdout",
          "text": [
            "Epoch 530/1000 loss 0.00210 val_loss 0.00178 acc 0.99947 val_acc 0.99941\n"
          ]
        },
        {
          "output_type": "stream",
          "name": "stderr",
          "text": [
            "loss 0.00013 acc 0.99989: 100%|██████████| 297/297 [00:05<00:00, 52.52it/s]\n",
            "val_loss 0.00156 val_acc 0.99941: 100%|██████████| 53/53 [00:01<00:00, 47.51it/s]\n"
          ]
        },
        {
          "output_type": "stream",
          "name": "stdout",
          "text": [
            "Epoch 531/1000 loss 0.00013 val_loss 0.00156 acc 0.99989 val_acc 0.99941\n"
          ]
        },
        {
          "output_type": "stream",
          "name": "stderr",
          "text": [
            "loss 0.00189 acc 0.99926: 100%|██████████| 297/297 [00:06<00:00, 48.89it/s]\n",
            "val_loss 0.00166 val_acc 0.99941: 100%|██████████| 53/53 [00:01<00:00, 35.64it/s]\n"
          ]
        },
        {
          "output_type": "stream",
          "name": "stdout",
          "text": [
            "Epoch 532/1000 loss 0.00189 val_loss 0.00166 acc 0.99926 val_acc 0.99941\n"
          ]
        },
        {
          "output_type": "stream",
          "name": "stderr",
          "text": [
            "loss 0.00103 acc 0.99933: 100%|██████████| 297/297 [00:06<00:00, 43.79it/s]\n",
            "val_loss 0.00055 val_acc 0.99941: 100%|██████████| 53/53 [00:01<00:00, 39.88it/s]\n"
          ]
        },
        {
          "output_type": "stream",
          "name": "stdout",
          "text": [
            "Epoch 533/1000 loss 0.00103 val_loss 0.00055 acc 0.99933 val_acc 0.99941\n"
          ]
        },
        {
          "output_type": "stream",
          "name": "stderr",
          "text": [
            "loss 0.00047 acc 0.99979: 100%|██████████| 297/297 [00:05<00:00, 55.19it/s]\n",
            "val_loss 0.00001 val_acc 1.00000: 100%|██████████| 53/53 [00:01<00:00, 46.43it/s]\n"
          ]
        },
        {
          "output_type": "stream",
          "name": "stdout",
          "text": [
            "Epoch 534/1000 loss 0.00047 val_loss 0.00001 acc 0.99979 val_acc 1.00000\n"
          ]
        },
        {
          "output_type": "stream",
          "name": "stderr",
          "text": [
            "loss 0.00015 acc 1.00000: 100%|██████████| 297/297 [00:05<00:00, 49.71it/s]\n",
            "val_loss 0.00001 val_acc 1.00000: 100%|██████████| 53/53 [00:01<00:00, 41.80it/s]\n"
          ]
        },
        {
          "output_type": "stream",
          "name": "stdout",
          "text": [
            "Epoch 535/1000 loss 0.00015 val_loss 0.00001 acc 1.00000 val_acc 1.00000\n"
          ]
        },
        {
          "output_type": "stream",
          "name": "stderr",
          "text": [
            "loss 0.00051 acc 0.99989: 100%|██████████| 297/297 [00:06<00:00, 46.81it/s]\n",
            "val_loss 0.00009 val_acc 1.00000: 100%|██████████| 53/53 [00:01<00:00, 40.42it/s]\n"
          ]
        },
        {
          "output_type": "stream",
          "name": "stdout",
          "text": [
            "Epoch 536/1000 loss 0.00051 val_loss 0.00009 acc 0.99989 val_acc 1.00000\n"
          ]
        },
        {
          "output_type": "stream",
          "name": "stderr",
          "text": [
            "loss 0.00213 acc 0.99958: 100%|██████████| 297/297 [00:05<00:00, 52.31it/s]\n",
            "val_loss 0.00609 val_acc 0.99882: 100%|██████████| 53/53 [00:01<00:00, 49.31it/s]\n"
          ]
        },
        {
          "output_type": "stream",
          "name": "stdout",
          "text": [
            "Epoch 537/1000 loss 0.00213 val_loss 0.00609 acc 0.99958 val_acc 0.99882\n"
          ]
        },
        {
          "output_type": "stream",
          "name": "stderr",
          "text": [
            "loss 0.00060 acc 0.99958: 100%|██████████| 297/297 [00:06<00:00, 48.76it/s]\n",
            "val_loss 0.00001 val_acc 1.00000: 100%|██████████| 53/53 [00:01<00:00, 39.12it/s]\n"
          ]
        },
        {
          "output_type": "stream",
          "name": "stdout",
          "text": [
            "Epoch 538/1000 loss 0.00060 val_loss 0.00001 acc 0.99958 val_acc 1.00000\n"
          ]
        },
        {
          "output_type": "stream",
          "name": "stderr",
          "text": [
            "loss 0.00016 acc 0.99989: 100%|██████████| 297/297 [00:06<00:00, 46.51it/s]\n",
            "val_loss 0.00014 val_acc 1.00000: 100%|██████████| 53/53 [00:01<00:00, 42.03it/s]\n"
          ]
        },
        {
          "output_type": "stream",
          "name": "stdout",
          "text": [
            "Epoch 539/1000 loss 0.00016 val_loss 0.00014 acc 0.99989 val_acc 1.00000\n"
          ]
        },
        {
          "output_type": "stream",
          "name": "stderr",
          "text": [
            "loss 0.00007 acc 1.00000: 100%|██████████| 297/297 [00:05<00:00, 51.33it/s]\n",
            "val_loss 0.00004 val_acc 1.00000: 100%|██████████| 53/53 [00:01<00:00, 47.14it/s]\n"
          ]
        },
        {
          "output_type": "stream",
          "name": "stdout",
          "text": [
            "Epoch 540/1000 loss 0.00007 val_loss 0.00004 acc 1.00000 val_acc 1.00000\n",
            "Checkpoint guardado en /content/drive/MyDrive/SIS421 prueba dataset 1 test/Checkpoints/checkpoint.pth (Epoch 540)\n"
          ]
        },
        {
          "output_type": "stream",
          "name": "stderr",
          "text": [
            "loss 0.00073 acc 0.99972: 100%|██████████| 297/297 [00:05<00:00, 51.16it/s]\n",
            "val_loss 0.00011 val_acc 1.00000: 100%|██████████| 53/53 [00:01<00:00, 38.89it/s]\n"
          ]
        },
        {
          "output_type": "stream",
          "name": "stdout",
          "text": [
            "Epoch 541/1000 loss 0.00073 val_loss 0.00011 acc 0.99972 val_acc 1.00000\n"
          ]
        },
        {
          "output_type": "stream",
          "name": "stderr",
          "text": [
            "loss 0.00058 acc 0.99979: 100%|██████████| 297/297 [00:06<00:00, 45.38it/s]\n",
            "val_loss 0.00002 val_acc 1.00000: 100%|██████████| 53/53 [00:01<00:00, 38.72it/s]\n"
          ]
        },
        {
          "output_type": "stream",
          "name": "stdout",
          "text": [
            "Epoch 542/1000 loss 0.00058 val_loss 0.00002 acc 0.99979 val_acc 1.00000\n"
          ]
        },
        {
          "output_type": "stream",
          "name": "stderr",
          "text": [
            "loss 0.00013 acc 0.99989: 100%|██████████| 297/297 [00:05<00:00, 53.06it/s]\n",
            "val_loss 0.00009 val_acc 1.00000: 100%|██████████| 53/53 [00:01<00:00, 41.87it/s]\n"
          ]
        },
        {
          "output_type": "stream",
          "name": "stdout",
          "text": [
            "Epoch 543/1000 loss 0.00013 val_loss 0.00009 acc 0.99989 val_acc 1.00000\n"
          ]
        },
        {
          "output_type": "stream",
          "name": "stderr",
          "text": [
            "loss 0.00004 acc 1.00000: 100%|██████████| 297/297 [00:06<00:00, 48.75it/s]\n",
            "val_loss 0.00002 val_acc 1.00000: 100%|██████████| 53/53 [00:01<00:00, 37.40it/s]\n"
          ]
        },
        {
          "output_type": "stream",
          "name": "stdout",
          "text": [
            "Epoch 544/1000 loss 0.00004 val_loss 0.00002 acc 1.00000 val_acc 1.00000\n"
          ]
        },
        {
          "output_type": "stream",
          "name": "stderr",
          "text": [
            "loss 0.00048 acc 0.99989: 100%|██████████| 297/297 [00:06<00:00, 44.18it/s]\n",
            "val_loss 0.00033 val_acc 1.00000: 100%|██████████| 53/53 [00:01<00:00, 39.10it/s]\n"
          ]
        },
        {
          "output_type": "stream",
          "name": "stdout",
          "text": [
            "Epoch 545/1000 loss 0.00048 val_loss 0.00033 acc 0.99989 val_acc 1.00000\n"
          ]
        },
        {
          "output_type": "stream",
          "name": "stderr",
          "text": [
            "loss 0.00009 acc 1.00000: 100%|██████████| 297/297 [00:05<00:00, 50.60it/s]\n",
            "val_loss 0.00009 val_acc 1.00000: 100%|██████████| 53/53 [00:01<00:00, 49.60it/s]\n"
          ]
        },
        {
          "output_type": "stream",
          "name": "stdout",
          "text": [
            "Epoch 546/1000 loss 0.00009 val_loss 0.00009 acc 1.00000 val_acc 1.00000\n"
          ]
        },
        {
          "output_type": "stream",
          "name": "stderr",
          "text": [
            "loss 0.00007 acc 1.00000: 100%|██████████| 297/297 [00:05<00:00, 52.35it/s]\n",
            "val_loss 0.00158 val_acc 0.99941: 100%|██████████| 53/53 [00:01<00:00, 36.95it/s]\n"
          ]
        },
        {
          "output_type": "stream",
          "name": "stdout",
          "text": [
            "Epoch 547/1000 loss 0.00007 val_loss 0.00158 acc 1.00000 val_acc 0.99941\n"
          ]
        },
        {
          "output_type": "stream",
          "name": "stderr",
          "text": [
            "loss 0.00004 acc 1.00000: 100%|██████████| 297/297 [00:06<00:00, 45.35it/s]\n",
            "val_loss 0.00002 val_acc 1.00000: 100%|██████████| 53/53 [00:01<00:00, 39.76it/s]\n"
          ]
        },
        {
          "output_type": "stream",
          "name": "stdout",
          "text": [
            "Epoch 548/1000 loss 0.00004 val_loss 0.00002 acc 1.00000 val_acc 1.00000\n"
          ]
        },
        {
          "output_type": "stream",
          "name": "stderr",
          "text": [
            "loss 0.00014 acc 0.99989: 100%|██████████| 297/297 [00:05<00:00, 53.23it/s]\n",
            "val_loss 0.00007 val_acc 1.00000: 100%|██████████| 53/53 [00:01<00:00, 50.56it/s]\n"
          ]
        },
        {
          "output_type": "stream",
          "name": "stdout",
          "text": [
            "Epoch 549/1000 loss 0.00014 val_loss 0.00007 acc 0.99989 val_acc 1.00000\n"
          ]
        },
        {
          "output_type": "stream",
          "name": "stderr",
          "text": [
            "loss 0.00004 acc 1.00000: 100%|██████████| 297/297 [00:05<00:00, 52.02it/s]\n",
            "val_loss 0.00005 val_acc 1.00000: 100%|██████████| 53/53 [00:01<00:00, 39.29it/s]\n"
          ]
        },
        {
          "output_type": "stream",
          "name": "stdout",
          "text": [
            "Epoch 550/1000 loss 0.00004 val_loss 0.00005 acc 1.00000 val_acc 1.00000\n"
          ]
        },
        {
          "output_type": "stream",
          "name": "stderr",
          "text": [
            "loss 0.00001 acc 1.00000: 100%|██████████| 297/297 [00:06<00:00, 45.59it/s]\n",
            "val_loss 0.00008 val_acc 1.00000: 100%|██████████| 53/53 [00:01<00:00, 40.75it/s]\n"
          ]
        },
        {
          "output_type": "stream",
          "name": "stdout",
          "text": [
            "Epoch 551/1000 loss 0.00001 val_loss 0.00008 acc 1.00000 val_acc 1.00000\n"
          ]
        },
        {
          "output_type": "stream",
          "name": "stderr",
          "text": [
            "loss 0.00031 acc 0.99979: 100%|██████████| 297/297 [00:05<00:00, 54.21it/s]\n",
            "val_loss 0.00048 val_acc 0.99941: 100%|██████████| 53/53 [00:01<00:00, 45.65it/s]\n"
          ]
        },
        {
          "output_type": "stream",
          "name": "stdout",
          "text": [
            "Epoch 552/1000 loss 0.00031 val_loss 0.00048 acc 0.99979 val_acc 0.99941\n"
          ]
        },
        {
          "output_type": "stream",
          "name": "stderr",
          "text": [
            "loss 0.00023 acc 0.99989: 100%|██████████| 297/297 [00:05<00:00, 50.14it/s]\n",
            "val_loss 0.00001 val_acc 1.00000: 100%|██████████| 53/53 [00:01<00:00, 38.58it/s]\n"
          ]
        },
        {
          "output_type": "stream",
          "name": "stdout",
          "text": [
            "Epoch 553/1000 loss 0.00023 val_loss 0.00001 acc 0.99989 val_acc 1.00000\n"
          ]
        },
        {
          "output_type": "stream",
          "name": "stderr",
          "text": [
            "loss 0.00041 acc 0.99989: 100%|██████████| 297/297 [00:06<00:00, 45.08it/s]\n",
            "val_loss 0.00001 val_acc 1.00000: 100%|██████████| 53/53 [00:01<00:00, 42.88it/s]\n"
          ]
        },
        {
          "output_type": "stream",
          "name": "stdout",
          "text": [
            "Epoch 554/1000 loss 0.00041 val_loss 0.00001 acc 0.99989 val_acc 1.00000\n"
          ]
        },
        {
          "output_type": "stream",
          "name": "stderr",
          "text": [
            "loss 0.00030 acc 0.99989: 100%|██████████| 297/297 [00:05<00:00, 53.71it/s]\n",
            "val_loss 0.00016 val_acc 1.00000: 100%|██████████| 53/53 [00:01<00:00, 47.05it/s]\n"
          ]
        },
        {
          "output_type": "stream",
          "name": "stdout",
          "text": [
            "Epoch 555/1000 loss 0.00030 val_loss 0.00016 acc 0.99989 val_acc 1.00000\n"
          ]
        },
        {
          "output_type": "stream",
          "name": "stderr",
          "text": [
            "loss 0.00078 acc 0.99958: 100%|██████████| 297/297 [00:05<00:00, 52.44it/s]\n",
            "val_loss 0.00005 val_acc 1.00000: 100%|██████████| 53/53 [00:01<00:00, 38.92it/s]\n"
          ]
        },
        {
          "output_type": "stream",
          "name": "stdout",
          "text": [
            "Epoch 556/1000 loss 0.00078 val_loss 0.00005 acc 0.99958 val_acc 1.00000\n"
          ]
        },
        {
          "output_type": "stream",
          "name": "stderr",
          "text": [
            "loss 0.00008 acc 1.00000: 100%|██████████| 297/297 [00:06<00:00, 44.87it/s]\n",
            "val_loss 0.00000 val_acc 1.00000: 100%|██████████| 53/53 [00:01<00:00, 40.29it/s]\n"
          ]
        },
        {
          "output_type": "stream",
          "name": "stdout",
          "text": [
            "Epoch 557/1000 loss 0.00008 val_loss 0.00000 acc 1.00000 val_acc 1.00000\n"
          ]
        },
        {
          "output_type": "stream",
          "name": "stderr",
          "text": [
            "loss 0.00066 acc 0.99968: 100%|██████████| 297/297 [00:05<00:00, 52.99it/s]\n",
            "val_loss 0.00002 val_acc 1.00000: 100%|██████████| 53/53 [00:01<00:00, 48.02it/s]\n"
          ]
        },
        {
          "output_type": "stream",
          "name": "stdout",
          "text": [
            "Epoch 558/1000 loss 0.00066 val_loss 0.00002 acc 0.99968 val_acc 1.00000\n"
          ]
        },
        {
          "output_type": "stream",
          "name": "stderr",
          "text": [
            "loss 0.00038 acc 0.99989: 100%|██████████| 297/297 [00:05<00:00, 51.63it/s]\n",
            "val_loss 0.00261 val_acc 0.99823: 100%|██████████| 53/53 [00:01<00:00, 39.48it/s]\n"
          ]
        },
        {
          "output_type": "stream",
          "name": "stdout",
          "text": [
            "Epoch 559/1000 loss 0.00038 val_loss 0.00261 acc 0.99989 val_acc 0.99823\n"
          ]
        },
        {
          "output_type": "stream",
          "name": "stderr",
          "text": [
            "loss 0.00221 acc 0.99937: 100%|██████████| 297/297 [00:06<00:00, 45.49it/s]\n",
            "val_loss 0.00074 val_acc 0.99941: 100%|██████████| 53/53 [00:01<00:00, 37.12it/s]\n"
          ]
        },
        {
          "output_type": "stream",
          "name": "stdout",
          "text": [
            "Epoch 560/1000 loss 0.00221 val_loss 0.00074 acc 0.99937 val_acc 0.99941\n",
            "Checkpoint guardado en /content/drive/MyDrive/SIS421 prueba dataset 1 test/Checkpoints/checkpoint.pth (Epoch 560)\n"
          ]
        },
        {
          "output_type": "stream",
          "name": "stderr",
          "text": [
            "loss 0.00100 acc 0.99979: 100%|██████████| 297/297 [00:05<00:00, 52.55it/s]\n",
            "val_loss 0.00002 val_acc 1.00000: 100%|██████████| 53/53 [00:01<00:00, 44.95it/s]\n"
          ]
        },
        {
          "output_type": "stream",
          "name": "stdout",
          "text": [
            "Epoch 561/1000 loss 0.00100 val_loss 0.00002 acc 0.99979 val_acc 1.00000\n"
          ]
        },
        {
          "output_type": "stream",
          "name": "stderr",
          "text": [
            "loss 0.00022 acc 0.99989: 100%|██████████| 297/297 [00:05<00:00, 50.91it/s]\n",
            "val_loss 0.00006 val_acc 1.00000: 100%|██████████| 53/53 [00:01<00:00, 34.32it/s]\n"
          ]
        },
        {
          "output_type": "stream",
          "name": "stdout",
          "text": [
            "Epoch 562/1000 loss 0.00022 val_loss 0.00006 acc 0.99989 val_acc 1.00000\n"
          ]
        },
        {
          "output_type": "stream",
          "name": "stderr",
          "text": [
            "loss 0.00016 acc 0.99989: 100%|██████████| 297/297 [00:06<00:00, 44.71it/s]\n",
            "val_loss 0.00000 val_acc 1.00000: 100%|██████████| 53/53 [00:01<00:00, 39.84it/s]\n"
          ]
        },
        {
          "output_type": "stream",
          "name": "stdout",
          "text": [
            "Epoch 563/1000 loss 0.00016 val_loss 0.00000 acc 0.99989 val_acc 1.00000\n"
          ]
        },
        {
          "output_type": "stream",
          "name": "stderr",
          "text": [
            "loss 0.00043 acc 0.99989: 100%|██████████| 297/297 [00:05<00:00, 55.82it/s]\n",
            "val_loss 0.00001 val_acc 1.00000: 100%|██████████| 53/53 [00:01<00:00, 50.67it/s]\n"
          ]
        },
        {
          "output_type": "stream",
          "name": "stdout",
          "text": [
            "Epoch 564/1000 loss 0.00043 val_loss 0.00001 acc 0.99989 val_acc 1.00000\n"
          ]
        },
        {
          "output_type": "stream",
          "name": "stderr",
          "text": [
            "loss 0.00051 acc 0.99989: 100%|██████████| 297/297 [00:05<00:00, 51.52it/s]\n",
            "val_loss 0.00000 val_acc 1.00000: 100%|██████████| 53/53 [00:01<00:00, 38.30it/s]\n"
          ]
        },
        {
          "output_type": "stream",
          "name": "stdout",
          "text": [
            "Epoch 565/1000 loss 0.00051 val_loss 0.00000 acc 0.99989 val_acc 1.00000\n"
          ]
        },
        {
          "output_type": "stream",
          "name": "stderr",
          "text": [
            "loss 0.00007 acc 1.00000: 100%|██████████| 297/297 [00:06<00:00, 45.14it/s]\n",
            "val_loss 0.00000 val_acc 1.00000: 100%|██████████| 53/53 [00:01<00:00, 40.12it/s]\n"
          ]
        },
        {
          "output_type": "stream",
          "name": "stdout",
          "text": [
            "Epoch 566/1000 loss 0.00007 val_loss 0.00000 acc 1.00000 val_acc 1.00000\n"
          ]
        },
        {
          "output_type": "stream",
          "name": "stderr",
          "text": [
            "loss 0.00217 acc 0.99947: 100%|██████████| 297/297 [00:05<00:00, 53.36it/s]\n",
            "val_loss 0.00064 val_acc 1.00000: 100%|██████████| 53/53 [00:01<00:00, 48.69it/s]\n"
          ]
        },
        {
          "output_type": "stream",
          "name": "stdout",
          "text": [
            "Epoch 567/1000 loss 0.00217 val_loss 0.00064 acc 0.99947 val_acc 1.00000\n"
          ]
        },
        {
          "output_type": "stream",
          "name": "stderr",
          "text": [
            "loss 0.00197 acc 0.99947: 100%|██████████| 297/297 [00:05<00:00, 52.72it/s]\n",
            "val_loss 0.00001 val_acc 1.00000: 100%|██████████| 53/53 [00:01<00:00, 39.08it/s]\n"
          ]
        },
        {
          "output_type": "stream",
          "name": "stdout",
          "text": [
            "Epoch 568/1000 loss 0.00197 val_loss 0.00001 acc 0.99947 val_acc 1.00000\n"
          ]
        },
        {
          "output_type": "stream",
          "name": "stderr",
          "text": [
            "loss 0.00008 acc 1.00000: 100%|██████████| 297/297 [00:06<00:00, 42.65it/s]\n",
            "val_loss 0.00002 val_acc 1.00000: 100%|██████████| 53/53 [00:01<00:00, 40.59it/s]\n"
          ]
        },
        {
          "output_type": "stream",
          "name": "stdout",
          "text": [
            "Epoch 569/1000 loss 0.00008 val_loss 0.00002 acc 1.00000 val_acc 1.00000\n"
          ]
        },
        {
          "output_type": "stream",
          "name": "stderr",
          "text": [
            "loss 0.00270 acc 0.99937: 100%|██████████| 297/297 [00:05<00:00, 55.32it/s]\n",
            "val_loss 0.19280 val_acc 0.97394: 100%|██████████| 53/53 [00:01<00:00, 42.29it/s]\n"
          ]
        },
        {
          "output_type": "stream",
          "name": "stdout",
          "text": [
            "Epoch 570/1000 loss 0.00270 val_loss 0.19280 acc 0.99937 val_acc 0.97394\n"
          ]
        },
        {
          "output_type": "stream",
          "name": "stderr",
          "text": [
            "loss 0.00100 acc 0.99968: 100%|██████████| 297/297 [00:05<00:00, 51.80it/s]\n",
            "val_loss 0.00013 val_acc 1.00000: 100%|██████████| 53/53 [00:01<00:00, 35.96it/s]\n"
          ]
        },
        {
          "output_type": "stream",
          "name": "stdout",
          "text": [
            "Epoch 571/1000 loss 0.00100 val_loss 0.00013 acc 0.99968 val_acc 1.00000\n"
          ]
        },
        {
          "output_type": "stream",
          "name": "stderr",
          "text": [
            "loss 0.00027 acc 1.00000: 100%|██████████| 297/297 [00:06<00:00, 44.18it/s]\n",
            "val_loss 0.00001 val_acc 1.00000: 100%|██████████| 53/53 [00:01<00:00, 42.19it/s]\n"
          ]
        },
        {
          "output_type": "stream",
          "name": "stdout",
          "text": [
            "Epoch 572/1000 loss 0.00027 val_loss 0.00001 acc 1.00000 val_acc 1.00000\n"
          ]
        },
        {
          "output_type": "stream",
          "name": "stderr",
          "text": [
            "loss 0.00006 acc 1.00000: 100%|██████████| 297/297 [00:05<00:00, 53.45it/s]\n",
            "val_loss 0.00001 val_acc 1.00000: 100%|██████████| 53/53 [00:01<00:00, 41.63it/s]\n"
          ]
        },
        {
          "output_type": "stream",
          "name": "stdout",
          "text": [
            "Epoch 573/1000 loss 0.00006 val_loss 0.00001 acc 1.00000 val_acc 1.00000\n"
          ]
        },
        {
          "output_type": "stream",
          "name": "stderr",
          "text": [
            "loss 0.00010 acc 1.00000: 100%|██████████| 297/297 [00:05<00:00, 49.89it/s]\n",
            "val_loss 0.00003 val_acc 1.00000: 100%|██████████| 53/53 [00:01<00:00, 39.39it/s]\n"
          ]
        },
        {
          "output_type": "stream",
          "name": "stdout",
          "text": [
            "Epoch 574/1000 loss 0.00010 val_loss 0.00003 acc 1.00000 val_acc 1.00000\n"
          ]
        },
        {
          "output_type": "stream",
          "name": "stderr",
          "text": [
            "loss 0.00035 acc 0.99979: 100%|██████████| 297/297 [00:06<00:00, 45.21it/s]\n",
            "val_loss 0.00006 val_acc 1.00000: 100%|██████████| 53/53 [00:01<00:00, 40.12it/s]\n"
          ]
        },
        {
          "output_type": "stream",
          "name": "stdout",
          "text": [
            "Epoch 575/1000 loss 0.00035 val_loss 0.00006 acc 0.99979 val_acc 1.00000\n"
          ]
        },
        {
          "output_type": "stream",
          "name": "stderr",
          "text": [
            "loss 0.00119 acc 0.99979: 100%|██████████| 297/297 [00:05<00:00, 53.81it/s]\n",
            "val_loss 0.00006 val_acc 1.00000: 100%|██████████| 53/53 [00:01<00:00, 41.68it/s]\n"
          ]
        },
        {
          "output_type": "stream",
          "name": "stdout",
          "text": [
            "Epoch 576/1000 loss 0.00119 val_loss 0.00006 acc 0.99979 val_acc 1.00000\n"
          ]
        },
        {
          "output_type": "stream",
          "name": "stderr",
          "text": [
            "loss 0.00044 acc 0.99979: 100%|██████████| 297/297 [00:05<00:00, 50.74it/s]\n",
            "val_loss 0.00003 val_acc 1.00000: 100%|██████████| 53/53 [00:01<00:00, 38.52it/s]\n"
          ]
        },
        {
          "output_type": "stream",
          "name": "stdout",
          "text": [
            "Epoch 577/1000 loss 0.00044 val_loss 0.00003 acc 0.99979 val_acc 1.00000\n"
          ]
        },
        {
          "output_type": "stream",
          "name": "stderr",
          "text": [
            "loss 0.00012 acc 1.00000: 100%|██████████| 297/297 [00:06<00:00, 43.95it/s]\n",
            "val_loss 0.00003 val_acc 1.00000: 100%|██████████| 53/53 [00:01<00:00, 40.68it/s]\n"
          ]
        },
        {
          "output_type": "stream",
          "name": "stdout",
          "text": [
            "Epoch 578/1000 loss 0.00012 val_loss 0.00003 acc 1.00000 val_acc 1.00000\n"
          ]
        },
        {
          "output_type": "stream",
          "name": "stderr",
          "text": [
            "loss 0.00005 acc 1.00000: 100%|██████████| 297/297 [00:05<00:00, 55.15it/s]\n",
            "val_loss 0.00004 val_acc 1.00000: 100%|██████████| 53/53 [00:01<00:00, 44.10it/s]\n"
          ]
        },
        {
          "output_type": "stream",
          "name": "stdout",
          "text": [
            "Epoch 579/1000 loss 0.00005 val_loss 0.00004 acc 1.00000 val_acc 1.00000\n"
          ]
        },
        {
          "output_type": "stream",
          "name": "stderr",
          "text": [
            "loss 0.00002 acc 1.00000: 100%|██████████| 297/297 [00:05<00:00, 49.59it/s]\n",
            "val_loss 0.00004 val_acc 1.00000: 100%|██████████| 53/53 [00:01<00:00, 38.21it/s]\n"
          ]
        },
        {
          "output_type": "stream",
          "name": "stdout",
          "text": [
            "Epoch 580/1000 loss 0.00002 val_loss 0.00004 acc 1.00000 val_acc 1.00000\n",
            "Checkpoint guardado en /content/drive/MyDrive/SIS421 prueba dataset 1 test/Checkpoints/checkpoint.pth (Epoch 580)\n"
          ]
        },
        {
          "output_type": "stream",
          "name": "stderr",
          "text": [
            "loss 0.00002 acc 1.00000: 100%|██████████| 297/297 [00:06<00:00, 42.91it/s]\n",
            "val_loss 0.00001 val_acc 1.00000: 100%|██████████| 53/53 [00:01<00:00, 39.98it/s]\n"
          ]
        },
        {
          "output_type": "stream",
          "name": "stdout",
          "text": [
            "Epoch 581/1000 loss 0.00002 val_loss 0.00001 acc 1.00000 val_acc 1.00000\n"
          ]
        },
        {
          "output_type": "stream",
          "name": "stderr",
          "text": [
            "loss 0.00023 acc 0.99989: 100%|██████████| 297/297 [00:05<00:00, 52.64it/s]\n",
            "val_loss 0.00008 val_acc 1.00000: 100%|██████████| 53/53 [00:01<00:00, 43.94it/s]\n"
          ]
        },
        {
          "output_type": "stream",
          "name": "stdout",
          "text": [
            "Epoch 582/1000 loss 0.00023 val_loss 0.00008 acc 0.99989 val_acc 1.00000\n"
          ]
        },
        {
          "output_type": "stream",
          "name": "stderr",
          "text": [
            "loss 0.00243 acc 0.99916: 100%|██████████| 297/297 [00:05<00:00, 50.36it/s]\n",
            "val_loss 0.00644 val_acc 0.99882: 100%|██████████| 53/53 [00:01<00:00, 34.49it/s]\n"
          ]
        },
        {
          "output_type": "stream",
          "name": "stdout",
          "text": [
            "Epoch 583/1000 loss 0.00243 val_loss 0.00644 acc 0.99916 val_acc 0.99882\n"
          ]
        },
        {
          "output_type": "stream",
          "name": "stderr",
          "text": [
            "loss 0.00093 acc 0.99989: 100%|██████████| 297/297 [00:06<00:00, 45.21it/s]\n",
            "val_loss 0.00009 val_acc 1.00000: 100%|██████████| 53/53 [00:01<00:00, 39.48it/s]\n"
          ]
        },
        {
          "output_type": "stream",
          "name": "stdout",
          "text": [
            "Epoch 584/1000 loss 0.00093 val_loss 0.00009 acc 0.99989 val_acc 1.00000\n"
          ]
        },
        {
          "output_type": "stream",
          "name": "stderr",
          "text": [
            "loss 0.00036 acc 0.99989: 100%|██████████| 297/297 [00:05<00:00, 54.76it/s]\n",
            "val_loss 0.00540 val_acc 0.99882: 100%|██████████| 53/53 [00:01<00:00, 45.01it/s]\n"
          ]
        },
        {
          "output_type": "stream",
          "name": "stdout",
          "text": [
            "Epoch 585/1000 loss 0.00036 val_loss 0.00540 acc 0.99989 val_acc 0.99882\n"
          ]
        },
        {
          "output_type": "stream",
          "name": "stderr",
          "text": [
            "loss 0.00026 acc 0.99989: 100%|██████████| 297/297 [00:06<00:00, 47.47it/s]\n",
            "val_loss 0.00039 val_acc 1.00000: 100%|██████████| 53/53 [00:01<00:00, 40.37it/s]\n"
          ]
        },
        {
          "output_type": "stream",
          "name": "stdout",
          "text": [
            "Epoch 586/1000 loss 0.00026 val_loss 0.00039 acc 0.99989 val_acc 1.00000\n"
          ]
        },
        {
          "output_type": "stream",
          "name": "stderr",
          "text": [
            "loss 0.00014 acc 1.00000: 100%|██████████| 297/297 [00:06<00:00, 44.37it/s]\n",
            "val_loss 0.00005 val_acc 1.00000: 100%|██████████| 53/53 [00:01<00:00, 41.62it/s]\n"
          ]
        },
        {
          "output_type": "stream",
          "name": "stdout",
          "text": [
            "Epoch 587/1000 loss 0.00014 val_loss 0.00005 acc 1.00000 val_acc 1.00000\n"
          ]
        },
        {
          "output_type": "stream",
          "name": "stderr",
          "text": [
            "loss 0.00196 acc 0.99947: 100%|██████████| 297/297 [00:05<00:00, 53.62it/s]\n",
            "val_loss 0.00422 val_acc 0.99941: 100%|██████████| 53/53 [00:01<00:00, 42.57it/s]\n"
          ]
        },
        {
          "output_type": "stream",
          "name": "stdout",
          "text": [
            "Epoch 588/1000 loss 0.00196 val_loss 0.00422 acc 0.99947 val_acc 0.99941\n"
          ]
        },
        {
          "output_type": "stream",
          "name": "stderr",
          "text": [
            "loss 0.00036 acc 0.99989: 100%|██████████| 297/297 [00:06<00:00, 47.12it/s]\n",
            "val_loss 0.00006 val_acc 1.00000: 100%|██████████| 53/53 [00:01<00:00, 37.87it/s]\n"
          ]
        },
        {
          "output_type": "stream",
          "name": "stdout",
          "text": [
            "Epoch 589/1000 loss 0.00036 val_loss 0.00006 acc 0.99989 val_acc 1.00000\n"
          ]
        },
        {
          "output_type": "stream",
          "name": "stderr",
          "text": [
            "loss 0.00015 acc 0.99989: 100%|██████████| 297/297 [00:06<00:00, 43.96it/s]\n",
            "val_loss 0.00046 val_acc 1.00000: 100%|██████████| 53/53 [00:01<00:00, 35.99it/s]\n"
          ]
        },
        {
          "output_type": "stream",
          "name": "stdout",
          "text": [
            "Epoch 590/1000 loss 0.00015 val_loss 0.00046 acc 0.99989 val_acc 1.00000\n"
          ]
        },
        {
          "output_type": "stream",
          "name": "stderr",
          "text": [
            "loss 0.00001 acc 1.00000: 100%|██████████| 297/297 [00:05<00:00, 52.33it/s]\n",
            "val_loss 0.00063 val_acc 0.99941: 100%|██████████| 53/53 [00:01<00:00, 43.30it/s]\n"
          ]
        },
        {
          "output_type": "stream",
          "name": "stdout",
          "text": [
            "Epoch 591/1000 loss 0.00001 val_loss 0.00063 acc 1.00000 val_acc 0.99941\n"
          ]
        },
        {
          "output_type": "stream",
          "name": "stderr",
          "text": [
            "loss 0.00009 acc 0.99989: 100%|██████████| 297/297 [00:05<00:00, 50.46it/s]\n",
            "val_loss 0.00004 val_acc 1.00000: 100%|██████████| 53/53 [00:01<00:00, 36.81it/s]\n"
          ]
        },
        {
          "output_type": "stream",
          "name": "stdout",
          "text": [
            "Epoch 592/1000 loss 0.00009 val_loss 0.00004 acc 0.99989 val_acc 1.00000\n"
          ]
        },
        {
          "output_type": "stream",
          "name": "stderr",
          "text": [
            "loss 0.00004 acc 1.00000: 100%|██████████| 297/297 [00:06<00:00, 44.73it/s]\n",
            "val_loss 0.00001 val_acc 1.00000: 100%|██████████| 53/53 [00:01<00:00, 38.89it/s]\n"
          ]
        },
        {
          "output_type": "stream",
          "name": "stdout",
          "text": [
            "Epoch 593/1000 loss 0.00004 val_loss 0.00001 acc 1.00000 val_acc 1.00000\n"
          ]
        },
        {
          "output_type": "stream",
          "name": "stderr",
          "text": [
            "loss 0.00079 acc 0.99968: 100%|██████████| 297/297 [00:05<00:00, 53.02it/s]\n",
            "val_loss 0.00006 val_acc 1.00000: 100%|██████████| 53/53 [00:01<00:00, 40.27it/s]\n"
          ]
        },
        {
          "output_type": "stream",
          "name": "stdout",
          "text": [
            "Epoch 594/1000 loss 0.00079 val_loss 0.00006 acc 0.99968 val_acc 1.00000\n"
          ]
        },
        {
          "output_type": "stream",
          "name": "stderr",
          "text": [
            "loss 0.00056 acc 0.99979: 100%|██████████| 297/297 [00:05<00:00, 50.31it/s]\n",
            "val_loss 0.00022 val_acc 1.00000: 100%|██████████| 53/53 [00:01<00:00, 39.21it/s]\n"
          ]
        },
        {
          "output_type": "stream",
          "name": "stdout",
          "text": [
            "Epoch 595/1000 loss 0.00056 val_loss 0.00022 acc 0.99979 val_acc 1.00000\n"
          ]
        },
        {
          "output_type": "stream",
          "name": "stderr",
          "text": [
            "loss 0.00011 acc 1.00000: 100%|██████████| 297/297 [00:06<00:00, 45.75it/s]\n",
            "val_loss 0.00010 val_acc 1.00000: 100%|██████████| 53/53 [00:01<00:00, 40.90it/s]\n"
          ]
        },
        {
          "output_type": "stream",
          "name": "stdout",
          "text": [
            "Epoch 596/1000 loss 0.00011 val_loss 0.00010 acc 1.00000 val_acc 1.00000\n"
          ]
        },
        {
          "output_type": "stream",
          "name": "stderr",
          "text": [
            "loss 0.00296 acc 0.99947: 100%|██████████| 297/297 [00:05<00:00, 53.70it/s]\n",
            "val_loss 0.00005 val_acc 1.00000: 100%|██████████| 53/53 [00:01<00:00, 38.85it/s]\n"
          ]
        },
        {
          "output_type": "stream",
          "name": "stdout",
          "text": [
            "Epoch 597/1000 loss 0.00296 val_loss 0.00005 acc 0.99947 val_acc 1.00000\n"
          ]
        },
        {
          "output_type": "stream",
          "name": "stderr",
          "text": [
            "loss 0.00009 acc 1.00000: 100%|██████████| 297/297 [00:06<00:00, 48.39it/s]\n",
            "val_loss 0.00001 val_acc 1.00000: 100%|██████████| 53/53 [00:01<00:00, 39.88it/s]\n"
          ]
        },
        {
          "output_type": "stream",
          "name": "stdout",
          "text": [
            "Epoch 598/1000 loss 0.00009 val_loss 0.00001 acc 1.00000 val_acc 1.00000\n"
          ]
        },
        {
          "output_type": "stream",
          "name": "stderr",
          "text": [
            "loss 0.00102 acc 0.99968: 100%|██████████| 297/297 [00:06<00:00, 44.86it/s]\n",
            "val_loss 0.00006 val_acc 1.00000: 100%|██████████| 53/53 [00:01<00:00, 43.14it/s]\n"
          ]
        },
        {
          "output_type": "stream",
          "name": "stdout",
          "text": [
            "Epoch 599/1000 loss 0.00102 val_loss 0.00006 acc 0.99968 val_acc 1.00000\n"
          ]
        },
        {
          "output_type": "stream",
          "name": "stderr",
          "text": [
            "loss 0.00074 acc 0.99979: 100%|██████████| 297/297 [00:05<00:00, 53.01it/s]\n",
            "val_loss 0.00005 val_acc 1.00000: 100%|██████████| 53/53 [00:01<00:00, 40.73it/s]\n"
          ]
        },
        {
          "output_type": "stream",
          "name": "stdout",
          "text": [
            "Epoch 600/1000 loss 0.00074 val_loss 0.00005 acc 0.99979 val_acc 1.00000\n",
            "Checkpoint guardado en /content/drive/MyDrive/SIS421 prueba dataset 1 test/Checkpoints/checkpoint.pth (Epoch 600)\n"
          ]
        },
        {
          "output_type": "stream",
          "name": "stderr",
          "text": [
            "loss 0.00004 acc 1.00000: 100%|██████████| 297/297 [00:05<00:00, 49.55it/s]\n",
            "val_loss 0.00009 val_acc 1.00000: 100%|██████████| 53/53 [00:01<00:00, 38.63it/s]\n"
          ]
        },
        {
          "output_type": "stream",
          "name": "stdout",
          "text": [
            "Epoch 601/1000 loss 0.00004 val_loss 0.00009 acc 1.00000 val_acc 1.00000\n"
          ]
        },
        {
          "output_type": "stream",
          "name": "stderr",
          "text": [
            "loss 0.00001 acc 1.00000: 100%|██████████| 297/297 [00:06<00:00, 44.97it/s]\n",
            "val_loss 0.00048 val_acc 1.00000: 100%|██████████| 53/53 [00:01<00:00, 41.90it/s]\n"
          ]
        },
        {
          "output_type": "stream",
          "name": "stdout",
          "text": [
            "Epoch 602/1000 loss 0.00001 val_loss 0.00048 acc 1.00000 val_acc 1.00000\n"
          ]
        },
        {
          "output_type": "stream",
          "name": "stderr",
          "text": [
            "loss 0.00065 acc 0.99968: 100%|██████████| 297/297 [00:05<00:00, 52.17it/s]\n",
            "val_loss 0.00030 val_acc 1.00000: 100%|██████████| 53/53 [00:01<00:00, 40.99it/s]\n"
          ]
        },
        {
          "output_type": "stream",
          "name": "stdout",
          "text": [
            "Epoch 603/1000 loss 0.00065 val_loss 0.00030 acc 0.99968 val_acc 1.00000\n"
          ]
        },
        {
          "output_type": "stream",
          "name": "stderr",
          "text": [
            "loss 0.00026 acc 0.99979: 100%|██████████| 297/297 [00:06<00:00, 48.96it/s]\n",
            "val_loss 0.00022 val_acc 1.00000: 100%|██████████| 53/53 [00:01<00:00, 39.00it/s]\n"
          ]
        },
        {
          "output_type": "stream",
          "name": "stdout",
          "text": [
            "Epoch 604/1000 loss 0.00026 val_loss 0.00022 acc 0.99979 val_acc 1.00000\n"
          ]
        },
        {
          "output_type": "stream",
          "name": "stderr",
          "text": [
            "loss 0.00136 acc 0.99979: 100%|██████████| 297/297 [00:06<00:00, 45.09it/s]\n",
            "val_loss 0.00004 val_acc 1.00000: 100%|██████████| 53/53 [00:01<00:00, 40.46it/s]\n"
          ]
        },
        {
          "output_type": "stream",
          "name": "stdout",
          "text": [
            "Epoch 605/1000 loss 0.00136 val_loss 0.00004 acc 0.99979 val_acc 1.00000\n"
          ]
        },
        {
          "output_type": "stream",
          "name": "stderr",
          "text": [
            "loss 0.00005 acc 1.00000: 100%|██████████| 297/297 [00:05<00:00, 52.05it/s]\n",
            "val_loss 0.00065 val_acc 0.99941: 100%|██████████| 53/53 [00:01<00:00, 45.17it/s]\n"
          ]
        },
        {
          "output_type": "stream",
          "name": "stdout",
          "text": [
            "Epoch 606/1000 loss 0.00005 val_loss 0.00065 acc 1.00000 val_acc 0.99941\n"
          ]
        },
        {
          "output_type": "stream",
          "name": "stderr",
          "text": [
            "loss 0.00034 acc 0.99989: 100%|██████████| 297/297 [00:06<00:00, 47.37it/s]\n",
            "val_loss 0.00051 val_acc 1.00000: 100%|██████████| 53/53 [00:01<00:00, 38.44it/s]\n"
          ]
        },
        {
          "output_type": "stream",
          "name": "stdout",
          "text": [
            "Epoch 607/1000 loss 0.00034 val_loss 0.00051 acc 0.99989 val_acc 1.00000\n"
          ]
        },
        {
          "output_type": "stream",
          "name": "stderr",
          "text": [
            "loss 0.00136 acc 0.99968: 100%|██████████| 297/297 [00:06<00:00, 45.19it/s]\n",
            "val_loss 0.00142 val_acc 0.99882: 100%|██████████| 53/53 [00:01<00:00, 41.94it/s]\n"
          ]
        },
        {
          "output_type": "stream",
          "name": "stdout",
          "text": [
            "Epoch 608/1000 loss 0.00136 val_loss 0.00142 acc 0.99968 val_acc 0.99882\n"
          ]
        },
        {
          "output_type": "stream",
          "name": "stderr",
          "text": [
            "loss 0.00007 acc 1.00000: 100%|██████████| 297/297 [00:05<00:00, 51.48it/s]\n",
            "val_loss 0.00154 val_acc 0.99941: 100%|██████████| 53/53 [00:01<00:00, 43.05it/s]\n"
          ]
        },
        {
          "output_type": "stream",
          "name": "stdout",
          "text": [
            "Epoch 609/1000 loss 0.00007 val_loss 0.00154 acc 1.00000 val_acc 0.99941\n"
          ]
        },
        {
          "output_type": "stream",
          "name": "stderr",
          "text": [
            "loss 0.00003 acc 1.00000: 100%|██████████| 297/297 [00:06<00:00, 48.72it/s]\n",
            "val_loss 0.00020 val_acc 1.00000: 100%|██████████| 53/53 [00:01<00:00, 36.57it/s]\n"
          ]
        },
        {
          "output_type": "stream",
          "name": "stdout",
          "text": [
            "Epoch 610/1000 loss 0.00003 val_loss 0.00020 acc 1.00000 val_acc 1.00000\n"
          ]
        },
        {
          "output_type": "stream",
          "name": "stderr",
          "text": [
            "loss 0.00020 acc 0.99989: 100%|██████████| 297/297 [00:06<00:00, 45.66it/s]\n",
            "val_loss 0.00086 val_acc 0.99941: 100%|██████████| 53/53 [00:01<00:00, 35.18it/s]\n"
          ]
        },
        {
          "output_type": "stream",
          "name": "stdout",
          "text": [
            "Epoch 611/1000 loss 0.00020 val_loss 0.00086 acc 0.99989 val_acc 0.99941\n"
          ]
        },
        {
          "output_type": "stream",
          "name": "stderr",
          "text": [
            "loss 0.00056 acc 0.99979: 100%|██████████| 297/297 [00:05<00:00, 52.76it/s]\n",
            "val_loss 0.00013 val_acc 1.00000: 100%|██████████| 53/53 [00:01<00:00, 41.98it/s]\n"
          ]
        },
        {
          "output_type": "stream",
          "name": "stdout",
          "text": [
            "Epoch 612/1000 loss 0.00056 val_loss 0.00013 acc 0.99979 val_acc 1.00000\n"
          ]
        },
        {
          "output_type": "stream",
          "name": "stderr",
          "text": [
            "loss 0.00007 acc 1.00000: 100%|██████████| 297/297 [00:06<00:00, 48.44it/s]\n",
            "val_loss 0.00020 val_acc 1.00000: 100%|██████████| 53/53 [00:01<00:00, 37.12it/s]\n"
          ]
        },
        {
          "output_type": "stream",
          "name": "stdout",
          "text": [
            "Epoch 613/1000 loss 0.00007 val_loss 0.00020 acc 1.00000 val_acc 1.00000\n"
          ]
        },
        {
          "output_type": "stream",
          "name": "stderr",
          "text": [
            "loss 0.00020 acc 1.00000: 100%|██████████| 297/297 [00:06<00:00, 44.25it/s]\n",
            "val_loss 0.00262 val_acc 0.99941: 100%|██████████| 53/53 [00:01<00:00, 38.79it/s]\n"
          ]
        },
        {
          "output_type": "stream",
          "name": "stdout",
          "text": [
            "Epoch 614/1000 loss 0.00020 val_loss 0.00262 acc 1.00000 val_acc 0.99941\n"
          ]
        },
        {
          "output_type": "stream",
          "name": "stderr",
          "text": [
            "loss 0.00002 acc 1.00000: 100%|██████████| 297/297 [00:05<00:00, 51.78it/s]\n",
            "val_loss 0.00018 val_acc 1.00000: 100%|██████████| 53/53 [00:01<00:00, 40.48it/s]\n"
          ]
        },
        {
          "output_type": "stream",
          "name": "stdout",
          "text": [
            "Epoch 615/1000 loss 0.00002 val_loss 0.00018 acc 1.00000 val_acc 1.00000\n"
          ]
        },
        {
          "output_type": "stream",
          "name": "stderr",
          "text": [
            "loss 0.00016 acc 0.99989: 100%|██████████| 297/297 [00:06<00:00, 47.82it/s]\n",
            "val_loss 0.00001 val_acc 1.00000: 100%|██████████| 53/53 [00:01<00:00, 37.48it/s]\n"
          ]
        },
        {
          "output_type": "stream",
          "name": "stdout",
          "text": [
            "Epoch 616/1000 loss 0.00016 val_loss 0.00001 acc 0.99989 val_acc 1.00000\n"
          ]
        },
        {
          "output_type": "stream",
          "name": "stderr",
          "text": [
            "loss 0.00063 acc 0.99951: 100%|██████████| 297/297 [00:06<00:00, 45.31it/s]\n",
            "val_loss 0.00528 val_acc 0.99882: 100%|██████████| 53/53 [00:01<00:00, 40.04it/s]\n"
          ]
        },
        {
          "output_type": "stream",
          "name": "stdout",
          "text": [
            "Epoch 617/1000 loss 0.00063 val_loss 0.00528 acc 0.99951 val_acc 0.99882\n"
          ]
        },
        {
          "output_type": "stream",
          "name": "stderr",
          "text": [
            "loss 0.00027 acc 0.99989: 100%|██████████| 297/297 [00:05<00:00, 53.31it/s]\n",
            "val_loss 0.00616 val_acc 0.99882: 100%|██████████| 53/53 [00:01<00:00, 39.24it/s]\n"
          ]
        },
        {
          "output_type": "stream",
          "name": "stdout",
          "text": [
            "Epoch 618/1000 loss 0.00027 val_loss 0.00616 acc 0.99989 val_acc 0.99882\n"
          ]
        },
        {
          "output_type": "stream",
          "name": "stderr",
          "text": [
            "loss 0.00073 acc 0.99968: 100%|██████████| 297/297 [00:06<00:00, 46.96it/s]\n",
            "val_loss 0.00465 val_acc 0.99882: 100%|██████████| 53/53 [00:01<00:00, 39.49it/s]\n"
          ]
        },
        {
          "output_type": "stream",
          "name": "stdout",
          "text": [
            "Epoch 619/1000 loss 0.00073 val_loss 0.00465 acc 0.99968 val_acc 0.99882\n"
          ]
        },
        {
          "output_type": "stream",
          "name": "stderr",
          "text": [
            "loss 0.00010 acc 1.00000: 100%|██████████| 297/297 [00:06<00:00, 44.18it/s]\n",
            "val_loss 0.00598 val_acc 0.99823: 100%|██████████| 53/53 [00:01<00:00, 39.67it/s]\n"
          ]
        },
        {
          "output_type": "stream",
          "name": "stdout",
          "text": [
            "Epoch 620/1000 loss 0.00010 val_loss 0.00598 acc 1.00000 val_acc 0.99823\n",
            "Checkpoint guardado en /content/drive/MyDrive/SIS421 prueba dataset 1 test/Checkpoints/checkpoint.pth (Epoch 620)\n"
          ]
        },
        {
          "output_type": "stream",
          "name": "stderr",
          "text": [
            "loss 0.00040 acc 0.99979: 100%|██████████| 297/297 [00:05<00:00, 49.74it/s]\n",
            "val_loss 0.00528 val_acc 0.99823: 100%|██████████| 53/53 [00:01<00:00, 43.21it/s]\n"
          ]
        },
        {
          "output_type": "stream",
          "name": "stdout",
          "text": [
            "Epoch 621/1000 loss 0.00040 val_loss 0.00528 acc 0.99979 val_acc 0.99823\n"
          ]
        },
        {
          "output_type": "stream",
          "name": "stderr",
          "text": [
            "loss 0.00023 acc 1.00000: 100%|██████████| 297/297 [00:06<00:00, 48.34it/s]\n",
            "val_loss 0.00865 val_acc 0.99823: 100%|██████████| 53/53 [00:01<00:00, 38.07it/s]\n"
          ]
        },
        {
          "output_type": "stream",
          "name": "stdout",
          "text": [
            "Epoch 622/1000 loss 0.00023 val_loss 0.00865 acc 1.00000 val_acc 0.99823\n"
          ]
        },
        {
          "output_type": "stream",
          "name": "stderr",
          "text": [
            "loss 0.00038 acc 0.99989: 100%|██████████| 297/297 [00:06<00:00, 42.92it/s]\n",
            "val_loss 0.00377 val_acc 0.99882: 100%|██████████| 53/53 [00:01<00:00, 39.39it/s]\n"
          ]
        },
        {
          "output_type": "stream",
          "name": "stdout",
          "text": [
            "Epoch 623/1000 loss 0.00038 val_loss 0.00377 acc 0.99989 val_acc 0.99882\n"
          ]
        },
        {
          "output_type": "stream",
          "name": "stderr",
          "text": [
            "loss 0.00046 acc 0.99979: 100%|██████████| 297/297 [00:05<00:00, 52.99it/s]\n",
            "val_loss 0.00033 val_acc 1.00000: 100%|██████████| 53/53 [00:01<00:00, 40.06it/s]\n"
          ]
        },
        {
          "output_type": "stream",
          "name": "stdout",
          "text": [
            "Epoch 624/1000 loss 0.00046 val_loss 0.00033 acc 0.99979 val_acc 1.00000\n"
          ]
        },
        {
          "output_type": "stream",
          "name": "stderr",
          "text": [
            "loss 0.00017 acc 0.99989: 100%|██████████| 297/297 [00:06<00:00, 46.80it/s]\n",
            "val_loss 0.00276 val_acc 0.99941: 100%|██████████| 53/53 [00:01<00:00, 32.37it/s]\n"
          ]
        },
        {
          "output_type": "stream",
          "name": "stdout",
          "text": [
            "Epoch 625/1000 loss 0.00017 val_loss 0.00276 acc 0.99989 val_acc 0.99941\n"
          ]
        },
        {
          "output_type": "stream",
          "name": "stderr",
          "text": [
            "loss 0.00019 acc 0.99989: 100%|██████████| 297/297 [00:06<00:00, 44.36it/s]\n",
            "val_loss 0.00355 val_acc 0.99882: 100%|██████████| 53/53 [00:01<00:00, 38.11it/s]\n"
          ]
        },
        {
          "output_type": "stream",
          "name": "stdout",
          "text": [
            "Epoch 626/1000 loss 0.00019 val_loss 0.00355 acc 0.99989 val_acc 0.99882\n"
          ]
        },
        {
          "output_type": "stream",
          "name": "stderr",
          "text": [
            "loss 0.00002 acc 1.00000: 100%|██████████| 297/297 [00:05<00:00, 49.73it/s]\n",
            "val_loss 0.00120 val_acc 0.99941: 100%|██████████| 53/53 [00:01<00:00, 37.01it/s]\n"
          ]
        },
        {
          "output_type": "stream",
          "name": "stdout",
          "text": [
            "Epoch 627/1000 loss 0.00002 val_loss 0.00120 acc 1.00000 val_acc 0.99941\n"
          ]
        },
        {
          "output_type": "stream",
          "name": "stderr",
          "text": [
            "loss 0.00087 acc 0.99958: 100%|██████████| 297/297 [00:06<00:00, 45.53it/s]\n",
            "val_loss 0.00138 val_acc 0.99941: 100%|██████████| 53/53 [00:01<00:00, 35.94it/s]\n"
          ]
        },
        {
          "output_type": "stream",
          "name": "stdout",
          "text": [
            "Epoch 628/1000 loss 0.00087 val_loss 0.00138 acc 0.99958 val_acc 0.99941\n"
          ]
        },
        {
          "output_type": "stream",
          "name": "stderr",
          "text": [
            "loss 0.00035 acc 0.99989: 100%|██████████| 297/297 [00:06<00:00, 43.62it/s]\n",
            "val_loss 0.00257 val_acc 0.99941: 100%|██████████| 53/53 [00:01<00:00, 38.56it/s]\n"
          ]
        },
        {
          "output_type": "stream",
          "name": "stdout",
          "text": [
            "Epoch 629/1000 loss 0.00035 val_loss 0.00257 acc 0.99989 val_acc 0.99941\n"
          ]
        },
        {
          "output_type": "stream",
          "name": "stderr",
          "text": [
            "loss 0.00005 acc 1.00000: 100%|██████████| 297/297 [00:05<00:00, 52.23it/s]\n",
            "val_loss 0.00393 val_acc 0.99882: 100%|██████████| 53/53 [00:01<00:00, 43.44it/s]\n"
          ]
        },
        {
          "output_type": "stream",
          "name": "stdout",
          "text": [
            "Epoch 630/1000 loss 0.00005 val_loss 0.00393 acc 1.00000 val_acc 0.99882\n"
          ]
        },
        {
          "output_type": "stream",
          "name": "stderr",
          "text": [
            "loss 0.00008 acc 1.00000: 100%|██████████| 297/297 [00:06<00:00, 47.25it/s]\n",
            "val_loss 0.00387 val_acc 0.99882: 100%|██████████| 53/53 [00:01<00:00, 37.74it/s]\n"
          ]
        },
        {
          "output_type": "stream",
          "name": "stdout",
          "text": [
            "Epoch 631/1000 loss 0.00008 val_loss 0.00387 acc 1.00000 val_acc 0.99882\n"
          ]
        },
        {
          "output_type": "stream",
          "name": "stderr",
          "text": [
            "loss 0.00058 acc 0.99968: 100%|██████████| 297/297 [00:06<00:00, 44.96it/s]\n",
            "val_loss 0.02040 val_acc 0.99646: 100%|██████████| 53/53 [00:01<00:00, 39.23it/s]\n"
          ]
        },
        {
          "output_type": "stream",
          "name": "stdout",
          "text": [
            "Epoch 632/1000 loss 0.00058 val_loss 0.02040 acc 0.99968 val_acc 0.99646\n"
          ]
        },
        {
          "output_type": "stream",
          "name": "stderr",
          "text": [
            "loss 0.00221 acc 0.99923: 100%|██████████| 297/297 [00:05<00:00, 52.00it/s]\n",
            "val_loss 0.00712 val_acc 0.99705: 100%|██████████| 53/53 [00:01<00:00, 41.99it/s]\n"
          ]
        },
        {
          "output_type": "stream",
          "name": "stdout",
          "text": [
            "Epoch 633/1000 loss 0.00221 val_loss 0.00712 acc 0.99923 val_acc 0.99705\n"
          ]
        },
        {
          "output_type": "stream",
          "name": "stderr",
          "text": [
            "loss 0.00194 acc 0.99947: 100%|██████████| 297/297 [00:06<00:00, 47.90it/s]\n",
            "val_loss 0.00133 val_acc 0.99941: 100%|██████████| 53/53 [00:01<00:00, 38.95it/s]\n"
          ]
        },
        {
          "output_type": "stream",
          "name": "stdout",
          "text": [
            "Epoch 634/1000 loss 0.00194 val_loss 0.00133 acc 0.99947 val_acc 0.99941\n"
          ]
        },
        {
          "output_type": "stream",
          "name": "stderr",
          "text": [
            "loss 0.00034 acc 0.99989: 100%|██████████| 297/297 [00:06<00:00, 45.98it/s]\n",
            "val_loss 0.00057 val_acc 1.00000: 100%|██████████| 53/53 [00:01<00:00, 38.71it/s]\n"
          ]
        },
        {
          "output_type": "stream",
          "name": "stdout",
          "text": [
            "Epoch 635/1000 loss 0.00034 val_loss 0.00057 acc 0.99989 val_acc 1.00000\n"
          ]
        },
        {
          "output_type": "stream",
          "name": "stderr",
          "text": [
            "loss 0.00007 acc 1.00000: 100%|██████████| 297/297 [00:05<00:00, 51.99it/s]\n",
            "val_loss 0.00124 val_acc 0.99941: 100%|██████████| 53/53 [00:01<00:00, 37.02it/s]\n"
          ]
        },
        {
          "output_type": "stream",
          "name": "stdout",
          "text": [
            "Epoch 636/1000 loss 0.00007 val_loss 0.00124 acc 1.00000 val_acc 0.99941\n"
          ]
        },
        {
          "output_type": "stream",
          "name": "stderr",
          "text": [
            "loss 0.00001 acc 1.00000: 100%|██████████| 297/297 [00:06<00:00, 44.48it/s]\n",
            "val_loss 0.00089 val_acc 0.99941: 100%|██████████| 53/53 [00:01<00:00, 35.05it/s]\n"
          ]
        },
        {
          "output_type": "stream",
          "name": "stdout",
          "text": [
            "Epoch 637/1000 loss 0.00001 val_loss 0.00089 acc 1.00000 val_acc 0.99941\n"
          ]
        },
        {
          "output_type": "stream",
          "name": "stderr",
          "text": [
            "loss 0.00003 acc 1.00000: 100%|██████████| 297/297 [00:06<00:00, 45.26it/s]\n",
            "val_loss 0.00110 val_acc 0.99882: 100%|██████████| 53/53 [00:01<00:00, 38.39it/s]\n"
          ]
        },
        {
          "output_type": "stream",
          "name": "stdout",
          "text": [
            "Epoch 638/1000 loss 0.00003 val_loss 0.00110 acc 1.00000 val_acc 0.99882\n"
          ]
        },
        {
          "output_type": "stream",
          "name": "stderr",
          "text": [
            "loss 0.00033 acc 0.99989: 100%|██████████| 297/297 [00:05<00:00, 51.48it/s]\n",
            "val_loss 0.00048 val_acc 1.00000: 100%|██████████| 53/53 [00:01<00:00, 38.27it/s]\n"
          ]
        },
        {
          "output_type": "stream",
          "name": "stdout",
          "text": [
            "Epoch 639/1000 loss 0.00033 val_loss 0.00048 acc 0.99989 val_acc 1.00000\n"
          ]
        },
        {
          "output_type": "stream",
          "name": "stderr",
          "text": [
            "loss 0.00083 acc 0.99968: 100%|██████████| 297/297 [00:06<00:00, 46.12it/s]\n",
            "val_loss 0.00250 val_acc 0.99941: 100%|██████████| 53/53 [00:01<00:00, 40.06it/s]\n"
          ]
        },
        {
          "output_type": "stream",
          "name": "stdout",
          "text": [
            "Epoch 640/1000 loss 0.00083 val_loss 0.00250 acc 0.99968 val_acc 0.99941\n",
            "Checkpoint guardado en /content/drive/MyDrive/SIS421 prueba dataset 1 test/Checkpoints/checkpoint.pth (Epoch 640)\n"
          ]
        },
        {
          "output_type": "stream",
          "name": "stderr",
          "text": [
            "loss 0.00014 acc 1.00000: 100%|██████████| 297/297 [00:06<00:00, 46.13it/s]\n",
            "val_loss 0.00251 val_acc 0.99941: 100%|██████████| 53/53 [00:01<00:00, 37.99it/s]\n"
          ]
        },
        {
          "output_type": "stream",
          "name": "stdout",
          "text": [
            "Epoch 641/1000 loss 0.00014 val_loss 0.00251 acc 1.00000 val_acc 0.99941\n"
          ]
        },
        {
          "output_type": "stream",
          "name": "stderr",
          "text": [
            "loss 0.00003 acc 1.00000: 100%|██████████| 297/297 [00:06<00:00, 48.59it/s]\n",
            "val_loss 0.00035 val_acc 1.00000: 100%|██████████| 53/53 [00:01<00:00, 42.12it/s]\n"
          ]
        },
        {
          "output_type": "stream",
          "name": "stdout",
          "text": [
            "Epoch 642/1000 loss 0.00003 val_loss 0.00035 acc 1.00000 val_acc 1.00000\n"
          ]
        },
        {
          "output_type": "stream",
          "name": "stderr",
          "text": [
            "loss 0.00072 acc 0.99979: 100%|██████████| 297/297 [00:06<00:00, 46.62it/s]\n",
            "val_loss 0.00001 val_acc 1.00000: 100%|██████████| 53/53 [00:01<00:00, 34.83it/s]\n"
          ]
        },
        {
          "output_type": "stream",
          "name": "stdout",
          "text": [
            "Epoch 643/1000 loss 0.00072 val_loss 0.00001 acc 0.99979 val_acc 1.00000\n"
          ]
        },
        {
          "output_type": "stream",
          "name": "stderr",
          "text": [
            "loss 0.00121 acc 0.99968: 100%|██████████| 297/297 [00:06<00:00, 43.81it/s]\n",
            "val_loss 0.00001 val_acc 1.00000: 100%|██████████| 53/53 [00:01<00:00, 34.57it/s]\n"
          ]
        },
        {
          "output_type": "stream",
          "name": "stdout",
          "text": [
            "Epoch 644/1000 loss 0.00121 val_loss 0.00001 acc 0.99968 val_acc 1.00000\n"
          ]
        },
        {
          "output_type": "stream",
          "name": "stderr",
          "text": [
            "loss 0.00018 acc 0.99989: 100%|██████████| 297/297 [00:05<00:00, 53.46it/s]\n",
            "val_loss 0.00001 val_acc 1.00000: 100%|██████████| 53/53 [00:01<00:00, 41.60it/s]\n"
          ]
        },
        {
          "output_type": "stream",
          "name": "stdout",
          "text": [
            "Epoch 645/1000 loss 0.00018 val_loss 0.00001 acc 0.99989 val_acc 1.00000\n"
          ]
        },
        {
          "output_type": "stream",
          "name": "stderr",
          "text": [
            "loss 0.00019 acc 0.99989: 100%|██████████| 297/297 [00:06<00:00, 45.79it/s]\n",
            "val_loss 0.00007 val_acc 1.00000: 100%|██████████| 53/53 [00:01<00:00, 39.25it/s]\n"
          ]
        },
        {
          "output_type": "stream",
          "name": "stdout",
          "text": [
            "Epoch 646/1000 loss 0.00019 val_loss 0.00007 acc 0.99989 val_acc 1.00000\n"
          ]
        },
        {
          "output_type": "stream",
          "name": "stderr",
          "text": [
            "loss 0.00006 acc 1.00000: 100%|██████████| 297/297 [00:06<00:00, 43.67it/s]\n",
            "val_loss 0.00002 val_acc 1.00000: 100%|██████████| 53/53 [00:01<00:00, 38.50it/s]\n"
          ]
        },
        {
          "output_type": "stream",
          "name": "stdout",
          "text": [
            "Epoch 647/1000 loss 0.00006 val_loss 0.00002 acc 1.00000 val_acc 1.00000\n"
          ]
        },
        {
          "output_type": "stream",
          "name": "stderr",
          "text": [
            "loss 0.00002 acc 1.00000: 100%|██████████| 297/297 [00:05<00:00, 51.11it/s]\n",
            "val_loss 0.00037 val_acc 1.00000: 100%|██████████| 53/53 [00:01<00:00, 39.71it/s]\n"
          ]
        },
        {
          "output_type": "stream",
          "name": "stdout",
          "text": [
            "Epoch 648/1000 loss 0.00002 val_loss 0.00037 acc 1.00000 val_acc 1.00000\n"
          ]
        },
        {
          "output_type": "stream",
          "name": "stderr",
          "text": [
            "loss 0.00046 acc 0.99979: 100%|██████████| 297/297 [00:06<00:00, 46.90it/s]\n",
            "val_loss 0.00006 val_acc 1.00000: 100%|██████████| 53/53 [00:01<00:00, 35.93it/s]\n"
          ]
        },
        {
          "output_type": "stream",
          "name": "stdout",
          "text": [
            "Epoch 649/1000 loss 0.00046 val_loss 0.00006 acc 0.99979 val_acc 1.00000\n"
          ]
        },
        {
          "output_type": "stream",
          "name": "stderr",
          "text": [
            "loss 0.00115 acc 0.99979: 100%|██████████| 297/297 [00:06<00:00, 43.00it/s]\n",
            "val_loss 0.00003 val_acc 1.00000: 100%|██████████| 53/53 [00:01<00:00, 38.79it/s]\n"
          ]
        },
        {
          "output_type": "stream",
          "name": "stdout",
          "text": [
            "Epoch 650/1000 loss 0.00115 val_loss 0.00003 acc 0.99979 val_acc 1.00000\n"
          ]
        },
        {
          "output_type": "stream",
          "name": "stderr",
          "text": [
            "loss 0.00010 acc 1.00000: 100%|██████████| 297/297 [00:05<00:00, 50.01it/s]\n",
            "val_loss 0.00038 val_acc 1.00000: 100%|██████████| 53/53 [00:01<00:00, 35.94it/s]\n"
          ]
        },
        {
          "output_type": "stream",
          "name": "stdout",
          "text": [
            "Epoch 651/1000 loss 0.00010 val_loss 0.00038 acc 1.00000 val_acc 1.00000\n"
          ]
        },
        {
          "output_type": "stream",
          "name": "stderr",
          "text": [
            "loss 0.00001 acc 1.00000: 100%|██████████| 297/297 [00:06<00:00, 46.58it/s]\n",
            "val_loss 0.00013 val_acc 1.00000: 100%|██████████| 53/53 [00:01<00:00, 35.50it/s]\n"
          ]
        },
        {
          "output_type": "stream",
          "name": "stdout",
          "text": [
            "Epoch 652/1000 loss 0.00001 val_loss 0.00013 acc 1.00000 val_acc 1.00000\n"
          ]
        },
        {
          "output_type": "stream",
          "name": "stderr",
          "text": [
            "loss 0.00003 acc 1.00000: 100%|██████████| 297/297 [00:06<00:00, 45.05it/s]\n",
            "val_loss 0.00049 val_acc 0.99941: 100%|██████████| 53/53 [00:01<00:00, 37.69it/s]\n"
          ]
        },
        {
          "output_type": "stream",
          "name": "stdout",
          "text": [
            "Epoch 653/1000 loss 0.00003 val_loss 0.00049 acc 1.00000 val_acc 0.99941\n"
          ]
        },
        {
          "output_type": "stream",
          "name": "stderr",
          "text": [
            "loss 0.00037 acc 0.99989: 100%|██████████| 297/297 [00:06<00:00, 49.49it/s]\n",
            "val_loss 0.00054 val_acc 0.99941: 100%|██████████| 53/53 [00:01<00:00, 40.39it/s]\n"
          ]
        },
        {
          "output_type": "stream",
          "name": "stdout",
          "text": [
            "Epoch 654/1000 loss 0.00037 val_loss 0.00054 acc 0.99989 val_acc 0.99941\n"
          ]
        },
        {
          "output_type": "stream",
          "name": "stderr",
          "text": [
            "loss 0.00078 acc 0.99968: 100%|██████████| 297/297 [00:06<00:00, 48.81it/s]\n",
            "val_loss 0.00005 val_acc 1.00000: 100%|██████████| 53/53 [00:01<00:00, 32.30it/s]\n"
          ]
        },
        {
          "output_type": "stream",
          "name": "stdout",
          "text": [
            "Epoch 655/1000 loss 0.00078 val_loss 0.00005 acc 0.99968 val_acc 1.00000\n"
          ]
        },
        {
          "output_type": "stream",
          "name": "stderr",
          "text": [
            "loss 0.00110 acc 0.99947: 100%|██████████| 297/297 [00:06<00:00, 43.22it/s]\n",
            "val_loss 0.00010 val_acc 1.00000: 100%|██████████| 53/53 [00:01<00:00, 37.61it/s]\n"
          ]
        },
        {
          "output_type": "stream",
          "name": "stdout",
          "text": [
            "Epoch 656/1000 loss 0.00110 val_loss 0.00010 acc 0.99947 val_acc 1.00000\n"
          ]
        },
        {
          "output_type": "stream",
          "name": "stderr",
          "text": [
            "loss 0.00004 acc 1.00000: 100%|██████████| 297/297 [00:05<00:00, 51.70it/s]\n",
            "val_loss 0.00004 val_acc 1.00000: 100%|██████████| 53/53 [00:01<00:00, 40.09it/s]\n"
          ]
        },
        {
          "output_type": "stream",
          "name": "stdout",
          "text": [
            "Epoch 657/1000 loss 0.00004 val_loss 0.00004 acc 1.00000 val_acc 1.00000\n"
          ]
        },
        {
          "output_type": "stream",
          "name": "stderr",
          "text": [
            "loss 0.00008 acc 0.99989: 100%|██████████| 297/297 [00:06<00:00, 46.40it/s]\n",
            "val_loss 0.00003 val_acc 1.00000: 100%|██████████| 53/53 [00:01<00:00, 34.87it/s]\n"
          ]
        },
        {
          "output_type": "stream",
          "name": "stdout",
          "text": [
            "Epoch 658/1000 loss 0.00008 val_loss 0.00003 acc 0.99989 val_acc 1.00000\n"
          ]
        },
        {
          "output_type": "stream",
          "name": "stderr",
          "text": [
            "loss 0.00007 acc 1.00000: 100%|██████████| 297/297 [00:06<00:00, 44.17it/s]\n",
            "val_loss 0.00094 val_acc 0.99941: 100%|██████████| 53/53 [00:01<00:00, 37.69it/s]\n"
          ]
        },
        {
          "output_type": "stream",
          "name": "stdout",
          "text": [
            "Epoch 659/1000 loss 0.00007 val_loss 0.00094 acc 1.00000 val_acc 0.99941\n"
          ]
        },
        {
          "output_type": "stream",
          "name": "stderr",
          "text": [
            "loss 0.00013 acc 0.99989: 100%|██████████| 297/297 [00:05<00:00, 50.51it/s]\n",
            "val_loss 0.00094 val_acc 0.99941: 100%|██████████| 53/53 [00:01<00:00, 39.10it/s]\n"
          ]
        },
        {
          "output_type": "stream",
          "name": "stdout",
          "text": [
            "Epoch 660/1000 loss 0.00013 val_loss 0.00094 acc 0.99989 val_acc 0.99941\n",
            "Checkpoint guardado en /content/drive/MyDrive/SIS421 prueba dataset 1 test/Checkpoints/checkpoint.pth (Epoch 660)\n"
          ]
        },
        {
          "output_type": "stream",
          "name": "stderr",
          "text": [
            "loss 0.00058 acc 0.99968: 100%|██████████| 297/297 [00:06<00:00, 44.54it/s]\n",
            "val_loss 0.00125 val_acc 1.00000: 100%|██████████| 53/53 [00:01<00:00, 34.34it/s]\n"
          ]
        },
        {
          "output_type": "stream",
          "name": "stdout",
          "text": [
            "Epoch 661/1000 loss 0.00058 val_loss 0.00125 acc 0.99968 val_acc 1.00000\n"
          ]
        },
        {
          "output_type": "stream",
          "name": "stderr",
          "text": [
            "loss 0.00021 acc 0.99989: 100%|██████████| 297/297 [00:06<00:00, 42.87it/s]\n",
            "val_loss 0.00004 val_acc 1.00000: 100%|██████████| 53/53 [00:01<00:00, 38.29it/s]\n"
          ]
        },
        {
          "output_type": "stream",
          "name": "stdout",
          "text": [
            "Epoch 662/1000 loss 0.00021 val_loss 0.00004 acc 0.99989 val_acc 1.00000\n"
          ]
        },
        {
          "output_type": "stream",
          "name": "stderr",
          "text": [
            "loss 0.00002 acc 1.00000: 100%|██████████| 297/297 [00:05<00:00, 49.72it/s]\n",
            "val_loss 0.00026 val_acc 1.00000: 100%|██████████| 53/53 [00:01<00:00, 43.90it/s]\n"
          ]
        },
        {
          "output_type": "stream",
          "name": "stdout",
          "text": [
            "Epoch 663/1000 loss 0.00002 val_loss 0.00026 acc 1.00000 val_acc 1.00000\n"
          ]
        },
        {
          "output_type": "stream",
          "name": "stderr",
          "text": [
            "loss 0.00137 acc 0.99947: 100%|██████████| 297/297 [00:06<00:00, 45.30it/s]\n",
            "val_loss 0.00532 val_acc 0.99823: 100%|██████████| 53/53 [00:01<00:00, 34.60it/s]\n"
          ]
        },
        {
          "output_type": "stream",
          "name": "stdout",
          "text": [
            "Epoch 664/1000 loss 0.00137 val_loss 0.00532 acc 0.99947 val_acc 0.99823\n"
          ]
        },
        {
          "output_type": "stream",
          "name": "stderr",
          "text": [
            "loss 0.00017 acc 0.99989: 100%|██████████| 297/297 [00:06<00:00, 45.40it/s]\n",
            "val_loss 0.00087 val_acc 0.99941: 100%|██████████| 53/53 [00:01<00:00, 42.12it/s]\n"
          ]
        },
        {
          "output_type": "stream",
          "name": "stdout",
          "text": [
            "Epoch 665/1000 loss 0.00017 val_loss 0.00087 acc 0.99989 val_acc 0.99941\n"
          ]
        },
        {
          "output_type": "stream",
          "name": "stderr",
          "text": [
            "loss 0.00042 acc 0.99979: 100%|██████████| 297/297 [00:05<00:00, 50.20it/s]\n",
            "val_loss 0.00243 val_acc 0.99823: 100%|██████████| 53/53 [00:01<00:00, 37.83it/s]\n"
          ]
        },
        {
          "output_type": "stream",
          "name": "stdout",
          "text": [
            "Epoch 666/1000 loss 0.00042 val_loss 0.00243 acc 0.99979 val_acc 0.99823\n"
          ]
        },
        {
          "output_type": "stream",
          "name": "stderr",
          "text": [
            "loss 0.00022 acc 1.00000: 100%|██████████| 297/297 [00:06<00:00, 44.71it/s]\n",
            "val_loss 0.00221 val_acc 0.99941: 100%|██████████| 53/53 [00:01<00:00, 32.23it/s]\n"
          ]
        },
        {
          "output_type": "stream",
          "name": "stdout",
          "text": [
            "Epoch 667/1000 loss 0.00022 val_loss 0.00221 acc 1.00000 val_acc 0.99941\n"
          ]
        },
        {
          "output_type": "stream",
          "name": "stderr",
          "text": [
            "loss 0.00062 acc 0.99989: 100%|██████████| 297/297 [00:06<00:00, 46.35it/s]\n",
            "val_loss 0.00153 val_acc 0.99882: 100%|██████████| 53/53 [00:01<00:00, 38.65it/s]\n"
          ]
        },
        {
          "output_type": "stream",
          "name": "stdout",
          "text": [
            "Epoch 668/1000 loss 0.00062 val_loss 0.00153 acc 0.99989 val_acc 0.99882\n"
          ]
        },
        {
          "output_type": "stream",
          "name": "stderr",
          "text": [
            "loss 0.00020 acc 0.99989: 100%|██████████| 297/297 [00:06<00:00, 49.06it/s]\n",
            "val_loss 0.00102 val_acc 0.99941: 100%|██████████| 53/53 [00:01<00:00, 41.24it/s]\n"
          ]
        },
        {
          "output_type": "stream",
          "name": "stdout",
          "text": [
            "Epoch 669/1000 loss 0.00020 val_loss 0.00102 acc 0.99989 val_acc 0.99941\n"
          ]
        },
        {
          "output_type": "stream",
          "name": "stderr",
          "text": [
            "loss 0.00001 acc 1.00000: 100%|██████████| 297/297 [00:06<00:00, 44.51it/s]\n",
            "val_loss 0.00097 val_acc 0.99941: 100%|██████████| 53/53 [00:01<00:00, 37.46it/s]\n"
          ]
        },
        {
          "output_type": "stream",
          "name": "stdout",
          "text": [
            "Epoch 670/1000 loss 0.00001 val_loss 0.00097 acc 1.00000 val_acc 0.99941\n"
          ]
        },
        {
          "output_type": "stream",
          "name": "stderr",
          "text": [
            "loss 0.00071 acc 0.99968: 100%|██████████| 297/297 [00:06<00:00, 47.09it/s]\n",
            "val_loss 0.00096 val_acc 0.99941: 100%|██████████| 53/53 [00:01<00:00, 38.86it/s]\n"
          ]
        },
        {
          "output_type": "stream",
          "name": "stdout",
          "text": [
            "Epoch 671/1000 loss 0.00071 val_loss 0.00096 acc 0.99968 val_acc 0.99941\n"
          ]
        },
        {
          "output_type": "stream",
          "name": "stderr",
          "text": [
            "loss 0.00043 acc 0.99989: 100%|██████████| 297/297 [00:06<00:00, 48.69it/s]\n",
            "val_loss 0.00026 val_acc 1.00000: 100%|██████████| 53/53 [00:01<00:00, 34.39it/s]\n"
          ]
        },
        {
          "output_type": "stream",
          "name": "stdout",
          "text": [
            "Epoch 672/1000 loss 0.00043 val_loss 0.00026 acc 0.99989 val_acc 1.00000\n"
          ]
        },
        {
          "output_type": "stream",
          "name": "stderr",
          "text": [
            "loss 0.00126 acc 0.99979: 100%|██████████| 297/297 [00:06<00:00, 43.80it/s]\n",
            "val_loss 0.00081 val_acc 0.99941: 100%|██████████| 53/53 [00:01<00:00, 34.59it/s]\n"
          ]
        },
        {
          "output_type": "stream",
          "name": "stdout",
          "text": [
            "Epoch 673/1000 loss 0.00126 val_loss 0.00081 acc 0.99979 val_acc 0.99941\n"
          ]
        },
        {
          "output_type": "stream",
          "name": "stderr",
          "text": [
            "loss 0.00234 acc 0.99958: 100%|██████████| 297/297 [00:05<00:00, 52.04it/s]\n",
            "val_loss 0.00024 val_acc 1.00000: 100%|██████████| 53/53 [00:01<00:00, 40.72it/s]\n"
          ]
        },
        {
          "output_type": "stream",
          "name": "stdout",
          "text": [
            "Epoch 674/1000 loss 0.00234 val_loss 0.00024 acc 0.99958 val_acc 1.00000\n"
          ]
        },
        {
          "output_type": "stream",
          "name": "stderr",
          "text": [
            "loss 0.00044 acc 0.99989: 100%|██████████| 297/297 [00:06<00:00, 48.98it/s]\n",
            "val_loss 0.00007 val_acc 1.00000: 100%|██████████| 53/53 [00:01<00:00, 35.40it/s]\n"
          ]
        },
        {
          "output_type": "stream",
          "name": "stdout",
          "text": [
            "Epoch 675/1000 loss 0.00044 val_loss 0.00007 acc 0.99989 val_acc 1.00000\n"
          ]
        },
        {
          "output_type": "stream",
          "name": "stderr",
          "text": [
            "loss 0.00071 acc 0.99979: 100%|██████████| 297/297 [00:06<00:00, 43.12it/s]\n",
            "val_loss 0.00002 val_acc 1.00000: 100%|██████████| 53/53 [00:01<00:00, 40.03it/s]\n"
          ]
        },
        {
          "output_type": "stream",
          "name": "stdout",
          "text": [
            "Epoch 676/1000 loss 0.00071 val_loss 0.00002 acc 0.99979 val_acc 1.00000\n"
          ]
        },
        {
          "output_type": "stream",
          "name": "stderr",
          "text": [
            "loss 0.00104 acc 0.99968: 100%|██████████| 297/297 [00:05<00:00, 49.81it/s]\n",
            "val_loss 0.00000 val_acc 1.00000: 100%|██████████| 53/53 [00:01<00:00, 40.45it/s]\n"
          ]
        },
        {
          "output_type": "stream",
          "name": "stdout",
          "text": [
            "Epoch 677/1000 loss 0.00104 val_loss 0.00000 acc 0.99968 val_acc 1.00000\n"
          ]
        },
        {
          "output_type": "stream",
          "name": "stderr",
          "text": [
            "loss 0.00043 acc 0.99989: 100%|██████████| 297/297 [00:06<00:00, 46.93it/s]\n",
            "val_loss 0.00004 val_acc 1.00000: 100%|██████████| 53/53 [00:01<00:00, 36.97it/s]\n"
          ]
        },
        {
          "output_type": "stream",
          "name": "stdout",
          "text": [
            "Epoch 678/1000 loss 0.00043 val_loss 0.00004 acc 0.99989 val_acc 1.00000\n"
          ]
        },
        {
          "output_type": "stream",
          "name": "stderr",
          "text": [
            "loss 0.00022 acc 0.99989: 100%|██████████| 297/297 [00:06<00:00, 45.15it/s]\n",
            "val_loss 0.00002 val_acc 1.00000: 100%|██████████| 53/53 [00:01<00:00, 35.62it/s]\n"
          ]
        },
        {
          "output_type": "stream",
          "name": "stdout",
          "text": [
            "Epoch 679/1000 loss 0.00022 val_loss 0.00002 acc 0.99989 val_acc 1.00000\n"
          ]
        },
        {
          "output_type": "stream",
          "name": "stderr",
          "text": [
            "loss 0.00011 acc 0.99989: 100%|██████████| 297/297 [00:06<00:00, 47.82it/s]\n",
            "val_loss 0.00006 val_acc 1.00000: 100%|██████████| 53/53 [00:01<00:00, 42.31it/s]\n"
          ]
        },
        {
          "output_type": "stream",
          "name": "stdout",
          "text": [
            "Epoch 680/1000 loss 0.00011 val_loss 0.00006 acc 0.99989 val_acc 1.00000\n",
            "Checkpoint guardado en /content/drive/MyDrive/SIS421 prueba dataset 1 test/Checkpoints/checkpoint.pth (Epoch 680)\n"
          ]
        },
        {
          "output_type": "stream",
          "name": "stderr",
          "text": [
            "loss 0.00005 acc 1.00000: 100%|██████████| 297/297 [00:06<00:00, 44.95it/s]\n",
            "val_loss 0.00008 val_acc 1.00000: 100%|██████████| 53/53 [00:01<00:00, 33.78it/s]\n"
          ]
        },
        {
          "output_type": "stream",
          "name": "stdout",
          "text": [
            "Epoch 681/1000 loss 0.00005 val_loss 0.00008 acc 1.00000 val_acc 1.00000\n"
          ]
        },
        {
          "output_type": "stream",
          "name": "stderr",
          "text": [
            "loss 0.00007 acc 1.00000: 100%|██████████| 297/297 [00:06<00:00, 46.81it/s]\n",
            "val_loss 0.00002 val_acc 1.00000: 100%|██████████| 53/53 [00:01<00:00, 42.55it/s]\n"
          ]
        },
        {
          "output_type": "stream",
          "name": "stdout",
          "text": [
            "Epoch 682/1000 loss 0.00007 val_loss 0.00002 acc 1.00000 val_acc 1.00000\n"
          ]
        },
        {
          "output_type": "stream",
          "name": "stderr",
          "text": [
            "loss 0.00034 acc 0.99979: 100%|██████████| 297/297 [00:06<00:00, 49.21it/s]\n",
            "val_loss 0.05128 val_acc 0.98172: 100%|██████████| 53/53 [00:01<00:00, 37.48it/s]\n"
          ]
        },
        {
          "output_type": "stream",
          "name": "stdout",
          "text": [
            "Epoch 683/1000 loss 0.00034 val_loss 0.05128 acc 0.99979 val_acc 0.98172\n"
          ]
        },
        {
          "output_type": "stream",
          "name": "stderr",
          "text": [
            "loss 0.00018 acc 1.00000: 100%|██████████| 297/297 [00:06<00:00, 46.19it/s]\n",
            "val_loss 0.00030 val_acc 1.00000: 100%|██████████| 53/53 [00:01<00:00, 38.23it/s]\n"
          ]
        },
        {
          "output_type": "stream",
          "name": "stdout",
          "text": [
            "Epoch 684/1000 loss 0.00018 val_loss 0.00030 acc 1.00000 val_acc 1.00000\n"
          ]
        },
        {
          "output_type": "stream",
          "name": "stderr",
          "text": [
            "loss 0.00161 acc 0.99979: 100%|██████████| 297/297 [00:06<00:00, 43.94it/s]\n",
            "val_loss 0.00005 val_acc 1.00000: 100%|██████████| 53/53 [00:01<00:00, 35.77it/s]\n"
          ]
        },
        {
          "output_type": "stream",
          "name": "stdout",
          "text": [
            "Epoch 685/1000 loss 0.00161 val_loss 0.00005 acc 0.99979 val_acc 1.00000\n"
          ]
        },
        {
          "output_type": "stream",
          "name": "stderr",
          "text": [
            "loss 0.00023 acc 1.00000: 100%|██████████| 297/297 [00:06<00:00, 49.15it/s]\n",
            "val_loss 0.00004 val_acc 1.00000: 100%|██████████| 53/53 [00:01<00:00, 41.23it/s]\n"
          ]
        },
        {
          "output_type": "stream",
          "name": "stdout",
          "text": [
            "Epoch 686/1000 loss 0.00023 val_loss 0.00004 acc 1.00000 val_acc 1.00000\n"
          ]
        },
        {
          "output_type": "stream",
          "name": "stderr",
          "text": [
            "loss 0.00087 acc 0.99979: 100%|██████████| 297/297 [00:06<00:00, 45.38it/s]\n",
            "val_loss 0.00008 val_acc 1.00000: 100%|██████████| 53/53 [00:01<00:00, 35.72it/s]\n"
          ]
        },
        {
          "output_type": "stream",
          "name": "stdout",
          "text": [
            "Epoch 687/1000 loss 0.00087 val_loss 0.00008 acc 0.99979 val_acc 1.00000\n"
          ]
        },
        {
          "output_type": "stream",
          "name": "stderr",
          "text": [
            "loss 0.00093 acc 0.99979: 100%|██████████| 297/297 [00:06<00:00, 44.32it/s]\n",
            "val_loss 0.00009 val_acc 1.00000: 100%|██████████| 53/53 [00:01<00:00, 40.90it/s]\n"
          ]
        },
        {
          "output_type": "stream",
          "name": "stdout",
          "text": [
            "Epoch 688/1000 loss 0.00093 val_loss 0.00009 acc 0.99979 val_acc 1.00000\n"
          ]
        },
        {
          "output_type": "stream",
          "name": "stderr",
          "text": [
            "loss 0.00002 acc 1.00000: 100%|██████████| 297/297 [00:05<00:00, 49.78it/s]\n",
            "val_loss 0.00006 val_acc 1.00000: 100%|██████████| 53/53 [00:01<00:00, 45.99it/s]\n"
          ]
        },
        {
          "output_type": "stream",
          "name": "stdout",
          "text": [
            "Epoch 689/1000 loss 0.00002 val_loss 0.00006 acc 1.00000 val_acc 1.00000\n"
          ]
        },
        {
          "output_type": "stream",
          "name": "stderr",
          "text": [
            "loss 0.00002 acc 1.00000: 100%|██████████| 297/297 [00:06<00:00, 47.68it/s]\n",
            "val_loss 0.00012 val_acc 1.00000: 100%|██████████| 53/53 [00:01<00:00, 37.98it/s]\n"
          ]
        },
        {
          "output_type": "stream",
          "name": "stdout",
          "text": [
            "Epoch 690/1000 loss 0.00002 val_loss 0.00012 acc 1.00000 val_acc 1.00000\n"
          ]
        },
        {
          "output_type": "stream",
          "name": "stderr",
          "text": [
            "loss 0.00003 acc 1.00000: 100%|██████████| 297/297 [00:06<00:00, 44.28it/s]\n",
            "val_loss 0.00005 val_acc 1.00000: 100%|██████████| 53/53 [00:01<00:00, 36.82it/s]\n"
          ]
        },
        {
          "output_type": "stream",
          "name": "stdout",
          "text": [
            "Epoch 691/1000 loss 0.00003 val_loss 0.00005 acc 1.00000 val_acc 1.00000\n"
          ]
        },
        {
          "output_type": "stream",
          "name": "stderr",
          "text": [
            "loss 0.00002 acc 1.00000: 100%|██████████| 297/297 [00:06<00:00, 48.86it/s]\n",
            "val_loss 0.00013 val_acc 1.00000: 100%|██████████| 53/53 [00:01<00:00, 33.86it/s]\n"
          ]
        },
        {
          "output_type": "stream",
          "name": "stdout",
          "text": [
            "Epoch 692/1000 loss 0.00002 val_loss 0.00013 acc 1.00000 val_acc 1.00000\n"
          ]
        },
        {
          "output_type": "stream",
          "name": "stderr",
          "text": [
            "loss 0.00007 acc 1.00000: 100%|██████████| 297/297 [00:06<00:00, 46.47it/s]\n",
            "val_loss 0.00003 val_acc 1.00000: 100%|██████████| 53/53 [00:01<00:00, 33.54it/s]\n"
          ]
        },
        {
          "output_type": "stream",
          "name": "stdout",
          "text": [
            "Epoch 693/1000 loss 0.00007 val_loss 0.00003 acc 1.00000 val_acc 1.00000\n"
          ]
        },
        {
          "output_type": "stream",
          "name": "stderr",
          "text": [
            "loss 0.00007 acc 1.00000: 100%|██████████| 297/297 [00:06<00:00, 45.96it/s]\n",
            "val_loss 0.00001 val_acc 1.00000: 100%|██████████| 53/53 [00:01<00:00, 38.89it/s]\n"
          ]
        },
        {
          "output_type": "stream",
          "name": "stdout",
          "text": [
            "Epoch 694/1000 loss 0.00007 val_loss 0.00001 acc 1.00000 val_acc 1.00000\n"
          ]
        },
        {
          "output_type": "stream",
          "name": "stderr",
          "text": [
            "loss 0.00001 acc 1.00000: 100%|██████████| 297/297 [00:06<00:00, 48.33it/s]\n",
            "val_loss 0.00006 val_acc 1.00000: 100%|██████████| 53/53 [00:01<00:00, 38.09it/s]\n"
          ]
        },
        {
          "output_type": "stream",
          "name": "stdout",
          "text": [
            "Epoch 695/1000 loss 0.00001 val_loss 0.00006 acc 1.00000 val_acc 1.00000\n"
          ]
        },
        {
          "output_type": "stream",
          "name": "stderr",
          "text": [
            "loss 0.00004 acc 1.00000: 100%|██████████| 297/297 [00:06<00:00, 45.87it/s]\n",
            "val_loss 0.00001 val_acc 1.00000: 100%|██████████| 53/53 [00:01<00:00, 36.72it/s]\n"
          ]
        },
        {
          "output_type": "stream",
          "name": "stdout",
          "text": [
            "Epoch 696/1000 loss 0.00004 val_loss 0.00001 acc 1.00000 val_acc 1.00000\n"
          ]
        },
        {
          "output_type": "stream",
          "name": "stderr",
          "text": [
            "loss 0.00001 acc 1.00000: 100%|██████████| 297/297 [00:06<00:00, 45.00it/s]\n",
            "val_loss 0.00002 val_acc 1.00000: 100%|██████████| 53/53 [00:01<00:00, 40.44it/s]\n"
          ]
        },
        {
          "output_type": "stream",
          "name": "stdout",
          "text": [
            "Epoch 697/1000 loss 0.00001 val_loss 0.00002 acc 1.00000 val_acc 1.00000\n"
          ]
        },
        {
          "output_type": "stream",
          "name": "stderr",
          "text": [
            "loss 0.00001 acc 1.00000: 100%|██████████| 297/297 [00:05<00:00, 50.53it/s]\n",
            "val_loss 0.00002 val_acc 1.00000: 100%|██████████| 53/53 [00:01<00:00, 38.21it/s]\n"
          ]
        },
        {
          "output_type": "stream",
          "name": "stdout",
          "text": [
            "Epoch 698/1000 loss 0.00001 val_loss 0.00002 acc 1.00000 val_acc 1.00000\n"
          ]
        },
        {
          "output_type": "stream",
          "name": "stderr",
          "text": [
            "loss 0.00000 acc 1.00000: 100%|██████████| 297/297 [00:06<00:00, 45.44it/s]\n",
            "val_loss 0.00007 val_acc 1.00000: 100%|██████████| 53/53 [00:01<00:00, 38.10it/s]\n"
          ]
        },
        {
          "output_type": "stream",
          "name": "stdout",
          "text": [
            "Epoch 699/1000 loss 0.00000 val_loss 0.00007 acc 1.00000 val_acc 1.00000\n"
          ]
        },
        {
          "output_type": "stream",
          "name": "stderr",
          "text": [
            "loss 0.00001 acc 1.00000: 100%|██████████| 297/297 [00:06<00:00, 46.54it/s]\n",
            "val_loss 0.00013 val_acc 1.00000: 100%|██████████| 53/53 [00:01<00:00, 39.94it/s]\n"
          ]
        },
        {
          "output_type": "stream",
          "name": "stdout",
          "text": [
            "Epoch 700/1000 loss 0.00001 val_loss 0.00013 acc 1.00000 val_acc 1.00000\n",
            "Checkpoint guardado en /content/drive/MyDrive/SIS421 prueba dataset 1 test/Checkpoints/checkpoint.pth (Epoch 700)\n"
          ]
        },
        {
          "output_type": "stream",
          "name": "stderr",
          "text": [
            "loss 0.00003 acc 1.00000: 100%|██████████| 297/297 [00:05<00:00, 50.62it/s]\n",
            "val_loss 0.00007 val_acc 1.00000: 100%|██████████| 53/53 [00:01<00:00, 37.19it/s]\n"
          ]
        },
        {
          "output_type": "stream",
          "name": "stdout",
          "text": [
            "Epoch 701/1000 loss 0.00003 val_loss 0.00007 acc 1.00000 val_acc 1.00000\n"
          ]
        },
        {
          "output_type": "stream",
          "name": "stderr",
          "text": [
            "loss 0.00002 acc 1.00000: 100%|██████████| 297/297 [00:06<00:00, 44.57it/s]\n",
            "val_loss 0.00013 val_acc 1.00000: 100%|██████████| 53/53 [00:01<00:00, 39.95it/s]\n"
          ]
        },
        {
          "output_type": "stream",
          "name": "stdout",
          "text": [
            "Epoch 702/1000 loss 0.00002 val_loss 0.00013 acc 1.00000 val_acc 1.00000\n"
          ]
        },
        {
          "output_type": "stream",
          "name": "stderr",
          "text": [
            "loss 0.00078 acc 0.99989: 100%|██████████| 297/297 [00:06<00:00, 46.68it/s]\n",
            "val_loss 0.00107 val_acc 0.99941: 100%|██████████| 53/53 [00:01<00:00, 40.00it/s]\n"
          ]
        },
        {
          "output_type": "stream",
          "name": "stdout",
          "text": [
            "Epoch 703/1000 loss 0.00078 val_loss 0.00107 acc 0.99989 val_acc 0.99941\n"
          ]
        },
        {
          "output_type": "stream",
          "name": "stderr",
          "text": [
            "loss 0.00028 acc 0.99989: 100%|██████████| 297/297 [00:06<00:00, 48.72it/s]\n",
            "val_loss 0.00015 val_acc 1.00000: 100%|██████████| 53/53 [00:01<00:00, 32.43it/s]\n"
          ]
        },
        {
          "output_type": "stream",
          "name": "stdout",
          "text": [
            "Epoch 704/1000 loss 0.00028 val_loss 0.00015 acc 0.99989 val_acc 1.00000\n"
          ]
        },
        {
          "output_type": "stream",
          "name": "stderr",
          "text": [
            "loss 0.00057 acc 0.99989: 100%|██████████| 297/297 [00:06<00:00, 43.95it/s]\n",
            "val_loss 0.00003 val_acc 1.00000: 100%|██████████| 53/53 [00:01<00:00, 35.22it/s]\n"
          ]
        },
        {
          "output_type": "stream",
          "name": "stdout",
          "text": [
            "Epoch 705/1000 loss 0.00057 val_loss 0.00003 acc 0.99989 val_acc 1.00000\n"
          ]
        },
        {
          "output_type": "stream",
          "name": "stderr",
          "text": [
            "loss 0.00008 acc 1.00000: 100%|██████████| 297/297 [00:06<00:00, 49.20it/s]\n",
            "val_loss 0.00007 val_acc 1.00000: 100%|██████████| 53/53 [00:01<00:00, 39.88it/s]\n"
          ]
        },
        {
          "output_type": "stream",
          "name": "stdout",
          "text": [
            "Epoch 706/1000 loss 0.00008 val_loss 0.00007 acc 1.00000 val_acc 1.00000\n"
          ]
        },
        {
          "output_type": "stream",
          "name": "stderr",
          "text": [
            "loss 0.00012 acc 0.99989: 100%|██████████| 297/297 [00:06<00:00, 49.20it/s]\n",
            "val_loss 0.00041 val_acc 1.00000: 100%|██████████| 53/53 [00:01<00:00, 34.64it/s]\n"
          ]
        },
        {
          "output_type": "stream",
          "name": "stdout",
          "text": [
            "Epoch 707/1000 loss 0.00012 val_loss 0.00041 acc 0.99989 val_acc 1.00000\n"
          ]
        },
        {
          "output_type": "stream",
          "name": "stderr",
          "text": [
            "loss 0.00019 acc 0.99989: 100%|██████████| 297/297 [00:06<00:00, 43.95it/s]\n",
            "val_loss 0.00104 val_acc 0.99941: 100%|██████████| 53/53 [00:01<00:00, 34.68it/s]\n"
          ]
        },
        {
          "output_type": "stream",
          "name": "stdout",
          "text": [
            "Epoch 708/1000 loss 0.00019 val_loss 0.00104 acc 0.99989 val_acc 0.99941\n"
          ]
        },
        {
          "output_type": "stream",
          "name": "stderr",
          "text": [
            "loss 0.00114 acc 0.99979: 100%|██████████| 297/297 [00:05<00:00, 49.94it/s]\n",
            "val_loss 0.00126 val_acc 0.99882: 100%|██████████| 53/53 [00:01<00:00, 41.81it/s]\n"
          ]
        },
        {
          "output_type": "stream",
          "name": "stdout",
          "text": [
            "Epoch 709/1000 loss 0.00114 val_loss 0.00126 acc 0.99979 val_acc 0.99882\n"
          ]
        },
        {
          "output_type": "stream",
          "name": "stderr",
          "text": [
            "loss 0.00043 acc 0.99989: 100%|██████████| 297/297 [00:06<00:00, 48.06it/s]\n",
            "val_loss 0.00052 val_acc 1.00000: 100%|██████████| 53/53 [00:01<00:00, 37.98it/s]\n"
          ]
        },
        {
          "output_type": "stream",
          "name": "stdout",
          "text": [
            "Epoch 710/1000 loss 0.00043 val_loss 0.00052 acc 0.99989 val_acc 1.00000\n"
          ]
        },
        {
          "output_type": "stream",
          "name": "stderr",
          "text": [
            "loss 0.00007 acc 1.00000: 100%|██████████| 297/297 [00:06<00:00, 43.76it/s]\n",
            "val_loss 0.00059 val_acc 0.99941: 100%|██████████| 53/53 [00:01<00:00, 41.04it/s]\n"
          ]
        },
        {
          "output_type": "stream",
          "name": "stdout",
          "text": [
            "Epoch 711/1000 loss 0.00007 val_loss 0.00059 acc 1.00000 val_acc 0.99941\n"
          ]
        },
        {
          "output_type": "stream",
          "name": "stderr",
          "text": [
            "loss 0.00039 acc 0.99979: 100%|██████████| 297/297 [00:05<00:00, 49.66it/s]\n",
            "val_loss 0.01792 val_acc 0.99575: 100%|██████████| 53/53 [00:01<00:00, 40.15it/s]\n"
          ]
        },
        {
          "output_type": "stream",
          "name": "stdout",
          "text": [
            "Epoch 712/1000 loss 0.00039 val_loss 0.01792 acc 0.99979 val_acc 0.99575\n"
          ]
        },
        {
          "output_type": "stream",
          "name": "stderr",
          "text": [
            "loss 0.00066 acc 0.99958: 100%|██████████| 297/297 [00:06<00:00, 48.22it/s]\n",
            "val_loss 0.00089 val_acc 0.99941: 100%|██████████| 53/53 [00:01<00:00, 38.14it/s]\n"
          ]
        },
        {
          "output_type": "stream",
          "name": "stdout",
          "text": [
            "Epoch 713/1000 loss 0.00066 val_loss 0.00089 acc 0.99958 val_acc 0.99941\n"
          ]
        },
        {
          "output_type": "stream",
          "name": "stderr",
          "text": [
            "loss 0.00113 acc 0.99926: 100%|██████████| 297/297 [00:06<00:00, 43.27it/s]\n",
            "val_loss 0.00017 val_acc 1.00000: 100%|██████████| 53/53 [00:01<00:00, 38.48it/s]\n"
          ]
        },
        {
          "output_type": "stream",
          "name": "stdout",
          "text": [
            "Epoch 714/1000 loss 0.00113 val_loss 0.00017 acc 0.99926 val_acc 1.00000\n"
          ]
        },
        {
          "output_type": "stream",
          "name": "stderr",
          "text": [
            "loss 0.00025 acc 0.99989: 100%|██████████| 297/297 [00:05<00:00, 50.24it/s]\n",
            "val_loss 0.00081 val_acc 0.99941: 100%|██████████| 53/53 [00:01<00:00, 36.51it/s]\n"
          ]
        },
        {
          "output_type": "stream",
          "name": "stdout",
          "text": [
            "Epoch 715/1000 loss 0.00025 val_loss 0.00081 acc 0.99989 val_acc 0.99941\n"
          ]
        },
        {
          "output_type": "stream",
          "name": "stderr",
          "text": [
            "loss 0.00055 acc 0.99979: 100%|██████████| 297/297 [00:06<00:00, 46.38it/s]\n",
            "val_loss 0.00144 val_acc 0.99941: 100%|██████████| 53/53 [00:01<00:00, 33.15it/s]\n"
          ]
        },
        {
          "output_type": "stream",
          "name": "stdout",
          "text": [
            "Epoch 716/1000 loss 0.00055 val_loss 0.00144 acc 0.99979 val_acc 0.99941\n"
          ]
        },
        {
          "output_type": "stream",
          "name": "stderr",
          "text": [
            "loss 0.00003 acc 1.00000: 100%|██████████| 297/297 [00:06<00:00, 46.31it/s]\n",
            "val_loss 0.00081 val_acc 0.99941: 100%|██████████| 53/53 [00:01<00:00, 39.47it/s]\n"
          ]
        },
        {
          "output_type": "stream",
          "name": "stdout",
          "text": [
            "Epoch 717/1000 loss 0.00003 val_loss 0.00081 acc 1.00000 val_acc 0.99941\n"
          ]
        },
        {
          "output_type": "stream",
          "name": "stderr",
          "text": [
            "loss 0.00023 acc 0.99989: 100%|██████████| 297/297 [00:06<00:00, 49.36it/s]\n",
            "val_loss 0.00173 val_acc 0.99941: 100%|██████████| 53/53 [00:01<00:00, 38.94it/s]\n"
          ]
        },
        {
          "output_type": "stream",
          "name": "stdout",
          "text": [
            "Epoch 718/1000 loss 0.00023 val_loss 0.00173 acc 0.99989 val_acc 0.99941\n"
          ]
        },
        {
          "output_type": "stream",
          "name": "stderr",
          "text": [
            "loss 0.00111 acc 0.99979: 100%|██████████| 297/297 [00:06<00:00, 45.34it/s]\n",
            "val_loss 0.00007 val_acc 1.00000: 100%|██████████| 53/53 [00:01<00:00, 37.52it/s]\n"
          ]
        },
        {
          "output_type": "stream",
          "name": "stdout",
          "text": [
            "Epoch 719/1000 loss 0.00111 val_loss 0.00007 acc 0.99979 val_acc 1.00000\n"
          ]
        },
        {
          "output_type": "stream",
          "name": "stderr",
          "text": [
            "loss 0.00040 acc 0.99989: 100%|██████████| 297/297 [00:06<00:00, 48.44it/s]\n",
            "val_loss 0.00017 val_acc 1.00000: 100%|██████████| 53/53 [00:01<00:00, 40.50it/s]\n"
          ]
        },
        {
          "output_type": "stream",
          "name": "stdout",
          "text": [
            "Epoch 720/1000 loss 0.00040 val_loss 0.00017 acc 0.99989 val_acc 1.00000\n",
            "Checkpoint guardado en /content/drive/MyDrive/SIS421 prueba dataset 1 test/Checkpoints/checkpoint.pth (Epoch 720)\n"
          ]
        },
        {
          "output_type": "stream",
          "name": "stderr",
          "text": [
            "loss 0.00004 acc 1.00000: 100%|██████████| 297/297 [00:05<00:00, 50.16it/s]\n",
            "val_loss 0.00022 val_acc 1.00000: 100%|██████████| 53/53 [00:01<00:00, 37.03it/s]\n"
          ]
        },
        {
          "output_type": "stream",
          "name": "stdout",
          "text": [
            "Epoch 721/1000 loss 0.00004 val_loss 0.00022 acc 1.00000 val_acc 1.00000\n"
          ]
        },
        {
          "output_type": "stream",
          "name": "stderr",
          "text": [
            "loss 0.00006 acc 1.00000: 100%|██████████| 297/297 [00:06<00:00, 42.94it/s]\n",
            "val_loss 0.00016 val_acc 1.00000: 100%|██████████| 53/53 [00:01<00:00, 36.66it/s]\n"
          ]
        },
        {
          "output_type": "stream",
          "name": "stdout",
          "text": [
            "Epoch 722/1000 loss 0.00006 val_loss 0.00016 acc 1.00000 val_acc 1.00000\n"
          ]
        },
        {
          "output_type": "stream",
          "name": "stderr",
          "text": [
            "loss 0.00000 acc 1.00000: 100%|██████████| 297/297 [00:05<00:00, 50.65it/s]\n",
            "val_loss 0.00009 val_acc 1.00000: 100%|██████████| 53/53 [00:01<00:00, 41.77it/s]\n"
          ]
        },
        {
          "output_type": "stream",
          "name": "stdout",
          "text": [
            "Epoch 723/1000 loss 0.00000 val_loss 0.00009 acc 1.00000 val_acc 1.00000\n"
          ]
        },
        {
          "output_type": "stream",
          "name": "stderr",
          "text": [
            "loss 0.00000 acc 1.00000: 100%|██████████| 297/297 [00:06<00:00, 48.21it/s]\n",
            "val_loss 0.00017 val_acc 1.00000: 100%|██████████| 53/53 [00:01<00:00, 38.95it/s]\n"
          ]
        },
        {
          "output_type": "stream",
          "name": "stdout",
          "text": [
            "Epoch 724/1000 loss 0.00000 val_loss 0.00017 acc 1.00000 val_acc 1.00000\n"
          ]
        },
        {
          "output_type": "stream",
          "name": "stderr",
          "text": [
            "loss 0.00001 acc 1.00000: 100%|██████████| 297/297 [00:06<00:00, 44.85it/s]\n",
            "val_loss 0.00014 val_acc 1.00000: 100%|██████████| 53/53 [00:01<00:00, 35.14it/s]\n"
          ]
        },
        {
          "output_type": "stream",
          "name": "stdout",
          "text": [
            "Epoch 725/1000 loss 0.00001 val_loss 0.00014 acc 1.00000 val_acc 1.00000\n"
          ]
        },
        {
          "output_type": "stream",
          "name": "stderr",
          "text": [
            "loss 0.00004 acc 1.00000: 100%|██████████| 297/297 [00:06<00:00, 49.48it/s]\n",
            "val_loss 0.00021 val_acc 1.00000: 100%|██████████| 53/53 [00:01<00:00, 39.42it/s]\n"
          ]
        },
        {
          "output_type": "stream",
          "name": "stdout",
          "text": [
            "Epoch 726/1000 loss 0.00004 val_loss 0.00021 acc 1.00000 val_acc 1.00000\n"
          ]
        },
        {
          "output_type": "stream",
          "name": "stderr",
          "text": [
            "loss 0.00003 acc 1.00000: 100%|██████████| 297/297 [00:06<00:00, 45.88it/s]\n",
            "val_loss 0.00008 val_acc 1.00000: 100%|██████████| 53/53 [00:01<00:00, 36.04it/s]\n"
          ]
        },
        {
          "output_type": "stream",
          "name": "stdout",
          "text": [
            "Epoch 727/1000 loss 0.00003 val_loss 0.00008 acc 1.00000 val_acc 1.00000\n"
          ]
        },
        {
          "output_type": "stream",
          "name": "stderr",
          "text": [
            "loss 0.00001 acc 1.00000: 100%|██████████| 297/297 [00:06<00:00, 43.41it/s]\n",
            "val_loss 0.00004 val_acc 1.00000: 100%|██████████| 53/53 [00:01<00:00, 34.50it/s]\n"
          ]
        },
        {
          "output_type": "stream",
          "name": "stdout",
          "text": [
            "Epoch 728/1000 loss 0.00001 val_loss 0.00004 acc 1.00000 val_acc 1.00000\n"
          ]
        },
        {
          "output_type": "stream",
          "name": "stderr",
          "text": [
            "loss 0.00001 acc 1.00000: 100%|██████████| 297/297 [00:06<00:00, 47.11it/s]\n",
            "val_loss 0.00007 val_acc 1.00000: 100%|██████████| 53/53 [00:01<00:00, 42.95it/s]\n"
          ]
        },
        {
          "output_type": "stream",
          "name": "stdout",
          "text": [
            "Epoch 729/1000 loss 0.00001 val_loss 0.00007 acc 1.00000 val_acc 1.00000\n"
          ]
        },
        {
          "output_type": "stream",
          "name": "stderr",
          "text": [
            "loss 0.00002 acc 1.00000: 100%|██████████| 297/297 [00:06<00:00, 44.49it/s]\n",
            "val_loss 0.00010 val_acc 1.00000: 100%|██████████| 53/53 [00:01<00:00, 37.69it/s]\n"
          ]
        },
        {
          "output_type": "stream",
          "name": "stdout",
          "text": [
            "Epoch 730/1000 loss 0.00002 val_loss 0.00010 acc 1.00000 val_acc 1.00000\n"
          ]
        },
        {
          "output_type": "stream",
          "name": "stderr",
          "text": [
            "loss 0.00137 acc 0.99968: 100%|██████████| 297/297 [00:06<00:00, 46.60it/s]\n",
            "val_loss 0.02009 val_acc 0.99575: 100%|██████████| 53/53 [00:01<00:00, 35.91it/s]\n"
          ]
        },
        {
          "output_type": "stream",
          "name": "stdout",
          "text": [
            "Epoch 731/1000 loss 0.00137 val_loss 0.02009 acc 0.99968 val_acc 0.99575\n"
          ]
        },
        {
          "output_type": "stream",
          "name": "stderr",
          "text": [
            "loss 0.00089 acc 0.99989: 100%|██████████| 297/297 [00:05<00:00, 51.66it/s]\n",
            "val_loss 0.00019 val_acc 1.00000: 100%|██████████| 53/53 [00:01<00:00, 39.96it/s]\n"
          ]
        },
        {
          "output_type": "stream",
          "name": "stdout",
          "text": [
            "Epoch 732/1000 loss 0.00089 val_loss 0.00019 acc 0.99989 val_acc 1.00000\n"
          ]
        },
        {
          "output_type": "stream",
          "name": "stderr",
          "text": [
            "loss 0.00223 acc 0.99979: 100%|██████████| 297/297 [00:06<00:00, 43.77it/s]\n",
            "val_loss 0.00007 val_acc 1.00000: 100%|██████████| 53/53 [00:01<00:00, 34.97it/s]\n"
          ]
        },
        {
          "output_type": "stream",
          "name": "stdout",
          "text": [
            "Epoch 733/1000 loss 0.00223 val_loss 0.00007 acc 0.99979 val_acc 1.00000\n"
          ]
        },
        {
          "output_type": "stream",
          "name": "stderr",
          "text": [
            "loss 0.00094 acc 0.99979: 100%|██████████| 297/297 [00:06<00:00, 48.89it/s]\n",
            "val_loss 0.00142 val_acc 0.99941: 100%|██████████| 53/53 [00:01<00:00, 40.41it/s]\n"
          ]
        },
        {
          "output_type": "stream",
          "name": "stdout",
          "text": [
            "Epoch 734/1000 loss 0.00094 val_loss 0.00142 acc 0.99979 val_acc 0.99941\n"
          ]
        },
        {
          "output_type": "stream",
          "name": "stderr",
          "text": [
            "loss 0.00004 acc 1.00000: 100%|██████████| 297/297 [00:06<00:00, 48.67it/s]\n",
            "val_loss 0.00093 val_acc 0.99941: 100%|██████████| 53/53 [00:01<00:00, 34.85it/s]\n"
          ]
        },
        {
          "output_type": "stream",
          "name": "stdout",
          "text": [
            "Epoch 735/1000 loss 0.00004 val_loss 0.00093 acc 1.00000 val_acc 0.99941\n"
          ]
        },
        {
          "output_type": "stream",
          "name": "stderr",
          "text": [
            "loss 0.00032 acc 0.99989: 100%|██████████| 297/297 [00:06<00:00, 45.75it/s]\n",
            "val_loss 0.00218 val_acc 0.99882: 100%|██████████| 53/53 [00:01<00:00, 34.64it/s]\n"
          ]
        },
        {
          "output_type": "stream",
          "name": "stdout",
          "text": [
            "Epoch 736/1000 loss 0.00032 val_loss 0.00218 acc 0.99989 val_acc 0.99882\n"
          ]
        },
        {
          "output_type": "stream",
          "name": "stderr",
          "text": [
            "loss 0.00007 acc 1.00000: 100%|██████████| 297/297 [00:06<00:00, 48.69it/s]\n",
            "val_loss 0.00164 val_acc 0.99882: 100%|██████████| 53/53 [00:01<00:00, 35.81it/s]\n"
          ]
        },
        {
          "output_type": "stream",
          "name": "stdout",
          "text": [
            "Epoch 737/1000 loss 0.00007 val_loss 0.00164 acc 1.00000 val_acc 0.99882\n"
          ]
        },
        {
          "output_type": "stream",
          "name": "stderr",
          "text": [
            "loss 0.00419 acc 0.99895: 100%|██████████| 297/297 [00:06<00:00, 47.52it/s]\n",
            "val_loss 0.00545 val_acc 0.99882: 100%|██████████| 53/53 [00:01<00:00, 34.98it/s]\n"
          ]
        },
        {
          "output_type": "stream",
          "name": "stdout",
          "text": [
            "Epoch 738/1000 loss 0.00419 val_loss 0.00545 acc 0.99895 val_acc 0.99882\n"
          ]
        },
        {
          "output_type": "stream",
          "name": "stderr",
          "text": [
            "loss 0.00040 acc 0.99979: 100%|██████████| 297/297 [00:06<00:00, 45.12it/s]\n",
            "val_loss 0.00096 val_acc 0.99941: 100%|██████████| 53/53 [00:01<00:00, 36.73it/s]\n"
          ]
        },
        {
          "output_type": "stream",
          "name": "stdout",
          "text": [
            "Epoch 739/1000 loss 0.00040 val_loss 0.00096 acc 0.99979 val_acc 0.99941\n"
          ]
        },
        {
          "output_type": "stream",
          "name": "stderr",
          "text": [
            "loss 0.00133 acc 0.99958: 100%|██████████| 297/297 [00:05<00:00, 52.05it/s]\n",
            "val_loss 0.00697 val_acc 0.99882: 100%|██████████| 53/53 [00:01<00:00, 40.85it/s]\n"
          ]
        },
        {
          "output_type": "stream",
          "name": "stdout",
          "text": [
            "Epoch 740/1000 loss 0.00133 val_loss 0.00697 acc 0.99958 val_acc 0.99882\n",
            "Checkpoint guardado en /content/drive/MyDrive/SIS421 prueba dataset 1 test/Checkpoints/checkpoint.pth (Epoch 740)\n"
          ]
        },
        {
          "output_type": "stream",
          "name": "stderr",
          "text": [
            "loss 0.00109 acc 0.99979: 100%|██████████| 297/297 [00:06<00:00, 48.56it/s]\n",
            "val_loss 0.00080 val_acc 0.99941: 100%|██████████| 53/53 [00:01<00:00, 38.80it/s]\n"
          ]
        },
        {
          "output_type": "stream",
          "name": "stdout",
          "text": [
            "Epoch 741/1000 loss 0.00109 val_loss 0.00080 acc 0.99979 val_acc 0.99941\n"
          ]
        },
        {
          "output_type": "stream",
          "name": "stderr",
          "text": [
            "loss 0.00187 acc 0.99958: 100%|██████████| 297/297 [00:06<00:00, 46.03it/s]\n",
            "val_loss 0.00017 val_acc 1.00000: 100%|██████████| 53/53 [00:01<00:00, 33.50it/s]\n"
          ]
        },
        {
          "output_type": "stream",
          "name": "stdout",
          "text": [
            "Epoch 742/1000 loss 0.00187 val_loss 0.00017 acc 0.99958 val_acc 1.00000\n"
          ]
        },
        {
          "output_type": "stream",
          "name": "stderr",
          "text": [
            "loss 0.00064 acc 0.99968: 100%|██████████| 297/297 [00:06<00:00, 47.82it/s]\n",
            "val_loss 0.00019 val_acc 1.00000: 100%|██████████| 53/53 [00:01<00:00, 39.20it/s]\n"
          ]
        },
        {
          "output_type": "stream",
          "name": "stdout",
          "text": [
            "Epoch 743/1000 loss 0.00064 val_loss 0.00019 acc 0.99968 val_acc 1.00000\n"
          ]
        },
        {
          "output_type": "stream",
          "name": "stderr",
          "text": [
            "loss 0.00045 acc 0.99989: 100%|██████████| 297/297 [00:06<00:00, 47.83it/s]\n",
            "val_loss 0.01106 val_acc 0.99752: 100%|██████████| 53/53 [00:01<00:00, 35.77it/s]\n"
          ]
        },
        {
          "output_type": "stream",
          "name": "stdout",
          "text": [
            "Epoch 744/1000 loss 0.00045 val_loss 0.01106 acc 0.99989 val_acc 0.99752\n"
          ]
        },
        {
          "output_type": "stream",
          "name": "stderr",
          "text": [
            "loss 0.00120 acc 0.99958: 100%|██████████| 297/297 [00:06<00:00, 44.72it/s]\n",
            "val_loss 0.00567 val_acc 0.99752: 100%|██████████| 53/53 [00:01<00:00, 36.84it/s]\n"
          ]
        },
        {
          "output_type": "stream",
          "name": "stdout",
          "text": [
            "Epoch 745/1000 loss 0.00120 val_loss 0.00567 acc 0.99958 val_acc 0.99752\n"
          ]
        },
        {
          "output_type": "stream",
          "name": "stderr",
          "text": [
            "loss 0.00012 acc 0.99989: 100%|██████████| 297/297 [00:06<00:00, 48.28it/s]\n",
            "val_loss 0.00094 val_acc 0.99941: 100%|██████████| 53/53 [00:01<00:00, 40.25it/s]\n"
          ]
        },
        {
          "output_type": "stream",
          "name": "stdout",
          "text": [
            "Epoch 746/1000 loss 0.00012 val_loss 0.00094 acc 0.99989 val_acc 0.99941\n"
          ]
        },
        {
          "output_type": "stream",
          "name": "stderr",
          "text": [
            "loss 0.00067 acc 0.99968: 100%|██████████| 297/297 [00:06<00:00, 47.34it/s]\n",
            "val_loss 0.00377 val_acc 0.99811: 100%|██████████| 53/53 [00:01<00:00, 34.32it/s]\n"
          ]
        },
        {
          "output_type": "stream",
          "name": "stdout",
          "text": [
            "Epoch 747/1000 loss 0.00067 val_loss 0.00377 acc 0.99968 val_acc 0.99811\n"
          ]
        },
        {
          "output_type": "stream",
          "name": "stderr",
          "text": [
            "loss 0.00017 acc 0.99989: 100%|██████████| 297/297 [00:06<00:00, 45.14it/s]\n",
            "val_loss 0.00729 val_acc 0.99752: 100%|██████████| 53/53 [00:01<00:00, 36.85it/s]\n"
          ]
        },
        {
          "output_type": "stream",
          "name": "stdout",
          "text": [
            "Epoch 748/1000 loss 0.00017 val_loss 0.00729 acc 0.99989 val_acc 0.99752\n"
          ]
        },
        {
          "output_type": "stream",
          "name": "stderr",
          "text": [
            "loss 0.00007 acc 1.00000: 100%|██████████| 297/297 [00:05<00:00, 53.11it/s]\n",
            "val_loss 0.00317 val_acc 0.99941: 100%|██████████| 53/53 [00:01<00:00, 39.91it/s]\n"
          ]
        },
        {
          "output_type": "stream",
          "name": "stdout",
          "text": [
            "Epoch 749/1000 loss 0.00007 val_loss 0.00317 acc 1.00000 val_acc 0.99941\n"
          ]
        },
        {
          "output_type": "stream",
          "name": "stderr",
          "text": [
            "loss 0.00000 acc 1.00000: 100%|██████████| 297/297 [00:06<00:00, 45.27it/s]\n",
            "val_loss 0.00319 val_acc 0.99811: 100%|██████████| 53/53 [00:01<00:00, 34.75it/s]\n"
          ]
        },
        {
          "output_type": "stream",
          "name": "stdout",
          "text": [
            "Epoch 750/1000 loss 0.00000 val_loss 0.00319 acc 1.00000 val_acc 0.99811\n"
          ]
        },
        {
          "output_type": "stream",
          "name": "stderr",
          "text": [
            "loss 0.00010 acc 0.99989: 100%|██████████| 297/297 [00:06<00:00, 43.00it/s]\n",
            "val_loss 0.00174 val_acc 0.99941: 100%|██████████| 53/53 [00:01<00:00, 37.68it/s]\n"
          ]
        },
        {
          "output_type": "stream",
          "name": "stdout",
          "text": [
            "Epoch 751/1000 loss 0.00010 val_loss 0.00174 acc 0.99989 val_acc 0.99941\n"
          ]
        },
        {
          "output_type": "stream",
          "name": "stderr",
          "text": [
            "loss 0.00044 acc 0.99968: 100%|██████████| 297/297 [00:06<00:00, 47.62it/s]\n",
            "val_loss 0.00060 val_acc 1.00000: 100%|██████████| 53/53 [00:01<00:00, 39.42it/s]\n"
          ]
        },
        {
          "output_type": "stream",
          "name": "stdout",
          "text": [
            "Epoch 752/1000 loss 0.00044 val_loss 0.00060 acc 0.99968 val_acc 1.00000\n"
          ]
        },
        {
          "output_type": "stream",
          "name": "stderr",
          "text": [
            "loss 0.00175 acc 0.99958: 100%|██████████| 297/297 [00:06<00:00, 47.15it/s]\n",
            "val_loss 0.00101 val_acc 0.99941: 100%|██████████| 53/53 [00:01<00:00, 38.08it/s]\n"
          ]
        },
        {
          "output_type": "stream",
          "name": "stdout",
          "text": [
            "Epoch 753/1000 loss 0.00175 val_loss 0.00101 acc 0.99958 val_acc 0.99941\n"
          ]
        },
        {
          "output_type": "stream",
          "name": "stderr",
          "text": [
            "loss 0.00121 acc 0.99979: 100%|██████████| 297/297 [00:06<00:00, 45.39it/s]\n",
            "val_loss 0.08309 val_acc 0.98927: 100%|██████████| 53/53 [00:01<00:00, 38.38it/s]\n"
          ]
        },
        {
          "output_type": "stream",
          "name": "stdout",
          "text": [
            "Epoch 754/1000 loss 0.00121 val_loss 0.08309 acc 0.99979 val_acc 0.98927\n"
          ]
        },
        {
          "output_type": "stream",
          "name": "stderr",
          "text": [
            "loss 0.00043 acc 0.99989: 100%|██████████| 297/297 [00:05<00:00, 49.84it/s]\n",
            "val_loss 0.00019 val_acc 1.00000: 100%|██████████| 53/53 [00:01<00:00, 41.19it/s]\n"
          ]
        },
        {
          "output_type": "stream",
          "name": "stdout",
          "text": [
            "Epoch 755/1000 loss 0.00043 val_loss 0.00019 acc 0.99989 val_acc 1.00000\n"
          ]
        },
        {
          "output_type": "stream",
          "name": "stderr",
          "text": [
            "loss 0.00004 acc 1.00000: 100%|██████████| 297/297 [00:06<00:00, 44.44it/s]\n",
            "val_loss 0.00091 val_acc 1.00000: 100%|██████████| 53/53 [00:01<00:00, 36.15it/s]\n"
          ]
        },
        {
          "output_type": "stream",
          "name": "stdout",
          "text": [
            "Epoch 756/1000 loss 0.00004 val_loss 0.00091 acc 1.00000 val_acc 1.00000\n"
          ]
        },
        {
          "output_type": "stream",
          "name": "stderr",
          "text": [
            "loss 0.00001 acc 1.00000: 100%|██████████| 297/297 [00:06<00:00, 45.06it/s]\n",
            "val_loss 0.00020 val_acc 1.00000: 100%|██████████| 53/53 [00:01<00:00, 38.40it/s]\n"
          ]
        },
        {
          "output_type": "stream",
          "name": "stdout",
          "text": [
            "Epoch 757/1000 loss 0.00001 val_loss 0.00020 acc 1.00000 val_acc 1.00000\n"
          ]
        },
        {
          "output_type": "stream",
          "name": "stderr",
          "text": [
            "loss 0.00044 acc 0.99968: 100%|██████████| 297/297 [00:06<00:00, 49.18it/s]\n",
            "val_loss 0.00282 val_acc 0.99752: 100%|██████████| 53/53 [00:01<00:00, 37.45it/s]\n"
          ]
        },
        {
          "output_type": "stream",
          "name": "stdout",
          "text": [
            "Epoch 758/1000 loss 0.00044 val_loss 0.00282 acc 0.99968 val_acc 0.99752\n"
          ]
        },
        {
          "output_type": "stream",
          "name": "stderr",
          "text": [
            "loss 0.00057 acc 0.99979: 100%|██████████| 297/297 [00:06<00:00, 44.57it/s]\n",
            "val_loss 0.00149 val_acc 1.00000: 100%|██████████| 53/53 [00:01<00:00, 36.34it/s]\n"
          ]
        },
        {
          "output_type": "stream",
          "name": "stdout",
          "text": [
            "Epoch 759/1000 loss 0.00057 val_loss 0.00149 acc 0.99979 val_acc 1.00000\n"
          ]
        },
        {
          "output_type": "stream",
          "name": "stderr",
          "text": [
            "loss 0.00003 acc 1.00000: 100%|██████████| 297/297 [00:06<00:00, 45.10it/s]\n",
            "val_loss 0.00395 val_acc 0.99811: 100%|██████████| 53/53 [00:01<00:00, 38.60it/s]\n"
          ]
        },
        {
          "output_type": "stream",
          "name": "stdout",
          "text": [
            "Epoch 760/1000 loss 0.00003 val_loss 0.00395 acc 1.00000 val_acc 0.99811\n",
            "Checkpoint guardado en /content/drive/MyDrive/SIS421 prueba dataset 1 test/Checkpoints/checkpoint.pth (Epoch 760)\n"
          ]
        },
        {
          "output_type": "stream",
          "name": "stderr",
          "text": [
            "loss 0.00008 acc 1.00000: 100%|██████████| 297/297 [00:05<00:00, 51.98it/s]\n",
            "val_loss 0.00094 val_acc 1.00000: 100%|██████████| 53/53 [00:01<00:00, 36.98it/s]\n"
          ]
        },
        {
          "output_type": "stream",
          "name": "stdout",
          "text": [
            "Epoch 761/1000 loss 0.00008 val_loss 0.00094 acc 1.00000 val_acc 1.00000\n"
          ]
        },
        {
          "output_type": "stream",
          "name": "stderr",
          "text": [
            "loss 0.00116 acc 0.99958: 100%|██████████| 297/297 [00:06<00:00, 45.48it/s]\n",
            "val_loss 0.00863 val_acc 0.99752: 100%|██████████| 53/53 [00:01<00:00, 36.51it/s]\n"
          ]
        },
        {
          "output_type": "stream",
          "name": "stdout",
          "text": [
            "Epoch 762/1000 loss 0.00116 val_loss 0.00863 acc 0.99958 val_acc 0.99752\n"
          ]
        },
        {
          "output_type": "stream",
          "name": "stderr",
          "text": [
            "loss 0.00016 acc 0.99989: 100%|██████████| 297/297 [00:06<00:00, 49.16it/s]\n",
            "val_loss 0.00459 val_acc 0.99752: 100%|██████████| 53/53 [00:01<00:00, 40.46it/s]\n"
          ]
        },
        {
          "output_type": "stream",
          "name": "stdout",
          "text": [
            "Epoch 763/1000 loss 0.00016 val_loss 0.00459 acc 0.99989 val_acc 0.99752\n"
          ]
        },
        {
          "output_type": "stream",
          "name": "stderr",
          "text": [
            "loss 0.00002 acc 1.00000: 100%|██████████| 297/297 [00:06<00:00, 49.49it/s]\n",
            "val_loss 0.00539 val_acc 0.99752: 100%|██████████| 53/53 [00:01<00:00, 36.71it/s]\n"
          ]
        },
        {
          "output_type": "stream",
          "name": "stdout",
          "text": [
            "Epoch 764/1000 loss 0.00002 val_loss 0.00539 acc 1.00000 val_acc 0.99752\n"
          ]
        },
        {
          "output_type": "stream",
          "name": "stderr",
          "text": [
            "loss 0.00016 acc 1.00000: 100%|██████████| 297/297 [00:06<00:00, 45.19it/s]\n",
            "val_loss 0.00068 val_acc 1.00000: 100%|██████████| 53/53 [00:01<00:00, 38.04it/s]\n"
          ]
        },
        {
          "output_type": "stream",
          "name": "stdout",
          "text": [
            "Epoch 765/1000 loss 0.00016 val_loss 0.00068 acc 1.00000 val_acc 1.00000\n"
          ]
        },
        {
          "output_type": "stream",
          "name": "stderr",
          "text": [
            "loss 0.00000 acc 1.00000: 100%|██████████| 297/297 [00:06<00:00, 47.18it/s]\n",
            "val_loss 0.00144 val_acc 1.00000: 100%|██████████| 53/53 [00:01<00:00, 38.40it/s]\n"
          ]
        },
        {
          "output_type": "stream",
          "name": "stdout",
          "text": [
            "Epoch 766/1000 loss 0.00000 val_loss 0.00144 acc 1.00000 val_acc 1.00000\n"
          ]
        },
        {
          "output_type": "stream",
          "name": "stderr",
          "text": [
            "loss 0.00119 acc 0.99979: 100%|██████████| 297/297 [00:06<00:00, 48.32it/s]\n",
            "val_loss 0.00241 val_acc 0.99882: 100%|██████████| 53/53 [00:01<00:00, 37.03it/s]\n"
          ]
        },
        {
          "output_type": "stream",
          "name": "stdout",
          "text": [
            "Epoch 767/1000 loss 0.00119 val_loss 0.00241 acc 0.99979 val_acc 0.99882\n"
          ]
        },
        {
          "output_type": "stream",
          "name": "stderr",
          "text": [
            "loss 0.00001 acc 1.00000: 100%|██████████| 297/297 [00:06<00:00, 44.19it/s]\n",
            "val_loss 0.00197 val_acc 0.99882: 100%|██████████| 53/53 [00:01<00:00, 34.44it/s]\n"
          ]
        },
        {
          "output_type": "stream",
          "name": "stdout",
          "text": [
            "Epoch 768/1000 loss 0.00001 val_loss 0.00197 acc 1.00000 val_acc 0.99882\n"
          ]
        },
        {
          "output_type": "stream",
          "name": "stderr",
          "text": [
            "loss 0.00011 acc 1.00000: 100%|██████████| 297/297 [00:06<00:00, 48.21it/s]\n",
            "val_loss 0.00202 val_acc 0.99882: 100%|██████████| 53/53 [00:01<00:00, 37.90it/s]\n"
          ]
        },
        {
          "output_type": "stream",
          "name": "stdout",
          "text": [
            "Epoch 769/1000 loss 0.00011 val_loss 0.00202 acc 1.00000 val_acc 0.99882\n"
          ]
        },
        {
          "output_type": "stream",
          "name": "stderr",
          "text": [
            "loss 0.00041 acc 0.99961: 100%|██████████| 297/297 [00:06<00:00, 49.16it/s]\n",
            "val_loss 0.00031 val_acc 1.00000: 100%|██████████| 53/53 [00:01<00:00, 36.06it/s]\n"
          ]
        },
        {
          "output_type": "stream",
          "name": "stdout",
          "text": [
            "Epoch 770/1000 loss 0.00041 val_loss 0.00031 acc 0.99961 val_acc 1.00000\n"
          ]
        },
        {
          "output_type": "stream",
          "name": "stderr",
          "text": [
            "loss 0.00010 acc 1.00000: 100%|██████████| 297/297 [00:06<00:00, 45.06it/s]\n",
            "val_loss 0.00013 val_acc 1.00000: 100%|██████████| 53/53 [00:01<00:00, 37.00it/s]\n"
          ]
        },
        {
          "output_type": "stream",
          "name": "stdout",
          "text": [
            "Epoch 771/1000 loss 0.00010 val_loss 0.00013 acc 1.00000 val_acc 1.00000\n"
          ]
        },
        {
          "output_type": "stream",
          "name": "stderr",
          "text": [
            "loss 0.00006 acc 1.00000: 100%|██████████| 297/297 [00:05<00:00, 50.02it/s]\n",
            "val_loss 0.00002 val_acc 1.00000: 100%|██████████| 53/53 [00:01<00:00, 39.64it/s]\n"
          ]
        },
        {
          "output_type": "stream",
          "name": "stdout",
          "text": [
            "Epoch 772/1000 loss 0.00006 val_loss 0.00002 acc 1.00000 val_acc 1.00000\n"
          ]
        },
        {
          "output_type": "stream",
          "name": "stderr",
          "text": [
            "loss 0.00156 acc 0.99979: 100%|██████████| 297/297 [00:06<00:00, 45.16it/s]\n",
            "val_loss 0.00006 val_acc 1.00000: 100%|██████████| 53/53 [00:01<00:00, 35.40it/s]\n"
          ]
        },
        {
          "output_type": "stream",
          "name": "stdout",
          "text": [
            "Epoch 773/1000 loss 0.00156 val_loss 0.00006 acc 0.99979 val_acc 1.00000\n"
          ]
        },
        {
          "output_type": "stream",
          "name": "stderr",
          "text": [
            "loss 0.00005 acc 1.00000: 100%|██████████| 297/297 [00:06<00:00, 45.94it/s]\n",
            "val_loss 0.00006 val_acc 1.00000: 100%|██████████| 53/53 [00:01<00:00, 41.22it/s]\n"
          ]
        },
        {
          "output_type": "stream",
          "name": "stdout",
          "text": [
            "Epoch 774/1000 loss 0.00005 val_loss 0.00006 acc 1.00000 val_acc 1.00000\n"
          ]
        },
        {
          "output_type": "stream",
          "name": "stderr",
          "text": [
            "loss 0.00011 acc 0.99989: 100%|██████████| 297/297 [00:06<00:00, 48.53it/s]\n",
            "val_loss 0.00018 val_acc 1.00000: 100%|██████████| 53/53 [00:01<00:00, 35.40it/s]\n"
          ]
        },
        {
          "output_type": "stream",
          "name": "stdout",
          "text": [
            "Epoch 775/1000 loss 0.00011 val_loss 0.00018 acc 0.99989 val_acc 1.00000\n"
          ]
        },
        {
          "output_type": "stream",
          "name": "stderr",
          "text": [
            "loss 0.00002 acc 1.00000: 100%|██████████| 297/297 [00:06<00:00, 47.50it/s]\n",
            "val_loss 0.00009 val_acc 1.00000: 100%|██████████| 53/53 [00:01<00:00, 34.62it/s]\n"
          ]
        },
        {
          "output_type": "stream",
          "name": "stdout",
          "text": [
            "Epoch 776/1000 loss 0.00002 val_loss 0.00009 acc 1.00000 val_acc 1.00000\n"
          ]
        },
        {
          "output_type": "stream",
          "name": "stderr",
          "text": [
            "loss 0.00020 acc 0.99979: 100%|██████████| 297/297 [00:06<00:00, 45.14it/s]\n",
            "val_loss 0.00014 val_acc 1.00000: 100%|██████████| 53/53 [00:01<00:00, 36.96it/s]\n"
          ]
        },
        {
          "output_type": "stream",
          "name": "stdout",
          "text": [
            "Epoch 777/1000 loss 0.00020 val_loss 0.00014 acc 0.99979 val_acc 1.00000\n"
          ]
        },
        {
          "output_type": "stream",
          "name": "stderr",
          "text": [
            "loss 0.00124 acc 0.99979: 100%|██████████| 297/297 [00:06<00:00, 48.14it/s]\n",
            "val_loss 0.00576 val_acc 0.99752: 100%|██████████| 53/53 [00:01<00:00, 36.49it/s]\n"
          ]
        },
        {
          "output_type": "stream",
          "name": "stdout",
          "text": [
            "Epoch 778/1000 loss 0.00124 val_loss 0.00576 acc 0.99979 val_acc 0.99752\n"
          ]
        },
        {
          "output_type": "stream",
          "name": "stderr",
          "text": [
            "loss 0.00027 acc 0.99989: 100%|██████████| 297/297 [00:06<00:00, 45.91it/s]\n",
            "val_loss 0.00057 val_acc 1.00000: 100%|██████████| 53/53 [00:01<00:00, 37.60it/s]\n"
          ]
        },
        {
          "output_type": "stream",
          "name": "stdout",
          "text": [
            "Epoch 779/1000 loss 0.00027 val_loss 0.00057 acc 0.99989 val_acc 1.00000\n"
          ]
        },
        {
          "output_type": "stream",
          "name": "stderr",
          "text": [
            "loss 0.00012 acc 1.00000: 100%|██████████| 297/297 [00:06<00:00, 46.85it/s]\n",
            "val_loss 0.00009 val_acc 1.00000: 100%|██████████| 53/53 [00:01<00:00, 40.86it/s]\n"
          ]
        },
        {
          "output_type": "stream",
          "name": "stdout",
          "text": [
            "Epoch 780/1000 loss 0.00012 val_loss 0.00009 acc 1.00000 val_acc 1.00000\n",
            "Checkpoint guardado en /content/drive/MyDrive/SIS421 prueba dataset 1 test/Checkpoints/checkpoint.pth (Epoch 780)\n"
          ]
        },
        {
          "output_type": "stream",
          "name": "stderr",
          "text": [
            "loss 0.00141 acc 0.99968: 100%|██████████| 297/297 [00:06<00:00, 48.43it/s]\n",
            "val_loss 0.00719 val_acc 0.99764: 100%|██████████| 53/53 [00:01<00:00, 37.97it/s]\n"
          ]
        },
        {
          "output_type": "stream",
          "name": "stdout",
          "text": [
            "Epoch 781/1000 loss 0.00141 val_loss 0.00719 acc 0.99968 val_acc 0.99764\n"
          ]
        },
        {
          "output_type": "stream",
          "name": "stderr",
          "text": [
            "loss 0.00048 acc 0.99979: 100%|██████████| 297/297 [00:06<00:00, 44.06it/s]\n",
            "val_loss 0.00078 val_acc 0.99941: 100%|██████████| 53/53 [00:01<00:00, 36.04it/s]\n"
          ]
        },
        {
          "output_type": "stream",
          "name": "stdout",
          "text": [
            "Epoch 782/1000 loss 0.00048 val_loss 0.00078 acc 0.99979 val_acc 0.99941\n"
          ]
        },
        {
          "output_type": "stream",
          "name": "stderr",
          "text": [
            "loss 0.00028 acc 0.99989: 100%|██████████| 297/297 [00:05<00:00, 49.75it/s]\n",
            "val_loss 0.00019 val_acc 1.00000: 100%|██████████| 53/53 [00:01<00:00, 40.07it/s]\n"
          ]
        },
        {
          "output_type": "stream",
          "name": "stdout",
          "text": [
            "Epoch 783/1000 loss 0.00028 val_loss 0.00019 acc 0.99989 val_acc 1.00000\n"
          ]
        },
        {
          "output_type": "stream",
          "name": "stderr",
          "text": [
            "loss 0.00009 acc 1.00000: 100%|██████████| 297/297 [00:05<00:00, 49.99it/s]\n",
            "val_loss 0.00044 val_acc 1.00000: 100%|██████████| 53/53 [00:01<00:00, 36.56it/s]\n"
          ]
        },
        {
          "output_type": "stream",
          "name": "stdout",
          "text": [
            "Epoch 784/1000 loss 0.00009 val_loss 0.00044 acc 1.00000 val_acc 1.00000\n"
          ]
        },
        {
          "output_type": "stream",
          "name": "stderr",
          "text": [
            "loss 0.00001 acc 1.00000: 100%|██████████| 297/297 [00:06<00:00, 43.94it/s]\n",
            "val_loss 0.00064 val_acc 0.99941: 100%|██████████| 53/53 [00:01<00:00, 37.75it/s]\n"
          ]
        },
        {
          "output_type": "stream",
          "name": "stdout",
          "text": [
            "Epoch 785/1000 loss 0.00001 val_loss 0.00064 acc 1.00000 val_acc 0.99941\n"
          ]
        },
        {
          "output_type": "stream",
          "name": "stderr",
          "text": [
            "loss 0.00004 acc 1.00000: 100%|██████████| 297/297 [00:05<00:00, 50.92it/s]\n",
            "val_loss 0.00016 val_acc 1.00000: 100%|██████████| 53/53 [00:01<00:00, 38.21it/s]\n"
          ]
        },
        {
          "output_type": "stream",
          "name": "stdout",
          "text": [
            "Epoch 786/1000 loss 0.00004 val_loss 0.00016 acc 1.00000 val_acc 1.00000\n"
          ]
        },
        {
          "output_type": "stream",
          "name": "stderr",
          "text": [
            "loss 0.00083 acc 0.99979: 100%|██████████| 297/297 [00:06<00:00, 44.58it/s]\n",
            "val_loss 0.00054 val_acc 0.99941: 100%|██████████| 53/53 [00:01<00:00, 34.01it/s]\n"
          ]
        },
        {
          "output_type": "stream",
          "name": "stdout",
          "text": [
            "Epoch 787/1000 loss 0.00083 val_loss 0.00054 acc 0.99979 val_acc 0.99941\n"
          ]
        },
        {
          "output_type": "stream",
          "name": "stderr",
          "text": [
            "loss 0.00004 acc 1.00000: 100%|██████████| 297/297 [00:06<00:00, 43.44it/s]\n",
            "val_loss 0.00006 val_acc 1.00000: 100%|██████████| 53/53 [00:01<00:00, 37.44it/s]\n"
          ]
        },
        {
          "output_type": "stream",
          "name": "stdout",
          "text": [
            "Epoch 788/1000 loss 0.00004 val_loss 0.00006 acc 1.00000 val_acc 1.00000\n"
          ]
        },
        {
          "output_type": "stream",
          "name": "stderr",
          "text": [
            "loss 0.00034 acc 0.99972: 100%|██████████| 297/297 [00:05<00:00, 51.54it/s]\n",
            "val_loss 0.00041 val_acc 1.00000: 100%|██████████| 53/53 [00:01<00:00, 41.58it/s]\n"
          ]
        },
        {
          "output_type": "stream",
          "name": "stdout",
          "text": [
            "Epoch 789/1000 loss 0.00034 val_loss 0.00041 acc 0.99972 val_acc 1.00000\n"
          ]
        },
        {
          "output_type": "stream",
          "name": "stderr",
          "text": [
            "loss 0.00051 acc 0.99989: 100%|██████████| 297/297 [00:06<00:00, 46.97it/s]\n",
            "val_loss 0.00070 val_acc 1.00000: 100%|██████████| 53/53 [00:01<00:00, 37.42it/s]\n"
          ]
        },
        {
          "output_type": "stream",
          "name": "stdout",
          "text": [
            "Epoch 790/1000 loss 0.00051 val_loss 0.00070 acc 0.99989 val_acc 1.00000\n"
          ]
        },
        {
          "output_type": "stream",
          "name": "stderr",
          "text": [
            "loss 0.00161 acc 0.99968: 100%|██████████| 297/297 [00:06<00:00, 43.22it/s]\n",
            "val_loss 0.00484 val_acc 0.99823: 100%|██████████| 53/53 [00:01<00:00, 36.51it/s]\n"
          ]
        },
        {
          "output_type": "stream",
          "name": "stdout",
          "text": [
            "Epoch 791/1000 loss 0.00161 val_loss 0.00484 acc 0.99968 val_acc 0.99823\n"
          ]
        },
        {
          "output_type": "stream",
          "name": "stderr",
          "text": [
            "loss 0.00073 acc 0.99968: 100%|██████████| 297/297 [00:06<00:00, 49.18it/s]\n",
            "val_loss 0.00256 val_acc 0.99941: 100%|██████████| 53/53 [00:01<00:00, 39.05it/s]\n"
          ]
        },
        {
          "output_type": "stream",
          "name": "stdout",
          "text": [
            "Epoch 792/1000 loss 0.00073 val_loss 0.00256 acc 0.99968 val_acc 0.99941\n"
          ]
        },
        {
          "output_type": "stream",
          "name": "stderr",
          "text": [
            "loss 0.00114 acc 0.99958: 100%|██████████| 297/297 [00:06<00:00, 44.47it/s]\n",
            "val_loss 0.00002 val_acc 1.00000: 100%|██████████| 53/53 [00:01<00:00, 35.73it/s]\n"
          ]
        },
        {
          "output_type": "stream",
          "name": "stdout",
          "text": [
            "Epoch 793/1000 loss 0.00114 val_loss 0.00002 acc 0.99958 val_acc 1.00000\n"
          ]
        },
        {
          "output_type": "stream",
          "name": "stderr",
          "text": [
            "loss 0.00032 acc 0.99989: 100%|██████████| 297/297 [00:06<00:00, 45.95it/s]\n",
            "val_loss 0.00000 val_acc 1.00000: 100%|██████████| 53/53 [00:01<00:00, 37.86it/s]\n"
          ]
        },
        {
          "output_type": "stream",
          "name": "stdout",
          "text": [
            "Epoch 794/1000 loss 0.00032 val_loss 0.00000 acc 0.99989 val_acc 1.00000\n"
          ]
        },
        {
          "output_type": "stream",
          "name": "stderr",
          "text": [
            "loss 0.00058 acc 0.99989: 100%|██████████| 297/297 [00:06<00:00, 47.42it/s]\n",
            "val_loss 0.00000 val_acc 1.00000: 100%|██████████| 53/53 [00:01<00:00, 41.50it/s]\n"
          ]
        },
        {
          "output_type": "stream",
          "name": "stdout",
          "text": [
            "Epoch 795/1000 loss 0.00058 val_loss 0.00000 acc 0.99989 val_acc 1.00000\n"
          ]
        },
        {
          "output_type": "stream",
          "name": "stderr",
          "text": [
            "loss 0.00056 acc 0.99989: 100%|██████████| 297/297 [00:06<00:00, 46.90it/s]\n",
            "val_loss 0.00000 val_acc 1.00000: 100%|██████████| 53/53 [00:01<00:00, 36.71it/s]\n"
          ]
        },
        {
          "output_type": "stream",
          "name": "stdout",
          "text": [
            "Epoch 796/1000 loss 0.00056 val_loss 0.00000 acc 0.99989 val_acc 1.00000\n"
          ]
        },
        {
          "output_type": "stream",
          "name": "stderr",
          "text": [
            "loss 0.00102 acc 0.99961: 100%|██████████| 297/297 [00:06<00:00, 48.29it/s]\n",
            "val_loss 0.01123 val_acc 0.99882: 100%|██████████| 53/53 [00:01<00:00, 33.86it/s]\n"
          ]
        },
        {
          "output_type": "stream",
          "name": "stdout",
          "text": [
            "Epoch 797/1000 loss 0.00102 val_loss 0.01123 acc 0.99961 val_acc 0.99882\n"
          ]
        },
        {
          "output_type": "stream",
          "name": "stderr",
          "text": [
            "loss 0.00251 acc 0.99968: 100%|██████████| 297/297 [00:05<00:00, 49.51it/s]\n",
            "val_loss 0.00498 val_acc 0.99882: 100%|██████████| 53/53 [00:01<00:00, 36.87it/s]\n"
          ]
        },
        {
          "output_type": "stream",
          "name": "stdout",
          "text": [
            "Epoch 798/1000 loss 0.00251 val_loss 0.00498 acc 0.99968 val_acc 0.99882\n"
          ]
        },
        {
          "output_type": "stream",
          "name": "stderr",
          "text": [
            "loss 0.00005 acc 1.00000: 100%|██████████| 297/297 [00:06<00:00, 46.27it/s]\n",
            "val_loss 0.00282 val_acc 0.99882: 100%|██████████| 53/53 [00:01<00:00, 36.44it/s]\n"
          ]
        },
        {
          "output_type": "stream",
          "name": "stdout",
          "text": [
            "Epoch 799/1000 loss 0.00005 val_loss 0.00282 acc 1.00000 val_acc 0.99882\n"
          ]
        },
        {
          "output_type": "stream",
          "name": "stderr",
          "text": [
            "loss 0.00063 acc 0.99989: 100%|██████████| 297/297 [00:06<00:00, 48.58it/s]\n",
            "val_loss 0.00260 val_acc 0.99882: 100%|██████████| 53/53 [00:01<00:00, 36.33it/s]\n"
          ]
        },
        {
          "output_type": "stream",
          "name": "stdout",
          "text": [
            "Epoch 800/1000 loss 0.00063 val_loss 0.00260 acc 0.99989 val_acc 0.99882\n",
            "Checkpoint guardado en /content/drive/MyDrive/SIS421 prueba dataset 1 test/Checkpoints/checkpoint.pth (Epoch 800)\n"
          ]
        },
        {
          "output_type": "stream",
          "name": "stderr",
          "text": [
            "loss 0.00006 acc 1.00000: 100%|██████████| 297/297 [00:06<00:00, 48.78it/s]\n",
            "val_loss 0.00142 val_acc 0.99941: 100%|██████████| 53/53 [00:01<00:00, 35.25it/s]\n"
          ]
        },
        {
          "output_type": "stream",
          "name": "stdout",
          "text": [
            "Epoch 801/1000 loss 0.00006 val_loss 0.00142 acc 1.00000 val_acc 0.99941\n"
          ]
        },
        {
          "output_type": "stream",
          "name": "stderr",
          "text": [
            "loss 0.00003 acc 1.00000: 100%|██████████| 297/297 [00:06<00:00, 43.46it/s]\n",
            "val_loss 0.00016 val_acc 1.00000: 100%|██████████| 53/53 [00:01<00:00, 38.14it/s]\n"
          ]
        },
        {
          "output_type": "stream",
          "name": "stdout",
          "text": [
            "Epoch 802/1000 loss 0.00003 val_loss 0.00016 acc 1.00000 val_acc 1.00000\n"
          ]
        },
        {
          "output_type": "stream",
          "name": "stderr",
          "text": [
            "loss 0.00036 acc 0.99989: 100%|██████████| 297/297 [00:06<00:00, 49.02it/s]\n",
            "val_loss 0.00003 val_acc 1.00000: 100%|██████████| 53/53 [00:01<00:00, 37.98it/s]\n"
          ]
        },
        {
          "output_type": "stream",
          "name": "stdout",
          "text": [
            "Epoch 803/1000 loss 0.00036 val_loss 0.00003 acc 0.99989 val_acc 1.00000\n"
          ]
        },
        {
          "output_type": "stream",
          "name": "stderr",
          "text": [
            "loss 0.00021 acc 0.99989: 100%|██████████| 297/297 [00:06<00:00, 48.98it/s]\n",
            "val_loss 0.00027 val_acc 1.00000: 100%|██████████| 53/53 [00:01<00:00, 37.21it/s]\n"
          ]
        },
        {
          "output_type": "stream",
          "name": "stdout",
          "text": [
            "Epoch 804/1000 loss 0.00021 val_loss 0.00027 acc 0.99989 val_acc 1.00000\n"
          ]
        },
        {
          "output_type": "stream",
          "name": "stderr",
          "text": [
            "loss 0.00070 acc 0.99961: 100%|██████████| 297/297 [00:06<00:00, 47.53it/s]\n",
            "val_loss 0.00013 val_acc 1.00000: 100%|██████████| 53/53 [00:01<00:00, 35.97it/s]\n"
          ]
        },
        {
          "output_type": "stream",
          "name": "stdout",
          "text": [
            "Epoch 805/1000 loss 0.00070 val_loss 0.00013 acc 0.99961 val_acc 1.00000\n"
          ]
        },
        {
          "output_type": "stream",
          "name": "stderr",
          "text": [
            "loss 0.00287 acc 0.99937: 100%|██████████| 297/297 [00:06<00:00, 48.46it/s]\n",
            "val_loss 0.00268 val_acc 0.99823: 100%|██████████| 53/53 [00:01<00:00, 38.73it/s]\n"
          ]
        },
        {
          "output_type": "stream",
          "name": "stdout",
          "text": [
            "Epoch 806/1000 loss 0.00287 val_loss 0.00268 acc 0.99937 val_acc 0.99823\n"
          ]
        },
        {
          "output_type": "stream",
          "name": "stderr",
          "text": [
            "loss 0.00237 acc 0.99937: 100%|██████████| 297/297 [00:06<00:00, 45.28it/s]\n",
            "val_loss 0.00882 val_acc 0.99634: 100%|██████████| 53/53 [00:01<00:00, 35.12it/s]\n"
          ]
        },
        {
          "output_type": "stream",
          "name": "stdout",
          "text": [
            "Epoch 807/1000 loss 0.00237 val_loss 0.00882 acc 0.99937 val_acc 0.99634\n"
          ]
        },
        {
          "output_type": "stream",
          "name": "stderr",
          "text": [
            "loss 0.00030 acc 0.99979: 100%|██████████| 297/297 [00:07<00:00, 41.99it/s]\n",
            "val_loss 0.00003 val_acc 1.00000: 100%|██████████| 53/53 [00:01<00:00, 34.22it/s]\n"
          ]
        },
        {
          "output_type": "stream",
          "name": "stdout",
          "text": [
            "Epoch 808/1000 loss 0.00030 val_loss 0.00003 acc 0.99979 val_acc 1.00000\n"
          ]
        },
        {
          "output_type": "stream",
          "name": "stderr",
          "text": [
            "loss 0.00009 acc 1.00000: 100%|██████████| 297/297 [00:06<00:00, 47.24it/s]\n",
            "val_loss 0.00005 val_acc 1.00000: 100%|██████████| 53/53 [00:01<00:00, 35.92it/s]\n"
          ]
        },
        {
          "output_type": "stream",
          "name": "stdout",
          "text": [
            "Epoch 809/1000 loss 0.00009 val_loss 0.00005 acc 1.00000 val_acc 1.00000\n"
          ]
        },
        {
          "output_type": "stream",
          "name": "stderr",
          "text": [
            "loss 0.00004 acc 1.00000: 100%|██████████| 297/297 [00:06<00:00, 46.16it/s]\n",
            "val_loss 0.00003 val_acc 1.00000: 100%|██████████| 53/53 [00:01<00:00, 36.62it/s]\n"
          ]
        },
        {
          "output_type": "stream",
          "name": "stdout",
          "text": [
            "Epoch 810/1000 loss 0.00004 val_loss 0.00003 acc 1.00000 val_acc 1.00000\n"
          ]
        },
        {
          "output_type": "stream",
          "name": "stderr",
          "text": [
            "loss 0.00046 acc 0.99979: 100%|██████████| 297/297 [00:07<00:00, 42.32it/s]\n",
            "val_loss 0.00004 val_acc 1.00000: 100%|██████████| 53/53 [00:01<00:00, 31.47it/s]\n"
          ]
        },
        {
          "output_type": "stream",
          "name": "stdout",
          "text": [
            "Epoch 811/1000 loss 0.00046 val_loss 0.00004 acc 0.99979 val_acc 1.00000\n"
          ]
        },
        {
          "output_type": "stream",
          "name": "stderr",
          "text": [
            "loss 0.00089 acc 0.99989: 100%|██████████| 297/297 [00:06<00:00, 47.43it/s]\n",
            "val_loss 0.00887 val_acc 0.99882: 100%|██████████| 53/53 [00:01<00:00, 34.75it/s]\n"
          ]
        },
        {
          "output_type": "stream",
          "name": "stdout",
          "text": [
            "Epoch 812/1000 loss 0.00089 val_loss 0.00887 acc 0.99989 val_acc 0.99882\n"
          ]
        },
        {
          "output_type": "stream",
          "name": "stderr",
          "text": [
            "loss 0.00035 acc 0.99989: 100%|██████████| 297/297 [00:06<00:00, 43.75it/s]\n",
            "val_loss 0.00008 val_acc 1.00000: 100%|██████████| 53/53 [00:01<00:00, 33.35it/s]\n"
          ]
        },
        {
          "output_type": "stream",
          "name": "stdout",
          "text": [
            "Epoch 813/1000 loss 0.00035 val_loss 0.00008 acc 0.99989 val_acc 1.00000\n"
          ]
        },
        {
          "output_type": "stream",
          "name": "stderr",
          "text": [
            "loss 0.00120 acc 0.99968: 100%|██████████| 297/297 [00:06<00:00, 47.30it/s]\n",
            "val_loss 0.00018 val_acc 1.00000: 100%|██████████| 53/53 [00:01<00:00, 40.00it/s]\n"
          ]
        },
        {
          "output_type": "stream",
          "name": "stdout",
          "text": [
            "Epoch 814/1000 loss 0.00120 val_loss 0.00018 acc 0.99968 val_acc 1.00000\n"
          ]
        },
        {
          "output_type": "stream",
          "name": "stderr",
          "text": [
            "loss 0.00110 acc 0.99958: 100%|██████████| 297/297 [00:05<00:00, 49.75it/s]\n",
            "val_loss 0.00020 val_acc 1.00000: 100%|██████████| 53/53 [00:01<00:00, 36.68it/s]\n"
          ]
        },
        {
          "output_type": "stream",
          "name": "stdout",
          "text": [
            "Epoch 815/1000 loss 0.00110 val_loss 0.00020 acc 0.99958 val_acc 1.00000\n"
          ]
        },
        {
          "output_type": "stream",
          "name": "stderr",
          "text": [
            "loss 0.00059 acc 0.99979: 100%|██████████| 297/297 [00:06<00:00, 45.80it/s]\n",
            "val_loss 0.00028 val_acc 1.00000: 100%|██████████| 53/53 [00:01<00:00, 37.03it/s]\n"
          ]
        },
        {
          "output_type": "stream",
          "name": "stdout",
          "text": [
            "Epoch 816/1000 loss 0.00059 val_loss 0.00028 acc 0.99979 val_acc 1.00000\n"
          ]
        },
        {
          "output_type": "stream",
          "name": "stderr",
          "text": [
            "loss 0.00024 acc 0.99989: 100%|██████████| 297/297 [00:06<00:00, 46.48it/s]\n",
            "val_loss 0.00005 val_acc 1.00000: 100%|██████████| 53/53 [00:01<00:00, 37.67it/s]\n"
          ]
        },
        {
          "output_type": "stream",
          "name": "stdout",
          "text": [
            "Epoch 817/1000 loss 0.00024 val_loss 0.00005 acc 0.99989 val_acc 1.00000\n"
          ]
        },
        {
          "output_type": "stream",
          "name": "stderr",
          "text": [
            "loss 0.00000 acc 1.00000: 100%|██████████| 297/297 [00:06<00:00, 49.36it/s]\n",
            "val_loss 0.00016 val_acc 1.00000: 100%|██████████| 53/53 [00:01<00:00, 37.84it/s]\n"
          ]
        },
        {
          "output_type": "stream",
          "name": "stdout",
          "text": [
            "Epoch 818/1000 loss 0.00000 val_loss 0.00016 acc 1.00000 val_acc 1.00000\n"
          ]
        },
        {
          "output_type": "stream",
          "name": "stderr",
          "text": [
            "loss 0.00071 acc 0.99979: 100%|██████████| 297/297 [00:06<00:00, 45.66it/s]\n",
            "val_loss 0.00009 val_acc 1.00000: 100%|██████████| 53/53 [00:01<00:00, 34.71it/s]\n"
          ]
        },
        {
          "output_type": "stream",
          "name": "stdout",
          "text": [
            "Epoch 819/1000 loss 0.00071 val_loss 0.00009 acc 0.99979 val_acc 1.00000\n"
          ]
        },
        {
          "output_type": "stream",
          "name": "stderr",
          "text": [
            "loss 0.00007 acc 1.00000: 100%|██████████| 297/297 [00:05<00:00, 50.31it/s]\n",
            "val_loss 0.00037 val_acc 1.00000: 100%|██████████| 53/53 [00:01<00:00, 36.22it/s]\n"
          ]
        },
        {
          "output_type": "stream",
          "name": "stdout",
          "text": [
            "Epoch 820/1000 loss 0.00007 val_loss 0.00037 acc 1.00000 val_acc 1.00000\n",
            "Checkpoint guardado en /content/drive/MyDrive/SIS421 prueba dataset 1 test/Checkpoints/checkpoint.pth (Epoch 820)\n"
          ]
        },
        {
          "output_type": "stream",
          "name": "stderr",
          "text": [
            "loss 0.00086 acc 0.99972: 100%|██████████| 297/297 [00:05<00:00, 49.96it/s]\n",
            "val_loss 0.00515 val_acc 0.99811: 100%|██████████| 53/53 [00:01<00:00, 35.76it/s]\n"
          ]
        },
        {
          "output_type": "stream",
          "name": "stdout",
          "text": [
            "Epoch 821/1000 loss 0.00086 val_loss 0.00515 acc 0.99972 val_acc 0.99811\n"
          ]
        },
        {
          "output_type": "stream",
          "name": "stderr",
          "text": [
            "loss 0.00110 acc 0.99958: 100%|██████████| 297/297 [00:06<00:00, 44.82it/s]\n",
            "val_loss 0.00160 val_acc 0.99941: 100%|██████████| 53/53 [00:01<00:00, 37.62it/s]\n"
          ]
        },
        {
          "output_type": "stream",
          "name": "stdout",
          "text": [
            "Epoch 822/1000 loss 0.00110 val_loss 0.00160 acc 0.99958 val_acc 0.99941\n"
          ]
        },
        {
          "output_type": "stream",
          "name": "stderr",
          "text": [
            "loss 0.00008 acc 1.00000: 100%|██████████| 297/297 [00:06<00:00, 48.51it/s]\n",
            "val_loss 0.00003 val_acc 1.00000: 100%|██████████| 53/53 [00:01<00:00, 39.65it/s]\n"
          ]
        },
        {
          "output_type": "stream",
          "name": "stdout",
          "text": [
            "Epoch 823/1000 loss 0.00008 val_loss 0.00003 acc 1.00000 val_acc 1.00000\n"
          ]
        },
        {
          "output_type": "stream",
          "name": "stderr",
          "text": [
            "loss 0.00003 acc 1.00000: 100%|██████████| 297/297 [00:05<00:00, 51.23it/s]\n",
            "val_loss 0.00003 val_acc 1.00000: 100%|██████████| 53/53 [00:01<00:00, 37.54it/s]\n"
          ]
        },
        {
          "output_type": "stream",
          "name": "stdout",
          "text": [
            "Epoch 824/1000 loss 0.00003 val_loss 0.00003 acc 1.00000 val_acc 1.00000\n"
          ]
        },
        {
          "output_type": "stream",
          "name": "stderr",
          "text": [
            "loss 0.00004 acc 1.00000: 100%|██████████| 297/297 [00:06<00:00, 45.86it/s]\n",
            "val_loss 0.00095 val_acc 1.00000: 100%|██████████| 53/53 [00:01<00:00, 34.77it/s]\n"
          ]
        },
        {
          "output_type": "stream",
          "name": "stdout",
          "text": [
            "Epoch 825/1000 loss 0.00004 val_loss 0.00095 acc 1.00000 val_acc 1.00000\n"
          ]
        },
        {
          "output_type": "stream",
          "name": "stderr",
          "text": [
            "loss 0.00012 acc 0.99989: 100%|██████████| 297/297 [00:06<00:00, 46.52it/s]\n",
            "val_loss 0.00211 val_acc 0.99811: 100%|██████████| 53/53 [00:01<00:00, 36.84it/s]\n"
          ]
        },
        {
          "output_type": "stream",
          "name": "stdout",
          "text": [
            "Epoch 826/1000 loss 0.00012 val_loss 0.00211 acc 0.99989 val_acc 0.99811\n"
          ]
        },
        {
          "output_type": "stream",
          "name": "stderr",
          "text": [
            "loss 0.00114 acc 0.99958: 100%|██████████| 297/297 [00:06<00:00, 47.30it/s]\n",
            "val_loss 0.00004 val_acc 1.00000: 100%|██████████| 53/53 [00:01<00:00, 37.00it/s]\n"
          ]
        },
        {
          "output_type": "stream",
          "name": "stdout",
          "text": [
            "Epoch 827/1000 loss 0.00114 val_loss 0.00004 acc 0.99958 val_acc 1.00000\n"
          ]
        },
        {
          "output_type": "stream",
          "name": "stderr",
          "text": [
            "loss 0.00375 acc 0.99961: 100%|██████████| 297/297 [00:06<00:00, 44.59it/s]\n",
            "val_loss 0.00239 val_acc 0.99941: 100%|██████████| 53/53 [00:01<00:00, 33.84it/s]\n"
          ]
        },
        {
          "output_type": "stream",
          "name": "stdout",
          "text": [
            "Epoch 828/1000 loss 0.00375 val_loss 0.00239 acc 0.99961 val_acc 0.99941\n"
          ]
        },
        {
          "output_type": "stream",
          "name": "stderr",
          "text": [
            "loss 0.00045 acc 0.99989: 100%|██████████| 297/297 [00:06<00:00, 48.66it/s]\n",
            "val_loss 0.00022 val_acc 1.00000: 100%|██████████| 53/53 [00:01<00:00, 41.52it/s]\n"
          ]
        },
        {
          "output_type": "stream",
          "name": "stdout",
          "text": [
            "Epoch 829/1000 loss 0.00045 val_loss 0.00022 acc 0.99989 val_acc 1.00000\n"
          ]
        },
        {
          "output_type": "stream",
          "name": "stderr",
          "text": [
            "loss 0.00004 acc 1.00000: 100%|██████████| 297/297 [00:05<00:00, 51.59it/s]\n",
            "val_loss 0.00036 val_acc 1.00000: 100%|██████████| 53/53 [00:01<00:00, 37.42it/s]\n"
          ]
        },
        {
          "output_type": "stream",
          "name": "stdout",
          "text": [
            "Epoch 830/1000 loss 0.00004 val_loss 0.00036 acc 1.00000 val_acc 1.00000\n"
          ]
        },
        {
          "output_type": "stream",
          "name": "stderr",
          "text": [
            "loss 0.00003 acc 1.00000: 100%|██████████| 297/297 [00:06<00:00, 44.89it/s]\n",
            "val_loss 0.00003 val_acc 1.00000: 100%|██████████| 53/53 [00:01<00:00, 35.32it/s]\n"
          ]
        },
        {
          "output_type": "stream",
          "name": "stdout",
          "text": [
            "Epoch 831/1000 loss 0.00003 val_loss 0.00003 acc 1.00000 val_acc 1.00000\n"
          ]
        },
        {
          "output_type": "stream",
          "name": "stderr",
          "text": [
            "loss 0.00044 acc 0.99989: 100%|██████████| 297/297 [00:06<00:00, 47.46it/s]\n",
            "val_loss 0.00002 val_acc 1.00000: 100%|██████████| 53/53 [00:01<00:00, 38.66it/s]\n"
          ]
        },
        {
          "output_type": "stream",
          "name": "stdout",
          "text": [
            "Epoch 832/1000 loss 0.00044 val_loss 0.00002 acc 0.99989 val_acc 1.00000\n"
          ]
        },
        {
          "output_type": "stream",
          "name": "stderr",
          "text": [
            "loss 0.00335 acc 0.99940: 100%|██████████| 297/297 [00:06<00:00, 48.60it/s]\n",
            "val_loss 0.00002 val_acc 1.00000: 100%|██████████| 53/53 [00:01<00:00, 34.41it/s]\n"
          ]
        },
        {
          "output_type": "stream",
          "name": "stdout",
          "text": [
            "Epoch 833/1000 loss 0.00335 val_loss 0.00002 acc 0.99940 val_acc 1.00000\n"
          ]
        },
        {
          "output_type": "stream",
          "name": "stderr",
          "text": [
            "loss 0.00052 acc 0.99989: 100%|██████████| 297/297 [00:06<00:00, 48.27it/s]\n",
            "val_loss 0.00027 val_acc 1.00000: 100%|██████████| 53/53 [00:01<00:00, 32.94it/s]\n"
          ]
        },
        {
          "output_type": "stream",
          "name": "stdout",
          "text": [
            "Epoch 834/1000 loss 0.00052 val_loss 0.00027 acc 0.99989 val_acc 1.00000\n"
          ]
        },
        {
          "output_type": "stream",
          "name": "stderr",
          "text": [
            "loss 0.00008 acc 1.00000: 100%|██████████| 297/297 [00:06<00:00, 48.16it/s]\n",
            "val_loss 0.00003 val_acc 1.00000: 100%|██████████| 53/53 [00:01<00:00, 37.59it/s]\n"
          ]
        },
        {
          "output_type": "stream",
          "name": "stdout",
          "text": [
            "Epoch 835/1000 loss 0.00008 val_loss 0.00003 acc 1.00000 val_acc 1.00000\n"
          ]
        },
        {
          "output_type": "stream",
          "name": "stderr",
          "text": [
            "loss 0.00011 acc 1.00000: 100%|██████████| 297/297 [00:06<00:00, 46.05it/s]\n",
            "val_loss 0.00011 val_acc 1.00000: 100%|██████████| 53/53 [00:01<00:00, 37.08it/s]\n"
          ]
        },
        {
          "output_type": "stream",
          "name": "stdout",
          "text": [
            "Epoch 836/1000 loss 0.00011 val_loss 0.00011 acc 1.00000 val_acc 1.00000\n"
          ]
        },
        {
          "output_type": "stream",
          "name": "stderr",
          "text": [
            "loss 0.00036 acc 0.99989: 100%|██████████| 297/297 [00:06<00:00, 45.55it/s]\n",
            "val_loss 0.00047 val_acc 0.99941: 100%|██████████| 53/53 [00:01<00:00, 36.58it/s]\n"
          ]
        },
        {
          "output_type": "stream",
          "name": "stdout",
          "text": [
            "Epoch 837/1000 loss 0.00036 val_loss 0.00047 acc 0.99989 val_acc 0.99941\n"
          ]
        },
        {
          "output_type": "stream",
          "name": "stderr",
          "text": [
            "loss 0.00111 acc 0.99968: 100%|██████████| 297/297 [00:05<00:00, 50.44it/s]\n",
            "val_loss 0.02300 val_acc 0.99752: 100%|██████████| 53/53 [00:01<00:00, 35.09it/s]\n"
          ]
        },
        {
          "output_type": "stream",
          "name": "stdout",
          "text": [
            "Epoch 838/1000 loss 0.00111 val_loss 0.02300 acc 0.99968 val_acc 0.99752\n"
          ]
        },
        {
          "output_type": "stream",
          "name": "stderr",
          "text": [
            "loss 0.00018 acc 0.99989: 100%|██████████| 297/297 [00:06<00:00, 45.18it/s]\n",
            "val_loss 0.00017 val_acc 1.00000: 100%|██████████| 53/53 [00:01<00:00, 32.57it/s]\n"
          ]
        },
        {
          "output_type": "stream",
          "name": "stdout",
          "text": [
            "Epoch 839/1000 loss 0.00018 val_loss 0.00017 acc 0.99989 val_acc 1.00000\n"
          ]
        },
        {
          "output_type": "stream",
          "name": "stderr",
          "text": [
            "loss 0.00029 acc 0.99989: 100%|██████████| 297/297 [00:06<00:00, 44.47it/s]\n",
            "val_loss 0.00127 val_acc 1.00000: 100%|██████████| 53/53 [00:01<00:00, 35.59it/s]\n"
          ]
        },
        {
          "output_type": "stream",
          "name": "stdout",
          "text": [
            "Epoch 840/1000 loss 0.00029 val_loss 0.00127 acc 0.99989 val_acc 1.00000\n",
            "Checkpoint guardado en /content/drive/MyDrive/SIS421 prueba dataset 1 test/Checkpoints/checkpoint.pth (Epoch 840)\n"
          ]
        },
        {
          "output_type": "stream",
          "name": "stderr",
          "text": [
            "loss 0.00010 acc 0.99989: 100%|██████████| 297/297 [00:06<00:00, 48.51it/s]\n",
            "val_loss 0.00280 val_acc 0.99811: 100%|██████████| 53/53 [00:01<00:00, 40.53it/s]\n"
          ]
        },
        {
          "output_type": "stream",
          "name": "stdout",
          "text": [
            "Epoch 841/1000 loss 0.00010 val_loss 0.00280 acc 0.99989 val_acc 0.99811\n"
          ]
        },
        {
          "output_type": "stream",
          "name": "stderr",
          "text": [
            "loss 0.00003 acc 1.00000: 100%|██████████| 297/297 [00:06<00:00, 45.85it/s]\n",
            "val_loss 0.00012 val_acc 1.00000: 100%|██████████| 53/53 [00:01<00:00, 33.13it/s]\n"
          ]
        },
        {
          "output_type": "stream",
          "name": "stdout",
          "text": [
            "Epoch 842/1000 loss 0.00003 val_loss 0.00012 acc 1.00000 val_acc 1.00000\n"
          ]
        },
        {
          "output_type": "stream",
          "name": "stderr",
          "text": [
            "loss 0.00001 acc 1.00000: 100%|██████████| 297/297 [00:06<00:00, 45.40it/s]\n",
            "val_loss 0.00013 val_acc 1.00000: 100%|██████████| 53/53 [00:01<00:00, 32.93it/s]\n"
          ]
        },
        {
          "output_type": "stream",
          "name": "stdout",
          "text": [
            "Epoch 843/1000 loss 0.00001 val_loss 0.00013 acc 1.00000 val_acc 1.00000\n"
          ]
        },
        {
          "output_type": "stream",
          "name": "stderr",
          "text": [
            "loss 0.00020 acc 0.99989: 100%|██████████| 297/297 [00:06<00:00, 48.49it/s]\n",
            "val_loss 0.00456 val_acc 0.99752: 100%|██████████| 53/53 [00:01<00:00, 37.51it/s]\n"
          ]
        },
        {
          "output_type": "stream",
          "name": "stdout",
          "text": [
            "Epoch 844/1000 loss 0.00020 val_loss 0.00456 acc 0.99989 val_acc 0.99752\n"
          ]
        },
        {
          "output_type": "stream",
          "name": "stderr",
          "text": [
            "loss 0.00147 acc 0.99968: 100%|██████████| 297/297 [00:06<00:00, 43.89it/s]\n",
            "val_loss 0.00012 val_acc 1.00000: 100%|██████████| 53/53 [00:01<00:00, 33.04it/s]\n"
          ]
        },
        {
          "output_type": "stream",
          "name": "stdout",
          "text": [
            "Epoch 845/1000 loss 0.00147 val_loss 0.00012 acc 0.99968 val_acc 1.00000\n"
          ]
        },
        {
          "output_type": "stream",
          "name": "stderr",
          "text": [
            "loss 0.00042 acc 0.99989: 100%|██████████| 297/297 [00:06<00:00, 45.75it/s]\n",
            "val_loss 0.00279 val_acc 0.99752: 100%|██████████| 53/53 [00:01<00:00, 37.59it/s]\n"
          ]
        },
        {
          "output_type": "stream",
          "name": "stdout",
          "text": [
            "Epoch 846/1000 loss 0.00042 val_loss 0.00279 acc 0.99989 val_acc 0.99752\n"
          ]
        },
        {
          "output_type": "stream",
          "name": "stderr",
          "text": [
            "loss 0.00135 acc 0.99958: 100%|██████████| 297/297 [00:06<00:00, 49.03it/s]\n",
            "val_loss 0.01187 val_acc 0.99693: 100%|██████████| 53/53 [00:01<00:00, 33.91it/s]\n"
          ]
        },
        {
          "output_type": "stream",
          "name": "stdout",
          "text": [
            "Epoch 847/1000 loss 0.00135 val_loss 0.01187 acc 0.99958 val_acc 0.99693\n"
          ]
        },
        {
          "output_type": "stream",
          "name": "stderr",
          "text": [
            "loss 0.00060 acc 0.99979: 100%|██████████| 297/297 [00:06<00:00, 44.43it/s]\n",
            "val_loss 0.00310 val_acc 0.99882: 100%|██████████| 53/53 [00:01<00:00, 33.28it/s]\n"
          ]
        },
        {
          "output_type": "stream",
          "name": "stdout",
          "text": [
            "Epoch 848/1000 loss 0.00060 val_loss 0.00310 acc 0.99979 val_acc 0.99882\n"
          ]
        },
        {
          "output_type": "stream",
          "name": "stderr",
          "text": [
            "loss 0.00036 acc 0.99968: 100%|██████████| 297/297 [00:06<00:00, 46.60it/s]\n",
            "val_loss 0.00621 val_acc 0.99882: 100%|██████████| 53/53 [00:01<00:00, 34.99it/s]\n"
          ]
        },
        {
          "output_type": "stream",
          "name": "stdout",
          "text": [
            "Epoch 849/1000 loss 0.00036 val_loss 0.00621 acc 0.99968 val_acc 0.99882\n"
          ]
        },
        {
          "output_type": "stream",
          "name": "stderr",
          "text": [
            "loss 0.00064 acc 0.99979: 100%|██████████| 297/297 [00:06<00:00, 45.48it/s]\n",
            "val_loss 0.00773 val_acc 0.99823: 100%|██████████| 53/53 [00:01<00:00, 33.15it/s]\n"
          ]
        },
        {
          "output_type": "stream",
          "name": "stdout",
          "text": [
            "Epoch 850/1000 loss 0.00064 val_loss 0.00773 acc 0.99979 val_acc 0.99823\n"
          ]
        },
        {
          "output_type": "stream",
          "name": "stderr",
          "text": [
            "loss 0.00107 acc 0.99958: 100%|██████████| 297/297 [00:06<00:00, 44.34it/s]\n",
            "val_loss 0.00000 val_acc 1.00000: 100%|██████████| 53/53 [00:01<00:00, 34.82it/s]\n"
          ]
        },
        {
          "output_type": "stream",
          "name": "stdout",
          "text": [
            "Epoch 851/1000 loss 0.00107 val_loss 0.00000 acc 0.99958 val_acc 1.00000\n"
          ]
        },
        {
          "output_type": "stream",
          "name": "stderr",
          "text": [
            "loss 0.01070 acc 0.99933: 100%|██████████| 297/297 [00:06<00:00, 48.58it/s]\n",
            "val_loss 0.00139 val_acc 0.99941: 100%|██████████| 53/53 [00:01<00:00, 36.54it/s]\n"
          ]
        },
        {
          "output_type": "stream",
          "name": "stdout",
          "text": [
            "Epoch 852/1000 loss 0.01070 val_loss 0.00139 acc 0.99933 val_acc 0.99941\n"
          ]
        },
        {
          "output_type": "stream",
          "name": "stderr",
          "text": [
            "loss 0.00294 acc 0.99947: 100%|██████████| 297/297 [00:06<00:00, 44.78it/s]\n",
            "val_loss 0.00004 val_acc 1.00000: 100%|██████████| 53/53 [00:01<00:00, 34.18it/s]\n"
          ]
        },
        {
          "output_type": "stream",
          "name": "stdout",
          "text": [
            "Epoch 853/1000 loss 0.00294 val_loss 0.00004 acc 0.99947 val_acc 1.00000\n"
          ]
        },
        {
          "output_type": "stream",
          "name": "stderr",
          "text": [
            "loss 0.00120 acc 0.99968: 100%|██████████| 297/297 [00:06<00:00, 46.40it/s]\n",
            "val_loss 0.00003 val_acc 1.00000: 100%|██████████| 53/53 [00:01<00:00, 35.46it/s]\n"
          ]
        },
        {
          "output_type": "stream",
          "name": "stdout",
          "text": [
            "Epoch 854/1000 loss 0.00120 val_loss 0.00003 acc 0.99968 val_acc 1.00000\n"
          ]
        },
        {
          "output_type": "stream",
          "name": "stderr",
          "text": [
            "loss 0.00005 acc 1.00000: 100%|██████████| 297/297 [00:06<00:00, 48.35it/s]\n",
            "val_loss 0.00019 val_acc 1.00000: 100%|██████████| 53/53 [00:01<00:00, 38.04it/s]\n"
          ]
        },
        {
          "output_type": "stream",
          "name": "stdout",
          "text": [
            "Epoch 855/1000 loss 0.00005 val_loss 0.00019 acc 1.00000 val_acc 1.00000\n"
          ]
        },
        {
          "output_type": "stream",
          "name": "stderr",
          "text": [
            "loss 0.00002 acc 1.00000: 100%|██████████| 297/297 [00:06<00:00, 45.11it/s]\n",
            "val_loss 0.00022 val_acc 1.00000: 100%|██████████| 53/53 [00:01<00:00, 34.23it/s]\n"
          ]
        },
        {
          "output_type": "stream",
          "name": "stdout",
          "text": [
            "Epoch 856/1000 loss 0.00002 val_loss 0.00022 acc 1.00000 val_acc 1.00000\n"
          ]
        },
        {
          "output_type": "stream",
          "name": "stderr",
          "text": [
            "loss 0.00002 acc 1.00000: 100%|██████████| 297/297 [00:06<00:00, 48.54it/s]\n",
            "val_loss 0.00002 val_acc 1.00000: 100%|██████████| 53/53 [00:01<00:00, 37.74it/s]\n"
          ]
        },
        {
          "output_type": "stream",
          "name": "stdout",
          "text": [
            "Epoch 857/1000 loss 0.00002 val_loss 0.00002 acc 1.00000 val_acc 1.00000\n"
          ]
        },
        {
          "output_type": "stream",
          "name": "stderr",
          "text": [
            "loss 0.00014 acc 0.99989: 100%|██████████| 297/297 [00:05<00:00, 49.84it/s]\n",
            "val_loss 0.00132 val_acc 0.99941: 100%|██████████| 53/53 [00:01<00:00, 36.83it/s]\n"
          ]
        },
        {
          "output_type": "stream",
          "name": "stdout",
          "text": [
            "Epoch 858/1000 loss 0.00014 val_loss 0.00132 acc 0.99989 val_acc 0.99941\n"
          ]
        },
        {
          "output_type": "stream",
          "name": "stderr",
          "text": [
            "loss 0.00012 acc 0.99989: 100%|██████████| 297/297 [00:06<00:00, 43.97it/s]\n",
            "val_loss 0.00005 val_acc 1.00000: 100%|██████████| 53/53 [00:01<00:00, 33.72it/s]\n"
          ]
        },
        {
          "output_type": "stream",
          "name": "stdout",
          "text": [
            "Epoch 859/1000 loss 0.00012 val_loss 0.00005 acc 0.99989 val_acc 1.00000\n"
          ]
        },
        {
          "output_type": "stream",
          "name": "stderr",
          "text": [
            "loss 0.00003 acc 1.00000: 100%|██████████| 297/297 [00:05<00:00, 49.57it/s]\n",
            "val_loss 0.00109 val_acc 0.99941: 100%|██████████| 53/53 [00:01<00:00, 38.46it/s]\n"
          ]
        },
        {
          "output_type": "stream",
          "name": "stdout",
          "text": [
            "Epoch 860/1000 loss 0.00003 val_loss 0.00109 acc 1.00000 val_acc 0.99941\n",
            "Checkpoint guardado en /content/drive/MyDrive/SIS421 prueba dataset 1 test/Checkpoints/checkpoint.pth (Epoch 860)\n"
          ]
        },
        {
          "output_type": "stream",
          "name": "stderr",
          "text": [
            "loss 0.00004 acc 1.00000: 100%|██████████| 297/297 [00:06<00:00, 46.52it/s]\n",
            "val_loss 0.00016 val_acc 1.00000: 100%|██████████| 53/53 [00:01<00:00, 35.82it/s]\n"
          ]
        },
        {
          "output_type": "stream",
          "name": "stdout",
          "text": [
            "Epoch 861/1000 loss 0.00004 val_loss 0.00016 acc 1.00000 val_acc 1.00000\n"
          ]
        },
        {
          "output_type": "stream",
          "name": "stderr",
          "text": [
            "loss 0.00093 acc 0.99979: 100%|██████████| 297/297 [00:06<00:00, 44.00it/s]\n",
            "val_loss 0.00041 val_acc 1.00000: 100%|██████████| 53/53 [00:01<00:00, 36.47it/s]\n"
          ]
        },
        {
          "output_type": "stream",
          "name": "stdout",
          "text": [
            "Epoch 862/1000 loss 0.00093 val_loss 0.00041 acc 0.99979 val_acc 1.00000\n"
          ]
        },
        {
          "output_type": "stream",
          "name": "stderr",
          "text": [
            "loss 0.00006 acc 1.00000: 100%|██████████| 297/297 [00:06<00:00, 49.08it/s]\n",
            "val_loss 0.00061 val_acc 1.00000: 100%|██████████| 53/53 [00:01<00:00, 37.76it/s]\n"
          ]
        },
        {
          "output_type": "stream",
          "name": "stdout",
          "text": [
            "Epoch 863/1000 loss 0.00006 val_loss 0.00061 acc 1.00000 val_acc 1.00000\n"
          ]
        },
        {
          "output_type": "stream",
          "name": "stderr",
          "text": [
            "loss 0.00001 acc 1.00000: 100%|██████████| 297/297 [00:06<00:00, 45.68it/s]\n",
            "val_loss 0.00058 val_acc 1.00000: 100%|██████████| 53/53 [00:01<00:00, 34.42it/s]\n"
          ]
        },
        {
          "output_type": "stream",
          "name": "stdout",
          "text": [
            "Epoch 864/1000 loss 0.00001 val_loss 0.00058 acc 1.00000 val_acc 1.00000\n"
          ]
        },
        {
          "output_type": "stream",
          "name": "stderr",
          "text": [
            "loss 0.00026 acc 0.99989: 100%|██████████| 297/297 [00:06<00:00, 44.95it/s]\n",
            "val_loss 0.00021 val_acc 1.00000: 100%|██████████| 53/53 [00:01<00:00, 32.71it/s]\n"
          ]
        },
        {
          "output_type": "stream",
          "name": "stdout",
          "text": [
            "Epoch 865/1000 loss 0.00026 val_loss 0.00021 acc 0.99989 val_acc 1.00000\n"
          ]
        },
        {
          "output_type": "stream",
          "name": "stderr",
          "text": [
            "loss 0.00056 acc 0.99968: 100%|██████████| 297/297 [00:06<00:00, 48.43it/s]\n",
            "val_loss 0.00004 val_acc 1.00000: 100%|██████████| 53/53 [00:01<00:00, 35.33it/s]\n"
          ]
        },
        {
          "output_type": "stream",
          "name": "stdout",
          "text": [
            "Epoch 866/1000 loss 0.00056 val_loss 0.00004 acc 0.99968 val_acc 1.00000\n"
          ]
        },
        {
          "output_type": "stream",
          "name": "stderr",
          "text": [
            "loss 0.00088 acc 0.99979: 100%|██████████| 297/297 [00:06<00:00, 43.72it/s]\n",
            "val_loss 0.00016 val_acc 1.00000: 100%|██████████| 53/53 [00:01<00:00, 31.22it/s]\n"
          ]
        },
        {
          "output_type": "stream",
          "name": "stdout",
          "text": [
            "Epoch 867/1000 loss 0.00088 val_loss 0.00016 acc 0.99979 val_acc 1.00000\n"
          ]
        },
        {
          "output_type": "stream",
          "name": "stderr",
          "text": [
            "loss 0.00050 acc 0.99979: 100%|██████████| 297/297 [00:06<00:00, 43.02it/s]\n",
            "val_loss 0.00014 val_acc 1.00000: 100%|██████████| 53/53 [00:01<00:00, 41.12it/s]\n"
          ]
        },
        {
          "output_type": "stream",
          "name": "stdout",
          "text": [
            "Epoch 868/1000 loss 0.00050 val_loss 0.00014 acc 0.99979 val_acc 1.00000\n"
          ]
        },
        {
          "output_type": "stream",
          "name": "stderr",
          "text": [
            "loss 0.00076 acc 0.99968: 100%|██████████| 297/297 [00:05<00:00, 49.52it/s]\n",
            "val_loss 0.00008 val_acc 1.00000: 100%|██████████| 53/53 [00:01<00:00, 36.05it/s]\n"
          ]
        },
        {
          "output_type": "stream",
          "name": "stdout",
          "text": [
            "Epoch 869/1000 loss 0.00076 val_loss 0.00008 acc 0.99968 val_acc 1.00000\n"
          ]
        },
        {
          "output_type": "stream",
          "name": "stderr",
          "text": [
            "loss 0.00063 acc 0.99968: 100%|██████████| 297/297 [00:06<00:00, 43.02it/s]\n",
            "val_loss 0.00014 val_acc 1.00000: 100%|██████████| 53/53 [00:01<00:00, 33.75it/s]\n"
          ]
        },
        {
          "output_type": "stream",
          "name": "stdout",
          "text": [
            "Epoch 870/1000 loss 0.00063 val_loss 0.00014 acc 0.99968 val_acc 1.00000\n"
          ]
        },
        {
          "output_type": "stream",
          "name": "stderr",
          "text": [
            "loss 0.00070 acc 0.99989: 100%|██████████| 297/297 [00:06<00:00, 46.84it/s]\n",
            "val_loss 0.00005 val_acc 1.00000: 100%|██████████| 53/53 [00:01<00:00, 38.30it/s]\n"
          ]
        },
        {
          "output_type": "stream",
          "name": "stdout",
          "text": [
            "Epoch 871/1000 loss 0.00070 val_loss 0.00005 acc 0.99989 val_acc 1.00000\n"
          ]
        },
        {
          "output_type": "stream",
          "name": "stderr",
          "text": [
            "loss 0.00001 acc 1.00000: 100%|██████████| 297/297 [00:06<00:00, 49.00it/s]\n",
            "val_loss 0.00002 val_acc 1.00000: 100%|██████████| 53/53 [00:01<00:00, 32.90it/s]\n"
          ]
        },
        {
          "output_type": "stream",
          "name": "stdout",
          "text": [
            "Epoch 872/1000 loss 0.00001 val_loss 0.00002 acc 1.00000 val_acc 1.00000\n"
          ]
        },
        {
          "output_type": "stream",
          "name": "stderr",
          "text": [
            "loss 0.00023 acc 0.99989: 100%|██████████| 297/297 [00:06<00:00, 42.85it/s]\n",
            "val_loss 0.00014 val_acc 1.00000: 100%|██████████| 53/53 [00:01<00:00, 34.28it/s]\n"
          ]
        },
        {
          "output_type": "stream",
          "name": "stdout",
          "text": [
            "Epoch 873/1000 loss 0.00023 val_loss 0.00014 acc 0.99989 val_acc 1.00000\n"
          ]
        },
        {
          "output_type": "stream",
          "name": "stderr",
          "text": [
            "loss 0.00315 acc 0.99940: 100%|██████████| 297/297 [00:06<00:00, 47.48it/s]\n",
            "val_loss 0.00166 val_acc 0.99882: 100%|██████████| 53/53 [00:01<00:00, 41.75it/s]\n"
          ]
        },
        {
          "output_type": "stream",
          "name": "stdout",
          "text": [
            "Epoch 874/1000 loss 0.00315 val_loss 0.00166 acc 0.99940 val_acc 0.99882\n"
          ]
        },
        {
          "output_type": "stream",
          "name": "stderr",
          "text": [
            "loss 0.00014 acc 1.00000: 100%|██████████| 297/297 [00:06<00:00, 46.54it/s]\n",
            "val_loss 0.00295 val_acc 0.99941: 100%|██████████| 53/53 [00:01<00:00, 34.88it/s]\n"
          ]
        },
        {
          "output_type": "stream",
          "name": "stdout",
          "text": [
            "Epoch 875/1000 loss 0.00014 val_loss 0.00295 acc 1.00000 val_acc 0.99941\n"
          ]
        },
        {
          "output_type": "stream",
          "name": "stderr",
          "text": [
            "loss 0.00040 acc 0.99989: 100%|██████████| 297/297 [00:06<00:00, 42.93it/s]\n",
            "val_loss 0.00122 val_acc 0.99941: 100%|██████████| 53/53 [00:01<00:00, 36.20it/s]\n"
          ]
        },
        {
          "output_type": "stream",
          "name": "stdout",
          "text": [
            "Epoch 876/1000 loss 0.00040 val_loss 0.00122 acc 0.99989 val_acc 0.99941\n"
          ]
        },
        {
          "output_type": "stream",
          "name": "stderr",
          "text": [
            "loss 0.00117 acc 0.99958: 100%|██████████| 297/297 [00:06<00:00, 49.16it/s]\n",
            "val_loss 0.00133 val_acc 0.99941: 100%|██████████| 53/53 [00:01<00:00, 35.96it/s]\n"
          ]
        },
        {
          "output_type": "stream",
          "name": "stdout",
          "text": [
            "Epoch 877/1000 loss 0.00117 val_loss 0.00133 acc 0.99958 val_acc 0.99941\n"
          ]
        },
        {
          "output_type": "stream",
          "name": "stderr",
          "text": [
            "loss 0.00001 acc 1.00000: 100%|██████████| 297/297 [00:06<00:00, 44.20it/s]\n",
            "val_loss 0.00018 val_acc 1.00000: 100%|██████████| 53/53 [00:01<00:00, 31.12it/s]\n"
          ]
        },
        {
          "output_type": "stream",
          "name": "stdout",
          "text": [
            "Epoch 878/1000 loss 0.00001 val_loss 0.00018 acc 1.00000 val_acc 1.00000\n"
          ]
        },
        {
          "output_type": "stream",
          "name": "stderr",
          "text": [
            "loss 0.00268 acc 0.99972: 100%|██████████| 297/297 [00:06<00:00, 46.60it/s]\n",
            "val_loss 0.00133 val_acc 0.99941: 100%|██████████| 53/53 [00:01<00:00, 38.85it/s]\n"
          ]
        },
        {
          "output_type": "stream",
          "name": "stdout",
          "text": [
            "Epoch 879/1000 loss 0.00268 val_loss 0.00133 acc 0.99972 val_acc 0.99941\n"
          ]
        },
        {
          "output_type": "stream",
          "name": "stderr",
          "text": [
            "loss 0.00019 acc 0.99989: 100%|██████████| 297/297 [00:05<00:00, 50.83it/s]\n",
            "val_loss 0.00152 val_acc 0.99941: 100%|██████████| 53/53 [00:01<00:00, 34.82it/s]\n"
          ]
        },
        {
          "output_type": "stream",
          "name": "stdout",
          "text": [
            "Epoch 880/1000 loss 0.00019 val_loss 0.00152 acc 0.99989 val_acc 0.99941\n",
            "Checkpoint guardado en /content/drive/MyDrive/SIS421 prueba dataset 1 test/Checkpoints/checkpoint.pth (Epoch 880)\n"
          ]
        },
        {
          "output_type": "stream",
          "name": "stderr",
          "text": [
            "loss 0.00043 acc 0.99989: 100%|██████████| 297/297 [00:07<00:00, 41.80it/s]\n",
            "val_loss 0.00011 val_acc 1.00000: 100%|██████████| 53/53 [00:01<00:00, 28.98it/s]\n"
          ]
        },
        {
          "output_type": "stream",
          "name": "stdout",
          "text": [
            "Epoch 881/1000 loss 0.00043 val_loss 0.00011 acc 0.99989 val_acc 1.00000\n"
          ]
        },
        {
          "output_type": "stream",
          "name": "stderr",
          "text": [
            "loss 0.00021 acc 0.99989: 100%|██████████| 297/297 [00:06<00:00, 44.77it/s]\n",
            "val_loss 0.00087 val_acc 0.99941: 100%|██████████| 53/53 [00:01<00:00, 37.22it/s]\n"
          ]
        },
        {
          "output_type": "stream",
          "name": "stdout",
          "text": [
            "Epoch 882/1000 loss 0.00021 val_loss 0.00087 acc 0.99989 val_acc 0.99941\n"
          ]
        },
        {
          "output_type": "stream",
          "name": "stderr",
          "text": [
            "loss 0.00059 acc 0.99979: 100%|██████████| 297/297 [00:06<00:00, 45.71it/s]\n",
            "val_loss 0.00125 val_acc 0.99941: 100%|██████████| 53/53 [00:01<00:00, 34.71it/s]\n"
          ]
        },
        {
          "output_type": "stream",
          "name": "stdout",
          "text": [
            "Epoch 883/1000 loss 0.00059 val_loss 0.00125 acc 0.99979 val_acc 0.99941\n"
          ]
        },
        {
          "output_type": "stream",
          "name": "stderr",
          "text": [
            "loss 0.00009 acc 1.00000: 100%|██████████| 297/297 [00:06<00:00, 42.62it/s]\n",
            "val_loss 0.00009 val_acc 1.00000: 100%|██████████| 53/53 [00:01<00:00, 33.60it/s]\n"
          ]
        },
        {
          "output_type": "stream",
          "name": "stdout",
          "text": [
            "Epoch 884/1000 loss 0.00009 val_loss 0.00009 acc 1.00000 val_acc 1.00000\n"
          ]
        },
        {
          "output_type": "stream",
          "name": "stderr",
          "text": [
            "loss 0.00031 acc 0.99989: 100%|██████████| 297/297 [00:06<00:00, 47.13it/s]\n",
            "val_loss 0.00001 val_acc 1.00000: 100%|██████████| 53/53 [00:01<00:00, 35.68it/s]\n"
          ]
        },
        {
          "output_type": "stream",
          "name": "stdout",
          "text": [
            "Epoch 885/1000 loss 0.00031 val_loss 0.00001 acc 0.99989 val_acc 1.00000\n"
          ]
        },
        {
          "output_type": "stream",
          "name": "stderr",
          "text": [
            "loss 0.00000 acc 1.00000: 100%|██████████| 297/297 [00:06<00:00, 42.77it/s]\n",
            "val_loss 0.00002 val_acc 1.00000: 100%|██████████| 53/53 [00:01<00:00, 31.76it/s]\n"
          ]
        },
        {
          "output_type": "stream",
          "name": "stdout",
          "text": [
            "Epoch 886/1000 loss 0.00000 val_loss 0.00002 acc 1.00000 val_acc 1.00000\n"
          ]
        },
        {
          "output_type": "stream",
          "name": "stderr",
          "text": [
            "loss 0.00001 acc 1.00000: 100%|██████████| 297/297 [00:07<00:00, 41.89it/s]\n",
            "val_loss 0.00003 val_acc 1.00000: 100%|██████████| 53/53 [00:01<00:00, 35.52it/s]\n"
          ]
        },
        {
          "output_type": "stream",
          "name": "stdout",
          "text": [
            "Epoch 887/1000 loss 0.00001 val_loss 0.00003 acc 1.00000 val_acc 1.00000\n"
          ]
        },
        {
          "output_type": "stream",
          "name": "stderr",
          "text": [
            "loss 0.00017 acc 0.99989: 100%|██████████| 297/297 [00:05<00:00, 50.70it/s]\n",
            "val_loss 0.00011 val_acc 1.00000: 100%|██████████| 53/53 [00:01<00:00, 37.61it/s]\n"
          ]
        },
        {
          "output_type": "stream",
          "name": "stdout",
          "text": [
            "Epoch 888/1000 loss 0.00017 val_loss 0.00011 acc 0.99989 val_acc 1.00000\n"
          ]
        },
        {
          "output_type": "stream",
          "name": "stderr",
          "text": [
            "loss 0.00009 acc 0.99989: 100%|██████████| 297/297 [00:06<00:00, 43.74it/s]\n",
            "val_loss 0.00066 val_acc 0.99941: 100%|██████████| 53/53 [00:01<00:00, 35.78it/s]\n"
          ]
        },
        {
          "output_type": "stream",
          "name": "stdout",
          "text": [
            "Epoch 889/1000 loss 0.00009 val_loss 0.00066 acc 0.99989 val_acc 0.99941\n"
          ]
        },
        {
          "output_type": "stream",
          "name": "stderr",
          "text": [
            "loss 0.00003 acc 1.00000: 100%|██████████| 297/297 [00:06<00:00, 43.78it/s]\n",
            "val_loss 0.00012 val_acc 1.00000: 100%|██████████| 53/53 [00:01<00:00, 37.61it/s]\n"
          ]
        },
        {
          "output_type": "stream",
          "name": "stdout",
          "text": [
            "Epoch 890/1000 loss 0.00003 val_loss 0.00012 acc 1.00000 val_acc 1.00000\n"
          ]
        },
        {
          "output_type": "stream",
          "name": "stderr",
          "text": [
            "loss 0.00037 acc 0.99989: 100%|██████████| 297/297 [00:05<00:00, 50.26it/s]\n",
            "val_loss 0.00001 val_acc 1.00000: 100%|██████████| 53/53 [00:01<00:00, 36.74it/s]\n"
          ]
        },
        {
          "output_type": "stream",
          "name": "stdout",
          "text": [
            "Epoch 891/1000 loss 0.00037 val_loss 0.00001 acc 0.99989 val_acc 1.00000\n"
          ]
        },
        {
          "output_type": "stream",
          "name": "stderr",
          "text": [
            "loss 0.00001 acc 1.00000: 100%|██████████| 297/297 [00:06<00:00, 44.83it/s]\n",
            "val_loss 0.00015 val_acc 1.00000: 100%|██████████| 53/53 [00:01<00:00, 34.68it/s]\n"
          ]
        },
        {
          "output_type": "stream",
          "name": "stdout",
          "text": [
            "Epoch 892/1000 loss 0.00001 val_loss 0.00015 acc 1.00000 val_acc 1.00000\n"
          ]
        },
        {
          "output_type": "stream",
          "name": "stderr",
          "text": [
            "loss 0.00013 acc 0.99989: 100%|██████████| 297/297 [00:06<00:00, 47.16it/s]\n",
            "val_loss 0.00032 val_acc 1.00000: 100%|██████████| 53/53 [00:01<00:00, 36.21it/s]\n"
          ]
        },
        {
          "output_type": "stream",
          "name": "stdout",
          "text": [
            "Epoch 893/1000 loss 0.00013 val_loss 0.00032 acc 0.99989 val_acc 1.00000\n"
          ]
        },
        {
          "output_type": "stream",
          "name": "stderr",
          "text": [
            "loss 0.00159 acc 0.99968: 100%|██████████| 297/297 [00:06<00:00, 48.52it/s]\n",
            "val_loss 0.00005 val_acc 1.00000: 100%|██████████| 53/53 [00:01<00:00, 35.07it/s]\n"
          ]
        },
        {
          "output_type": "stream",
          "name": "stdout",
          "text": [
            "Epoch 894/1000 loss 0.00159 val_loss 0.00005 acc 0.99968 val_acc 1.00000\n"
          ]
        },
        {
          "output_type": "stream",
          "name": "stderr",
          "text": [
            "loss 0.00177 acc 0.99979: 100%|██████████| 297/297 [00:06<00:00, 44.30it/s]\n",
            "val_loss 0.00002 val_acc 1.00000: 100%|██████████| 53/53 [00:01<00:00, 36.85it/s]\n"
          ]
        },
        {
          "output_type": "stream",
          "name": "stdout",
          "text": [
            "Epoch 895/1000 loss 0.00177 val_loss 0.00002 acc 0.99979 val_acc 1.00000\n"
          ]
        },
        {
          "output_type": "stream",
          "name": "stderr",
          "text": [
            "loss 0.00195 acc 0.99979: 100%|██████████| 297/297 [00:05<00:00, 49.75it/s]\n",
            "val_loss 0.00008 val_acc 1.00000: 100%|██████████| 53/53 [00:01<00:00, 38.91it/s]\n"
          ]
        },
        {
          "output_type": "stream",
          "name": "stdout",
          "text": [
            "Epoch 896/1000 loss 0.00195 val_loss 0.00008 acc 0.99979 val_acc 1.00000\n"
          ]
        },
        {
          "output_type": "stream",
          "name": "stderr",
          "text": [
            "loss 0.00022 acc 0.99989: 100%|██████████| 297/297 [00:06<00:00, 46.54it/s]\n",
            "val_loss 0.00002 val_acc 1.00000: 100%|██████████| 53/53 [00:01<00:00, 35.78it/s]\n"
          ]
        },
        {
          "output_type": "stream",
          "name": "stdout",
          "text": [
            "Epoch 897/1000 loss 0.00022 val_loss 0.00002 acc 0.99989 val_acc 1.00000\n"
          ]
        },
        {
          "output_type": "stream",
          "name": "stderr",
          "text": [
            "loss 0.00004 acc 1.00000: 100%|██████████| 297/297 [00:06<00:00, 43.00it/s]\n",
            "val_loss 0.00016 val_acc 1.00000: 100%|██████████| 53/53 [00:01<00:00, 36.73it/s]\n"
          ]
        },
        {
          "output_type": "stream",
          "name": "stdout",
          "text": [
            "Epoch 898/1000 loss 0.00004 val_loss 0.00016 acc 1.00000 val_acc 1.00000\n"
          ]
        },
        {
          "output_type": "stream",
          "name": "stderr",
          "text": [
            "loss 0.00155 acc 0.99972: 100%|██████████| 297/297 [00:06<00:00, 48.50it/s]\n",
            "val_loss 0.00002 val_acc 1.00000: 100%|██████████| 53/53 [00:01<00:00, 37.40it/s]\n"
          ]
        },
        {
          "output_type": "stream",
          "name": "stdout",
          "text": [
            "Epoch 899/1000 loss 0.00155 val_loss 0.00002 acc 0.99972 val_acc 1.00000\n"
          ]
        },
        {
          "output_type": "stream",
          "name": "stderr",
          "text": [
            "loss 0.00057 acc 0.99979: 100%|██████████| 297/297 [00:06<00:00, 44.83it/s]\n",
            "val_loss 0.00007 val_acc 1.00000: 100%|██████████| 53/53 [00:01<00:00, 32.38it/s]\n"
          ]
        },
        {
          "output_type": "stream",
          "name": "stdout",
          "text": [
            "Epoch 900/1000 loss 0.00057 val_loss 0.00007 acc 0.99979 val_acc 1.00000\n",
            "Checkpoint guardado en /content/drive/MyDrive/SIS421 prueba dataset 1 test/Checkpoints/checkpoint.pth (Epoch 900)\n"
          ]
        },
        {
          "output_type": "stream",
          "name": "stderr",
          "text": [
            "loss 0.00011 acc 1.00000: 100%|██████████| 297/297 [00:06<00:00, 42.68it/s]\n",
            "val_loss 0.00002 val_acc 1.00000: 100%|██████████| 53/53 [00:01<00:00, 32.21it/s]\n"
          ]
        },
        {
          "output_type": "stream",
          "name": "stdout",
          "text": [
            "Epoch 901/1000 loss 0.00011 val_loss 0.00002 acc 1.00000 val_acc 1.00000\n"
          ]
        },
        {
          "output_type": "stream",
          "name": "stderr",
          "text": [
            "loss 0.00006 acc 1.00000: 100%|██████████| 297/297 [00:06<00:00, 47.74it/s]\n",
            "val_loss 0.00004 val_acc 1.00000: 100%|██████████| 53/53 [00:01<00:00, 37.52it/s]\n"
          ]
        },
        {
          "output_type": "stream",
          "name": "stdout",
          "text": [
            "Epoch 902/1000 loss 0.00006 val_loss 0.00004 acc 1.00000 val_acc 1.00000\n"
          ]
        },
        {
          "output_type": "stream",
          "name": "stderr",
          "text": [
            "loss 0.00201 acc 0.99961: 100%|██████████| 297/297 [00:06<00:00, 45.78it/s]\n",
            "val_loss 0.00116 val_acc 0.99941: 100%|██████████| 53/53 [00:01<00:00, 32.05it/s]\n"
          ]
        },
        {
          "output_type": "stream",
          "name": "stdout",
          "text": [
            "Epoch 903/1000 loss 0.00201 val_loss 0.00116 acc 0.99961 val_acc 0.99941\n"
          ]
        },
        {
          "output_type": "stream",
          "name": "stderr",
          "text": [
            "loss 0.00118 acc 0.99958: 100%|██████████| 297/297 [00:06<00:00, 44.60it/s]\n",
            "val_loss 0.00069 val_acc 1.00000: 100%|██████████| 53/53 [00:01<00:00, 36.82it/s]\n"
          ]
        },
        {
          "output_type": "stream",
          "name": "stdout",
          "text": [
            "Epoch 904/1000 loss 0.00118 val_loss 0.00069 acc 0.99958 val_acc 1.00000\n"
          ]
        },
        {
          "output_type": "stream",
          "name": "stderr",
          "text": [
            "loss 0.00002 acc 1.00000: 100%|██████████| 297/297 [00:06<00:00, 47.49it/s]\n",
            "val_loss 0.00095 val_acc 0.99882: 100%|██████████| 53/53 [00:01<00:00, 35.07it/s]\n"
          ]
        },
        {
          "output_type": "stream",
          "name": "stdout",
          "text": [
            "Epoch 905/1000 loss 0.00002 val_loss 0.00095 acc 1.00000 val_acc 0.99882\n"
          ]
        },
        {
          "output_type": "stream",
          "name": "stderr",
          "text": [
            "loss 0.00001 acc 1.00000: 100%|██████████| 297/297 [00:06<00:00, 44.15it/s]\n",
            "val_loss 0.00132 val_acc 0.99882: 100%|██████████| 53/53 [00:01<00:00, 30.60it/s]\n"
          ]
        },
        {
          "output_type": "stream",
          "name": "stdout",
          "text": [
            "Epoch 906/1000 loss 0.00001 val_loss 0.00132 acc 1.00000 val_acc 0.99882\n"
          ]
        },
        {
          "output_type": "stream",
          "name": "stderr",
          "text": [
            "loss 0.00002 acc 1.00000: 100%|██████████| 297/297 [00:06<00:00, 49.44it/s]\n",
            "val_loss 0.00059 val_acc 1.00000: 100%|██████████| 53/53 [00:01<00:00, 34.82it/s]\n"
          ]
        },
        {
          "output_type": "stream",
          "name": "stdout",
          "text": [
            "Epoch 907/1000 loss 0.00002 val_loss 0.00059 acc 1.00000 val_acc 1.00000\n"
          ]
        },
        {
          "output_type": "stream",
          "name": "stderr",
          "text": [
            "loss 0.00290 acc 0.99926: 100%|██████████| 297/297 [00:07<00:00, 39.27it/s]\n",
            "val_loss 0.05033 val_acc 0.98998: 100%|██████████| 53/53 [00:01<00:00, 35.61it/s]\n"
          ]
        },
        {
          "output_type": "stream",
          "name": "stdout",
          "text": [
            "Epoch 908/1000 loss 0.00290 val_loss 0.05033 acc 0.99926 val_acc 0.98998\n"
          ]
        },
        {
          "output_type": "stream",
          "name": "stderr",
          "text": [
            "loss 0.00178 acc 0.99968: 100%|██████████| 297/297 [00:06<00:00, 43.42it/s]\n",
            "val_loss 0.00009 val_acc 1.00000: 100%|██████████| 53/53 [00:01<00:00, 33.34it/s]\n"
          ]
        },
        {
          "output_type": "stream",
          "name": "stdout",
          "text": [
            "Epoch 909/1000 loss 0.00178 val_loss 0.00009 acc 0.99968 val_acc 1.00000\n"
          ]
        },
        {
          "output_type": "stream",
          "name": "stderr",
          "text": [
            "loss 0.00004 acc 1.00000: 100%|██████████| 297/297 [00:06<00:00, 47.35it/s]\n",
            "val_loss 0.00013 val_acc 1.00000: 100%|██████████| 53/53 [00:01<00:00, 34.06it/s]\n"
          ]
        },
        {
          "output_type": "stream",
          "name": "stdout",
          "text": [
            "Epoch 910/1000 loss 0.00004 val_loss 0.00013 acc 1.00000 val_acc 1.00000\n"
          ]
        },
        {
          "output_type": "stream",
          "name": "stderr",
          "text": [
            "loss 0.00003 acc 1.00000: 100%|██████████| 297/297 [00:06<00:00, 46.75it/s]\n",
            "val_loss 0.00001 val_acc 1.00000: 100%|██████████| 53/53 [00:01<00:00, 32.87it/s]\n"
          ]
        },
        {
          "output_type": "stream",
          "name": "stdout",
          "text": [
            "Epoch 911/1000 loss 0.00003 val_loss 0.00001 acc 1.00000 val_acc 1.00000\n"
          ]
        },
        {
          "output_type": "stream",
          "name": "stderr",
          "text": [
            "loss 0.00006 acc 1.00000: 100%|██████████| 297/297 [00:06<00:00, 44.04it/s]\n",
            "val_loss 0.00001 val_acc 1.00000: 100%|██████████| 53/53 [00:01<00:00, 37.53it/s]\n"
          ]
        },
        {
          "output_type": "stream",
          "name": "stdout",
          "text": [
            "Epoch 912/1000 loss 0.00006 val_loss 0.00001 acc 1.00000 val_acc 1.00000\n"
          ]
        },
        {
          "output_type": "stream",
          "name": "stderr",
          "text": [
            "loss 0.00003 acc 1.00000: 100%|██████████| 297/297 [00:06<00:00, 48.70it/s]\n",
            "val_loss 0.00009 val_acc 1.00000: 100%|██████████| 53/53 [00:01<00:00, 36.97it/s]\n"
          ]
        },
        {
          "output_type": "stream",
          "name": "stdout",
          "text": [
            "Epoch 913/1000 loss 0.00003 val_loss 0.00009 acc 1.00000 val_acc 1.00000\n"
          ]
        },
        {
          "output_type": "stream",
          "name": "stderr",
          "text": [
            "loss 0.00024 acc 0.99989: 100%|██████████| 297/297 [00:06<00:00, 43.50it/s]\n",
            "val_loss 0.00001 val_acc 1.00000: 100%|██████████| 53/53 [00:01<00:00, 35.59it/s]\n"
          ]
        },
        {
          "output_type": "stream",
          "name": "stdout",
          "text": [
            "Epoch 914/1000 loss 0.00024 val_loss 0.00001 acc 0.99989 val_acc 1.00000\n"
          ]
        },
        {
          "output_type": "stream",
          "name": "stderr",
          "text": [
            "loss 0.00002 acc 1.00000: 100%|██████████| 297/297 [00:06<00:00, 45.61it/s]\n",
            "val_loss 0.00005 val_acc 1.00000: 100%|██████████| 53/53 [00:01<00:00, 38.60it/s]\n"
          ]
        },
        {
          "output_type": "stream",
          "name": "stdout",
          "text": [
            "Epoch 915/1000 loss 0.00002 val_loss 0.00005 acc 1.00000 val_acc 1.00000\n"
          ]
        },
        {
          "output_type": "stream",
          "name": "stderr",
          "text": [
            "loss 0.00027 acc 0.99989: 100%|██████████| 297/297 [00:06<00:00, 47.79it/s]\n",
            "val_loss 0.00002 val_acc 1.00000: 100%|██████████| 53/53 [00:01<00:00, 31.63it/s]\n"
          ]
        },
        {
          "output_type": "stream",
          "name": "stdout",
          "text": [
            "Epoch 916/1000 loss 0.00027 val_loss 0.00002 acc 0.99989 val_acc 1.00000\n"
          ]
        },
        {
          "output_type": "stream",
          "name": "stderr",
          "text": [
            "loss 0.00004 acc 1.00000: 100%|██████████| 297/297 [00:06<00:00, 43.74it/s]\n",
            "val_loss 0.00010 val_acc 1.00000: 100%|██████████| 53/53 [00:01<00:00, 33.42it/s]\n"
          ]
        },
        {
          "output_type": "stream",
          "name": "stdout",
          "text": [
            "Epoch 917/1000 loss 0.00004 val_loss 0.00010 acc 1.00000 val_acc 1.00000\n"
          ]
        },
        {
          "output_type": "stream",
          "name": "stderr",
          "text": [
            "loss 0.00004 acc 1.00000: 100%|██████████| 297/297 [00:05<00:00, 49.68it/s]\n",
            "val_loss 0.00014 val_acc 1.00000: 100%|██████████| 53/53 [00:01<00:00, 39.69it/s]\n"
          ]
        },
        {
          "output_type": "stream",
          "name": "stdout",
          "text": [
            "Epoch 918/1000 loss 0.00004 val_loss 0.00014 acc 1.00000 val_acc 1.00000\n"
          ]
        },
        {
          "output_type": "stream",
          "name": "stderr",
          "text": [
            "loss 0.00028 acc 0.99979: 100%|██████████| 297/297 [00:06<00:00, 45.80it/s]\n",
            "val_loss 0.00005 val_acc 1.00000: 100%|██████████| 53/53 [00:01<00:00, 37.53it/s]\n"
          ]
        },
        {
          "output_type": "stream",
          "name": "stdout",
          "text": [
            "Epoch 919/1000 loss 0.00028 val_loss 0.00005 acc 0.99979 val_acc 1.00000\n"
          ]
        },
        {
          "output_type": "stream",
          "name": "stderr",
          "text": [
            "loss 0.00006 acc 1.00000: 100%|██████████| 297/297 [00:07<00:00, 41.58it/s]\n",
            "val_loss 0.00025 val_acc 1.00000: 100%|██████████| 53/53 [00:01<00:00, 33.65it/s]\n"
          ]
        },
        {
          "output_type": "stream",
          "name": "stdout",
          "text": [
            "Epoch 920/1000 loss 0.00006 val_loss 0.00025 acc 1.00000 val_acc 1.00000\n",
            "Checkpoint guardado en /content/drive/MyDrive/SIS421 prueba dataset 1 test/Checkpoints/checkpoint.pth (Epoch 920)\n"
          ]
        },
        {
          "output_type": "stream",
          "name": "stderr",
          "text": [
            "loss 0.00003 acc 1.00000: 100%|██████████| 297/297 [00:06<00:00, 49.29it/s]\n",
            "val_loss 0.00008 val_acc 1.00000: 100%|██████████| 53/53 [00:01<00:00, 36.89it/s]\n"
          ]
        },
        {
          "output_type": "stream",
          "name": "stdout",
          "text": [
            "Epoch 921/1000 loss 0.00003 val_loss 0.00008 acc 1.00000 val_acc 1.00000\n"
          ]
        },
        {
          "output_type": "stream",
          "name": "stderr",
          "text": [
            "loss 0.00075 acc 0.99989: 100%|██████████| 297/297 [00:06<00:00, 45.69it/s]\n",
            "val_loss 0.01048 val_acc 0.99823: 100%|██████████| 53/53 [00:01<00:00, 35.52it/s]\n"
          ]
        },
        {
          "output_type": "stream",
          "name": "stdout",
          "text": [
            "Epoch 922/1000 loss 0.00075 val_loss 0.01048 acc 0.99989 val_acc 0.99823\n"
          ]
        },
        {
          "output_type": "stream",
          "name": "stderr",
          "text": [
            "loss 0.00022 acc 0.99989: 100%|██████████| 297/297 [00:06<00:00, 43.61it/s]\n",
            "val_loss 0.00132 val_acc 0.99882: 100%|██████████| 53/53 [00:01<00:00, 34.19it/s]\n"
          ]
        },
        {
          "output_type": "stream",
          "name": "stdout",
          "text": [
            "Epoch 923/1000 loss 0.00022 val_loss 0.00132 acc 0.99989 val_acc 0.99882\n"
          ]
        },
        {
          "output_type": "stream",
          "name": "stderr",
          "text": [
            "loss 0.00003 acc 1.00000: 100%|██████████| 297/297 [00:05<00:00, 49.80it/s]\n",
            "val_loss 0.00182 val_acc 0.99941: 100%|██████████| 53/53 [00:01<00:00, 38.38it/s]\n"
          ]
        },
        {
          "output_type": "stream",
          "name": "stdout",
          "text": [
            "Epoch 924/1000 loss 0.00003 val_loss 0.00182 acc 1.00000 val_acc 0.99941\n"
          ]
        },
        {
          "output_type": "stream",
          "name": "stderr",
          "text": [
            "loss 0.00008 acc 1.00000: 100%|██████████| 297/297 [00:06<00:00, 45.34it/s]\n",
            "val_loss 0.00498 val_acc 0.99882: 100%|██████████| 53/53 [00:01<00:00, 34.31it/s]\n"
          ]
        },
        {
          "output_type": "stream",
          "name": "stdout",
          "text": [
            "Epoch 925/1000 loss 0.00008 val_loss 0.00498 acc 1.00000 val_acc 0.99882\n"
          ]
        },
        {
          "output_type": "stream",
          "name": "stderr",
          "text": [
            "loss 0.00072 acc 0.99989: 100%|██████████| 297/297 [00:06<00:00, 42.93it/s]\n",
            "val_loss 0.00513 val_acc 0.99882: 100%|██████████| 53/53 [00:01<00:00, 33.53it/s]\n"
          ]
        },
        {
          "output_type": "stream",
          "name": "stdout",
          "text": [
            "Epoch 926/1000 loss 0.00072 val_loss 0.00513 acc 0.99989 val_acc 0.99882\n"
          ]
        },
        {
          "output_type": "stream",
          "name": "stderr",
          "text": [
            "loss 0.00039 acc 0.99989: 100%|██████████| 297/297 [00:05<00:00, 50.14it/s]\n",
            "val_loss 0.00052 val_acc 0.99941: 100%|██████████| 53/53 [00:01<00:00, 35.94it/s]\n"
          ]
        },
        {
          "output_type": "stream",
          "name": "stdout",
          "text": [
            "Epoch 927/1000 loss 0.00039 val_loss 0.00052 acc 0.99989 val_acc 0.99941\n"
          ]
        },
        {
          "output_type": "stream",
          "name": "stderr",
          "text": [
            "loss 0.00010 acc 1.00000: 100%|██████████| 297/297 [00:06<00:00, 44.21it/s]\n",
            "val_loss 0.00021 val_acc 1.00000: 100%|██████████| 53/53 [00:01<00:00, 33.19it/s]\n"
          ]
        },
        {
          "output_type": "stream",
          "name": "stdout",
          "text": [
            "Epoch 928/1000 loss 0.00010 val_loss 0.00021 acc 1.00000 val_acc 1.00000\n"
          ]
        },
        {
          "output_type": "stream",
          "name": "stderr",
          "text": [
            "loss 0.00002 acc 1.00000: 100%|██████████| 297/297 [00:06<00:00, 43.38it/s]\n",
            "val_loss 0.00005 val_acc 1.00000: 100%|██████████| 53/53 [00:01<00:00, 35.81it/s]\n"
          ]
        },
        {
          "output_type": "stream",
          "name": "stdout",
          "text": [
            "Epoch 929/1000 loss 0.00002 val_loss 0.00005 acc 1.00000 val_acc 1.00000\n"
          ]
        },
        {
          "output_type": "stream",
          "name": "stderr",
          "text": [
            "loss 0.00190 acc 0.99951: 100%|██████████| 297/297 [00:06<00:00, 48.35it/s]\n",
            "val_loss 0.00032 val_acc 1.00000: 100%|██████████| 53/53 [00:01<00:00, 34.21it/s]\n"
          ]
        },
        {
          "output_type": "stream",
          "name": "stdout",
          "text": [
            "Epoch 930/1000 loss 0.00190 val_loss 0.00032 acc 0.99951 val_acc 1.00000\n"
          ]
        },
        {
          "output_type": "stream",
          "name": "stderr",
          "text": [
            "loss 0.00078 acc 0.99979: 100%|██████████| 297/297 [00:07<00:00, 41.93it/s]\n",
            "val_loss 0.00121 val_acc 0.99941: 100%|██████████| 53/53 [00:01<00:00, 35.48it/s]\n"
          ]
        },
        {
          "output_type": "stream",
          "name": "stdout",
          "text": [
            "Epoch 931/1000 loss 0.00078 val_loss 0.00121 acc 0.99979 val_acc 0.99941\n"
          ]
        },
        {
          "output_type": "stream",
          "name": "stderr",
          "text": [
            "loss 0.00007 acc 1.00000: 100%|██████████| 297/297 [00:06<00:00, 44.08it/s]\n",
            "val_loss 0.00001 val_acc 1.00000: 100%|██████████| 53/53 [00:01<00:00, 39.13it/s]\n"
          ]
        },
        {
          "output_type": "stream",
          "name": "stdout",
          "text": [
            "Epoch 932/1000 loss 0.00007 val_loss 0.00001 acc 1.00000 val_acc 1.00000\n"
          ]
        },
        {
          "output_type": "stream",
          "name": "stderr",
          "text": [
            "loss 0.00019 acc 0.99989: 100%|██████████| 297/297 [00:06<00:00, 46.61it/s]\n",
            "val_loss 0.00001 val_acc 1.00000: 100%|██████████| 53/53 [00:01<00:00, 36.11it/s]\n"
          ]
        },
        {
          "output_type": "stream",
          "name": "stdout",
          "text": [
            "Epoch 933/1000 loss 0.00019 val_loss 0.00001 acc 0.99989 val_acc 1.00000\n"
          ]
        },
        {
          "output_type": "stream",
          "name": "stderr",
          "text": [
            "loss 0.00003 acc 1.00000: 100%|██████████| 297/297 [00:07<00:00, 40.76it/s]\n",
            "val_loss 0.00000 val_acc 1.00000: 100%|██████████| 53/53 [00:01<00:00, 31.67it/s]\n"
          ]
        },
        {
          "output_type": "stream",
          "name": "stdout",
          "text": [
            "Epoch 934/1000 loss 0.00003 val_loss 0.00000 acc 1.00000 val_acc 1.00000\n"
          ]
        },
        {
          "output_type": "stream",
          "name": "stderr",
          "text": [
            "loss 0.00003 acc 1.00000: 100%|██████████| 297/297 [00:06<00:00, 47.23it/s]\n",
            "val_loss 0.00001 val_acc 1.00000: 100%|██████████| 53/53 [00:01<00:00, 35.78it/s]\n"
          ]
        },
        {
          "output_type": "stream",
          "name": "stdout",
          "text": [
            "Epoch 935/1000 loss 0.00003 val_loss 0.00001 acc 1.00000 val_acc 1.00000\n"
          ]
        },
        {
          "output_type": "stream",
          "name": "stderr",
          "text": [
            "loss 0.00003 acc 1.00000: 100%|██████████| 297/297 [00:06<00:00, 43.58it/s]\n",
            "val_loss 0.00000 val_acc 1.00000: 100%|██████████| 53/53 [00:01<00:00, 32.72it/s]\n"
          ]
        },
        {
          "output_type": "stream",
          "name": "stdout",
          "text": [
            "Epoch 936/1000 loss 0.00003 val_loss 0.00000 acc 1.00000 val_acc 1.00000\n"
          ]
        },
        {
          "output_type": "stream",
          "name": "stderr",
          "text": [
            "loss 0.00131 acc 0.99968: 100%|██████████| 297/297 [00:06<00:00, 43.67it/s]\n",
            "val_loss 0.00006 val_acc 1.00000: 100%|██████████| 53/53 [00:01<00:00, 34.05it/s]\n"
          ]
        },
        {
          "output_type": "stream",
          "name": "stdout",
          "text": [
            "Epoch 937/1000 loss 0.00131 val_loss 0.00006 acc 0.99968 val_acc 1.00000\n"
          ]
        },
        {
          "output_type": "stream",
          "name": "stderr",
          "text": [
            "loss 0.00004 acc 1.00000: 100%|██████████| 297/297 [00:06<00:00, 46.23it/s]\n",
            "val_loss 0.00003 val_acc 1.00000: 100%|██████████| 53/53 [00:01<00:00, 36.50it/s]\n"
          ]
        },
        {
          "output_type": "stream",
          "name": "stdout",
          "text": [
            "Epoch 938/1000 loss 0.00004 val_loss 0.00003 acc 1.00000 val_acc 1.00000\n"
          ]
        },
        {
          "output_type": "stream",
          "name": "stderr",
          "text": [
            "loss 0.00009 acc 0.99989: 100%|██████████| 297/297 [00:07<00:00, 41.56it/s]\n",
            "val_loss 0.00054 val_acc 0.99941: 100%|██████████| 53/53 [00:01<00:00, 33.52it/s]\n"
          ]
        },
        {
          "output_type": "stream",
          "name": "stdout",
          "text": [
            "Epoch 939/1000 loss 0.00009 val_loss 0.00054 acc 0.99989 val_acc 0.99941\n"
          ]
        },
        {
          "output_type": "stream",
          "name": "stderr",
          "text": [
            "loss 0.00012 acc 0.99989: 100%|██████████| 297/297 [00:06<00:00, 43.33it/s]\n",
            "val_loss 0.00011 val_acc 1.00000: 100%|██████████| 53/53 [00:01<00:00, 36.64it/s]\n"
          ]
        },
        {
          "output_type": "stream",
          "name": "stdout",
          "text": [
            "Epoch 940/1000 loss 0.00012 val_loss 0.00011 acc 0.99989 val_acc 1.00000\n",
            "Checkpoint guardado en /content/drive/MyDrive/SIS421 prueba dataset 1 test/Checkpoints/checkpoint.pth (Epoch 940)\n"
          ]
        },
        {
          "output_type": "stream",
          "name": "stderr",
          "text": [
            "loss 0.00004 acc 1.00000: 100%|██████████| 297/297 [00:06<00:00, 46.57it/s]\n",
            "val_loss 0.00044 val_acc 0.99941: 100%|██████████| 53/53 [00:01<00:00, 30.49it/s]\n"
          ]
        },
        {
          "output_type": "stream",
          "name": "stdout",
          "text": [
            "Epoch 941/1000 loss 0.00004 val_loss 0.00044 acc 1.00000 val_acc 0.99941\n"
          ]
        },
        {
          "output_type": "stream",
          "name": "stderr",
          "text": [
            "loss 0.00296 acc 0.99958: 100%|██████████| 297/297 [00:06<00:00, 42.64it/s]\n",
            "val_loss 0.00015 val_acc 1.00000: 100%|██████████| 53/53 [00:01<00:00, 35.04it/s]\n"
          ]
        },
        {
          "output_type": "stream",
          "name": "stdout",
          "text": [
            "Epoch 942/1000 loss 0.00296 val_loss 0.00015 acc 0.99958 val_acc 1.00000\n"
          ]
        },
        {
          "output_type": "stream",
          "name": "stderr",
          "text": [
            "loss 0.00015 acc 1.00000: 100%|██████████| 297/297 [00:06<00:00, 46.90it/s]\n",
            "val_loss 0.00072 val_acc 1.00000: 100%|██████████| 53/53 [00:01<00:00, 34.80it/s]\n"
          ]
        },
        {
          "output_type": "stream",
          "name": "stdout",
          "text": [
            "Epoch 943/1000 loss 0.00015 val_loss 0.00072 acc 1.00000 val_acc 1.00000\n"
          ]
        },
        {
          "output_type": "stream",
          "name": "stderr",
          "text": [
            "loss 0.00008 acc 1.00000: 100%|██████████| 297/297 [00:06<00:00, 47.63it/s]\n",
            "val_loss 0.00026 val_acc 1.00000: 100%|██████████| 53/53 [00:01<00:00, 33.65it/s]\n"
          ]
        },
        {
          "output_type": "stream",
          "name": "stdout",
          "text": [
            "Epoch 944/1000 loss 0.00008 val_loss 0.00026 acc 1.00000 val_acc 1.00000\n"
          ]
        },
        {
          "output_type": "stream",
          "name": "stderr",
          "text": [
            "loss 0.00001 acc 1.00000: 100%|██████████| 297/297 [00:07<00:00, 41.76it/s]\n",
            "val_loss 0.00005 val_acc 1.00000: 100%|██████████| 53/53 [00:01<00:00, 36.36it/s]\n"
          ]
        },
        {
          "output_type": "stream",
          "name": "stdout",
          "text": [
            "Epoch 945/1000 loss 0.00001 val_loss 0.00005 acc 1.00000 val_acc 1.00000\n"
          ]
        },
        {
          "output_type": "stream",
          "name": "stderr",
          "text": [
            "loss 0.00057 acc 0.99979: 100%|██████████| 297/297 [00:06<00:00, 45.93it/s]\n",
            "val_loss 0.00126 val_acc 0.99882: 100%|██████████| 53/53 [00:01<00:00, 35.61it/s]\n"
          ]
        },
        {
          "output_type": "stream",
          "name": "stdout",
          "text": [
            "Epoch 946/1000 loss 0.00057 val_loss 0.00126 acc 0.99979 val_acc 0.99882\n"
          ]
        },
        {
          "output_type": "stream",
          "name": "stderr",
          "text": [
            "loss 0.00376 acc 0.99947: 100%|██████████| 297/297 [00:06<00:00, 43.08it/s]\n",
            "val_loss 0.00235 val_acc 0.99941: 100%|██████████| 53/53 [00:01<00:00, 33.36it/s]\n"
          ]
        },
        {
          "output_type": "stream",
          "name": "stdout",
          "text": [
            "Epoch 947/1000 loss 0.00376 val_loss 0.00235 acc 0.99947 val_acc 0.99941\n"
          ]
        },
        {
          "output_type": "stream",
          "name": "stderr",
          "text": [
            "loss 0.00028 acc 0.99989: 100%|██████████| 297/297 [00:06<00:00, 44.20it/s]\n",
            "val_loss 0.00015 val_acc 1.00000: 100%|██████████| 53/53 [00:01<00:00, 35.37it/s]\n"
          ]
        },
        {
          "output_type": "stream",
          "name": "stdout",
          "text": [
            "Epoch 948/1000 loss 0.00028 val_loss 0.00015 acc 0.99989 val_acc 1.00000\n"
          ]
        },
        {
          "output_type": "stream",
          "name": "stderr",
          "text": [
            "loss 0.00012 acc 0.99989: 100%|██████████| 297/297 [00:06<00:00, 47.23it/s]\n",
            "val_loss 0.00208 val_acc 0.99882: 100%|██████████| 53/53 [00:01<00:00, 37.40it/s]\n"
          ]
        },
        {
          "output_type": "stream",
          "name": "stdout",
          "text": [
            "Epoch 949/1000 loss 0.00012 val_loss 0.00208 acc 0.99989 val_acc 0.99882\n"
          ]
        },
        {
          "output_type": "stream",
          "name": "stderr",
          "text": [
            "loss 0.00042 acc 0.99989: 100%|██████████| 297/297 [00:06<00:00, 42.90it/s]\n",
            "val_loss 0.00094 val_acc 0.99941: 100%|██████████| 53/53 [00:01<00:00, 31.54it/s]\n"
          ]
        },
        {
          "output_type": "stream",
          "name": "stdout",
          "text": [
            "Epoch 950/1000 loss 0.00042 val_loss 0.00094 acc 0.99989 val_acc 0.99941\n"
          ]
        },
        {
          "output_type": "stream",
          "name": "stderr",
          "text": [
            "loss 0.00008 acc 1.00000: 100%|██████████| 297/297 [00:06<00:00, 46.64it/s]\n",
            "val_loss 0.00112 val_acc 0.99941: 100%|██████████| 53/53 [00:01<00:00, 32.82it/s]\n"
          ]
        },
        {
          "output_type": "stream",
          "name": "stdout",
          "text": [
            "Epoch 951/1000 loss 0.00008 val_loss 0.00112 acc 1.00000 val_acc 0.99941\n"
          ]
        },
        {
          "output_type": "stream",
          "name": "stderr",
          "text": [
            "loss 0.00001 acc 1.00000: 100%|██████████| 297/297 [00:06<00:00, 44.68it/s]\n",
            "val_loss 0.00108 val_acc 0.99941: 100%|██████████| 53/53 [00:01<00:00, 33.01it/s]\n"
          ]
        },
        {
          "output_type": "stream",
          "name": "stdout",
          "text": [
            "Epoch 952/1000 loss 0.00001 val_loss 0.00108 acc 1.00000 val_acc 0.99941\n"
          ]
        },
        {
          "output_type": "stream",
          "name": "stderr",
          "text": [
            "loss 0.00035 acc 0.99989: 100%|██████████| 297/297 [00:06<00:00, 43.43it/s]\n",
            "val_loss 0.00208 val_acc 0.99882: 100%|██████████| 53/53 [00:01<00:00, 33.83it/s]\n"
          ]
        },
        {
          "output_type": "stream",
          "name": "stdout",
          "text": [
            "Epoch 953/1000 loss 0.00035 val_loss 0.00208 acc 0.99989 val_acc 0.99882\n"
          ]
        },
        {
          "output_type": "stream",
          "name": "stderr",
          "text": [
            "loss 0.00034 acc 0.99972: 100%|██████████| 297/297 [00:06<00:00, 49.32it/s]\n",
            "val_loss 0.00263 val_acc 0.99941: 100%|██████████| 53/53 [00:01<00:00, 36.51it/s]\n"
          ]
        },
        {
          "output_type": "stream",
          "name": "stdout",
          "text": [
            "Epoch 954/1000 loss 0.00034 val_loss 0.00263 acc 0.99972 val_acc 0.99941\n"
          ]
        },
        {
          "output_type": "stream",
          "name": "stderr",
          "text": [
            "loss 0.00097 acc 0.99968: 100%|██████████| 297/297 [00:06<00:00, 45.87it/s]\n",
            "val_loss 0.00427 val_acc 0.99823: 100%|██████████| 53/53 [00:01<00:00, 33.47it/s]\n"
          ]
        },
        {
          "output_type": "stream",
          "name": "stdout",
          "text": [
            "Epoch 955/1000 loss 0.00097 val_loss 0.00427 acc 0.99968 val_acc 0.99823\n"
          ]
        },
        {
          "output_type": "stream",
          "name": "stderr",
          "text": [
            "loss 0.00035 acc 0.99989: 100%|██████████| 297/297 [00:06<00:00, 43.94it/s]\n",
            "val_loss 0.00082 val_acc 1.00000: 100%|██████████| 53/53 [00:01<00:00, 35.37it/s]\n"
          ]
        },
        {
          "output_type": "stream",
          "name": "stdout",
          "text": [
            "Epoch 956/1000 loss 0.00035 val_loss 0.00082 acc 0.99989 val_acc 1.00000\n"
          ]
        },
        {
          "output_type": "stream",
          "name": "stderr",
          "text": [
            "loss 0.00006 acc 1.00000: 100%|██████████| 297/297 [00:06<00:00, 46.78it/s]\n",
            "val_loss 0.00206 val_acc 0.99882: 100%|██████████| 53/53 [00:01<00:00, 37.25it/s]\n"
          ]
        },
        {
          "output_type": "stream",
          "name": "stdout",
          "text": [
            "Epoch 957/1000 loss 0.00006 val_loss 0.00206 acc 1.00000 val_acc 0.99882\n"
          ]
        },
        {
          "output_type": "stream",
          "name": "stderr",
          "text": [
            "loss 0.00057 acc 0.99979: 100%|██████████| 297/297 [00:06<00:00, 42.68it/s]\n",
            "val_loss 0.01217 val_acc 0.99764: 100%|██████████| 53/53 [00:01<00:00, 30.35it/s]\n"
          ]
        },
        {
          "output_type": "stream",
          "name": "stdout",
          "text": [
            "Epoch 958/1000 loss 0.00057 val_loss 0.01217 acc 0.99979 val_acc 0.99764\n"
          ]
        },
        {
          "output_type": "stream",
          "name": "stderr",
          "text": [
            "loss 0.00003 acc 1.00000: 100%|██████████| 297/297 [00:06<00:00, 45.83it/s]\n",
            "val_loss 0.00881 val_acc 0.99764: 100%|██████████| 53/53 [00:01<00:00, 38.47it/s]\n"
          ]
        },
        {
          "output_type": "stream",
          "name": "stdout",
          "text": [
            "Epoch 959/1000 loss 0.00003 val_loss 0.00881 acc 1.00000 val_acc 0.99764\n"
          ]
        },
        {
          "output_type": "stream",
          "name": "stderr",
          "text": [
            "loss 0.00012 acc 1.00000: 100%|██████████| 297/297 [00:06<00:00, 47.77it/s]\n",
            "val_loss 0.00379 val_acc 0.99882: 100%|██████████| 53/53 [00:01<00:00, 32.42it/s]\n"
          ]
        },
        {
          "output_type": "stream",
          "name": "stdout",
          "text": [
            "Epoch 960/1000 loss 0.00012 val_loss 0.00379 acc 1.00000 val_acc 0.99882\n",
            "Checkpoint guardado en /content/drive/MyDrive/SIS421 prueba dataset 1 test/Checkpoints/checkpoint.pth (Epoch 960)\n"
          ]
        },
        {
          "output_type": "stream",
          "name": "stderr",
          "text": [
            "loss 0.00007 acc 1.00000: 100%|██████████| 297/297 [00:06<00:00, 42.82it/s]\n",
            "val_loss 0.00228 val_acc 0.99882: 100%|██████████| 53/53 [00:01<00:00, 32.09it/s]\n"
          ]
        },
        {
          "output_type": "stream",
          "name": "stdout",
          "text": [
            "Epoch 961/1000 loss 0.00007 val_loss 0.00228 acc 1.00000 val_acc 0.99882\n"
          ]
        },
        {
          "output_type": "stream",
          "name": "stderr",
          "text": [
            "loss 0.00052 acc 0.99989: 100%|██████████| 297/297 [00:06<00:00, 47.76it/s]\n",
            "val_loss 0.00263 val_acc 0.99941: 100%|██████████| 53/53 [00:01<00:00, 34.61it/s]\n"
          ]
        },
        {
          "output_type": "stream",
          "name": "stdout",
          "text": [
            "Epoch 962/1000 loss 0.00052 val_loss 0.00263 acc 0.99989 val_acc 0.99941\n"
          ]
        },
        {
          "output_type": "stream",
          "name": "stderr",
          "text": [
            "loss 0.00004 acc 1.00000: 100%|██████████| 297/297 [00:06<00:00, 46.68it/s]\n",
            "val_loss 0.00057 val_acc 1.00000: 100%|██████████| 53/53 [00:01<00:00, 34.23it/s]\n"
          ]
        },
        {
          "output_type": "stream",
          "name": "stdout",
          "text": [
            "Epoch 963/1000 loss 0.00004 val_loss 0.00057 acc 1.00000 val_acc 1.00000\n"
          ]
        },
        {
          "output_type": "stream",
          "name": "stderr",
          "text": [
            "loss 0.00010 acc 1.00000: 100%|██████████| 297/297 [00:06<00:00, 43.24it/s]\n",
            "val_loss 0.00350 val_acc 0.99882: 100%|██████████| 53/53 [00:01<00:00, 37.10it/s]\n"
          ]
        },
        {
          "output_type": "stream",
          "name": "stdout",
          "text": [
            "Epoch 964/1000 loss 0.00010 val_loss 0.00350 acc 1.00000 val_acc 0.99882\n"
          ]
        },
        {
          "output_type": "stream",
          "name": "stderr",
          "text": [
            "loss 0.00002 acc 1.00000: 100%|██████████| 297/297 [00:06<00:00, 46.75it/s]\n",
            "val_loss 0.00256 val_acc 0.99941: 100%|██████████| 53/53 [00:01<00:00, 35.19it/s]\n"
          ]
        },
        {
          "output_type": "stream",
          "name": "stdout",
          "text": [
            "Epoch 965/1000 loss 0.00002 val_loss 0.00256 acc 1.00000 val_acc 0.99941\n"
          ]
        },
        {
          "output_type": "stream",
          "name": "stderr",
          "text": [
            "loss 0.00039 acc 0.99979: 100%|██████████| 297/297 [00:06<00:00, 43.19it/s]\n",
            "val_loss 0.00600 val_acc 0.99764: 100%|██████████| 53/53 [00:01<00:00, 34.60it/s]\n"
          ]
        },
        {
          "output_type": "stream",
          "name": "stdout",
          "text": [
            "Epoch 966/1000 loss 0.00039 val_loss 0.00600 acc 0.99979 val_acc 0.99764\n"
          ]
        },
        {
          "output_type": "stream",
          "name": "stderr",
          "text": [
            "loss 0.00009 acc 1.00000: 100%|██████████| 297/297 [00:06<00:00, 43.51it/s]\n",
            "val_loss 0.00875 val_acc 0.99764: 100%|██████████| 53/53 [00:01<00:00, 34.65it/s]\n"
          ]
        },
        {
          "output_type": "stream",
          "name": "stdout",
          "text": [
            "Epoch 967/1000 loss 0.00009 val_loss 0.00875 acc 1.00000 val_acc 0.99764\n"
          ]
        },
        {
          "output_type": "stream",
          "name": "stderr",
          "text": [
            "loss 0.00663 acc 0.99923: 100%|██████████| 297/297 [00:05<00:00, 50.08it/s]\n",
            "val_loss 0.00928 val_acc 0.99882: 100%|██████████| 53/53 [00:01<00:00, 37.51it/s]\n"
          ]
        },
        {
          "output_type": "stream",
          "name": "stdout",
          "text": [
            "Epoch 968/1000 loss 0.00663 val_loss 0.00928 acc 0.99923 val_acc 0.99882\n"
          ]
        },
        {
          "output_type": "stream",
          "name": "stderr",
          "text": [
            "loss 0.00279 acc 0.99947: 100%|██████████| 297/297 [00:06<00:00, 44.39it/s]\n",
            "val_loss 0.00478 val_acc 0.99882: 100%|██████████| 53/53 [00:01<00:00, 33.30it/s]\n"
          ]
        },
        {
          "output_type": "stream",
          "name": "stdout",
          "text": [
            "Epoch 969/1000 loss 0.00279 val_loss 0.00478 acc 0.99947 val_acc 0.99882\n"
          ]
        },
        {
          "output_type": "stream",
          "name": "stderr",
          "text": [
            "loss 0.00043 acc 0.99979: 100%|██████████| 297/297 [00:06<00:00, 42.93it/s]\n",
            "val_loss 0.00461 val_acc 0.99882: 100%|██████████| 53/53 [00:01<00:00, 36.52it/s]\n"
          ]
        },
        {
          "output_type": "stream",
          "name": "stdout",
          "text": [
            "Epoch 970/1000 loss 0.00043 val_loss 0.00461 acc 0.99979 val_acc 0.99882\n"
          ]
        },
        {
          "output_type": "stream",
          "name": "stderr",
          "text": [
            "loss 0.00007 acc 1.00000: 100%|██████████| 297/297 [00:06<00:00, 47.71it/s]\n",
            "val_loss 0.00308 val_acc 0.99882: 100%|██████████| 53/53 [00:01<00:00, 37.67it/s]\n"
          ]
        },
        {
          "output_type": "stream",
          "name": "stdout",
          "text": [
            "Epoch 971/1000 loss 0.00007 val_loss 0.00308 acc 1.00000 val_acc 0.99882\n"
          ]
        },
        {
          "output_type": "stream",
          "name": "stderr",
          "text": [
            "loss 0.00005 acc 1.00000: 100%|██████████| 297/297 [00:06<00:00, 46.60it/s]\n",
            "val_loss 0.00270 val_acc 0.99941: 100%|██████████| 53/53 [00:01<00:00, 33.46it/s]\n"
          ]
        },
        {
          "output_type": "stream",
          "name": "stdout",
          "text": [
            "Epoch 972/1000 loss 0.00005 val_loss 0.00270 acc 1.00000 val_acc 0.99941\n"
          ]
        },
        {
          "output_type": "stream",
          "name": "stderr",
          "text": [
            "loss 0.00011 acc 1.00000: 100%|██████████| 297/297 [00:06<00:00, 45.29it/s]\n",
            "val_loss 0.00201 val_acc 0.99941: 100%|██████████| 53/53 [00:01<00:00, 35.78it/s]\n"
          ]
        },
        {
          "output_type": "stream",
          "name": "stdout",
          "text": [
            "Epoch 973/1000 loss 0.00011 val_loss 0.00201 acc 1.00000 val_acc 0.99941\n"
          ]
        },
        {
          "output_type": "stream",
          "name": "stderr",
          "text": [
            "loss 0.00024 acc 0.99989: 100%|██████████| 297/297 [00:06<00:00, 48.18it/s]\n",
            "val_loss 0.00532 val_acc 0.99882: 100%|██████████| 53/53 [00:01<00:00, 36.08it/s]\n"
          ]
        },
        {
          "output_type": "stream",
          "name": "stdout",
          "text": [
            "Epoch 974/1000 loss 0.00024 val_loss 0.00532 acc 0.99989 val_acc 0.99882\n"
          ]
        },
        {
          "output_type": "stream",
          "name": "stderr",
          "text": [
            "loss 0.00015 acc 1.00000: 100%|██████████| 297/297 [00:06<00:00, 45.09it/s]\n",
            "val_loss 0.00048 val_acc 1.00000: 100%|██████████| 53/53 [00:01<00:00, 32.42it/s]\n"
          ]
        },
        {
          "output_type": "stream",
          "name": "stdout",
          "text": [
            "Epoch 975/1000 loss 0.00015 val_loss 0.00048 acc 1.00000 val_acc 1.00000\n"
          ]
        },
        {
          "output_type": "stream",
          "name": "stderr",
          "text": [
            "loss 0.00005 acc 1.00000: 100%|██████████| 297/297 [00:06<00:00, 46.72it/s]\n",
            "val_loss 0.00089 val_acc 0.99941: 100%|██████████| 53/53 [00:01<00:00, 37.40it/s]\n"
          ]
        },
        {
          "output_type": "stream",
          "name": "stdout",
          "text": [
            "Epoch 976/1000 loss 0.00005 val_loss 0.00089 acc 1.00000 val_acc 0.99941\n"
          ]
        },
        {
          "output_type": "stream",
          "name": "stderr",
          "text": [
            "loss 0.00000 acc 1.00000: 100%|██████████| 297/297 [00:06<00:00, 46.82it/s]\n",
            "val_loss 0.00074 val_acc 1.00000: 100%|██████████| 53/53 [00:01<00:00, 33.92it/s]\n"
          ]
        },
        {
          "output_type": "stream",
          "name": "stdout",
          "text": [
            "Epoch 977/1000 loss 0.00000 val_loss 0.00074 acc 1.00000 val_acc 1.00000\n"
          ]
        },
        {
          "output_type": "stream",
          "name": "stderr",
          "text": [
            "loss 0.00013 acc 1.00000: 100%|██████████| 297/297 [00:06<00:00, 47.19it/s]\n",
            "val_loss 0.00292 val_acc 0.99882: 100%|██████████| 53/53 [00:01<00:00, 34.93it/s]\n"
          ]
        },
        {
          "output_type": "stream",
          "name": "stdout",
          "text": [
            "Epoch 978/1000 loss 0.00013 val_loss 0.00292 acc 1.00000 val_acc 0.99882\n"
          ]
        },
        {
          "output_type": "stream",
          "name": "stderr",
          "text": [
            "loss 0.00171 acc 0.99972: 100%|██████████| 297/297 [00:06<00:00, 47.74it/s]\n",
            "val_loss 0.00008 val_acc 1.00000: 100%|██████████| 53/53 [00:01<00:00, 38.29it/s]\n"
          ]
        },
        {
          "output_type": "stream",
          "name": "stdout",
          "text": [
            "Epoch 979/1000 loss 0.00171 val_loss 0.00008 acc 0.99972 val_acc 1.00000\n"
          ]
        },
        {
          "output_type": "stream",
          "name": "stderr",
          "text": [
            "loss 0.00086 acc 0.99968: 100%|██████████| 297/297 [00:06<00:00, 46.66it/s]\n",
            "val_loss 0.00084 val_acc 0.99941: 100%|██████████| 53/53 [00:01<00:00, 33.87it/s]\n"
          ]
        },
        {
          "output_type": "stream",
          "name": "stdout",
          "text": [
            "Epoch 980/1000 loss 0.00086 val_loss 0.00084 acc 0.99968 val_acc 0.99941\n",
            "Checkpoint guardado en /content/drive/MyDrive/SIS421 prueba dataset 1 test/Checkpoints/checkpoint.pth (Epoch 980)\n"
          ]
        },
        {
          "output_type": "stream",
          "name": "stderr",
          "text": [
            "loss 0.00004 acc 1.00000: 100%|██████████| 297/297 [00:07<00:00, 42.37it/s]\n",
            "val_loss 0.00116 val_acc 0.99941: 100%|██████████| 53/53 [00:01<00:00, 37.62it/s]\n"
          ]
        },
        {
          "output_type": "stream",
          "name": "stdout",
          "text": [
            "Epoch 981/1000 loss 0.00004 val_loss 0.00116 acc 1.00000 val_acc 0.99941\n"
          ]
        },
        {
          "output_type": "stream",
          "name": "stderr",
          "text": [
            "loss 0.00002 acc 1.00000: 100%|██████████| 297/297 [00:06<00:00, 48.44it/s]\n",
            "val_loss 0.00414 val_acc 0.99823: 100%|██████████| 53/53 [00:01<00:00, 36.20it/s]\n"
          ]
        },
        {
          "output_type": "stream",
          "name": "stdout",
          "text": [
            "Epoch 982/1000 loss 0.00002 val_loss 0.00414 acc 1.00000 val_acc 0.99823\n"
          ]
        },
        {
          "output_type": "stream",
          "name": "stderr",
          "text": [
            "loss 0.00001 acc 1.00000: 100%|██████████| 297/297 [00:06<00:00, 45.20it/s]\n",
            "val_loss 0.00123 val_acc 0.99941: 100%|██████████| 53/53 [00:01<00:00, 35.14it/s]\n"
          ]
        },
        {
          "output_type": "stream",
          "name": "stdout",
          "text": [
            "Epoch 983/1000 loss 0.00001 val_loss 0.00123 acc 1.00000 val_acc 0.99941\n"
          ]
        },
        {
          "output_type": "stream",
          "name": "stderr",
          "text": [
            "loss 0.00017 acc 0.99989: 100%|██████████| 297/297 [00:06<00:00, 45.13it/s]\n",
            "val_loss 0.00130 val_acc 0.99941: 100%|██████████| 53/53 [00:01<00:00, 35.09it/s]\n"
          ]
        },
        {
          "output_type": "stream",
          "name": "stdout",
          "text": [
            "Epoch 984/1000 loss 0.00017 val_loss 0.00130 acc 0.99989 val_acc 0.99941\n"
          ]
        },
        {
          "output_type": "stream",
          "name": "stderr",
          "text": [
            "loss 0.00001 acc 1.00000: 100%|██████████| 297/297 [00:06<00:00, 48.66it/s]\n",
            "val_loss 0.00006 val_acc 1.00000: 100%|██████████| 53/53 [00:01<00:00, 32.77it/s]\n"
          ]
        },
        {
          "output_type": "stream",
          "name": "stdout",
          "text": [
            "Epoch 985/1000 loss 0.00001 val_loss 0.00006 acc 1.00000 val_acc 1.00000\n"
          ]
        },
        {
          "output_type": "stream",
          "name": "stderr",
          "text": [
            "loss 0.00003 acc 1.00000: 100%|██████████| 297/297 [00:06<00:00, 44.61it/s]\n",
            "val_loss 0.00082 val_acc 0.99941: 100%|██████████| 53/53 [00:01<00:00, 33.06it/s]\n"
          ]
        },
        {
          "output_type": "stream",
          "name": "stdout",
          "text": [
            "Epoch 986/1000 loss 0.00003 val_loss 0.00082 acc 1.00000 val_acc 0.99941\n"
          ]
        },
        {
          "output_type": "stream",
          "name": "stderr",
          "text": [
            "loss 0.00003 acc 1.00000: 100%|██████████| 297/297 [00:06<00:00, 42.74it/s]\n",
            "val_loss 0.00029 val_acc 1.00000: 100%|██████████| 53/53 [00:01<00:00, 33.81it/s]\n"
          ]
        },
        {
          "output_type": "stream",
          "name": "stdout",
          "text": [
            "Epoch 987/1000 loss 0.00003 val_loss 0.00029 acc 1.00000 val_acc 1.00000\n"
          ]
        },
        {
          "output_type": "stream",
          "name": "stderr",
          "text": [
            "loss 0.00001 acc 1.00000: 100%|██████████| 297/297 [00:06<00:00, 48.58it/s]\n",
            "val_loss 0.00081 val_acc 1.00000: 100%|██████████| 53/53 [00:01<00:00, 36.99it/s]\n"
          ]
        },
        {
          "output_type": "stream",
          "name": "stdout",
          "text": [
            "Epoch 988/1000 loss 0.00001 val_loss 0.00081 acc 1.00000 val_acc 1.00000\n"
          ]
        },
        {
          "output_type": "stream",
          "name": "stderr",
          "text": [
            "loss 0.00000 acc 1.00000: 100%|██████████| 297/297 [00:06<00:00, 45.34it/s]\n",
            "val_loss 0.00036 val_acc 1.00000: 100%|██████████| 53/53 [00:01<00:00, 34.45it/s]\n"
          ]
        },
        {
          "output_type": "stream",
          "name": "stdout",
          "text": [
            "Epoch 989/1000 loss 0.00000 val_loss 0.00036 acc 1.00000 val_acc 1.00000\n"
          ]
        },
        {
          "output_type": "stream",
          "name": "stderr",
          "text": [
            "loss 0.00007 acc 1.00000: 100%|██████████| 297/297 [00:06<00:00, 44.61it/s]\n",
            "val_loss 0.00077 val_acc 1.00000: 100%|██████████| 53/53 [00:01<00:00, 36.88it/s]\n"
          ]
        },
        {
          "output_type": "stream",
          "name": "stdout",
          "text": [
            "Epoch 990/1000 loss 0.00007 val_loss 0.00077 acc 1.00000 val_acc 1.00000\n"
          ]
        },
        {
          "output_type": "stream",
          "name": "stderr",
          "text": [
            "loss 0.00035 acc 0.99979: 100%|██████████| 297/297 [00:06<00:00, 47.92it/s]\n",
            "val_loss 0.00015 val_acc 1.00000: 100%|██████████| 53/53 [00:01<00:00, 33.79it/s]\n"
          ]
        },
        {
          "output_type": "stream",
          "name": "stdout",
          "text": [
            "Epoch 991/1000 loss 0.00035 val_loss 0.00015 acc 0.99979 val_acc 1.00000\n"
          ]
        },
        {
          "output_type": "stream",
          "name": "stderr",
          "text": [
            "loss 0.00060 acc 0.99968: 100%|██████████| 297/297 [00:06<00:00, 42.89it/s]\n",
            "val_loss 0.00033 val_acc 1.00000: 100%|██████████| 53/53 [00:01<00:00, 33.56it/s]\n"
          ]
        },
        {
          "output_type": "stream",
          "name": "stdout",
          "text": [
            "Epoch 992/1000 loss 0.00060 val_loss 0.00033 acc 0.99968 val_acc 1.00000\n"
          ]
        },
        {
          "output_type": "stream",
          "name": "stderr",
          "text": [
            "loss 0.00024 acc 0.99989: 100%|██████████| 297/297 [00:06<00:00, 45.77it/s]\n",
            "val_loss 0.00006 val_acc 1.00000: 100%|██████████| 53/53 [00:01<00:00, 33.05it/s]\n"
          ]
        },
        {
          "output_type": "stream",
          "name": "stdout",
          "text": [
            "Epoch 993/1000 loss 0.00024 val_loss 0.00006 acc 0.99989 val_acc 1.00000\n"
          ]
        },
        {
          "output_type": "stream",
          "name": "stderr",
          "text": [
            "loss 0.00013 acc 0.99989: 100%|██████████| 297/297 [00:06<00:00, 46.45it/s]\n",
            "val_loss 0.00017 val_acc 1.00000: 100%|██████████| 53/53 [00:01<00:00, 34.54it/s]\n"
          ]
        },
        {
          "output_type": "stream",
          "name": "stdout",
          "text": [
            "Epoch 994/1000 loss 0.00013 val_loss 0.00017 acc 0.99989 val_acc 1.00000\n"
          ]
        },
        {
          "output_type": "stream",
          "name": "stderr",
          "text": [
            "loss 0.00024 acc 0.99989: 100%|██████████| 297/297 [00:06<00:00, 43.08it/s]\n",
            "val_loss 0.00002 val_acc 1.00000: 100%|██████████| 53/53 [00:01<00:00, 33.01it/s]\n"
          ]
        },
        {
          "output_type": "stream",
          "name": "stdout",
          "text": [
            "Epoch 995/1000 loss 0.00024 val_loss 0.00002 acc 0.99989 val_acc 1.00000\n"
          ]
        },
        {
          "output_type": "stream",
          "name": "stderr",
          "text": [
            "loss 0.00519 acc 0.99944: 100%|██████████| 297/297 [00:06<00:00, 47.57it/s]\n",
            "val_loss 0.00000 val_acc 1.00000: 100%|██████████| 53/53 [00:01<00:00, 33.94it/s]\n"
          ]
        },
        {
          "output_type": "stream",
          "name": "stdout",
          "text": [
            "Epoch 996/1000 loss 0.00519 val_loss 0.00000 acc 0.99944 val_acc 1.00000\n"
          ]
        },
        {
          "output_type": "stream",
          "name": "stderr",
          "text": [
            "loss 0.00153 acc 0.99958: 100%|██████████| 297/297 [00:06<00:00, 45.64it/s]\n",
            "val_loss 0.00003 val_acc 1.00000: 100%|██████████| 53/53 [00:01<00:00, 33.33it/s]\n"
          ]
        },
        {
          "output_type": "stream",
          "name": "stdout",
          "text": [
            "Epoch 997/1000 loss 0.00153 val_loss 0.00003 acc 0.99958 val_acc 1.00000\n"
          ]
        },
        {
          "output_type": "stream",
          "name": "stderr",
          "text": [
            "loss 0.00029 acc 0.99989: 100%|██████████| 297/297 [00:06<00:00, 43.29it/s]\n",
            "val_loss 0.00002 val_acc 1.00000: 100%|██████████| 53/53 [00:01<00:00, 37.40it/s]\n"
          ]
        },
        {
          "output_type": "stream",
          "name": "stdout",
          "text": [
            "Epoch 998/1000 loss 0.00029 val_loss 0.00002 acc 0.99989 val_acc 1.00000\n"
          ]
        },
        {
          "output_type": "stream",
          "name": "stderr",
          "text": [
            "loss 0.00002 acc 1.00000: 100%|██████████| 297/297 [00:06<00:00, 47.92it/s]\n",
            "val_loss 0.00001 val_acc 1.00000: 100%|██████████| 53/53 [00:01<00:00, 36.87it/s]\n"
          ]
        },
        {
          "output_type": "stream",
          "name": "stdout",
          "text": [
            "Epoch 999/1000 loss 0.00002 val_loss 0.00001 acc 1.00000 val_acc 1.00000\n"
          ]
        },
        {
          "output_type": "stream",
          "name": "stderr",
          "text": [
            "loss 0.00003 acc 1.00000: 100%|██████████| 297/297 [00:06<00:00, 45.68it/s]\n",
            "val_loss 0.00001 val_acc 1.00000: 100%|██████████| 53/53 [00:01<00:00, 33.53it/s]\n"
          ]
        },
        {
          "output_type": "stream",
          "name": "stdout",
          "text": [
            "Epoch 1000/1000 loss 0.00003 val_loss 0.00001 acc 1.00000 val_acc 1.00000\n",
            "Checkpoint guardado en /content/drive/MyDrive/SIS421 prueba dataset 1 test/Checkpoints/checkpoint.pth (Epoch 1000)\n"
          ]
        }
      ]
    },
    {
      "cell_type": "code",
      "source": [
        "import torch.nn as nn\n",
        "import torch\n",
        "\n",
        "class CustomModel(nn.Module):\n",
        "    def __init__(self):\n",
        "        super(CustomModel, self).__init__()\n",
        "        # Añadir más capas o personalizar según sea necesario\n",
        "        self.flatten = nn.Flatten()  # Añadir una capa de aplanamiento\n",
        "        self.fc1 = nn.Linear(32*32*3, 100)  # Cambiar D_in a 32*32*3 si las imágenes son 32x32 RGB\n",
        "        self.bn1 = nn.BatchNorm1d(100)\n",
        "        self.relu = nn.ReLU()\n",
        "        self.fc2 = nn.Linear(100, 100)\n",
        "        self.bn2 = nn.BatchNorm1d(100)\n",
        "        self.fc3 = nn.Linear(100, 10)\n",
        "\n",
        "    def forward(self, x):\n",
        "        x = self.flatten(x)  # Aplanar el tensor de entrada\n",
        "        x = self.fc1(x)\n",
        "        x = self.bn1(x)\n",
        "        x = self.relu(x)\n",
        "        x = self.fc2(x)\n",
        "        x = self.bn2(x)\n",
        "        x = self.relu(x)\n",
        "        x = self.fc3(x)\n",
        "        return x\n",
        "\n",
        "# Instanciar el modelo\n",
        "model = CustomModel().to(device)\n",
        "\n",
        "\n"
      ],
      "metadata": {
        "id": "QPRxy4OqpC4r"
      },
      "execution_count": 40,
      "outputs": []
    },
    {
      "cell_type": "code",
      "source": [
        "\n",
        "# Evaluar el modelo modificado\n",
        "evaluate(model, test_loader, criterion)"
      ],
      "metadata": {
        "colab": {
          "base_uri": "https://localhost:8080/"
        },
        "id": "0rIsTRVip3B4",
        "outputId": "f98147d9-6fef-4b1a-ad39-0091b6438ff6"
      },
      "execution_count": 41,
      "outputs": [
        {
          "output_type": "stream",
          "name": "stderr",
          "text": [
            "Evaluating: 100%|██████████| 53/53 [00:01<00:00, 38.10it/s]"
          ]
        },
        {
          "output_type": "stream",
          "name": "stdout",
          "text": [
            "Test Loss: 2.2945, Test Accuracy: 0.0159\n"
          ]
        },
        {
          "output_type": "stream",
          "name": "stderr",
          "text": [
            "\n"
          ]
        },
        {
          "output_type": "execute_result",
          "data": {
            "text/plain": [
              "(2.2945140802635335, 0.015919811320754717)"
            ]
          },
          "metadata": {},
          "execution_count": 41
        }
      ]
    },
    {
      "cell_type": "markdown",
      "source": [
        "## Exportacion de datos con torchscrip"
      ],
      "metadata": {
        "id": "FV1VL_49qahd"
      }
    },
    {
      "cell_type": "code",
      "source": [
        "# Crear un tensor de entrada de ejemplo con el tamaño de tu input\n",
        "example_input = torch.randn(1, 3, 32, 32).to(device)\n",
        "\n",
        "# Trazar el modelo usando torch.jit.trace\n",
        "traced_model = torch.jit.trace(model, example_input)\n",
        "\n",
        "# Guardar el modelo trazado\n",
        "torch.jit.save(traced_model, 'model_scripted.pt')\n",
        "\n",
        "print(\"Modelo exportado como TorchScript.\")"
      ],
      "metadata": {
        "colab": {
          "base_uri": "https://localhost:8080/"
        },
        "id": "xYD9nD5_qYzJ",
        "outputId": "87385bc2-f810-4d5c-9996-3ac3efff3abf"
      },
      "execution_count": 53,
      "outputs": [
        {
          "output_type": "stream",
          "name": "stdout",
          "text": [
            "Modelo exportado como TorchScript.\n"
          ]
        }
      ]
    },
    {
      "cell_type": "code",
      "source": [
        "loaded_model = torch.jit.load('model_scripted.pt')\n",
        "loaded_model.eval()\n"
      ],
      "metadata": {
        "colab": {
          "base_uri": "https://localhost:8080/"
        },
        "id": "DDTsY550uCNK",
        "outputId": "fb4ec0ea-ed95-4309-a6ca-7723abdc0367"
      },
      "execution_count": 54,
      "outputs": [
        {
          "output_type": "execute_result",
          "data": {
            "text/plain": [
              "RecursiveScriptModule(\n",
              "  original_name=CustomModel\n",
              "  (flatten): RecursiveScriptModule(original_name=Flatten)\n",
              "  (fc1): RecursiveScriptModule(original_name=Linear)\n",
              "  (bn1): RecursiveScriptModule(original_name=BatchNorm1d)\n",
              "  (relu): RecursiveScriptModule(original_name=ReLU)\n",
              "  (fc2): RecursiveScriptModule(original_name=Linear)\n",
              "  (bn2): RecursiveScriptModule(original_name=BatchNorm1d)\n",
              "  (fc3): RecursiveScriptModule(original_name=Linear)\n",
              ")"
            ]
          },
          "metadata": {},
          "execution_count": 54
        }
      ]
    },
    {
      "cell_type": "markdown",
      "source": [
        "Exportamos a ONNX"
      ],
      "metadata": {
        "id": "8Mi2GxlKrGF4"
      }
    },
    {
      "cell_type": "markdown",
      "source": [
        "para cargarlo"
      ],
      "metadata": {
        "id": "xQvROZz7t_MG"
      }
    },
    {
      "cell_type": "code",
      "source": [
        "import torch.onnx"
      ],
      "metadata": {
        "id": "UPZCqvzLrSKj"
      },
      "execution_count": 46,
      "outputs": []
    },
    {
      "cell_type": "code",
      "source": [
        "pip install onnx"
      ],
      "metadata": {
        "colab": {
          "base_uri": "https://localhost:8080/"
        },
        "id": "2LiTeQ28rbDH",
        "outputId": "236f845e-408f-42ed-b49e-5dee190bc245"
      },
      "execution_count": 48,
      "outputs": [
        {
          "output_type": "stream",
          "name": "stdout",
          "text": [
            "Collecting onnx\n",
            "  Downloading onnx-1.16.2-cp310-cp310-manylinux_2_17_x86_64.manylinux2014_x86_64.whl.metadata (16 kB)\n",
            "Requirement already satisfied: numpy>=1.20 in /usr/local/lib/python3.10/dist-packages (from onnx) (1.26.4)\n",
            "Requirement already satisfied: protobuf>=3.20.2 in /usr/local/lib/python3.10/dist-packages (from onnx) (3.20.3)\n",
            "Downloading onnx-1.16.2-cp310-cp310-manylinux_2_17_x86_64.manylinux2014_x86_64.whl (15.9 MB)\n",
            "\u001b[2K   \u001b[90m━━━━━━━━━━━━━━━━━━━━━━━━━━━━━━━━━━━━━━━━\u001b[0m \u001b[32m15.9/15.9 MB\u001b[0m \u001b[31m98.8 MB/s\u001b[0m eta \u001b[36m0:00:00\u001b[0m\n",
            "\u001b[?25hInstalling collected packages: onnx\n",
            "Successfully installed onnx-1.16.2\n"
          ]
        }
      ]
    },
    {
      "cell_type": "code",
      "source": [
        "\n",
        "import torch.onnx\n",
        "\n",
        "# Asumiendo que ya tienes el modelo y un ejemplo de entrada\n",
        "example_input = torch.randn(1, 3, 32, 32).to(device)\n",
        "\n",
        "# Definir el path en Google Drive donde quieres guardar el modelo ONNX\n",
        "onnx_save_path = '/content/drive/MyDrive/SIS421 prueba dataset 1 test/model.onnx'\n",
        "\n",
        "# Exportar el modelo a ONNX y guardarlo en Google Drive\n",
        "torch.onnx.export(\n",
        "    model,                     # Modelo PyTorch\n",
        "    example_input,             # Ejemplo de entrada\n",
        "    onnx_save_path,            # Path de archivo de salida\n",
        "    export_params=True,        # Exportar parámetros entrenados\n",
        "    opset_version=11,          # Versión de ONNX\n",
        "    do_constant_folding=True,  # Plegado constante para optimización\n",
        "    input_names=['input'],     # Nombres de las entradas\n",
        "    output_names=['output'],   # Nombres de las salidas\n",
        "    dynamic_axes={'input': {0: 'batch_size'}, 'output': {0: 'batch_size'}}  # Ejes dinámicos para batch_size\n",
        ")\n",
        "\n",
        "print(f\"Modelo guardado en ONNX en: {onnx_save_path}\")\n"
      ],
      "metadata": {
        "colab": {
          "base_uri": "https://localhost:8080/"
        },
        "id": "NwXoyAE7rFhJ",
        "outputId": "c1b8773b-637b-405a-8e6c-e280f055df51"
      },
      "execution_count": 52,
      "outputs": [
        {
          "output_type": "stream",
          "name": "stdout",
          "text": [
            "Modelo guardado en ONNX en: /content/drive/MyDrive/SIS421 prueba dataset 1 test/model.onnx\n"
          ]
        }
      ]
    },
    {
      "cell_type": "markdown",
      "source": [
        "Para cargarlo"
      ],
      "metadata": {
        "id": "uTiar5yisCkx"
      }
    },
    {
      "cell_type": "code",
      "source": [
        "pip install onnxruntime"
      ],
      "metadata": {
        "colab": {
          "base_uri": "https://localhost:8080/"
        },
        "id": "asFgbI9LuU_y",
        "outputId": "2924a91e-0683-4331-f30e-d788e50fa9cc"
      },
      "execution_count": 55,
      "outputs": [
        {
          "output_type": "stream",
          "name": "stdout",
          "text": [
            "Collecting onnxruntime\n",
            "  Downloading onnxruntime-1.19.0-cp310-cp310-manylinux_2_27_x86_64.manylinux_2_28_x86_64.whl.metadata (4.3 kB)\n",
            "Collecting coloredlogs (from onnxruntime)\n",
            "  Downloading coloredlogs-15.0.1-py2.py3-none-any.whl.metadata (12 kB)\n",
            "Requirement already satisfied: flatbuffers in /usr/local/lib/python3.10/dist-packages (from onnxruntime) (24.3.25)\n",
            "Requirement already satisfied: numpy>=1.21.6 in /usr/local/lib/python3.10/dist-packages (from onnxruntime) (1.26.4)\n",
            "Requirement already satisfied: packaging in /usr/local/lib/python3.10/dist-packages (from onnxruntime) (24.1)\n",
            "Requirement already satisfied: protobuf in /usr/local/lib/python3.10/dist-packages (from onnxruntime) (3.20.3)\n",
            "Requirement already satisfied: sympy in /usr/local/lib/python3.10/dist-packages (from onnxruntime) (1.13.2)\n",
            "Collecting humanfriendly>=9.1 (from coloredlogs->onnxruntime)\n",
            "  Downloading humanfriendly-10.0-py2.py3-none-any.whl.metadata (9.2 kB)\n",
            "Requirement already satisfied: mpmath<1.4,>=1.1.0 in /usr/local/lib/python3.10/dist-packages (from sympy->onnxruntime) (1.3.0)\n",
            "Downloading onnxruntime-1.19.0-cp310-cp310-manylinux_2_27_x86_64.manylinux_2_28_x86_64.whl (13.2 MB)\n",
            "\u001b[2K   \u001b[90m━━━━━━━━━━━━━━━━━━━━━━━━━━━━━━━━━━━━━━━━\u001b[0m \u001b[32m13.2/13.2 MB\u001b[0m \u001b[31m99.4 MB/s\u001b[0m eta \u001b[36m0:00:00\u001b[0m\n",
            "\u001b[?25hDownloading coloredlogs-15.0.1-py2.py3-none-any.whl (46 kB)\n",
            "\u001b[2K   \u001b[90m━━━━━━━━━━━━━━━━━━━━━━━━━━━━━━━━━━━━━━━━\u001b[0m \u001b[32m46.0/46.0 kB\u001b[0m \u001b[31m4.2 MB/s\u001b[0m eta \u001b[36m0:00:00\u001b[0m\n",
            "\u001b[?25hDownloading humanfriendly-10.0-py2.py3-none-any.whl (86 kB)\n",
            "\u001b[2K   \u001b[90m━━━━━━━━━━━━━━━━━━━━━━━━━━━━━━━━━━━━━━━━\u001b[0m \u001b[32m86.8/86.8 kB\u001b[0m \u001b[31m7.9 MB/s\u001b[0m eta \u001b[36m0:00:00\u001b[0m\n",
            "\u001b[?25hInstalling collected packages: humanfriendly, coloredlogs, onnxruntime\n",
            "Successfully installed coloredlogs-15.0.1 humanfriendly-10.0 onnxruntime-1.19.0\n"
          ]
        }
      ]
    },
    {
      "cell_type": "code",
      "source": [
        "import onnxruntime as ort\n",
        "import numpy as np\n",
        "\n",
        "# Cargar el modelo ONNX\n",
        "ort_session = ort.InferenceSession(\"model.onnx\")\n",
        "\n",
        "# Crear un ejemplo de entrada\n",
        "example_input = np.random.randn(1, 3, 32, 32).astype(np.float32)\n",
        "\n",
        "# Hacer una predicción\n",
        "outputs = ort_session.run(None, {'input': example_input})\n",
        "\n",
        "print(outputs)\n"
      ],
      "metadata": {
        "colab": {
          "base_uri": "https://localhost:8080/"
        },
        "id": "d6q7DE5ruQuY",
        "outputId": "d27a06c8-e9e6-4239-c3d5-926cc7eb04e1"
      },
      "execution_count": 56,
      "outputs": [
        {
          "output_type": "stream",
          "name": "stdout",
          "text": [
            "[array([[ 0.05172329,  0.02460338, -0.25429088,  0.07148196,  0.02811265,\n",
            "        -0.14488818, -0.00307853, -0.05352578,  0.05050816,  0.03014538]],\n",
            "      dtype=float32)]\n"
          ]
        }
      ]
    }
  ]
}