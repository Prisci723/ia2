{
  "nbformat": 4,
  "nbformat_minor": 0,
  "metadata": {
    "colab": {
      "provenance": [],
      "gpuType": "T4",
      "include_colab_link": true
    },
    "kernelspec": {
      "name": "python3",
      "display_name": "Python 3"
    },
    "language_info": {
      "name": "python"
    },
    "accelerator": "GPU"
  },
  "cells": [
    {
      "cell_type": "markdown",
      "metadata": {
        "id": "view-in-github",
        "colab_type": "text"
      },
      "source": [
        "<a href=\"https://colab.research.google.com/github/Prisci723/ia2/blob/main/Laboratorio2/Laboratorio_2_2.ipynb\" target=\"_parent\"><img src=\"https://colab.research.google.com/assets/colab-badge.svg\" alt=\"Open In Colab\"/></a>"
      ]
    },
    {
      "cell_type": "markdown",
      "source": [
        "# Dataset plantas medicinales\n",
        "En este dataset se entrenará un modelo utilizando las plantas\n",
        "  * Aloe Vera\n",
        "  * Cedron\n",
        "  * Floripondio\n",
        "  * Higuera\n",
        "  * Níspero\n",
        "\n",
        "  Se utilizará pytorch para su entrenamiento\n",
        "\n",
        "\n",
        "\n",
        "\n",
        "\n",
        "\n",
        "  Lo primero que hacemos es importar las librerías necesarias"
      ],
      "metadata": {
        "id": "AgLeUARn3yHK"
      }
    },
    {
      "cell_type": "code",
      "execution_count": 1,
      "metadata": {
        "id": "Xsr_ALKYoPb_"
      },
      "outputs": [],
      "source": [
        "# Importamos las librerias\n",
        "\n",
        "import torch\n",
        "import torchvision\n",
        "import os\n",
        "import matplotlib.pyplot as plt\n",
        "import numpy as np\n",
        "import pandas as pd\n",
        "import cv2\n",
        "from PIL import Image\n",
        "import random\n",
        "from sklearn.model_selection import train_test_split"
      ]
    },
    {
      "cell_type": "markdown",
      "source": [
        "Importamos google drive para poder cargar las imágenes"
      ],
      "metadata": {
        "id": "nPSo1R4B4QcM"
      }
    },
    {
      "cell_type": "code",
      "source": [
        "from google.colab import drive\n",
        "drive.mount('/content/drive')"
      ],
      "metadata": {
        "id": "nyWG0xWGohQ-",
        "colab": {
          "base_uri": "https://localhost:8080/"
        },
        "outputId": "1829d673-f686-4e4d-be36-2917a22d25e8"
      },
      "execution_count": 11,
      "outputs": [
        {
          "output_type": "stream",
          "name": "stdout",
          "text": [
            "Drive already mounted at /content/drive; to attempt to forcibly remount, call drive.mount(\"/content/drive\", force_remount=True).\n"
          ]
        }
      ]
    },
    {
      "cell_type": "markdown",
      "source": [
        "Dentro de la carpeta de drive se encuentra el dataset cargado en una carpeta, dicha carpeta contiene dentro de sí 5 carpetas con sus imágenes correspondientes.\n",
        "\n",
        "El siguiente código nos permite cargar las imágenes y etiquetarlas según el orden alfabético que tengan el nombre de las carpetas, es decir que\n",
        "* Aloe Vera ---> 0\n",
        "* Cedron --> 1\n",
        "* Floripondio --> 2\n",
        "* Higuera --> 3\n",
        "* Nispero --> 4\n"
      ],
      "metadata": {
        "id": "uaW5qM9X4UYs"
      }
    },
    {
      "cell_type": "markdown",
      "source": [
        "Abrir imagen: Para cada archivo de imagen encontrado, lo abrimos utilizando la biblioteca PIL (Image.open).\n",
        "Convertir a RGB: Convertimos la imagen a modo RGB para asegurarnos de que todas las imágenes tengan el mismo formato de color.\n",
        "Normalización: Convertimos la imagen a un array de NumPy y normalizamos los valores de píxel dividiendo por 255.0 para que estén en el rango [0, 1]. Esto es importante para estandarizar los datos antes de ingresarlos a la red neuronal.\n",
        "Redimensionar: Cambiamos el tamaño de la imagen a un tamaño fijo ( 50x50 píxeles) para que todas las imágenes tengan el mismo tamaño de entrada. Esto es crucial para poder entrenar un modelo, ya que la mayoría de los modelos de aprendizaje automático requieren que todas las entradas tengan el mismo tamaño."
      ],
      "metadata": {
        "id": "j7cw07EN5fZj"
      }
    },
    {
      "cell_type": "code",
      "source": [
        "def cargar_dataset_train(ruta_dataset, tamaño_imagen=(50, 50)):\n",
        "    # Reiniciar variables\n",
        "    dataset = []\n",
        "    etiquetas_mapping = {}\n",
        "\n",
        "    # Obtener clases del nuevo dataset y ordenarlas\n",
        "    clases = sorted(os.listdir(ruta_dataset))\n",
        "\n",
        "    # Mapeo de etiquetas a valores numéricos\n",
        "    etiquetas_mapping = {clase: idx for idx, clase in enumerate(clases)}\n",
        "\n",
        "    for clase in clases:\n",
        "        #print(f\"Procesando clase testing: {clase} ({etiquetas_mapping[clase]})\")\n",
        "        ruta_clase = os.path.join(ruta_dataset, clase)\n",
        "        etiqueta_num = etiquetas_mapping[clase]  # Obtener el valor numérico de la etiqueta directamente\n",
        "        with os.scandir(ruta_clase) as entries:\n",
        "            for idx, entry in enumerate(entries, start=1):\n",
        "                if entry.is_file():\n",
        "                    imagen_ruta = os.path.join(ruta_clase, entry.name)\n",
        "                    # Abrir imagen como objeto PIL\n",
        "                    imagen = Image.open(imagen_ruta).convert('RGB')\n",
        "                    # Normalizar la imagen\n",
        "                    imagen = np.array(imagen) / 255.0\n",
        "                    # Convertir la imagen normalizada a objeto PIL\n",
        "                    imagen_pil = Image.fromarray((imagen * 255).astype(np.uint8))\n",
        "                    # Redimensionar imagen\n",
        "                    imagen_resized = imagen_pil.resize(tamaño_imagen)\n",
        "                    dataset.append((imagen_resized, etiqueta_num))  # Tupla con imagen y etiqueta numérica\n",
        "\n",
        "    random.shuffle(dataset)\n",
        "    return dataset"
      ],
      "metadata": {
        "id": "zNT0ZQ2HoksV"
      },
      "execution_count": 12,
      "outputs": []
    },
    {
      "cell_type": "code",
      "source": [
        "trainset = cargar_dataset_train('/content/drive/MyDrive/SIS421/SIS421 prueba dataset 1')\n",
        "\n",
        "print(\"Número de ejemplos en el conjunto de entrenamiento:\", len(trainset))\n",
        "# print(\"Número de ejemplos en el conjunto de prueba:\", len(testset))"
      ],
      "metadata": {
        "id": "0TREYZyTotZD",
        "colab": {
          "base_uri": "https://localhost:8080/"
        },
        "outputId": "4d36a0f9-9b1c-4727-def8-f576f3f2b715"
      },
      "execution_count": 13,
      "outputs": [
        {
          "output_type": "stream",
          "name": "stdout",
          "text": [
            "Número de ejemplos en el conjunto de entrenamiento: 11158\n"
          ]
        }
      ]
    },
    {
      "cell_type": "code",
      "source": [
        "# Ejemplo de cómo definir la lista de clases\n",
        "classes = ['Aloe Vera', 'Cedron', 'Floripondio', 'Higuera', 'Nispero']"
      ],
      "metadata": {
        "id": "mMBUEnvs09E_"
      },
      "execution_count": 14,
      "outputs": []
    },
    {
      "cell_type": "markdown",
      "source": [
        "Aquí podemos observar como las imágenes son redimensionadas y cuentan con su etiqueta correspondiente"
      ],
      "metadata": {
        "id": "MSayT3p45HRN"
      }
    },
    {
      "cell_type": "code",
      "source": [
        "import random\n",
        "import matplotlib.pyplot as plt\n",
        "\n",
        "r, c = 3, 5\n",
        "plt.figure(figsize=(c*3, r*3))\n",
        "for row in range(r):\n",
        "    for col in range(c):\n",
        "        index = c*row + col\n",
        "        plt.subplot(r, c, index + 1)\n",
        "        ix = random.randint(0, len(trainset)-1)\n",
        "        img, label = trainset[ix]\n",
        "        #print(label)\n",
        "        #clase_index = classes.index(clase)\n",
        "        plt.imshow(img)\n",
        "        plt.axis('off')\n",
        "        plt.title(classes[label])\n",
        "plt.subplots_adjust(wspace=0.2, hspace=0.5)\n",
        "plt.show()"
      ],
      "metadata": {
        "id": "KpTP_9jWo0JI",
        "colab": {
          "base_uri": "https://localhost:8080/",
          "height": 752
        },
        "outputId": "08063daa-44ee-44d2-c244-ea1240c3a227"
      },
      "execution_count": 15,
      "outputs": [
        {
          "output_type": "display_data",
          "data": {
            "text/plain": [
              "<Figure size 1500x900 with 15 Axes>"
            ],
            "image/png": "[encoded data removed]"
          },
          "metadata": {}
        }
      ]
    },
    {
      "cell_type": "code",
      "source": [
        "# Convertir las imágenes y etiquetas a arrays de NumPy\n",
        "images = np.array([np.array(img) for img, label in trainset])\n",
        "labels = np.array([label for img, label in trainset])\n",
        "\n",
        "# Dividir los datos en 85% entrenamiento y 15% prueba\n",
        "train_images, test_images, train_labels, test_labels = train_test_split(\n",
        "    images, labels, test_size=0.15, random_state=42\n",
        ")\n",
        "\n",
        "# Opcional: convertir nuevamente a arrays de NumPy si necesitas\n",
        "train_images = np.array(train_images)\n",
        "test_images = np.array(test_images)\n",
        "train_labels = np.array(train_labels)\n",
        "test_labels = np.array(test_labels)"
      ],
      "metadata": {
        "id": "VV4dAm8CxAnk"
      },
      "execution_count": 16,
      "outputs": []
    },
    {
      "cell_type": "code",
      "source": [
        "# ver número de imágenes, resolución y número de canales\n",
        "train_images.shape, test_images.shape, train_labels.shape, test_labels.shape"
      ],
      "metadata": {
        "id": "eyH3AmalpC8J",
        "colab": {
          "base_uri": "https://localhost:8080/"
        },
        "outputId": "3c4dd000-1c57-4cad-937b-2b79061c68ea"
      },
      "execution_count": 17,
      "outputs": [
        {
          "output_type": "execute_result",
          "data": {
            "text/plain": [
              "((9484, 50, 50, 3), (1674, 50, 50, 3), (9484,), (1674,))"
            ]
          },
          "metadata": {},
          "execution_count": 17
        }
      ]
    },
    {
      "cell_type": "code",
      "source": [
        "# tipo de datos\n",
        "train_images.dtype, train_labels.dtype"
      ],
      "metadata": {
        "id": "P6v8WvqCpE_p",
        "colab": {
          "base_uri": "https://localhost:8080/"
        },
        "outputId": "2c21ed75-7c8e-4fe8-fd37-9f3fa6252fd6"
      },
      "execution_count": 18,
      "outputs": [
        {
          "output_type": "execute_result",
          "data": {
            "text/plain": [
              "(dtype('uint8'), dtype('int64'))"
            ]
          },
          "metadata": {},
          "execution_count": 18
        }
      ]
    },
    {
      "cell_type": "markdown",
      "source": [
        "Una vez que las imágenes han sido preprocesadas, es que se utiliza el objeto dataset que nos permitirá colocar las imágenes en un formato que Pytorch pueda trabajarlas"
      ],
      "metadata": {
        "id": "VaYQnlDb5yWZ"
      }
    },
    {
      "cell_type": "code",
      "source": [
        "class CustomImageDataset(torch.utils.data.Dataset):\n",
        "    def __init__(self, image_paths, labels, transform=None):\n",
        "        self.image_paths = image_paths\n",
        "        self.labels = labels\n",
        "        self.transform = transform\n",
        "\n",
        "    def __len__(self):\n",
        "        return len(self.image_paths)\n",
        "\n",
        "    def __getitem__(self, idx):\n",
        "        # Verifica si self.image_paths[idx] es una ruta o un numpy.ndarray\n",
        "        if isinstance(self.image_paths[idx], str):\n",
        "            # Si es una ruta, abre la imagen\n",
        "            image = Image.open(self.image_paths[idx]).convert('RGB')\n",
        "        elif isinstance(self.image_paths[idx], np.ndarray):\n",
        "            # Si ya es un numpy.ndarray, conviértelo directamente a imagen PIL\n",
        "            image = Image.fromarray(self.image_paths[idx])\n",
        "\n",
        "        # Aplica transformaciones si se proporcionan\n",
        "        if self.transform:\n",
        "            image = self.transform(image)\n",
        "\n",
        "        label = self.labels[idx]\n",
        "\n",
        "        return image, label\n"
      ],
      "metadata": {
        "id": "F3fpF0H23UOK"
      },
      "execution_count": 19,
      "outputs": []
    },
    {
      "cell_type": "code",
      "source": [
        "from torch.utils.data import DataLoader\n",
        "from torchvision import transforms\n",
        "\n",
        "# Definir las transformaciones para las imágenes (opcional)\n",
        "transform = transforms.Compose([\n",
        "    transforms.Resize((32, 32)),  # Redimensionar imágenes a 32x32\n",
        "    transforms.ToTensor()         # Convertir imágenes a tensores\n",
        "])\n",
        "\n",
        "# Crear el dataset de entrenamiento y de prueba\n",
        "train_dataset = CustomImageDataset(train_images, train_labels, transform=transform)\n",
        "test_dataset = CustomImageDataset(test_images, test_labels, transform=transform)\n",
        "\n",
        "# Crear los DataLoaders\n",
        "train_loader = DataLoader(train_dataset, batch_size=32, shuffle=True, num_workers=4)\n",
        "test_loader = DataLoader(test_dataset, batch_size=32, shuffle=False, num_workers=4)\n"
      ],
      "metadata": {
        "id": "uWC7zXbh3cc2",
        "colab": {
          "base_uri": "https://localhost:8080/"
        },
        "outputId": "d69210b8-3138-46fa-a7af-20829f9c57b7"
      },
      "execution_count": 20,
      "outputs": [
        {
          "output_type": "stream",
          "name": "stderr",
          "text": [
            "/usr/local/lib/python3.10/dist-packages/torch/utils/data/dataloader.py:557: UserWarning: This DataLoader will create 4 worker processes in total. Our suggested max number of worker in current system is 2, which is smaller than what this DataLoader is going to create. Please be aware that excessive worker creation might get DataLoader running slow or even freeze, lower the worker number to avoid potential slowness/freeze if necessary.\n",
            "  warnings.warn(_create_warning_msg(\n"
          ]
        }
      ]
    },
    {
      "cell_type": "markdown",
      "source": [
        "Normalizamos los datos antes de preprocesarlos, y tmbién serán normalizados antes de entrar en la donde se obtienen los pesos"
      ],
      "metadata": {
        "id": "tpRXMeHe9dnq"
      }
    },
    {
      "cell_type": "code",
      "source": [
        "def build_model(D_in=32*32*3, H=100, D_out=5):\n",
        "    return torch.nn.Sequential(\n",
        "        torch.nn.Linear(D_in, H),\n",
        "        torch.nn.BatchNorm1d(H),\n",
        "        torch.nn.ReLU(),\n",
        "        torch.nn.Linear(H, H),\n",
        "        torch.nn.BatchNorm1d(H),\n",
        "        torch.nn.ReLU(),\n",
        "        torch.nn.Linear(H, D_out)\n",
        "    ).cuda()"
      ],
      "metadata": {
        "id": "C9HhA_mm6JuG"
      },
      "execution_count": 21,
      "outputs": []
    },
    {
      "cell_type": "markdown",
      "source": [
        "El dataloader lo que nos permitirá será cargar los datos en batches que puedan ser manejador de forma más eficiente por el GPU"
      ],
      "metadata": {
        "id": "TQuGJhff6KQO"
      }
    },
    {
      "cell_type": "code",
      "source": [
        "import torch\n",
        "import numpy as np\n",
        "from tqdm import tqdm\n",
        "\n",
        "def fit(model, dataloader, epochs=1000, checkpoint_interval=20, save_path='/content/drive/MyDrive/SIS421 prueba dataset 1 test/Checkpoints/'):\n",
        "    model.to(device)\n",
        "    optimizer = torch.optim.Adam(model.parameters(), lr=1e-3)\n",
        "    criterion = torch.nn.CrossEntropyLoss()\n",
        "\n",
        "    for epoch in range(1, epochs + 1):\n",
        "        model.train()\n",
        "        train_loss, train_acc = [], []\n",
        "        bar = tqdm(dataloader['train'])  # Asegúrate de acceder a la clave 'train'\n",
        "        for X, y in bar:\n",
        "            X, y = X.to(device), y.to(device)\n",
        "            optimizer.zero_grad()\n",
        "            y_hat = model(X.view(X.size(0), -1))  # Aplanar imágenes\n",
        "            loss = criterion(y_hat, y)\n",
        "            loss.backward()\n",
        "            optimizer.step()\n",
        "            train_loss.append(loss.item())\n",
        "            acc = (y == torch.argmax(y_hat, axis=1)).sum().item() / len(y)\n",
        "            train_acc.append(acc)\n",
        "            bar.set_description(f\"loss {np.mean(train_loss):.5f} acc {np.mean(train_acc):.5f}\")\n",
        "\n",
        "        model.eval()\n",
        "        val_loss, val_acc = [], []\n",
        "        with torch.no_grad():\n",
        "            bar = tqdm(dataloader['test'])\n",
        "            for X, y in bar:\n",
        "                X, y = X.to(device), y.to(device)\n",
        "                y_hat = model(X.view(X.size(0), -1))\n",
        "                loss = criterion(y_hat, y)\n",
        "                val_loss.append(loss.item())\n",
        "                acc = (y == torch.argmax(y_hat, axis=1)).sum().item() / len(y)\n",
        "                val_acc.append(acc)\n",
        "                bar.set_description(f\"val_loss {np.mean(val_loss):.5f} val_acc {np.mean(val_acc):.5f}\")\n",
        "\n",
        "        print(f\"Epoch {epoch}/{epochs} loss {np.mean(train_loss):.5f} val_loss {np.mean(val_loss):.5f} acc {np.mean(train_acc):.5f} val_acc {np.mean(val_acc):.5f}\")\n",
        "\n",
        "        if epoch % checkpoint_interval == 0:\n",
        "            torch.save({\n",
        "                'epoch': epoch,\n",
        "                'model_state_dict': model.state_dict(),\n",
        "                'optimizer_state_dict': optimizer.state_dict(),\n",
        "                'loss': np.mean(val_loss),\n",
        "            }, save_path)\n",
        "            print(f\"Checkpoint guardado en {save_path} (Epoch {epoch})\")\n",
        "\n"
      ],
      "metadata": {
        "id": "s0e_vzoyCaem"
      },
      "execution_count": null,
      "outputs": []
    },
    {
      "cell_type": "code",
      "source": [
        "\n",
        "# Definir el dispositivo a utilizar (GPU o CPU)\n",
        "device = torch.device(\"cuda\" if torch.cuda.is_available() else \"cpu\")\n",
        "\n",
        "# Construir el modelo\n",
        "model = build_model(D_in=32*32*3, H=100, D_out=len(set(train_labels)))\n",
        "model.to(device)  # Mover el modelo al dispositivo\n"
      ],
      "metadata": {
        "colab": {
          "base_uri": "https://localhost:8080/"
        },
        "id": "GQYLhoEMDSIP",
        "outputId": "5043d577-04ff-4b37-cbc2-a834592f8f7c"
      },
      "execution_count": 23,
      "outputs": [
        {
          "output_type": "execute_result",
          "data": {
            "text/plain": [
              "Sequential(\n",
              "  (0): Linear(in_features=3072, out_features=100, bias=True)\n",
              "  (1): BatchNorm1d(100, eps=1e-05, momentum=0.1, affine=True, track_running_stats=True)\n",
              "  (2): ReLU()\n",
              "  (3): Linear(in_features=100, out_features=100, bias=True)\n",
              "  (4): BatchNorm1d(100, eps=1e-05, momentum=0.1, affine=True, track_running_stats=True)\n",
              "  (5): ReLU()\n",
              "  (6): Linear(in_features=100, out_features=5, bias=True)\n",
              ")"
            ]
          },
          "metadata": {},
          "execution_count": 23
        }
      ]
    },
    {
      "cell_type": "code",
      "source": [
        "# Entrenar el modelo\n",
        "fit(model, {'train': train_loader, 'test': test_loader}, epochs=1000, checkpoint_interval=20, save_path='/content/drive/MyDrive/SIS421 prueba dataset 1 test/Checkpoints/checkpoint.pth')\n"
      ],
      "metadata": {
        "colab": {
          "base_uri": "https://localhost:8080/",
          "height": 1000
        },
        "id": "JBaaLR96Dfz2",
        "outputId": "6e908b19-6fc4-4fc0-98a0-21d981d843b8"
      },
      "execution_count": null,
      "outputs": [
        {
          "output_type": "stream",
          "name": "stderr",
          "text": [
            "loss 0.31820 acc 0.90832: 100%|██████████| 297/297 [00:07<00:00, 38.69it/s]\n",
            "val_loss 0.28984 val_acc 0.89328: 100%|██████████| 53/53 [00:00<00:00, 72.22it/s]\n"
          ]
        },
        {
          "output_type": "stream",
          "name": "stdout",
          "text": [
            "Epoch 1/1000 loss 0.31820 val_loss 0.28984 acc 0.90832 val_acc 0.89328\n"
          ]
        },
        {
          "output_type": "stream",
          "name": "stderr",
          "text": [
            "loss 0.08493 acc 0.97678: 100%|██████████| 297/297 [00:03<00:00, 75.16it/s]\n",
            "val_loss 0.66245 val_acc 0.75248: 100%|██████████| 53/53 [00:00<00:00, 66.74it/s]\n"
          ]
        },
        {
          "output_type": "stream",
          "name": "stdout",
          "text": [
            "Epoch 2/1000 loss 0.08493 val_loss 0.66245 acc 0.97678 val_acc 0.75248\n"
          ]
        },
        {
          "output_type": "stream",
          "name": "stderr",
          "text": [
            "loss 0.05271 acc 0.98495: 100%|██████████| 297/297 [00:03<00:00, 75.49it/s]\n",
            "val_loss 1.47109 val_acc 0.64363: 100%|██████████| 53/53 [00:01<00:00, 45.27it/s]\n"
          ]
        },
        {
          "output_type": "stream",
          "name": "stdout",
          "text": [
            "Epoch 3/1000 loss 0.05271 val_loss 1.47109 acc 0.98495 val_acc 0.64363\n"
          ]
        },
        {
          "output_type": "stream",
          "name": "stderr",
          "text": [
            "loss 0.03700 acc 0.98853: 100%|██████████| 297/297 [00:06<00:00, 47.31it/s]\n",
            "val_loss 0.32961 val_acc 0.87606: 100%|██████████| 53/53 [00:00<00:00, 61.81it/s]\n"
          ]
        },
        {
          "output_type": "stream",
          "name": "stdout",
          "text": [
            "Epoch 4/1000 loss 0.03700 val_loss 0.32961 acc 0.98853 val_acc 0.87606\n"
          ]
        },
        {
          "output_type": "stream",
          "name": "stderr",
          "text": [
            "loss 0.02907 acc 0.99137: 100%|██████████| 297/297 [00:04<00:00, 71.10it/s]\n",
            "val_loss 0.05097 val_acc 0.98231: 100%|██████████| 53/53 [00:00<00:00, 65.40it/s]\n"
          ]
        },
        {
          "output_type": "stream",
          "name": "stdout",
          "text": [
            "Epoch 5/1000 loss 0.02907 val_loss 0.05097 acc 0.99137 val_acc 0.98231\n"
          ]
        },
        {
          "output_type": "stream",
          "name": "stderr",
          "text": [
            "loss 0.02849 acc 0.99074: 100%|██████████| 297/297 [00:04<00:00, 68.36it/s]\n",
            "val_loss 0.08470 val_acc 0.96757: 100%|██████████| 53/53 [00:01<00:00, 39.45it/s]\n"
          ]
        },
        {
          "output_type": "stream",
          "name": "stdout",
          "text": [
            "Epoch 6/1000 loss 0.02849 val_loss 0.08470 acc 0.99074 val_acc 0.96757\n"
          ]
        },
        {
          "output_type": "stream",
          "name": "stderr",
          "text": [
            "loss 0.01932 acc 0.99383: 100%|██████████| 297/297 [00:06<00:00, 47.63it/s]\n",
            "val_loss 0.01332 val_acc 0.99705: 100%|██████████| 53/53 [00:00<00:00, 66.67it/s]\n"
          ]
        },
        {
          "output_type": "stream",
          "name": "stdout",
          "text": [
            "Epoch 7/1000 loss 0.01932 val_loss 0.01332 acc 0.99383 val_acc 0.99705\n"
          ]
        },
        {
          "output_type": "stream",
          "name": "stderr",
          "text": [
            "loss 0.01525 acc 0.99569: 100%|██████████| 297/297 [00:04<00:00, 69.05it/s]\n",
            "val_loss 0.03763 val_acc 0.98939: 100%|██████████| 53/53 [00:00<00:00, 65.11it/s]\n"
          ]
        },
        {
          "output_type": "stream",
          "name": "stdout",
          "text": [
            "Epoch 8/1000 loss 0.01525 val_loss 0.03763 acc 0.99569 val_acc 0.98939\n"
          ]
        },
        {
          "output_type": "stream",
          "name": "stderr",
          "text": [
            "loss 0.02239 acc 0.99274: 100%|██████████| 297/297 [00:04<00:00, 69.28it/s]\n",
            "val_loss 0.02731 val_acc 0.99057: 100%|██████████| 53/53 [00:01<00:00, 41.47it/s]\n"
          ]
        },
        {
          "output_type": "stream",
          "name": "stdout",
          "text": [
            "Epoch 9/1000 loss 0.02239 val_loss 0.02731 acc 0.99274 val_acc 0.99057\n"
          ]
        },
        {
          "output_type": "stream",
          "name": "stderr",
          "text": [
            "loss 0.01249 acc 0.99663: 100%|██████████| 297/297 [00:06<00:00, 47.77it/s]\n",
            "val_loss 0.00917 val_acc 0.99705: 100%|██████████| 53/53 [00:00<00:00, 60.45it/s]\n"
          ]
        },
        {
          "output_type": "stream",
          "name": "stdout",
          "text": [
            "Epoch 10/1000 loss 0.01249 val_loss 0.00917 acc 0.99663 val_acc 0.99705\n"
          ]
        },
        {
          "output_type": "stream",
          "name": "stderr",
          "text": [
            "loss 0.02060 acc 0.99365: 100%|██████████| 297/297 [00:04<00:00, 69.61it/s]\n",
            "val_loss 0.02251 val_acc 0.99469: 100%|██████████| 53/53 [00:00<00:00, 60.90it/s]\n"
          ]
        },
        {
          "output_type": "stream",
          "name": "stdout",
          "text": [
            "Epoch 11/1000 loss 0.02060 val_loss 0.02251 acc 0.99365 val_acc 0.99469\n"
          ]
        },
        {
          "output_type": "stream",
          "name": "stderr",
          "text": [
            "loss 0.01696 acc 0.99509: 100%|██████████| 297/297 [00:04<00:00, 66.81it/s]\n",
            "val_loss 0.02332 val_acc 0.99410: 100%|██████████| 53/53 [00:01<00:00, 40.32it/s]\n"
          ]
        },
        {
          "output_type": "stream",
          "name": "stdout",
          "text": [
            "Epoch 12/1000 loss 0.01696 val_loss 0.02332 acc 0.99509 val_acc 0.99410\n"
          ]
        },
        {
          "output_type": "stream",
          "name": "stderr",
          "text": [
            "loss 0.01431 acc 0.99400: 100%|██████████| 297/297 [00:06<00:00, 43.14it/s]\n",
            "val_loss 0.03690 val_acc 0.98762: 100%|██████████| 53/53 [00:00<00:00, 63.07it/s]\n"
          ]
        },
        {
          "output_type": "stream",
          "name": "stdout",
          "text": [
            "Epoch 13/1000 loss 0.01431 val_loss 0.03690 acc 0.99400 val_acc 0.98762\n"
          ]
        },
        {
          "output_type": "stream",
          "name": "stderr",
          "text": [
            "loss 0.00999 acc 0.99779: 100%|██████████| 297/297 [00:06<00:00, 45.51it/s]\n",
            "val_loss 0.05836 val_acc 0.98054: 100%|██████████| 53/53 [00:00<00:00, 64.48it/s]\n"
          ]
        },
        {
          "output_type": "stream",
          "name": "stdout",
          "text": [
            "Epoch 14/1000 loss 0.00999 val_loss 0.05836 acc 0.99779 val_acc 0.98054\n"
          ]
        },
        {
          "output_type": "stream",
          "name": "stderr",
          "text": [
            "loss 0.01285 acc 0.99558: 100%|██████████| 297/297 [00:05<00:00, 50.10it/s]\n",
            "val_loss 0.10902 val_acc 0.95814: 100%|██████████| 53/53 [00:01<00:00, 45.94it/s]\n"
          ]
        },
        {
          "output_type": "stream",
          "name": "stdout",
          "text": [
            "Epoch 15/1000 loss 0.01285 val_loss 0.10902 acc 0.99558 val_acc 0.95814\n"
          ]
        },
        {
          "output_type": "stream",
          "name": "stderr",
          "text": [
            "loss 0.01036 acc 0.99625: 100%|██████████| 297/297 [00:04<00:00, 67.65it/s]\n",
            "val_loss 0.07289 val_acc 0.97818: 100%|██████████| 53/53 [00:00<00:00, 66.43it/s]\n"
          ]
        },
        {
          "output_type": "stream",
          "name": "stdout",
          "text": [
            "Epoch 16/1000 loss 0.01036 val_loss 0.07289 acc 0.99625 val_acc 0.97818\n"
          ]
        },
        {
          "output_type": "stream",
          "name": "stderr",
          "text": [
            "loss 0.00773 acc 0.99779: 100%|██████████| 297/297 [00:04<00:00, 70.59it/s]\n",
            "val_loss 0.01341 val_acc 0.99646: 100%|██████████| 53/53 [00:01<00:00, 49.00it/s]\n"
          ]
        },
        {
          "output_type": "stream",
          "name": "stdout",
          "text": [
            "Epoch 17/1000 loss 0.00773 val_loss 0.01341 acc 0.99779 val_acc 0.99646\n"
          ]
        },
        {
          "output_type": "stream",
          "name": "stderr",
          "text": [
            "loss 0.01084 acc 0.99632: 100%|██████████| 297/297 [00:06<00:00, 45.94it/s]\n",
            "val_loss 0.00719 val_acc 0.99882: 100%|██████████| 53/53 [00:00<00:00, 61.89it/s]\n"
          ]
        },
        {
          "output_type": "stream",
          "name": "stdout",
          "text": [
            "Epoch 18/1000 loss 0.01084 val_loss 0.00719 acc 0.99632 val_acc 0.99882\n"
          ]
        },
        {
          "output_type": "stream",
          "name": "stderr",
          "text": [
            "loss 0.01156 acc 0.99653: 100%|██████████| 297/297 [00:04<00:00, 70.67it/s]\n",
            "val_loss 0.01256 val_acc 0.99410: 100%|██████████| 53/53 [00:00<00:00, 61.68it/s]\n"
          ]
        },
        {
          "output_type": "stream",
          "name": "stdout",
          "text": [
            "Epoch 19/1000 loss 0.01156 val_loss 0.01256 acc 0.99653 val_acc 0.99410\n"
          ]
        },
        {
          "output_type": "stream",
          "name": "stderr",
          "text": [
            "loss 0.01121 acc 0.99653: 100%|██████████| 297/297 [00:04<00:00, 71.27it/s]\n",
            "val_loss 0.02712 val_acc 0.98998: 100%|██████████| 53/53 [00:01<00:00, 42.20it/s]\n"
          ]
        },
        {
          "output_type": "stream",
          "name": "stdout",
          "text": [
            "Epoch 20/1000 loss 0.01121 val_loss 0.02712 acc 0.99653 val_acc 0.98998\n",
            "Checkpoint guardado en /content/drive/MyDrive/SIS421 prueba dataset 1 test/Checkpoints/checkpoint.pth (Epoch 20)\n"
          ]
        },
        {
          "output_type": "stream",
          "name": "stderr",
          "text": [
            "loss 0.00615 acc 0.99832: 100%|██████████| 297/297 [00:06<00:00, 44.85it/s]\n",
            "val_loss 0.32991 val_acc 0.91380: 100%|██████████| 53/53 [00:00<00:00, 63.33it/s]\n"
          ]
        },
        {
          "output_type": "stream",
          "name": "stdout",
          "text": [
            "Epoch 21/1000 loss 0.00615 val_loss 0.32991 acc 0.99832 val_acc 0.91380\n"
          ]
        },
        {
          "output_type": "stream",
          "name": "stderr",
          "text": [
            "loss 0.00841 acc 0.99712: 100%|██████████| 297/297 [00:04<00:00, 66.95it/s]\n",
            "val_loss 0.00898 val_acc 0.99646: 100%|██████████| 53/53 [00:00<00:00, 62.11it/s]\n"
          ]
        },
        {
          "output_type": "stream",
          "name": "stdout",
          "text": [
            "Epoch 22/1000 loss 0.00841 val_loss 0.00898 acc 0.99712 val_acc 0.99646\n"
          ]
        },
        {
          "output_type": "stream",
          "name": "stderr",
          "text": [
            "loss 0.00869 acc 0.99726: 100%|██████████| 297/297 [00:04<00:00, 64.03it/s]\n",
            "val_loss 0.03437 val_acc 0.98821: 100%|██████████| 53/53 [00:01<00:00, 40.79it/s]\n"
          ]
        },
        {
          "output_type": "stream",
          "name": "stdout",
          "text": [
            "Epoch 23/1000 loss 0.00869 val_loss 0.03437 acc 0.99726 val_acc 0.98821\n"
          ]
        },
        {
          "output_type": "stream",
          "name": "stderr",
          "text": [
            "loss 0.01130 acc 0.99621: 100%|██████████| 297/297 [00:06<00:00, 46.23it/s]\n",
            "val_loss 0.01506 val_acc 0.99528: 100%|██████████| 53/53 [00:00<00:00, 69.83it/s]\n"
          ]
        },
        {
          "output_type": "stream",
          "name": "stdout",
          "text": [
            "Epoch 24/1000 loss 0.01130 val_loss 0.01506 acc 0.99621 val_acc 0.99528\n"
          ]
        },
        {
          "output_type": "stream",
          "name": "stderr",
          "text": [
            "loss 0.00934 acc 0.99684: 100%|██████████| 297/297 [00:04<00:00, 68.36it/s]\n",
            "val_loss 0.03526 val_acc 0.98821: 100%|██████████| 53/53 [00:00<00:00, 61.08it/s]\n"
          ]
        },
        {
          "output_type": "stream",
          "name": "stdout",
          "text": [
            "Epoch 25/1000 loss 0.00934 val_loss 0.03526 acc 0.99684 val_acc 0.98821\n"
          ]
        },
        {
          "output_type": "stream",
          "name": "stderr",
          "text": [
            "loss 0.01124 acc 0.99632: 100%|██████████| 297/297 [00:04<00:00, 65.39it/s]\n",
            "val_loss 0.01314 val_acc 0.99823: 100%|██████████| 53/53 [00:01<00:00, 38.73it/s]\n"
          ]
        },
        {
          "output_type": "stream",
          "name": "stdout",
          "text": [
            "Epoch 26/1000 loss 0.01124 val_loss 0.01314 acc 0.99632 val_acc 0.99823\n"
          ]
        },
        {
          "output_type": "stream",
          "name": "stderr",
          "text": [
            "loss 0.00316 acc 0.99905: 100%|██████████| 297/297 [00:06<00:00, 48.18it/s]\n",
            "val_loss 0.01873 val_acc 0.99410: 100%|██████████| 53/53 [00:00<00:00, 63.42it/s]\n"
          ]
        },
        {
          "output_type": "stream",
          "name": "stdout",
          "text": [
            "Epoch 27/1000 loss 0.00316 val_loss 0.01873 acc 0.99905 val_acc 0.99410\n"
          ]
        },
        {
          "output_type": "stream",
          "name": "stderr",
          "text": [
            "loss 0.00195 acc 0.99958: 100%|██████████| 297/297 [00:04<00:00, 68.85it/s]\n",
            "val_loss 0.00486 val_acc 0.99882: 100%|██████████| 53/53 [00:00<00:00, 60.12it/s]\n"
          ]
        },
        {
          "output_type": "stream",
          "name": "stdout",
          "text": [
            "Epoch 28/1000 loss 0.00195 val_loss 0.00486 acc 0.99958 val_acc 0.99882\n"
          ]
        },
        {
          "output_type": "stream",
          "name": "stderr",
          "text": [
            "loss 0.00154 acc 0.99947: 100%|██████████| 297/297 [00:04<00:00, 60.11it/s]\n",
            "val_loss 0.01334 val_acc 0.99587: 100%|██████████| 53/53 [00:01<00:00, 43.13it/s]\n"
          ]
        },
        {
          "output_type": "stream",
          "name": "stdout",
          "text": [
            "Epoch 29/1000 loss 0.00154 val_loss 0.01334 acc 0.99947 val_acc 0.99587\n"
          ]
        },
        {
          "output_type": "stream",
          "name": "stderr",
          "text": [
            "loss 0.01369 acc 0.99590: 100%|██████████| 297/297 [00:06<00:00, 49.38it/s]\n",
            "val_loss 0.02047 val_acc 0.99587: 100%|██████████| 53/53 [00:00<00:00, 61.72it/s]\n"
          ]
        },
        {
          "output_type": "stream",
          "name": "stdout",
          "text": [
            "Epoch 30/1000 loss 0.01369 val_loss 0.02047 acc 0.99590 val_acc 0.99587\n"
          ]
        },
        {
          "output_type": "stream",
          "name": "stderr",
          "text": [
            "loss 0.00553 acc 0.99800: 100%|██████████| 297/297 [00:05<00:00, 56.19it/s]\n",
            "val_loss 0.20316 val_acc 0.95047: 100%|██████████| 53/53 [00:01<00:00, 39.41it/s]\n"
          ]
        },
        {
          "output_type": "stream",
          "name": "stdout",
          "text": [
            "Epoch 31/1000 loss 0.00553 val_loss 0.20316 acc 0.99800 val_acc 0.95047\n"
          ]
        },
        {
          "output_type": "stream",
          "name": "stderr",
          "text": [
            "loss 0.01190 acc 0.99635: 100%|██████████| 297/297 [00:07<00:00, 39.38it/s]\n",
            "val_loss 0.03699 val_acc 0.98762: 100%|██████████| 53/53 [00:01<00:00, 36.63it/s]\n"
          ]
        },
        {
          "output_type": "stream",
          "name": "stdout",
          "text": [
            "Epoch 32/1000 loss 0.01190 val_loss 0.03699 acc 0.99635 val_acc 0.98762\n"
          ]
        },
        {
          "output_type": "stream",
          "name": "stderr",
          "text": [
            "loss 0.01303 acc 0.99569: 100%|██████████| 297/297 [00:04<00:00, 64.68it/s]\n",
            "val_loss 0.01269 val_acc 0.99705: 100%|██████████| 53/53 [00:00<00:00, 59.95it/s]\n"
          ]
        },
        {
          "output_type": "stream",
          "name": "stdout",
          "text": [
            "Epoch 33/1000 loss 0.01303 val_loss 0.01269 acc 0.99569 val_acc 0.99705\n"
          ]
        },
        {
          "output_type": "stream",
          "name": "stderr",
          "text": [
            "loss 0.00874 acc 0.99747: 100%|██████████| 297/297 [00:04<00:00, 67.33it/s]\n",
            "val_loss 0.00668 val_acc 0.99705: 100%|██████████| 53/53 [00:01<00:00, 51.08it/s]\n"
          ]
        },
        {
          "output_type": "stream",
          "name": "stdout",
          "text": [
            "Epoch 34/1000 loss 0.00874 val_loss 0.00668 acc 0.99747 val_acc 0.99705\n"
          ]
        },
        {
          "output_type": "stream",
          "name": "stderr",
          "text": [
            "loss 0.00261 acc 0.99926: 100%|██████████| 297/297 [00:06<00:00, 44.70it/s]\n",
            "val_loss 0.00427 val_acc 0.99882: 100%|██████████| 53/53 [00:00<00:00, 56.74it/s]\n"
          ]
        },
        {
          "output_type": "stream",
          "name": "stdout",
          "text": [
            "Epoch 35/1000 loss 0.00261 val_loss 0.00427 acc 0.99926 val_acc 0.99882\n"
          ]
        },
        {
          "output_type": "stream",
          "name": "stderr",
          "text": [
            "loss 0.00572 acc 0.99853: 100%|██████████| 297/297 [00:04<00:00, 63.41it/s]\n",
            "val_loss 0.00389 val_acc 0.99823: 100%|██████████| 53/53 [00:00<00:00, 58.78it/s]\n"
          ]
        },
        {
          "output_type": "stream",
          "name": "stdout",
          "text": [
            "Epoch 36/1000 loss 0.00572 val_loss 0.00389 acc 0.99853 val_acc 0.99823\n"
          ]
        },
        {
          "output_type": "stream",
          "name": "stderr",
          "text": [
            "loss 0.00604 acc 0.99800: 100%|██████████| 297/297 [00:04<00:00, 62.41it/s]\n",
            "val_loss 0.00093 val_acc 1.00000: 100%|██████████| 53/53 [00:01<00:00, 40.30it/s]\n"
          ]
        },
        {
          "output_type": "stream",
          "name": "stdout",
          "text": [
            "Epoch 37/1000 loss 0.00604 val_loss 0.00093 acc 0.99800 val_acc 1.00000\n"
          ]
        },
        {
          "output_type": "stream",
          "name": "stderr",
          "text": [
            "loss 0.00679 acc 0.99779: 100%|██████████| 297/297 [00:06<00:00, 46.64it/s]\n",
            "val_loss 0.00200 val_acc 0.99882: 100%|██████████| 53/53 [00:00<00:00, 58.49it/s]\n"
          ]
        },
        {
          "output_type": "stream",
          "name": "stdout",
          "text": [
            "Epoch 38/1000 loss 0.00679 val_loss 0.00200 acc 0.99779 val_acc 0.99882\n"
          ]
        },
        {
          "output_type": "stream",
          "name": "stderr",
          "text": [
            "loss 0.01024 acc 0.99751: 100%|██████████| 297/297 [00:04<00:00, 67.15it/s]\n",
            "val_loss 0.00160 val_acc 0.99941: 100%|██████████| 53/53 [00:00<00:00, 63.63it/s]\n"
          ]
        },
        {
          "output_type": "stream",
          "name": "stdout",
          "text": [
            "Epoch 39/1000 loss 0.01024 val_loss 0.00160 acc 0.99751 val_acc 0.99941\n"
          ]
        },
        {
          "output_type": "stream",
          "name": "stderr",
          "text": [
            "loss 0.00585 acc 0.99853: 100%|██████████| 297/297 [00:04<00:00, 60.98it/s]\n",
            "val_loss 0.00324 val_acc 0.99882: 100%|██████████| 53/53 [00:01<00:00, 40.53it/s]\n"
          ]
        },
        {
          "output_type": "stream",
          "name": "stdout",
          "text": [
            "Epoch 40/1000 loss 0.00585 val_loss 0.00324 acc 0.99853 val_acc 0.99882\n",
            "Checkpoint guardado en /content/drive/MyDrive/SIS421 prueba dataset 1 test/Checkpoints/checkpoint.pth (Epoch 40)\n"
          ]
        },
        {
          "output_type": "stream",
          "name": "stderr",
          "text": [
            "loss 0.00944 acc 0.99747: 100%|██████████| 297/297 [00:06<00:00, 49.44it/s]\n",
            "val_loss 0.00133 val_acc 0.99941: 100%|██████████| 53/53 [00:00<00:00, 58.54it/s]\n"
          ]
        },
        {
          "output_type": "stream",
          "name": "stdout",
          "text": [
            "Epoch 41/1000 loss 0.00944 val_loss 0.00133 acc 0.99747 val_acc 0.99941\n"
          ]
        },
        {
          "output_type": "stream",
          "name": "stderr",
          "text": [
            "loss 0.00403 acc 0.99874: 100%|██████████| 297/297 [00:04<00:00, 68.47it/s]\n",
            "val_loss 0.01308 val_acc 0.99587: 100%|██████████| 53/53 [00:00<00:00, 60.48it/s]\n"
          ]
        },
        {
          "output_type": "stream",
          "name": "stdout",
          "text": [
            "Epoch 42/1000 loss 0.00403 val_loss 0.01308 acc 0.99874 val_acc 0.99587\n"
          ]
        },
        {
          "output_type": "stream",
          "name": "stderr",
          "text": [
            "loss 0.00215 acc 0.99937: 100%|██████████| 297/297 [00:05<00:00, 56.08it/s]\n",
            "val_loss 0.00073 val_acc 1.00000: 100%|██████████| 53/53 [00:01<00:00, 41.76it/s]\n"
          ]
        },
        {
          "output_type": "stream",
          "name": "stdout",
          "text": [
            "Epoch 43/1000 loss 0.00215 val_loss 0.00073 acc 0.99937 val_acc 1.00000\n"
          ]
        },
        {
          "output_type": "stream",
          "name": "stderr",
          "text": [
            "loss 0.00094 acc 0.99989: 100%|██████████| 297/297 [00:05<00:00, 50.34it/s]\n",
            "val_loss 0.00049 val_acc 1.00000: 100%|██████████| 53/53 [00:00<00:00, 65.58it/s]\n"
          ]
        },
        {
          "output_type": "stream",
          "name": "stdout",
          "text": [
            "Epoch 44/1000 loss 0.00094 val_loss 0.00049 acc 0.99989 val_acc 1.00000\n"
          ]
        },
        {
          "output_type": "stream",
          "name": "stderr",
          "text": [
            "loss 0.00283 acc 0.99926: 100%|██████████| 297/297 [00:04<00:00, 67.05it/s]\n",
            "val_loss 0.00251 val_acc 0.99882: 100%|██████████| 53/53 [00:00<00:00, 62.20it/s]\n"
          ]
        },
        {
          "output_type": "stream",
          "name": "stdout",
          "text": [
            "Epoch 45/1000 loss 0.00283 val_loss 0.00251 acc 0.99926 val_acc 0.99882\n"
          ]
        },
        {
          "output_type": "stream",
          "name": "stderr",
          "text": [
            "loss 0.00868 acc 0.99737: 100%|██████████| 297/297 [00:05<00:00, 52.20it/s]\n",
            "val_loss 0.01908 val_acc 0.99528: 100%|██████████| 53/53 [00:01<00:00, 43.53it/s]\n"
          ]
        },
        {
          "output_type": "stream",
          "name": "stdout",
          "text": [
            "Epoch 46/1000 loss 0.00868 val_loss 0.01908 acc 0.99737 val_acc 0.99528\n"
          ]
        },
        {
          "output_type": "stream",
          "name": "stderr",
          "text": [
            "loss 0.00885 acc 0.99716: 100%|██████████| 297/297 [00:04<00:00, 63.47it/s]\n",
            "val_loss 0.00472 val_acc 0.99882: 100%|██████████| 53/53 [00:00<00:00, 60.20it/s]\n"
          ]
        },
        {
          "output_type": "stream",
          "name": "stdout",
          "text": [
            "Epoch 47/1000 loss 0.00885 val_loss 0.00472 acc 0.99716 val_acc 0.99882\n"
          ]
        },
        {
          "output_type": "stream",
          "name": "stderr",
          "text": [
            "loss 0.00218 acc 0.99926: 100%|██████████| 297/297 [00:04<00:00, 67.57it/s]\n",
            "val_loss 0.00047 val_acc 1.00000: 100%|██████████| 53/53 [00:00<00:00, 59.16it/s]\n"
          ]
        },
        {
          "output_type": "stream",
          "name": "stdout",
          "text": [
            "Epoch 48/1000 loss 0.00218 val_loss 0.00047 acc 0.99926 val_acc 1.00000\n"
          ]
        },
        {
          "output_type": "stream",
          "name": "stderr",
          "text": [
            "loss 0.00036 acc 1.00000: 100%|██████████| 297/297 [00:06<00:00, 43.22it/s]\n",
            "val_loss 0.00026 val_acc 1.00000: 100%|██████████| 53/53 [00:00<00:00, 61.06it/s]\n"
          ]
        },
        {
          "output_type": "stream",
          "name": "stdout",
          "text": [
            "Epoch 49/1000 loss 0.00036 val_loss 0.00026 acc 1.00000 val_acc 1.00000\n"
          ]
        },
        {
          "output_type": "stream",
          "name": "stderr",
          "text": [
            "loss 0.00361 acc 0.99874: 100%|██████████| 297/297 [00:04<00:00, 67.80it/s]\n",
            "val_loss 0.01431 val_acc 0.99399: 100%|██████████| 53/53 [00:00<00:00, 61.55it/s]\n"
          ]
        },
        {
          "output_type": "stream",
          "name": "stdout",
          "text": [
            "Epoch 50/1000 loss 0.00361 val_loss 0.01431 acc 0.99874 val_acc 0.99399\n"
          ]
        },
        {
          "output_type": "stream",
          "name": "stderr",
          "text": [
            "loss 0.01302 acc 0.99656: 100%|██████████| 297/297 [00:04<00:00, 60.85it/s]\n",
            "val_loss 0.00537 val_acc 0.99764: 100%|██████████| 53/53 [00:01<00:00, 40.29it/s]\n"
          ]
        },
        {
          "output_type": "stream",
          "name": "stdout",
          "text": [
            "Epoch 51/1000 loss 0.01302 val_loss 0.00537 acc 0.99656 val_acc 0.99764\n"
          ]
        },
        {
          "output_type": "stream",
          "name": "stderr",
          "text": [
            "loss 0.01218 acc 0.99716: 100%|██████████| 297/297 [00:06<00:00, 48.39it/s]\n",
            "val_loss 0.00066 val_acc 1.00000: 100%|██████████| 53/53 [00:00<00:00, 59.59it/s]\n"
          ]
        },
        {
          "output_type": "stream",
          "name": "stdout",
          "text": [
            "Epoch 52/1000 loss 0.01218 val_loss 0.00066 acc 0.99716 val_acc 1.00000\n"
          ]
        },
        {
          "output_type": "stream",
          "name": "stderr",
          "text": [
            "loss 0.00150 acc 0.99989: 100%|██████████| 297/297 [00:04<00:00, 69.26it/s]\n",
            "val_loss 0.00141 val_acc 0.99941: 100%|██████████| 53/53 [00:00<00:00, 62.41it/s]\n"
          ]
        },
        {
          "output_type": "stream",
          "name": "stdout",
          "text": [
            "Epoch 53/1000 loss 0.00150 val_loss 0.00141 acc 0.99989 val_acc 0.99941\n"
          ]
        },
        {
          "output_type": "stream",
          "name": "stderr",
          "text": [
            "loss 0.00133 acc 0.99979: 100%|██████████| 297/297 [00:05<00:00, 58.16it/s]\n",
            "val_loss 0.00047 val_acc 1.00000: 100%|██████████| 53/53 [00:01<00:00, 42.29it/s]\n"
          ]
        },
        {
          "output_type": "stream",
          "name": "stdout",
          "text": [
            "Epoch 54/1000 loss 0.00133 val_loss 0.00047 acc 0.99979 val_acc 1.00000\n"
          ]
        },
        {
          "output_type": "stream",
          "name": "stderr",
          "text": [
            "loss 0.00088 acc 0.99989: 100%|██████████| 297/297 [00:05<00:00, 50.94it/s]\n",
            "val_loss 0.00108 val_acc 0.99941: 100%|██████████| 53/53 [00:00<00:00, 53.90it/s]\n"
          ]
        },
        {
          "output_type": "stream",
          "name": "stdout",
          "text": [
            "Epoch 55/1000 loss 0.00088 val_loss 0.00108 acc 0.99989 val_acc 0.99941\n"
          ]
        },
        {
          "output_type": "stream",
          "name": "stderr",
          "text": [
            "loss 0.00173 acc 0.99909: 100%|██████████| 297/297 [00:04<00:00, 68.79it/s]\n",
            "val_loss 0.00930 val_acc 0.99705: 100%|██████████| 53/53 [00:00<00:00, 60.17it/s]\n"
          ]
        },
        {
          "output_type": "stream",
          "name": "stdout",
          "text": [
            "Epoch 56/1000 loss 0.00173 val_loss 0.00930 acc 0.99909 val_acc 0.99705\n"
          ]
        },
        {
          "output_type": "stream",
          "name": "stderr",
          "text": [
            "loss 0.00369 acc 0.99863: 100%|██████████| 297/297 [00:05<00:00, 54.79it/s]\n",
            "val_loss 0.02601 val_acc 0.99175: 100%|██████████| 53/53 [00:01<00:00, 38.44it/s]\n"
          ]
        },
        {
          "output_type": "stream",
          "name": "stdout",
          "text": [
            "Epoch 57/1000 loss 0.00369 val_loss 0.02601 acc 0.99863 val_acc 0.99175\n"
          ]
        },
        {
          "output_type": "stream",
          "name": "stderr",
          "text": [
            "loss 0.00311 acc 0.99856: 100%|██████████| 297/297 [00:04<00:00, 68.44it/s]\n",
            "val_loss 0.00277 val_acc 0.99882: 100%|██████████| 53/53 [00:00<00:00, 59.68it/s]\n"
          ]
        },
        {
          "output_type": "stream",
          "name": "stdout",
          "text": [
            "Epoch 58/1000 loss 0.00311 val_loss 0.00277 acc 0.99856 val_acc 0.99882\n"
          ]
        },
        {
          "output_type": "stream",
          "name": "stderr",
          "text": [
            "loss 0.00321 acc 0.99905: 100%|██████████| 297/297 [00:04<00:00, 69.66it/s]\n",
            "val_loss 0.00114 val_acc 0.99941: 100%|██████████| 53/53 [00:00<00:00, 64.52it/s]\n"
          ]
        },
        {
          "output_type": "stream",
          "name": "stdout",
          "text": [
            "Epoch 59/1000 loss 0.00321 val_loss 0.00114 acc 0.99905 val_acc 0.99941\n"
          ]
        },
        {
          "output_type": "stream",
          "name": "stderr",
          "text": [
            "loss 0.00378 acc 0.99895: 100%|██████████| 297/297 [00:06<00:00, 45.37it/s]\n",
            "val_loss 0.00059 val_acc 1.00000: 100%|██████████| 53/53 [00:00<00:00, 53.05it/s]\n"
          ]
        },
        {
          "output_type": "stream",
          "name": "stdout",
          "text": [
            "Epoch 60/1000 loss 0.00378 val_loss 0.00059 acc 0.99895 val_acc 1.00000\n",
            "Checkpoint guardado en /content/drive/MyDrive/SIS421 prueba dataset 1 test/Checkpoints/checkpoint.pth (Epoch 60)\n"
          ]
        },
        {
          "output_type": "stream",
          "name": "stderr",
          "text": [
            "loss 0.00153 acc 0.99947: 100%|██████████| 297/297 [00:04<00:00, 67.97it/s]\n",
            "val_loss 0.00049 val_acc 1.00000: 100%|██████████| 53/53 [00:00<00:00, 62.98it/s]\n"
          ]
        },
        {
          "output_type": "stream",
          "name": "stdout",
          "text": [
            "Epoch 61/1000 loss 0.00153 val_loss 0.00049 acc 0.99947 val_acc 1.00000\n"
          ]
        },
        {
          "output_type": "stream",
          "name": "stderr",
          "text": [
            "loss 0.00133 acc 0.99958: 100%|██████████| 297/297 [00:06<00:00, 44.50it/s]\n",
            "val_loss 0.00050 val_acc 1.00000: 100%|██████████| 53/53 [00:01<00:00, 39.35it/s]\n"
          ]
        },
        {
          "output_type": "stream",
          "name": "stdout",
          "text": [
            "Epoch 62/1000 loss 0.00133 val_loss 0.00050 acc 0.99958 val_acc 1.00000\n"
          ]
        },
        {
          "output_type": "stream",
          "name": "stderr",
          "text": [
            "loss 0.00078 acc 0.99979: 100%|██████████| 297/297 [00:05<00:00, 50.01it/s]\n",
            "val_loss 0.00104 val_acc 1.00000: 100%|██████████| 53/53 [00:00<00:00, 63.92it/s]\n"
          ]
        },
        {
          "output_type": "stream",
          "name": "stdout",
          "text": [
            "Epoch 63/1000 loss 0.00078 val_loss 0.00104 acc 0.99979 val_acc 1.00000\n"
          ]
        },
        {
          "output_type": "stream",
          "name": "stderr",
          "text": [
            "loss 0.00503 acc 0.99853: 100%|██████████| 297/297 [00:04<00:00, 73.64it/s]\n",
            "val_loss 0.02390 val_acc 0.99233: 100%|██████████| 53/53 [00:00<00:00, 62.85it/s]\n"
          ]
        },
        {
          "output_type": "stream",
          "name": "stdout",
          "text": [
            "Epoch 64/1000 loss 0.00503 val_loss 0.02390 acc 0.99853 val_acc 0.99233\n"
          ]
        },
        {
          "output_type": "stream",
          "name": "stderr",
          "text": [
            "loss 0.01070 acc 0.99611: 100%|██████████| 297/297 [00:04<00:00, 68.63it/s]\n",
            "val_loss 0.09324 val_acc 0.96745: 100%|██████████| 53/53 [00:01<00:00, 45.18it/s]\n"
          ]
        },
        {
          "output_type": "stream",
          "name": "stdout",
          "text": [
            "Epoch 65/1000 loss 0.01070 val_loss 0.09324 acc 0.99611 val_acc 0.96745\n"
          ]
        },
        {
          "output_type": "stream",
          "name": "stderr",
          "text": [
            "loss 0.00533 acc 0.99832: 100%|██████████| 297/297 [00:06<00:00, 48.97it/s]\n",
            "val_loss 0.01064 val_acc 0.99823: 100%|██████████| 53/53 [00:00<00:00, 66.38it/s]\n"
          ]
        },
        {
          "output_type": "stream",
          "name": "stdout",
          "text": [
            "Epoch 66/1000 loss 0.00533 val_loss 0.01064 acc 0.99832 val_acc 0.99823\n"
          ]
        },
        {
          "output_type": "stream",
          "name": "stderr",
          "text": [
            "loss 0.00276 acc 0.99898: 100%|██████████| 297/297 [00:04<00:00, 73.21it/s]\n",
            "val_loss 0.00335 val_acc 0.99882: 100%|██████████| 53/53 [00:00<00:00, 64.55it/s]\n"
          ]
        },
        {
          "output_type": "stream",
          "name": "stdout",
          "text": [
            "Epoch 67/1000 loss 0.00276 val_loss 0.00335 acc 0.99898 val_acc 0.99882\n"
          ]
        },
        {
          "output_type": "stream",
          "name": "stderr",
          "text": [
            "loss 0.00421 acc 0.99863: 100%|██████████| 297/297 [00:04<00:00, 68.56it/s]\n",
            "val_loss 0.00020 val_acc 1.00000: 100%|██████████| 53/53 [00:01<00:00, 42.70it/s]\n"
          ]
        },
        {
          "output_type": "stream",
          "name": "stdout",
          "text": [
            "Epoch 68/1000 loss 0.00421 val_loss 0.00020 acc 0.99863 val_acc 1.00000\n"
          ]
        },
        {
          "output_type": "stream",
          "name": "stderr",
          "text": [
            "loss 0.00109 acc 0.99958: 100%|██████████| 297/297 [00:06<00:00, 49.04it/s]\n",
            "val_loss 0.00159 val_acc 0.99882: 100%|██████████| 53/53 [00:00<00:00, 54.22it/s]\n"
          ]
        },
        {
          "output_type": "stream",
          "name": "stdout",
          "text": [
            "Epoch 69/1000 loss 0.00109 val_loss 0.00159 acc 0.99958 val_acc 0.99882\n"
          ]
        },
        {
          "output_type": "stream",
          "name": "stderr",
          "text": [
            "loss 0.00211 acc 0.99947: 100%|██████████| 297/297 [00:04<00:00, 68.88it/s]\n",
            "val_loss 0.00587 val_acc 0.99882: 100%|██████████| 53/53 [00:00<00:00, 60.32it/s]\n"
          ]
        },
        {
          "output_type": "stream",
          "name": "stdout",
          "text": [
            "Epoch 70/1000 loss 0.00211 val_loss 0.00587 acc 0.99947 val_acc 0.99882\n"
          ]
        },
        {
          "output_type": "stream",
          "name": "stderr",
          "text": [
            "loss 0.00240 acc 0.99905: 100%|██████████| 297/297 [00:04<00:00, 63.78it/s]\n",
            "val_loss 0.00028 val_acc 1.00000: 100%|██████████| 53/53 [00:01<00:00, 39.60it/s]\n"
          ]
        },
        {
          "output_type": "stream",
          "name": "stdout",
          "text": [
            "Epoch 71/1000 loss 0.00240 val_loss 0.00028 acc 0.99905 val_acc 1.00000\n"
          ]
        },
        {
          "output_type": "stream",
          "name": "stderr",
          "text": [
            "loss 0.00144 acc 0.99968: 100%|██████████| 297/297 [00:06<00:00, 46.72it/s]\n",
            "val_loss 0.61459 val_acc 0.89776: 100%|██████████| 53/53 [00:00<00:00, 61.29it/s]\n"
          ]
        },
        {
          "output_type": "stream",
          "name": "stdout",
          "text": [
            "Epoch 72/1000 loss 0.00144 val_loss 0.61459 acc 0.99968 val_acc 0.89776\n"
          ]
        },
        {
          "output_type": "stream",
          "name": "stderr",
          "text": [
            "loss 0.00178 acc 0.99909: 100%|██████████| 297/297 [00:04<00:00, 64.73it/s]\n",
            "val_loss 0.00034 val_acc 1.00000: 100%|██████████| 53/53 [00:00<00:00, 58.39it/s]\n"
          ]
        },
        {
          "output_type": "stream",
          "name": "stdout",
          "text": [
            "Epoch 73/1000 loss 0.00178 val_loss 0.00034 acc 0.99909 val_acc 1.00000\n"
          ]
        },
        {
          "output_type": "stream",
          "name": "stderr",
          "text": [
            "loss 0.00693 acc 0.99793: 100%|██████████| 297/297 [00:04<00:00, 60.55it/s]\n",
            "val_loss 0.00067 val_acc 1.00000: 100%|██████████| 53/53 [00:01<00:00, 39.99it/s]\n"
          ]
        },
        {
          "output_type": "stream",
          "name": "stdout",
          "text": [
            "Epoch 74/1000 loss 0.00693 val_loss 0.00067 acc 0.99793 val_acc 1.00000\n"
          ]
        },
        {
          "output_type": "stream",
          "name": "stderr",
          "text": [
            "loss 0.00780 acc 0.99758: 100%|██████████| 297/297 [00:05<00:00, 50.21it/s]\n",
            "val_loss 0.00622 val_acc 0.99764: 100%|██████████| 53/53 [00:00<00:00, 54.78it/s]\n"
          ]
        },
        {
          "output_type": "stream",
          "name": "stdout",
          "text": [
            "Epoch 75/1000 loss 0.00780 val_loss 0.00622 acc 0.99758 val_acc 0.99764\n"
          ]
        },
        {
          "output_type": "stream",
          "name": "stderr",
          "text": [
            "loss 0.00271 acc 0.99874: 100%|██████████| 297/297 [00:04<00:00, 64.17it/s]\n",
            "val_loss 0.00309 val_acc 0.99941: 100%|██████████| 53/53 [00:00<00:00, 62.68it/s]\n"
          ]
        },
        {
          "output_type": "stream",
          "name": "stdout",
          "text": [
            "Epoch 76/1000 loss 0.00271 val_loss 0.00309 acc 0.99874 val_acc 0.99941\n"
          ]
        },
        {
          "output_type": "stream",
          "name": "stderr",
          "text": [
            "loss 0.00229 acc 0.99940: 100%|██████████| 297/297 [00:05<00:00, 52.27it/s]\n",
            "val_loss 0.00556 val_acc 0.99823: 100%|██████████| 53/53 [00:01<00:00, 37.75it/s]\n"
          ]
        },
        {
          "output_type": "stream",
          "name": "stdout",
          "text": [
            "Epoch 77/1000 loss 0.00229 val_loss 0.00556 acc 0.99940 val_acc 0.99823\n"
          ]
        },
        {
          "output_type": "stream",
          "name": "stderr",
          "text": [
            "loss 0.00239 acc 0.99937: 100%|██████████| 297/297 [00:04<00:00, 62.91it/s]\n",
            "val_loss 0.00074 val_acc 0.99941: 100%|██████████| 53/53 [00:00<00:00, 59.25it/s]\n"
          ]
        },
        {
          "output_type": "stream",
          "name": "stdout",
          "text": [
            "Epoch 78/1000 loss 0.00239 val_loss 0.00074 acc 0.99937 val_acc 0.99941\n"
          ]
        },
        {
          "output_type": "stream",
          "name": "stderr",
          "text": [
            "loss 0.00283 acc 0.99884: 100%|██████████| 297/297 [00:08<00:00, 37.09it/s]\n",
            "val_loss 0.13065 val_acc 0.96686: 100%|██████████| 53/53 [00:01<00:00, 41.35it/s]\n"
          ]
        },
        {
          "output_type": "stream",
          "name": "stdout",
          "text": [
            "Epoch 79/1000 loss 0.00283 val_loss 0.13065 acc 0.99884 val_acc 0.96686\n"
          ]
        },
        {
          "output_type": "stream",
          "name": "stderr",
          "text": [
            "loss 0.00259 acc 0.99926: 100%|██████████| 297/297 [00:07<00:00, 42.32it/s]\n",
            "val_loss 0.00162 val_acc 0.99941: 100%|██████████| 53/53 [00:00<00:00, 60.57it/s]\n"
          ]
        },
        {
          "output_type": "stream",
          "name": "stdout",
          "text": [
            "Epoch 80/1000 loss 0.00259 val_loss 0.00162 acc 0.99926 val_acc 0.99941\n",
            "Checkpoint guardado en /content/drive/MyDrive/SIS421 prueba dataset 1 test/Checkpoints/checkpoint.pth (Epoch 80)\n"
          ]
        },
        {
          "output_type": "stream",
          "name": "stderr",
          "text": [
            "loss 0.00259 acc 0.99916: 100%|██████████| 297/297 [00:04<00:00, 63.90it/s]\n",
            "val_loss 0.00020 val_acc 1.00000: 100%|██████████| 53/53 [00:00<00:00, 55.59it/s]\n"
          ]
        },
        {
          "output_type": "stream",
          "name": "stdout",
          "text": [
            "Epoch 81/1000 loss 0.00259 val_loss 0.00020 acc 0.99916 val_acc 1.00000\n"
          ]
        },
        {
          "output_type": "stream",
          "name": "stderr",
          "text": [
            "loss 0.00060 acc 0.99979: 100%|██████████| 297/297 [00:06<00:00, 44.15it/s]\n",
            "val_loss 0.00017 val_acc 1.00000: 100%|██████████| 53/53 [00:01<00:00, 50.75it/s]\n"
          ]
        },
        {
          "output_type": "stream",
          "name": "stdout",
          "text": [
            "Epoch 82/1000 loss 0.00060 val_loss 0.00017 acc 0.99979 val_acc 1.00000\n"
          ]
        },
        {
          "output_type": "stream",
          "name": "stderr",
          "text": [
            "loss 0.00256 acc 0.99944: 100%|██████████| 297/297 [00:04<00:00, 66.54it/s]\n",
            "val_loss 0.00229 val_acc 0.99882: 100%|██████████| 53/53 [00:00<00:00, 59.82it/s]\n"
          ]
        },
        {
          "output_type": "stream",
          "name": "stdout",
          "text": [
            "Epoch 83/1000 loss 0.00256 val_loss 0.00229 acc 0.99944 val_acc 0.99882\n"
          ]
        },
        {
          "output_type": "stream",
          "name": "stderr",
          "text": [
            "loss 0.00526 acc 0.99832: 100%|██████████| 297/297 [00:04<00:00, 62.20it/s]\n",
            "val_loss 0.00570 val_acc 0.99823: 100%|██████████| 53/53 [00:01<00:00, 39.74it/s]\n"
          ]
        },
        {
          "output_type": "stream",
          "name": "stdout",
          "text": [
            "Epoch 84/1000 loss 0.00526 val_loss 0.00570 acc 0.99832 val_acc 0.99823\n"
          ]
        },
        {
          "output_type": "stream",
          "name": "stderr",
          "text": [
            "loss 0.00233 acc 0.99937: 100%|██████████| 297/297 [00:06<00:00, 45.33it/s]\n",
            "val_loss 0.00408 val_acc 0.99941: 100%|██████████| 53/53 [00:00<00:00, 60.31it/s]\n"
          ]
        },
        {
          "output_type": "stream",
          "name": "stdout",
          "text": [
            "Epoch 85/1000 loss 0.00233 val_loss 0.00408 acc 0.99937 val_acc 0.99941\n"
          ]
        },
        {
          "output_type": "stream",
          "name": "stderr",
          "text": [
            "loss 0.00193 acc 0.99951: 100%|██████████| 297/297 [00:04<00:00, 67.67it/s]\n",
            "val_loss 0.00550 val_acc 0.99941: 100%|██████████| 53/53 [00:00<00:00, 59.49it/s]\n"
          ]
        },
        {
          "output_type": "stream",
          "name": "stdout",
          "text": [
            "Epoch 86/1000 loss 0.00193 val_loss 0.00550 acc 0.99951 val_acc 0.99941\n"
          ]
        },
        {
          "output_type": "stream",
          "name": "stderr",
          "text": [
            "loss 0.00280 acc 0.99895: 100%|██████████| 297/297 [00:04<00:00, 65.57it/s]\n",
            "val_loss 0.01354 val_acc 0.99587: 100%|██████████| 53/53 [00:01<00:00, 45.44it/s]\n"
          ]
        },
        {
          "output_type": "stream",
          "name": "stdout",
          "text": [
            "Epoch 87/1000 loss 0.00280 val_loss 0.01354 acc 0.99895 val_acc 0.99587\n"
          ]
        },
        {
          "output_type": "stream",
          "name": "stderr",
          "text": [
            "loss 0.00578 acc 0.99790: 100%|██████████| 297/297 [00:05<00:00, 50.41it/s]\n",
            "val_loss 0.00195 val_acc 0.99941: 100%|██████████| 53/53 [00:00<00:00, 66.03it/s]\n"
          ]
        },
        {
          "output_type": "stream",
          "name": "stdout",
          "text": [
            "Epoch 88/1000 loss 0.00578 val_loss 0.00195 acc 0.99790 val_acc 0.99941\n"
          ]
        },
        {
          "output_type": "stream",
          "name": "stderr",
          "text": [
            "loss 0.00132 acc 0.99958: 100%|██████████| 297/297 [00:04<00:00, 71.32it/s]\n",
            "val_loss 0.00354 val_acc 0.99941: 100%|██████████| 53/53 [00:00<00:00, 65.11it/s]\n"
          ]
        },
        {
          "output_type": "stream",
          "name": "stdout",
          "text": [
            "Epoch 89/1000 loss 0.00132 val_loss 0.00354 acc 0.99958 val_acc 0.99941\n"
          ]
        },
        {
          "output_type": "stream",
          "name": "stderr",
          "text": [
            "loss 0.00249 acc 0.99916: 100%|██████████| 297/297 [00:04<00:00, 68.64it/s]\n",
            "val_loss 0.00206 val_acc 0.99941: 100%|██████████| 53/53 [00:01<00:00, 44.62it/s]\n"
          ]
        },
        {
          "output_type": "stream",
          "name": "stdout",
          "text": [
            "Epoch 90/1000 loss 0.00249 val_loss 0.00206 acc 0.99916 val_acc 0.99941\n"
          ]
        },
        {
          "output_type": "stream",
          "name": "stderr",
          "text": [
            "loss 0.00040 acc 1.00000: 100%|██████████| 297/297 [00:05<00:00, 49.93it/s]\n",
            "val_loss 0.00304 val_acc 0.99882: 100%|██████████| 53/53 [00:00<00:00, 62.40it/s]\n"
          ]
        },
        {
          "output_type": "stream",
          "name": "stdout",
          "text": [
            "Epoch 91/1000 loss 0.00040 val_loss 0.00304 acc 1.00000 val_acc 0.99882\n"
          ]
        },
        {
          "output_type": "stream",
          "name": "stderr",
          "text": [
            "loss 0.00165 acc 0.99947: 100%|██████████| 297/297 [00:04<00:00, 60.42it/s]\n",
            "val_loss 0.00458 val_acc 0.99882: 100%|██████████| 53/53 [00:01<00:00, 41.23it/s]\n"
          ]
        },
        {
          "output_type": "stream",
          "name": "stdout",
          "text": [
            "Epoch 92/1000 loss 0.00165 val_loss 0.00458 acc 0.99947 val_acc 0.99882\n"
          ]
        },
        {
          "output_type": "stream",
          "name": "stderr",
          "text": [
            "loss 0.00078 acc 0.99989: 100%|██████████| 297/297 [00:06<00:00, 47.13it/s]\n",
            "val_loss 0.00809 val_acc 0.99882: 100%|██████████| 53/53 [00:01<00:00, 42.50it/s]\n"
          ]
        },
        {
          "output_type": "stream",
          "name": "stdout",
          "text": [
            "Epoch 93/1000 loss 0.00078 val_loss 0.00809 acc 0.99989 val_acc 0.99882\n"
          ]
        },
        {
          "output_type": "stream",
          "name": "stderr",
          "text": [
            "loss 0.00220 acc 0.99916: 100%|██████████| 297/297 [00:05<00:00, 51.23it/s]\n",
            "val_loss 0.00392 val_acc 0.99882: 100%|██████████| 53/53 [00:00<00:00, 64.99it/s]\n"
          ]
        },
        {
          "output_type": "stream",
          "name": "stdout",
          "text": [
            "Epoch 94/1000 loss 0.00220 val_loss 0.00392 acc 0.99916 val_acc 0.99882\n"
          ]
        },
        {
          "output_type": "stream",
          "name": "stderr",
          "text": [
            "loss 0.00093 acc 0.99979: 100%|██████████| 297/297 [00:04<00:00, 71.85it/s]\n",
            "val_loss 0.00243 val_acc 0.99941: 100%|██████████| 53/53 [00:00<00:00, 62.00it/s]\n"
          ]
        },
        {
          "output_type": "stream",
          "name": "stdout",
          "text": [
            "Epoch 95/1000 loss 0.00093 val_loss 0.00243 acc 0.99979 val_acc 0.99941\n"
          ]
        },
        {
          "output_type": "stream",
          "name": "stderr",
          "text": [
            "loss 0.00421 acc 0.99905: 100%|██████████| 297/297 [00:04<00:00, 63.53it/s]\n",
            "val_loss 0.11421 val_acc 0.96993: 100%|██████████| 53/53 [00:01<00:00, 47.71it/s]\n"
          ]
        },
        {
          "output_type": "stream",
          "name": "stdout",
          "text": [
            "Epoch 96/1000 loss 0.00421 val_loss 0.11421 acc 0.99905 val_acc 0.96993\n"
          ]
        },
        {
          "output_type": "stream",
          "name": "stderr",
          "text": [
            "loss 0.00655 acc 0.99825: 100%|██████████| 297/297 [00:05<00:00, 51.06it/s]\n",
            "val_loss 0.00110 val_acc 0.99941: 100%|██████████| 53/53 [00:00<00:00, 62.77it/s]\n"
          ]
        },
        {
          "output_type": "stream",
          "name": "stdout",
          "text": [
            "Epoch 97/1000 loss 0.00655 val_loss 0.00110 acc 0.99825 val_acc 0.99941\n"
          ]
        },
        {
          "output_type": "stream",
          "name": "stderr",
          "text": [
            "loss 0.00362 acc 0.99895: 100%|██████████| 297/297 [00:04<00:00, 72.31it/s]\n",
            "val_loss 0.00114 val_acc 0.99941: 100%|██████████| 53/53 [00:00<00:00, 63.36it/s]\n"
          ]
        },
        {
          "output_type": "stream",
          "name": "stdout",
          "text": [
            "Epoch 98/1000 loss 0.00362 val_loss 0.00114 acc 0.99895 val_acc 0.99941\n"
          ]
        },
        {
          "output_type": "stream",
          "name": "stderr",
          "text": [
            "loss 0.00124 acc 0.99968: 100%|██████████| 297/297 [00:04<00:00, 66.71it/s]\n",
            "val_loss 0.00080 val_acc 1.00000: 100%|██████████| 53/53 [00:01<00:00, 46.13it/s]\n"
          ]
        },
        {
          "output_type": "stream",
          "name": "stdout",
          "text": [
            "Epoch 99/1000 loss 0.00124 val_loss 0.00080 acc 0.99968 val_acc 1.00000\n"
          ]
        },
        {
          "output_type": "stream",
          "name": "stderr",
          "text": [
            "loss 0.00074 acc 0.99989: 100%|██████████| 297/297 [00:05<00:00, 50.32it/s]\n",
            "val_loss 0.00140 val_acc 0.99941: 100%|██████████| 53/53 [00:00<00:00, 64.29it/s]\n"
          ]
        },
        {
          "output_type": "stream",
          "name": "stdout",
          "text": [
            "Epoch 100/1000 loss 0.00074 val_loss 0.00140 acc 0.99989 val_acc 0.99941\n",
            "Checkpoint guardado en /content/drive/MyDrive/SIS421 prueba dataset 1 test/Checkpoints/checkpoint.pth (Epoch 100)\n"
          ]
        },
        {
          "output_type": "stream",
          "name": "stderr",
          "text": [
            "loss 0.00147 acc 0.99958: 100%|██████████| 297/297 [00:04<00:00, 71.92it/s]\n",
            "val_loss 0.00685 val_acc 0.99823: 100%|██████████| 53/53 [00:00<00:00, 63.13it/s]\n"
          ]
        },
        {
          "output_type": "stream",
          "name": "stdout",
          "text": [
            "Epoch 101/1000 loss 0.00147 val_loss 0.00685 acc 0.99958 val_acc 0.99823\n"
          ]
        },
        {
          "output_type": "stream",
          "name": "stderr",
          "text": [
            "loss 0.00352 acc 0.99863: 100%|██████████| 297/297 [00:04<00:00, 69.29it/s]\n",
            "val_loss 0.00090 val_acc 1.00000: 100%|██████████| 53/53 [00:01<00:00, 46.72it/s]\n"
          ]
        },
        {
          "output_type": "stream",
          "name": "stdout",
          "text": [
            "Epoch 102/1000 loss 0.00352 val_loss 0.00090 acc 0.99863 val_acc 1.00000\n"
          ]
        },
        {
          "output_type": "stream",
          "name": "stderr",
          "text": [
            "loss 0.00139 acc 0.99958: 100%|██████████| 297/297 [00:06<00:00, 49.08it/s]\n",
            "val_loss 0.00236 val_acc 0.99941: 100%|██████████| 53/53 [00:00<00:00, 56.09it/s]\n"
          ]
        },
        {
          "output_type": "stream",
          "name": "stdout",
          "text": [
            "Epoch 103/1000 loss 0.00139 val_loss 0.00236 acc 0.99958 val_acc 0.99941\n"
          ]
        },
        {
          "output_type": "stream",
          "name": "stderr",
          "text": [
            "loss 0.00229 acc 0.99919: 100%|██████████| 297/297 [00:04<00:00, 70.05it/s]\n",
            "val_loss 0.00098 val_acc 0.99941: 100%|██████████| 53/53 [00:00<00:00, 64.34it/s]\n"
          ]
        },
        {
          "output_type": "stream",
          "name": "stdout",
          "text": [
            "Epoch 104/1000 loss 0.00229 val_loss 0.00098 acc 0.99919 val_acc 0.99941\n"
          ]
        },
        {
          "output_type": "stream",
          "name": "stderr",
          "text": [
            "loss 0.00411 acc 0.99877: 100%|██████████| 297/297 [00:04<00:00, 67.88it/s]\n",
            "val_loss 0.00211 val_acc 0.99823: 100%|██████████| 53/53 [00:01<00:00, 41.13it/s]\n"
          ]
        },
        {
          "output_type": "stream",
          "name": "stdout",
          "text": [
            "Epoch 105/1000 loss 0.00411 val_loss 0.00211 acc 0.99877 val_acc 0.99823\n"
          ]
        },
        {
          "output_type": "stream",
          "name": "stderr",
          "text": [
            "loss 0.00186 acc 0.99937: 100%|██████████| 297/297 [00:06<00:00, 48.28it/s]\n",
            "val_loss 0.00441 val_acc 0.99941: 100%|██████████| 53/53 [00:00<00:00, 61.56it/s]\n"
          ]
        },
        {
          "output_type": "stream",
          "name": "stdout",
          "text": [
            "Epoch 106/1000 loss 0.00186 val_loss 0.00441 acc 0.99937 val_acc 0.99941\n"
          ]
        },
        {
          "output_type": "stream",
          "name": "stderr",
          "text": [
            "loss 0.00393 acc 0.99863: 100%|██████████| 297/297 [00:04<00:00, 68.28it/s]\n",
            "val_loss 0.00014 val_acc 1.00000: 100%|██████████| 53/53 [00:00<00:00, 62.76it/s]\n"
          ]
        },
        {
          "output_type": "stream",
          "name": "stdout",
          "text": [
            "Epoch 107/1000 loss 0.00393 val_loss 0.00014 acc 0.99863 val_acc 1.00000\n"
          ]
        },
        {
          "output_type": "stream",
          "name": "stderr",
          "text": [
            "loss 0.00264 acc 0.99905: 100%|██████████| 297/297 [00:04<00:00, 65.20it/s]\n",
            "val_loss 0.00016 val_acc 1.00000: 100%|██████████| 53/53 [00:01<00:00, 41.80it/s]\n"
          ]
        },
        {
          "output_type": "stream",
          "name": "stdout",
          "text": [
            "Epoch 108/1000 loss 0.00264 val_loss 0.00016 acc 0.99905 val_acc 1.00000\n"
          ]
        },
        {
          "output_type": "stream",
          "name": "stderr",
          "text": [
            "loss 0.00105 acc 0.99937: 100%|██████████| 297/297 [00:06<00:00, 48.18it/s]\n",
            "val_loss 0.00076 val_acc 1.00000: 100%|██████████| 53/53 [00:00<00:00, 61.39it/s]\n"
          ]
        },
        {
          "output_type": "stream",
          "name": "stdout",
          "text": [
            "Epoch 109/1000 loss 0.00105 val_loss 0.00076 acc 0.99937 val_acc 1.00000\n"
          ]
        },
        {
          "output_type": "stream",
          "name": "stderr",
          "text": [
            "loss 0.00071 acc 0.99979: 100%|██████████| 297/297 [00:04<00:00, 65.41it/s]\n",
            "val_loss 0.00059 val_acc 1.00000: 100%|██████████| 53/53 [00:00<00:00, 59.18it/s]\n"
          ]
        },
        {
          "output_type": "stream",
          "name": "stdout",
          "text": [
            "Epoch 110/1000 loss 0.00071 val_loss 0.00059 acc 0.99979 val_acc 1.00000\n"
          ]
        },
        {
          "output_type": "stream",
          "name": "stderr",
          "text": [
            "loss 0.00111 acc 0.99968: 100%|██████████| 297/297 [00:05<00:00, 55.60it/s]\n",
            "val_loss 0.00159 val_acc 0.99882: 100%|██████████| 53/53 [00:01<00:00, 41.03it/s]\n"
          ]
        },
        {
          "output_type": "stream",
          "name": "stdout",
          "text": [
            "Epoch 111/1000 loss 0.00111 val_loss 0.00159 acc 0.99968 val_acc 0.99882\n"
          ]
        },
        {
          "output_type": "stream",
          "name": "stderr",
          "text": [
            "loss 0.00083 acc 0.99979: 100%|██████████| 297/297 [00:06<00:00, 45.49it/s]\n",
            "val_loss 0.00145 val_acc 0.99941: 100%|██████████| 53/53 [00:00<00:00, 59.20it/s]\n"
          ]
        },
        {
          "output_type": "stream",
          "name": "stdout",
          "text": [
            "Epoch 112/1000 loss 0.00083 val_loss 0.00145 acc 0.99979 val_acc 0.99941\n"
          ]
        },
        {
          "output_type": "stream",
          "name": "stderr",
          "text": [
            "loss 0.00184 acc 0.99947: 100%|██████████| 297/297 [00:04<00:00, 67.10it/s]\n",
            "val_loss 0.00017 val_acc 1.00000: 100%|██████████| 53/53 [00:00<00:00, 58.32it/s]\n"
          ]
        },
        {
          "output_type": "stream",
          "name": "stdout",
          "text": [
            "Epoch 113/1000 loss 0.00184 val_loss 0.00017 acc 0.99947 val_acc 1.00000\n"
          ]
        },
        {
          "output_type": "stream",
          "name": "stderr",
          "text": [
            "loss 0.00116 acc 0.99958: 100%|██████████| 297/297 [00:05<00:00, 54.11it/s]\n",
            "val_loss 0.00351 val_acc 0.99882: 100%|██████████| 53/53 [00:01<00:00, 40.28it/s]\n"
          ]
        },
        {
          "output_type": "stream",
          "name": "stdout",
          "text": [
            "Epoch 114/1000 loss 0.00116 val_loss 0.00351 acc 0.99958 val_acc 0.99882\n"
          ]
        },
        {
          "output_type": "stream",
          "name": "stderr",
          "text": [
            "loss 0.00182 acc 0.99937: 100%|██████████| 297/297 [00:06<00:00, 48.89it/s]\n",
            "val_loss 0.00177 val_acc 0.99941: 100%|██████████| 53/53 [00:00<00:00, 58.34it/s]\n"
          ]
        },
        {
          "output_type": "stream",
          "name": "stdout",
          "text": [
            "Epoch 115/1000 loss 0.00182 val_loss 0.00177 acc 0.99937 val_acc 0.99941\n"
          ]
        },
        {
          "output_type": "stream",
          "name": "stderr",
          "text": [
            "loss 0.00187 acc 0.99968: 100%|██████████| 297/297 [00:04<00:00, 63.19it/s]\n",
            "val_loss 0.00113 val_acc 0.99882: 100%|██████████| 53/53 [00:00<00:00, 57.05it/s]\n"
          ]
        },
        {
          "output_type": "stream",
          "name": "stdout",
          "text": [
            "Epoch 116/1000 loss 0.00187 val_loss 0.00113 acc 0.99968 val_acc 0.99882\n"
          ]
        },
        {
          "output_type": "stream",
          "name": "stderr",
          "text": [
            "loss 0.00035 acc 1.00000: 100%|██████████| 297/297 [00:05<00:00, 52.21it/s]\n",
            "val_loss 0.00082 val_acc 0.99941: 100%|██████████| 53/53 [00:01<00:00, 37.34it/s]\n"
          ]
        },
        {
          "output_type": "stream",
          "name": "stdout",
          "text": [
            "Epoch 117/1000 loss 0.00035 val_loss 0.00082 acc 1.00000 val_acc 0.99941\n"
          ]
        },
        {
          "output_type": "stream",
          "name": "stderr",
          "text": [
            "loss 0.00255 acc 0.99937: 100%|██████████| 297/297 [00:04<00:00, 60.20it/s]\n",
            "val_loss 0.00312 val_acc 0.99823: 100%|██████████| 53/53 [00:00<00:00, 57.22it/s]\n"
          ]
        },
        {
          "output_type": "stream",
          "name": "stdout",
          "text": [
            "Epoch 118/1000 loss 0.00255 val_loss 0.00312 acc 0.99937 val_acc 0.99823\n"
          ]
        },
        {
          "output_type": "stream",
          "name": "stderr",
          "text": [
            "loss 0.00232 acc 0.99916: 100%|██████████| 297/297 [00:04<00:00, 65.88it/s]\n",
            "val_loss 0.00184 val_acc 0.99941: 100%|██████████| 53/53 [00:01<00:00, 50.51it/s]\n"
          ]
        },
        {
          "output_type": "stream",
          "name": "stdout",
          "text": [
            "Epoch 119/1000 loss 0.00232 val_loss 0.00184 acc 0.99916 val_acc 0.99941\n"
          ]
        },
        {
          "output_type": "stream",
          "name": "stderr",
          "text": [
            "loss 0.00159 acc 0.99958: 100%|██████████| 297/297 [00:06<00:00, 44.14it/s]\n",
            "val_loss 0.00094 val_acc 0.99941: 100%|██████████| 53/53 [00:00<00:00, 56.42it/s]\n"
          ]
        },
        {
          "output_type": "stream",
          "name": "stdout",
          "text": [
            "Epoch 120/1000 loss 0.00159 val_loss 0.00094 acc 0.99958 val_acc 0.99941\n",
            "Checkpoint guardado en /content/drive/MyDrive/SIS421 prueba dataset 1 test/Checkpoints/checkpoint.pth (Epoch 120)\n"
          ]
        },
        {
          "output_type": "stream",
          "name": "stderr",
          "text": [
            "loss 0.00084 acc 0.99979: 100%|██████████| 297/297 [00:04<00:00, 67.45it/s]\n",
            "val_loss 0.00213 val_acc 0.99882: 100%|██████████| 53/53 [00:00<00:00, 60.27it/s]\n"
          ]
        },
        {
          "output_type": "stream",
          "name": "stdout",
          "text": [
            "Epoch 121/1000 loss 0.00084 val_loss 0.00213 acc 0.99979 val_acc 0.99882\n"
          ]
        },
        {
          "output_type": "stream",
          "name": "stderr",
          "text": [
            "loss 0.00058 acc 0.99989: 100%|██████████| 297/297 [00:04<00:00, 60.03it/s]\n",
            "val_loss 0.00197 val_acc 0.99882: 100%|██████████| 53/53 [00:01<00:00, 40.82it/s]\n"
          ]
        },
        {
          "output_type": "stream",
          "name": "stdout",
          "text": [
            "Epoch 122/1000 loss 0.00058 val_loss 0.00197 acc 0.99989 val_acc 0.99882\n"
          ]
        },
        {
          "output_type": "stream",
          "name": "stderr",
          "text": [
            "loss 0.00157 acc 0.99930: 100%|██████████| 297/297 [00:07<00:00, 41.19it/s]\n",
            "val_loss 0.00068 val_acc 0.99941: 100%|██████████| 53/53 [00:01<00:00, 36.72it/s]\n"
          ]
        },
        {
          "output_type": "stream",
          "name": "stdout",
          "text": [
            "Epoch 123/1000 loss 0.00157 val_loss 0.00068 acc 0.99930 val_acc 0.99941\n"
          ]
        },
        {
          "output_type": "stream",
          "name": "stderr",
          "text": [
            "loss 0.00375 acc 0.99877: 100%|██████████| 297/297 [00:06<00:00, 48.55it/s]\n",
            "val_loss 0.00716 val_acc 0.99823: 100%|██████████| 53/53 [00:00<00:00, 59.90it/s]\n"
          ]
        },
        {
          "output_type": "stream",
          "name": "stdout",
          "text": [
            "Epoch 124/1000 loss 0.00375 val_loss 0.00716 acc 0.99877 val_acc 0.99823\n"
          ]
        },
        {
          "output_type": "stream",
          "name": "stderr",
          "text": [
            "loss 0.00403 acc 0.99905: 100%|██████████| 297/297 [00:05<00:00, 53.60it/s]\n",
            "val_loss 0.00720 val_acc 0.99705: 100%|██████████| 53/53 [00:01<00:00, 40.39it/s]\n"
          ]
        },
        {
          "output_type": "stream",
          "name": "stdout",
          "text": [
            "Epoch 125/1000 loss 0.00403 val_loss 0.00720 acc 0.99905 val_acc 0.99705\n"
          ]
        },
        {
          "output_type": "stream",
          "name": "stderr",
          "text": [
            "loss 0.00195 acc 0.99947: 100%|██████████| 297/297 [00:06<00:00, 48.84it/s]\n",
            "val_loss 0.07108 val_acc 0.98172: 100%|██████████| 53/53 [00:00<00:00, 55.52it/s]\n"
          ]
        },
        {
          "output_type": "stream",
          "name": "stdout",
          "text": [
            "Epoch 126/1000 loss 0.00195 val_loss 0.07108 acc 0.99947 val_acc 0.98172\n"
          ]
        },
        {
          "output_type": "stream",
          "name": "stderr",
          "text": [
            "loss 0.00357 acc 0.99916: 100%|██████████| 297/297 [00:04<00:00, 61.63it/s]\n",
            "val_loss 0.00276 val_acc 0.99941: 100%|██████████| 53/53 [00:00<00:00, 56.58it/s]\n"
          ]
        },
        {
          "output_type": "stream",
          "name": "stdout",
          "text": [
            "Epoch 127/1000 loss 0.00357 val_loss 0.00276 acc 0.99916 val_acc 0.99941\n"
          ]
        },
        {
          "output_type": "stream",
          "name": "stderr",
          "text": [
            "loss 0.00052 acc 0.99989: 100%|██████████| 297/297 [00:05<00:00, 49.50it/s]\n",
            "val_loss 0.00038 val_acc 1.00000: 100%|██████████| 53/53 [00:01<00:00, 38.35it/s]\n"
          ]
        },
        {
          "output_type": "stream",
          "name": "stdout",
          "text": [
            "Epoch 128/1000 loss 0.00052 val_loss 0.00038 acc 0.99989 val_acc 1.00000\n"
          ]
        },
        {
          "output_type": "stream",
          "name": "stderr",
          "text": [
            "loss 0.00021 acc 1.00000: 100%|██████████| 297/297 [00:04<00:00, 62.19it/s]\n",
            "val_loss 0.00006 val_acc 1.00000: 100%|██████████| 53/53 [00:00<00:00, 57.77it/s]\n"
          ]
        },
        {
          "output_type": "stream",
          "name": "stdout",
          "text": [
            "Epoch 129/1000 loss 0.00021 val_loss 0.00006 acc 1.00000 val_acc 1.00000\n"
          ]
        },
        {
          "output_type": "stream",
          "name": "stderr",
          "text": [
            "loss 0.00026 acc 1.00000: 100%|██████████| 297/297 [00:04<00:00, 63.71it/s]\n",
            "val_loss 0.00270 val_acc 0.99941: 100%|██████████| 53/53 [00:01<00:00, 44.65it/s]\n"
          ]
        },
        {
          "output_type": "stream",
          "name": "stdout",
          "text": [
            "Epoch 130/1000 loss 0.00026 val_loss 0.00270 acc 1.00000 val_acc 0.99941\n"
          ]
        },
        {
          "output_type": "stream",
          "name": "stderr",
          "text": [
            "loss 0.00018 acc 1.00000: 100%|██████████| 297/297 [00:06<00:00, 44.10it/s]\n",
            "val_loss 0.00160 val_acc 0.99941: 100%|██████████| 53/53 [00:01<00:00, 47.64it/s]\n"
          ]
        },
        {
          "output_type": "stream",
          "name": "stdout",
          "text": [
            "Epoch 131/1000 loss 0.00018 val_loss 0.00160 acc 1.00000 val_acc 0.99941\n"
          ]
        },
        {
          "output_type": "stream",
          "name": "stderr",
          "text": [
            "loss 0.00069 acc 0.99979: 100%|██████████| 297/297 [00:04<00:00, 64.77it/s]\n",
            "val_loss 0.00693 val_acc 0.99764: 100%|██████████| 53/53 [00:00<00:00, 58.86it/s]\n"
          ]
        },
        {
          "output_type": "stream",
          "name": "stdout",
          "text": [
            "Epoch 132/1000 loss 0.00069 val_loss 0.00693 acc 0.99979 val_acc 0.99764\n"
          ]
        },
        {
          "output_type": "stream",
          "name": "stderr",
          "text": [
            "loss 0.00516 acc 0.99842: 100%|██████████| 297/297 [00:05<00:00, 58.16it/s]\n",
            "val_loss 0.00032 val_acc 1.00000: 100%|██████████| 53/53 [00:01<00:00, 37.63it/s]\n"
          ]
        },
        {
          "output_type": "stream",
          "name": "stdout",
          "text": [
            "Epoch 133/1000 loss 0.00516 val_loss 0.00032 acc 0.99842 val_acc 1.00000\n"
          ]
        },
        {
          "output_type": "stream",
          "name": "stderr",
          "text": [
            "loss 0.00019 acc 1.00000: 100%|██████████| 297/297 [00:06<00:00, 48.42it/s]\n",
            "val_loss 0.00162 val_acc 0.99941: 100%|██████████| 53/53 [00:00<00:00, 56.04it/s]\n"
          ]
        },
        {
          "output_type": "stream",
          "name": "stdout",
          "text": [
            "Epoch 134/1000 loss 0.00019 val_loss 0.00162 acc 1.00000 val_acc 0.99941\n"
          ]
        },
        {
          "output_type": "stream",
          "name": "stderr",
          "text": [
            "loss 0.00030 acc 1.00000: 100%|██████████| 297/297 [00:04<00:00, 67.33it/s]\n",
            "val_loss 0.00136 val_acc 0.99941: 100%|██████████| 53/53 [00:00<00:00, 60.51it/s]\n"
          ]
        },
        {
          "output_type": "stream",
          "name": "stdout",
          "text": [
            "Epoch 135/1000 loss 0.00030 val_loss 0.00136 acc 1.00000 val_acc 0.99941\n"
          ]
        },
        {
          "output_type": "stream",
          "name": "stderr",
          "text": [
            "loss 0.00114 acc 0.99958: 100%|██████████| 297/297 [00:04<00:00, 61.56it/s]\n",
            "val_loss 0.00572 val_acc 0.99882: 100%|██████████| 53/53 [00:01<00:00, 46.33it/s]\n"
          ]
        },
        {
          "output_type": "stream",
          "name": "stdout",
          "text": [
            "Epoch 136/1000 loss 0.00114 val_loss 0.00572 acc 0.99958 val_acc 0.99882\n"
          ]
        },
        {
          "output_type": "stream",
          "name": "stderr",
          "text": [
            "loss 0.00102 acc 0.99979: 100%|██████████| 297/297 [00:05<00:00, 49.83it/s]\n",
            "val_loss 0.00454 val_acc 0.99882: 100%|██████████| 53/53 [00:00<00:00, 62.16it/s]\n"
          ]
        },
        {
          "output_type": "stream",
          "name": "stdout",
          "text": [
            "Epoch 137/1000 loss 0.00102 val_loss 0.00454 acc 0.99979 val_acc 0.99882\n"
          ]
        },
        {
          "output_type": "stream",
          "name": "stderr",
          "text": [
            "loss 0.00039 acc 0.99989: 100%|██████████| 297/297 [00:04<00:00, 67.98it/s]\n",
            "val_loss 0.00419 val_acc 0.99941: 100%|██████████| 53/53 [00:00<00:00, 62.52it/s]\n"
          ]
        },
        {
          "output_type": "stream",
          "name": "stdout",
          "text": [
            "Epoch 138/1000 loss 0.00039 val_loss 0.00419 acc 0.99989 val_acc 0.99941\n"
          ]
        },
        {
          "output_type": "stream",
          "name": "stderr",
          "text": [
            "loss 0.00081 acc 0.99968: 100%|██████████| 297/297 [00:04<00:00, 64.33it/s]\n",
            "val_loss 0.00410 val_acc 0.99823: 100%|██████████| 53/53 [00:01<00:00, 46.18it/s]\n"
          ]
        },
        {
          "output_type": "stream",
          "name": "stdout",
          "text": [
            "Epoch 139/1000 loss 0.00081 val_loss 0.00410 acc 0.99968 val_acc 0.99823\n"
          ]
        },
        {
          "output_type": "stream",
          "name": "stderr",
          "text": [
            "loss 0.00095 acc 0.99968: 100%|██████████| 297/297 [00:06<00:00, 48.74it/s]\n",
            "val_loss 0.00353 val_acc 0.99882: 100%|██████████| 53/53 [00:00<00:00, 57.75it/s]\n"
          ]
        },
        {
          "output_type": "stream",
          "name": "stdout",
          "text": [
            "Epoch 140/1000 loss 0.00095 val_loss 0.00353 acc 0.99968 val_acc 0.99882\n",
            "Checkpoint guardado en /content/drive/MyDrive/SIS421 prueba dataset 1 test/Checkpoints/checkpoint.pth (Epoch 140)\n"
          ]
        },
        {
          "output_type": "stream",
          "name": "stderr",
          "text": [
            "loss 0.00647 acc 0.99863: 100%|██████████| 297/297 [00:04<00:00, 70.16it/s]\n",
            "val_loss 0.22302 val_acc 0.95283: 100%|██████████| 53/53 [00:00<00:00, 62.33it/s]\n"
          ]
        },
        {
          "output_type": "stream",
          "name": "stdout",
          "text": [
            "Epoch 141/1000 loss 0.00647 val_loss 0.22302 acc 0.99863 val_acc 0.95283\n"
          ]
        },
        {
          "output_type": "stream",
          "name": "stderr",
          "text": [
            "loss 0.00767 acc 0.99790: 100%|██████████| 297/297 [00:04<00:00, 63.53it/s]\n",
            "val_loss 0.00084 val_acc 1.00000: 100%|██████████| 53/53 [00:01<00:00, 45.81it/s]\n"
          ]
        },
        {
          "output_type": "stream",
          "name": "stdout",
          "text": [
            "Epoch 142/1000 loss 0.00767 val_loss 0.00084 acc 0.99790 val_acc 1.00000\n"
          ]
        },
        {
          "output_type": "stream",
          "name": "stderr",
          "text": [
            "loss 0.00060 acc 0.99989: 100%|██████████| 297/297 [00:06<00:00, 49.12it/s]\n",
            "val_loss 0.00263 val_acc 0.99882: 100%|██████████| 53/53 [00:00<00:00, 54.24it/s]\n"
          ]
        },
        {
          "output_type": "stream",
          "name": "stdout",
          "text": [
            "Epoch 143/1000 loss 0.00060 val_loss 0.00263 acc 0.99989 val_acc 0.99882\n"
          ]
        },
        {
          "output_type": "stream",
          "name": "stderr",
          "text": [
            "loss 0.00107 acc 0.99947: 100%|██████████| 297/297 [00:04<00:00, 67.80it/s]\n",
            "val_loss 0.00365 val_acc 0.99941: 100%|██████████| 53/53 [00:00<00:00, 61.84it/s]\n"
          ]
        },
        {
          "output_type": "stream",
          "name": "stdout",
          "text": [
            "Epoch 144/1000 loss 0.00107 val_loss 0.00365 acc 0.99947 val_acc 0.99941\n"
          ]
        },
        {
          "output_type": "stream",
          "name": "stderr",
          "text": [
            "loss 0.00042 acc 1.00000: 100%|██████████| 297/297 [00:04<00:00, 66.13it/s]\n",
            "val_loss 0.00455 val_acc 0.99941: 100%|██████████| 53/53 [00:01<00:00, 44.46it/s]\n"
          ]
        },
        {
          "output_type": "stream",
          "name": "stdout",
          "text": [
            "Epoch 145/1000 loss 0.00042 val_loss 0.00455 acc 1.00000 val_acc 0.99941\n"
          ]
        },
        {
          "output_type": "stream",
          "name": "stderr",
          "text": [
            "loss 0.00164 acc 0.99937: 100%|██████████| 297/297 [00:06<00:00, 45.63it/s]\n",
            "val_loss 0.00239 val_acc 0.99941: 100%|██████████| 53/53 [00:00<00:00, 55.51it/s]\n"
          ]
        },
        {
          "output_type": "stream",
          "name": "stdout",
          "text": [
            "Epoch 146/1000 loss 0.00164 val_loss 0.00239 acc 0.99937 val_acc 0.99941\n"
          ]
        },
        {
          "output_type": "stream",
          "name": "stderr",
          "text": [
            "loss 0.00266 acc 0.99926: 100%|██████████| 297/297 [00:04<00:00, 65.25it/s]\n",
            "val_loss 0.00161 val_acc 0.99941: 100%|██████████| 53/53 [00:00<00:00, 55.28it/s]\n"
          ]
        },
        {
          "output_type": "stream",
          "name": "stdout",
          "text": [
            "Epoch 147/1000 loss 0.00266 val_loss 0.00161 acc 0.99926 val_acc 0.99941\n"
          ]
        },
        {
          "output_type": "stream",
          "name": "stderr",
          "text": [
            "loss 0.00067 acc 0.99979: 100%|██████████| 297/297 [00:05<00:00, 56.25it/s]\n",
            "val_loss 0.00237 val_acc 0.99882: 100%|██████████| 53/53 [00:01<00:00, 40.20it/s]\n"
          ]
        },
        {
          "output_type": "stream",
          "name": "stdout",
          "text": [
            "Epoch 148/1000 loss 0.00067 val_loss 0.00237 acc 0.99979 val_acc 0.99882\n"
          ]
        },
        {
          "output_type": "stream",
          "name": "stderr",
          "text": [
            "loss 0.00104 acc 0.99958: 100%|██████████| 297/297 [00:06<00:00, 46.17it/s]\n",
            "val_loss 0.00381 val_acc 0.99941: 100%|██████████| 53/53 [00:00<00:00, 55.77it/s]\n"
          ]
        },
        {
          "output_type": "stream",
          "name": "stdout",
          "text": [
            "Epoch 149/1000 loss 0.00104 val_loss 0.00381 acc 0.99958 val_acc 0.99941\n"
          ]
        },
        {
          "output_type": "stream",
          "name": "stderr",
          "text": [
            "loss 0.00080 acc 0.99979: 100%|██████████| 297/297 [00:04<00:00, 63.06it/s]\n",
            "val_loss 0.00057 val_acc 0.99941: 100%|██████████| 53/53 [00:00<00:00, 55.86it/s]\n"
          ]
        },
        {
          "output_type": "stream",
          "name": "stdout",
          "text": [
            "Epoch 150/1000 loss 0.00080 val_loss 0.00057 acc 0.99979 val_acc 0.99941\n"
          ]
        },
        {
          "output_type": "stream",
          "name": "stderr",
          "text": [
            "loss 0.00192 acc 0.99937: 100%|██████████| 297/297 [00:05<00:00, 55.62it/s]\n",
            "val_loss 0.00030 val_acc 1.00000: 100%|██████████| 53/53 [00:01<00:00, 40.09it/s]\n"
          ]
        },
        {
          "output_type": "stream",
          "name": "stdout",
          "text": [
            "Epoch 151/1000 loss 0.00192 val_loss 0.00030 acc 0.99937 val_acc 1.00000\n"
          ]
        },
        {
          "output_type": "stream",
          "name": "stderr",
          "text": [
            "loss 0.00300 acc 0.99905: 100%|██████████| 297/297 [00:06<00:00, 42.69it/s]\n",
            "val_loss 0.00221 val_acc 0.99941: 100%|██████████| 53/53 [00:01<00:00, 37.08it/s]\n"
          ]
        },
        {
          "output_type": "stream",
          "name": "stdout",
          "text": [
            "Epoch 152/1000 loss 0.00300 val_loss 0.00221 acc 0.99905 val_acc 0.99941\n"
          ]
        },
        {
          "output_type": "stream",
          "name": "stderr",
          "text": [
            "loss 0.00164 acc 0.99947: 100%|██████████| 297/297 [00:06<00:00, 46.98it/s]\n",
            "val_loss 0.00007 val_acc 1.00000: 100%|██████████| 53/53 [00:00<00:00, 56.53it/s]\n"
          ]
        },
        {
          "output_type": "stream",
          "name": "stdout",
          "text": [
            "Epoch 153/1000 loss 0.00164 val_loss 0.00007 acc 0.99947 val_acc 1.00000\n"
          ]
        },
        {
          "output_type": "stream",
          "name": "stderr",
          "text": [
            "loss 0.00098 acc 0.99968: 100%|██████████| 297/297 [00:05<00:00, 50.03it/s]\n",
            "val_loss 0.02150 val_acc 0.99292: 100%|██████████| 53/53 [00:01<00:00, 41.46it/s]\n"
          ]
        },
        {
          "output_type": "stream",
          "name": "stdout",
          "text": [
            "Epoch 154/1000 loss 0.00098 val_loss 0.02150 acc 0.99968 val_acc 0.99292\n"
          ]
        },
        {
          "output_type": "stream",
          "name": "stderr",
          "text": [
            "loss 0.00158 acc 0.99968: 100%|██████████| 297/297 [00:04<00:00, 61.08it/s]\n",
            "val_loss 0.00008 val_acc 1.00000: 100%|██████████| 53/53 [00:00<00:00, 56.95it/s]\n"
          ]
        },
        {
          "output_type": "stream",
          "name": "stdout",
          "text": [
            "Epoch 155/1000 loss 0.00158 val_loss 0.00008 acc 0.99968 val_acc 1.00000\n"
          ]
        },
        {
          "output_type": "stream",
          "name": "stderr",
          "text": [
            "loss 0.00037 acc 0.99979: 100%|██████████| 297/297 [00:04<00:00, 63.49it/s]\n",
            "val_loss 0.00068 val_acc 0.99941: 100%|██████████| 53/53 [00:01<00:00, 43.55it/s]\n"
          ]
        },
        {
          "output_type": "stream",
          "name": "stdout",
          "text": [
            "Epoch 156/1000 loss 0.00037 val_loss 0.00068 acc 0.99979 val_acc 0.99941\n"
          ]
        },
        {
          "output_type": "stream",
          "name": "stderr",
          "text": [
            "loss 0.00038 acc 1.00000: 100%|██████████| 297/297 [00:06<00:00, 44.34it/s]\n",
            "val_loss 0.00038 val_acc 1.00000: 100%|██████████| 53/53 [00:01<00:00, 50.18it/s]\n"
          ]
        },
        {
          "output_type": "stream",
          "name": "stdout",
          "text": [
            "Epoch 157/1000 loss 0.00038 val_loss 0.00038 acc 1.00000 val_acc 1.00000\n"
          ]
        },
        {
          "output_type": "stream",
          "name": "stderr",
          "text": [
            "loss 0.00062 acc 0.99979: 100%|██████████| 297/297 [00:04<00:00, 65.67it/s]\n",
            "val_loss 0.00086 val_acc 0.99941: 100%|██████████| 53/53 [00:00<00:00, 60.18it/s]\n"
          ]
        },
        {
          "output_type": "stream",
          "name": "stdout",
          "text": [
            "Epoch 158/1000 loss 0.00062 val_loss 0.00086 acc 0.99979 val_acc 0.99941\n"
          ]
        },
        {
          "output_type": "stream",
          "name": "stderr",
          "text": [
            "loss 0.00035 acc 0.99989: 100%|██████████| 297/297 [00:05<00:00, 59.34it/s]\n",
            "val_loss 0.00071 val_acc 0.99941: 100%|██████████| 53/53 [00:01<00:00, 38.14it/s]\n"
          ]
        },
        {
          "output_type": "stream",
          "name": "stdout",
          "text": [
            "Epoch 159/1000 loss 0.00035 val_loss 0.00071 acc 0.99989 val_acc 0.99941\n"
          ]
        },
        {
          "output_type": "stream",
          "name": "stderr",
          "text": [
            "loss 0.00070 acc 0.99979: 100%|██████████| 297/297 [00:06<00:00, 45.91it/s]\n",
            "val_loss 0.00174 val_acc 0.99941: 100%|██████████| 53/53 [00:00<00:00, 55.61it/s]\n"
          ]
        },
        {
          "output_type": "stream",
          "name": "stdout",
          "text": [
            "Epoch 160/1000 loss 0.00070 val_loss 0.00174 acc 0.99979 val_acc 0.99941\n",
            "Checkpoint guardado en /content/drive/MyDrive/SIS421 prueba dataset 1 test/Checkpoints/checkpoint.pth (Epoch 160)\n"
          ]
        },
        {
          "output_type": "stream",
          "name": "stderr",
          "text": [
            "loss 0.00569 acc 0.99776: 100%|██████████| 297/297 [00:04<00:00, 62.50it/s]\n",
            "val_loss 0.33639 val_acc 0.90566: 100%|██████████| 53/53 [00:00<00:00, 56.14it/s]\n"
          ]
        },
        {
          "output_type": "stream",
          "name": "stdout",
          "text": [
            "Epoch 161/1000 loss 0.00569 val_loss 0.33639 acc 0.99776 val_acc 0.90566\n"
          ]
        },
        {
          "output_type": "stream",
          "name": "stderr",
          "text": [
            "loss 0.00355 acc 0.99874: 100%|██████████| 297/297 [00:05<00:00, 51.67it/s]\n",
            "val_loss 0.00506 val_acc 0.99941: 100%|██████████| 53/53 [00:01<00:00, 39.56it/s]\n"
          ]
        },
        {
          "output_type": "stream",
          "name": "stdout",
          "text": [
            "Epoch 162/1000 loss 0.00355 val_loss 0.00506 acc 0.99874 val_acc 0.99941\n"
          ]
        },
        {
          "output_type": "stream",
          "name": "stderr",
          "text": [
            "loss 0.00185 acc 0.99916: 100%|██████████| 297/297 [00:06<00:00, 48.14it/s]\n",
            "val_loss 0.00248 val_acc 0.99941: 100%|██████████| 53/53 [00:00<00:00, 57.27it/s]\n"
          ]
        },
        {
          "output_type": "stream",
          "name": "stdout",
          "text": [
            "Epoch 163/1000 loss 0.00185 val_loss 0.00248 acc 0.99916 val_acc 0.99941\n"
          ]
        },
        {
          "output_type": "stream",
          "name": "stderr",
          "text": [
            "loss 0.00133 acc 0.99958: 100%|██████████| 297/297 [00:04<00:00, 61.59it/s]\n",
            "val_loss 0.00056 val_acc 0.99941: 100%|██████████| 53/53 [00:00<00:00, 55.68it/s]\n"
          ]
        },
        {
          "output_type": "stream",
          "name": "stdout",
          "text": [
            "Epoch 164/1000 loss 0.00133 val_loss 0.00056 acc 0.99958 val_acc 0.99941\n"
          ]
        },
        {
          "output_type": "stream",
          "name": "stderr",
          "text": [
            "loss 0.00070 acc 0.99968: 100%|██████████| 297/297 [00:06<00:00, 48.25it/s]\n",
            "val_loss 0.00048 val_acc 1.00000: 100%|██████████| 53/53 [00:01<00:00, 38.65it/s]\n"
          ]
        },
        {
          "output_type": "stream",
          "name": "stdout",
          "text": [
            "Epoch 165/1000 loss 0.00070 val_loss 0.00048 acc 0.99968 val_acc 1.00000\n"
          ]
        },
        {
          "output_type": "stream",
          "name": "stderr",
          "text": [
            "loss 0.00052 acc 0.99989: 100%|██████████| 297/297 [00:05<00:00, 58.26it/s]\n",
            "val_loss 0.00070 val_acc 0.99941: 100%|██████████| 53/53 [00:00<00:00, 55.13it/s]\n"
          ]
        },
        {
          "output_type": "stream",
          "name": "stdout",
          "text": [
            "Epoch 166/1000 loss 0.00052 val_loss 0.00070 acc 0.99989 val_acc 0.99941\n"
          ]
        },
        {
          "output_type": "stream",
          "name": "stderr",
          "text": [
            "loss 0.00211 acc 0.99937: 100%|██████████| 297/297 [00:04<00:00, 60.87it/s]\n",
            "val_loss 0.00344 val_acc 0.99882: 100%|██████████| 53/53 [00:01<00:00, 36.70it/s]\n"
          ]
        },
        {
          "output_type": "stream",
          "name": "stdout",
          "text": [
            "Epoch 167/1000 loss 0.00211 val_loss 0.00344 acc 0.99937 val_acc 0.99882\n"
          ]
        },
        {
          "output_type": "stream",
          "name": "stderr",
          "text": [
            "loss 0.00176 acc 0.99926: 100%|██████████| 297/297 [00:06<00:00, 43.15it/s]\n",
            "val_loss 0.00018 val_acc 1.00000: 100%|██████████| 53/53 [00:00<00:00, 55.59it/s]\n"
          ]
        },
        {
          "output_type": "stream",
          "name": "stdout",
          "text": [
            "Epoch 168/1000 loss 0.00176 val_loss 0.00018 acc 0.99926 val_acc 1.00000\n"
          ]
        },
        {
          "output_type": "stream",
          "name": "stderr",
          "text": [
            "loss 0.00125 acc 0.99947: 100%|██████████| 297/297 [00:04<00:00, 64.74it/s]\n",
            "val_loss 0.00047 val_acc 1.00000: 100%|██████████| 53/53 [00:00<00:00, 58.36it/s]\n"
          ]
        },
        {
          "output_type": "stream",
          "name": "stdout",
          "text": [
            "Epoch 169/1000 loss 0.00125 val_loss 0.00047 acc 0.99947 val_acc 1.00000\n"
          ]
        },
        {
          "output_type": "stream",
          "name": "stderr",
          "text": [
            "loss 0.00175 acc 0.99937: 100%|██████████| 297/297 [00:05<00:00, 55.83it/s]\n",
            "val_loss 0.00147 val_acc 0.99941: 100%|██████████| 53/53 [00:01<00:00, 38.69it/s]\n"
          ]
        },
        {
          "output_type": "stream",
          "name": "stdout",
          "text": [
            "Epoch 170/1000 loss 0.00175 val_loss 0.00147 acc 0.99937 val_acc 0.99941\n"
          ]
        },
        {
          "output_type": "stream",
          "name": "stderr",
          "text": [
            "loss 0.00118 acc 0.99947: 100%|██████████| 297/297 [00:06<00:00, 45.87it/s]\n",
            "val_loss 0.00127 val_acc 0.99941: 100%|██████████| 53/53 [00:00<00:00, 55.51it/s]\n"
          ]
        },
        {
          "output_type": "stream",
          "name": "stdout",
          "text": [
            "Epoch 171/1000 loss 0.00118 val_loss 0.00127 acc 0.99947 val_acc 0.99941\n"
          ]
        },
        {
          "output_type": "stream",
          "name": "stderr",
          "text": [
            "loss 0.00098 acc 0.99979: 100%|██████████| 297/297 [00:04<00:00, 62.47it/s]\n",
            "val_loss 0.00010 val_acc 1.00000: 100%|██████████| 53/53 [00:00<00:00, 54.55it/s]\n"
          ]
        },
        {
          "output_type": "stream",
          "name": "stdout",
          "text": [
            "Epoch 172/1000 loss 0.00098 val_loss 0.00010 acc 0.99979 val_acc 1.00000\n"
          ]
        },
        {
          "output_type": "stream",
          "name": "stderr",
          "text": [
            "loss 0.00023 acc 0.99989: 100%|██████████| 297/297 [00:06<00:00, 49.46it/s]\n",
            "val_loss 0.00037 val_acc 1.00000: 100%|██████████| 53/53 [00:01<00:00, 38.31it/s]\n"
          ]
        },
        {
          "output_type": "stream",
          "name": "stdout",
          "text": [
            "Epoch 173/1000 loss 0.00023 val_loss 0.00037 acc 0.99989 val_acc 1.00000\n"
          ]
        },
        {
          "output_type": "stream",
          "name": "stderr",
          "text": [
            "loss 0.00074 acc 0.99989: 100%|██████████| 297/297 [00:05<00:00, 54.96it/s]\n",
            "val_loss 0.00025 val_acc 1.00000: 100%|██████████| 53/53 [00:00<00:00, 55.15it/s]\n"
          ]
        },
        {
          "output_type": "stream",
          "name": "stdout",
          "text": [
            "Epoch 174/1000 loss 0.00074 val_loss 0.00025 acc 0.99989 val_acc 1.00000\n"
          ]
        },
        {
          "output_type": "stream",
          "name": "stderr",
          "text": [
            "loss 0.00070 acc 0.99968: 100%|██████████| 297/297 [00:04<00:00, 60.98it/s]\n",
            "val_loss 0.00086 val_acc 0.99941: 100%|██████████| 53/53 [00:01<00:00, 41.73it/s]\n"
          ]
        },
        {
          "output_type": "stream",
          "name": "stdout",
          "text": [
            "Epoch 175/1000 loss 0.00070 val_loss 0.00086 acc 0.99968 val_acc 0.99941\n"
          ]
        },
        {
          "output_type": "stream",
          "name": "stderr",
          "text": [
            "loss 0.00088 acc 0.99968: 100%|██████████| 297/297 [00:07<00:00, 41.46it/s]\n",
            "val_loss 0.00250 val_acc 0.99941: 100%|██████████| 53/53 [00:01<00:00, 48.33it/s]\n"
          ]
        },
        {
          "output_type": "stream",
          "name": "stdout",
          "text": [
            "Epoch 176/1000 loss 0.00088 val_loss 0.00250 acc 0.99968 val_acc 0.99941\n"
          ]
        },
        {
          "output_type": "stream",
          "name": "stderr",
          "text": [
            "loss 0.00089 acc 0.99958: 100%|██████████| 297/297 [00:04<00:00, 60.03it/s]\n",
            "val_loss 0.00102 val_acc 0.99941: 100%|██████████| 53/53 [00:00<00:00, 55.89it/s]\n"
          ]
        },
        {
          "output_type": "stream",
          "name": "stdout",
          "text": [
            "Epoch 177/1000 loss 0.00089 val_loss 0.00102 acc 0.99958 val_acc 0.99941\n"
          ]
        },
        {
          "output_type": "stream",
          "name": "stderr",
          "text": [
            "loss 0.00021 acc 1.00000: 100%|██████████| 297/297 [00:05<00:00, 52.61it/s]\n",
            "val_loss 0.00010 val_acc 1.00000: 100%|██████████| 53/53 [00:01<00:00, 35.69it/s]\n"
          ]
        },
        {
          "output_type": "stream",
          "name": "stdout",
          "text": [
            "Epoch 178/1000 loss 0.00021 val_loss 0.00010 acc 1.00000 val_acc 1.00000\n"
          ]
        },
        {
          "output_type": "stream",
          "name": "stderr",
          "text": [
            "loss 0.00079 acc 0.99979: 100%|██████████| 297/297 [00:06<00:00, 45.09it/s]\n",
            "val_loss 0.00076 val_acc 0.99941: 100%|██████████| 53/53 [00:01<00:00, 52.95it/s]\n"
          ]
        },
        {
          "output_type": "stream",
          "name": "stdout",
          "text": [
            "Epoch 179/1000 loss 0.00079 val_loss 0.00076 acc 0.99979 val_acc 0.99941\n"
          ]
        },
        {
          "output_type": "stream",
          "name": "stderr",
          "text": [
            "loss 0.00039 acc 0.99989: 100%|██████████| 297/297 [00:05<00:00, 51.88it/s]\n",
            "val_loss 0.00143 val_acc 0.99941: 100%|██████████| 53/53 [00:01<00:00, 41.75it/s]\n"
          ]
        },
        {
          "output_type": "stream",
          "name": "stdout",
          "text": [
            "Epoch 180/1000 loss 0.00039 val_loss 0.00143 acc 0.99989 val_acc 0.99941\n",
            "Checkpoint guardado en /content/drive/MyDrive/SIS421 prueba dataset 1 test/Checkpoints/checkpoint.pth (Epoch 180)\n"
          ]
        },
        {
          "output_type": "stream",
          "name": "stderr",
          "text": [
            "loss 0.00303 acc 0.99874: 100%|██████████| 297/297 [00:07<00:00, 39.67it/s]\n",
            "val_loss 0.00322 val_acc 0.99882: 100%|██████████| 53/53 [00:01<00:00, 38.23it/s]\n"
          ]
        },
        {
          "output_type": "stream",
          "name": "stdout",
          "text": [
            "Epoch 181/1000 loss 0.00303 val_loss 0.00322 acc 0.99874 val_acc 0.99882\n"
          ]
        },
        {
          "output_type": "stream",
          "name": "stderr",
          "text": [
            "loss 0.00346 acc 0.99874: 100%|██████████| 297/297 [00:06<00:00, 45.00it/s]\n",
            "val_loss 0.00166 val_acc 0.99941: 100%|██████████| 53/53 [00:00<00:00, 53.72it/s]\n"
          ]
        },
        {
          "output_type": "stream",
          "name": "stdout",
          "text": [
            "Epoch 182/1000 loss 0.00346 val_loss 0.00166 acc 0.99874 val_acc 0.99941\n"
          ]
        },
        {
          "output_type": "stream",
          "name": "stderr",
          "text": [
            "loss 0.00086 acc 0.99958: 100%|██████████| 297/297 [00:04<00:00, 61.77it/s]\n",
            "val_loss 0.00044 val_acc 1.00000: 100%|██████████| 53/53 [00:00<00:00, 57.69it/s]\n"
          ]
        },
        {
          "output_type": "stream",
          "name": "stdout",
          "text": [
            "Epoch 183/1000 loss 0.00086 val_loss 0.00044 acc 0.99958 val_acc 1.00000\n"
          ]
        },
        {
          "output_type": "stream",
          "name": "stderr",
          "text": [
            "loss 0.00387 acc 0.99884: 100%|██████████| 297/297 [00:05<00:00, 49.71it/s]\n",
            "val_loss 0.00022 val_acc 1.00000: 100%|██████████| 53/53 [00:01<00:00, 37.86it/s]\n"
          ]
        },
        {
          "output_type": "stream",
          "name": "stdout",
          "text": [
            "Epoch 184/1000 loss 0.00387 val_loss 0.00022 acc 0.99884 val_acc 1.00000\n"
          ]
        },
        {
          "output_type": "stream",
          "name": "stderr",
          "text": [
            "loss 0.00209 acc 0.99947: 100%|██████████| 297/297 [00:06<00:00, 47.53it/s]\n",
            "val_loss 0.00006 val_acc 1.00000: 100%|██████████| 53/53 [00:00<00:00, 54.80it/s]\n"
          ]
        },
        {
          "output_type": "stream",
          "name": "stdout",
          "text": [
            "Epoch 185/1000 loss 0.00209 val_loss 0.00006 acc 0.99947 val_acc 1.00000\n"
          ]
        },
        {
          "output_type": "stream",
          "name": "stderr",
          "text": [
            "loss 0.00070 acc 0.99961: 100%|██████████| 297/297 [00:04<00:00, 60.27it/s]\n",
            "val_loss 0.00017 val_acc 1.00000: 100%|██████████| 53/53 [00:00<00:00, 53.67it/s]\n"
          ]
        },
        {
          "output_type": "stream",
          "name": "stdout",
          "text": [
            "Epoch 186/1000 loss 0.00070 val_loss 0.00017 acc 0.99961 val_acc 1.00000\n"
          ]
        },
        {
          "output_type": "stream",
          "name": "stderr",
          "text": [
            "loss 0.00278 acc 0.99926: 100%|██████████| 297/297 [00:06<00:00, 47.10it/s]\n",
            "val_loss 0.00162 val_acc 0.99941: 100%|██████████| 53/53 [00:01<00:00, 39.54it/s]\n"
          ]
        },
        {
          "output_type": "stream",
          "name": "stdout",
          "text": [
            "Epoch 187/1000 loss 0.00278 val_loss 0.00162 acc 0.99926 val_acc 0.99941\n"
          ]
        },
        {
          "output_type": "stream",
          "name": "stderr",
          "text": [
            "loss 0.00109 acc 0.99989: 100%|██████████| 297/297 [00:05<00:00, 59.35it/s]\n",
            "val_loss 0.00025 val_acc 1.00000: 100%|██████████| 53/53 [00:00<00:00, 55.02it/s]\n"
          ]
        },
        {
          "output_type": "stream",
          "name": "stdout",
          "text": [
            "Epoch 188/1000 loss 0.00109 val_loss 0.00025 acc 0.99989 val_acc 1.00000\n"
          ]
        },
        {
          "output_type": "stream",
          "name": "stderr",
          "text": [
            "loss 0.00036 acc 0.99989: 100%|██████████| 297/297 [00:05<00:00, 56.73it/s]\n",
            "val_loss 0.00029 val_acc 1.00000: 100%|██████████| 53/53 [00:01<00:00, 36.95it/s]\n"
          ]
        },
        {
          "output_type": "stream",
          "name": "stdout",
          "text": [
            "Epoch 189/1000 loss 0.00036 val_loss 0.00029 acc 0.99989 val_acc 1.00000\n"
          ]
        },
        {
          "output_type": "stream",
          "name": "stderr",
          "text": [
            "loss 0.00011 acc 1.00000: 100%|██████████| 297/297 [00:06<00:00, 43.13it/s]\n",
            "val_loss 0.00056 val_acc 0.99941: 100%|██████████| 53/53 [00:00<00:00, 55.55it/s]\n"
          ]
        },
        {
          "output_type": "stream",
          "name": "stdout",
          "text": [
            "Epoch 190/1000 loss 0.00011 val_loss 0.00056 acc 1.00000 val_acc 0.99941\n"
          ]
        },
        {
          "output_type": "stream",
          "name": "stderr",
          "text": [
            "loss 0.00098 acc 0.99979: 100%|██████████| 297/297 [00:04<00:00, 59.74it/s]\n",
            "val_loss 0.00077 val_acc 1.00000: 100%|██████████| 53/53 [00:00<00:00, 53.54it/s]\n"
          ]
        },
        {
          "output_type": "stream",
          "name": "stdout",
          "text": [
            "Epoch 191/1000 loss 0.00098 val_loss 0.00077 acc 0.99979 val_acc 1.00000\n"
          ]
        },
        {
          "output_type": "stream",
          "name": "stderr",
          "text": [
            "loss 0.00111 acc 0.99968: 100%|██████████| 297/297 [00:05<00:00, 52.33it/s]\n",
            "val_loss 0.00015 val_acc 1.00000: 100%|██████████| 53/53 [00:01<00:00, 40.40it/s]\n"
          ]
        },
        {
          "output_type": "stream",
          "name": "stdout",
          "text": [
            "Epoch 192/1000 loss 0.00111 val_loss 0.00015 acc 0.99968 val_acc 1.00000\n"
          ]
        },
        {
          "output_type": "stream",
          "name": "stderr",
          "text": [
            "loss 0.00045 acc 0.99979: 100%|██████████| 297/297 [00:06<00:00, 43.85it/s]\n",
            "val_loss 0.00009 val_acc 1.00000: 100%|██████████| 53/53 [00:01<00:00, 52.69it/s]\n"
          ]
        },
        {
          "output_type": "stream",
          "name": "stdout",
          "text": [
            "Epoch 193/1000 loss 0.00045 val_loss 0.00009 acc 0.99979 val_acc 1.00000\n"
          ]
        },
        {
          "output_type": "stream",
          "name": "stderr",
          "text": [
            "loss 0.00047 acc 0.99979: 100%|██████████| 297/297 [00:04<00:00, 60.57it/s]\n",
            "val_loss 0.00002 val_acc 1.00000: 100%|██████████| 53/53 [00:00<00:00, 53.87it/s]\n"
          ]
        },
        {
          "output_type": "stream",
          "name": "stdout",
          "text": [
            "Epoch 194/1000 loss 0.00047 val_loss 0.00002 acc 0.99979 val_acc 1.00000\n"
          ]
        },
        {
          "output_type": "stream",
          "name": "stderr",
          "text": [
            "loss 0.00009 acc 1.00000: 100%|██████████| 297/297 [00:05<00:00, 50.33it/s]\n",
            "val_loss 0.00006 val_acc 1.00000: 100%|██████████| 53/53 [00:01<00:00, 39.49it/s]\n"
          ]
        },
        {
          "output_type": "stream",
          "name": "stdout",
          "text": [
            "Epoch 195/1000 loss 0.00009 val_loss 0.00006 acc 1.00000 val_acc 1.00000\n"
          ]
        },
        {
          "output_type": "stream",
          "name": "stderr",
          "text": [
            "loss 0.00100 acc 0.99958: 100%|██████████| 297/297 [00:06<00:00, 47.53it/s]\n",
            "val_loss 0.00009 val_acc 1.00000: 100%|██████████| 53/53 [00:00<00:00, 55.92it/s]\n"
          ]
        },
        {
          "output_type": "stream",
          "name": "stdout",
          "text": [
            "Epoch 196/1000 loss 0.00100 val_loss 0.00009 acc 0.99958 val_acc 1.00000\n"
          ]
        },
        {
          "output_type": "stream",
          "name": "stderr",
          "text": [
            "loss 0.00116 acc 0.99958: 100%|██████████| 297/297 [00:04<00:00, 60.49it/s]\n",
            "val_loss 0.00076 val_acc 0.99941: 100%|██████████| 53/53 [00:00<00:00, 53.96it/s]\n"
          ]
        },
        {
          "output_type": "stream",
          "name": "stdout",
          "text": [
            "Epoch 197/1000 loss 0.00116 val_loss 0.00076 acc 0.99958 val_acc 0.99941\n"
          ]
        },
        {
          "output_type": "stream",
          "name": "stderr",
          "text": [
            "loss 0.00484 acc 0.99895: 100%|██████████| 297/297 [00:06<00:00, 44.94it/s]\n",
            "val_loss 0.00028 val_acc 1.00000: 100%|██████████| 53/53 [00:01<00:00, 36.38it/s]\n"
          ]
        },
        {
          "output_type": "stream",
          "name": "stdout",
          "text": [
            "Epoch 198/1000 loss 0.00484 val_loss 0.00028 acc 0.99895 val_acc 1.00000\n"
          ]
        },
        {
          "output_type": "stream",
          "name": "stderr",
          "text": [
            "loss 0.00116 acc 0.99947: 100%|██████████| 297/297 [00:04<00:00, 59.64it/s]\n",
            "val_loss 0.00017 val_acc 1.00000: 100%|██████████| 53/53 [00:00<00:00, 55.34it/s]\n"
          ]
        },
        {
          "output_type": "stream",
          "name": "stdout",
          "text": [
            "Epoch 199/1000 loss 0.00116 val_loss 0.00017 acc 0.99947 val_acc 1.00000\n"
          ]
        },
        {
          "output_type": "stream",
          "name": "stderr",
          "text": [
            "loss 0.00166 acc 0.99937: 100%|██████████| 297/297 [00:04<00:00, 61.36it/s]\n",
            "val_loss 0.00002 val_acc 1.00000: 100%|██████████| 53/53 [00:01<00:00, 42.90it/s]\n"
          ]
        },
        {
          "output_type": "stream",
          "name": "stdout",
          "text": [
            "Epoch 200/1000 loss 0.00166 val_loss 0.00002 acc 0.99937 val_acc 1.00000\n",
            "Checkpoint guardado en /content/drive/MyDrive/SIS421 prueba dataset 1 test/Checkpoints/checkpoint.pth (Epoch 200)\n"
          ]
        },
        {
          "output_type": "stream",
          "name": "stderr",
          "text": [
            "loss 0.00108 acc 0.99968: 100%|██████████| 297/297 [00:07<00:00, 42.41it/s]\n",
            "val_loss 0.00035 val_acc 1.00000: 100%|██████████| 53/53 [00:01<00:00, 48.59it/s]\n"
          ]
        },
        {
          "output_type": "stream",
          "name": "stdout",
          "text": [
            "Epoch 201/1000 loss 0.00108 val_loss 0.00035 acc 0.99968 val_acc 1.00000\n"
          ]
        },
        {
          "output_type": "stream",
          "name": "stderr",
          "text": [
            "loss 0.00106 acc 0.99979: 100%|██████████| 297/297 [00:04<00:00, 61.38it/s]\n",
            "val_loss 0.00001 val_acc 1.00000: 100%|██████████| 53/53 [00:00<00:00, 56.96it/s]\n"
          ]
        },
        {
          "output_type": "stream",
          "name": "stdout",
          "text": [
            "Epoch 202/1000 loss 0.00106 val_loss 0.00001 acc 0.99979 val_acc 1.00000\n"
          ]
        },
        {
          "output_type": "stream",
          "name": "stderr",
          "text": [
            "loss 0.00024 acc 1.00000: 100%|██████████| 297/297 [00:05<00:00, 56.49it/s]\n",
            "val_loss 0.00003 val_acc 1.00000: 100%|██████████| 53/53 [00:01<00:00, 39.31it/s]\n"
          ]
        },
        {
          "output_type": "stream",
          "name": "stdout",
          "text": [
            "Epoch 203/1000 loss 0.00024 val_loss 0.00003 acc 1.00000 val_acc 1.00000\n"
          ]
        },
        {
          "output_type": "stream",
          "name": "stderr",
          "text": [
            "loss 0.00011 acc 1.00000: 100%|██████████| 297/297 [00:06<00:00, 48.31it/s]\n",
            "val_loss 0.00002 val_acc 1.00000: 100%|██████████| 53/53 [00:00<00:00, 54.32it/s]\n"
          ]
        },
        {
          "output_type": "stream",
          "name": "stdout",
          "text": [
            "Epoch 204/1000 loss 0.00011 val_loss 0.00002 acc 1.00000 val_acc 1.00000\n"
          ]
        },
        {
          "output_type": "stream",
          "name": "stderr",
          "text": [
            "loss 0.00105 acc 0.99968: 100%|██████████| 297/297 [00:04<00:00, 60.64it/s]\n",
            "val_loss 0.00047 val_acc 0.99941: 100%|██████████| 53/53 [00:00<00:00, 53.95it/s]\n"
          ]
        },
        {
          "output_type": "stream",
          "name": "stdout",
          "text": [
            "Epoch 205/1000 loss 0.00105 val_loss 0.00047 acc 0.99968 val_acc 0.99941\n"
          ]
        },
        {
          "output_type": "stream",
          "name": "stderr",
          "text": [
            "loss 0.00311 acc 0.99895: 100%|██████████| 297/297 [00:05<00:00, 51.51it/s]\n",
            "val_loss 0.00009 val_acc 1.00000: 100%|██████████| 53/53 [00:01<00:00, 40.85it/s]\n"
          ]
        },
        {
          "output_type": "stream",
          "name": "stdout",
          "text": [
            "Epoch 206/1000 loss 0.00311 val_loss 0.00009 acc 0.99895 val_acc 1.00000\n"
          ]
        },
        {
          "output_type": "stream",
          "name": "stderr",
          "text": [
            "loss 0.00243 acc 0.99905: 100%|██████████| 297/297 [00:06<00:00, 47.43it/s]\n",
            "val_loss 0.00091 val_acc 0.99941: 100%|██████████| 53/53 [00:01<00:00, 38.24it/s]\n"
          ]
        },
        {
          "output_type": "stream",
          "name": "stdout",
          "text": [
            "Epoch 207/1000 loss 0.00243 val_loss 0.00091 acc 0.99905 val_acc 0.99941\n"
          ]
        },
        {
          "output_type": "stream",
          "name": "stderr",
          "text": [
            "loss 0.00121 acc 0.99979: 100%|██████████| 297/297 [00:06<00:00, 44.23it/s]\n",
            "val_loss 0.00012 val_acc 1.00000: 100%|██████████| 53/53 [00:01<00:00, 38.39it/s]\n"
          ]
        },
        {
          "output_type": "stream",
          "name": "stdout",
          "text": [
            "Epoch 208/1000 loss 0.00121 val_loss 0.00012 acc 0.99979 val_acc 1.00000\n"
          ]
        },
        {
          "output_type": "stream",
          "name": "stderr",
          "text": [
            "loss 0.00093 acc 0.99961: 100%|██████████| 297/297 [00:06<00:00, 43.20it/s]\n",
            "val_loss 0.00403 val_acc 0.99882: 100%|██████████| 53/53 [00:01<00:00, 48.49it/s]\n"
          ]
        },
        {
          "output_type": "stream",
          "name": "stdout",
          "text": [
            "Epoch 209/1000 loss 0.00093 val_loss 0.00403 acc 0.99961 val_acc 0.99882\n"
          ]
        },
        {
          "output_type": "stream",
          "name": "stderr",
          "text": [
            "loss 0.00382 acc 0.99909: 100%|██████████| 297/297 [00:04<00:00, 60.89it/s]\n",
            "val_loss 0.00028 val_acc 1.00000: 100%|██████████| 53/53 [00:00<00:00, 53.09it/s]\n"
          ]
        },
        {
          "output_type": "stream",
          "name": "stdout",
          "text": [
            "Epoch 210/1000 loss 0.00382 val_loss 0.00028 acc 0.99909 val_acc 1.00000\n"
          ]
        },
        {
          "output_type": "stream",
          "name": "stderr",
          "text": [
            "loss 0.00195 acc 0.99968: 100%|██████████| 297/297 [00:05<00:00, 53.92it/s]\n",
            "val_loss 0.00073 val_acc 0.99941: 100%|██████████| 53/53 [00:01<00:00, 41.11it/s]\n"
          ]
        },
        {
          "output_type": "stream",
          "name": "stdout",
          "text": [
            "Epoch 211/1000 loss 0.00195 val_loss 0.00073 acc 0.99968 val_acc 0.99941\n"
          ]
        },
        {
          "output_type": "stream",
          "name": "stderr",
          "text": [
            "loss 0.00064 acc 0.99979: 100%|██████████| 297/297 [00:06<00:00, 47.02it/s]\n",
            "val_loss 0.00428 val_acc 0.99882: 100%|██████████| 53/53 [00:01<00:00, 50.64it/s]\n"
          ]
        },
        {
          "output_type": "stream",
          "name": "stdout",
          "text": [
            "Epoch 212/1000 loss 0.00064 val_loss 0.00428 acc 0.99979 val_acc 0.99882\n"
          ]
        },
        {
          "output_type": "stream",
          "name": "stderr",
          "text": [
            "loss 0.00024 acc 1.00000: 100%|██████████| 297/297 [00:04<00:00, 60.71it/s]\n",
            "val_loss 0.00023 val_acc 1.00000: 100%|██████████| 53/53 [00:00<00:00, 54.91it/s]\n"
          ]
        },
        {
          "output_type": "stream",
          "name": "stdout",
          "text": [
            "Epoch 213/1000 loss 0.00024 val_loss 0.00023 acc 1.00000 val_acc 1.00000\n"
          ]
        },
        {
          "output_type": "stream",
          "name": "stderr",
          "text": [
            "loss 0.00323 acc 0.99863: 100%|██████████| 297/297 [00:05<00:00, 51.62it/s]\n",
            "val_loss 0.00157 val_acc 0.99941: 100%|██████████| 53/53 [00:01<00:00, 36.77it/s]\n"
          ]
        },
        {
          "output_type": "stream",
          "name": "stdout",
          "text": [
            "Epoch 214/1000 loss 0.00323 val_loss 0.00157 acc 0.99863 val_acc 0.99941\n"
          ]
        },
        {
          "output_type": "stream",
          "name": "stderr",
          "text": [
            "loss 0.00075 acc 0.99947: 100%|██████████| 297/297 [00:05<00:00, 55.13it/s]\n",
            "val_loss 0.00016 val_acc 1.00000: 100%|██████████| 53/53 [00:00<00:00, 54.05it/s]\n"
          ]
        },
        {
          "output_type": "stream",
          "name": "stdout",
          "text": [
            "Epoch 215/1000 loss 0.00075 val_loss 0.00016 acc 0.99947 val_acc 1.00000\n"
          ]
        },
        {
          "output_type": "stream",
          "name": "stderr",
          "text": [
            "loss 0.00185 acc 0.99937: 100%|██████████| 297/297 [00:05<00:00, 56.55it/s]\n",
            "val_loss 0.00028 val_acc 1.00000: 100%|██████████| 53/53 [00:01<00:00, 41.22it/s]\n"
          ]
        },
        {
          "output_type": "stream",
          "name": "stdout",
          "text": [
            "Epoch 216/1000 loss 0.00185 val_loss 0.00028 acc 0.99937 val_acc 1.00000\n"
          ]
        },
        {
          "output_type": "stream",
          "name": "stderr",
          "text": [
            "loss 0.00108 acc 0.99947: 100%|██████████| 297/297 [00:06<00:00, 43.94it/s]\n",
            "val_loss 0.00146 val_acc 0.99941: 100%|██████████| 53/53 [00:01<00:00, 48.98it/s]\n"
          ]
        },
        {
          "output_type": "stream",
          "name": "stdout",
          "text": [
            "Epoch 217/1000 loss 0.00108 val_loss 0.00146 acc 0.99947 val_acc 0.99941\n"
          ]
        },
        {
          "output_type": "stream",
          "name": "stderr",
          "text": [
            "loss 0.00107 acc 0.99979: 100%|██████████| 297/297 [00:04<00:00, 62.07it/s]\n",
            "val_loss 0.00009 val_acc 1.00000: 100%|██████████| 53/53 [00:00<00:00, 54.32it/s]\n"
          ]
        },
        {
          "output_type": "stream",
          "name": "stdout",
          "text": [
            "Epoch 218/1000 loss 0.00107 val_loss 0.00009 acc 0.99979 val_acc 1.00000\n"
          ]
        },
        {
          "output_type": "stream",
          "name": "stderr",
          "text": [
            "loss 0.00057 acc 0.99968: 100%|██████████| 297/297 [00:05<00:00, 56.41it/s]\n",
            "val_loss 0.00096 val_acc 0.99941: 100%|██████████| 53/53 [00:01<00:00, 41.30it/s]\n"
          ]
        },
        {
          "output_type": "stream",
          "name": "stdout",
          "text": [
            "Epoch 219/1000 loss 0.00057 val_loss 0.00096 acc 0.99968 val_acc 0.99941\n"
          ]
        },
        {
          "output_type": "stream",
          "name": "stderr",
          "text": [
            "loss 0.00196 acc 0.99958: 100%|██████████| 297/297 [00:06<00:00, 44.02it/s]\n",
            "val_loss 0.00027 val_acc 1.00000: 100%|██████████| 53/53 [00:00<00:00, 53.94it/s]\n"
          ]
        },
        {
          "output_type": "stream",
          "name": "stdout",
          "text": [
            "Epoch 220/1000 loss 0.00196 val_loss 0.00027 acc 0.99958 val_acc 1.00000\n",
            "Checkpoint guardado en /content/drive/MyDrive/SIS421 prueba dataset 1 test/Checkpoints/checkpoint.pth (Epoch 220)\n"
          ]
        },
        {
          "output_type": "stream",
          "name": "stderr",
          "text": [
            "loss 0.00094 acc 0.99979: 100%|██████████| 297/297 [00:04<00:00, 60.69it/s]\n",
            "val_loss 0.00005 val_acc 1.00000: 100%|██████████| 53/53 [00:01<00:00, 52.50it/s]\n"
          ]
        },
        {
          "output_type": "stream",
          "name": "stdout",
          "text": [
            "Epoch 221/1000 loss 0.00094 val_loss 0.00005 acc 0.99979 val_acc 1.00000\n"
          ]
        },
        {
          "output_type": "stream",
          "name": "stderr",
          "text": [
            "loss 0.00036 acc 0.99989: 100%|██████████| 297/297 [00:05<00:00, 53.02it/s]\n",
            "val_loss 0.00003 val_acc 1.00000: 100%|██████████| 53/53 [00:01<00:00, 38.16it/s]\n"
          ]
        },
        {
          "output_type": "stream",
          "name": "stdout",
          "text": [
            "Epoch 222/1000 loss 0.00036 val_loss 0.00003 acc 0.99989 val_acc 1.00000\n"
          ]
        },
        {
          "output_type": "stream",
          "name": "stderr",
          "text": [
            "loss 0.00008 acc 1.00000: 100%|██████████| 297/297 [00:06<00:00, 44.44it/s]\n",
            "val_loss 0.00031 val_acc 1.00000: 100%|██████████| 53/53 [00:01<00:00, 51.97it/s]\n"
          ]
        },
        {
          "output_type": "stream",
          "name": "stdout",
          "text": [
            "Epoch 223/1000 loss 0.00008 val_loss 0.00031 acc 1.00000 val_acc 1.00000\n"
          ]
        },
        {
          "output_type": "stream",
          "name": "stderr",
          "text": [
            "loss 0.00008 acc 1.00000: 100%|██████████| 297/297 [00:04<00:00, 59.45it/s]\n",
            "val_loss 0.00081 val_acc 0.99941: 100%|██████████| 53/53 [00:00<00:00, 54.18it/s]\n"
          ]
        },
        {
          "output_type": "stream",
          "name": "stdout",
          "text": [
            "Epoch 224/1000 loss 0.00008 val_loss 0.00081 acc 1.00000 val_acc 0.99941\n"
          ]
        },
        {
          "output_type": "stream",
          "name": "stderr",
          "text": [
            "loss 0.00012 acc 1.00000: 100%|██████████| 297/297 [00:06<00:00, 47.51it/s]\n",
            "val_loss 0.00103 val_acc 0.99941: 100%|██████████| 53/53 [00:01<00:00, 39.80it/s]\n"
          ]
        },
        {
          "output_type": "stream",
          "name": "stdout",
          "text": [
            "Epoch 225/1000 loss 0.00012 val_loss 0.00103 acc 1.00000 val_acc 0.99941\n"
          ]
        },
        {
          "output_type": "stream",
          "name": "stderr",
          "text": [
            "loss 0.00017 acc 1.00000: 100%|██████████| 297/297 [00:05<00:00, 57.34it/s]\n",
            "val_loss 0.00038 val_acc 1.00000: 100%|██████████| 53/53 [00:00<00:00, 53.76it/s]\n"
          ]
        },
        {
          "output_type": "stream",
          "name": "stdout",
          "text": [
            "Epoch 226/1000 loss 0.00017 val_loss 0.00038 acc 1.00000 val_acc 1.00000\n"
          ]
        },
        {
          "output_type": "stream",
          "name": "stderr",
          "text": [
            "loss 0.00054 acc 0.99989: 100%|██████████| 297/297 [00:04<00:00, 59.66it/s]\n",
            "val_loss 0.00032 val_acc 1.00000: 100%|██████████| 53/53 [00:01<00:00, 38.57it/s]\n"
          ]
        },
        {
          "output_type": "stream",
          "name": "stdout",
          "text": [
            "Epoch 227/1000 loss 0.00054 val_loss 0.00032 acc 0.99989 val_acc 1.00000\n"
          ]
        },
        {
          "output_type": "stream",
          "name": "stderr",
          "text": [
            "loss 0.00400 acc 0.99842: 100%|██████████| 297/297 [00:06<00:00, 45.27it/s]\n",
            "val_loss 0.00339 val_acc 0.99823: 100%|██████████| 53/53 [00:01<00:00, 48.78it/s]\n"
          ]
        },
        {
          "output_type": "stream",
          "name": "stdout",
          "text": [
            "Epoch 228/1000 loss 0.00400 val_loss 0.00339 acc 0.99842 val_acc 0.99823\n"
          ]
        },
        {
          "output_type": "stream",
          "name": "stderr",
          "text": [
            "loss 0.00352 acc 0.99863: 100%|██████████| 297/297 [00:05<00:00, 57.73it/s]\n",
            "val_loss 0.00369 val_acc 0.99823: 100%|██████████| 53/53 [00:01<00:00, 52.83it/s]\n"
          ]
        },
        {
          "output_type": "stream",
          "name": "stdout",
          "text": [
            "Epoch 229/1000 loss 0.00352 val_loss 0.00369 acc 0.99863 val_acc 0.99823\n"
          ]
        },
        {
          "output_type": "stream",
          "name": "stderr",
          "text": [
            "loss 0.00110 acc 0.99926: 100%|██████████| 297/297 [00:05<00:00, 53.27it/s]\n",
            "val_loss 0.00006 val_acc 1.00000: 100%|██████████| 53/53 [00:01<00:00, 41.05it/s]\n"
          ]
        },
        {
          "output_type": "stream",
          "name": "stdout",
          "text": [
            "Epoch 230/1000 loss 0.00110 val_loss 0.00006 acc 0.99926 val_acc 1.00000\n"
          ]
        },
        {
          "output_type": "stream",
          "name": "stderr",
          "text": [
            "loss 0.00052 acc 0.99989: 100%|██████████| 297/297 [00:06<00:00, 44.09it/s]\n",
            "val_loss 0.00003 val_acc 1.00000: 100%|██████████| 53/53 [00:00<00:00, 54.54it/s]\n"
          ]
        },
        {
          "output_type": "stream",
          "name": "stdout",
          "text": [
            "Epoch 231/1000 loss 0.00052 val_loss 0.00003 acc 0.99989 val_acc 1.00000\n"
          ]
        },
        {
          "output_type": "stream",
          "name": "stderr",
          "text": [
            "loss 0.00015 acc 1.00000: 100%|██████████| 297/297 [00:04<00:00, 59.85it/s]\n",
            "val_loss 0.00002 val_acc 1.00000: 100%|██████████| 53/53 [00:01<00:00, 52.13it/s]\n"
          ]
        },
        {
          "output_type": "stream",
          "name": "stdout",
          "text": [
            "Epoch 232/1000 loss 0.00015 val_loss 0.00002 acc 1.00000 val_acc 1.00000\n"
          ]
        },
        {
          "output_type": "stream",
          "name": "stderr",
          "text": [
            "loss 0.00019 acc 0.99989: 100%|██████████| 297/297 [00:06<00:00, 49.24it/s]\n",
            "val_loss 0.00296 val_acc 0.99882: 100%|██████████| 53/53 [00:01<00:00, 34.63it/s]\n"
          ]
        },
        {
          "output_type": "stream",
          "name": "stdout",
          "text": [
            "Epoch 233/1000 loss 0.00019 val_loss 0.00296 acc 0.99989 val_acc 0.99882\n"
          ]
        },
        {
          "output_type": "stream",
          "name": "stderr",
          "text": [
            "loss 0.00043 acc 0.99989: 100%|██████████| 297/297 [00:05<00:00, 53.57it/s]\n",
            "val_loss 0.00008 val_acc 1.00000: 100%|██████████| 53/53 [00:00<00:00, 53.64it/s]\n"
          ]
        },
        {
          "output_type": "stream",
          "name": "stdout",
          "text": [
            "Epoch 234/1000 loss 0.00043 val_loss 0.00008 acc 0.99989 val_acc 1.00000\n"
          ]
        },
        {
          "output_type": "stream",
          "name": "stderr",
          "text": [
            "loss 0.00013 acc 1.00000: 100%|██████████| 297/297 [00:06<00:00, 45.02it/s]\n",
            "val_loss 0.00001 val_acc 1.00000: 100%|██████████| 53/53 [00:01<00:00, 32.42it/s]\n"
          ]
        },
        {
          "output_type": "stream",
          "name": "stdout",
          "text": [
            "Epoch 235/1000 loss 0.00013 val_loss 0.00001 acc 1.00000 val_acc 1.00000\n"
          ]
        },
        {
          "output_type": "stream",
          "name": "stderr",
          "text": [
            "loss 0.00063 acc 0.99958: 100%|██████████| 297/297 [00:07<00:00, 41.56it/s]\n",
            "val_loss 0.00180 val_acc 0.99941: 100%|██████████| 53/53 [00:01<00:00, 46.47it/s]\n"
          ]
        },
        {
          "output_type": "stream",
          "name": "stdout",
          "text": [
            "Epoch 236/1000 loss 0.00063 val_loss 0.00180 acc 0.99958 val_acc 0.99941\n"
          ]
        },
        {
          "output_type": "stream",
          "name": "stderr",
          "text": [
            "loss 0.00057 acc 0.99979: 100%|██████████| 297/297 [00:05<00:00, 57.71it/s]\n",
            "val_loss 0.00003 val_acc 1.00000: 100%|██████████| 53/53 [00:01<00:00, 51.75it/s]\n"
          ]
        },
        {
          "output_type": "stream",
          "name": "stdout",
          "text": [
            "Epoch 237/1000 loss 0.00057 val_loss 0.00003 acc 0.99979 val_acc 1.00000\n"
          ]
        },
        {
          "output_type": "stream",
          "name": "stderr",
          "text": [
            "loss 0.00039 acc 0.99979: 100%|██████████| 297/297 [00:05<00:00, 52.81it/s]\n",
            "val_loss 0.00092 val_acc 0.99941: 100%|██████████| 53/53 [00:01<00:00, 38.22it/s]\n"
          ]
        },
        {
          "output_type": "stream",
          "name": "stdout",
          "text": [
            "Epoch 238/1000 loss 0.00039 val_loss 0.00092 acc 0.99979 val_acc 0.99941\n"
          ]
        },
        {
          "output_type": "stream",
          "name": "stderr",
          "text": [
            "loss 0.00107 acc 0.99968: 100%|██████████| 297/297 [00:06<00:00, 46.38it/s]\n",
            "val_loss 0.00009 val_acc 1.00000: 100%|██████████| 53/53 [00:00<00:00, 55.59it/s]\n"
          ]
        },
        {
          "output_type": "stream",
          "name": "stdout",
          "text": [
            "Epoch 239/1000 loss 0.00107 val_loss 0.00009 acc 0.99968 val_acc 1.00000\n"
          ]
        },
        {
          "output_type": "stream",
          "name": "stderr",
          "text": [
            "loss 0.00058 acc 0.99968: 100%|██████████| 297/297 [00:04<00:00, 60.60it/s]\n",
            "val_loss 0.00197 val_acc 0.99882: 100%|██████████| 53/53 [00:00<00:00, 54.43it/s]\n"
          ]
        },
        {
          "output_type": "stream",
          "name": "stdout",
          "text": [
            "Epoch 240/1000 loss 0.00058 val_loss 0.00197 acc 0.99968 val_acc 0.99882\n",
            "Checkpoint guardado en /content/drive/MyDrive/SIS421 prueba dataset 1 test/Checkpoints/checkpoint.pth (Epoch 240)\n"
          ]
        },
        {
          "output_type": "stream",
          "name": "stderr",
          "text": [
            "loss 0.00051 acc 0.99989: 100%|██████████| 297/297 [00:05<00:00, 50.06it/s]\n",
            "val_loss 0.00034 val_acc 1.00000: 100%|██████████| 53/53 [00:01<00:00, 38.19it/s]\n"
          ]
        },
        {
          "output_type": "stream",
          "name": "stdout",
          "text": [
            "Epoch 241/1000 loss 0.00051 val_loss 0.00034 acc 0.99989 val_acc 1.00000\n"
          ]
        },
        {
          "output_type": "stream",
          "name": "stderr",
          "text": [
            "loss 0.00013 acc 1.00000: 100%|██████████| 297/297 [00:06<00:00, 47.13it/s]\n",
            "val_loss 0.00008 val_acc 1.00000: 100%|██████████| 53/53 [00:00<00:00, 54.52it/s]\n"
          ]
        },
        {
          "output_type": "stream",
          "name": "stdout",
          "text": [
            "Epoch 242/1000 loss 0.00013 val_loss 0.00008 acc 1.00000 val_acc 1.00000\n"
          ]
        },
        {
          "output_type": "stream",
          "name": "stderr",
          "text": [
            "loss 0.00033 acc 0.99989: 100%|██████████| 297/297 [00:05<00:00, 59.08it/s]\n",
            "val_loss 0.00003 val_acc 1.00000: 100%|██████████| 53/53 [00:00<00:00, 53.80it/s]\n"
          ]
        },
        {
          "output_type": "stream",
          "name": "stdout",
          "text": [
            "Epoch 243/1000 loss 0.00033 val_loss 0.00003 acc 0.99989 val_acc 1.00000\n"
          ]
        },
        {
          "output_type": "stream",
          "name": "stderr",
          "text": [
            "loss 0.00014 acc 1.00000: 100%|██████████| 297/297 [00:06<00:00, 47.89it/s]\n",
            "val_loss 0.00003 val_acc 1.00000: 100%|██████████| 53/53 [00:01<00:00, 39.88it/s]\n"
          ]
        },
        {
          "output_type": "stream",
          "name": "stdout",
          "text": [
            "Epoch 244/1000 loss 0.00014 val_loss 0.00003 acc 1.00000 val_acc 1.00000\n"
          ]
        },
        {
          "output_type": "stream",
          "name": "stderr",
          "text": [
            "loss 0.00066 acc 0.99979: 100%|██████████| 297/297 [00:05<00:00, 56.22it/s]\n",
            "val_loss 0.00002 val_acc 1.00000: 100%|██████████| 53/53 [00:01<00:00, 49.80it/s]\n"
          ]
        },
        {
          "output_type": "stream",
          "name": "stdout",
          "text": [
            "Epoch 245/1000 loss 0.00066 val_loss 0.00002 acc 0.99979 val_acc 1.00000\n"
          ]
        },
        {
          "output_type": "stream",
          "name": "stderr",
          "text": [
            "loss 0.00122 acc 0.99968: 100%|██████████| 297/297 [00:05<00:00, 56.49it/s]\n",
            "val_loss 0.00002 val_acc 1.00000: 100%|██████████| 53/53 [00:01<00:00, 41.04it/s]\n"
          ]
        },
        {
          "output_type": "stream",
          "name": "stdout",
          "text": [
            "Epoch 246/1000 loss 0.00122 val_loss 0.00002 acc 0.99968 val_acc 1.00000\n"
          ]
        },
        {
          "output_type": "stream",
          "name": "stderr",
          "text": [
            "loss 0.00151 acc 0.99926: 100%|██████████| 297/297 [00:07<00:00, 41.65it/s]\n",
            "val_loss 0.00041 val_acc 1.00000: 100%|██████████| 53/53 [00:01<00:00, 47.30it/s]\n"
          ]
        },
        {
          "output_type": "stream",
          "name": "stdout",
          "text": [
            "Epoch 247/1000 loss 0.00151 val_loss 0.00041 acc 0.99926 val_acc 1.00000\n"
          ]
        },
        {
          "output_type": "stream",
          "name": "stderr",
          "text": [
            "loss 0.00147 acc 0.99937: 100%|██████████| 297/297 [00:05<00:00, 58.35it/s]\n",
            "val_loss 0.00457 val_acc 0.99941: 100%|██████████| 53/53 [00:00<00:00, 53.04it/s]\n"
          ]
        },
        {
          "output_type": "stream",
          "name": "stdout",
          "text": [
            "Epoch 248/1000 loss 0.00147 val_loss 0.00457 acc 0.99937 val_acc 0.99941\n"
          ]
        },
        {
          "output_type": "stream",
          "name": "stderr",
          "text": [
            "loss 0.00141 acc 0.99968: 100%|██████████| 297/297 [00:05<00:00, 51.04it/s]\n",
            "val_loss 0.00243 val_acc 0.99941: 100%|██████████| 53/53 [00:01<00:00, 40.72it/s]\n"
          ]
        },
        {
          "output_type": "stream",
          "name": "stdout",
          "text": [
            "Epoch 249/1000 loss 0.00141 val_loss 0.00243 acc 0.99968 val_acc 0.99941\n"
          ]
        },
        {
          "output_type": "stream",
          "name": "stderr",
          "text": [
            "loss 0.00175 acc 0.99930: 100%|██████████| 297/297 [00:06<00:00, 45.05it/s]\n",
            "val_loss 0.34464 val_acc 0.94682: 100%|██████████| 53/53 [00:01<00:00, 46.43it/s]\n"
          ]
        },
        {
          "output_type": "stream",
          "name": "stdout",
          "text": [
            "Epoch 250/1000 loss 0.00175 val_loss 0.34464 acc 0.99930 val_acc 0.94682\n"
          ]
        },
        {
          "output_type": "stream",
          "name": "stderr",
          "text": [
            "loss 0.00178 acc 0.99951: 100%|██████████| 297/297 [00:05<00:00, 57.77it/s]\n",
            "val_loss 0.00012 val_acc 1.00000: 100%|██████████| 53/53 [00:01<00:00, 50.64it/s]\n"
          ]
        },
        {
          "output_type": "stream",
          "name": "stdout",
          "text": [
            "Epoch 251/1000 loss 0.00178 val_loss 0.00012 acc 0.99951 val_acc 1.00000\n"
          ]
        },
        {
          "output_type": "stream",
          "name": "stderr",
          "text": [
            "loss 0.00114 acc 0.99958: 100%|██████████| 297/297 [00:06<00:00, 48.00it/s]\n",
            "val_loss 0.00190 val_acc 0.99941: 100%|██████████| 53/53 [00:01<00:00, 37.76it/s]\n"
          ]
        },
        {
          "output_type": "stream",
          "name": "stdout",
          "text": [
            "Epoch 252/1000 loss 0.00114 val_loss 0.00190 acc 0.99958 val_acc 0.99941\n"
          ]
        },
        {
          "output_type": "stream",
          "name": "stderr",
          "text": [
            "loss 0.00045 acc 0.99979: 100%|██████████| 297/297 [00:05<00:00, 55.25it/s]\n",
            "val_loss 0.00067 val_acc 0.99941: 100%|██████████| 53/53 [00:01<00:00, 52.70it/s]\n"
          ]
        },
        {
          "output_type": "stream",
          "name": "stdout",
          "text": [
            "Epoch 253/1000 loss 0.00045 val_loss 0.00067 acc 0.99979 val_acc 0.99941\n"
          ]
        },
        {
          "output_type": "stream",
          "name": "stderr",
          "text": [
            "loss 0.00013 acc 1.00000: 100%|██████████| 297/297 [00:04<00:00, 60.57it/s]\n",
            "val_loss 0.00001 val_acc 1.00000: 100%|██████████| 53/53 [00:01<00:00, 43.01it/s]\n"
          ]
        },
        {
          "output_type": "stream",
          "name": "stdout",
          "text": [
            "Epoch 254/1000 loss 0.00013 val_loss 0.00001 acc 1.00000 val_acc 1.00000\n"
          ]
        },
        {
          "output_type": "stream",
          "name": "stderr",
          "text": [
            "loss 0.00036 acc 0.99989: 100%|██████████| 297/297 [00:07<00:00, 42.07it/s]\n",
            "val_loss 0.00049 val_acc 1.00000: 100%|██████████| 53/53 [00:01<00:00, 44.68it/s]\n"
          ]
        },
        {
          "output_type": "stream",
          "name": "stdout",
          "text": [
            "Epoch 255/1000 loss 0.00036 val_loss 0.00049 acc 0.99989 val_acc 1.00000\n"
          ]
        },
        {
          "output_type": "stream",
          "name": "stderr",
          "text": [
            "loss 0.00259 acc 0.99926: 100%|██████████| 297/297 [00:05<00:00, 56.78it/s]\n",
            "val_loss 0.00002 val_acc 1.00000: 100%|██████████| 53/53 [00:01<00:00, 50.64it/s]\n"
          ]
        },
        {
          "output_type": "stream",
          "name": "stdout",
          "text": [
            "Epoch 256/1000 loss 0.00259 val_loss 0.00002 acc 0.99926 val_acc 1.00000\n"
          ]
        },
        {
          "output_type": "stream",
          "name": "stderr",
          "text": [
            "loss 0.00019 acc 1.00000: 100%|██████████| 297/297 [00:05<00:00, 49.93it/s]\n",
            "val_loss 0.00002 val_acc 1.00000: 100%|██████████| 53/53 [00:01<00:00, 36.88it/s]\n"
          ]
        },
        {
          "output_type": "stream",
          "name": "stdout",
          "text": [
            "Epoch 257/1000 loss 0.00019 val_loss 0.00002 acc 1.00000 val_acc 1.00000\n"
          ]
        },
        {
          "output_type": "stream",
          "name": "stderr",
          "text": [
            "loss 0.00010 acc 1.00000: 100%|██████████| 297/297 [00:06<00:00, 44.89it/s]\n",
            "val_loss 0.00001 val_acc 1.00000: 100%|██████████| 53/53 [00:01<00:00, 49.41it/s]\n"
          ]
        },
        {
          "output_type": "stream",
          "name": "stdout",
          "text": [
            "Epoch 258/1000 loss 0.00010 val_loss 0.00001 acc 1.00000 val_acc 1.00000\n"
          ]
        },
        {
          "output_type": "stream",
          "name": "stderr",
          "text": [
            "loss 0.00008 acc 1.00000: 100%|██████████| 297/297 [00:05<00:00, 56.16it/s]\n",
            "val_loss 0.00000 val_acc 1.00000: 100%|██████████| 53/53 [00:01<00:00, 51.64it/s]\n"
          ]
        },
        {
          "output_type": "stream",
          "name": "stdout",
          "text": [
            "Epoch 259/1000 loss 0.00008 val_loss 0.00000 acc 1.00000 val_acc 1.00000\n"
          ]
        },
        {
          "output_type": "stream",
          "name": "stderr",
          "text": [
            "loss 0.00183 acc 0.99947: 100%|██████████| 297/297 [00:06<00:00, 44.69it/s]\n",
            "val_loss 0.00008 val_acc 1.00000: 100%|██████████| 53/53 [00:01<00:00, 36.81it/s]\n"
          ]
        },
        {
          "output_type": "stream",
          "name": "stdout",
          "text": [
            "Epoch 260/1000 loss 0.00183 val_loss 0.00008 acc 0.99947 val_acc 1.00000\n",
            "Checkpoint guardado en /content/drive/MyDrive/SIS421 prueba dataset 1 test/Checkpoints/checkpoint.pth (Epoch 260)\n"
          ]
        },
        {
          "output_type": "stream",
          "name": "stderr",
          "text": [
            "loss 0.00309 acc 0.99926: 100%|██████████| 297/297 [00:05<00:00, 54.13it/s]\n",
            "val_loss 0.01231 val_acc 0.99587: 100%|██████████| 53/53 [00:01<00:00, 37.34it/s]\n"
          ]
        },
        {
          "output_type": "stream",
          "name": "stdout",
          "text": [
            "Epoch 261/1000 loss 0.00309 val_loss 0.01231 acc 0.99926 val_acc 0.99587\n"
          ]
        },
        {
          "output_type": "stream",
          "name": "stderr",
          "text": [
            "loss 0.00120 acc 0.99947: 100%|██████████| 297/297 [00:07<00:00, 38.76it/s]\n",
            "val_loss 0.00984 val_acc 0.99823: 100%|██████████| 53/53 [00:01<00:00, 35.47it/s]\n"
          ]
        },
        {
          "output_type": "stream",
          "name": "stdout",
          "text": [
            "Epoch 262/1000 loss 0.00120 val_loss 0.00984 acc 0.99947 val_acc 0.99823\n"
          ]
        },
        {
          "output_type": "stream",
          "name": "stderr",
          "text": [
            "loss 0.00318 acc 0.99874: 100%|██████████| 297/297 [00:07<00:00, 40.56it/s]\n",
            "val_loss 0.00046 val_acc 1.00000: 100%|██████████| 53/53 [00:01<00:00, 50.32it/s]\n"
          ]
        },
        {
          "output_type": "stream",
          "name": "stdout",
          "text": [
            "Epoch 263/1000 loss 0.00318 val_loss 0.00046 acc 0.99874 val_acc 1.00000\n"
          ]
        },
        {
          "output_type": "stream",
          "name": "stderr",
          "text": [
            "loss 0.00035 acc 0.99989: 100%|██████████| 297/297 [00:05<00:00, 55.78it/s]\n",
            "val_loss 0.00002 val_acc 1.00000: 100%|██████████| 53/53 [00:01<00:00, 50.67it/s]\n"
          ]
        },
        {
          "output_type": "stream",
          "name": "stdout",
          "text": [
            "Epoch 264/1000 loss 0.00035 val_loss 0.00002 acc 0.99989 val_acc 1.00000\n"
          ]
        },
        {
          "output_type": "stream",
          "name": "stderr",
          "text": [
            "loss 0.00077 acc 0.99961: 100%|██████████| 297/297 [00:06<00:00, 45.62it/s]\n",
            "val_loss 0.00003 val_acc 1.00000: 100%|██████████| 53/53 [00:01<00:00, 35.29it/s]\n"
          ]
        },
        {
          "output_type": "stream",
          "name": "stdout",
          "text": [
            "Epoch 265/1000 loss 0.00077 val_loss 0.00003 acc 0.99961 val_acc 1.00000\n"
          ]
        },
        {
          "output_type": "stream",
          "name": "stderr",
          "text": [
            "loss 0.00069 acc 0.99979: 100%|██████████| 297/297 [00:05<00:00, 53.04it/s]\n",
            "val_loss 0.00026 val_acc 1.00000: 100%|██████████| 53/53 [00:01<00:00, 51.36it/s]\n"
          ]
        },
        {
          "output_type": "stream",
          "name": "stdout",
          "text": [
            "Epoch 266/1000 loss 0.00069 val_loss 0.00026 acc 0.99979 val_acc 1.00000\n"
          ]
        },
        {
          "output_type": "stream",
          "name": "stderr",
          "text": [
            "loss 0.00026 acc 0.99989: 100%|██████████| 297/297 [00:05<00:00, 54.65it/s]\n",
            "val_loss 0.00007 val_acc 1.00000: 100%|██████████| 53/53 [00:01<00:00, 36.14it/s]\n"
          ]
        },
        {
          "output_type": "stream",
          "name": "stdout",
          "text": [
            "Epoch 267/1000 loss 0.00026 val_loss 0.00007 acc 0.99989 val_acc 1.00000\n"
          ]
        },
        {
          "output_type": "stream",
          "name": "stderr",
          "text": [
            "loss 0.00009 acc 1.00000: 100%|██████████| 297/297 [00:07<00:00, 39.85it/s]\n",
            "val_loss 0.00005 val_acc 1.00000: 100%|██████████| 53/53 [00:01<00:00, 46.37it/s]\n"
          ]
        },
        {
          "output_type": "stream",
          "name": "stdout",
          "text": [
            "Epoch 268/1000 loss 0.00009 val_loss 0.00005 acc 1.00000 val_acc 1.00000\n"
          ]
        },
        {
          "output_type": "stream",
          "name": "stderr",
          "text": [
            "loss 0.00011 acc 1.00000: 100%|██████████| 297/297 [00:05<00:00, 57.99it/s]\n",
            "val_loss 0.00020 val_acc 1.00000: 100%|██████████| 53/53 [00:00<00:00, 53.71it/s]\n"
          ]
        },
        {
          "output_type": "stream",
          "name": "stdout",
          "text": [
            "Epoch 269/1000 loss 0.00011 val_loss 0.00020 acc 1.00000 val_acc 1.00000\n"
          ]
        },
        {
          "output_type": "stream",
          "name": "stderr",
          "text": [
            "loss 0.00025 acc 0.99989: 100%|██████████| 297/297 [00:05<00:00, 50.23it/s]\n",
            "val_loss 0.00002 val_acc 1.00000: 100%|██████████| 53/53 [00:01<00:00, 39.71it/s]\n"
          ]
        },
        {
          "output_type": "stream",
          "name": "stdout",
          "text": [
            "Epoch 270/1000 loss 0.00025 val_loss 0.00002 acc 0.99989 val_acc 1.00000\n"
          ]
        },
        {
          "output_type": "stream",
          "name": "stderr",
          "text": [
            "loss 0.00197 acc 0.99944: 100%|██████████| 297/297 [00:06<00:00, 44.45it/s]\n",
            "val_loss 0.00003 val_acc 1.00000: 100%|██████████| 53/53 [00:01<00:00, 49.93it/s]\n"
          ]
        },
        {
          "output_type": "stream",
          "name": "stdout",
          "text": [
            "Epoch 271/1000 loss 0.00197 val_loss 0.00003 acc 0.99944 val_acc 1.00000\n"
          ]
        },
        {
          "output_type": "stream",
          "name": "stderr",
          "text": [
            "loss 0.00444 acc 0.99884: 100%|██████████| 297/297 [00:05<00:00, 55.88it/s]\n",
            "val_loss 0.00067 val_acc 1.00000: 100%|██████████| 53/53 [00:01<00:00, 50.94it/s]\n"
          ]
        },
        {
          "output_type": "stream",
          "name": "stdout",
          "text": [
            "Epoch 272/1000 loss 0.00444 val_loss 0.00067 acc 0.99884 val_acc 1.00000\n"
          ]
        },
        {
          "output_type": "stream",
          "name": "stderr",
          "text": [
            "loss 0.00191 acc 0.99937: 100%|██████████| 297/297 [00:06<00:00, 46.52it/s]\n",
            "val_loss 0.00423 val_acc 0.99882: 100%|██████████| 53/53 [00:01<00:00, 33.86it/s]\n"
          ]
        },
        {
          "output_type": "stream",
          "name": "stdout",
          "text": [
            "Epoch 273/1000 loss 0.00191 val_loss 0.00423 acc 0.99937 val_acc 0.99882\n"
          ]
        },
        {
          "output_type": "stream",
          "name": "stderr",
          "text": [
            "loss 0.00191 acc 0.99937: 100%|██████████| 297/297 [00:05<00:00, 54.63it/s]\n",
            "val_loss 0.00009 val_acc 1.00000: 100%|██████████| 53/53 [00:01<00:00, 51.57it/s]\n"
          ]
        },
        {
          "output_type": "stream",
          "name": "stdout",
          "text": [
            "Epoch 274/1000 loss 0.00191 val_loss 0.00009 acc 0.99937 val_acc 1.00000\n"
          ]
        },
        {
          "output_type": "stream",
          "name": "stderr",
          "text": [
            "loss 0.00332 acc 0.99895: 100%|██████████| 297/297 [00:05<00:00, 53.45it/s]\n",
            "val_loss 0.00857 val_acc 0.99882: 100%|██████████| 53/53 [00:01<00:00, 38.89it/s]\n"
          ]
        },
        {
          "output_type": "stream",
          "name": "stdout",
          "text": [
            "Epoch 275/1000 loss 0.00332 val_loss 0.00857 acc 0.99895 val_acc 0.99882\n"
          ]
        },
        {
          "output_type": "stream",
          "name": "stderr",
          "text": [
            "loss 0.00040 acc 0.99989: 100%|██████████| 297/297 [00:07<00:00, 41.28it/s]\n",
            "val_loss 0.00023 val_acc 1.00000: 100%|██████████| 53/53 [00:01<00:00, 51.27it/s]\n"
          ]
        },
        {
          "output_type": "stream",
          "name": "stdout",
          "text": [
            "Epoch 276/1000 loss 0.00040 val_loss 0.00023 acc 0.99989 val_acc 1.00000\n"
          ]
        },
        {
          "output_type": "stream",
          "name": "stderr",
          "text": [
            "loss 0.00098 acc 0.99979: 100%|██████████| 297/297 [00:05<00:00, 57.26it/s]\n",
            "val_loss 0.00008 val_acc 1.00000: 100%|██████████| 53/53 [00:01<00:00, 49.42it/s]\n"
          ]
        },
        {
          "output_type": "stream",
          "name": "stdout",
          "text": [
            "Epoch 277/1000 loss 0.00098 val_loss 0.00008 acc 0.99979 val_acc 1.00000\n"
          ]
        },
        {
          "output_type": "stream",
          "name": "stderr",
          "text": [
            "loss 0.00011 acc 1.00000: 100%|██████████| 297/297 [00:06<00:00, 48.01it/s]\n",
            "val_loss 0.00060 val_acc 0.99941: 100%|██████████| 53/53 [00:01<00:00, 36.78it/s]\n"
          ]
        },
        {
          "output_type": "stream",
          "name": "stdout",
          "text": [
            "Epoch 278/1000 loss 0.00011 val_loss 0.00060 acc 1.00000 val_acc 0.99941\n"
          ]
        },
        {
          "output_type": "stream",
          "name": "stderr",
          "text": [
            "loss 0.00025 acc 0.99989: 100%|██████████| 297/297 [00:06<00:00, 46.13it/s]\n",
            "val_loss 0.00004 val_acc 1.00000: 100%|██████████| 53/53 [00:01<00:00, 49.01it/s]\n"
          ]
        },
        {
          "output_type": "stream",
          "name": "stdout",
          "text": [
            "Epoch 279/1000 loss 0.00025 val_loss 0.00004 acc 0.99989 val_acc 1.00000\n"
          ]
        },
        {
          "output_type": "stream",
          "name": "stderr",
          "text": [
            "loss 0.00183 acc 0.99937: 100%|██████████| 297/297 [00:05<00:00, 55.43it/s]\n",
            "val_loss 0.00002 val_acc 1.00000: 100%|██████████| 53/53 [00:01<00:00, 50.39it/s]\n"
          ]
        },
        {
          "output_type": "stream",
          "name": "stdout",
          "text": [
            "Epoch 280/1000 loss 0.00183 val_loss 0.00002 acc 0.99937 val_acc 1.00000\n",
            "Checkpoint guardado en /content/drive/MyDrive/SIS421 prueba dataset 1 test/Checkpoints/checkpoint.pth (Epoch 280)\n"
          ]
        },
        {
          "output_type": "stream",
          "name": "stderr",
          "text": [
            "loss 0.00068 acc 0.99979: 100%|██████████| 297/297 [00:06<00:00, 43.48it/s]\n",
            "val_loss 0.00006 val_acc 1.00000: 100%|██████████| 53/53 [00:01<00:00, 36.72it/s]\n"
          ]
        },
        {
          "output_type": "stream",
          "name": "stdout",
          "text": [
            "Epoch 281/1000 loss 0.00068 val_loss 0.00006 acc 0.99979 val_acc 1.00000\n"
          ]
        },
        {
          "output_type": "stream",
          "name": "stderr",
          "text": [
            "loss 0.00034 acc 0.99989: 100%|██████████| 297/297 [00:05<00:00, 58.18it/s]\n",
            "val_loss 0.00031 val_acc 1.00000: 100%|██████████| 53/53 [00:01<00:00, 50.97it/s]\n"
          ]
        },
        {
          "output_type": "stream",
          "name": "stdout",
          "text": [
            "Epoch 282/1000 loss 0.00034 val_loss 0.00031 acc 0.99989 val_acc 1.00000\n"
          ]
        },
        {
          "output_type": "stream",
          "name": "stderr",
          "text": [
            "loss 0.00005 acc 1.00000: 100%|██████████| 297/297 [00:05<00:00, 54.62it/s]\n",
            "val_loss 0.00007 val_acc 1.00000: 100%|██████████| 53/53 [00:01<00:00, 36.18it/s]\n"
          ]
        },
        {
          "output_type": "stream",
          "name": "stdout",
          "text": [
            "Epoch 283/1000 loss 0.00005 val_loss 0.00007 acc 1.00000 val_acc 1.00000\n"
          ]
        },
        {
          "output_type": "stream",
          "name": "stderr",
          "text": [
            "loss 0.00003 acc 1.00000: 100%|██████████| 297/297 [00:06<00:00, 42.53it/s]\n",
            "val_loss 0.00006 val_acc 1.00000: 100%|██████████| 53/53 [00:01<00:00, 45.75it/s]\n"
          ]
        },
        {
          "output_type": "stream",
          "name": "stdout",
          "text": [
            "Epoch 284/1000 loss 0.00003 val_loss 0.00006 acc 1.00000 val_acc 1.00000\n"
          ]
        },
        {
          "output_type": "stream",
          "name": "stderr",
          "text": [
            "loss 0.00003 acc 1.00000: 100%|██████████| 297/297 [00:04<00:00, 60.31it/s]\n",
            "val_loss 0.00002 val_acc 1.00000: 100%|██████████| 53/53 [00:01<00:00, 52.76it/s]\n"
          ]
        },
        {
          "output_type": "stream",
          "name": "stdout",
          "text": [
            "Epoch 285/1000 loss 0.00003 val_loss 0.00002 acc 1.00000 val_acc 1.00000\n"
          ]
        },
        {
          "output_type": "stream",
          "name": "stderr",
          "text": [
            "loss 0.00008 acc 1.00000: 100%|██████████| 297/297 [00:05<00:00, 52.48it/s]\n",
            "val_loss 0.00752 val_acc 0.99705: 100%|██████████| 53/53 [00:01<00:00, 36.78it/s]\n"
          ]
        },
        {
          "output_type": "stream",
          "name": "stdout",
          "text": [
            "Epoch 286/1000 loss 0.00008 val_loss 0.00752 acc 1.00000 val_acc 0.99705\n"
          ]
        },
        {
          "output_type": "stream",
          "name": "stderr",
          "text": [
            "loss 0.00048 acc 0.99979: 100%|██████████| 297/297 [00:07<00:00, 40.34it/s]\n",
            "val_loss 0.00001 val_acc 1.00000: 100%|██████████| 53/53 [00:01<00:00, 33.24it/s]\n"
          ]
        },
        {
          "output_type": "stream",
          "name": "stdout",
          "text": [
            "Epoch 287/1000 loss 0.00048 val_loss 0.00001 acc 0.99979 val_acc 1.00000\n"
          ]
        },
        {
          "output_type": "stream",
          "name": "stderr",
          "text": [
            "loss 0.00078 acc 0.99979: 100%|██████████| 297/297 [00:06<00:00, 42.43it/s]\n",
            "val_loss 0.00324 val_acc 0.99823: 100%|██████████| 53/53 [00:01<00:00, 40.35it/s]\n"
          ]
        },
        {
          "output_type": "stream",
          "name": "stdout",
          "text": [
            "Epoch 288/1000 loss 0.00078 val_loss 0.00324 acc 0.99979 val_acc 0.99823\n"
          ]
        },
        {
          "output_type": "stream",
          "name": "stderr",
          "text": [
            "loss 0.00144 acc 0.99968: 100%|██████████| 297/297 [00:07<00:00, 40.21it/s]\n",
            "val_loss 0.00208 val_acc 0.99941: 100%|██████████| 53/53 [00:01<00:00, 43.64it/s]\n"
          ]
        },
        {
          "output_type": "stream",
          "name": "stdout",
          "text": [
            "Epoch 289/1000 loss 0.00144 val_loss 0.00208 acc 0.99968 val_acc 0.99941\n"
          ]
        },
        {
          "output_type": "stream",
          "name": "stderr",
          "text": [
            "loss 0.00010 acc 1.00000: 100%|██████████| 297/297 [00:05<00:00, 55.07it/s]\n",
            "val_loss 0.00046 val_acc 1.00000: 100%|██████████| 53/53 [00:01<00:00, 50.27it/s]\n"
          ]
        },
        {
          "output_type": "stream",
          "name": "stdout",
          "text": [
            "Epoch 290/1000 loss 0.00010 val_loss 0.00046 acc 1.00000 val_acc 1.00000\n"
          ]
        },
        {
          "output_type": "stream",
          "name": "stderr",
          "text": [
            "loss 0.00003 acc 1.00000: 100%|██████████| 297/297 [00:05<00:00, 50.37it/s]\n",
            "val_loss 0.00030 val_acc 1.00000: 100%|██████████| 53/53 [00:01<00:00, 36.96it/s]\n"
          ]
        },
        {
          "output_type": "stream",
          "name": "stdout",
          "text": [
            "Epoch 291/1000 loss 0.00003 val_loss 0.00030 acc 1.00000 val_acc 1.00000\n"
          ]
        },
        {
          "output_type": "stream",
          "name": "stderr",
          "text": [
            "loss 0.00002 acc 1.00000: 100%|██████████| 297/297 [00:06<00:00, 44.20it/s]\n",
            "val_loss 0.00009 val_acc 1.00000: 100%|██████████| 53/53 [00:01<00:00, 45.17it/s]\n"
          ]
        },
        {
          "output_type": "stream",
          "name": "stdout",
          "text": [
            "Epoch 292/1000 loss 0.00002 val_loss 0.00009 acc 1.00000 val_acc 1.00000\n"
          ]
        },
        {
          "output_type": "stream",
          "name": "stderr",
          "text": [
            "loss 0.00014 acc 1.00000: 100%|██████████| 297/297 [00:05<00:00, 56.68it/s]\n",
            "val_loss 0.00004 val_acc 1.00000: 100%|██████████| 53/53 [00:01<00:00, 49.70it/s]\n"
          ]
        },
        {
          "output_type": "stream",
          "name": "stdout",
          "text": [
            "Epoch 293/1000 loss 0.00014 val_loss 0.00004 acc 1.00000 val_acc 1.00000\n"
          ]
        },
        {
          "output_type": "stream",
          "name": "stderr",
          "text": [
            "loss 0.00089 acc 0.99958: 100%|██████████| 297/297 [00:06<00:00, 45.08it/s]\n",
            "val_loss 0.00016 val_acc 1.00000: 100%|██████████| 53/53 [00:01<00:00, 34.99it/s]\n"
          ]
        },
        {
          "output_type": "stream",
          "name": "stdout",
          "text": [
            "Epoch 294/1000 loss 0.00089 val_loss 0.00016 acc 0.99958 val_acc 1.00000\n"
          ]
        },
        {
          "output_type": "stream",
          "name": "stderr",
          "text": [
            "loss 0.00184 acc 0.99930: 100%|██████████| 297/297 [00:05<00:00, 54.98it/s]\n",
            "val_loss 0.00752 val_acc 0.99469: 100%|██████████| 53/53 [00:01<00:00, 49.75it/s]\n"
          ]
        },
        {
          "output_type": "stream",
          "name": "stdout",
          "text": [
            "Epoch 295/1000 loss 0.00184 val_loss 0.00752 acc 0.99930 val_acc 0.99469\n"
          ]
        },
        {
          "output_type": "stream",
          "name": "stderr",
          "text": [
            "loss 0.00122 acc 0.99958: 100%|██████████| 297/297 [00:05<00:00, 54.50it/s]\n",
            "val_loss 0.00005 val_acc 1.00000: 100%|██████████| 53/53 [00:01<00:00, 28.93it/s]\n"
          ]
        },
        {
          "output_type": "stream",
          "name": "stdout",
          "text": [
            "Epoch 296/1000 loss 0.00122 val_loss 0.00005 acc 0.99958 val_acc 1.00000\n"
          ]
        },
        {
          "output_type": "stream",
          "name": "stderr",
          "text": [
            "loss 0.00032 acc 0.99989: 100%|██████████| 297/297 [00:07<00:00, 41.13it/s]\n",
            "val_loss 0.00003 val_acc 1.00000: 100%|██████████| 53/53 [00:01<00:00, 44.19it/s]\n"
          ]
        },
        {
          "output_type": "stream",
          "name": "stdout",
          "text": [
            "Epoch 297/1000 loss 0.00032 val_loss 0.00003 acc 0.99989 val_acc 1.00000\n"
          ]
        },
        {
          "output_type": "stream",
          "name": "stderr",
          "text": [
            "loss 0.00055 acc 0.99968: 100%|██████████| 297/297 [00:05<00:00, 56.12it/s]\n",
            "val_loss 0.00007 val_acc 1.00000: 100%|██████████| 53/53 [00:01<00:00, 50.11it/s]\n"
          ]
        },
        {
          "output_type": "stream",
          "name": "stdout",
          "text": [
            "Epoch 298/1000 loss 0.00055 val_loss 0.00007 acc 0.99968 val_acc 1.00000\n"
          ]
        },
        {
          "output_type": "stream",
          "name": "stderr",
          "text": [
            "loss 0.00304 acc 0.99926: 100%|██████████| 297/297 [00:06<00:00, 48.37it/s]\n",
            "val_loss 0.00028 val_acc 1.00000: 100%|██████████| 53/53 [00:01<00:00, 37.80it/s]\n"
          ]
        },
        {
          "output_type": "stream",
          "name": "stdout",
          "text": [
            "Epoch 299/1000 loss 0.00304 val_loss 0.00028 acc 0.99926 val_acc 1.00000\n"
          ]
        },
        {
          "output_type": "stream",
          "name": "stderr",
          "text": [
            "loss 0.00120 acc 0.99951: 100%|██████████| 297/297 [00:07<00:00, 41.74it/s]\n",
            "val_loss 0.00012 val_acc 1.00000: 100%|██████████| 53/53 [00:01<00:00, 49.13it/s]\n"
          ]
        },
        {
          "output_type": "stream",
          "name": "stdout",
          "text": [
            "Epoch 300/1000 loss 0.00120 val_loss 0.00012 acc 0.99951 val_acc 1.00000\n",
            "Checkpoint guardado en /content/drive/MyDrive/SIS421 prueba dataset 1 test/Checkpoints/checkpoint.pth (Epoch 300)\n"
          ]
        },
        {
          "output_type": "stream",
          "name": "stderr",
          "text": [
            "loss 0.00408 acc 0.99919: 100%|██████████| 297/297 [00:05<00:00, 53.21it/s]\n",
            "val_loss 0.00124 val_acc 0.99941: 100%|██████████| 53/53 [00:01<00:00, 49.56it/s]\n"
          ]
        },
        {
          "output_type": "stream",
          "name": "stdout",
          "text": [
            "Epoch 301/1000 loss 0.00408 val_loss 0.00124 acc 0.99919 val_acc 0.99941\n"
          ]
        },
        {
          "output_type": "stream",
          "name": "stderr",
          "text": [
            "loss 0.00483 acc 0.99916: 100%|██████████| 297/297 [00:06<00:00, 44.58it/s]\n",
            "val_loss 0.00155 val_acc 0.99941: 100%|██████████| 53/53 [00:01<00:00, 34.69it/s]\n"
          ]
        },
        {
          "output_type": "stream",
          "name": "stdout",
          "text": [
            "Epoch 302/1000 loss 0.00483 val_loss 0.00155 acc 0.99916 val_acc 0.99941\n"
          ]
        },
        {
          "output_type": "stream",
          "name": "stderr",
          "text": [
            "loss 0.00239 acc 0.99937: 100%|██████████| 297/297 [00:05<00:00, 52.93it/s]\n",
            "val_loss 0.00101 val_acc 0.99941: 100%|██████████| 53/53 [00:01<00:00, 47.34it/s]\n"
          ]
        },
        {
          "output_type": "stream",
          "name": "stdout",
          "text": [
            "Epoch 303/1000 loss 0.00239 val_loss 0.00101 acc 0.99937 val_acc 0.99941\n"
          ]
        },
        {
          "output_type": "stream",
          "name": "stderr",
          "text": [
            "loss 0.00045 acc 0.99989: 100%|██████████| 297/297 [00:05<00:00, 50.01it/s]\n",
            "val_loss 0.00038 val_acc 1.00000: 100%|██████████| 53/53 [00:01<00:00, 35.19it/s]\n"
          ]
        },
        {
          "output_type": "stream",
          "name": "stdout",
          "text": [
            "Epoch 304/1000 loss 0.00045 val_loss 0.00038 acc 0.99989 val_acc 1.00000\n"
          ]
        },
        {
          "output_type": "stream",
          "name": "stderr",
          "text": [
            "loss 0.00028 acc 0.99989: 100%|██████████| 297/297 [00:07<00:00, 40.14it/s]\n",
            "val_loss 0.00211 val_acc 0.99882: 100%|██████████| 53/53 [00:01<00:00, 51.08it/s]\n"
          ]
        },
        {
          "output_type": "stream",
          "name": "stdout",
          "text": [
            "Epoch 305/1000 loss 0.00028 val_loss 0.00211 acc 0.99989 val_acc 0.99882\n"
          ]
        },
        {
          "output_type": "stream",
          "name": "stderr",
          "text": [
            "loss 0.00003 acc 1.00000: 100%|██████████| 297/297 [00:05<00:00, 54.15it/s]\n",
            "val_loss 0.00148 val_acc 0.99941: 100%|██████████| 53/53 [00:01<00:00, 48.40it/s]\n"
          ]
        },
        {
          "output_type": "stream",
          "name": "stdout",
          "text": [
            "Epoch 306/1000 loss 0.00003 val_loss 0.00148 acc 1.00000 val_acc 0.99941\n"
          ]
        },
        {
          "output_type": "stream",
          "name": "stderr",
          "text": [
            "loss 0.00023 acc 0.99989: 100%|██████████| 297/297 [00:06<00:00, 47.83it/s]\n",
            "val_loss 0.00196 val_acc 0.99941: 100%|██████████| 53/53 [00:01<00:00, 37.88it/s]\n"
          ]
        },
        {
          "output_type": "stream",
          "name": "stdout",
          "text": [
            "Epoch 307/1000 loss 0.00023 val_loss 0.00196 acc 0.99989 val_acc 0.99941\n"
          ]
        },
        {
          "output_type": "stream",
          "name": "stderr",
          "text": [
            "loss 0.00028 acc 0.99989: 100%|██████████| 297/297 [00:06<00:00, 44.83it/s]\n",
            "val_loss 0.00131 val_acc 0.99941: 100%|██████████| 53/53 [00:01<00:00, 48.30it/s]\n"
          ]
        },
        {
          "output_type": "stream",
          "name": "stdout",
          "text": [
            "Epoch 308/1000 loss 0.00028 val_loss 0.00131 acc 0.99989 val_acc 0.99941\n"
          ]
        },
        {
          "output_type": "stream",
          "name": "stderr",
          "text": [
            "loss 0.00060 acc 0.99989: 100%|██████████| 297/297 [00:05<00:00, 53.30it/s]\n",
            "val_loss 0.00127 val_acc 0.99941: 100%|██████████| 53/53 [00:01<00:00, 51.03it/s]\n"
          ]
        },
        {
          "output_type": "stream",
          "name": "stdout",
          "text": [
            "Epoch 309/1000 loss 0.00060 val_loss 0.00127 acc 0.99989 val_acc 0.99941\n"
          ]
        },
        {
          "output_type": "stream",
          "name": "stderr",
          "text": [
            "loss 0.00065 acc 0.99979: 100%|██████████| 297/297 [00:06<00:00, 44.45it/s]\n",
            "val_loss 0.00229 val_acc 0.99882: 100%|██████████| 53/53 [00:01<00:00, 34.95it/s]\n"
          ]
        },
        {
          "output_type": "stream",
          "name": "stdout",
          "text": [
            "Epoch 310/1000 loss 0.00065 val_loss 0.00229 acc 0.99979 val_acc 0.99882\n"
          ]
        },
        {
          "output_type": "stream",
          "name": "stderr",
          "text": [
            "loss 0.00028 acc 1.00000: 100%|██████████| 297/297 [00:05<00:00, 55.08it/s]\n",
            "val_loss 0.00095 val_acc 0.99941: 100%|██████████| 53/53 [00:01<00:00, 50.04it/s]\n"
          ]
        },
        {
          "output_type": "stream",
          "name": "stdout",
          "text": [
            "Epoch 311/1000 loss 0.00028 val_loss 0.00095 acc 1.00000 val_acc 0.99941\n"
          ]
        },
        {
          "output_type": "stream",
          "name": "stderr",
          "text": [
            "loss 0.00011 acc 1.00000: 100%|██████████| 297/297 [00:05<00:00, 50.85it/s]\n",
            "val_loss 0.00066 val_acc 1.00000: 100%|██████████| 53/53 [00:01<00:00, 33.00it/s]\n"
          ]
        },
        {
          "output_type": "stream",
          "name": "stdout",
          "text": [
            "Epoch 312/1000 loss 0.00011 val_loss 0.00066 acc 1.00000 val_acc 1.00000\n"
          ]
        },
        {
          "output_type": "stream",
          "name": "stderr",
          "text": [
            "loss 0.00031 acc 0.99989: 100%|██████████| 297/297 [00:07<00:00, 37.59it/s]\n",
            "val_loss 0.00122 val_acc 0.99941: 100%|██████████| 53/53 [00:01<00:00, 33.47it/s]\n"
          ]
        },
        {
          "output_type": "stream",
          "name": "stdout",
          "text": [
            "Epoch 313/1000 loss 0.00031 val_loss 0.00122 acc 0.99989 val_acc 0.99941\n"
          ]
        },
        {
          "output_type": "stream",
          "name": "stderr",
          "text": [
            "loss 0.00038 acc 0.99989: 100%|██████████| 297/297 [00:05<00:00, 52.25it/s]\n",
            "val_loss 0.00012 val_acc 1.00000: 100%|██████████| 53/53 [00:01<00:00, 50.22it/s]\n"
          ]
        },
        {
          "output_type": "stream",
          "name": "stdout",
          "text": [
            "Epoch 314/1000 loss 0.00038 val_loss 0.00012 acc 0.99989 val_acc 1.00000\n"
          ]
        },
        {
          "output_type": "stream",
          "name": "stderr",
          "text": [
            "loss 0.00022 acc 0.99989: 100%|██████████| 297/297 [00:06<00:00, 47.63it/s]\n",
            "val_loss 0.00050 val_acc 1.00000: 100%|██████████| 53/53 [00:01<00:00, 35.64it/s]\n"
          ]
        },
        {
          "output_type": "stream",
          "name": "stdout",
          "text": [
            "Epoch 315/1000 loss 0.00022 val_loss 0.00050 acc 0.99989 val_acc 1.00000\n"
          ]
        },
        {
          "output_type": "stream",
          "name": "stderr",
          "text": [
            "loss 0.00019 acc 0.99989: 100%|██████████| 297/297 [00:06<00:00, 43.34it/s]\n",
            "val_loss 0.00276 val_acc 0.99941: 100%|██████████| 53/53 [00:01<00:00, 49.39it/s]\n"
          ]
        },
        {
          "output_type": "stream",
          "name": "stdout",
          "text": [
            "Epoch 316/1000 loss 0.00019 val_loss 0.00276 acc 0.99989 val_acc 0.99941\n"
          ]
        },
        {
          "output_type": "stream",
          "name": "stderr",
          "text": [
            "loss 0.00206 acc 0.99972: 100%|██████████| 297/297 [00:05<00:00, 56.38it/s]\n",
            "val_loss 0.00099 val_acc 0.99941: 100%|██████████| 53/53 [00:01<00:00, 44.55it/s]\n"
          ]
        },
        {
          "output_type": "stream",
          "name": "stdout",
          "text": [
            "Epoch 317/1000 loss 0.00206 val_loss 0.00099 acc 0.99972 val_acc 0.99941\n"
          ]
        },
        {
          "output_type": "stream",
          "name": "stderr",
          "text": [
            "loss 0.00513 acc 0.99863: 100%|██████████| 297/297 [00:06<00:00, 44.69it/s]\n",
            "val_loss 0.00842 val_acc 0.99764: 100%|██████████| 53/53 [00:01<00:00, 35.74it/s]\n"
          ]
        },
        {
          "output_type": "stream",
          "name": "stdout",
          "text": [
            "Epoch 318/1000 loss 0.00513 val_loss 0.00842 acc 0.99863 val_acc 0.99764\n"
          ]
        },
        {
          "output_type": "stream",
          "name": "stderr",
          "text": [
            "loss 0.00059 acc 0.99989: 100%|██████████| 297/297 [00:05<00:00, 53.32it/s]\n",
            "val_loss 0.00303 val_acc 0.99941: 100%|██████████| 53/53 [00:01<00:00, 47.75it/s]\n"
          ]
        },
        {
          "output_type": "stream",
          "name": "stdout",
          "text": [
            "Epoch 319/1000 loss 0.00059 val_loss 0.00303 acc 0.99989 val_acc 0.99941\n"
          ]
        },
        {
          "output_type": "stream",
          "name": "stderr",
          "text": [
            "loss 0.00014 acc 1.00000: 100%|██████████| 297/297 [00:05<00:00, 52.67it/s]\n",
            "val_loss 0.00111 val_acc 0.99941: 100%|██████████| 53/53 [00:01<00:00, 35.71it/s]\n"
          ]
        },
        {
          "output_type": "stream",
          "name": "stdout",
          "text": [
            "Epoch 320/1000 loss 0.00014 val_loss 0.00111 acc 1.00000 val_acc 0.99941\n",
            "Checkpoint guardado en /content/drive/MyDrive/SIS421 prueba dataset 1 test/Checkpoints/checkpoint.pth (Epoch 320)\n"
          ]
        },
        {
          "output_type": "stream",
          "name": "stderr",
          "text": [
            "loss 0.00017 acc 1.00000: 100%|██████████| 297/297 [00:07<00:00, 41.08it/s]\n",
            "val_loss 0.00195 val_acc 0.99941: 100%|██████████| 53/53 [00:01<00:00, 36.38it/s]\n"
          ]
        },
        {
          "output_type": "stream",
          "name": "stdout",
          "text": [
            "Epoch 321/1000 loss 0.00017 val_loss 0.00195 acc 1.00000 val_acc 0.99941\n"
          ]
        },
        {
          "output_type": "stream",
          "name": "stderr",
          "text": [
            "loss 0.00012 acc 1.00000: 100%|██████████| 297/297 [00:05<00:00, 55.96it/s]\n",
            "val_loss 0.00796 val_acc 0.99764: 100%|██████████| 53/53 [00:01<00:00, 49.04it/s]\n"
          ]
        },
        {
          "output_type": "stream",
          "name": "stdout",
          "text": [
            "Epoch 322/1000 loss 0.00012 val_loss 0.00796 acc 1.00000 val_acc 0.99764\n"
          ]
        },
        {
          "output_type": "stream",
          "name": "stderr",
          "text": [
            "loss 0.00116 acc 0.99947: 100%|██████████| 297/297 [00:06<00:00, 47.86it/s]\n",
            "val_loss 0.00686 val_acc 0.99823: 100%|██████████| 53/53 [00:01<00:00, 36.51it/s]\n"
          ]
        },
        {
          "output_type": "stream",
          "name": "stdout",
          "text": [
            "Epoch 323/1000 loss 0.00116 val_loss 0.00686 acc 0.99947 val_acc 0.99823\n"
          ]
        },
        {
          "output_type": "stream",
          "name": "stderr",
          "text": [
            "loss 0.00040 acc 0.99989: 100%|██████████| 297/297 [00:06<00:00, 43.47it/s]\n",
            "val_loss 0.00258 val_acc 0.99941: 100%|██████████| 53/53 [00:01<00:00, 48.53it/s]\n"
          ]
        },
        {
          "output_type": "stream",
          "name": "stdout",
          "text": [
            "Epoch 324/1000 loss 0.00040 val_loss 0.00258 acc 0.99989 val_acc 0.99941\n"
          ]
        },
        {
          "output_type": "stream",
          "name": "stderr",
          "text": [
            "loss 0.00019 acc 1.00000: 100%|██████████| 297/297 [00:05<00:00, 55.25it/s]\n",
            "val_loss 0.00184 val_acc 0.99941: 100%|██████████| 53/53 [00:01<00:00, 46.12it/s]\n"
          ]
        },
        {
          "output_type": "stream",
          "name": "stdout",
          "text": [
            "Epoch 325/1000 loss 0.00019 val_loss 0.00184 acc 1.00000 val_acc 0.99941\n"
          ]
        },
        {
          "output_type": "stream",
          "name": "stderr",
          "text": [
            "loss 0.00187 acc 0.99968: 100%|██████████| 297/297 [00:07<00:00, 42.16it/s]\n",
            "val_loss 0.00168 val_acc 0.99941: 100%|██████████| 53/53 [00:01<00:00, 36.95it/s]\n"
          ]
        },
        {
          "output_type": "stream",
          "name": "stdout",
          "text": [
            "Epoch 326/1000 loss 0.00187 val_loss 0.00168 acc 0.99968 val_acc 0.99941\n"
          ]
        },
        {
          "output_type": "stream",
          "name": "stderr",
          "text": [
            "loss 0.00104 acc 0.99979: 100%|██████████| 297/297 [00:05<00:00, 54.46it/s]\n",
            "val_loss 0.00229 val_acc 0.99882: 100%|██████████| 53/53 [00:01<00:00, 46.38it/s]\n"
          ]
        },
        {
          "output_type": "stream",
          "name": "stdout",
          "text": [
            "Epoch 327/1000 loss 0.00104 val_loss 0.00229 acc 0.99979 val_acc 0.99882\n"
          ]
        },
        {
          "output_type": "stream",
          "name": "stderr",
          "text": [
            "loss 0.00075 acc 0.99979: 100%|██████████| 297/297 [00:05<00:00, 52.40it/s]\n",
            "val_loss 0.01416 val_acc 0.99764: 100%|██████████| 53/53 [00:01<00:00, 36.31it/s]\n"
          ]
        },
        {
          "output_type": "stream",
          "name": "stdout",
          "text": [
            "Epoch 328/1000 loss 0.00075 val_loss 0.01416 acc 0.99979 val_acc 0.99764\n"
          ]
        },
        {
          "output_type": "stream",
          "name": "stderr",
          "text": [
            "loss 0.00011 acc 1.00000: 100%|██████████| 297/297 [00:07<00:00, 40.59it/s]\n",
            "val_loss 0.00369 val_acc 0.99823: 100%|██████████| 53/53 [00:01<00:00, 44.72it/s]\n"
          ]
        },
        {
          "output_type": "stream",
          "name": "stdout",
          "text": [
            "Epoch 329/1000 loss 0.00011 val_loss 0.00369 acc 1.00000 val_acc 0.99823\n"
          ]
        },
        {
          "output_type": "stream",
          "name": "stderr",
          "text": [
            "loss 0.00009 acc 1.00000: 100%|██████████| 297/297 [00:05<00:00, 54.81it/s]\n",
            "val_loss 0.00325 val_acc 0.99882: 100%|██████████| 53/53 [00:01<00:00, 48.34it/s]\n"
          ]
        },
        {
          "output_type": "stream",
          "name": "stdout",
          "text": [
            "Epoch 330/1000 loss 0.00009 val_loss 0.00325 acc 1.00000 val_acc 0.99882\n"
          ]
        },
        {
          "output_type": "stream",
          "name": "stderr",
          "text": [
            "loss 0.00094 acc 0.99968: 100%|██████████| 297/297 [00:06<00:00, 47.37it/s]\n",
            "val_loss 0.00716 val_acc 0.99764: 100%|██████████| 53/53 [00:01<00:00, 35.65it/s]\n"
          ]
        },
        {
          "output_type": "stream",
          "name": "stdout",
          "text": [
            "Epoch 331/1000 loss 0.00094 val_loss 0.00716 acc 0.99968 val_acc 0.99764\n"
          ]
        },
        {
          "output_type": "stream",
          "name": "stderr",
          "text": [
            "loss 0.00031 acc 1.00000: 100%|██████████| 297/297 [00:06<00:00, 43.16it/s]\n",
            "val_loss 0.00384 val_acc 0.99882: 100%|██████████| 53/53 [00:01<00:00, 48.04it/s]\n"
          ]
        },
        {
          "output_type": "stream",
          "name": "stdout",
          "text": [
            "Epoch 332/1000 loss 0.00031 val_loss 0.00384 acc 1.00000 val_acc 0.99882\n"
          ]
        },
        {
          "output_type": "stream",
          "name": "stderr",
          "text": [
            "loss 0.00081 acc 0.99979: 100%|██████████| 297/297 [00:05<00:00, 55.10it/s]\n",
            "val_loss 0.00083 val_acc 0.99941: 100%|██████████| 53/53 [00:01<00:00, 48.68it/s]\n"
          ]
        },
        {
          "output_type": "stream",
          "name": "stdout",
          "text": [
            "Epoch 333/1000 loss 0.00081 val_loss 0.00083 acc 0.99979 val_acc 0.99941\n"
          ]
        },
        {
          "output_type": "stream",
          "name": "stderr",
          "text": [
            "loss 0.00253 acc 0.99919: 100%|██████████| 297/297 [00:06<00:00, 44.11it/s]\n",
            "val_loss 0.01253 val_acc 0.99705: 100%|██████████| 53/53 [00:01<00:00, 36.60it/s]\n"
          ]
        },
        {
          "output_type": "stream",
          "name": "stdout",
          "text": [
            "Epoch 334/1000 loss 0.00253 val_loss 0.01253 acc 0.99919 val_acc 0.99705\n"
          ]
        },
        {
          "output_type": "stream",
          "name": "stderr",
          "text": [
            "loss 0.00228 acc 0.99947: 100%|██████████| 297/297 [00:05<00:00, 51.70it/s]\n",
            "val_loss 0.00299 val_acc 0.99882: 100%|██████████| 53/53 [00:01<00:00, 47.23it/s]\n"
          ]
        },
        {
          "output_type": "stream",
          "name": "stdout",
          "text": [
            "Epoch 335/1000 loss 0.00228 val_loss 0.00299 acc 0.99947 val_acc 0.99882\n"
          ]
        },
        {
          "output_type": "stream",
          "name": "stderr",
          "text": [
            "loss 0.00147 acc 0.99947: 100%|██████████| 297/297 [00:05<00:00, 52.42it/s]\n",
            "val_loss 0.00806 val_acc 0.99705: 100%|██████████| 53/53 [00:01<00:00, 36.20it/s]\n"
          ]
        },
        {
          "output_type": "stream",
          "name": "stdout",
          "text": [
            "Epoch 336/1000 loss 0.00147 val_loss 0.00806 acc 0.99947 val_acc 0.99705\n"
          ]
        },
        {
          "output_type": "stream",
          "name": "stderr",
          "text": [
            "loss 0.00041 acc 1.00000: 100%|██████████| 297/297 [00:07<00:00, 39.42it/s]\n",
            "val_loss 0.00172 val_acc 0.99882: 100%|██████████| 53/53 [00:01<00:00, 44.19it/s]\n"
          ]
        },
        {
          "output_type": "stream",
          "name": "stdout",
          "text": [
            "Epoch 337/1000 loss 0.00041 val_loss 0.00172 acc 1.00000 val_acc 0.99882\n"
          ]
        },
        {
          "output_type": "stream",
          "name": "stderr",
          "text": [
            "loss 0.00041 acc 0.99989: 100%|██████████| 297/297 [00:06<00:00, 42.74it/s]\n",
            "val_loss 0.00211 val_acc 0.99941: 100%|██████████| 53/53 [00:01<00:00, 32.49it/s]\n"
          ]
        },
        {
          "output_type": "stream",
          "name": "stdout",
          "text": [
            "Epoch 338/1000 loss 0.00041 val_loss 0.00211 acc 0.99989 val_acc 0.99941\n"
          ]
        },
        {
          "output_type": "stream",
          "name": "stderr",
          "text": [
            "loss 0.00021 acc 0.99989: 100%|██████████| 297/297 [00:07<00:00, 40.60it/s]\n",
            "val_loss 0.00148 val_acc 0.99941: 100%|██████████| 53/53 [00:01<00:00, 39.66it/s]\n"
          ]
        },
        {
          "output_type": "stream",
          "name": "stdout",
          "text": [
            "Epoch 339/1000 loss 0.00021 val_loss 0.00148 acc 0.99989 val_acc 0.99941\n"
          ]
        },
        {
          "output_type": "stream",
          "name": "stderr",
          "text": [
            "loss 0.00247 acc 0.99909: 100%|██████████| 297/297 [00:05<00:00, 53.61it/s]\n",
            "val_loss 0.00045 val_acc 1.00000: 100%|██████████| 53/53 [00:01<00:00, 46.82it/s]\n"
          ]
        },
        {
          "output_type": "stream",
          "name": "stdout",
          "text": [
            "Epoch 340/1000 loss 0.00247 val_loss 0.00045 acc 0.99909 val_acc 1.00000\n",
            "Checkpoint guardado en /content/drive/MyDrive/SIS421 prueba dataset 1 test/Checkpoints/checkpoint.pth (Epoch 340)\n"
          ]
        },
        {
          "output_type": "stream",
          "name": "stderr",
          "text": [
            "loss 0.00221 acc 0.99947: 100%|██████████| 297/297 [00:06<00:00, 45.68it/s]\n",
            "val_loss 0.00249 val_acc 0.99882: 100%|██████████| 53/53 [00:01<00:00, 35.19it/s]\n"
          ]
        },
        {
          "output_type": "stream",
          "name": "stdout",
          "text": [
            "Epoch 341/1000 loss 0.00221 val_loss 0.00249 acc 0.99947 val_acc 0.99882\n"
          ]
        },
        {
          "output_type": "stream",
          "name": "stderr",
          "text": [
            "loss 0.00049 acc 0.99979: 100%|██████████| 297/297 [00:07<00:00, 40.03it/s]\n",
            "val_loss 0.00136 val_acc 0.99941: 100%|██████████| 53/53 [00:01<00:00, 46.85it/s]\n"
          ]
        },
        {
          "output_type": "stream",
          "name": "stdout",
          "text": [
            "Epoch 342/1000 loss 0.00049 val_loss 0.00136 acc 0.99979 val_acc 0.99941\n"
          ]
        },
        {
          "output_type": "stream",
          "name": "stderr",
          "text": [
            "loss 0.00133 acc 0.99958: 100%|██████████| 297/297 [00:05<00:00, 54.13it/s]\n",
            "val_loss 0.00244 val_acc 0.99882: 100%|██████████| 53/53 [00:01<00:00, 48.83it/s]\n"
          ]
        },
        {
          "output_type": "stream",
          "name": "stdout",
          "text": [
            "Epoch 343/1000 loss 0.00133 val_loss 0.00244 acc 0.99958 val_acc 0.99882\n"
          ]
        },
        {
          "output_type": "stream",
          "name": "stderr",
          "text": [
            "loss 0.00044 acc 0.99989: 100%|██████████| 297/297 [00:06<00:00, 46.04it/s]\n",
            "val_loss 0.00099 val_acc 0.99941: 100%|██████████| 53/53 [00:01<00:00, 37.06it/s]\n"
          ]
        },
        {
          "output_type": "stream",
          "name": "stdout",
          "text": [
            "Epoch 344/1000 loss 0.00044 val_loss 0.00099 acc 0.99989 val_acc 0.99941\n"
          ]
        },
        {
          "output_type": "stream",
          "name": "stderr",
          "text": [
            "loss 0.00030 acc 0.99989: 100%|██████████| 297/297 [00:06<00:00, 42.58it/s]\n",
            "val_loss 0.00195 val_acc 0.99941: 100%|██████████| 53/53 [00:01<00:00, 49.63it/s]\n"
          ]
        },
        {
          "output_type": "stream",
          "name": "stdout",
          "text": [
            "Epoch 345/1000 loss 0.00030 val_loss 0.00195 acc 0.99989 val_acc 0.99941\n"
          ]
        },
        {
          "output_type": "stream",
          "name": "stderr",
          "text": [
            "loss 0.00009 acc 1.00000: 100%|██████████| 297/297 [00:05<00:00, 52.87it/s]\n",
            "val_loss 0.00125 val_acc 0.99882: 100%|██████████| 53/53 [00:01<00:00, 48.05it/s]\n"
          ]
        },
        {
          "output_type": "stream",
          "name": "stdout",
          "text": [
            "Epoch 346/1000 loss 0.00009 val_loss 0.00125 acc 1.00000 val_acc 0.99882\n"
          ]
        },
        {
          "output_type": "stream",
          "name": "stderr",
          "text": [
            "loss 0.00432 acc 0.99867: 100%|██████████| 297/297 [00:06<00:00, 43.02it/s]\n",
            "val_loss 0.41463 val_acc 0.95271: 100%|██████████| 53/53 [00:01<00:00, 36.75it/s]\n"
          ]
        },
        {
          "output_type": "stream",
          "name": "stdout",
          "text": [
            "Epoch 347/1000 loss 0.00432 val_loss 0.41463 acc 0.99867 val_acc 0.95271\n"
          ]
        },
        {
          "output_type": "stream",
          "name": "stderr",
          "text": [
            "loss 0.00192 acc 0.99947: 100%|██████████| 297/297 [00:05<00:00, 55.42it/s]\n",
            "val_loss 0.00179 val_acc 0.99941: 100%|██████████| 53/53 [00:01<00:00, 51.42it/s]\n"
          ]
        },
        {
          "output_type": "stream",
          "name": "stdout",
          "text": [
            "Epoch 348/1000 loss 0.00192 val_loss 0.00179 acc 0.99947 val_acc 0.99941\n"
          ]
        },
        {
          "output_type": "stream",
          "name": "stderr",
          "text": [
            "loss 0.00034 acc 0.99989: 100%|██████████| 297/297 [00:05<00:00, 56.93it/s]\n",
            "val_loss 0.00051 val_acc 1.00000: 100%|██████████| 53/53 [00:01<00:00, 40.15it/s]\n"
          ]
        },
        {
          "output_type": "stream",
          "name": "stdout",
          "text": [
            "Epoch 349/1000 loss 0.00034 val_loss 0.00051 acc 0.99989 val_acc 1.00000\n"
          ]
        },
        {
          "output_type": "stream",
          "name": "stderr",
          "text": [
            "loss 0.00032 acc 0.99989: 100%|██████████| 297/297 [00:06<00:00, 43.16it/s]\n",
            "val_loss 0.00210 val_acc 0.99941: 100%|██████████| 53/53 [00:01<00:00, 43.06it/s]\n"
          ]
        },
        {
          "output_type": "stream",
          "name": "stdout",
          "text": [
            "Epoch 350/1000 loss 0.00032 val_loss 0.00210 acc 0.99989 val_acc 0.99941\n"
          ]
        },
        {
          "output_type": "stream",
          "name": "stderr",
          "text": [
            "loss 0.00110 acc 0.99958: 100%|██████████| 297/297 [00:05<00:00, 55.66it/s]\n",
            "val_loss 0.00636 val_acc 0.99823: 100%|██████████| 53/53 [00:01<00:00, 48.85it/s]\n"
          ]
        },
        {
          "output_type": "stream",
          "name": "stdout",
          "text": [
            "Epoch 351/1000 loss 0.00110 val_loss 0.00636 acc 0.99958 val_acc 0.99823\n"
          ]
        },
        {
          "output_type": "stream",
          "name": "stderr",
          "text": [
            "loss 0.00056 acc 0.99989: 100%|██████████| 297/297 [00:06<00:00, 46.49it/s]\n",
            "val_loss 0.00235 val_acc 0.99941: 100%|██████████| 53/53 [00:01<00:00, 34.92it/s]\n"
          ]
        },
        {
          "output_type": "stream",
          "name": "stdout",
          "text": [
            "Epoch 352/1000 loss 0.00056 val_loss 0.00235 acc 0.99989 val_acc 0.99941\n"
          ]
        },
        {
          "output_type": "stream",
          "name": "stderr",
          "text": [
            "loss 0.00284 acc 0.99884: 100%|██████████| 297/297 [00:06<00:00, 42.54it/s]\n",
            "val_loss 0.00543 val_acc 0.99941: 100%|██████████| 53/53 [00:01<00:00, 47.37it/s]\n"
          ]
        },
        {
          "output_type": "stream",
          "name": "stdout",
          "text": [
            "Epoch 353/1000 loss 0.00284 val_loss 0.00543 acc 0.99884 val_acc 0.99941\n"
          ]
        },
        {
          "output_type": "stream",
          "name": "stderr",
          "text": [
            "loss 0.00034 acc 0.99989: 100%|██████████| 297/297 [00:05<00:00, 53.11it/s]\n",
            "val_loss 0.00645 val_acc 0.99941: 100%|██████████| 53/53 [00:01<00:00, 41.97it/s]\n"
          ]
        },
        {
          "output_type": "stream",
          "name": "stdout",
          "text": [
            "Epoch 354/1000 loss 0.00034 val_loss 0.00645 acc 0.99989 val_acc 0.99941\n"
          ]
        },
        {
          "output_type": "stream",
          "name": "stderr",
          "text": [
            "loss 0.00174 acc 0.99979: 100%|██████████| 297/297 [00:07<00:00, 41.98it/s]\n",
            "val_loss 0.00673 val_acc 0.99882: 100%|██████████| 53/53 [00:01<00:00, 35.28it/s]\n"
          ]
        },
        {
          "output_type": "stream",
          "name": "stdout",
          "text": [
            "Epoch 355/1000 loss 0.00174 val_loss 0.00673 acc 0.99979 val_acc 0.99882\n"
          ]
        },
        {
          "output_type": "stream",
          "name": "stderr",
          "text": [
            "loss 0.00130 acc 0.99958: 100%|██████████| 297/297 [00:05<00:00, 54.13it/s]\n",
            "val_loss 0.00702 val_acc 0.99941: 100%|██████████| 53/53 [00:01<00:00, 47.24it/s]\n"
          ]
        },
        {
          "output_type": "stream",
          "name": "stdout",
          "text": [
            "Epoch 356/1000 loss 0.00130 val_loss 0.00702 acc 0.99958 val_acc 0.99941\n"
          ]
        },
        {
          "output_type": "stream",
          "name": "stderr",
          "text": [
            "loss 0.00070 acc 0.99968: 100%|██████████| 297/297 [00:06<00:00, 46.78it/s]\n",
            "val_loss 0.00446 val_acc 0.99882: 100%|██████████| 53/53 [00:01<00:00, 36.53it/s]\n"
          ]
        },
        {
          "output_type": "stream",
          "name": "stdout",
          "text": [
            "Epoch 357/1000 loss 0.00070 val_loss 0.00446 acc 0.99968 val_acc 0.99882\n"
          ]
        },
        {
          "output_type": "stream",
          "name": "stderr",
          "text": [
            "loss 0.00015 acc 1.00000: 100%|██████████| 297/297 [00:07<00:00, 41.67it/s]\n",
            "val_loss 0.00471 val_acc 0.99941: 100%|██████████| 53/53 [00:01<00:00, 49.50it/s]\n"
          ]
        },
        {
          "output_type": "stream",
          "name": "stdout",
          "text": [
            "Epoch 358/1000 loss 0.00015 val_loss 0.00471 acc 1.00000 val_acc 0.99941\n"
          ]
        },
        {
          "output_type": "stream",
          "name": "stderr",
          "text": [
            "loss 0.00016 acc 1.00000: 100%|██████████| 297/297 [00:05<00:00, 53.15it/s]\n",
            "val_loss 0.00408 val_acc 0.99941: 100%|██████████| 53/53 [00:01<00:00, 47.61it/s]\n"
          ]
        },
        {
          "output_type": "stream",
          "name": "stdout",
          "text": [
            "Epoch 359/1000 loss 0.00016 val_loss 0.00408 acc 1.00000 val_acc 0.99941\n"
          ]
        },
        {
          "output_type": "stream",
          "name": "stderr",
          "text": [
            "loss 0.00016 acc 1.00000: 100%|██████████| 297/297 [00:06<00:00, 43.96it/s]\n",
            "val_loss 0.00368 val_acc 0.99941: 100%|██████████| 53/53 [00:01<00:00, 37.92it/s]\n"
          ]
        },
        {
          "output_type": "stream",
          "name": "stdout",
          "text": [
            "Epoch 360/1000 loss 0.00016 val_loss 0.00368 acc 1.00000 val_acc 0.99941\n",
            "Checkpoint guardado en /content/drive/MyDrive/SIS421 prueba dataset 1 test/Checkpoints/checkpoint.pth (Epoch 360)\n"
          ]
        },
        {
          "output_type": "stream",
          "name": "stderr",
          "text": [
            "loss 0.00003 acc 1.00000: 100%|██████████| 297/297 [00:05<00:00, 52.39it/s]\n",
            "val_loss 0.00582 val_acc 0.99941: 100%|██████████| 53/53 [00:01<00:00, 48.64it/s]\n"
          ]
        },
        {
          "output_type": "stream",
          "name": "stdout",
          "text": [
            "Epoch 361/1000 loss 0.00003 val_loss 0.00582 acc 1.00000 val_acc 0.99941\n"
          ]
        },
        {
          "output_type": "stream",
          "name": "stderr",
          "text": [
            "loss 0.00111 acc 0.99972: 100%|██████████| 297/297 [00:05<00:00, 50.60it/s]\n",
            "val_loss 0.00370 val_acc 0.99941: 100%|██████████| 53/53 [00:01<00:00, 33.02it/s]\n"
          ]
        },
        {
          "output_type": "stream",
          "name": "stdout",
          "text": [
            "Epoch 362/1000 loss 0.00111 val_loss 0.00370 acc 0.99972 val_acc 0.99941\n"
          ]
        },
        {
          "output_type": "stream",
          "name": "stderr",
          "text": [
            "loss 0.00081 acc 0.99979: 100%|██████████| 297/297 [00:07<00:00, 38.44it/s]\n",
            "val_loss 0.00890 val_acc 0.99823: 100%|██████████| 53/53 [00:01<00:00, 32.75it/s]\n"
          ]
        },
        {
          "output_type": "stream",
          "name": "stdout",
          "text": [
            "Epoch 363/1000 loss 0.00081 val_loss 0.00890 acc 0.99979 val_acc 0.99823\n"
          ]
        },
        {
          "output_type": "stream",
          "name": "stderr",
          "text": [
            "loss 0.00268 acc 0.99905: 100%|██████████| 297/297 [00:07<00:00, 41.56it/s]\n",
            "val_loss 0.00073 val_acc 1.00000: 100%|██████████| 53/53 [00:01<00:00, 43.09it/s]\n"
          ]
        },
        {
          "output_type": "stream",
          "name": "stdout",
          "text": [
            "Epoch 364/1000 loss 0.00268 val_loss 0.00073 acc 0.99905 val_acc 1.00000\n"
          ]
        },
        {
          "output_type": "stream",
          "name": "stderr",
          "text": [
            "loss 0.00007 acc 1.00000: 100%|██████████| 297/297 [00:07<00:00, 42.02it/s]\n",
            "val_loss 0.00079 val_acc 0.99941: 100%|██████████| 53/53 [00:01<00:00, 34.41it/s]\n"
          ]
        },
        {
          "output_type": "stream",
          "name": "stdout",
          "text": [
            "Epoch 365/1000 loss 0.00007 val_loss 0.00079 acc 1.00000 val_acc 0.99941\n"
          ]
        },
        {
          "output_type": "stream",
          "name": "stderr",
          "text": [
            "loss 0.00062 acc 0.99979: 100%|██████████| 297/297 [00:05<00:00, 50.65it/s]\n",
            "val_loss 0.00020 val_acc 1.00000: 100%|██████████| 53/53 [00:01<00:00, 45.46it/s]\n"
          ]
        },
        {
          "output_type": "stream",
          "name": "stdout",
          "text": [
            "Epoch 366/1000 loss 0.00062 val_loss 0.00020 acc 0.99979 val_acc 1.00000\n"
          ]
        },
        {
          "output_type": "stream",
          "name": "stderr",
          "text": [
            "loss 0.00038 acc 0.99989: 100%|██████████| 297/297 [00:06<00:00, 48.68it/s]\n",
            "val_loss 0.00014 val_acc 1.00000: 100%|██████████| 53/53 [00:01<00:00, 38.42it/s]\n"
          ]
        },
        {
          "output_type": "stream",
          "name": "stdout",
          "text": [
            "Epoch 367/1000 loss 0.00038 val_loss 0.00014 acc 0.99989 val_acc 1.00000\n"
          ]
        },
        {
          "output_type": "stream",
          "name": "stderr",
          "text": [
            "loss 0.00009 acc 1.00000: 100%|██████████| 297/297 [00:07<00:00, 40.05it/s]\n",
            "val_loss 0.00010 val_acc 1.00000: 100%|██████████| 53/53 [00:01<00:00, 40.22it/s]\n"
          ]
        },
        {
          "output_type": "stream",
          "name": "stdout",
          "text": [
            "Epoch 368/1000 loss 0.00009 val_loss 0.00010 acc 1.00000 val_acc 1.00000\n"
          ]
        },
        {
          "output_type": "stream",
          "name": "stderr",
          "text": [
            "loss 0.00003 acc 1.00000: 100%|██████████| 297/297 [00:05<00:00, 54.15it/s]\n",
            "val_loss 0.00013 val_acc 1.00000: 100%|██████████| 53/53 [00:01<00:00, 46.63it/s]\n"
          ]
        },
        {
          "output_type": "stream",
          "name": "stdout",
          "text": [
            "Epoch 369/1000 loss 0.00003 val_loss 0.00013 acc 1.00000 val_acc 1.00000\n"
          ]
        },
        {
          "output_type": "stream",
          "name": "stderr",
          "text": [
            "loss 0.00119 acc 0.99958: 100%|██████████| 297/297 [00:06<00:00, 45.57it/s]\n",
            "val_loss 0.00100 val_acc 0.99941: 100%|██████████| 53/53 [00:01<00:00, 35.42it/s]\n"
          ]
        },
        {
          "output_type": "stream",
          "name": "stdout",
          "text": [
            "Epoch 370/1000 loss 0.00119 val_loss 0.00100 acc 0.99958 val_acc 0.99941\n"
          ]
        },
        {
          "output_type": "stream",
          "name": "stderr",
          "text": [
            "loss 0.00199 acc 0.99937: 100%|██████████| 297/297 [00:07<00:00, 40.04it/s]\n",
            "val_loss 0.00013 val_acc 1.00000: 100%|██████████| 53/53 [00:01<00:00, 47.37it/s]\n"
          ]
        },
        {
          "output_type": "stream",
          "name": "stdout",
          "text": [
            "Epoch 371/1000 loss 0.00199 val_loss 0.00013 acc 0.99937 val_acc 1.00000\n"
          ]
        },
        {
          "output_type": "stream",
          "name": "stderr",
          "text": [
            "loss 0.00164 acc 0.99930: 100%|██████████| 297/297 [00:05<00:00, 55.70it/s]\n",
            "val_loss 0.07118 val_acc 0.98054: 100%|██████████| 53/53 [00:01<00:00, 48.11it/s]\n"
          ]
        },
        {
          "output_type": "stream",
          "name": "stdout",
          "text": [
            "Epoch 372/1000 loss 0.00164 val_loss 0.07118 acc 0.99930 val_acc 0.98054\n"
          ]
        },
        {
          "output_type": "stream",
          "name": "stderr",
          "text": [
            "loss 0.00098 acc 0.99958: 100%|██████████| 297/297 [00:06<00:00, 44.71it/s]\n",
            "val_loss 0.00007 val_acc 1.00000: 100%|██████████| 53/53 [00:01<00:00, 35.01it/s]\n"
          ]
        },
        {
          "output_type": "stream",
          "name": "stdout",
          "text": [
            "Epoch 373/1000 loss 0.00098 val_loss 0.00007 acc 0.99958 val_acc 1.00000\n"
          ]
        },
        {
          "output_type": "stream",
          "name": "stderr",
          "text": [
            "loss 0.00380 acc 0.99961: 100%|██████████| 297/297 [00:05<00:00, 52.22it/s]\n",
            "val_loss 0.00203 val_acc 0.99882: 100%|██████████| 53/53 [00:01<00:00, 48.50it/s]\n"
          ]
        },
        {
          "output_type": "stream",
          "name": "stdout",
          "text": [
            "Epoch 374/1000 loss 0.00380 val_loss 0.00203 acc 0.99961 val_acc 0.99882\n"
          ]
        },
        {
          "output_type": "stream",
          "name": "stderr",
          "text": [
            "loss 0.00052 acc 0.99989: 100%|██████████| 297/297 [00:06<00:00, 49.36it/s]\n",
            "val_loss 0.00150 val_acc 0.99882: 100%|██████████| 53/53 [00:01<00:00, 37.79it/s]\n"
          ]
        },
        {
          "output_type": "stream",
          "name": "stdout",
          "text": [
            "Epoch 375/1000 loss 0.00052 val_loss 0.00150 acc 0.99989 val_acc 0.99882\n"
          ]
        },
        {
          "output_type": "stream",
          "name": "stderr",
          "text": [
            "loss 0.00046 acc 0.99961: 100%|██████████| 297/297 [00:07<00:00, 40.93it/s]\n",
            "val_loss 0.00099 val_acc 0.99941: 100%|██████████| 53/53 [00:01<00:00, 48.32it/s]\n"
          ]
        },
        {
          "output_type": "stream",
          "name": "stdout",
          "text": [
            "Epoch 376/1000 loss 0.00046 val_loss 0.00099 acc 0.99961 val_acc 0.99941\n"
          ]
        },
        {
          "output_type": "stream",
          "name": "stderr",
          "text": [
            "loss 0.00174 acc 0.99937: 100%|██████████| 297/297 [00:05<00:00, 54.54it/s]\n",
            "val_loss 0.01068 val_acc 0.99705: 100%|██████████| 53/53 [00:01<00:00, 48.47it/s]\n"
          ]
        },
        {
          "output_type": "stream",
          "name": "stdout",
          "text": [
            "Epoch 377/1000 loss 0.00174 val_loss 0.01068 acc 0.99937 val_acc 0.99705\n"
          ]
        },
        {
          "output_type": "stream",
          "name": "stderr",
          "text": [
            "loss 0.00048 acc 0.99989: 100%|██████████| 297/297 [00:06<00:00, 43.94it/s]\n",
            "val_loss 0.00038 val_acc 1.00000: 100%|██████████| 53/53 [00:01<00:00, 35.41it/s]\n"
          ]
        },
        {
          "output_type": "stream",
          "name": "stdout",
          "text": [
            "Epoch 378/1000 loss 0.00048 val_loss 0.00038 acc 0.99989 val_acc 1.00000\n"
          ]
        },
        {
          "output_type": "stream",
          "name": "stderr",
          "text": [
            "loss 0.00134 acc 0.99958: 100%|██████████| 297/297 [00:05<00:00, 51.35it/s]\n",
            "val_loss 0.02031 val_acc 0.99410: 100%|██████████| 53/53 [00:01<00:00, 45.66it/s]\n"
          ]
        },
        {
          "output_type": "stream",
          "name": "stdout",
          "text": [
            "Epoch 379/1000 loss 0.00134 val_loss 0.02031 acc 0.99958 val_acc 0.99410\n"
          ]
        },
        {
          "output_type": "stream",
          "name": "stderr",
          "text": [
            "loss 0.00094 acc 0.99979: 100%|██████████| 297/297 [00:06<00:00, 48.12it/s]\n",
            "val_loss 0.00018 val_acc 1.00000: 100%|██████████| 53/53 [00:01<00:00, 36.21it/s]\n"
          ]
        },
        {
          "output_type": "stream",
          "name": "stdout",
          "text": [
            "Epoch 380/1000 loss 0.00094 val_loss 0.00018 acc 0.99979 val_acc 1.00000\n",
            "Checkpoint guardado en /content/drive/MyDrive/SIS421 prueba dataset 1 test/Checkpoints/checkpoint.pth (Epoch 380)\n"
          ]
        },
        {
          "output_type": "stream",
          "name": "stderr",
          "text": [
            "loss 0.00010 acc 1.00000: 100%|██████████| 297/297 [00:07<00:00, 38.67it/s]\n",
            "val_loss 0.00022 val_acc 1.00000: 100%|██████████| 53/53 [00:01<00:00, 45.24it/s]\n"
          ]
        },
        {
          "output_type": "stream",
          "name": "stdout",
          "text": [
            "Epoch 381/1000 loss 0.00010 val_loss 0.00022 acc 1.00000 val_acc 1.00000\n"
          ]
        },
        {
          "output_type": "stream",
          "name": "stderr",
          "text": [
            "loss 0.00132 acc 0.99968: 100%|██████████| 297/297 [00:05<00:00, 52.37it/s]\n",
            "val_loss 0.00205 val_acc 0.99941: 100%|██████████| 53/53 [00:01<00:00, 47.53it/s]\n"
          ]
        },
        {
          "output_type": "stream",
          "name": "stdout",
          "text": [
            "Epoch 382/1000 loss 0.00132 val_loss 0.00205 acc 0.99968 val_acc 0.99941\n"
          ]
        },
        {
          "output_type": "stream",
          "name": "stderr",
          "text": [
            "loss 0.00024 acc 0.99989: 100%|██████████| 297/297 [00:06<00:00, 43.66it/s]\n",
            "val_loss 0.00006 val_acc 1.00000: 100%|██████████| 53/53 [00:01<00:00, 34.35it/s]\n"
          ]
        },
        {
          "output_type": "stream",
          "name": "stdout",
          "text": [
            "Epoch 383/1000 loss 0.00024 val_loss 0.00006 acc 0.99989 val_acc 1.00000\n"
          ]
        },
        {
          "output_type": "stream",
          "name": "stderr",
          "text": [
            "loss 0.00013 acc 1.00000: 100%|██████████| 297/297 [00:06<00:00, 48.86it/s]\n",
            "val_loss 0.00012 val_acc 1.00000: 100%|██████████| 53/53 [00:01<00:00, 48.47it/s]\n"
          ]
        },
        {
          "output_type": "stream",
          "name": "stdout",
          "text": [
            "Epoch 384/1000 loss 0.00013 val_loss 0.00012 acc 1.00000 val_acc 1.00000\n"
          ]
        },
        {
          "output_type": "stream",
          "name": "stderr",
          "text": [
            "loss 0.00204 acc 0.99968: 100%|██████████| 297/297 [00:05<00:00, 50.23it/s]\n",
            "val_loss 0.00202 val_acc 0.99882: 100%|██████████| 53/53 [00:01<00:00, 37.19it/s]\n"
          ]
        },
        {
          "output_type": "stream",
          "name": "stdout",
          "text": [
            "Epoch 385/1000 loss 0.00204 val_loss 0.00202 acc 0.99968 val_acc 0.99882\n"
          ]
        },
        {
          "output_type": "stream",
          "name": "stderr",
          "text": [
            "loss 0.00067 acc 0.99979: 100%|██████████| 297/297 [00:07<00:00, 41.76it/s]\n",
            "val_loss 0.00005 val_acc 1.00000: 100%|██████████| 53/53 [00:01<00:00, 37.49it/s]\n"
          ]
        },
        {
          "output_type": "stream",
          "name": "stdout",
          "text": [
            "Epoch 386/1000 loss 0.00067 val_loss 0.00005 acc 0.99979 val_acc 1.00000\n"
          ]
        },
        {
          "output_type": "stream",
          "name": "stderr",
          "text": [
            "loss 0.00021 acc 0.99989: 100%|██████████| 297/297 [00:05<00:00, 51.26it/s]\n",
            "val_loss 0.00003 val_acc 1.00000: 100%|██████████| 53/53 [00:01<00:00, 38.60it/s]\n"
          ]
        },
        {
          "output_type": "stream",
          "name": "stdout",
          "text": [
            "Epoch 387/1000 loss 0.00021 val_loss 0.00003 acc 0.99989 val_acc 1.00000\n"
          ]
        },
        {
          "output_type": "stream",
          "name": "stderr",
          "text": [
            "loss 0.00009 acc 1.00000: 100%|██████████| 297/297 [00:07<00:00, 40.15it/s]\n",
            "val_loss 0.00017 val_acc 1.00000: 100%|██████████| 53/53 [00:01<00:00, 34.90it/s]\n"
          ]
        },
        {
          "output_type": "stream",
          "name": "stdout",
          "text": [
            "Epoch 388/1000 loss 0.00009 val_loss 0.00017 acc 1.00000 val_acc 1.00000\n"
          ]
        },
        {
          "output_type": "stream",
          "name": "stderr",
          "text": [
            "loss 0.00030 acc 0.99989: 100%|██████████| 297/297 [00:07<00:00, 42.27it/s]\n",
            "val_loss 0.00116 val_acc 0.99941: 100%|██████████| 53/53 [00:01<00:00, 51.71it/s]\n"
          ]
        },
        {
          "output_type": "stream",
          "name": "stdout",
          "text": [
            "Epoch 389/1000 loss 0.00030 val_loss 0.00116 acc 0.99989 val_acc 0.99941\n"
          ]
        },
        {
          "output_type": "stream",
          "name": "stderr",
          "text": [
            "loss 0.00005 acc 1.00000: 100%|██████████| 297/297 [00:05<00:00, 56.36it/s]\n",
            "val_loss 0.00005 val_acc 1.00000: 100%|██████████| 53/53 [00:01<00:00, 47.18it/s]\n"
          ]
        },
        {
          "output_type": "stream",
          "name": "stdout",
          "text": [
            "Epoch 390/1000 loss 0.00005 val_loss 0.00005 acc 1.00000 val_acc 1.00000\n"
          ]
        },
        {
          "output_type": "stream",
          "name": "stderr",
          "text": [
            "loss 0.00094 acc 0.99979: 100%|██████████| 297/297 [00:06<00:00, 45.31it/s]\n",
            "val_loss 0.00030 val_acc 1.00000: 100%|██████████| 53/53 [00:01<00:00, 36.02it/s]\n"
          ]
        },
        {
          "output_type": "stream",
          "name": "stdout",
          "text": [
            "Epoch 391/1000 loss 0.00094 val_loss 0.00030 acc 0.99979 val_acc 1.00000\n"
          ]
        },
        {
          "output_type": "stream",
          "name": "stderr",
          "text": [
            "loss 0.00205 acc 0.99958: 100%|██████████| 297/297 [00:05<00:00, 53.03it/s]\n",
            "val_loss 0.00098 val_acc 0.99941: 100%|██████████| 53/53 [00:01<00:00, 47.51it/s]\n"
          ]
        },
        {
          "output_type": "stream",
          "name": "stdout",
          "text": [
            "Epoch 392/1000 loss 0.00205 val_loss 0.00098 acc 0.99958 val_acc 0.99941\n"
          ]
        },
        {
          "output_type": "stream",
          "name": "stderr",
          "text": [
            "loss 0.00079 acc 0.99979: 100%|██████████| 297/297 [00:05<00:00, 52.10it/s]\n",
            "val_loss 0.00010 val_acc 1.00000: 100%|██████████| 53/53 [00:01<00:00, 35.72it/s]\n"
          ]
        },
        {
          "output_type": "stream",
          "name": "stdout",
          "text": [
            "Epoch 393/1000 loss 0.00079 val_loss 0.00010 acc 0.99979 val_acc 1.00000\n"
          ]
        },
        {
          "output_type": "stream",
          "name": "stderr",
          "text": [
            "loss 0.00008 acc 1.00000: 100%|██████████| 297/297 [00:07<00:00, 40.34it/s]\n",
            "val_loss 0.00004 val_acc 1.00000: 100%|██████████| 53/53 [00:01<00:00, 41.54it/s]\n"
          ]
        },
        {
          "output_type": "stream",
          "name": "stdout",
          "text": [
            "Epoch 394/1000 loss 0.00008 val_loss 0.00004 acc 1.00000 val_acc 1.00000\n"
          ]
        },
        {
          "output_type": "stream",
          "name": "stderr",
          "text": [
            "loss 0.00008 acc 1.00000: 100%|██████████| 297/297 [00:05<00:00, 54.19it/s]\n",
            "val_loss 0.00008 val_acc 1.00000: 100%|██████████| 53/53 [00:01<00:00, 48.18it/s]\n"
          ]
        },
        {
          "output_type": "stream",
          "name": "stdout",
          "text": [
            "Epoch 395/1000 loss 0.00008 val_loss 0.00008 acc 1.00000 val_acc 1.00000\n"
          ]
        },
        {
          "output_type": "stream",
          "name": "stderr",
          "text": [
            "loss 0.00136 acc 0.99958: 100%|██████████| 297/297 [00:06<00:00, 46.43it/s]\n",
            "val_loss 0.00005 val_acc 1.00000: 100%|██████████| 53/53 [00:01<00:00, 33.68it/s]\n"
          ]
        },
        {
          "output_type": "stream",
          "name": "stdout",
          "text": [
            "Epoch 396/1000 loss 0.00136 val_loss 0.00005 acc 0.99958 val_acc 1.00000\n"
          ]
        },
        {
          "output_type": "stream",
          "name": "stderr",
          "text": [
            "loss 0.00039 acc 0.99989: 100%|██████████| 297/297 [00:06<00:00, 42.47it/s]\n",
            "val_loss 0.00005 val_acc 1.00000: 100%|██████████| 53/53 [00:01<00:00, 48.27it/s]\n"
          ]
        },
        {
          "output_type": "stream",
          "name": "stdout",
          "text": [
            "Epoch 397/1000 loss 0.00039 val_loss 0.00005 acc 0.99989 val_acc 1.00000\n"
          ]
        },
        {
          "output_type": "stream",
          "name": "stderr",
          "text": [
            "loss 0.00004 acc 1.00000: 100%|██████████| 297/297 [00:05<00:00, 54.96it/s]\n",
            "val_loss 0.00032 val_acc 1.00000: 100%|██████████| 53/53 [00:01<00:00, 38.88it/s]\n"
          ]
        },
        {
          "output_type": "stream",
          "name": "stdout",
          "text": [
            "Epoch 398/1000 loss 0.00004 val_loss 0.00032 acc 1.00000 val_acc 1.00000\n"
          ]
        },
        {
          "output_type": "stream",
          "name": "stderr",
          "text": [
            "loss 0.00002 acc 1.00000: 100%|██████████| 297/297 [00:07<00:00, 41.05it/s]\n",
            "val_loss 0.00022 val_acc 1.00000: 100%|██████████| 53/53 [00:01<00:00, 35.38it/s]\n"
          ]
        },
        {
          "output_type": "stream",
          "name": "stdout",
          "text": [
            "Epoch 399/1000 loss 0.00002 val_loss 0.00022 acc 1.00000 val_acc 1.00000\n"
          ]
        },
        {
          "output_type": "stream",
          "name": "stderr",
          "text": [
            "loss 0.00148 acc 0.99979: 100%|██████████| 297/297 [00:05<00:00, 49.78it/s]\n",
            "val_loss 0.00008 val_acc 1.00000: 100%|██████████| 53/53 [00:01<00:00, 46.67it/s]\n"
          ]
        },
        {
          "output_type": "stream",
          "name": "stdout",
          "text": [
            "Epoch 400/1000 loss 0.00148 val_loss 0.00008 acc 0.99979 val_acc 1.00000\n",
            "Checkpoint guardado en /content/drive/MyDrive/SIS421 prueba dataset 1 test/Checkpoints/checkpoint.pth (Epoch 400)\n"
          ]
        },
        {
          "output_type": "stream",
          "name": "stderr",
          "text": [
            "loss 0.00187 acc 0.99937: 100%|██████████| 297/297 [00:06<00:00, 49.16it/s]\n",
            "val_loss 0.00010 val_acc 1.00000: 100%|██████████| 53/53 [00:01<00:00, 35.64it/s]\n"
          ]
        },
        {
          "output_type": "stream",
          "name": "stdout",
          "text": [
            "Epoch 401/1000 loss 0.00187 val_loss 0.00010 acc 0.99937 val_acc 1.00000\n"
          ]
        },
        {
          "output_type": "stream",
          "name": "stderr",
          "text": [
            "loss 0.00302 acc 0.99947: 100%|██████████| 297/297 [00:07<00:00, 41.55it/s]\n",
            "val_loss 0.00267 val_acc 0.99941: 100%|██████████| 53/53 [00:01<00:00, 33.18it/s]\n"
          ]
        },
        {
          "output_type": "stream",
          "name": "stdout",
          "text": [
            "Epoch 402/1000 loss 0.00302 val_loss 0.00267 acc 0.99947 val_acc 0.99941\n"
          ]
        },
        {
          "output_type": "stream",
          "name": "stderr",
          "text": [
            "loss 0.00146 acc 0.99958: 100%|██████████| 297/297 [00:05<00:00, 52.82it/s]\n",
            "val_loss 0.00002 val_acc 1.00000: 100%|██████████| 53/53 [00:01<00:00, 47.30it/s]\n"
          ]
        },
        {
          "output_type": "stream",
          "name": "stdout",
          "text": [
            "Epoch 403/1000 loss 0.00146 val_loss 0.00002 acc 0.99958 val_acc 1.00000\n"
          ]
        },
        {
          "output_type": "stream",
          "name": "stderr",
          "text": [
            "loss 0.00078 acc 0.99968: 100%|██████████| 297/297 [00:06<00:00, 47.17it/s]\n",
            "val_loss 0.00009 val_acc 1.00000: 100%|██████████| 53/53 [00:01<00:00, 35.97it/s]\n"
          ]
        },
        {
          "output_type": "stream",
          "name": "stdout",
          "text": [
            "Epoch 404/1000 loss 0.00078 val_loss 0.00009 acc 0.99968 val_acc 1.00000\n"
          ]
        },
        {
          "output_type": "stream",
          "name": "stderr",
          "text": [
            "loss 0.00047 acc 0.99979: 100%|██████████| 297/297 [00:07<00:00, 41.06it/s]\n",
            "val_loss 0.00001 val_acc 1.00000: 100%|██████████| 53/53 [00:01<00:00, 46.55it/s]\n"
          ]
        },
        {
          "output_type": "stream",
          "name": "stdout",
          "text": [
            "Epoch 405/1000 loss 0.00047 val_loss 0.00001 acc 0.99979 val_acc 1.00000\n"
          ]
        },
        {
          "output_type": "stream",
          "name": "stderr",
          "text": [
            "loss 0.00113 acc 0.99968: 100%|██████████| 297/297 [00:05<00:00, 52.88it/s]\n",
            "val_loss 0.00005 val_acc 1.00000: 100%|██████████| 53/53 [00:01<00:00, 44.39it/s]\n"
          ]
        },
        {
          "output_type": "stream",
          "name": "stdout",
          "text": [
            "Epoch 406/1000 loss 0.00113 val_loss 0.00005 acc 0.99968 val_acc 1.00000\n"
          ]
        },
        {
          "output_type": "stream",
          "name": "stderr",
          "text": [
            "loss 0.00025 acc 0.99989: 100%|██████████| 297/297 [00:07<00:00, 41.94it/s]\n",
            "val_loss 0.00003 val_acc 1.00000: 100%|██████████| 53/53 [00:01<00:00, 36.34it/s]\n"
          ]
        },
        {
          "output_type": "stream",
          "name": "stdout",
          "text": [
            "Epoch 407/1000 loss 0.00025 val_loss 0.00003 acc 0.99989 val_acc 1.00000\n"
          ]
        },
        {
          "output_type": "stream",
          "name": "stderr",
          "text": [
            "loss 0.00009 acc 1.00000: 100%|██████████| 297/297 [00:05<00:00, 51.06it/s]\n",
            "val_loss 0.00000 val_acc 1.00000: 100%|██████████| 53/53 [00:01<00:00, 48.64it/s]\n"
          ]
        },
        {
          "output_type": "stream",
          "name": "stdout",
          "text": [
            "Epoch 408/1000 loss 0.00009 val_loss 0.00000 acc 1.00000 val_acc 1.00000\n"
          ]
        },
        {
          "output_type": "stream",
          "name": "stderr",
          "text": [
            "loss 0.00253 acc 0.99940: 100%|██████████| 297/297 [00:05<00:00, 50.94it/s]\n",
            "val_loss 0.00047 val_acc 1.00000: 100%|██████████| 53/53 [00:01<00:00, 37.55it/s]\n"
          ]
        },
        {
          "output_type": "stream",
          "name": "stdout",
          "text": [
            "Epoch 409/1000 loss 0.00253 val_loss 0.00047 acc 0.99940 val_acc 1.00000\n"
          ]
        },
        {
          "output_type": "stream",
          "name": "stderr",
          "text": [
            "loss 0.00246 acc 0.99895: 100%|██████████| 297/297 [00:07<00:00, 39.17it/s]\n",
            "val_loss 0.00022 val_acc 1.00000: 100%|██████████| 53/53 [00:01<00:00, 40.24it/s]\n"
          ]
        },
        {
          "output_type": "stream",
          "name": "stdout",
          "text": [
            "Epoch 410/1000 loss 0.00246 val_loss 0.00022 acc 0.99895 val_acc 1.00000\n"
          ]
        },
        {
          "output_type": "stream",
          "name": "stderr",
          "text": [
            "loss 0.00188 acc 0.99947: 100%|██████████| 297/297 [00:05<00:00, 53.29it/s]\n",
            "val_loss 0.00003 val_acc 1.00000: 100%|██████████| 53/53 [00:01<00:00, 45.84it/s]\n"
          ]
        },
        {
          "output_type": "stream",
          "name": "stdout",
          "text": [
            "Epoch 411/1000 loss 0.00188 val_loss 0.00003 acc 0.99947 val_acc 1.00000\n"
          ]
        },
        {
          "output_type": "stream",
          "name": "stderr",
          "text": [
            "loss 0.00063 acc 0.99979: 100%|██████████| 297/297 [00:07<00:00, 40.57it/s]\n",
            "val_loss 0.00010 val_acc 1.00000: 100%|██████████| 53/53 [00:01<00:00, 33.15it/s]\n"
          ]
        },
        {
          "output_type": "stream",
          "name": "stdout",
          "text": [
            "Epoch 412/1000 loss 0.00063 val_loss 0.00010 acc 0.99979 val_acc 1.00000\n"
          ]
        },
        {
          "output_type": "stream",
          "name": "stderr",
          "text": [
            "loss 0.00027 acc 0.99989: 100%|██████████| 297/297 [00:07<00:00, 39.47it/s]\n",
            "val_loss 0.00028 val_acc 1.00000: 100%|██████████| 53/53 [00:01<00:00, 40.82it/s]\n"
          ]
        },
        {
          "output_type": "stream",
          "name": "stdout",
          "text": [
            "Epoch 413/1000 loss 0.00027 val_loss 0.00028 acc 0.99989 val_acc 1.00000\n"
          ]
        },
        {
          "output_type": "stream",
          "name": "stderr",
          "text": [
            "loss 0.00033 acc 0.99989: 100%|██████████| 297/297 [00:05<00:00, 51.47it/s]\n",
            "val_loss 0.00068 val_acc 0.99941: 100%|██████████| 53/53 [00:01<00:00, 49.24it/s]\n"
          ]
        },
        {
          "output_type": "stream",
          "name": "stdout",
          "text": [
            "Epoch 414/1000 loss 0.00033 val_loss 0.00068 acc 0.99989 val_acc 0.99941\n"
          ]
        },
        {
          "output_type": "stream",
          "name": "stderr",
          "text": [
            "loss 0.00004 acc 1.00000: 100%|██████████| 297/297 [00:06<00:00, 45.04it/s]\n",
            "val_loss 0.00023 val_acc 1.00000: 100%|██████████| 53/53 [00:01<00:00, 35.45it/s]\n"
          ]
        },
        {
          "output_type": "stream",
          "name": "stdout",
          "text": [
            "Epoch 415/1000 loss 0.00004 val_loss 0.00023 acc 1.00000 val_acc 1.00000\n"
          ]
        },
        {
          "output_type": "stream",
          "name": "stderr",
          "text": [
            "loss 0.00014 acc 1.00000: 100%|██████████| 297/297 [00:05<00:00, 51.87it/s]\n",
            "val_loss 0.00066 val_acc 0.99941: 100%|██████████| 53/53 [00:01<00:00, 46.18it/s]\n"
          ]
        },
        {
          "output_type": "stream",
          "name": "stdout",
          "text": [
            "Epoch 416/1000 loss 0.00014 val_loss 0.00066 acc 1.00000 val_acc 0.99941\n"
          ]
        },
        {
          "output_type": "stream",
          "name": "stderr",
          "text": [
            "loss 0.00008 acc 1.00000: 100%|██████████| 297/297 [00:05<00:00, 52.81it/s]\n",
            "val_loss 0.00100 val_acc 0.99941: 100%|██████████| 53/53 [00:01<00:00, 36.73it/s]\n"
          ]
        },
        {
          "output_type": "stream",
          "name": "stdout",
          "text": [
            "Epoch 417/1000 loss 0.00008 val_loss 0.00100 acc 1.00000 val_acc 0.99941\n"
          ]
        },
        {
          "output_type": "stream",
          "name": "stderr",
          "text": [
            "loss 0.00032 acc 0.99989: 100%|██████████| 297/297 [00:07<00:00, 40.52it/s]\n",
            "val_loss 0.00107 val_acc 0.99941: 100%|██████████| 53/53 [00:01<00:00, 37.02it/s]\n"
          ]
        },
        {
          "output_type": "stream",
          "name": "stdout",
          "text": [
            "Epoch 418/1000 loss 0.00032 val_loss 0.00107 acc 0.99989 val_acc 0.99941\n"
          ]
        },
        {
          "output_type": "stream",
          "name": "stderr",
          "text": [
            "loss 0.00058 acc 0.99979: 100%|██████████| 297/297 [00:05<00:00, 54.65it/s]\n",
            "val_loss 0.00014 val_acc 1.00000: 100%|██████████| 53/53 [00:01<00:00, 49.52it/s]\n"
          ]
        },
        {
          "output_type": "stream",
          "name": "stdout",
          "text": [
            "Epoch 419/1000 loss 0.00058 val_loss 0.00014 acc 0.99979 val_acc 1.00000\n"
          ]
        },
        {
          "output_type": "stream",
          "name": "stderr",
          "text": [
            "loss 0.00018 acc 0.99989: 100%|██████████| 297/297 [00:06<00:00, 46.00it/s]\n",
            "val_loss 0.00058 val_acc 1.00000: 100%|██████████| 53/53 [00:01<00:00, 34.78it/s]\n"
          ]
        },
        {
          "output_type": "stream",
          "name": "stdout",
          "text": [
            "Epoch 420/1000 loss 0.00018 val_loss 0.00058 acc 0.99989 val_acc 1.00000\n",
            "Checkpoint guardado en /content/drive/MyDrive/SIS421 prueba dataset 1 test/Checkpoints/checkpoint.pth (Epoch 420)\n"
          ]
        },
        {
          "output_type": "stream",
          "name": "stderr",
          "text": [
            "loss 0.00003 acc 1.00000: 100%|██████████| 297/297 [00:06<00:00, 43.48it/s]\n",
            "val_loss 0.00047 val_acc 1.00000: 100%|██████████| 53/53 [00:01<00:00, 47.52it/s]\n"
          ]
        },
        {
          "output_type": "stream",
          "name": "stdout",
          "text": [
            "Epoch 421/1000 loss 0.00003 val_loss 0.00047 acc 1.00000 val_acc 1.00000\n"
          ]
        },
        {
          "output_type": "stream",
          "name": "stderr",
          "text": [
            "loss 0.00025 acc 0.99979: 100%|██████████| 297/297 [00:05<00:00, 53.51it/s]\n",
            "val_loss 0.00692 val_acc 0.99941: 100%|██████████| 53/53 [00:01<00:00, 45.27it/s]\n"
          ]
        },
        {
          "output_type": "stream",
          "name": "stdout",
          "text": [
            "Epoch 422/1000 loss 0.00025 val_loss 0.00692 acc 0.99979 val_acc 0.99941\n"
          ]
        },
        {
          "output_type": "stream",
          "name": "stderr",
          "text": [
            "loss 0.00012 acc 1.00000: 100%|██████████| 297/297 [00:06<00:00, 44.19it/s]\n",
            "val_loss 0.00043 val_acc 1.00000: 100%|██████████| 53/53 [00:01<00:00, 34.56it/s]\n"
          ]
        },
        {
          "output_type": "stream",
          "name": "stdout",
          "text": [
            "Epoch 423/1000 loss 0.00012 val_loss 0.00043 acc 1.00000 val_acc 1.00000\n"
          ]
        },
        {
          "output_type": "stream",
          "name": "stderr",
          "text": [
            "loss 0.00012 acc 1.00000: 100%|██████████| 297/297 [00:05<00:00, 50.56it/s]\n",
            "val_loss 0.00083 val_acc 0.99941: 100%|██████████| 53/53 [00:01<00:00, 47.08it/s]\n"
          ]
        },
        {
          "output_type": "stream",
          "name": "stdout",
          "text": [
            "Epoch 424/1000 loss 0.00012 val_loss 0.00083 acc 1.00000 val_acc 0.99941\n"
          ]
        },
        {
          "output_type": "stream",
          "name": "stderr",
          "text": [
            "loss 0.00283 acc 0.99919: 100%|██████████| 297/297 [00:06<00:00, 48.88it/s]\n",
            "val_loss 0.00215 val_acc 0.99941: 100%|██████████| 53/53 [00:01<00:00, 37.78it/s]\n"
          ]
        },
        {
          "output_type": "stream",
          "name": "stdout",
          "text": [
            "Epoch 425/1000 loss 0.00283 val_loss 0.00215 acc 0.99919 val_acc 0.99941\n"
          ]
        },
        {
          "output_type": "stream",
          "name": "stderr",
          "text": [
            "loss 0.00122 acc 0.99947: 100%|██████████| 297/297 [00:07<00:00, 41.20it/s]\n",
            "val_loss 0.00003 val_acc 1.00000: 100%|██████████| 53/53 [00:01<00:00, 39.85it/s]\n"
          ]
        },
        {
          "output_type": "stream",
          "name": "stdout",
          "text": [
            "Epoch 426/1000 loss 0.00122 val_loss 0.00003 acc 0.99947 val_acc 1.00000\n"
          ]
        },
        {
          "output_type": "stream",
          "name": "stderr",
          "text": [
            "loss 0.00198 acc 0.99937: 100%|██████████| 297/297 [00:05<00:00, 54.55it/s]\n",
            "val_loss 0.00116 val_acc 0.99941: 100%|██████████| 53/53 [00:01<00:00, 47.43it/s]\n"
          ]
        },
        {
          "output_type": "stream",
          "name": "stdout",
          "text": [
            "Epoch 427/1000 loss 0.00198 val_loss 0.00116 acc 0.99937 val_acc 0.99941\n"
          ]
        },
        {
          "output_type": "stream",
          "name": "stderr",
          "text": [
            "loss 0.00025 acc 0.99989: 100%|██████████| 297/297 [00:06<00:00, 45.45it/s]\n",
            "val_loss 0.00212 val_acc 0.99941: 100%|██████████| 53/53 [00:01<00:00, 34.08it/s]\n"
          ]
        },
        {
          "output_type": "stream",
          "name": "stdout",
          "text": [
            "Epoch 428/1000 loss 0.00025 val_loss 0.00212 acc 0.99989 val_acc 0.99941\n"
          ]
        },
        {
          "output_type": "stream",
          "name": "stderr",
          "text": [
            "loss 0.00113 acc 0.99958: 100%|██████████| 297/297 [00:07<00:00, 41.58it/s]\n",
            "val_loss 0.00035 val_acc 1.00000: 100%|██████████| 53/53 [00:01<00:00, 46.99it/s]\n"
          ]
        },
        {
          "output_type": "stream",
          "name": "stdout",
          "text": [
            "Epoch 429/1000 loss 0.00113 val_loss 0.00035 acc 0.99958 val_acc 1.00000\n"
          ]
        },
        {
          "output_type": "stream",
          "name": "stderr",
          "text": [
            "loss 0.00022 acc 0.99989: 100%|██████████| 297/297 [00:05<00:00, 51.45it/s]\n",
            "val_loss 0.00022 val_acc 1.00000: 100%|██████████| 53/53 [00:01<00:00, 46.05it/s]\n"
          ]
        },
        {
          "output_type": "stream",
          "name": "stdout",
          "text": [
            "Epoch 430/1000 loss 0.00022 val_loss 0.00022 acc 0.99989 val_acc 1.00000\n"
          ]
        },
        {
          "output_type": "stream",
          "name": "stderr",
          "text": [
            "loss 0.00003 acc 1.00000: 100%|██████████| 297/297 [00:07<00:00, 39.33it/s]\n",
            "val_loss 0.00018 val_acc 1.00000: 100%|██████████| 53/53 [00:01<00:00, 37.24it/s]\n"
          ]
        },
        {
          "output_type": "stream",
          "name": "stdout",
          "text": [
            "Epoch 431/1000 loss 0.00003 val_loss 0.00018 acc 1.00000 val_acc 1.00000\n"
          ]
        },
        {
          "output_type": "stream",
          "name": "stderr",
          "text": [
            "loss 0.00045 acc 0.99979: 100%|██████████| 297/297 [00:05<00:00, 52.52it/s]\n",
            "val_loss 0.00317 val_acc 0.99941: 100%|██████████| 53/53 [00:01<00:00, 47.28it/s]\n"
          ]
        },
        {
          "output_type": "stream",
          "name": "stdout",
          "text": [
            "Epoch 432/1000 loss 0.00045 val_loss 0.00317 acc 0.99979 val_acc 0.99941\n"
          ]
        },
        {
          "output_type": "stream",
          "name": "stderr",
          "text": [
            "loss 0.00013 acc 1.00000: 100%|██████████| 297/297 [00:06<00:00, 46.63it/s]\n",
            "val_loss 0.00122 val_acc 0.99941: 100%|██████████| 53/53 [00:01<00:00, 32.25it/s]\n"
          ]
        },
        {
          "output_type": "stream",
          "name": "stdout",
          "text": [
            "Epoch 433/1000 loss 0.00013 val_loss 0.00122 acc 1.00000 val_acc 0.99941\n"
          ]
        },
        {
          "output_type": "stream",
          "name": "stderr",
          "text": [
            "loss 0.00001 acc 1.00000: 100%|██████████| 297/297 [00:07<00:00, 39.80it/s]\n",
            "val_loss 0.00175 val_acc 0.99941: 100%|██████████| 53/53 [00:01<00:00, 40.63it/s]\n"
          ]
        },
        {
          "output_type": "stream",
          "name": "stdout",
          "text": [
            "Epoch 434/1000 loss 0.00001 val_loss 0.00175 acc 1.00000 val_acc 0.99941\n"
          ]
        },
        {
          "output_type": "stream",
          "name": "stderr",
          "text": [
            "loss 0.00005 acc 1.00000: 100%|██████████| 297/297 [00:05<00:00, 52.73it/s]\n",
            "val_loss 0.00127 val_acc 0.99941: 100%|██████████| 53/53 [00:01<00:00, 45.12it/s]\n"
          ]
        },
        {
          "output_type": "stream",
          "name": "stdout",
          "text": [
            "Epoch 435/1000 loss 0.00005 val_loss 0.00127 acc 1.00000 val_acc 0.99941\n"
          ]
        },
        {
          "output_type": "stream",
          "name": "stderr",
          "text": [
            "loss 0.00005 acc 1.00000: 100%|██████████| 297/297 [00:06<00:00, 43.87it/s]\n",
            "val_loss 0.00227 val_acc 0.99941: 100%|██████████| 53/53 [00:01<00:00, 31.39it/s]\n"
          ]
        },
        {
          "output_type": "stream",
          "name": "stdout",
          "text": [
            "Epoch 436/1000 loss 0.00005 val_loss 0.00227 acc 1.00000 val_acc 0.99941\n"
          ]
        },
        {
          "output_type": "stream",
          "name": "stderr",
          "text": [
            "loss 0.00004 acc 1.00000: 100%|██████████| 297/297 [00:07<00:00, 38.05it/s]\n",
            "val_loss 0.00090 val_acc 0.99941: 100%|██████████| 53/53 [00:01<00:00, 36.54it/s]\n"
          ]
        },
        {
          "output_type": "stream",
          "name": "stdout",
          "text": [
            "Epoch 437/1000 loss 0.00004 val_loss 0.00090 acc 1.00000 val_acc 0.99941\n"
          ]
        },
        {
          "output_type": "stream",
          "name": "stderr",
          "text": [
            "loss 0.00044 acc 0.99968: 100%|██████████| 297/297 [00:06<00:00, 47.63it/s]\n",
            "val_loss 0.00189 val_acc 0.99882: 100%|██████████| 53/53 [00:01<00:00, 39.35it/s]\n"
          ]
        },
        {
          "output_type": "stream",
          "name": "stdout",
          "text": [
            "Epoch 438/1000 loss 0.00044 val_loss 0.00189 acc 0.99968 val_acc 0.99882\n"
          ]
        },
        {
          "output_type": "stream",
          "name": "stderr",
          "text": [
            "loss 0.00004 acc 1.00000: 100%|██████████| 297/297 [00:06<00:00, 45.41it/s]\n",
            "val_loss 0.00119 val_acc 0.99941: 100%|██████████| 53/53 [00:01<00:00, 34.35it/s]\n"
          ]
        },
        {
          "output_type": "stream",
          "name": "stdout",
          "text": [
            "Epoch 439/1000 loss 0.00004 val_loss 0.00119 acc 1.00000 val_acc 0.99941\n"
          ]
        },
        {
          "output_type": "stream",
          "name": "stderr",
          "text": [
            "loss 0.00399 acc 0.99926: 100%|██████████| 297/297 [00:06<00:00, 49.18it/s]\n",
            "val_loss 0.00051 val_acc 1.00000: 100%|██████████| 53/53 [00:01<00:00, 46.10it/s]\n"
          ]
        },
        {
          "output_type": "stream",
          "name": "stdout",
          "text": [
            "Epoch 440/1000 loss 0.00399 val_loss 0.00051 acc 0.99926 val_acc 1.00000\n",
            "Checkpoint guardado en /content/drive/MyDrive/SIS421 prueba dataset 1 test/Checkpoints/checkpoint.pth (Epoch 440)\n"
          ]
        },
        {
          "output_type": "stream",
          "name": "stderr",
          "text": [
            "loss 0.00366 acc 0.99926: 100%|██████████| 297/297 [00:06<00:00, 48.68it/s]\n",
            "val_loss 0.00011 val_acc 1.00000: 100%|██████████| 53/53 [00:01<00:00, 33.73it/s]\n"
          ]
        },
        {
          "output_type": "stream",
          "name": "stdout",
          "text": [
            "Epoch 441/1000 loss 0.00366 val_loss 0.00011 acc 0.99926 val_acc 1.00000\n"
          ]
        },
        {
          "output_type": "stream",
          "name": "stderr",
          "text": [
            "loss 0.00017 acc 1.00000: 100%|██████████| 297/297 [00:07<00:00, 38.64it/s]\n",
            "val_loss 0.00028 val_acc 1.00000: 100%|██████████| 53/53 [00:01<00:00, 43.39it/s]\n"
          ]
        },
        {
          "output_type": "stream",
          "name": "stdout",
          "text": [
            "Epoch 442/1000 loss 0.00017 val_loss 0.00028 acc 1.00000 val_acc 1.00000\n"
          ]
        },
        {
          "output_type": "stream",
          "name": "stderr",
          "text": [
            "loss 0.00011 acc 1.00000: 100%|██████████| 297/297 [00:05<00:00, 52.17it/s]\n",
            "val_loss 0.00049 val_acc 1.00000: 100%|██████████| 53/53 [00:01<00:00, 45.81it/s]\n"
          ]
        },
        {
          "output_type": "stream",
          "name": "stdout",
          "text": [
            "Epoch 443/1000 loss 0.00011 val_loss 0.00049 acc 1.00000 val_acc 1.00000\n"
          ]
        },
        {
          "output_type": "stream",
          "name": "stderr",
          "text": [
            "loss 0.00001 acc 1.00000: 100%|██████████| 297/297 [00:06<00:00, 43.98it/s]\n",
            "val_loss 0.00017 val_acc 1.00000: 100%|██████████| 53/53 [00:01<00:00, 34.30it/s]\n"
          ]
        },
        {
          "output_type": "stream",
          "name": "stdout",
          "text": [
            "Epoch 444/1000 loss 0.00001 val_loss 0.00017 acc 1.00000 val_acc 1.00000\n"
          ]
        },
        {
          "output_type": "stream",
          "name": "stderr",
          "text": [
            "loss 0.00078 acc 0.99989: 100%|██████████| 297/297 [00:06<00:00, 48.94it/s]\n",
            "val_loss 0.00307 val_acc 0.99823: 100%|██████████| 53/53 [00:01<00:00, 46.17it/s]\n"
          ]
        },
        {
          "output_type": "stream",
          "name": "stdout",
          "text": [
            "Epoch 445/1000 loss 0.00078 val_loss 0.00307 acc 0.99989 val_acc 0.99823\n"
          ]
        },
        {
          "output_type": "stream",
          "name": "stderr",
          "text": [
            "loss 0.00015 acc 1.00000: 100%|██████████| 297/297 [00:06<00:00, 46.72it/s]\n",
            "val_loss 0.00044 val_acc 1.00000: 100%|██████████| 53/53 [00:01<00:00, 33.72it/s]\n"
          ]
        },
        {
          "output_type": "stream",
          "name": "stdout",
          "text": [
            "Epoch 446/1000 loss 0.00015 val_loss 0.00044 acc 1.00000 val_acc 1.00000\n"
          ]
        },
        {
          "output_type": "stream",
          "name": "stderr",
          "text": [
            "loss 0.00024 acc 0.99989: 100%|██████████| 297/297 [00:07<00:00, 40.08it/s]\n",
            "val_loss 0.00227 val_acc 0.99941: 100%|██████████| 53/53 [00:01<00:00, 45.19it/s]\n"
          ]
        },
        {
          "output_type": "stream",
          "name": "stdout",
          "text": [
            "Epoch 447/1000 loss 0.00024 val_loss 0.00227 acc 0.99989 val_acc 0.99941\n"
          ]
        },
        {
          "output_type": "stream",
          "name": "stderr",
          "text": [
            "loss 0.00012 acc 1.00000: 100%|██████████| 297/297 [00:05<00:00, 53.65it/s]\n",
            "val_loss 0.00047 val_acc 1.00000: 100%|██████████| 53/53 [00:01<00:00, 48.82it/s]\n"
          ]
        },
        {
          "output_type": "stream",
          "name": "stdout",
          "text": [
            "Epoch 448/1000 loss 0.00012 val_loss 0.00047 acc 1.00000 val_acc 1.00000\n"
          ]
        },
        {
          "output_type": "stream",
          "name": "stderr",
          "text": [
            "loss 0.00006 acc 1.00000: 100%|██████████| 297/297 [00:06<00:00, 42.52it/s]\n",
            "val_loss 0.00048 val_acc 1.00000: 100%|██████████| 53/53 [00:01<00:00, 35.37it/s]\n"
          ]
        },
        {
          "output_type": "stream",
          "name": "stdout",
          "text": [
            "Epoch 449/1000 loss 0.00006 val_loss 0.00048 acc 1.00000 val_acc 1.00000\n"
          ]
        },
        {
          "output_type": "stream",
          "name": "stderr",
          "text": [
            "loss 0.00002 acc 1.00000: 100%|██████████| 297/297 [00:05<00:00, 51.00it/s]\n",
            "val_loss 0.00104 val_acc 0.99941: 100%|██████████| 53/53 [00:01<00:00, 46.49it/s]\n"
          ]
        },
        {
          "output_type": "stream",
          "name": "stdout",
          "text": [
            "Epoch 450/1000 loss 0.00002 val_loss 0.00104 acc 1.00000 val_acc 0.99941\n"
          ]
        },
        {
          "output_type": "stream",
          "name": "stderr",
          "text": [
            "loss 0.00025 acc 1.00000: 100%|██████████| 297/297 [00:05<00:00, 50.35it/s]\n",
            "val_loss 0.00225 val_acc 0.99882: 100%|██████████| 53/53 [00:01<00:00, 33.90it/s]\n"
          ]
        },
        {
          "output_type": "stream",
          "name": "stdout",
          "text": [
            "Epoch 451/1000 loss 0.00025 val_loss 0.00225 acc 1.00000 val_acc 0.99882\n"
          ]
        },
        {
          "output_type": "stream",
          "name": "stderr",
          "text": [
            "loss 0.00014 acc 1.00000: 100%|██████████| 297/297 [00:06<00:00, 42.51it/s]\n",
            "val_loss 0.00053 val_acc 1.00000: 100%|██████████| 53/53 [00:01<00:00, 38.85it/s]\n"
          ]
        },
        {
          "output_type": "stream",
          "name": "stdout",
          "text": [
            "Epoch 452/1000 loss 0.00014 val_loss 0.00053 acc 1.00000 val_acc 1.00000\n"
          ]
        },
        {
          "output_type": "stream",
          "name": "stderr",
          "text": [
            "loss 0.00150 acc 0.99968: 100%|██████████| 297/297 [00:05<00:00, 54.33it/s]\n",
            "val_loss 0.00171 val_acc 0.99823: 100%|██████████| 53/53 [00:01<00:00, 45.49it/s]\n"
          ]
        },
        {
          "output_type": "stream",
          "name": "stdout",
          "text": [
            "Epoch 453/1000 loss 0.00150 val_loss 0.00171 acc 0.99968 val_acc 0.99823\n"
          ]
        },
        {
          "output_type": "stream",
          "name": "stderr",
          "text": [
            "loss 0.00122 acc 0.99968: 100%|██████████| 297/297 [00:06<00:00, 45.20it/s]\n",
            "val_loss 0.00025 val_acc 1.00000: 100%|██████████| 53/53 [00:01<00:00, 33.02it/s]\n"
          ]
        },
        {
          "output_type": "stream",
          "name": "stdout",
          "text": [
            "Epoch 454/1000 loss 0.00122 val_loss 0.00025 acc 0.99968 val_acc 1.00000\n"
          ]
        },
        {
          "output_type": "stream",
          "name": "stderr",
          "text": [
            "loss 0.00027 acc 1.00000: 100%|██████████| 297/297 [00:05<00:00, 49.71it/s]\n",
            "val_loss 0.00105 val_acc 0.99941: 100%|██████████| 53/53 [00:01<00:00, 46.81it/s]\n"
          ]
        },
        {
          "output_type": "stream",
          "name": "stdout",
          "text": [
            "Epoch 455/1000 loss 0.00027 val_loss 0.00105 acc 1.00000 val_acc 0.99941\n"
          ]
        },
        {
          "output_type": "stream",
          "name": "stderr",
          "text": [
            "loss 0.00082 acc 0.99968: 100%|██████████| 297/297 [00:05<00:00, 50.64it/s]\n",
            "val_loss 0.00225 val_acc 0.99882: 100%|██████████| 53/53 [00:01<00:00, 35.54it/s]\n"
          ]
        },
        {
          "output_type": "stream",
          "name": "stdout",
          "text": [
            "Epoch 456/1000 loss 0.00082 val_loss 0.00225 acc 0.99968 val_acc 0.99882\n"
          ]
        },
        {
          "output_type": "stream",
          "name": "stderr",
          "text": [
            "loss 0.00128 acc 0.99958: 100%|██████████| 297/297 [00:07<00:00, 40.28it/s]\n",
            "val_loss 0.00366 val_acc 0.99882: 100%|██████████| 53/53 [00:01<00:00, 36.86it/s]\n"
          ]
        },
        {
          "output_type": "stream",
          "name": "stdout",
          "text": [
            "Epoch 457/1000 loss 0.00128 val_loss 0.00366 acc 0.99958 val_acc 0.99882\n"
          ]
        },
        {
          "output_type": "stream",
          "name": "stderr",
          "text": [
            "loss 0.00079 acc 0.99968: 100%|██████████| 297/297 [00:05<00:00, 50.28it/s]\n",
            "val_loss 0.00015 val_acc 1.00000: 100%|██████████| 53/53 [00:01<00:00, 46.89it/s]\n"
          ]
        },
        {
          "output_type": "stream",
          "name": "stdout",
          "text": [
            "Epoch 458/1000 loss 0.00079 val_loss 0.00015 acc 0.99968 val_acc 1.00000\n"
          ]
        },
        {
          "output_type": "stream",
          "name": "stderr",
          "text": [
            "loss 0.00051 acc 0.99979: 100%|██████████| 297/297 [00:06<00:00, 44.26it/s]\n",
            "val_loss 0.00016 val_acc 1.00000: 100%|██████████| 53/53 [00:01<00:00, 34.31it/s]\n"
          ]
        },
        {
          "output_type": "stream",
          "name": "stdout",
          "text": [
            "Epoch 459/1000 loss 0.00051 val_loss 0.00016 acc 0.99979 val_acc 1.00000\n"
          ]
        },
        {
          "output_type": "stream",
          "name": "stderr",
          "text": [
            "loss 0.00063 acc 0.99979: 100%|██████████| 297/297 [00:06<00:00, 43.67it/s]\n",
            "val_loss 0.00027 val_acc 1.00000: 100%|██████████| 53/53 [00:01<00:00, 32.01it/s]\n"
          ]
        },
        {
          "output_type": "stream",
          "name": "stdout",
          "text": [
            "Epoch 460/1000 loss 0.00063 val_loss 0.00027 acc 0.99979 val_acc 1.00000\n",
            "Checkpoint guardado en /content/drive/MyDrive/SIS421 prueba dataset 1 test/Checkpoints/checkpoint.pth (Epoch 460)\n"
          ]
        },
        {
          "output_type": "stream",
          "name": "stderr",
          "text": [
            "loss 0.00032 acc 0.99979: 100%|██████████| 297/297 [00:07<00:00, 37.28it/s]\n",
            "val_loss 0.00005 val_acc 1.00000: 100%|██████████| 53/53 [00:01<00:00, 33.36it/s]\n"
          ]
        },
        {
          "output_type": "stream",
          "name": "stdout",
          "text": [
            "Epoch 461/1000 loss 0.00032 val_loss 0.00005 acc 0.99979 val_acc 1.00000\n"
          ]
        },
        {
          "output_type": "stream",
          "name": "stderr",
          "text": [
            "loss 0.00026 acc 1.00000: 100%|██████████| 297/297 [00:07<00:00, 38.01it/s]\n",
            "val_loss 0.00027 val_acc 1.00000: 100%|██████████| 53/53 [00:01<00:00, 38.87it/s]\n"
          ]
        },
        {
          "output_type": "stream",
          "name": "stdout",
          "text": [
            "Epoch 462/1000 loss 0.00026 val_loss 0.00027 acc 1.00000 val_acc 1.00000\n"
          ]
        },
        {
          "output_type": "stream",
          "name": "stderr",
          "text": [
            "loss 0.00008 acc 1.00000: 100%|██████████| 297/297 [00:05<00:00, 49.92it/s]\n",
            "val_loss 0.00217 val_acc 0.99882: 100%|██████████| 53/53 [00:01<00:00, 44.46it/s]\n"
          ]
        },
        {
          "output_type": "stream",
          "name": "stdout",
          "text": [
            "Epoch 463/1000 loss 0.00008 val_loss 0.00217 acc 1.00000 val_acc 0.99882\n"
          ]
        },
        {
          "output_type": "stream",
          "name": "stderr",
          "text": [
            "loss 0.00013 acc 1.00000: 100%|██████████| 297/297 [00:07<00:00, 42.11it/s]\n",
            "val_loss 0.00104 val_acc 0.99941: 100%|██████████| 53/53 [00:01<00:00, 34.68it/s]\n"
          ]
        },
        {
          "output_type": "stream",
          "name": "stdout",
          "text": [
            "Epoch 464/1000 loss 0.00013 val_loss 0.00104 acc 1.00000 val_acc 0.99941\n"
          ]
        },
        {
          "output_type": "stream",
          "name": "stderr",
          "text": [
            "loss 0.00009 acc 1.00000: 100%|██████████| 297/297 [00:05<00:00, 49.79it/s]\n",
            "val_loss 0.00075 val_acc 1.00000: 100%|██████████| 53/53 [00:01<00:00, 44.69it/s]\n"
          ]
        },
        {
          "output_type": "stream",
          "name": "stdout",
          "text": [
            "Epoch 465/1000 loss 0.00009 val_loss 0.00075 acc 1.00000 val_acc 1.00000\n"
          ]
        },
        {
          "output_type": "stream",
          "name": "stderr",
          "text": [
            "loss 0.00086 acc 0.99979: 100%|██████████| 297/297 [00:06<00:00, 45.44it/s]\n",
            "val_loss 0.00038 val_acc 1.00000: 100%|██████████| 53/53 [00:01<00:00, 36.11it/s]\n"
          ]
        },
        {
          "output_type": "stream",
          "name": "stdout",
          "text": [
            "Epoch 466/1000 loss 0.00086 val_loss 0.00038 acc 0.99979 val_acc 1.00000\n"
          ]
        },
        {
          "output_type": "stream",
          "name": "stderr",
          "text": [
            "loss 0.00012 acc 1.00000: 100%|██████████| 297/297 [00:06<00:00, 43.68it/s]\n",
            "val_loss 0.00030 val_acc 1.00000: 100%|██████████| 53/53 [00:01<00:00, 46.00it/s]\n"
          ]
        },
        {
          "output_type": "stream",
          "name": "stdout",
          "text": [
            "Epoch 467/1000 loss 0.00012 val_loss 0.00030 acc 1.00000 val_acc 1.00000\n"
          ]
        },
        {
          "output_type": "stream",
          "name": "stderr",
          "text": [
            "loss 0.00007 acc 1.00000: 100%|██████████| 297/297 [00:05<00:00, 52.30it/s]\n",
            "val_loss 0.00015 val_acc 1.00000: 100%|██████████| 53/53 [00:01<00:00, 43.82it/s]\n"
          ]
        },
        {
          "output_type": "stream",
          "name": "stdout",
          "text": [
            "Epoch 468/1000 loss 0.00007 val_loss 0.00015 acc 1.00000 val_acc 1.00000\n"
          ]
        },
        {
          "output_type": "stream",
          "name": "stderr",
          "text": [
            "loss 0.00003 acc 1.00000: 100%|██████████| 297/297 [00:07<00:00, 42.42it/s]\n",
            "val_loss 0.00049 val_acc 0.99941: 100%|██████████| 53/53 [00:01<00:00, 36.22it/s]\n"
          ]
        },
        {
          "output_type": "stream",
          "name": "stdout",
          "text": [
            "Epoch 469/1000 loss 0.00003 val_loss 0.00049 acc 1.00000 val_acc 0.99941\n"
          ]
        },
        {
          "output_type": "stream",
          "name": "stderr",
          "text": [
            "loss 0.00073 acc 0.99979: 100%|██████████| 297/297 [00:05<00:00, 55.42it/s]\n",
            "val_loss 0.00151 val_acc 0.99882: 100%|██████████| 53/53 [00:01<00:00, 51.27it/s]\n"
          ]
        },
        {
          "output_type": "stream",
          "name": "stdout",
          "text": [
            "Epoch 470/1000 loss 0.00073 val_loss 0.00151 acc 0.99979 val_acc 0.99882\n"
          ]
        },
        {
          "output_type": "stream",
          "name": "stderr",
          "text": [
            "loss 0.00101 acc 0.99968: 100%|██████████| 297/297 [00:05<00:00, 53.11it/s]\n",
            "val_loss 0.00120 val_acc 0.99941: 100%|██████████| 53/53 [00:01<00:00, 37.42it/s]\n"
          ]
        },
        {
          "output_type": "stream",
          "name": "stdout",
          "text": [
            "Epoch 471/1000 loss 0.00101 val_loss 0.00120 acc 0.99968 val_acc 0.99941\n"
          ]
        },
        {
          "output_type": "stream",
          "name": "stderr",
          "text": [
            "loss 0.00456 acc 0.99884: 100%|██████████| 297/297 [00:06<00:00, 43.94it/s]\n",
            "val_loss 0.02070 val_acc 0.99410: 100%|██████████| 53/53 [00:01<00:00, 40.57it/s]\n"
          ]
        },
        {
          "output_type": "stream",
          "name": "stdout",
          "text": [
            "Epoch 472/1000 loss 0.00456 val_loss 0.02070 acc 0.99884 val_acc 0.99410\n"
          ]
        },
        {
          "output_type": "stream",
          "name": "stderr",
          "text": [
            "loss 0.00017 acc 1.00000: 100%|██████████| 297/297 [00:05<00:00, 54.46it/s]\n",
            "val_loss 0.00272 val_acc 0.99823: 100%|██████████| 53/53 [00:01<00:00, 49.33it/s]\n"
          ]
        },
        {
          "output_type": "stream",
          "name": "stdout",
          "text": [
            "Epoch 473/1000 loss 0.00017 val_loss 0.00272 acc 1.00000 val_acc 0.99823\n"
          ]
        },
        {
          "output_type": "stream",
          "name": "stderr",
          "text": [
            "loss 0.00160 acc 0.99958: 100%|██████████| 297/297 [00:06<00:00, 48.22it/s]\n",
            "val_loss 0.00221 val_acc 0.99941: 100%|██████████| 53/53 [00:01<00:00, 34.53it/s]\n"
          ]
        },
        {
          "output_type": "stream",
          "name": "stdout",
          "text": [
            "Epoch 474/1000 loss 0.00160 val_loss 0.00221 acc 0.99958 val_acc 0.99941\n"
          ]
        },
        {
          "output_type": "stream",
          "name": "stderr",
          "text": [
            "loss 0.00093 acc 0.99979: 100%|██████████| 297/297 [00:06<00:00, 43.93it/s]\n",
            "val_loss 0.00631 val_acc 0.99882: 100%|██████████| 53/53 [00:01<00:00, 41.84it/s]\n"
          ]
        },
        {
          "output_type": "stream",
          "name": "stdout",
          "text": [
            "Epoch 475/1000 loss 0.00093 val_loss 0.00631 acc 0.99979 val_acc 0.99882\n"
          ]
        },
        {
          "output_type": "stream",
          "name": "stderr",
          "text": [
            "loss 0.00155 acc 0.99968: 100%|██████████| 297/297 [00:05<00:00, 55.21it/s]\n",
            "val_loss 0.00127 val_acc 0.99941: 100%|██████████| 53/53 [00:01<00:00, 46.34it/s]\n"
          ]
        },
        {
          "output_type": "stream",
          "name": "stdout",
          "text": [
            "Epoch 476/1000 loss 0.00155 val_loss 0.00127 acc 0.99968 val_acc 0.99941\n"
          ]
        },
        {
          "output_type": "stream",
          "name": "stderr",
          "text": [
            "loss 0.00501 acc 0.99961: 100%|██████████| 297/297 [00:06<00:00, 44.56it/s]\n",
            "val_loss 0.00212 val_acc 0.99882: 100%|██████████| 53/53 [00:01<00:00, 36.38it/s]\n"
          ]
        },
        {
          "output_type": "stream",
          "name": "stdout",
          "text": [
            "Epoch 477/1000 loss 0.00501 val_loss 0.00212 acc 0.99961 val_acc 0.99882\n"
          ]
        },
        {
          "output_type": "stream",
          "name": "stderr",
          "text": [
            "loss 0.00051 acc 0.99979: 100%|██████████| 297/297 [00:06<00:00, 46.70it/s]\n",
            "val_loss 0.00287 val_acc 0.99823: 100%|██████████| 53/53 [00:01<00:00, 46.42it/s]\n"
          ]
        },
        {
          "output_type": "stream",
          "name": "stdout",
          "text": [
            "Epoch 478/1000 loss 0.00051 val_loss 0.00287 acc 0.99979 val_acc 0.99823\n"
          ]
        },
        {
          "output_type": "stream",
          "name": "stderr",
          "text": [
            "loss 0.00179 acc 0.99926: 100%|██████████| 297/297 [00:05<00:00, 50.07it/s]\n",
            "val_loss 0.00052 val_acc 1.00000: 100%|██████████| 53/53 [00:01<00:00, 32.85it/s]\n"
          ]
        },
        {
          "output_type": "stream",
          "name": "stdout",
          "text": [
            "Epoch 479/1000 loss 0.00179 val_loss 0.00052 acc 0.99926 val_acc 1.00000\n"
          ]
        },
        {
          "output_type": "stream",
          "name": "stderr",
          "text": [
            "loss 0.00006 acc 1.00000: 100%|██████████| 297/297 [00:07<00:00, 39.72it/s]\n",
            "val_loss 0.00117 val_acc 0.99882: 100%|██████████| 53/53 [00:01<00:00, 40.97it/s]\n"
          ]
        },
        {
          "output_type": "stream",
          "name": "stdout",
          "text": [
            "Epoch 480/1000 loss 0.00006 val_loss 0.00117 acc 1.00000 val_acc 0.99882\n",
            "Checkpoint guardado en /content/drive/MyDrive/SIS421 prueba dataset 1 test/Checkpoints/checkpoint.pth (Epoch 480)\n"
          ]
        },
        {
          "output_type": "stream",
          "name": "stderr",
          "text": [
            "loss 0.00126 acc 0.99947: 100%|██████████| 297/297 [00:05<00:00, 52.83it/s]\n",
            "val_loss 0.00018 val_acc 1.00000: 100%|██████████| 53/53 [00:01<00:00, 47.49it/s]\n"
          ]
        },
        {
          "output_type": "stream",
          "name": "stdout",
          "text": [
            "Epoch 481/1000 loss 0.00126 val_loss 0.00018 acc 0.99947 val_acc 1.00000\n"
          ]
        },
        {
          "output_type": "stream",
          "name": "stderr",
          "text": [
            "loss 0.00073 acc 0.99968: 100%|██████████| 297/297 [00:06<00:00, 43.86it/s]\n",
            "val_loss 0.00048 val_acc 0.99941: 100%|██████████| 53/53 [00:01<00:00, 34.09it/s]\n"
          ]
        },
        {
          "output_type": "stream",
          "name": "stdout",
          "text": [
            "Epoch 482/1000 loss 0.00073 val_loss 0.00048 acc 0.99968 val_acc 0.99941\n"
          ]
        },
        {
          "output_type": "stream",
          "name": "stderr",
          "text": [
            "loss 0.00146 acc 0.99947: 100%|██████████| 297/297 [00:06<00:00, 46.97it/s]\n",
            "val_loss 0.00055 val_acc 0.99941: 100%|██████████| 53/53 [00:01<00:00, 45.69it/s]\n"
          ]
        },
        {
          "output_type": "stream",
          "name": "stdout",
          "text": [
            "Epoch 483/1000 loss 0.00146 val_loss 0.00055 acc 0.99947 val_acc 0.99941\n"
          ]
        },
        {
          "output_type": "stream",
          "name": "stderr",
          "text": [
            "loss 0.00095 acc 0.99958: 100%|██████████| 297/297 [00:05<00:00, 51.28it/s]\n",
            "val_loss 0.00451 val_acc 0.99882: 100%|██████████| 53/53 [00:01<00:00, 31.68it/s]\n"
          ]
        },
        {
          "output_type": "stream",
          "name": "stdout",
          "text": [
            "Epoch 484/1000 loss 0.00095 val_loss 0.00451 acc 0.99958 val_acc 0.99882\n"
          ]
        },
        {
          "output_type": "stream",
          "name": "stderr",
          "text": [
            "loss 0.00042 acc 0.99968: 100%|██████████| 297/297 [00:07<00:00, 38.43it/s]\n",
            "val_loss 0.00092 val_acc 0.99941: 100%|██████████| 53/53 [00:01<00:00, 29.76it/s]\n"
          ]
        },
        {
          "output_type": "stream",
          "name": "stdout",
          "text": [
            "Epoch 485/1000 loss 0.00042 val_loss 0.00092 acc 0.99968 val_acc 0.99941\n"
          ]
        },
        {
          "output_type": "stream",
          "name": "stderr",
          "text": [
            "loss 0.00032 acc 0.99979: 100%|██████████| 297/297 [00:06<00:00, 47.10it/s]\n",
            "val_loss 0.00256 val_acc 0.99941: 100%|██████████| 53/53 [00:01<00:00, 41.18it/s]\n"
          ]
        },
        {
          "output_type": "stream",
          "name": "stdout",
          "text": [
            "Epoch 486/1000 loss 0.00032 val_loss 0.00256 acc 0.99979 val_acc 0.99941\n"
          ]
        },
        {
          "output_type": "stream",
          "name": "stderr",
          "text": [
            "loss 0.00022 acc 0.99989: 100%|██████████| 297/297 [00:06<00:00, 42.83it/s]\n",
            "val_loss 0.00050 val_acc 0.99941: 100%|██████████| 53/53 [00:01<00:00, 33.10it/s]\n"
          ]
        },
        {
          "output_type": "stream",
          "name": "stdout",
          "text": [
            "Epoch 487/1000 loss 0.00022 val_loss 0.00050 acc 0.99989 val_acc 0.99941\n"
          ]
        },
        {
          "output_type": "stream",
          "name": "stderr",
          "text": [
            "loss 0.00104 acc 0.99979: 100%|██████████| 297/297 [00:06<00:00, 48.00it/s]\n",
            "val_loss 0.00003 val_acc 1.00000: 100%|██████████| 53/53 [00:01<00:00, 46.65it/s]\n"
          ]
        },
        {
          "output_type": "stream",
          "name": "stdout",
          "text": [
            "Epoch 488/1000 loss 0.00104 val_loss 0.00003 acc 0.99979 val_acc 1.00000\n"
          ]
        },
        {
          "output_type": "stream",
          "name": "stderr",
          "text": [
            "loss 0.00029 acc 0.99979: 100%|██████████| 297/297 [00:06<00:00, 49.17it/s]\n",
            "val_loss 0.00211 val_acc 0.99941: 100%|██████████| 53/53 [00:01<00:00, 35.48it/s]\n"
          ]
        },
        {
          "output_type": "stream",
          "name": "stdout",
          "text": [
            "Epoch 489/1000 loss 0.00029 val_loss 0.00211 acc 0.99979 val_acc 0.99941\n"
          ]
        },
        {
          "output_type": "stream",
          "name": "stderr",
          "text": [
            "loss 0.00016 acc 1.00000: 100%|██████████| 297/297 [00:07<00:00, 40.89it/s]\n",
            "val_loss 0.00012 val_acc 1.00000: 100%|██████████| 53/53 [00:01<00:00, 38.17it/s]\n"
          ]
        },
        {
          "output_type": "stream",
          "name": "stdout",
          "text": [
            "Epoch 490/1000 loss 0.00016 val_loss 0.00012 acc 1.00000 val_acc 1.00000\n"
          ]
        },
        {
          "output_type": "stream",
          "name": "stderr",
          "text": [
            "loss 0.00061 acc 0.99989: 100%|██████████| 297/297 [00:06<00:00, 49.19it/s]\n",
            "val_loss 0.00002 val_acc 1.00000: 100%|██████████| 53/53 [00:01<00:00, 43.84it/s]\n"
          ]
        },
        {
          "output_type": "stream",
          "name": "stdout",
          "text": [
            "Epoch 491/1000 loss 0.00061 val_loss 0.00002 acc 0.99989 val_acc 1.00000\n"
          ]
        },
        {
          "output_type": "stream",
          "name": "stderr",
          "text": [
            "loss 0.00048 acc 0.99968: 100%|██████████| 297/297 [00:06<00:00, 44.88it/s]\n",
            "val_loss 0.00000 val_acc 1.00000: 100%|██████████| 53/53 [00:01<00:00, 35.28it/s]\n"
          ]
        },
        {
          "output_type": "stream",
          "name": "stdout",
          "text": [
            "Epoch 492/1000 loss 0.00048 val_loss 0.00000 acc 0.99968 val_acc 1.00000\n"
          ]
        },
        {
          "output_type": "stream",
          "name": "stderr",
          "text": [
            "loss 0.00021 acc 0.99989: 100%|██████████| 297/297 [00:06<00:00, 44.09it/s]\n",
            "val_loss 0.00072 val_acc 0.99941: 100%|██████████| 53/53 [00:01<00:00, 38.05it/s]\n"
          ]
        },
        {
          "output_type": "stream",
          "name": "stdout",
          "text": [
            "Epoch 493/1000 loss 0.00021 val_loss 0.00072 acc 0.99989 val_acc 0.99941\n"
          ]
        },
        {
          "output_type": "stream",
          "name": "stderr",
          "text": [
            "loss 0.00005 acc 1.00000: 100%|██████████| 297/297 [00:06<00:00, 49.01it/s]\n",
            "val_loss 0.00002 val_acc 1.00000: 100%|██████████| 53/53 [00:01<00:00, 35.07it/s]\n"
          ]
        },
        {
          "output_type": "stream",
          "name": "stdout",
          "text": [
            "Epoch 494/1000 loss 0.00005 val_loss 0.00002 acc 1.00000 val_acc 1.00000\n"
          ]
        },
        {
          "output_type": "stream",
          "name": "stderr",
          "text": [
            "loss 0.00166 acc 0.99972: 100%|██████████| 297/297 [00:07<00:00, 38.33it/s]\n",
            "val_loss 0.00001 val_acc 1.00000: 100%|██████████| 53/53 [00:01<00:00, 35.45it/s]\n"
          ]
        },
        {
          "output_type": "stream",
          "name": "stdout",
          "text": [
            "Epoch 495/1000 loss 0.00166 val_loss 0.00001 acc 0.99972 val_acc 1.00000\n"
          ]
        },
        {
          "output_type": "stream",
          "name": "stderr",
          "text": [
            "loss 0.00277 acc 0.99926: 100%|██████████| 297/297 [00:06<00:00, 48.92it/s]\n",
            "val_loss 0.00372 val_acc 0.99941: 100%|██████████| 53/53 [00:01<00:00, 43.53it/s]\n"
          ]
        },
        {
          "output_type": "stream",
          "name": "stdout",
          "text": [
            "Epoch 496/1000 loss 0.00277 val_loss 0.00372 acc 0.99926 val_acc 0.99941\n"
          ]
        },
        {
          "output_type": "stream",
          "name": "stderr",
          "text": [
            "loss 0.00039 acc 0.99979: 100%|██████████| 297/297 [00:06<00:00, 42.47it/s]\n",
            "val_loss 0.00001 val_acc 1.00000: 100%|██████████| 53/53 [00:01<00:00, 32.28it/s]\n"
          ]
        },
        {
          "output_type": "stream",
          "name": "stdout",
          "text": [
            "Epoch 497/1000 loss 0.00039 val_loss 0.00001 acc 0.99979 val_acc 1.00000\n"
          ]
        },
        {
          "output_type": "stream",
          "name": "stderr",
          "text": [
            "loss 0.00061 acc 0.99972: 100%|██████████| 297/297 [00:06<00:00, 45.81it/s]\n",
            "val_loss 0.00002 val_acc 1.00000: 100%|██████████| 53/53 [00:01<00:00, 43.76it/s]\n"
          ]
        },
        {
          "output_type": "stream",
          "name": "stdout",
          "text": [
            "Epoch 498/1000 loss 0.00061 val_loss 0.00002 acc 0.99972 val_acc 1.00000\n"
          ]
        },
        {
          "output_type": "stream",
          "name": "stderr",
          "text": [
            "loss 0.00131 acc 0.99968: 100%|██████████| 297/297 [00:06<00:00, 47.96it/s]\n",
            "val_loss 0.00002 val_acc 1.00000: 100%|██████████| 53/53 [00:01<00:00, 33.39it/s]\n"
          ]
        },
        {
          "output_type": "stream",
          "name": "stdout",
          "text": [
            "Epoch 499/1000 loss 0.00131 val_loss 0.00002 acc 0.99968 val_acc 1.00000\n"
          ]
        },
        {
          "output_type": "stream",
          "name": "stderr",
          "text": [
            "loss 0.00071 acc 0.99989: 100%|██████████| 297/297 [00:07<00:00, 39.55it/s]\n",
            "val_loss 0.00004 val_acc 1.00000: 100%|██████████| 53/53 [00:01<00:00, 38.76it/s]\n"
          ]
        },
        {
          "output_type": "stream",
          "name": "stdout",
          "text": [
            "Epoch 500/1000 loss 0.00071 val_loss 0.00004 acc 0.99989 val_acc 1.00000\n",
            "Checkpoint guardado en /content/drive/MyDrive/SIS421 prueba dataset 1 test/Checkpoints/checkpoint.pth (Epoch 500)\n"
          ]
        },
        {
          "output_type": "stream",
          "name": "stderr",
          "text": [
            "loss 0.00039 acc 0.99979: 100%|██████████| 297/297 [00:06<00:00, 46.51it/s]\n",
            "val_loss 0.00012 val_acc 1.00000: 100%|██████████| 53/53 [00:01<00:00, 43.46it/s]\n"
          ]
        },
        {
          "output_type": "stream",
          "name": "stdout",
          "text": [
            "Epoch 501/1000 loss 0.00039 val_loss 0.00012 acc 0.99979 val_acc 1.00000\n"
          ]
        },
        {
          "output_type": "stream",
          "name": "stderr",
          "text": [
            "loss 0.00002 acc 1.00000: 100%|██████████| 297/297 [00:07<00:00, 42.24it/s]\n",
            "val_loss 0.00001 val_acc 1.00000: 100%|██████████| 53/53 [00:01<00:00, 36.57it/s]\n"
          ]
        },
        {
          "output_type": "stream",
          "name": "stdout",
          "text": [
            "Epoch 502/1000 loss 0.00002 val_loss 0.00001 acc 1.00000 val_acc 1.00000\n"
          ]
        },
        {
          "output_type": "stream",
          "name": "stderr",
          "text": [
            "loss 0.00002 acc 1.00000: 100%|██████████| 297/297 [00:05<00:00, 52.05it/s]\n",
            "val_loss 0.00000 val_acc 1.00000: 100%|██████████| 53/53 [00:01<00:00, 47.41it/s]\n"
          ]
        },
        {
          "output_type": "stream",
          "name": "stdout",
          "text": [
            "Epoch 503/1000 loss 0.00002 val_loss 0.00000 acc 1.00000 val_acc 1.00000\n"
          ]
        },
        {
          "output_type": "stream",
          "name": "stderr",
          "text": [
            "loss 0.00003 acc 1.00000: 100%|██████████| 297/297 [00:05<00:00, 51.12it/s]\n",
            "val_loss 0.00000 val_acc 1.00000: 100%|██████████| 53/53 [00:01<00:00, 35.56it/s]\n"
          ]
        },
        {
          "output_type": "stream",
          "name": "stdout",
          "text": [
            "Epoch 504/1000 loss 0.00003 val_loss 0.00000 acc 1.00000 val_acc 1.00000\n"
          ]
        },
        {
          "output_type": "stream",
          "name": "stderr",
          "text": [
            "loss 0.00021 acc 0.99989: 100%|██████████| 297/297 [00:06<00:00, 44.08it/s]\n",
            "val_loss 0.00001 val_acc 1.00000: 100%|██████████| 53/53 [00:01<00:00, 37.31it/s]\n"
          ]
        },
        {
          "output_type": "stream",
          "name": "stdout",
          "text": [
            "Epoch 505/1000 loss 0.00021 val_loss 0.00001 acc 0.99989 val_acc 1.00000\n"
          ]
        },
        {
          "output_type": "stream",
          "name": "stderr",
          "text": [
            "loss 0.00019 acc 0.99989: 100%|██████████| 297/297 [00:05<00:00, 52.90it/s]\n",
            "val_loss 0.00015 val_acc 1.00000: 100%|██████████| 53/53 [00:01<00:00, 47.02it/s]\n"
          ]
        },
        {
          "output_type": "stream",
          "name": "stdout",
          "text": [
            "Epoch 506/1000 loss 0.00019 val_loss 0.00015 acc 0.99989 val_acc 1.00000\n"
          ]
        },
        {
          "output_type": "stream",
          "name": "stderr",
          "text": [
            "loss 0.00076 acc 0.99968: 100%|██████████| 297/297 [00:06<00:00, 46.10it/s]\n",
            "val_loss 0.00122 val_acc 0.99941: 100%|██████████| 53/53 [00:01<00:00, 37.99it/s]\n"
          ]
        },
        {
          "output_type": "stream",
          "name": "stdout",
          "text": [
            "Epoch 507/1000 loss 0.00076 val_loss 0.00122 acc 0.99968 val_acc 0.99941\n"
          ]
        },
        {
          "output_type": "stream",
          "name": "stderr",
          "text": [
            "loss 0.00129 acc 0.99968: 100%|██████████| 297/297 [00:07<00:00, 40.94it/s]\n",
            "val_loss 0.00063 val_acc 1.00000: 100%|██████████| 53/53 [00:01<00:00, 33.78it/s]\n"
          ]
        },
        {
          "output_type": "stream",
          "name": "stdout",
          "text": [
            "Epoch 508/1000 loss 0.00129 val_loss 0.00063 acc 0.99968 val_acc 1.00000\n"
          ]
        },
        {
          "output_type": "stream",
          "name": "stderr",
          "text": [
            "loss 0.00105 acc 0.99979: 100%|██████████| 297/297 [00:07<00:00, 40.01it/s]\n",
            "val_loss 0.00039 val_acc 1.00000: 100%|██████████| 53/53 [00:01<00:00, 41.12it/s]\n"
          ]
        },
        {
          "output_type": "stream",
          "name": "stdout",
          "text": [
            "Epoch 509/1000 loss 0.00105 val_loss 0.00039 acc 0.99979 val_acc 1.00000\n"
          ]
        },
        {
          "output_type": "stream",
          "name": "stderr",
          "text": [
            "loss 0.00042 acc 0.99968: 100%|██████████| 297/297 [00:07<00:00, 40.64it/s]\n",
            "val_loss 0.00013 val_acc 1.00000: 100%|██████████| 53/53 [00:01<00:00, 34.60it/s]\n"
          ]
        },
        {
          "output_type": "stream",
          "name": "stdout",
          "text": [
            "Epoch 510/1000 loss 0.00042 val_loss 0.00013 acc 0.99968 val_acc 1.00000\n"
          ]
        },
        {
          "output_type": "stream",
          "name": "stderr",
          "text": [
            "loss 0.00078 acc 0.99989: 100%|██████████| 297/297 [00:06<00:00, 46.42it/s]\n",
            "val_loss 0.00074 val_acc 0.99941: 100%|██████████| 53/53 [00:01<00:00, 35.98it/s]\n"
          ]
        },
        {
          "output_type": "stream",
          "name": "stdout",
          "text": [
            "Epoch 511/1000 loss 0.00078 val_loss 0.00074 acc 0.99989 val_acc 0.99941\n"
          ]
        },
        {
          "output_type": "stream",
          "name": "stderr",
          "text": [
            "loss 0.00013 acc 0.99989: 100%|██████████| 297/297 [00:06<00:00, 42.56it/s]\n",
            "val_loss 0.00098 val_acc 0.99882: 100%|██████████| 53/53 [00:01<00:00, 34.35it/s]\n"
          ]
        },
        {
          "output_type": "stream",
          "name": "stdout",
          "text": [
            "Epoch 512/1000 loss 0.00013 val_loss 0.00098 acc 0.99989 val_acc 0.99882\n"
          ]
        },
        {
          "output_type": "stream",
          "name": "stderr",
          "text": [
            "loss 0.00017 acc 0.99989: 100%|██████████| 297/297 [00:06<00:00, 42.75it/s]\n",
            "val_loss 0.00343 val_acc 0.99941: 100%|██████████| 53/53 [00:01<00:00, 38.67it/s]\n"
          ]
        },
        {
          "output_type": "stream",
          "name": "stdout",
          "text": [
            "Epoch 513/1000 loss 0.00017 val_loss 0.00343 acc 0.99989 val_acc 0.99941\n"
          ]
        },
        {
          "output_type": "stream",
          "name": "stderr",
          "text": [
            "loss 0.00007 acc 1.00000: 100%|██████████| 297/297 [00:05<00:00, 52.12it/s]\n",
            "val_loss 0.00299 val_acc 0.99941: 100%|██████████| 53/53 [00:01<00:00, 41.12it/s]\n"
          ]
        },
        {
          "output_type": "stream",
          "name": "stdout",
          "text": [
            "Epoch 514/1000 loss 0.00007 val_loss 0.00299 acc 1.00000 val_acc 0.99941\n"
          ]
        },
        {
          "output_type": "stream",
          "name": "stderr",
          "text": [
            "loss 0.00022 acc 0.99989: 100%|██████████| 297/297 [00:07<00:00, 40.52it/s]\n",
            "val_loss 0.00136 val_acc 0.99941: 100%|██████████| 53/53 [00:01<00:00, 36.95it/s]\n"
          ]
        },
        {
          "output_type": "stream",
          "name": "stdout",
          "text": [
            "Epoch 515/1000 loss 0.00022 val_loss 0.00136 acc 0.99989 val_acc 0.99941\n"
          ]
        },
        {
          "output_type": "stream",
          "name": "stderr",
          "text": [
            "loss 0.00026 acc 0.99989: 100%|██████████| 297/297 [00:06<00:00, 48.61it/s]\n",
            "val_loss 0.00235 val_acc 0.99941: 100%|██████████| 53/53 [00:01<00:00, 44.35it/s]\n"
          ]
        },
        {
          "output_type": "stream",
          "name": "stdout",
          "text": [
            "Epoch 516/1000 loss 0.00026 val_loss 0.00235 acc 0.99989 val_acc 0.99941\n"
          ]
        },
        {
          "output_type": "stream",
          "name": "stderr",
          "text": [
            "loss 0.00120 acc 0.99958: 100%|██████████| 297/297 [00:06<00:00, 44.96it/s]\n",
            "val_loss 0.00157 val_acc 0.99941: 100%|██████████| 53/53 [00:01<00:00, 33.52it/s]\n"
          ]
        },
        {
          "output_type": "stream",
          "name": "stdout",
          "text": [
            "Epoch 517/1000 loss 0.00120 val_loss 0.00157 acc 0.99958 val_acc 0.99941\n"
          ]
        },
        {
          "output_type": "stream",
          "name": "stderr",
          "text": [
            "loss 0.00128 acc 0.99958: 100%|██████████| 297/297 [00:06<00:00, 47.13it/s]\n",
            "val_loss 0.00001 val_acc 1.00000: 100%|██████████| 53/53 [00:01<00:00, 43.13it/s]\n"
          ]
        },
        {
          "output_type": "stream",
          "name": "stdout",
          "text": [
            "Epoch 518/1000 loss 0.00128 val_loss 0.00001 acc 0.99958 val_acc 1.00000\n"
          ]
        },
        {
          "output_type": "stream",
          "name": "stderr",
          "text": [
            "loss 0.00188 acc 0.99958: 100%|██████████| 297/297 [00:06<00:00, 47.08it/s]\n",
            "val_loss 0.00203 val_acc 0.99941: 100%|██████████| 53/53 [00:01<00:00, 37.08it/s]\n"
          ]
        },
        {
          "output_type": "stream",
          "name": "stdout",
          "text": [
            "Epoch 519/1000 loss 0.00188 val_loss 0.00203 acc 0.99958 val_acc 0.99941\n"
          ]
        },
        {
          "output_type": "stream",
          "name": "stderr",
          "text": [
            "loss 0.00121 acc 0.99958: 100%|██████████| 297/297 [00:07<00:00, 39.59it/s]\n",
            "val_loss 0.00023 val_acc 1.00000: 100%|██████████| 53/53 [00:01<00:00, 37.64it/s]\n"
          ]
        },
        {
          "output_type": "stream",
          "name": "stdout",
          "text": [
            "Epoch 520/1000 loss 0.00121 val_loss 0.00023 acc 0.99958 val_acc 1.00000\n",
            "Checkpoint guardado en /content/drive/MyDrive/SIS421 prueba dataset 1 test/Checkpoints/checkpoint.pth (Epoch 520)\n"
          ]
        },
        {
          "output_type": "stream",
          "name": "stderr",
          "text": [
            "loss 0.00047 acc 0.99979: 100%|██████████| 297/297 [00:06<00:00, 49.27it/s]\n",
            "val_loss 0.00001 val_acc 1.00000: 100%|██████████| 53/53 [00:01<00:00, 43.73it/s]\n"
          ]
        },
        {
          "output_type": "stream",
          "name": "stdout",
          "text": [
            "Epoch 521/1000 loss 0.00047 val_loss 0.00001 acc 0.99979 val_acc 1.00000\n"
          ]
        },
        {
          "output_type": "stream",
          "name": "stderr",
          "text": [
            "loss 0.00045 acc 0.99979: 100%|██████████| 297/297 [00:06<00:00, 44.37it/s]\n",
            "val_loss 0.00002 val_acc 1.00000: 100%|██████████| 53/53 [00:01<00:00, 32.79it/s]\n"
          ]
        },
        {
          "output_type": "stream",
          "name": "stdout",
          "text": [
            "Epoch 522/1000 loss 0.00045 val_loss 0.00002 acc 0.99979 val_acc 1.00000\n"
          ]
        },
        {
          "output_type": "stream",
          "name": "stderr",
          "text": [
            "loss 0.00060 acc 0.99979: 100%|██████████| 297/297 [00:06<00:00, 45.02it/s]\n",
            "val_loss 0.00003 val_acc 1.00000: 100%|██████████| 53/53 [00:01<00:00, 42.95it/s]\n"
          ]
        },
        {
          "output_type": "stream",
          "name": "stdout",
          "text": [
            "Epoch 523/1000 loss 0.00060 val_loss 0.00003 acc 0.99979 val_acc 1.00000\n"
          ]
        },
        {
          "output_type": "stream",
          "name": "stderr",
          "text": [
            "loss 0.00047 acc 0.99989: 100%|██████████| 297/297 [00:06<00:00, 47.64it/s]\n",
            "val_loss 0.00053 val_acc 0.99941: 100%|██████████| 53/53 [00:01<00:00, 35.56it/s]\n"
          ]
        },
        {
          "output_type": "stream",
          "name": "stdout",
          "text": [
            "Epoch 524/1000 loss 0.00047 val_loss 0.00053 acc 0.99989 val_acc 0.99941\n"
          ]
        },
        {
          "output_type": "stream",
          "name": "stderr",
          "text": [
            "loss 0.00028 acc 0.99989: 100%|██████████| 297/297 [00:07<00:00, 39.41it/s]\n",
            "val_loss 0.00002 val_acc 1.00000: 100%|██████████| 53/53 [00:01<00:00, 36.94it/s]\n"
          ]
        },
        {
          "output_type": "stream",
          "name": "stdout",
          "text": [
            "Epoch 525/1000 loss 0.00028 val_loss 0.00002 acc 0.99989 val_acc 1.00000\n"
          ]
        },
        {
          "output_type": "stream",
          "name": "stderr",
          "text": [
            "loss 0.00259 acc 0.99905: 100%|██████████| 297/297 [00:06<00:00, 49.00it/s]\n",
            "val_loss 0.00012 val_acc 1.00000: 100%|██████████| 53/53 [00:01<00:00, 43.95it/s]\n"
          ]
        },
        {
          "output_type": "stream",
          "name": "stdout",
          "text": [
            "Epoch 526/1000 loss 0.00259 val_loss 0.00012 acc 0.99905 val_acc 1.00000\n"
          ]
        },
        {
          "output_type": "stream",
          "name": "stderr",
          "text": [
            "loss 0.00111 acc 0.99968: 100%|██████████| 297/297 [00:06<00:00, 45.18it/s]\n",
            "val_loss 0.00001 val_acc 1.00000: 100%|██████████| 53/53 [00:01<00:00, 36.70it/s]\n"
          ]
        },
        {
          "output_type": "stream",
          "name": "stdout",
          "text": [
            "Epoch 527/1000 loss 0.00111 val_loss 0.00001 acc 0.99968 val_acc 1.00000\n"
          ]
        },
        {
          "output_type": "stream",
          "name": "stderr",
          "text": [
            "loss 0.00005 acc 1.00000: 100%|██████████| 297/297 [00:06<00:00, 43.02it/s]\n",
            "val_loss 0.00003 val_acc 1.00000: 100%|██████████| 53/53 [00:01<00:00, 37.75it/s]\n"
          ]
        },
        {
          "output_type": "stream",
          "name": "stdout",
          "text": [
            "Epoch 528/1000 loss 0.00005 val_loss 0.00003 acc 1.00000 val_acc 1.00000\n"
          ]
        },
        {
          "output_type": "stream",
          "name": "stderr",
          "text": [
            "loss 0.00092 acc 0.99979: 100%|██████████| 297/297 [00:06<00:00, 49.46it/s]\n",
            "val_loss 0.00002 val_acc 1.00000: 100%|██████████| 53/53 [00:01<00:00, 44.97it/s]\n"
          ]
        },
        {
          "output_type": "stream",
          "name": "stdout",
          "text": [
            "Epoch 529/1000 loss 0.00092 val_loss 0.00002 acc 0.99979 val_acc 1.00000\n"
          ]
        },
        {
          "output_type": "stream",
          "name": "stderr",
          "text": [
            "loss 0.00057 acc 0.99989: 100%|██████████| 297/297 [00:07<00:00, 39.03it/s]\n",
            "val_loss 0.00195 val_acc 0.99882: 100%|██████████| 53/53 [00:01<00:00, 34.06it/s]\n"
          ]
        },
        {
          "output_type": "stream",
          "name": "stdout",
          "text": [
            "Epoch 530/1000 loss 0.00057 val_loss 0.00195 acc 0.99989 val_acc 0.99882\n"
          ]
        },
        {
          "output_type": "stream",
          "name": "stderr",
          "text": [
            "loss 0.00034 acc 0.99979: 100%|██████████| 297/297 [00:06<00:00, 46.27it/s]\n",
            "val_loss 0.00006 val_acc 1.00000: 100%|██████████| 53/53 [00:01<00:00, 34.58it/s]\n"
          ]
        },
        {
          "output_type": "stream",
          "name": "stdout",
          "text": [
            "Epoch 531/1000 loss 0.00034 val_loss 0.00006 acc 0.99979 val_acc 1.00000\n"
          ]
        },
        {
          "output_type": "stream",
          "name": "stderr",
          "text": [
            "loss 0.00114 acc 0.99968: 100%|██████████| 297/297 [00:07<00:00, 37.85it/s]\n",
            "val_loss 0.00021 val_acc 1.00000: 100%|██████████| 53/53 [00:01<00:00, 32.41it/s]\n"
          ]
        },
        {
          "output_type": "stream",
          "name": "stdout",
          "text": [
            "Epoch 532/1000 loss 0.00114 val_loss 0.00021 acc 0.99968 val_acc 1.00000\n"
          ]
        },
        {
          "output_type": "stream",
          "name": "stderr",
          "text": [
            "loss 0.00147 acc 0.99958: 100%|██████████| 297/297 [00:06<00:00, 46.24it/s]\n",
            "val_loss 0.00004 val_acc 1.00000: 100%|██████████| 53/53 [00:01<00:00, 39.52it/s]\n"
          ]
        },
        {
          "output_type": "stream",
          "name": "stdout",
          "text": [
            "Epoch 533/1000 loss 0.00147 val_loss 0.00004 acc 0.99958 val_acc 1.00000\n"
          ]
        },
        {
          "output_type": "stream",
          "name": "stderr",
          "text": [
            "loss 0.00171 acc 0.99937: 100%|██████████| 297/297 [00:07<00:00, 42.32it/s]\n",
            "val_loss 0.00020 val_acc 1.00000: 100%|██████████| 53/53 [00:01<00:00, 32.84it/s]\n"
          ]
        },
        {
          "output_type": "stream",
          "name": "stdout",
          "text": [
            "Epoch 534/1000 loss 0.00171 val_loss 0.00020 acc 0.99937 val_acc 1.00000\n"
          ]
        },
        {
          "output_type": "stream",
          "name": "stderr",
          "text": [
            "loss 0.00016 acc 1.00000: 100%|██████████| 297/297 [00:07<00:00, 41.09it/s]\n",
            "val_loss 0.00007 val_acc 1.00000: 100%|██████████| 53/53 [00:01<00:00, 35.94it/s]\n"
          ]
        },
        {
          "output_type": "stream",
          "name": "stdout",
          "text": [
            "Epoch 535/1000 loss 0.00016 val_loss 0.00007 acc 1.00000 val_acc 1.00000\n"
          ]
        },
        {
          "output_type": "stream",
          "name": "stderr",
          "text": [
            "loss 0.00099 acc 0.99958: 100%|██████████| 297/297 [00:05<00:00, 49.59it/s]\n",
            "val_loss 0.00001 val_acc 1.00000: 100%|██████████| 53/53 [00:01<00:00, 44.59it/s]\n"
          ]
        },
        {
          "output_type": "stream",
          "name": "stdout",
          "text": [
            "Epoch 536/1000 loss 0.00099 val_loss 0.00001 acc 0.99958 val_acc 1.00000\n"
          ]
        },
        {
          "output_type": "stream",
          "name": "stderr",
          "text": [
            "loss 0.00247 acc 0.99912: 100%|██████████| 297/297 [00:07<00:00, 42.07it/s]\n",
            "val_loss 0.00002 val_acc 1.00000: 100%|██████████| 53/53 [00:01<00:00, 30.17it/s]\n"
          ]
        },
        {
          "output_type": "stream",
          "name": "stdout",
          "text": [
            "Epoch 537/1000 loss 0.00247 val_loss 0.00002 acc 0.99912 val_acc 1.00000\n"
          ]
        },
        {
          "output_type": "stream",
          "name": "stderr",
          "text": [
            "loss 0.00031 acc 0.99989: 100%|██████████| 297/297 [00:06<00:00, 46.24it/s]\n",
            "val_loss 0.00031 val_acc 1.00000: 100%|██████████| 53/53 [00:01<00:00, 44.01it/s]\n"
          ]
        },
        {
          "output_type": "stream",
          "name": "stdout",
          "text": [
            "Epoch 538/1000 loss 0.00031 val_loss 0.00031 acc 0.99989 val_acc 1.00000\n"
          ]
        },
        {
          "output_type": "stream",
          "name": "stderr",
          "text": [
            "loss 0.00326 acc 0.99940: 100%|██████████| 297/297 [00:06<00:00, 45.66it/s]\n",
            "val_loss 0.00070 val_acc 0.99941: 100%|██████████| 53/53 [00:01<00:00, 35.40it/s]\n"
          ]
        },
        {
          "output_type": "stream",
          "name": "stdout",
          "text": [
            "Epoch 539/1000 loss 0.00326 val_loss 0.00070 acc 0.99940 val_acc 0.99941\n"
          ]
        },
        {
          "output_type": "stream",
          "name": "stderr",
          "text": [
            "loss 0.00121 acc 0.99979: 100%|██████████| 297/297 [00:07<00:00, 38.92it/s]\n",
            "val_loss 0.00005 val_acc 1.00000: 100%|██████████| 53/53 [00:01<00:00, 33.93it/s]\n"
          ]
        },
        {
          "output_type": "stream",
          "name": "stdout",
          "text": [
            "Epoch 540/1000 loss 0.00121 val_loss 0.00005 acc 0.99979 val_acc 1.00000\n",
            "Checkpoint guardado en /content/drive/MyDrive/SIS421 prueba dataset 1 test/Checkpoints/checkpoint.pth (Epoch 540)\n"
          ]
        },
        {
          "output_type": "stream",
          "name": "stderr",
          "text": [
            "loss 0.00744 acc 0.99912: 100%|██████████| 297/297 [00:05<00:00, 50.87it/s]\n",
            "val_loss 0.00005 val_acc 1.00000: 100%|██████████| 53/53 [00:01<00:00, 46.06it/s]\n"
          ]
        },
        {
          "output_type": "stream",
          "name": "stdout",
          "text": [
            "Epoch 541/1000 loss 0.00744 val_loss 0.00005 acc 0.99912 val_acc 1.00000\n"
          ]
        },
        {
          "output_type": "stream",
          "name": "stderr",
          "text": [
            "loss 0.00147 acc 0.99958: 100%|██████████| 297/297 [00:07<00:00, 41.83it/s]\n",
            "val_loss 0.00005 val_acc 1.00000: 100%|██████████| 53/53 [00:01<00:00, 35.38it/s]\n"
          ]
        },
        {
          "output_type": "stream",
          "name": "stdout",
          "text": [
            "Epoch 542/1000 loss 0.00147 val_loss 0.00005 acc 0.99958 val_acc 1.00000\n"
          ]
        },
        {
          "output_type": "stream",
          "name": "stderr",
          "text": [
            "loss 0.00007 acc 1.00000: 100%|██████████| 297/297 [00:06<00:00, 48.42it/s]\n",
            "val_loss 0.00010 val_acc 1.00000: 100%|██████████| 53/53 [00:01<00:00, 42.45it/s]\n"
          ]
        },
        {
          "output_type": "stream",
          "name": "stdout",
          "text": [
            "Epoch 543/1000 loss 0.00007 val_loss 0.00010 acc 1.00000 val_acc 1.00000\n"
          ]
        },
        {
          "output_type": "stream",
          "name": "stderr",
          "text": [
            "loss 0.00012 acc 1.00000: 100%|██████████| 297/297 [00:06<00:00, 48.99it/s]\n",
            "val_loss 0.00006 val_acc 1.00000: 100%|██████████| 53/53 [00:01<00:00, 33.07it/s]\n"
          ]
        },
        {
          "output_type": "stream",
          "name": "stdout",
          "text": [
            "Epoch 544/1000 loss 0.00012 val_loss 0.00006 acc 1.00000 val_acc 1.00000\n"
          ]
        },
        {
          "output_type": "stream",
          "name": "stderr",
          "text": [
            "loss 0.00074 acc 0.99961: 100%|██████████| 297/297 [00:07<00:00, 40.02it/s]\n",
            "val_loss 0.00007 val_acc 1.00000: 100%|██████████| 53/53 [00:01<00:00, 41.09it/s]\n"
          ]
        },
        {
          "output_type": "stream",
          "name": "stdout",
          "text": [
            "Epoch 545/1000 loss 0.00074 val_loss 0.00007 acc 0.99961 val_acc 1.00000\n"
          ]
        },
        {
          "output_type": "stream",
          "name": "stderr",
          "text": [
            "loss 0.00069 acc 0.99968: 100%|██████████| 297/297 [00:05<00:00, 49.92it/s]\n",
            "val_loss 0.00009 val_acc 1.00000: 100%|██████████| 53/53 [00:01<00:00, 42.62it/s]\n"
          ]
        },
        {
          "output_type": "stream",
          "name": "stdout",
          "text": [
            "Epoch 546/1000 loss 0.00069 val_loss 0.00009 acc 0.99968 val_acc 1.00000\n"
          ]
        },
        {
          "output_type": "stream",
          "name": "stderr",
          "text": [
            "loss 0.00128 acc 0.99958: 100%|██████████| 297/297 [00:06<00:00, 42.58it/s]\n",
            "val_loss 0.00004 val_acc 1.00000: 100%|██████████| 53/53 [00:01<00:00, 33.98it/s]\n"
          ]
        },
        {
          "output_type": "stream",
          "name": "stdout",
          "text": [
            "Epoch 547/1000 loss 0.00128 val_loss 0.00004 acc 0.99958 val_acc 1.00000\n"
          ]
        },
        {
          "output_type": "stream",
          "name": "stderr",
          "text": [
            "loss 0.00050 acc 0.99989: 100%|██████████| 297/297 [00:06<00:00, 46.62it/s]\n",
            "val_loss 0.00003 val_acc 1.00000: 100%|██████████| 53/53 [00:01<00:00, 46.07it/s]\n"
          ]
        },
        {
          "output_type": "stream",
          "name": "stdout",
          "text": [
            "Epoch 548/1000 loss 0.00050 val_loss 0.00003 acc 0.99989 val_acc 1.00000\n"
          ]
        },
        {
          "output_type": "stream",
          "name": "stderr",
          "text": [
            "loss 0.00012 acc 1.00000: 100%|██████████| 297/297 [00:06<00:00, 48.46it/s]\n",
            "val_loss 0.00002 val_acc 1.00000: 100%|██████████| 53/53 [00:01<00:00, 33.95it/s]\n"
          ]
        },
        {
          "output_type": "stream",
          "name": "stdout",
          "text": [
            "Epoch 549/1000 loss 0.00012 val_loss 0.00002 acc 1.00000 val_acc 1.00000\n"
          ]
        },
        {
          "output_type": "stream",
          "name": "stderr",
          "text": [
            "loss 0.00007 acc 1.00000: 100%|██████████| 297/297 [00:07<00:00, 39.60it/s]\n",
            "val_loss 0.00010 val_acc 1.00000: 100%|██████████| 53/53 [00:01<00:00, 38.31it/s]\n"
          ]
        },
        {
          "output_type": "stream",
          "name": "stdout",
          "text": [
            "Epoch 550/1000 loss 0.00007 val_loss 0.00010 acc 1.00000 val_acc 1.00000\n"
          ]
        },
        {
          "output_type": "stream",
          "name": "stderr",
          "text": [
            "loss 0.00002 acc 1.00000: 100%|██████████| 297/297 [00:05<00:00, 50.28it/s]\n",
            "val_loss 0.00001 val_acc 1.00000: 100%|██████████| 53/53 [00:01<00:00, 44.08it/s]\n"
          ]
        },
        {
          "output_type": "stream",
          "name": "stdout",
          "text": [
            "Epoch 551/1000 loss 0.00002 val_loss 0.00001 acc 1.00000 val_acc 1.00000\n"
          ]
        },
        {
          "output_type": "stream",
          "name": "stderr",
          "text": [
            "loss 0.00038 acc 0.99979: 100%|██████████| 297/297 [00:06<00:00, 43.27it/s]\n",
            "val_loss 0.00007 val_acc 1.00000: 100%|██████████| 53/53 [00:01<00:00, 33.01it/s]\n"
          ]
        },
        {
          "output_type": "stream",
          "name": "stdout",
          "text": [
            "Epoch 552/1000 loss 0.00038 val_loss 0.00007 acc 0.99979 val_acc 1.00000\n"
          ]
        },
        {
          "output_type": "stream",
          "name": "stderr",
          "text": [
            "loss 0.00003 acc 1.00000: 100%|██████████| 297/297 [00:05<00:00, 49.53it/s]\n",
            "val_loss 0.00009 val_acc 1.00000: 100%|██████████| 53/53 [00:01<00:00, 42.69it/s]\n"
          ]
        },
        {
          "output_type": "stream",
          "name": "stdout",
          "text": [
            "Epoch 553/1000 loss 0.00003 val_loss 0.00009 acc 1.00000 val_acc 1.00000\n"
          ]
        },
        {
          "output_type": "stream",
          "name": "stderr",
          "text": [
            "loss 0.00043 acc 0.99979: 100%|██████████| 297/297 [00:06<00:00, 48.39it/s]\n",
            "val_loss 0.00003 val_acc 1.00000: 100%|██████████| 53/53 [00:01<00:00, 32.79it/s]\n"
          ]
        },
        {
          "output_type": "stream",
          "name": "stdout",
          "text": [
            "Epoch 554/1000 loss 0.00043 val_loss 0.00003 acc 0.99979 val_acc 1.00000\n"
          ]
        },
        {
          "output_type": "stream",
          "name": "stderr",
          "text": [
            "loss 0.00003 acc 1.00000: 100%|██████████| 297/297 [00:06<00:00, 42.88it/s]\n",
            "val_loss 0.00004 val_acc 1.00000: 100%|██████████| 53/53 [00:01<00:00, 36.97it/s]\n"
          ]
        },
        {
          "output_type": "stream",
          "name": "stdout",
          "text": [
            "Epoch 555/1000 loss 0.00003 val_loss 0.00004 acc 1.00000 val_acc 1.00000\n"
          ]
        },
        {
          "output_type": "stream",
          "name": "stderr",
          "text": [
            "loss 0.00005 acc 1.00000: 100%|██████████| 297/297 [00:05<00:00, 50.30it/s]\n",
            "val_loss 0.00001 val_acc 1.00000: 100%|██████████| 53/53 [00:01<00:00, 37.45it/s]\n"
          ]
        },
        {
          "output_type": "stream",
          "name": "stdout",
          "text": [
            "Epoch 556/1000 loss 0.00005 val_loss 0.00001 acc 1.00000 val_acc 1.00000\n"
          ]
        },
        {
          "output_type": "stream",
          "name": "stderr",
          "text": [
            "loss 0.00002 acc 1.00000: 100%|██████████| 297/297 [00:06<00:00, 44.42it/s]\n",
            "val_loss 0.00003 val_acc 1.00000: 100%|██████████| 53/53 [00:01<00:00, 38.95it/s]\n"
          ]
        },
        {
          "output_type": "stream",
          "name": "stdout",
          "text": [
            "Epoch 557/1000 loss 0.00002 val_loss 0.00003 acc 1.00000 val_acc 1.00000\n"
          ]
        },
        {
          "output_type": "stream",
          "name": "stderr",
          "text": [
            "loss 0.00003 acc 1.00000: 100%|██████████| 297/297 [00:06<00:00, 46.21it/s]\n",
            "val_loss 0.00004 val_acc 1.00000: 100%|██████████| 53/53 [00:01<00:00, 39.95it/s]\n"
          ]
        },
        {
          "output_type": "stream",
          "name": "stdout",
          "text": [
            "Epoch 558/1000 loss 0.00003 val_loss 0.00004 acc 1.00000 val_acc 1.00000\n"
          ]
        },
        {
          "output_type": "stream",
          "name": "stderr",
          "text": [
            "loss 0.00015 acc 1.00000: 100%|██████████| 297/297 [00:06<00:00, 48.43it/s]\n",
            "val_loss 0.00005 val_acc 1.00000: 100%|██████████| 53/53 [00:01<00:00, 39.75it/s]\n"
          ]
        },
        {
          "output_type": "stream",
          "name": "stdout",
          "text": [
            "Epoch 559/1000 loss 0.00015 val_loss 0.00005 acc 1.00000 val_acc 1.00000\n"
          ]
        },
        {
          "output_type": "stream",
          "name": "stderr",
          "text": [
            "loss 0.00081 acc 0.99989: 100%|██████████| 297/297 [00:06<00:00, 42.49it/s]\n",
            "val_loss 0.00502 val_acc 0.99764: 100%|██████████| 53/53 [00:01<00:00, 33.53it/s]\n"
          ]
        },
        {
          "output_type": "stream",
          "name": "stdout",
          "text": [
            "Epoch 560/1000 loss 0.00081 val_loss 0.00502 acc 0.99989 val_acc 0.99764\n",
            "Checkpoint guardado en /content/drive/MyDrive/SIS421 prueba dataset 1 test/Checkpoints/checkpoint.pth (Epoch 560)\n"
          ]
        },
        {
          "output_type": "stream",
          "name": "stderr",
          "text": [
            "loss 0.00006 acc 1.00000: 100%|██████████| 297/297 [00:05<00:00, 50.39it/s]\n",
            "val_loss 0.00004 val_acc 1.00000: 100%|██████████| 53/53 [00:01<00:00, 44.64it/s]\n"
          ]
        },
        {
          "output_type": "stream",
          "name": "stdout",
          "text": [
            "Epoch 561/1000 loss 0.00006 val_loss 0.00004 acc 1.00000 val_acc 1.00000\n"
          ]
        },
        {
          "output_type": "stream",
          "name": "stderr",
          "text": [
            "loss 0.00137 acc 0.99947: 100%|██████████| 297/297 [00:06<00:00, 47.92it/s]\n",
            "val_loss 0.00036 val_acc 1.00000: 100%|██████████| 53/53 [00:01<00:00, 34.42it/s]\n"
          ]
        },
        {
          "output_type": "stream",
          "name": "stdout",
          "text": [
            "Epoch 562/1000 loss 0.00137 val_loss 0.00036 acc 0.99947 val_acc 1.00000\n"
          ]
        },
        {
          "output_type": "stream",
          "name": "stderr",
          "text": [
            "loss 0.00006 acc 1.00000: 100%|██████████| 297/297 [00:07<00:00, 40.16it/s]\n",
            "val_loss 0.00036 val_acc 1.00000: 100%|██████████| 53/53 [00:01<00:00, 37.58it/s]\n"
          ]
        },
        {
          "output_type": "stream",
          "name": "stdout",
          "text": [
            "Epoch 563/1000 loss 0.00006 val_loss 0.00036 acc 1.00000 val_acc 1.00000\n"
          ]
        },
        {
          "output_type": "stream",
          "name": "stderr",
          "text": [
            "loss 0.00015 acc 1.00000: 100%|██████████| 297/297 [00:06<00:00, 45.62it/s]\n",
            "val_loss 0.00035 val_acc 1.00000: 100%|██████████| 53/53 [00:01<00:00, 44.68it/s]\n"
          ]
        },
        {
          "output_type": "stream",
          "name": "stdout",
          "text": [
            "Epoch 564/1000 loss 0.00015 val_loss 0.00035 acc 1.00000 val_acc 1.00000\n"
          ]
        },
        {
          "output_type": "stream",
          "name": "stderr",
          "text": [
            "loss 0.00032 acc 0.99989: 100%|██████████| 297/297 [00:07<00:00, 42.06it/s]\n",
            "val_loss 0.00003 val_acc 1.00000: 100%|██████████| 53/53 [00:01<00:00, 34.67it/s]\n"
          ]
        },
        {
          "output_type": "stream",
          "name": "stdout",
          "text": [
            "Epoch 565/1000 loss 0.00032 val_loss 0.00003 acc 0.99989 val_acc 1.00000\n"
          ]
        },
        {
          "output_type": "stream",
          "name": "stderr",
          "text": [
            "loss 0.00148 acc 0.99940: 100%|██████████| 297/297 [00:06<00:00, 47.06it/s]\n",
            "val_loss 0.00005 val_acc 1.00000: 100%|██████████| 53/53 [00:01<00:00, 44.45it/s]\n"
          ]
        },
        {
          "output_type": "stream",
          "name": "stdout",
          "text": [
            "Epoch 566/1000 loss 0.00148 val_loss 0.00005 acc 0.99940 val_acc 1.00000\n"
          ]
        },
        {
          "output_type": "stream",
          "name": "stderr",
          "text": [
            "loss 0.00208 acc 0.99926: 100%|██████████| 297/297 [00:06<00:00, 44.55it/s]\n",
            "val_loss 0.00172 val_acc 0.99941: 100%|██████████| 53/53 [00:01<00:00, 33.96it/s]\n"
          ]
        },
        {
          "output_type": "stream",
          "name": "stdout",
          "text": [
            "Epoch 567/1000 loss 0.00208 val_loss 0.00172 acc 0.99926 val_acc 0.99941\n"
          ]
        },
        {
          "output_type": "stream",
          "name": "stderr",
          "text": [
            "loss 0.00066 acc 0.99972: 100%|██████████| 297/297 [00:07<00:00, 42.39it/s]\n",
            "val_loss 0.00118 val_acc 0.99941: 100%|██████████| 53/53 [00:01<00:00, 36.43it/s]\n"
          ]
        },
        {
          "output_type": "stream",
          "name": "stdout",
          "text": [
            "Epoch 568/1000 loss 0.00066 val_loss 0.00118 acc 0.99972 val_acc 0.99941\n"
          ]
        },
        {
          "output_type": "stream",
          "name": "stderr",
          "text": [
            "loss 0.00101 acc 0.99961: 100%|██████████| 297/297 [00:06<00:00, 49.02it/s]\n",
            "val_loss 0.00000 val_acc 1.00000: 100%|██████████| 53/53 [00:01<00:00, 40.39it/s]\n"
          ]
        },
        {
          "output_type": "stream",
          "name": "stdout",
          "text": [
            "Epoch 569/1000 loss 0.00101 val_loss 0.00000 acc 0.99961 val_acc 1.00000\n"
          ]
        },
        {
          "output_type": "stream",
          "name": "stderr",
          "text": [
            "loss 0.00054 acc 0.99968: 100%|██████████| 297/297 [00:07<00:00, 42.24it/s]\n",
            "val_loss 0.00004 val_acc 1.00000: 100%|██████████| 53/53 [00:01<00:00, 34.26it/s]\n"
          ]
        },
        {
          "output_type": "stream",
          "name": "stdout",
          "text": [
            "Epoch 570/1000 loss 0.00054 val_loss 0.00004 acc 0.99968 val_acc 1.00000\n"
          ]
        },
        {
          "output_type": "stream",
          "name": "stderr",
          "text": [
            "loss 0.00059 acc 0.99979: 100%|██████████| 297/297 [00:06<00:00, 46.59it/s]\n",
            "val_loss 0.00072 val_acc 1.00000: 100%|██████████| 53/53 [00:01<00:00, 37.79it/s]\n"
          ]
        },
        {
          "output_type": "stream",
          "name": "stdout",
          "text": [
            "Epoch 571/1000 loss 0.00059 val_loss 0.00072 acc 0.99979 val_acc 1.00000\n"
          ]
        },
        {
          "output_type": "stream",
          "name": "stderr",
          "text": [
            "loss 0.00057 acc 0.99989: 100%|██████████| 297/297 [00:07<00:00, 40.82it/s]\n",
            "val_loss 0.00065 val_acc 0.99941: 100%|██████████| 53/53 [00:01<00:00, 32.08it/s]\n"
          ]
        },
        {
          "output_type": "stream",
          "name": "stdout",
          "text": [
            "Epoch 572/1000 loss 0.00057 val_loss 0.00065 acc 0.99989 val_acc 0.99941\n"
          ]
        },
        {
          "output_type": "stream",
          "name": "stderr",
          "text": [
            "loss 0.00017 acc 0.99989: 100%|██████████| 297/297 [00:06<00:00, 44.96it/s]\n",
            "val_loss 0.00002 val_acc 1.00000: 100%|██████████| 53/53 [00:01<00:00, 44.99it/s]\n"
          ]
        },
        {
          "output_type": "stream",
          "name": "stdout",
          "text": [
            "Epoch 573/1000 loss 0.00017 val_loss 0.00002 acc 0.99989 val_acc 1.00000\n"
          ]
        },
        {
          "output_type": "stream",
          "name": "stderr",
          "text": [
            "loss 0.00061 acc 0.99979: 100%|██████████| 297/297 [00:06<00:00, 43.40it/s]\n",
            "val_loss 0.00003 val_acc 1.00000: 100%|██████████| 53/53 [00:01<00:00, 30.16it/s]\n"
          ]
        },
        {
          "output_type": "stream",
          "name": "stdout",
          "text": [
            "Epoch 574/1000 loss 0.00061 val_loss 0.00003 acc 0.99979 val_acc 1.00000\n"
          ]
        },
        {
          "output_type": "stream",
          "name": "stderr",
          "text": [
            "loss 0.00116 acc 0.99968: 100%|██████████| 297/297 [00:07<00:00, 42.01it/s]\n",
            "val_loss 0.00215 val_acc 0.99941: 100%|██████████| 53/53 [00:01<00:00, 39.81it/s]\n"
          ]
        },
        {
          "output_type": "stream",
          "name": "stdout",
          "text": [
            "Epoch 575/1000 loss 0.00116 val_loss 0.00215 acc 0.99968 val_acc 0.99941\n"
          ]
        },
        {
          "output_type": "stream",
          "name": "stderr",
          "text": [
            "loss 0.00011 acc 1.00000: 100%|██████████| 297/297 [00:06<00:00, 46.51it/s]\n",
            "val_loss 0.00051 val_acc 0.99941: 100%|██████████| 53/53 [00:01<00:00, 36.81it/s]\n"
          ]
        },
        {
          "output_type": "stream",
          "name": "stdout",
          "text": [
            "Epoch 576/1000 loss 0.00011 val_loss 0.00051 acc 1.00000 val_acc 0.99941\n"
          ]
        },
        {
          "output_type": "stream",
          "name": "stderr",
          "text": [
            "loss 0.00155 acc 0.99958: 100%|██████████| 297/297 [00:07<00:00, 42.04it/s]\n",
            "val_loss 0.00008 val_acc 1.00000: 100%|██████████| 53/53 [00:01<00:00, 29.76it/s]\n"
          ]
        },
        {
          "output_type": "stream",
          "name": "stdout",
          "text": [
            "Epoch 577/1000 loss 0.00155 val_loss 0.00008 acc 0.99958 val_acc 1.00000\n"
          ]
        },
        {
          "output_type": "stream",
          "name": "stderr",
          "text": [
            "loss 0.00010 acc 1.00000: 100%|██████████| 297/297 [00:07<00:00, 41.40it/s]\n",
            "val_loss 0.00001 val_acc 1.00000: 100%|██████████| 53/53 [00:01<00:00, 39.35it/s]\n"
          ]
        },
        {
          "output_type": "stream",
          "name": "stdout",
          "text": [
            "Epoch 578/1000 loss 0.00010 val_loss 0.00001 acc 1.00000 val_acc 1.00000\n"
          ]
        },
        {
          "output_type": "stream",
          "name": "stderr",
          "text": [
            "loss 0.00003 acc 1.00000: 100%|██████████| 297/297 [00:06<00:00, 44.39it/s]\n",
            "val_loss 0.00002 val_acc 1.00000: 100%|██████████| 53/53 [00:01<00:00, 30.68it/s]\n"
          ]
        },
        {
          "output_type": "stream",
          "name": "stdout",
          "text": [
            "Epoch 579/1000 loss 0.00003 val_loss 0.00002 acc 1.00000 val_acc 1.00000\n"
          ]
        },
        {
          "output_type": "stream",
          "name": "stderr",
          "text": [
            "loss 0.00064 acc 0.99979: 100%|██████████| 297/297 [00:07<00:00, 41.65it/s]\n",
            "val_loss 0.00007 val_acc 1.00000: 100%|██████████| 53/53 [00:01<00:00, 38.81it/s]\n"
          ]
        },
        {
          "output_type": "stream",
          "name": "stdout",
          "text": [
            "Epoch 580/1000 loss 0.00064 val_loss 0.00007 acc 0.99979 val_acc 1.00000\n",
            "Checkpoint guardado en /content/drive/MyDrive/SIS421 prueba dataset 1 test/Checkpoints/checkpoint.pth (Epoch 580)\n"
          ]
        },
        {
          "output_type": "stream",
          "name": "stderr",
          "text": [
            "loss 0.00034 acc 0.99989: 100%|██████████| 297/297 [00:06<00:00, 46.57it/s]\n",
            "val_loss 0.00001 val_acc 1.00000: 100%|██████████| 53/53 [00:01<00:00, 38.53it/s]\n"
          ]
        },
        {
          "output_type": "stream",
          "name": "stdout",
          "text": [
            "Epoch 581/1000 loss 0.00034 val_loss 0.00001 acc 0.99989 val_acc 1.00000\n"
          ]
        },
        {
          "output_type": "stream",
          "name": "stderr",
          "text": [
            "loss 0.00013 acc 1.00000: 100%|██████████| 297/297 [00:07<00:00, 40.39it/s]\n",
            "val_loss 0.00001 val_acc 1.00000: 100%|██████████| 53/53 [00:01<00:00, 34.75it/s]\n"
          ]
        },
        {
          "output_type": "stream",
          "name": "stdout",
          "text": [
            "Epoch 582/1000 loss 0.00013 val_loss 0.00001 acc 1.00000 val_acc 1.00000\n"
          ]
        },
        {
          "output_type": "stream",
          "name": "stderr",
          "text": [
            "loss 0.00001 acc 1.00000: 100%|██████████| 297/297 [00:06<00:00, 47.45it/s]\n",
            "val_loss 0.00002 val_acc 1.00000: 100%|██████████| 53/53 [00:01<00:00, 37.62it/s]\n"
          ]
        },
        {
          "output_type": "stream",
          "name": "stdout",
          "text": [
            "Epoch 583/1000 loss 0.00001 val_loss 0.00002 acc 1.00000 val_acc 1.00000\n"
          ]
        },
        {
          "output_type": "stream",
          "name": "stderr",
          "text": [
            "loss 0.00001 acc 1.00000: 100%|██████████| 297/297 [00:07<00:00, 41.24it/s]\n",
            "val_loss 0.00002 val_acc 1.00000: 100%|██████████| 53/53 [00:01<00:00, 35.14it/s]\n"
          ]
        },
        {
          "output_type": "stream",
          "name": "stdout",
          "text": [
            "Epoch 584/1000 loss 0.00001 val_loss 0.00002 acc 1.00000 val_acc 1.00000\n"
          ]
        },
        {
          "output_type": "stream",
          "name": "stderr",
          "text": [
            "loss 0.00012 acc 0.99989: 100%|██████████| 297/297 [00:06<00:00, 44.61it/s]\n",
            "val_loss 0.00001 val_acc 1.00000: 100%|██████████| 53/53 [00:01<00:00, 35.67it/s]\n"
          ]
        },
        {
          "output_type": "stream",
          "name": "stdout",
          "text": [
            "Epoch 585/1000 loss 0.00012 val_loss 0.00001 acc 0.99989 val_acc 1.00000\n"
          ]
        },
        {
          "output_type": "stream",
          "name": "stderr",
          "text": [
            "loss 0.00021 acc 0.99979: 100%|██████████| 297/297 [00:06<00:00, 45.24it/s]\n",
            "val_loss 0.00000 val_acc 1.00000: 100%|██████████| 53/53 [00:01<00:00, 33.82it/s]\n"
          ]
        },
        {
          "output_type": "stream",
          "name": "stdout",
          "text": [
            "Epoch 586/1000 loss 0.00021 val_loss 0.00000 acc 0.99979 val_acc 1.00000\n"
          ]
        },
        {
          "output_type": "stream",
          "name": "stderr",
          "text": [
            "loss 0.00151 acc 0.99947: 100%|██████████| 297/297 [00:07<00:00, 39.51it/s]\n",
            "val_loss 0.00010 val_acc 1.00000: 100%|██████████| 53/53 [00:01<00:00, 38.31it/s]\n"
          ]
        },
        {
          "output_type": "stream",
          "name": "stdout",
          "text": [
            "Epoch 587/1000 loss 0.00151 val_loss 0.00010 acc 0.99947 val_acc 1.00000\n"
          ]
        },
        {
          "output_type": "stream",
          "name": "stderr",
          "text": [
            "loss 0.00043 acc 0.99979: 100%|██████████| 297/297 [00:06<00:00, 46.31it/s]\n",
            "val_loss 0.00044 val_acc 1.00000: 100%|██████████| 53/53 [00:01<00:00, 43.41it/s]\n"
          ]
        },
        {
          "output_type": "stream",
          "name": "stdout",
          "text": [
            "Epoch 588/1000 loss 0.00043 val_loss 0.00044 acc 0.99979 val_acc 1.00000\n"
          ]
        },
        {
          "output_type": "stream",
          "name": "stderr",
          "text": [
            "loss 0.00124 acc 0.99958: 100%|██████████| 297/297 [00:07<00:00, 41.59it/s]\n",
            "val_loss 0.00005 val_acc 1.00000: 100%|██████████| 53/53 [00:01<00:00, 35.72it/s]\n"
          ]
        },
        {
          "output_type": "stream",
          "name": "stdout",
          "text": [
            "Epoch 589/1000 loss 0.00124 val_loss 0.00005 acc 0.99958 val_acc 1.00000\n"
          ]
        },
        {
          "output_type": "stream",
          "name": "stderr",
          "text": [
            "loss 0.00023 acc 0.99989: 100%|██████████| 297/297 [00:06<00:00, 45.35it/s]\n",
            "val_loss 0.00231 val_acc 0.99882: 100%|██████████| 53/53 [00:01<00:00, 41.90it/s]\n"
          ]
        },
        {
          "output_type": "stream",
          "name": "stdout",
          "text": [
            "Epoch 590/1000 loss 0.00023 val_loss 0.00231 acc 0.99989 val_acc 0.99882\n"
          ]
        },
        {
          "output_type": "stream",
          "name": "stderr",
          "text": [
            "loss 0.00068 acc 0.99979: 100%|██████████| 297/297 [00:06<00:00, 44.23it/s]\n",
            "val_loss 0.00027 val_acc 1.00000: 100%|██████████| 53/53 [00:01<00:00, 34.62it/s]\n"
          ]
        },
        {
          "output_type": "stream",
          "name": "stdout",
          "text": [
            "Epoch 591/1000 loss 0.00068 val_loss 0.00027 acc 0.99979 val_acc 1.00000\n"
          ]
        },
        {
          "output_type": "stream",
          "name": "stderr",
          "text": [
            "loss 0.00003 acc 1.00000: 100%|██████████| 297/297 [00:07<00:00, 39.15it/s]\n",
            "val_loss 0.00009 val_acc 1.00000: 100%|██████████| 53/53 [00:01<00:00, 37.02it/s]\n"
          ]
        },
        {
          "output_type": "stream",
          "name": "stdout",
          "text": [
            "Epoch 592/1000 loss 0.00003 val_loss 0.00009 acc 1.00000 val_acc 1.00000\n"
          ]
        },
        {
          "output_type": "stream",
          "name": "stderr",
          "text": [
            "loss 0.00050 acc 0.99968: 100%|██████████| 297/297 [00:06<00:00, 46.18it/s]\n",
            "val_loss 0.00004 val_acc 1.00000: 100%|██████████| 53/53 [00:01<00:00, 42.02it/s]\n"
          ]
        },
        {
          "output_type": "stream",
          "name": "stdout",
          "text": [
            "Epoch 593/1000 loss 0.00050 val_loss 0.00004 acc 0.99968 val_acc 1.00000\n"
          ]
        },
        {
          "output_type": "stream",
          "name": "stderr",
          "text": [
            "loss 0.00012 acc 1.00000: 100%|██████████| 297/297 [00:06<00:00, 44.69it/s]\n",
            "val_loss 0.00001 val_acc 1.00000: 100%|██████████| 53/53 [00:01<00:00, 37.06it/s]\n"
          ]
        },
        {
          "output_type": "stream",
          "name": "stdout",
          "text": [
            "Epoch 594/1000 loss 0.00012 val_loss 0.00001 acc 1.00000 val_acc 1.00000\n"
          ]
        },
        {
          "output_type": "stream",
          "name": "stderr",
          "text": [
            "loss 0.00009 acc 1.00000: 100%|██████████| 297/297 [00:06<00:00, 49.49it/s]\n",
            "val_loss 0.00004 val_acc 1.00000: 100%|██████████| 53/53 [00:01<00:00, 39.44it/s]\n"
          ]
        },
        {
          "output_type": "stream",
          "name": "stdout",
          "text": [
            "Epoch 595/1000 loss 0.00009 val_loss 0.00004 acc 1.00000 val_acc 1.00000\n"
          ]
        },
        {
          "output_type": "stream",
          "name": "stderr",
          "text": [
            "loss 0.00003 acc 1.00000: 100%|██████████| 297/297 [00:06<00:00, 46.08it/s]\n",
            "val_loss 0.00003 val_acc 1.00000: 100%|██████████| 53/53 [00:01<00:00, 34.05it/s]\n"
          ]
        },
        {
          "output_type": "stream",
          "name": "stdout",
          "text": [
            "Epoch 596/1000 loss 0.00003 val_loss 0.00003 acc 1.00000 val_acc 1.00000\n"
          ]
        },
        {
          "output_type": "stream",
          "name": "stderr",
          "text": [
            "loss 0.00572 acc 0.99863: 100%|██████████| 297/297 [00:07<00:00, 41.61it/s]\n",
            "val_loss 0.00012 val_acc 1.00000: 100%|██████████| 53/53 [00:01<00:00, 37.59it/s]\n"
          ]
        },
        {
          "output_type": "stream",
          "name": "stdout",
          "text": [
            "Epoch 597/1000 loss 0.00572 val_loss 0.00012 acc 0.99863 val_acc 1.00000\n"
          ]
        },
        {
          "output_type": "stream",
          "name": "stderr",
          "text": [
            "loss 0.00082 acc 0.99968: 100%|██████████| 297/297 [00:06<00:00, 47.60it/s]\n",
            "val_loss 0.00010 val_acc 1.00000: 100%|██████████| 53/53 [00:01<00:00, 37.78it/s]\n"
          ]
        },
        {
          "output_type": "stream",
          "name": "stdout",
          "text": [
            "Epoch 598/1000 loss 0.00082 val_loss 0.00010 acc 0.99968 val_acc 1.00000\n"
          ]
        },
        {
          "output_type": "stream",
          "name": "stderr",
          "text": [
            "loss 0.00007 acc 1.00000: 100%|██████████| 297/297 [00:07<00:00, 41.46it/s]\n",
            "val_loss 0.00003 val_acc 1.00000: 100%|██████████| 53/53 [00:01<00:00, 31.79it/s]\n"
          ]
        },
        {
          "output_type": "stream",
          "name": "stdout",
          "text": [
            "Epoch 599/1000 loss 0.00007 val_loss 0.00003 acc 1.00000 val_acc 1.00000\n"
          ]
        },
        {
          "output_type": "stream",
          "name": "stderr",
          "text": [
            "loss 0.00003 acc 1.00000: 100%|██████████| 297/297 [00:07<00:00, 39.80it/s]\n",
            "val_loss 0.00006 val_acc 1.00000: 100%|██████████| 53/53 [00:01<00:00, 34.45it/s]\n"
          ]
        },
        {
          "output_type": "stream",
          "name": "stdout",
          "text": [
            "Epoch 600/1000 loss 0.00003 val_loss 0.00006 acc 1.00000 val_acc 1.00000\n",
            "Checkpoint guardado en /content/drive/MyDrive/SIS421 prueba dataset 1 test/Checkpoints/checkpoint.pth (Epoch 600)\n"
          ]
        },
        {
          "output_type": "stream",
          "name": "stderr",
          "text": [
            "loss 0.00010 acc 1.00000: 100%|██████████| 297/297 [00:07<00:00, 41.59it/s]\n",
            "val_loss 0.00006 val_acc 1.00000: 100%|██████████| 53/53 [00:01<00:00, 33.94it/s]\n"
          ]
        },
        {
          "output_type": "stream",
          "name": "stdout",
          "text": [
            "Epoch 601/1000 loss 0.00010 val_loss 0.00006 acc 1.00000 val_acc 1.00000\n"
          ]
        },
        {
          "output_type": "stream",
          "name": "stderr",
          "text": [
            "loss 0.00029 acc 0.99979: 100%|██████████| 297/297 [00:07<00:00, 40.91it/s]\n",
            "val_loss 0.00002 val_acc 1.00000: 100%|██████████| 53/53 [00:01<00:00, 38.61it/s]\n"
          ]
        },
        {
          "output_type": "stream",
          "name": "stdout",
          "text": [
            "Epoch 602/1000 loss 0.00029 val_loss 0.00002 acc 0.99979 val_acc 1.00000\n"
          ]
        },
        {
          "output_type": "stream",
          "name": "stderr",
          "text": [
            "loss 0.00053 acc 0.99979: 100%|██████████| 297/297 [00:06<00:00, 44.02it/s]\n",
            "val_loss 0.00908 val_acc 0.99882: 100%|██████████| 53/53 [00:01<00:00, 36.73it/s]\n"
          ]
        },
        {
          "output_type": "stream",
          "name": "stdout",
          "text": [
            "Epoch 603/1000 loss 0.00053 val_loss 0.00908 acc 0.99979 val_acc 0.99882\n"
          ]
        },
        {
          "output_type": "stream",
          "name": "stderr",
          "text": [
            "loss 0.00060 acc 0.99989: 100%|██████████| 297/297 [00:07<00:00, 41.29it/s]\n",
            "val_loss 0.00165 val_acc 0.99941: 100%|██████████| 53/53 [00:01<00:00, 33.31it/s]\n"
          ]
        },
        {
          "output_type": "stream",
          "name": "stdout",
          "text": [
            "Epoch 604/1000 loss 0.00060 val_loss 0.00165 acc 0.99989 val_acc 0.99941\n"
          ]
        },
        {
          "output_type": "stream",
          "name": "stderr",
          "text": [
            "loss 0.00042 acc 0.99989: 100%|██████████| 297/297 [00:06<00:00, 45.44it/s]\n",
            "val_loss 0.00225 val_acc 0.99941: 100%|██████████| 53/53 [00:01<00:00, 36.97it/s]\n"
          ]
        },
        {
          "output_type": "stream",
          "name": "stdout",
          "text": [
            "Epoch 605/1000 loss 0.00042 val_loss 0.00225 acc 0.99989 val_acc 0.99941\n"
          ]
        },
        {
          "output_type": "stream",
          "name": "stderr",
          "text": [
            "loss 0.00310 acc 0.99972: 100%|██████████| 297/297 [00:07<00:00, 39.04it/s]\n",
            "val_loss 0.00154 val_acc 0.99941: 100%|██████████| 53/53 [00:01<00:00, 33.79it/s]\n"
          ]
        },
        {
          "output_type": "stream",
          "name": "stdout",
          "text": [
            "Epoch 606/1000 loss 0.00310 val_loss 0.00154 acc 0.99972 val_acc 0.99941\n"
          ]
        },
        {
          "output_type": "stream",
          "name": "stderr",
          "text": [
            "loss 0.00250 acc 0.99937: 100%|██████████| 297/297 [00:06<00:00, 43.15it/s]\n",
            "val_loss 0.00530 val_acc 0.99882: 100%|██████████| 53/53 [00:01<00:00, 33.63it/s]\n"
          ]
        },
        {
          "output_type": "stream",
          "name": "stdout",
          "text": [
            "Epoch 607/1000 loss 0.00250 val_loss 0.00530 acc 0.99937 val_acc 0.99882\n"
          ]
        },
        {
          "output_type": "stream",
          "name": "stderr",
          "text": [
            "loss 0.00017 acc 1.00000: 100%|██████████| 297/297 [00:06<00:00, 43.51it/s]\n",
            "val_loss 0.00008 val_acc 1.00000: 100%|██████████| 53/53 [00:01<00:00, 32.50it/s]\n"
          ]
        },
        {
          "output_type": "stream",
          "name": "stdout",
          "text": [
            "Epoch 608/1000 loss 0.00017 val_loss 0.00008 acc 1.00000 val_acc 1.00000\n"
          ]
        },
        {
          "output_type": "stream",
          "name": "stderr",
          "text": [
            "loss 0.00056 acc 0.99979: 100%|██████████| 297/297 [00:06<00:00, 44.23it/s]\n",
            "val_loss 0.00012 val_acc 1.00000: 100%|██████████| 53/53 [00:01<00:00, 38.40it/s]\n"
          ]
        },
        {
          "output_type": "stream",
          "name": "stdout",
          "text": [
            "Epoch 609/1000 loss 0.00056 val_loss 0.00012 acc 0.99979 val_acc 1.00000\n"
          ]
        },
        {
          "output_type": "stream",
          "name": "stderr",
          "text": [
            "loss 0.00003 acc 1.00000: 100%|██████████| 297/297 [00:06<00:00, 43.56it/s]\n",
            "val_loss 0.00005 val_acc 1.00000: 100%|██████████| 53/53 [00:01<00:00, 32.94it/s]\n"
          ]
        },
        {
          "output_type": "stream",
          "name": "stdout",
          "text": [
            "Epoch 610/1000 loss 0.00003 val_loss 0.00005 acc 1.00000 val_acc 1.00000\n"
          ]
        },
        {
          "output_type": "stream",
          "name": "stderr",
          "text": [
            "loss 0.00075 acc 0.99972: 100%|██████████| 297/297 [00:07<00:00, 40.26it/s]\n",
            "val_loss 0.00352 val_acc 0.99882: 100%|██████████| 53/53 [00:01<00:00, 35.63it/s]\n"
          ]
        },
        {
          "output_type": "stream",
          "name": "stdout",
          "text": [
            "Epoch 611/1000 loss 0.00075 val_loss 0.00352 acc 0.99972 val_acc 0.99882\n"
          ]
        },
        {
          "output_type": "stream",
          "name": "stderr",
          "text": [
            "loss 0.00156 acc 0.99937: 100%|██████████| 297/297 [00:06<00:00, 46.17it/s]\n",
            "val_loss 0.00284 val_acc 0.99882: 100%|██████████| 53/53 [00:01<00:00, 39.93it/s]\n"
          ]
        },
        {
          "output_type": "stream",
          "name": "stdout",
          "text": [
            "Epoch 612/1000 loss 0.00156 val_loss 0.00284 acc 0.99937 val_acc 0.99882\n"
          ]
        },
        {
          "output_type": "stream",
          "name": "stderr",
          "text": [
            "loss 0.00134 acc 0.99979: 100%|██████████| 297/297 [00:07<00:00, 40.09it/s]\n",
            "val_loss 0.00115 val_acc 0.99941: 100%|██████████| 53/53 [00:01<00:00, 36.18it/s]\n"
          ]
        },
        {
          "output_type": "stream",
          "name": "stdout",
          "text": [
            "Epoch 613/1000 loss 0.00134 val_loss 0.00115 acc 0.99979 val_acc 0.99941\n"
          ]
        },
        {
          "output_type": "stream",
          "name": "stderr",
          "text": [
            "loss 0.00171 acc 0.99947: 100%|██████████| 297/297 [00:05<00:00, 49.90it/s]\n",
            "val_loss 0.01287 val_acc 0.99764: 100%|██████████| 53/53 [00:01<00:00, 38.38it/s]\n"
          ]
        },
        {
          "output_type": "stream",
          "name": "stdout",
          "text": [
            "Epoch 614/1000 loss 0.00171 val_loss 0.01287 acc 0.99947 val_acc 0.99764\n"
          ]
        },
        {
          "output_type": "stream",
          "name": "stderr",
          "text": [
            "loss 0.00114 acc 0.99968: 100%|██████████| 297/297 [00:06<00:00, 43.10it/s]\n",
            "val_loss 0.00012 val_acc 1.00000: 100%|██████████| 53/53 [00:01<00:00, 35.50it/s]\n"
          ]
        },
        {
          "output_type": "stream",
          "name": "stdout",
          "text": [
            "Epoch 615/1000 loss 0.00114 val_loss 0.00012 acc 0.99968 val_acc 1.00000\n"
          ]
        },
        {
          "output_type": "stream",
          "name": "stderr",
          "text": [
            "loss 0.00082 acc 0.99979: 100%|██████████| 297/297 [00:06<00:00, 47.97it/s]\n",
            "val_loss 0.00462 val_acc 0.99882: 100%|██████████| 53/53 [00:01<00:00, 40.15it/s]\n"
          ]
        },
        {
          "output_type": "stream",
          "name": "stdout",
          "text": [
            "Epoch 616/1000 loss 0.00082 val_loss 0.00462 acc 0.99979 val_acc 0.99882\n"
          ]
        },
        {
          "output_type": "stream",
          "name": "stderr",
          "text": [
            "loss 0.00053 acc 0.99979: 100%|██████████| 297/297 [00:05<00:00, 50.31it/s]\n",
            "val_loss 0.00169 val_acc 0.99882: 100%|██████████| 53/53 [00:01<00:00, 40.42it/s]\n"
          ]
        },
        {
          "output_type": "stream",
          "name": "stdout",
          "text": [
            "Epoch 617/1000 loss 0.00053 val_loss 0.00169 acc 0.99979 val_acc 0.99882\n"
          ]
        },
        {
          "output_type": "stream",
          "name": "stderr",
          "text": [
            "loss 0.00005 acc 1.00000: 100%|██████████| 297/297 [00:06<00:00, 44.24it/s]\n",
            "val_loss 0.00261 val_acc 0.99882: 100%|██████████| 53/53 [00:01<00:00, 38.08it/s]\n"
          ]
        },
        {
          "output_type": "stream",
          "name": "stdout",
          "text": [
            "Epoch 618/1000 loss 0.00005 val_loss 0.00261 acc 1.00000 val_acc 0.99882\n"
          ]
        },
        {
          "output_type": "stream",
          "name": "stderr",
          "text": [
            "loss 0.00003 acc 1.00000: 100%|██████████| 297/297 [00:06<00:00, 49.03it/s]\n",
            "val_loss 0.00047 val_acc 1.00000: 100%|██████████| 53/53 [00:01<00:00, 38.48it/s]\n"
          ]
        },
        {
          "output_type": "stream",
          "name": "stdout",
          "text": [
            "Epoch 619/1000 loss 0.00003 val_loss 0.00047 acc 1.00000 val_acc 1.00000\n"
          ]
        },
        {
          "output_type": "stream",
          "name": "stderr",
          "text": [
            "loss 0.00003 acc 1.00000: 100%|██████████| 297/297 [00:06<00:00, 46.46it/s]\n",
            "val_loss 0.00060 val_acc 0.99941: 100%|██████████| 53/53 [00:01<00:00, 32.84it/s]\n"
          ]
        },
        {
          "output_type": "stream",
          "name": "stdout",
          "text": [
            "Epoch 620/1000 loss 0.00003 val_loss 0.00060 acc 1.00000 val_acc 0.99941\n",
            "Checkpoint guardado en /content/drive/MyDrive/SIS421 prueba dataset 1 test/Checkpoints/checkpoint.pth (Epoch 620)\n"
          ]
        },
        {
          "output_type": "stream",
          "name": "stderr",
          "text": [
            "loss 0.00032 acc 0.99989: 100%|██████████| 297/297 [00:06<00:00, 47.80it/s]\n",
            "val_loss 0.00025 val_acc 1.00000: 100%|██████████| 53/53 [00:01<00:00, 37.21it/s]\n"
          ]
        },
        {
          "output_type": "stream",
          "name": "stdout",
          "text": [
            "Epoch 621/1000 loss 0.00032 val_loss 0.00025 acc 0.99989 val_acc 1.00000\n"
          ]
        },
        {
          "output_type": "stream",
          "name": "stderr",
          "text": [
            "loss 0.00011 acc 1.00000: 100%|██████████| 297/297 [00:07<00:00, 41.38it/s]\n",
            "val_loss 0.00030 val_acc 1.00000: 100%|██████████| 53/53 [00:01<00:00, 30.09it/s]\n"
          ]
        },
        {
          "output_type": "stream",
          "name": "stdout",
          "text": [
            "Epoch 622/1000 loss 0.00011 val_loss 0.00030 acc 1.00000 val_acc 1.00000\n"
          ]
        },
        {
          "output_type": "stream",
          "name": "stderr",
          "text": [
            "loss 0.00066 acc 0.99968: 100%|██████████| 297/297 [00:07<00:00, 39.70it/s]\n",
            "val_loss 0.01388 val_acc 0.99646: 100%|██████████| 53/53 [00:01<00:00, 33.88it/s]\n"
          ]
        },
        {
          "output_type": "stream",
          "name": "stdout",
          "text": [
            "Epoch 623/1000 loss 0.00066 val_loss 0.01388 acc 0.99968 val_acc 0.99646\n"
          ]
        },
        {
          "output_type": "stream",
          "name": "stderr",
          "text": [
            "loss 0.00021 acc 0.99989: 100%|██████████| 297/297 [00:06<00:00, 46.23it/s]\n",
            "val_loss 0.00046 val_acc 1.00000: 100%|██████████| 53/53 [00:01<00:00, 38.13it/s]\n"
          ]
        },
        {
          "output_type": "stream",
          "name": "stdout",
          "text": [
            "Epoch 624/1000 loss 0.00021 val_loss 0.00046 acc 0.99989 val_acc 1.00000\n"
          ]
        },
        {
          "output_type": "stream",
          "name": "stderr",
          "text": [
            "loss 0.00000 acc 1.00000: 100%|██████████| 297/297 [00:07<00:00, 39.65it/s]\n",
            "val_loss 0.00057 val_acc 0.99941: 100%|██████████| 53/53 [00:01<00:00, 31.88it/s]\n"
          ]
        },
        {
          "output_type": "stream",
          "name": "stdout",
          "text": [
            "Epoch 625/1000 loss 0.00000 val_loss 0.00057 acc 1.00000 val_acc 0.99941\n"
          ]
        },
        {
          "output_type": "stream",
          "name": "stderr",
          "text": [
            "loss 0.00006 acc 1.00000: 100%|██████████| 297/297 [00:06<00:00, 44.67it/s]\n",
            "val_loss 0.00010 val_acc 1.00000: 100%|██████████| 53/53 [00:01<00:00, 36.53it/s]\n"
          ]
        },
        {
          "output_type": "stream",
          "name": "stdout",
          "text": [
            "Epoch 626/1000 loss 0.00006 val_loss 0.00010 acc 1.00000 val_acc 1.00000\n"
          ]
        },
        {
          "output_type": "stream",
          "name": "stderr",
          "text": [
            "loss 0.00021 acc 1.00000: 100%|██████████| 297/297 [00:06<00:00, 44.12it/s]\n",
            "val_loss 0.00000 val_acc 1.00000: 100%|██████████| 53/53 [00:01<00:00, 32.61it/s]\n"
          ]
        },
        {
          "output_type": "stream",
          "name": "stdout",
          "text": [
            "Epoch 627/1000 loss 0.00021 val_loss 0.00000 acc 1.00000 val_acc 1.00000\n"
          ]
        },
        {
          "output_type": "stream",
          "name": "stderr",
          "text": [
            "loss 0.00176 acc 0.99947: 100%|██████████| 297/297 [00:07<00:00, 40.55it/s]\n",
            "val_loss 0.00001 val_acc 1.00000: 100%|██████████| 53/53 [00:01<00:00, 38.16it/s]\n"
          ]
        },
        {
          "output_type": "stream",
          "name": "stdout",
          "text": [
            "Epoch 628/1000 loss 0.00176 val_loss 0.00001 acc 0.99947 val_acc 1.00000\n"
          ]
        },
        {
          "output_type": "stream",
          "name": "stderr",
          "text": [
            "loss 0.00018 acc 0.99989: 100%|██████████| 297/297 [00:06<00:00, 45.42it/s]\n",
            "val_loss 0.00019 val_acc 1.00000: 100%|██████████| 53/53 [00:01<00:00, 34.30it/s]\n"
          ]
        },
        {
          "output_type": "stream",
          "name": "stdout",
          "text": [
            "Epoch 629/1000 loss 0.00018 val_loss 0.00019 acc 0.99989 val_acc 1.00000\n"
          ]
        },
        {
          "output_type": "stream",
          "name": "stderr",
          "text": [
            "loss 0.00028 acc 0.99989: 100%|██████████| 297/297 [00:07<00:00, 40.16it/s]\n",
            "val_loss 0.00001 val_acc 1.00000: 100%|██████████| 53/53 [00:01<00:00, 35.34it/s]\n"
          ]
        },
        {
          "output_type": "stream",
          "name": "stdout",
          "text": [
            "Epoch 630/1000 loss 0.00028 val_loss 0.00001 acc 0.99989 val_acc 1.00000\n"
          ]
        },
        {
          "output_type": "stream",
          "name": "stderr",
          "text": [
            "loss 0.00016 acc 0.99989: 100%|██████████| 297/297 [00:06<00:00, 46.70it/s]\n",
            "val_loss 0.00015 val_acc 1.00000: 100%|██████████| 53/53 [00:01<00:00, 37.68it/s]\n"
          ]
        },
        {
          "output_type": "stream",
          "name": "stdout",
          "text": [
            "Epoch 631/1000 loss 0.00016 val_loss 0.00015 acc 0.99989 val_acc 1.00000\n"
          ]
        },
        {
          "output_type": "stream",
          "name": "stderr",
          "text": [
            "loss 0.00073 acc 0.99989: 100%|██████████| 297/297 [00:07<00:00, 41.97it/s]\n",
            "val_loss 0.00037 val_acc 1.00000: 100%|██████████| 53/53 [00:01<00:00, 32.05it/s]\n"
          ]
        },
        {
          "output_type": "stream",
          "name": "stdout",
          "text": [
            "Epoch 632/1000 loss 0.00073 val_loss 0.00037 acc 0.99989 val_acc 1.00000\n"
          ]
        },
        {
          "output_type": "stream",
          "name": "stderr",
          "text": [
            "loss 0.00019 acc 0.99989: 100%|██████████| 297/297 [00:06<00:00, 45.22it/s]\n",
            "val_loss 0.00005 val_acc 1.00000: 100%|██████████| 53/53 [00:01<00:00, 36.68it/s]\n"
          ]
        },
        {
          "output_type": "stream",
          "name": "stdout",
          "text": [
            "Epoch 633/1000 loss 0.00019 val_loss 0.00005 acc 0.99989 val_acc 1.00000\n"
          ]
        },
        {
          "output_type": "stream",
          "name": "stderr",
          "text": [
            "loss 0.00006 acc 1.00000: 100%|██████████| 297/297 [00:06<00:00, 43.11it/s]\n",
            "val_loss 0.00038 val_acc 1.00000: 100%|██████████| 53/53 [00:01<00:00, 30.90it/s]\n"
          ]
        },
        {
          "output_type": "stream",
          "name": "stdout",
          "text": [
            "Epoch 634/1000 loss 0.00006 val_loss 0.00038 acc 1.00000 val_acc 1.00000\n"
          ]
        },
        {
          "output_type": "stream",
          "name": "stderr",
          "text": [
            "loss 0.00003 acc 1.00000: 100%|██████████| 297/297 [00:07<00:00, 42.11it/s]\n",
            "val_loss 0.00117 val_acc 0.99941: 100%|██████████| 53/53 [00:01<00:00, 37.13it/s]\n"
          ]
        },
        {
          "output_type": "stream",
          "name": "stdout",
          "text": [
            "Epoch 635/1000 loss 0.00003 val_loss 0.00117 acc 1.00000 val_acc 0.99941\n"
          ]
        },
        {
          "output_type": "stream",
          "name": "stderr",
          "text": [
            "loss 0.00001 acc 1.00000: 100%|██████████| 297/297 [00:06<00:00, 44.74it/s]\n",
            "val_loss 0.00084 val_acc 0.99941: 100%|██████████| 53/53 [00:01<00:00, 33.00it/s]\n"
          ]
        },
        {
          "output_type": "stream",
          "name": "stdout",
          "text": [
            "Epoch 636/1000 loss 0.00001 val_loss 0.00084 acc 1.00000 val_acc 0.99941\n"
          ]
        },
        {
          "output_type": "stream",
          "name": "stderr",
          "text": [
            "loss 0.00131 acc 0.99972: 100%|██████████| 297/297 [00:07<00:00, 40.23it/s]\n",
            "val_loss 0.00134 val_acc 0.99882: 100%|██████████| 53/53 [00:01<00:00, 35.33it/s]\n"
          ]
        },
        {
          "output_type": "stream",
          "name": "stdout",
          "text": [
            "Epoch 637/1000 loss 0.00131 val_loss 0.00134 acc 0.99972 val_acc 0.99882\n"
          ]
        },
        {
          "output_type": "stream",
          "name": "stderr",
          "text": [
            "loss 0.00076 acc 0.99968: 100%|██████████| 297/297 [00:06<00:00, 43.55it/s]\n",
            "val_loss 0.00225 val_acc 0.99941: 100%|██████████| 53/53 [00:01<00:00, 35.79it/s]\n"
          ]
        },
        {
          "output_type": "stream",
          "name": "stdout",
          "text": [
            "Epoch 638/1000 loss 0.00076 val_loss 0.00225 acc 0.99968 val_acc 0.99941\n"
          ]
        },
        {
          "output_type": "stream",
          "name": "stderr",
          "text": [
            "loss 0.00114 acc 0.99930: 100%|██████████| 297/297 [00:07<00:00, 40.35it/s]\n",
            "val_loss 0.00771 val_acc 0.99823: 100%|██████████| 53/53 [00:01<00:00, 32.86it/s]\n"
          ]
        },
        {
          "output_type": "stream",
          "name": "stdout",
          "text": [
            "Epoch 639/1000 loss 0.00114 val_loss 0.00771 acc 0.99930 val_acc 0.99823\n"
          ]
        },
        {
          "output_type": "stream",
          "name": "stderr",
          "text": [
            "loss 0.00010 acc 1.00000: 100%|██████████| 297/297 [00:06<00:00, 44.18it/s]\n",
            "val_loss 0.00084 val_acc 0.99941: 100%|██████████| 53/53 [00:01<00:00, 36.06it/s]\n"
          ]
        },
        {
          "output_type": "stream",
          "name": "stdout",
          "text": [
            "Epoch 640/1000 loss 0.00010 val_loss 0.00084 acc 1.00000 val_acc 0.99941\n",
            "Checkpoint guardado en /content/drive/MyDrive/SIS421 prueba dataset 1 test/Checkpoints/checkpoint.pth (Epoch 640)\n"
          ]
        },
        {
          "output_type": "stream",
          "name": "stderr",
          "text": [
            "loss 0.00015 acc 0.99989: 100%|██████████| 297/297 [00:07<00:00, 39.13it/s]\n",
            "val_loss 0.00104 val_acc 0.99941: 100%|██████████| 53/53 [00:01<00:00, 31.65it/s]\n"
          ]
        },
        {
          "output_type": "stream",
          "name": "stdout",
          "text": [
            "Epoch 641/1000 loss 0.00015 val_loss 0.00104 acc 0.99989 val_acc 0.99941\n"
          ]
        },
        {
          "output_type": "stream",
          "name": "stderr",
          "text": [
            "loss 0.00007 acc 1.00000: 100%|██████████| 297/297 [00:06<00:00, 42.80it/s]\n",
            "val_loss 0.00007 val_acc 1.00000: 100%|██████████| 53/53 [00:01<00:00, 36.84it/s]\n"
          ]
        },
        {
          "output_type": "stream",
          "name": "stdout",
          "text": [
            "Epoch 642/1000 loss 0.00007 val_loss 0.00007 acc 1.00000 val_acc 1.00000\n"
          ]
        },
        {
          "output_type": "stream",
          "name": "stderr",
          "text": [
            "loss 0.00045 acc 0.99961: 100%|██████████| 297/297 [00:07<00:00, 39.08it/s]\n",
            "val_loss 0.00056 val_acc 1.00000: 100%|██████████| 53/53 [00:01<00:00, 31.00it/s]\n"
          ]
        },
        {
          "output_type": "stream",
          "name": "stdout",
          "text": [
            "Epoch 643/1000 loss 0.00045 val_loss 0.00056 acc 0.99961 val_acc 1.00000\n"
          ]
        },
        {
          "output_type": "stream",
          "name": "stderr",
          "text": [
            "loss 0.00378 acc 0.99951: 100%|██████████| 297/297 [00:07<00:00, 38.40it/s]\n",
            "val_loss 0.00001 val_acc 1.00000: 100%|██████████| 53/53 [00:01<00:00, 33.18it/s]\n"
          ]
        },
        {
          "output_type": "stream",
          "name": "stdout",
          "text": [
            "Epoch 644/1000 loss 0.00378 val_loss 0.00001 acc 0.99951 val_acc 1.00000\n"
          ]
        },
        {
          "output_type": "stream",
          "name": "stderr",
          "text": [
            "loss 0.00015 acc 1.00000: 100%|██████████| 297/297 [00:07<00:00, 40.70it/s]\n",
            "val_loss 0.00011 val_acc 1.00000: 100%|██████████| 53/53 [00:01<00:00, 32.34it/s]\n"
          ]
        },
        {
          "output_type": "stream",
          "name": "stdout",
          "text": [
            "Epoch 645/1000 loss 0.00015 val_loss 0.00011 acc 1.00000 val_acc 1.00000\n"
          ]
        },
        {
          "output_type": "stream",
          "name": "stderr",
          "text": [
            "loss 0.00271 acc 0.99926: 100%|██████████| 297/297 [00:07<00:00, 38.88it/s]\n",
            "val_loss 0.00003 val_acc 1.00000: 100%|██████████| 53/53 [00:01<00:00, 37.26it/s]\n"
          ]
        },
        {
          "output_type": "stream",
          "name": "stdout",
          "text": [
            "Epoch 646/1000 loss 0.00271 val_loss 0.00003 acc 0.99926 val_acc 1.00000\n"
          ]
        },
        {
          "output_type": "stream",
          "name": "stderr",
          "text": [
            "loss 0.00004 acc 1.00000: 100%|██████████| 297/297 [00:06<00:00, 45.44it/s]\n",
            "val_loss 0.00001 val_acc 1.00000: 100%|██████████| 53/53 [00:01<00:00, 30.46it/s]\n"
          ]
        },
        {
          "output_type": "stream",
          "name": "stdout",
          "text": [
            "Epoch 647/1000 loss 0.00004 val_loss 0.00001 acc 1.00000 val_acc 1.00000\n"
          ]
        },
        {
          "output_type": "stream",
          "name": "stderr",
          "text": [
            "loss 0.00008 acc 1.00000: 100%|██████████| 297/297 [00:07<00:00, 39.29it/s]\n",
            "val_loss 0.00001 val_acc 1.00000: 100%|██████████| 53/53 [00:01<00:00, 32.46it/s]\n"
          ]
        },
        {
          "output_type": "stream",
          "name": "stdout",
          "text": [
            "Epoch 648/1000 loss 0.00008 val_loss 0.00001 acc 1.00000 val_acc 1.00000\n"
          ]
        },
        {
          "output_type": "stream",
          "name": "stderr",
          "text": [
            "loss 0.00010 acc 0.99989: 100%|██████████| 297/297 [00:06<00:00, 43.10it/s]\n",
            "val_loss 0.00001 val_acc 1.00000: 100%|██████████| 53/53 [00:01<00:00, 34.33it/s]\n"
          ]
        },
        {
          "output_type": "stream",
          "name": "stdout",
          "text": [
            "Epoch 649/1000 loss 0.00010 val_loss 0.00001 acc 0.99989 val_acc 1.00000\n"
          ]
        },
        {
          "output_type": "stream",
          "name": "stderr",
          "text": [
            "loss 0.00062 acc 0.99979: 100%|██████████| 297/297 [00:07<00:00, 39.55it/s]\n",
            "val_loss 0.00000 val_acc 1.00000: 100%|██████████| 53/53 [00:01<00:00, 31.99it/s]\n"
          ]
        },
        {
          "output_type": "stream",
          "name": "stdout",
          "text": [
            "Epoch 650/1000 loss 0.00062 val_loss 0.00000 acc 0.99979 val_acc 1.00000\n"
          ]
        },
        {
          "output_type": "stream",
          "name": "stderr",
          "text": [
            "loss 0.00005 acc 1.00000: 100%|██████████| 297/297 [00:06<00:00, 43.78it/s]\n",
            "val_loss 0.00002 val_acc 1.00000: 100%|██████████| 53/53 [00:01<00:00, 36.83it/s]\n"
          ]
        },
        {
          "output_type": "stream",
          "name": "stdout",
          "text": [
            "Epoch 651/1000 loss 0.00005 val_loss 0.00002 acc 1.00000 val_acc 1.00000\n"
          ]
        },
        {
          "output_type": "stream",
          "name": "stderr",
          "text": [
            "loss 0.00012 acc 1.00000: 100%|██████████| 297/297 [00:07<00:00, 40.66it/s]\n",
            "val_loss 0.00005 val_acc 1.00000: 100%|██████████| 53/53 [00:01<00:00, 32.04it/s]\n"
          ]
        },
        {
          "output_type": "stream",
          "name": "stdout",
          "text": [
            "Epoch 652/1000 loss 0.00012 val_loss 0.00005 acc 1.00000 val_acc 1.00000\n"
          ]
        },
        {
          "output_type": "stream",
          "name": "stderr",
          "text": [
            "loss 0.00022 acc 0.99989: 100%|██████████| 297/297 [00:06<00:00, 43.21it/s]\n",
            "val_loss 0.00000 val_acc 1.00000: 100%|██████████| 53/53 [00:01<00:00, 34.87it/s]\n"
          ]
        },
        {
          "output_type": "stream",
          "name": "stdout",
          "text": [
            "Epoch 653/1000 loss 0.00022 val_loss 0.00000 acc 0.99989 val_acc 1.00000\n"
          ]
        },
        {
          "output_type": "stream",
          "name": "stderr",
          "text": [
            "loss 0.00038 acc 0.99989: 100%|██████████| 297/297 [00:07<00:00, 41.77it/s]\n",
            "val_loss 0.00001 val_acc 1.00000: 100%|██████████| 53/53 [00:01<00:00, 30.33it/s]\n"
          ]
        },
        {
          "output_type": "stream",
          "name": "stdout",
          "text": [
            "Epoch 654/1000 loss 0.00038 val_loss 0.00001 acc 0.99989 val_acc 1.00000\n"
          ]
        },
        {
          "output_type": "stream",
          "name": "stderr",
          "text": [
            "loss 0.00109 acc 0.99958: 100%|██████████| 297/297 [00:07<00:00, 39.24it/s]\n",
            "val_loss 0.00018 val_acc 1.00000: 100%|██████████| 53/53 [00:01<00:00, 33.81it/s]\n"
          ]
        },
        {
          "output_type": "stream",
          "name": "stdout",
          "text": [
            "Epoch 655/1000 loss 0.00109 val_loss 0.00018 acc 0.99958 val_acc 1.00000\n"
          ]
        },
        {
          "output_type": "stream",
          "name": "stderr",
          "text": [
            "loss 0.00098 acc 0.99958: 100%|██████████| 297/297 [00:06<00:00, 44.52it/s]\n",
            "val_loss 0.00226 val_acc 0.99941: 100%|██████████| 53/53 [00:01<00:00, 39.40it/s]\n"
          ]
        },
        {
          "output_type": "stream",
          "name": "stdout",
          "text": [
            "Epoch 656/1000 loss 0.00098 val_loss 0.00226 acc 0.99958 val_acc 0.99941\n"
          ]
        },
        {
          "output_type": "stream",
          "name": "stderr",
          "text": [
            "loss 0.00004 acc 1.00000: 100%|██████████| 297/297 [00:07<00:00, 40.33it/s]\n",
            "val_loss 0.00032 val_acc 1.00000: 100%|██████████| 53/53 [00:01<00:00, 33.97it/s]\n"
          ]
        },
        {
          "output_type": "stream",
          "name": "stdout",
          "text": [
            "Epoch 657/1000 loss 0.00004 val_loss 0.00032 acc 1.00000 val_acc 1.00000\n"
          ]
        },
        {
          "output_type": "stream",
          "name": "stderr",
          "text": [
            "loss 0.00006 acc 1.00000: 100%|██████████| 297/297 [00:06<00:00, 48.48it/s]\n",
            "val_loss 0.00011 val_acc 1.00000: 100%|██████████| 53/53 [00:01<00:00, 33.82it/s]\n"
          ]
        },
        {
          "output_type": "stream",
          "name": "stdout",
          "text": [
            "Epoch 658/1000 loss 0.00006 val_loss 0.00011 acc 1.00000 val_acc 1.00000\n"
          ]
        },
        {
          "output_type": "stream",
          "name": "stderr",
          "text": [
            "loss 0.00004 acc 1.00000: 100%|██████████| 297/297 [00:07<00:00, 40.42it/s]\n",
            "val_loss 0.00013 val_acc 1.00000: 100%|██████████| 53/53 [00:01<00:00, 30.62it/s]\n"
          ]
        },
        {
          "output_type": "stream",
          "name": "stdout",
          "text": [
            "Epoch 659/1000 loss 0.00004 val_loss 0.00013 acc 1.00000 val_acc 1.00000\n"
          ]
        },
        {
          "output_type": "stream",
          "name": "stderr",
          "text": [
            "loss 0.00292 acc 0.99972: 100%|██████████| 297/297 [00:06<00:00, 45.37it/s]\n",
            "val_loss 0.00031 val_acc 1.00000: 100%|██████████| 53/53 [00:01<00:00, 37.18it/s]\n"
          ]
        },
        {
          "output_type": "stream",
          "name": "stdout",
          "text": [
            "Epoch 660/1000 loss 0.00292 val_loss 0.00031 acc 0.99972 val_acc 1.00000\n",
            "Checkpoint guardado en /content/drive/MyDrive/SIS421 prueba dataset 1 test/Checkpoints/checkpoint.pth (Epoch 660)\n"
          ]
        },
        {
          "output_type": "stream",
          "name": "stderr",
          "text": [
            "loss 0.00071 acc 0.99979: 100%|██████████| 297/297 [00:06<00:00, 46.87it/s]\n",
            "val_loss 0.00109 val_acc 0.99882: 100%|██████████| 53/53 [00:01<00:00, 32.06it/s]\n"
          ]
        },
        {
          "output_type": "stream",
          "name": "stdout",
          "text": [
            "Epoch 661/1000 loss 0.00071 val_loss 0.00109 acc 0.99979 val_acc 0.99882\n"
          ]
        },
        {
          "output_type": "stream",
          "name": "stderr",
          "text": [
            "loss 0.00023 acc 0.99989: 100%|██████████| 297/297 [00:07<00:00, 38.47it/s]\n",
            "val_loss 0.00002 val_acc 1.00000: 100%|██████████| 53/53 [00:01<00:00, 35.45it/s]\n"
          ]
        },
        {
          "output_type": "stream",
          "name": "stdout",
          "text": [
            "Epoch 662/1000 loss 0.00023 val_loss 0.00002 acc 0.99989 val_acc 1.00000\n"
          ]
        },
        {
          "output_type": "stream",
          "name": "stderr",
          "text": [
            "loss 0.00004 acc 1.00000: 100%|██████████| 297/297 [00:06<00:00, 46.26it/s]\n",
            "val_loss 0.00006 val_acc 1.00000: 100%|██████████| 53/53 [00:01<00:00, 38.24it/s]\n"
          ]
        },
        {
          "output_type": "stream",
          "name": "stdout",
          "text": [
            "Epoch 663/1000 loss 0.00004 val_loss 0.00006 acc 1.00000 val_acc 1.00000\n"
          ]
        },
        {
          "output_type": "stream",
          "name": "stderr",
          "text": [
            "loss 0.00041 acc 0.99972: 100%|██████████| 297/297 [00:07<00:00, 39.54it/s]\n",
            "val_loss 0.00001 val_acc 1.00000: 100%|██████████| 53/53 [00:01<00:00, 34.52it/s]\n"
          ]
        },
        {
          "output_type": "stream",
          "name": "stdout",
          "text": [
            "Epoch 664/1000 loss 0.00041 val_loss 0.00001 acc 0.99972 val_acc 1.00000\n"
          ]
        },
        {
          "output_type": "stream",
          "name": "stderr",
          "text": [
            "loss 0.00026 acc 0.99989: 100%|██████████| 297/297 [00:07<00:00, 42.26it/s]\n",
            "val_loss 0.00031 val_acc 1.00000: 100%|██████████| 53/53 [00:01<00:00, 31.19it/s]\n"
          ]
        },
        {
          "output_type": "stream",
          "name": "stdout",
          "text": [
            "Epoch 665/1000 loss 0.00026 val_loss 0.00031 acc 0.99989 val_acc 1.00000\n"
          ]
        },
        {
          "output_type": "stream",
          "name": "stderr",
          "text": [
            "loss 0.00004 acc 1.00000: 100%|██████████| 297/297 [00:07<00:00, 39.80it/s]\n",
            "val_loss 0.00000 val_acc 1.00000: 100%|██████████| 53/53 [00:01<00:00, 30.50it/s]\n"
          ]
        },
        {
          "output_type": "stream",
          "name": "stdout",
          "text": [
            "Epoch 666/1000 loss 0.00004 val_loss 0.00000 acc 1.00000 val_acc 1.00000\n"
          ]
        },
        {
          "output_type": "stream",
          "name": "stderr",
          "text": [
            "loss 0.00046 acc 0.99989: 100%|██████████| 297/297 [00:07<00:00, 41.23it/s]\n",
            "val_loss 0.09325 val_acc 0.98467: 100%|██████████| 53/53 [00:01<00:00, 36.88it/s]\n"
          ]
        },
        {
          "output_type": "stream",
          "name": "stdout",
          "text": [
            "Epoch 667/1000 loss 0.00046 val_loss 0.09325 acc 0.99989 val_acc 0.98467\n"
          ]
        },
        {
          "output_type": "stream",
          "name": "stderr",
          "text": [
            "loss 0.00370 acc 0.99916: 100%|██████████| 297/297 [00:06<00:00, 46.19it/s]\n",
            "val_loss 0.00044 val_acc 1.00000: 100%|██████████| 53/53 [00:01<00:00, 36.13it/s]\n"
          ]
        },
        {
          "output_type": "stream",
          "name": "stdout",
          "text": [
            "Epoch 668/1000 loss 0.00370 val_loss 0.00044 acc 0.99916 val_acc 1.00000\n"
          ]
        },
        {
          "output_type": "stream",
          "name": "stderr",
          "text": [
            "loss 0.00056 acc 0.99979: 100%|██████████| 297/297 [00:07<00:00, 39.61it/s]\n",
            "val_loss 0.00093 val_acc 0.99941: 100%|██████████| 53/53 [00:01<00:00, 37.04it/s]\n"
          ]
        },
        {
          "output_type": "stream",
          "name": "stdout",
          "text": [
            "Epoch 669/1000 loss 0.00056 val_loss 0.00093 acc 0.99979 val_acc 0.99941\n"
          ]
        },
        {
          "output_type": "stream",
          "name": "stderr",
          "text": [
            "loss 0.00012 acc 1.00000: 100%|██████████| 297/297 [00:06<00:00, 46.25it/s]\n",
            "val_loss 0.00042 val_acc 0.99941: 100%|██████████| 53/53 [00:01<00:00, 36.85it/s]\n"
          ]
        },
        {
          "output_type": "stream",
          "name": "stdout",
          "text": [
            "Epoch 670/1000 loss 0.00012 val_loss 0.00042 acc 1.00000 val_acc 0.99941\n"
          ]
        },
        {
          "output_type": "stream",
          "name": "stderr",
          "text": [
            "loss 0.00012 acc 1.00000: 100%|██████████| 297/297 [00:07<00:00, 40.21it/s]\n",
            "val_loss 0.00167 val_acc 0.99941: 100%|██████████| 53/53 [00:01<00:00, 32.74it/s]\n"
          ]
        },
        {
          "output_type": "stream",
          "name": "stdout",
          "text": [
            "Epoch 671/1000 loss 0.00012 val_loss 0.00167 acc 1.00000 val_acc 0.99941\n"
          ]
        },
        {
          "output_type": "stream",
          "name": "stderr",
          "text": [
            "loss 0.00011 acc 0.99989: 100%|██████████| 297/297 [00:06<00:00, 45.61it/s]\n",
            "val_loss 0.00024 val_acc 1.00000: 100%|██████████| 53/53 [00:01<00:00, 38.52it/s]\n"
          ]
        },
        {
          "output_type": "stream",
          "name": "stdout",
          "text": [
            "Epoch 672/1000 loss 0.00011 val_loss 0.00024 acc 0.99989 val_acc 1.00000\n"
          ]
        },
        {
          "output_type": "stream",
          "name": "stderr",
          "text": [
            "loss 0.00033 acc 0.99979: 100%|██████████| 297/297 [00:07<00:00, 41.46it/s]\n",
            "val_loss 0.00091 val_acc 0.99941: 100%|██████████| 53/53 [00:01<00:00, 30.93it/s]\n"
          ]
        },
        {
          "output_type": "stream",
          "name": "stdout",
          "text": [
            "Epoch 673/1000 loss 0.00033 val_loss 0.00091 acc 0.99979 val_acc 0.99941\n"
          ]
        },
        {
          "output_type": "stream",
          "name": "stderr",
          "text": [
            "loss 0.00003 acc 1.00000: 100%|██████████| 297/297 [00:07<00:00, 41.02it/s]\n",
            "val_loss 0.00004 val_acc 1.00000: 100%|██████████| 53/53 [00:01<00:00, 36.07it/s]\n"
          ]
        },
        {
          "output_type": "stream",
          "name": "stdout",
          "text": [
            "Epoch 674/1000 loss 0.00003 val_loss 0.00004 acc 1.00000 val_acc 1.00000\n"
          ]
        },
        {
          "output_type": "stream",
          "name": "stderr",
          "text": [
            "loss 0.00018 acc 0.99989: 100%|██████████| 297/297 [00:06<00:00, 46.54it/s]\n",
            "val_loss 0.00004 val_acc 1.00000: 100%|██████████| 53/53 [00:01<00:00, 34.01it/s]\n"
          ]
        },
        {
          "output_type": "stream",
          "name": "stdout",
          "text": [
            "Epoch 675/1000 loss 0.00018 val_loss 0.00004 acc 0.99989 val_acc 1.00000\n"
          ]
        },
        {
          "output_type": "stream",
          "name": "stderr",
          "text": [
            "loss 0.00072 acc 0.99968: 100%|██████████| 297/297 [00:07<00:00, 38.14it/s]\n",
            "val_loss 0.00029 val_acc 1.00000: 100%|██████████| 53/53 [00:01<00:00, 34.47it/s]\n"
          ]
        },
        {
          "output_type": "stream",
          "name": "stdout",
          "text": [
            "Epoch 676/1000 loss 0.00072 val_loss 0.00029 acc 0.99968 val_acc 1.00000\n"
          ]
        },
        {
          "output_type": "stream",
          "name": "stderr",
          "text": [
            "loss 0.00140 acc 0.99968: 100%|██████████| 297/297 [00:06<00:00, 42.74it/s]\n",
            "val_loss 0.01211 val_acc 0.99823: 100%|██████████| 53/53 [00:01<00:00, 33.17it/s]\n"
          ]
        },
        {
          "output_type": "stream",
          "name": "stdout",
          "text": [
            "Epoch 677/1000 loss 0.00140 val_loss 0.01211 acc 0.99968 val_acc 0.99823\n"
          ]
        },
        {
          "output_type": "stream",
          "name": "stderr",
          "text": [
            "loss 0.00038 acc 0.99989: 100%|██████████| 297/297 [00:07<00:00, 38.58it/s]\n",
            "val_loss 0.00428 val_acc 0.99882: 100%|██████████| 53/53 [00:01<00:00, 27.64it/s]\n"
          ]
        },
        {
          "output_type": "stream",
          "name": "stdout",
          "text": [
            "Epoch 678/1000 loss 0.00038 val_loss 0.00428 acc 0.99989 val_acc 0.99882\n"
          ]
        },
        {
          "output_type": "stream",
          "name": "stderr",
          "text": [
            "loss 0.00056 acc 0.99979: 100%|██████████| 297/297 [00:06<00:00, 46.43it/s]\n",
            "val_loss 0.00312 val_acc 0.99941: 100%|██████████| 53/53 [00:01<00:00, 34.65it/s]\n"
          ]
        },
        {
          "output_type": "stream",
          "name": "stdout",
          "text": [
            "Epoch 679/1000 loss 0.00056 val_loss 0.00312 acc 0.99979 val_acc 0.99941\n"
          ]
        },
        {
          "output_type": "stream",
          "name": "stderr",
          "text": [
            "loss 0.00049 acc 0.99979: 100%|██████████| 297/297 [00:07<00:00, 41.60it/s]\n",
            "val_loss 0.00002 val_acc 1.00000: 100%|██████████| 53/53 [00:01<00:00, 31.96it/s]\n"
          ]
        },
        {
          "output_type": "stream",
          "name": "stdout",
          "text": [
            "Epoch 680/1000 loss 0.00049 val_loss 0.00002 acc 0.99979 val_acc 1.00000\n",
            "Checkpoint guardado en /content/drive/MyDrive/SIS421 prueba dataset 1 test/Checkpoints/checkpoint.pth (Epoch 680)\n"
          ]
        },
        {
          "output_type": "stream",
          "name": "stderr",
          "text": [
            "loss 0.00009 acc 1.00000: 100%|██████████| 297/297 [00:06<00:00, 42.68it/s]\n",
            "val_loss 0.00265 val_acc 0.99882: 100%|██████████| 53/53 [00:01<00:00, 33.38it/s]\n"
          ]
        },
        {
          "output_type": "stream",
          "name": "stdout",
          "text": [
            "Epoch 681/1000 loss 0.00009 val_loss 0.00265 acc 1.00000 val_acc 0.99882\n"
          ]
        },
        {
          "output_type": "stream",
          "name": "stderr",
          "text": [
            "loss 0.00005 acc 1.00000: 100%|██████████| 297/297 [00:07<00:00, 39.96it/s]\n",
            "val_loss 0.00007 val_acc 1.00000: 100%|██████████| 53/53 [00:01<00:00, 36.38it/s]\n"
          ]
        },
        {
          "output_type": "stream",
          "name": "stdout",
          "text": [
            "Epoch 682/1000 loss 0.00005 val_loss 0.00007 acc 1.00000 val_acc 1.00000\n"
          ]
        },
        {
          "output_type": "stream",
          "name": "stderr",
          "text": [
            "loss 0.00038 acc 0.99989: 100%|██████████| 297/297 [00:07<00:00, 39.84it/s]\n",
            "val_loss 0.00002 val_acc 1.00000: 100%|██████████| 53/53 [00:01<00:00, 34.47it/s]\n"
          ]
        },
        {
          "output_type": "stream",
          "name": "stdout",
          "text": [
            "Epoch 683/1000 loss 0.00038 val_loss 0.00002 acc 0.99989 val_acc 1.00000\n"
          ]
        },
        {
          "output_type": "stream",
          "name": "stderr",
          "text": [
            "loss 0.00174 acc 0.99961: 100%|██████████| 297/297 [00:06<00:00, 45.26it/s]\n",
            "val_loss 0.00259 val_acc 0.99882: 100%|██████████| 53/53 [00:01<00:00, 31.65it/s]\n"
          ]
        },
        {
          "output_type": "stream",
          "name": "stdout",
          "text": [
            "Epoch 684/1000 loss 0.00174 val_loss 0.00259 acc 0.99961 val_acc 0.99882\n"
          ]
        },
        {
          "output_type": "stream",
          "name": "stderr",
          "text": [
            "loss 0.00197 acc 0.99937: 100%|██████████| 297/297 [00:07<00:00, 42.08it/s]\n",
            "val_loss 0.00002 val_acc 1.00000: 100%|██████████| 53/53 [00:01<00:00, 33.91it/s]\n"
          ]
        },
        {
          "output_type": "stream",
          "name": "stdout",
          "text": [
            "Epoch 685/1000 loss 0.00197 val_loss 0.00002 acc 0.99937 val_acc 1.00000\n"
          ]
        },
        {
          "output_type": "stream",
          "name": "stderr",
          "text": [
            "loss 0.00021 acc 0.99989: 100%|██████████| 297/297 [00:06<00:00, 49.01it/s]\n",
            "val_loss 0.00001 val_acc 1.00000: 100%|██████████| 53/53 [00:01<00:00, 36.07it/s]\n"
          ]
        },
        {
          "output_type": "stream",
          "name": "stdout",
          "text": [
            "Epoch 686/1000 loss 0.00021 val_loss 0.00001 acc 0.99989 val_acc 1.00000\n"
          ]
        },
        {
          "output_type": "stream",
          "name": "stderr",
          "text": [
            "loss 0.00104 acc 0.99979: 100%|██████████| 297/297 [00:06<00:00, 42.69it/s]\n",
            "val_loss 0.00001 val_acc 1.00000: 100%|██████████| 53/53 [00:01<00:00, 31.59it/s]\n"
          ]
        },
        {
          "output_type": "stream",
          "name": "stdout",
          "text": [
            "Epoch 687/1000 loss 0.00104 val_loss 0.00001 acc 0.99979 val_acc 1.00000\n"
          ]
        },
        {
          "output_type": "stream",
          "name": "stderr",
          "text": [
            "loss 0.00907 acc 0.99944: 100%|██████████| 297/297 [00:07<00:00, 41.42it/s]\n",
            "val_loss 0.00000 val_acc 1.00000: 100%|██████████| 53/53 [00:01<00:00, 40.00it/s]\n"
          ]
        },
        {
          "output_type": "stream",
          "name": "stdout",
          "text": [
            "Epoch 688/1000 loss 0.00907 val_loss 0.00000 acc 0.99944 val_acc 1.00000\n"
          ]
        },
        {
          "output_type": "stream",
          "name": "stderr",
          "text": [
            "loss 0.00257 acc 0.99916: 100%|██████████| 297/297 [00:06<00:00, 47.43it/s]\n",
            "val_loss 0.00008 val_acc 1.00000: 100%|██████████| 53/53 [00:01<00:00, 37.17it/s]\n"
          ]
        },
        {
          "output_type": "stream",
          "name": "stdout",
          "text": [
            "Epoch 689/1000 loss 0.00257 val_loss 0.00008 acc 0.99916 val_acc 1.00000\n"
          ]
        },
        {
          "output_type": "stream",
          "name": "stderr",
          "text": [
            "loss 0.00006 acc 1.00000: 100%|██████████| 297/297 [00:06<00:00, 43.98it/s]\n",
            "val_loss 0.00016 val_acc 1.00000: 100%|██████████| 53/53 [00:01<00:00, 34.42it/s]\n"
          ]
        },
        {
          "output_type": "stream",
          "name": "stdout",
          "text": [
            "Epoch 690/1000 loss 0.00006 val_loss 0.00016 acc 1.00000 val_acc 1.00000\n"
          ]
        },
        {
          "output_type": "stream",
          "name": "stderr",
          "text": [
            "loss 0.00107 acc 0.99961: 100%|██████████| 297/297 [00:06<00:00, 44.08it/s]\n",
            "val_loss 0.00014 val_acc 1.00000: 100%|██████████| 53/53 [00:01<00:00, 36.78it/s]\n"
          ]
        },
        {
          "output_type": "stream",
          "name": "stdout",
          "text": [
            "Epoch 691/1000 loss 0.00107 val_loss 0.00014 acc 0.99961 val_acc 1.00000\n"
          ]
        },
        {
          "output_type": "stream",
          "name": "stderr",
          "text": [
            "loss 0.00095 acc 0.99979: 100%|██████████| 297/297 [00:06<00:00, 45.08it/s]\n",
            "val_loss 0.00199 val_acc 0.99882: 100%|██████████| 53/53 [00:01<00:00, 30.31it/s]\n"
          ]
        },
        {
          "output_type": "stream",
          "name": "stdout",
          "text": [
            "Epoch 692/1000 loss 0.00095 val_loss 0.00199 acc 0.99979 val_acc 0.99882\n"
          ]
        },
        {
          "output_type": "stream",
          "name": "stderr",
          "text": [
            "loss 0.00041 acc 0.99979: 100%|██████████| 297/297 [00:07<00:00, 40.84it/s]\n",
            "val_loss 0.00006 val_acc 1.00000: 100%|██████████| 53/53 [00:01<00:00, 36.14it/s]\n"
          ]
        },
        {
          "output_type": "stream",
          "name": "stdout",
          "text": [
            "Epoch 693/1000 loss 0.00041 val_loss 0.00006 acc 0.99979 val_acc 1.00000\n"
          ]
        },
        {
          "output_type": "stream",
          "name": "stderr",
          "text": [
            "loss 0.00141 acc 0.99958: 100%|██████████| 297/297 [00:06<00:00, 44.85it/s]\n",
            "val_loss 0.00000 val_acc 1.00000: 100%|██████████| 53/53 [00:01<00:00, 35.29it/s]\n"
          ]
        },
        {
          "output_type": "stream",
          "name": "stdout",
          "text": [
            "Epoch 694/1000 loss 0.00141 val_loss 0.00000 acc 0.99958 val_acc 1.00000\n"
          ]
        },
        {
          "output_type": "stream",
          "name": "stderr",
          "text": [
            "loss 0.00007 acc 1.00000: 100%|██████████| 297/297 [00:07<00:00, 39.16it/s]\n",
            "val_loss 0.00003 val_acc 1.00000: 100%|██████████| 53/53 [00:01<00:00, 31.58it/s]\n"
          ]
        },
        {
          "output_type": "stream",
          "name": "stdout",
          "text": [
            "Epoch 695/1000 loss 0.00007 val_loss 0.00003 acc 1.00000 val_acc 1.00000\n"
          ]
        },
        {
          "output_type": "stream",
          "name": "stderr",
          "text": [
            "loss 0.00024 acc 0.99989: 100%|██████████| 297/297 [00:06<00:00, 43.94it/s]\n",
            "val_loss 0.00001 val_acc 1.00000: 100%|██████████| 53/53 [00:01<00:00, 36.42it/s]\n"
          ]
        },
        {
          "output_type": "stream",
          "name": "stdout",
          "text": [
            "Epoch 696/1000 loss 0.00024 val_loss 0.00001 acc 0.99989 val_acc 1.00000\n"
          ]
        },
        {
          "output_type": "stream",
          "name": "stderr",
          "text": [
            "loss 0.00011 acc 1.00000: 100%|██████████| 297/297 [00:07<00:00, 39.57it/s]\n",
            "val_loss 0.00002 val_acc 1.00000: 100%|██████████| 53/53 [00:01<00:00, 32.59it/s]\n"
          ]
        },
        {
          "output_type": "stream",
          "name": "stdout",
          "text": [
            "Epoch 697/1000 loss 0.00011 val_loss 0.00002 acc 1.00000 val_acc 1.00000\n"
          ]
        },
        {
          "output_type": "stream",
          "name": "stderr",
          "text": [
            "loss 0.00042 acc 0.99989: 100%|██████████| 297/297 [00:06<00:00, 43.88it/s]\n",
            "val_loss 0.00001 val_acc 1.00000: 100%|██████████| 53/53 [00:01<00:00, 34.61it/s]\n"
          ]
        },
        {
          "output_type": "stream",
          "name": "stdout",
          "text": [
            "Epoch 698/1000 loss 0.00042 val_loss 0.00001 acc 0.99989 val_acc 1.00000\n"
          ]
        },
        {
          "output_type": "stream",
          "name": "stderr",
          "text": [
            "loss 0.00156 acc 0.99937: 100%|██████████| 297/297 [00:07<00:00, 39.18it/s]\n",
            "val_loss 0.00057 val_acc 0.99941: 100%|██████████| 53/53 [00:01<00:00, 30.39it/s]\n"
          ]
        },
        {
          "output_type": "stream",
          "name": "stdout",
          "text": [
            "Epoch 699/1000 loss 0.00156 val_loss 0.00057 acc 0.99937 val_acc 0.99941\n"
          ]
        },
        {
          "output_type": "stream",
          "name": "stderr",
          "text": [
            "loss 0.00031 acc 0.99989: 100%|██████████| 297/297 [00:06<00:00, 43.09it/s]\n",
            "val_loss 0.00001 val_acc 1.00000: 100%|██████████| 53/53 [00:01<00:00, 34.26it/s]\n"
          ]
        },
        {
          "output_type": "stream",
          "name": "stdout",
          "text": [
            "Epoch 700/1000 loss 0.00031 val_loss 0.00001 acc 0.99989 val_acc 1.00000\n",
            "Checkpoint guardado en /content/drive/MyDrive/SIS421 prueba dataset 1 test/Checkpoints/checkpoint.pth (Epoch 700)\n"
          ]
        },
        {
          "output_type": "stream",
          "name": "stderr",
          "text": [
            "loss 0.00002 acc 1.00000: 100%|██████████| 297/297 [00:07<00:00, 40.58it/s]\n",
            "val_loss 0.00001 val_acc 1.00000: 100%|██████████| 53/53 [00:01<00:00, 33.97it/s]\n"
          ]
        },
        {
          "output_type": "stream",
          "name": "stdout",
          "text": [
            "Epoch 701/1000 loss 0.00002 val_loss 0.00001 acc 1.00000 val_acc 1.00000\n"
          ]
        },
        {
          "output_type": "stream",
          "name": "stderr",
          "text": [
            "loss 0.00007 acc 1.00000: 100%|██████████| 297/297 [00:07<00:00, 39.99it/s]\n",
            "val_loss 0.00007 val_acc 1.00000: 100%|██████████| 53/53 [00:01<00:00, 36.18it/s]\n"
          ]
        },
        {
          "output_type": "stream",
          "name": "stdout",
          "text": [
            "Epoch 702/1000 loss 0.00007 val_loss 0.00007 acc 1.00000 val_acc 1.00000\n"
          ]
        },
        {
          "output_type": "stream",
          "name": "stderr",
          "text": [
            "loss 0.00056 acc 0.99989: 100%|██████████| 297/297 [00:06<00:00, 46.17it/s]\n",
            "val_loss 0.00001 val_acc 1.00000: 100%|██████████| 53/53 [00:01<00:00, 36.69it/s]\n"
          ]
        },
        {
          "output_type": "stream",
          "name": "stdout",
          "text": [
            "Epoch 703/1000 loss 0.00056 val_loss 0.00001 acc 0.99989 val_acc 1.00000\n"
          ]
        },
        {
          "output_type": "stream",
          "name": "stderr",
          "text": [
            "loss 0.00009 acc 1.00000: 100%|██████████| 297/297 [00:07<00:00, 38.62it/s]\n",
            "val_loss 0.00004 val_acc 1.00000: 100%|██████████| 53/53 [00:01<00:00, 34.82it/s]\n"
          ]
        },
        {
          "output_type": "stream",
          "name": "stdout",
          "text": [
            "Epoch 704/1000 loss 0.00009 val_loss 0.00004 acc 1.00000 val_acc 1.00000\n"
          ]
        },
        {
          "output_type": "stream",
          "name": "stderr",
          "text": [
            "loss 0.00027 acc 0.99989: 100%|██████████| 297/297 [00:06<00:00, 45.33it/s]\n",
            "val_loss 0.00001 val_acc 1.00000: 100%|██████████| 53/53 [00:01<00:00, 32.40it/s]\n"
          ]
        },
        {
          "output_type": "stream",
          "name": "stdout",
          "text": [
            "Epoch 705/1000 loss 0.00027 val_loss 0.00001 acc 0.99989 val_acc 1.00000\n"
          ]
        },
        {
          "output_type": "stream",
          "name": "stderr",
          "text": [
            "loss 0.00009 acc 1.00000: 100%|██████████| 297/297 [00:07<00:00, 39.13it/s]\n",
            "val_loss 0.00103 val_acc 0.99941: 100%|██████████| 53/53 [00:01<00:00, 30.12it/s]\n"
          ]
        },
        {
          "output_type": "stream",
          "name": "stdout",
          "text": [
            "Epoch 706/1000 loss 0.00009 val_loss 0.00103 acc 1.00000 val_acc 0.99941\n"
          ]
        },
        {
          "output_type": "stream",
          "name": "stderr",
          "text": [
            "loss 0.00012 acc 1.00000: 100%|██████████| 297/297 [00:06<00:00, 46.12it/s]\n",
            "val_loss 0.00047 val_acc 1.00000: 100%|██████████| 53/53 [00:01<00:00, 38.30it/s]\n"
          ]
        },
        {
          "output_type": "stream",
          "name": "stdout",
          "text": [
            "Epoch 707/1000 loss 0.00012 val_loss 0.00047 acc 1.00000 val_acc 1.00000\n"
          ]
        },
        {
          "output_type": "stream",
          "name": "stderr",
          "text": [
            "loss 0.00000 acc 1.00000: 100%|██████████| 297/297 [00:06<00:00, 43.20it/s]\n",
            "val_loss 0.00005 val_acc 1.00000: 100%|██████████| 53/53 [00:01<00:00, 33.44it/s]\n"
          ]
        },
        {
          "output_type": "stream",
          "name": "stdout",
          "text": [
            "Epoch 708/1000 loss 0.00000 val_loss 0.00005 acc 1.00000 val_acc 1.00000\n"
          ]
        },
        {
          "output_type": "stream",
          "name": "stderr",
          "text": [
            "loss 0.00006 acc 1.00000: 100%|██████████| 297/297 [00:07<00:00, 38.02it/s]\n",
            "val_loss 0.00033 val_acc 1.00000: 100%|██████████| 53/53 [00:01<00:00, 32.07it/s]\n"
          ]
        },
        {
          "output_type": "stream",
          "name": "stdout",
          "text": [
            "Epoch 709/1000 loss 0.00006 val_loss 0.00033 acc 1.00000 val_acc 1.00000\n"
          ]
        },
        {
          "output_type": "stream",
          "name": "stderr",
          "text": [
            "loss 0.00102 acc 0.99968: 100%|██████████| 297/297 [00:06<00:00, 45.00it/s]\n",
            "val_loss 0.00001 val_acc 1.00000: 100%|██████████| 53/53 [00:01<00:00, 38.88it/s]\n"
          ]
        },
        {
          "output_type": "stream",
          "name": "stdout",
          "text": [
            "Epoch 710/1000 loss 0.00102 val_loss 0.00001 acc 0.99968 val_acc 1.00000\n"
          ]
        },
        {
          "output_type": "stream",
          "name": "stderr",
          "text": [
            "loss 0.00103 acc 0.99951: 100%|██████████| 297/297 [00:07<00:00, 40.19it/s]\n",
            "val_loss 0.00002 val_acc 1.00000: 100%|██████████| 53/53 [00:01<00:00, 34.35it/s]\n"
          ]
        },
        {
          "output_type": "stream",
          "name": "stdout",
          "text": [
            "Epoch 711/1000 loss 0.00103 val_loss 0.00002 acc 0.99951 val_acc 1.00000\n"
          ]
        },
        {
          "output_type": "stream",
          "name": "stderr",
          "text": [
            "loss 0.00116 acc 0.99968: 100%|██████████| 297/297 [00:06<00:00, 43.61it/s]\n",
            "val_loss 0.00010 val_acc 1.00000: 100%|██████████| 53/53 [00:01<00:00, 35.35it/s]\n"
          ]
        },
        {
          "output_type": "stream",
          "name": "stdout",
          "text": [
            "Epoch 712/1000 loss 0.00116 val_loss 0.00010 acc 0.99968 val_acc 1.00000\n"
          ]
        },
        {
          "output_type": "stream",
          "name": "stderr",
          "text": [
            "loss 0.00257 acc 0.99958: 100%|██████████| 297/297 [00:07<00:00, 41.44it/s]\n",
            "val_loss 0.00001 val_acc 1.00000: 100%|██████████| 53/53 [00:01<00:00, 32.65it/s]\n"
          ]
        },
        {
          "output_type": "stream",
          "name": "stdout",
          "text": [
            "Epoch 713/1000 loss 0.00257 val_loss 0.00001 acc 0.99958 val_acc 1.00000\n"
          ]
        },
        {
          "output_type": "stream",
          "name": "stderr",
          "text": [
            "loss 0.00088 acc 0.99968: 100%|██████████| 297/297 [00:06<00:00, 46.60it/s]\n",
            "val_loss 0.00004 val_acc 1.00000: 100%|██████████| 53/53 [00:01<00:00, 36.78it/s]\n"
          ]
        },
        {
          "output_type": "stream",
          "name": "stdout",
          "text": [
            "Epoch 714/1000 loss 0.00088 val_loss 0.00004 acc 0.99968 val_acc 1.00000\n"
          ]
        },
        {
          "output_type": "stream",
          "name": "stderr",
          "text": [
            "loss 0.00034 acc 0.99979: 100%|██████████| 297/297 [00:06<00:00, 43.56it/s]\n",
            "val_loss 0.00000 val_acc 1.00000: 100%|██████████| 53/53 [00:01<00:00, 31.82it/s]\n"
          ]
        },
        {
          "output_type": "stream",
          "name": "stdout",
          "text": [
            "Epoch 715/1000 loss 0.00034 val_loss 0.00000 acc 0.99979 val_acc 1.00000\n"
          ]
        },
        {
          "output_type": "stream",
          "name": "stderr",
          "text": [
            "loss 0.00014 acc 0.99989: 100%|██████████| 297/297 [00:07<00:00, 41.88it/s]\n",
            "val_loss 0.00000 val_acc 1.00000: 100%|██████████| 53/53 [00:01<00:00, 34.32it/s]\n"
          ]
        },
        {
          "output_type": "stream",
          "name": "stdout",
          "text": [
            "Epoch 716/1000 loss 0.00014 val_loss 0.00000 acc 0.99989 val_acc 1.00000\n"
          ]
        },
        {
          "output_type": "stream",
          "name": "stderr",
          "text": [
            "loss 0.00184 acc 0.99958: 100%|██████████| 297/297 [00:06<00:00, 44.68it/s]\n",
            "val_loss 0.01048 val_acc 0.99882: 100%|██████████| 53/53 [00:01<00:00, 38.33it/s]\n"
          ]
        },
        {
          "output_type": "stream",
          "name": "stdout",
          "text": [
            "Epoch 717/1000 loss 0.00184 val_loss 0.01048 acc 0.99958 val_acc 0.99882\n"
          ]
        },
        {
          "output_type": "stream",
          "name": "stderr",
          "text": [
            "loss 0.00156 acc 0.99979: 100%|██████████| 297/297 [00:07<00:00, 41.98it/s]\n",
            "val_loss 0.00002 val_acc 1.00000: 100%|██████████| 53/53 [00:01<00:00, 31.78it/s]\n"
          ]
        },
        {
          "output_type": "stream",
          "name": "stdout",
          "text": [
            "Epoch 718/1000 loss 0.00156 val_loss 0.00002 acc 0.99979 val_acc 1.00000\n"
          ]
        },
        {
          "output_type": "stream",
          "name": "stderr",
          "text": [
            "loss 0.00014 acc 1.00000: 100%|██████████| 297/297 [00:06<00:00, 45.03it/s]\n",
            "val_loss 0.00003 val_acc 1.00000: 100%|██████████| 53/53 [00:01<00:00, 36.06it/s]\n"
          ]
        },
        {
          "output_type": "stream",
          "name": "stdout",
          "text": [
            "Epoch 719/1000 loss 0.00014 val_loss 0.00003 acc 1.00000 val_acc 1.00000\n"
          ]
        },
        {
          "output_type": "stream",
          "name": "stderr",
          "text": [
            "loss 0.00001 acc 1.00000: 100%|██████████| 297/297 [00:07<00:00, 39.96it/s]\n",
            "val_loss 0.00003 val_acc 1.00000: 100%|██████████| 53/53 [00:01<00:00, 32.31it/s]\n"
          ]
        },
        {
          "output_type": "stream",
          "name": "stdout",
          "text": [
            "Epoch 720/1000 loss 0.00001 val_loss 0.00003 acc 1.00000 val_acc 1.00000\n",
            "Checkpoint guardado en /content/drive/MyDrive/SIS421 prueba dataset 1 test/Checkpoints/checkpoint.pth (Epoch 720)\n"
          ]
        },
        {
          "output_type": "stream",
          "name": "stderr",
          "text": [
            "loss 0.00001 acc 1.00000: 100%|██████████| 297/297 [00:06<00:00, 44.83it/s]\n",
            "val_loss 0.00002 val_acc 1.00000: 100%|██████████| 53/53 [00:01<00:00, 34.87it/s]\n"
          ]
        },
        {
          "output_type": "stream",
          "name": "stdout",
          "text": [
            "Epoch 721/1000 loss 0.00001 val_loss 0.00002 acc 1.00000 val_acc 1.00000\n"
          ]
        },
        {
          "output_type": "stream",
          "name": "stderr",
          "text": [
            "loss 0.00031 acc 0.99979: 100%|██████████| 297/297 [00:06<00:00, 43.33it/s]\n",
            "val_loss 0.00002 val_acc 1.00000: 100%|██████████| 53/53 [00:01<00:00, 30.96it/s]\n"
          ]
        },
        {
          "output_type": "stream",
          "name": "stdout",
          "text": [
            "Epoch 722/1000 loss 0.00031 val_loss 0.00002 acc 0.99979 val_acc 1.00000\n"
          ]
        },
        {
          "output_type": "stream",
          "name": "stderr",
          "text": [
            "loss 0.00033 acc 0.99989: 100%|██████████| 297/297 [00:07<00:00, 40.65it/s]\n",
            "val_loss 0.00000 val_acc 1.00000: 100%|██████████| 53/53 [00:01<00:00, 35.56it/s]\n"
          ]
        },
        {
          "output_type": "stream",
          "name": "stdout",
          "text": [
            "Epoch 723/1000 loss 0.00033 val_loss 0.00000 acc 0.99989 val_acc 1.00000\n"
          ]
        },
        {
          "output_type": "stream",
          "name": "stderr",
          "text": [
            "loss 0.00112 acc 0.99968: 100%|██████████| 297/297 [00:06<00:00, 45.59it/s]\n",
            "val_loss 0.00012 val_acc 1.00000: 100%|██████████| 53/53 [00:01<00:00, 37.67it/s]\n"
          ]
        },
        {
          "output_type": "stream",
          "name": "stdout",
          "text": [
            "Epoch 724/1000 loss 0.00112 val_loss 0.00012 acc 0.99968 val_acc 1.00000\n"
          ]
        },
        {
          "output_type": "stream",
          "name": "stderr",
          "text": [
            "loss 0.00109 acc 0.99979: 100%|██████████| 297/297 [00:06<00:00, 42.76it/s]\n",
            "val_loss 0.00001 val_acc 1.00000: 100%|██████████| 53/53 [00:01<00:00, 34.71it/s]\n"
          ]
        },
        {
          "output_type": "stream",
          "name": "stdout",
          "text": [
            "Epoch 725/1000 loss 0.00109 val_loss 0.00001 acc 0.99979 val_acc 1.00000\n"
          ]
        },
        {
          "output_type": "stream",
          "name": "stderr",
          "text": [
            "loss 0.00013 acc 1.00000: 100%|██████████| 297/297 [00:06<00:00, 45.72it/s]\n",
            "val_loss 0.00000 val_acc 1.00000: 100%|██████████| 53/53 [00:01<00:00, 35.96it/s]\n"
          ]
        },
        {
          "output_type": "stream",
          "name": "stdout",
          "text": [
            "Epoch 726/1000 loss 0.00013 val_loss 0.00000 acc 1.00000 val_acc 1.00000\n"
          ]
        },
        {
          "output_type": "stream",
          "name": "stderr",
          "text": [
            "loss 0.00138 acc 0.99958: 100%|██████████| 297/297 [00:06<00:00, 43.73it/s]\n",
            "val_loss 0.00003 val_acc 1.00000: 100%|██████████| 53/53 [00:01<00:00, 34.56it/s]\n"
          ]
        },
        {
          "output_type": "stream",
          "name": "stdout",
          "text": [
            "Epoch 727/1000 loss 0.00138 val_loss 0.00003 acc 0.99958 val_acc 1.00000\n"
          ]
        },
        {
          "output_type": "stream",
          "name": "stderr",
          "text": [
            "loss 0.00120 acc 0.99958: 100%|██████████| 297/297 [00:06<00:00, 44.94it/s]\n",
            "val_loss 0.00028 val_acc 1.00000: 100%|██████████| 53/53 [00:01<00:00, 34.68it/s]\n"
          ]
        },
        {
          "output_type": "stream",
          "name": "stdout",
          "text": [
            "Epoch 728/1000 loss 0.00120 val_loss 0.00028 acc 0.99958 val_acc 1.00000\n"
          ]
        },
        {
          "output_type": "stream",
          "name": "stderr",
          "text": [
            "loss 0.00038 acc 0.99979: 100%|██████████| 297/297 [00:07<00:00, 41.71it/s]\n",
            "val_loss 0.00010 val_acc 1.00000: 100%|██████████| 53/53 [00:01<00:00, 33.66it/s]\n"
          ]
        },
        {
          "output_type": "stream",
          "name": "stdout",
          "text": [
            "Epoch 729/1000 loss 0.00038 val_loss 0.00010 acc 0.99979 val_acc 1.00000\n"
          ]
        },
        {
          "output_type": "stream",
          "name": "stderr",
          "text": [
            "loss 0.00035 acc 0.99989: 100%|██████████| 297/297 [00:07<00:00, 39.60it/s]\n",
            "val_loss 0.00005 val_acc 1.00000: 100%|██████████| 53/53 [00:01<00:00, 31.51it/s]\n"
          ]
        },
        {
          "output_type": "stream",
          "name": "stdout",
          "text": [
            "Epoch 730/1000 loss 0.00035 val_loss 0.00005 acc 0.99989 val_acc 1.00000\n"
          ]
        },
        {
          "output_type": "stream",
          "name": "stderr",
          "text": [
            "loss 0.00082 acc 0.99989: 100%|██████████| 297/297 [00:07<00:00, 38.71it/s]\n",
            "val_loss 0.00027 val_acc 1.00000: 100%|██████████| 53/53 [00:01<00:00, 29.66it/s]\n"
          ]
        },
        {
          "output_type": "stream",
          "name": "stdout",
          "text": [
            "Epoch 731/1000 loss 0.00082 val_loss 0.00027 acc 0.99989 val_acc 1.00000\n"
          ]
        },
        {
          "output_type": "stream",
          "name": "stderr",
          "text": [
            "loss 0.00005 acc 1.00000: 100%|██████████| 297/297 [00:07<00:00, 37.54it/s]\n",
            "val_loss 0.00009 val_acc 1.00000: 100%|██████████| 53/53 [00:01<00:00, 32.11it/s]\n"
          ]
        },
        {
          "output_type": "stream",
          "name": "stdout",
          "text": [
            "Epoch 732/1000 loss 0.00005 val_loss 0.00009 acc 1.00000 val_acc 1.00000\n"
          ]
        },
        {
          "output_type": "stream",
          "name": "stderr",
          "text": [
            "loss 0.00004 acc 1.00000: 100%|██████████| 297/297 [00:06<00:00, 44.43it/s]\n",
            "val_loss 0.00028 val_acc 1.00000: 100%|██████████| 53/53 [00:01<00:00, 35.25it/s]\n"
          ]
        },
        {
          "output_type": "stream",
          "name": "stdout",
          "text": [
            "Epoch 733/1000 loss 0.00004 val_loss 0.00028 acc 1.00000 val_acc 1.00000\n"
          ]
        },
        {
          "output_type": "stream",
          "name": "stderr",
          "text": [
            "loss 0.00038 acc 0.99979: 100%|██████████| 297/297 [00:07<00:00, 41.47it/s]\n",
            "val_loss 0.01094 val_acc 0.99764: 100%|██████████| 53/53 [00:01<00:00, 33.34it/s]\n"
          ]
        },
        {
          "output_type": "stream",
          "name": "stdout",
          "text": [
            "Epoch 734/1000 loss 0.00038 val_loss 0.01094 acc 0.99979 val_acc 0.99764\n"
          ]
        },
        {
          "output_type": "stream",
          "name": "stderr",
          "text": [
            "loss 0.00023 acc 0.99989: 100%|██████████| 297/297 [00:06<00:00, 43.48it/s]\n",
            "val_loss 0.00007 val_acc 1.00000: 100%|██████████| 53/53 [00:01<00:00, 34.55it/s]\n"
          ]
        },
        {
          "output_type": "stream",
          "name": "stdout",
          "text": [
            "Epoch 735/1000 loss 0.00023 val_loss 0.00007 acc 0.99989 val_acc 1.00000\n"
          ]
        },
        {
          "output_type": "stream",
          "name": "stderr",
          "text": [
            "loss 0.00030 acc 0.99989: 100%|██████████| 297/297 [00:06<00:00, 42.52it/s]\n",
            "val_loss 0.00003 val_acc 1.00000: 100%|██████████| 53/53 [00:01<00:00, 33.59it/s]\n"
          ]
        },
        {
          "output_type": "stream",
          "name": "stdout",
          "text": [
            "Epoch 736/1000 loss 0.00030 val_loss 0.00003 acc 0.99989 val_acc 1.00000\n"
          ]
        },
        {
          "output_type": "stream",
          "name": "stderr",
          "text": [
            "loss 0.00152 acc 0.99951: 100%|██████████| 297/297 [00:07<00:00, 40.20it/s]\n",
            "val_loss 0.00002 val_acc 1.00000: 100%|██████████| 53/53 [00:01<00:00, 34.18it/s]\n"
          ]
        },
        {
          "output_type": "stream",
          "name": "stdout",
          "text": [
            "Epoch 737/1000 loss 0.00152 val_loss 0.00002 acc 0.99951 val_acc 1.00000\n"
          ]
        },
        {
          "output_type": "stream",
          "name": "stderr",
          "text": [
            "loss 0.00023 acc 1.00000: 100%|██████████| 297/297 [00:06<00:00, 44.80it/s]\n",
            "val_loss 0.00002 val_acc 1.00000: 100%|██████████| 53/53 [00:01<00:00, 31.90it/s]\n"
          ]
        },
        {
          "output_type": "stream",
          "name": "stdout",
          "text": [
            "Epoch 738/1000 loss 0.00023 val_loss 0.00002 acc 1.00000 val_acc 1.00000\n"
          ]
        },
        {
          "output_type": "stream",
          "name": "stderr",
          "text": [
            "loss 0.00013 acc 1.00000: 100%|██████████| 297/297 [00:07<00:00, 37.73it/s]\n",
            "val_loss 0.00002 val_acc 1.00000: 100%|██████████| 53/53 [00:01<00:00, 29.92it/s]\n"
          ]
        },
        {
          "output_type": "stream",
          "name": "stdout",
          "text": [
            "Epoch 739/1000 loss 0.00013 val_loss 0.00002 acc 1.00000 val_acc 1.00000\n"
          ]
        },
        {
          "output_type": "stream",
          "name": "stderr",
          "text": [
            "loss 0.00004 acc 1.00000: 100%|██████████| 297/297 [00:06<00:00, 43.19it/s]\n",
            "val_loss 0.00002 val_acc 1.00000: 100%|██████████| 53/53 [00:01<00:00, 35.73it/s]\n"
          ]
        },
        {
          "output_type": "stream",
          "name": "stdout",
          "text": [
            "Epoch 740/1000 loss 0.00004 val_loss 0.00002 acc 1.00000 val_acc 1.00000\n",
            "Checkpoint guardado en /content/drive/MyDrive/SIS421 prueba dataset 1 test/Checkpoints/checkpoint.pth (Epoch 740)\n"
          ]
        },
        {
          "output_type": "stream",
          "name": "stderr",
          "text": [
            "loss 0.00048 acc 0.99989: 100%|██████████| 297/297 [00:07<00:00, 38.70it/s]\n",
            "val_loss 0.00001 val_acc 1.00000: 100%|██████████| 53/53 [00:01<00:00, 30.37it/s]\n"
          ]
        },
        {
          "output_type": "stream",
          "name": "stdout",
          "text": [
            "Epoch 741/1000 loss 0.00048 val_loss 0.00001 acc 0.99989 val_acc 1.00000\n"
          ]
        },
        {
          "output_type": "stream",
          "name": "stderr",
          "text": [
            "loss 0.00110 acc 0.99968: 100%|██████████| 297/297 [00:06<00:00, 44.40it/s]\n",
            "val_loss 0.00006 val_acc 1.00000: 100%|██████████| 53/53 [00:01<00:00, 34.81it/s]\n"
          ]
        },
        {
          "output_type": "stream",
          "name": "stdout",
          "text": [
            "Epoch 742/1000 loss 0.00110 val_loss 0.00006 acc 0.99968 val_acc 1.00000\n"
          ]
        },
        {
          "output_type": "stream",
          "name": "stderr",
          "text": [
            "loss 0.00168 acc 0.99947: 100%|██████████| 297/297 [00:07<00:00, 40.05it/s]\n",
            "val_loss 0.00004 val_acc 1.00000: 100%|██████████| 53/53 [00:01<00:00, 30.05it/s]\n"
          ]
        },
        {
          "output_type": "stream",
          "name": "stdout",
          "text": [
            "Epoch 743/1000 loss 0.00168 val_loss 0.00004 acc 0.99947 val_acc 1.00000\n"
          ]
        },
        {
          "output_type": "stream",
          "name": "stderr",
          "text": [
            "loss 0.00077 acc 0.99958: 100%|██████████| 297/297 [00:06<00:00, 42.65it/s]\n",
            "val_loss 0.00008 val_acc 1.00000: 100%|██████████| 53/53 [00:01<00:00, 32.96it/s]\n"
          ]
        },
        {
          "output_type": "stream",
          "name": "stdout",
          "text": [
            "Epoch 744/1000 loss 0.00077 val_loss 0.00008 acc 0.99958 val_acc 1.00000\n"
          ]
        },
        {
          "output_type": "stream",
          "name": "stderr",
          "text": [
            "loss 0.00041 acc 0.99989: 100%|██████████| 297/297 [00:07<00:00, 39.15it/s]\n",
            "val_loss 0.00015 val_acc 1.00000: 100%|██████████| 53/53 [00:01<00:00, 33.51it/s]\n"
          ]
        },
        {
          "output_type": "stream",
          "name": "stdout",
          "text": [
            "Epoch 745/1000 loss 0.00041 val_loss 0.00015 acc 0.99989 val_acc 1.00000\n"
          ]
        },
        {
          "output_type": "stream",
          "name": "stderr",
          "text": [
            "loss 0.00010 acc 1.00000: 100%|██████████| 297/297 [00:07<00:00, 41.79it/s]\n",
            "val_loss 0.00006 val_acc 1.00000: 100%|██████████| 53/53 [00:01<00:00, 33.36it/s]\n"
          ]
        },
        {
          "output_type": "stream",
          "name": "stdout",
          "text": [
            "Epoch 746/1000 loss 0.00010 val_loss 0.00006 acc 1.00000 val_acc 1.00000\n"
          ]
        },
        {
          "output_type": "stream",
          "name": "stderr",
          "text": [
            "loss 0.00020 acc 0.99989: 100%|██████████| 297/297 [00:07<00:00, 39.07it/s]\n",
            "val_loss 0.00023 val_acc 1.00000: 100%|██████████| 53/53 [00:01<00:00, 31.00it/s]\n"
          ]
        },
        {
          "output_type": "stream",
          "name": "stdout",
          "text": [
            "Epoch 747/1000 loss 0.00020 val_loss 0.00023 acc 0.99989 val_acc 1.00000\n"
          ]
        },
        {
          "output_type": "stream",
          "name": "stderr",
          "text": [
            "loss 0.00029 acc 0.99979: 100%|██████████| 297/297 [00:07<00:00, 39.56it/s]\n",
            "val_loss 0.00005 val_acc 1.00000: 100%|██████████| 53/53 [00:01<00:00, 33.98it/s]\n"
          ]
        },
        {
          "output_type": "stream",
          "name": "stdout",
          "text": [
            "Epoch 748/1000 loss 0.00029 val_loss 0.00005 acc 0.99979 val_acc 1.00000\n"
          ]
        },
        {
          "output_type": "stream",
          "name": "stderr",
          "text": [
            "loss 0.00003 acc 1.00000: 100%|██████████| 297/297 [00:07<00:00, 41.63it/s]\n",
            "val_loss 0.00003 val_acc 1.00000: 100%|██████████| 53/53 [00:01<00:00, 32.04it/s]\n"
          ]
        },
        {
          "output_type": "stream",
          "name": "stdout",
          "text": [
            "Epoch 749/1000 loss 0.00003 val_loss 0.00003 acc 1.00000 val_acc 1.00000\n"
          ]
        },
        {
          "output_type": "stream",
          "name": "stderr",
          "text": [
            "loss 0.00003 acc 1.00000: 100%|██████████| 297/297 [00:08<00:00, 37.07it/s]\n",
            "val_loss 0.00002 val_acc 1.00000: 100%|██████████| 53/53 [00:01<00:00, 31.62it/s]\n"
          ]
        },
        {
          "output_type": "stream",
          "name": "stdout",
          "text": [
            "Epoch 750/1000 loss 0.00003 val_loss 0.00002 acc 1.00000 val_acc 1.00000\n"
          ]
        },
        {
          "output_type": "stream",
          "name": "stderr",
          "text": [
            "loss 0.00018 acc 0.99989: 100%|██████████| 297/297 [00:07<00:00, 40.26it/s]\n",
            "val_loss 0.00085 val_acc 0.99941: 100%|██████████| 53/53 [00:01<00:00, 28.55it/s]\n"
          ]
        },
        {
          "output_type": "stream",
          "name": "stdout",
          "text": [
            "Epoch 751/1000 loss 0.00018 val_loss 0.00085 acc 0.99989 val_acc 0.99941\n"
          ]
        },
        {
          "output_type": "stream",
          "name": "stderr",
          "text": [
            "loss 0.00006 acc 1.00000: 100%|██████████| 297/297 [00:07<00:00, 38.75it/s]\n",
            "val_loss 0.00011 val_acc 1.00000: 100%|██████████| 53/53 [00:01<00:00, 28.63it/s]\n"
          ]
        },
        {
          "output_type": "stream",
          "name": "stdout",
          "text": [
            "Epoch 752/1000 loss 0.00006 val_loss 0.00011 acc 1.00000 val_acc 1.00000\n"
          ]
        },
        {
          "output_type": "stream",
          "name": "stderr",
          "text": [
            "loss 0.00063 acc 0.99968: 100%|██████████| 297/297 [00:07<00:00, 41.39it/s]\n",
            "val_loss 0.00025 val_acc 1.00000: 100%|██████████| 53/53 [00:01<00:00, 33.34it/s]\n"
          ]
        },
        {
          "output_type": "stream",
          "name": "stdout",
          "text": [
            "Epoch 753/1000 loss 0.00063 val_loss 0.00025 acc 0.99968 val_acc 1.00000\n"
          ]
        },
        {
          "output_type": "stream",
          "name": "stderr",
          "text": [
            "loss 0.00082 acc 0.99961: 100%|██████████| 297/297 [00:06<00:00, 42.53it/s]\n",
            "val_loss 0.00006 val_acc 1.00000: 100%|██████████| 53/53 [00:01<00:00, 32.49it/s]\n"
          ]
        },
        {
          "output_type": "stream",
          "name": "stdout",
          "text": [
            "Epoch 754/1000 loss 0.00082 val_loss 0.00006 acc 0.99961 val_acc 1.00000\n"
          ]
        },
        {
          "output_type": "stream",
          "name": "stderr",
          "text": [
            "loss 0.00057 acc 0.99979: 100%|██████████| 297/297 [00:07<00:00, 37.50it/s]\n",
            "val_loss 0.00038 val_acc 1.00000: 100%|██████████| 53/53 [00:01<00:00, 32.08it/s]\n"
          ]
        },
        {
          "output_type": "stream",
          "name": "stdout",
          "text": [
            "Epoch 755/1000 loss 0.00057 val_loss 0.00038 acc 0.99979 val_acc 1.00000\n"
          ]
        },
        {
          "output_type": "stream",
          "name": "stderr",
          "text": [
            "loss 0.00023 acc 0.99989: 100%|██████████| 297/297 [00:07<00:00, 41.14it/s]\n",
            "val_loss 0.00002 val_acc 1.00000: 100%|██████████| 53/53 [00:01<00:00, 34.75it/s]\n"
          ]
        },
        {
          "output_type": "stream",
          "name": "stdout",
          "text": [
            "Epoch 756/1000 loss 0.00023 val_loss 0.00002 acc 0.99989 val_acc 1.00000\n"
          ]
        },
        {
          "output_type": "stream",
          "name": "stderr",
          "text": [
            "loss 0.00010 acc 1.00000: 100%|██████████| 297/297 [00:07<00:00, 39.12it/s]\n",
            "val_loss 0.00003 val_acc 1.00000: 100%|██████████| 53/53 [00:01<00:00, 31.34it/s]\n"
          ]
        },
        {
          "output_type": "stream",
          "name": "stdout",
          "text": [
            "Epoch 757/1000 loss 0.00010 val_loss 0.00003 acc 1.00000 val_acc 1.00000\n"
          ]
        },
        {
          "output_type": "stream",
          "name": "stderr",
          "text": [
            "loss 0.00125 acc 0.99972: 100%|██████████| 297/297 [00:06<00:00, 42.54it/s]\n",
            "val_loss 0.00001 val_acc 1.00000: 100%|██████████| 53/53 [00:01<00:00, 33.08it/s]\n"
          ]
        },
        {
          "output_type": "stream",
          "name": "stdout",
          "text": [
            "Epoch 758/1000 loss 0.00125 val_loss 0.00001 acc 0.99972 val_acc 1.00000\n"
          ]
        },
        {
          "output_type": "stream",
          "name": "stderr",
          "text": [
            "loss 0.00043 acc 0.99989: 100%|██████████| 297/297 [00:07<00:00, 38.21it/s]\n",
            "val_loss 0.00002 val_acc 1.00000: 100%|██████████| 53/53 [00:01<00:00, 28.75it/s]\n"
          ]
        },
        {
          "output_type": "stream",
          "name": "stdout",
          "text": [
            "Epoch 759/1000 loss 0.00043 val_loss 0.00002 acc 0.99989 val_acc 1.00000\n"
          ]
        },
        {
          "output_type": "stream",
          "name": "stderr",
          "text": [
            "loss 0.00124 acc 0.99979: 100%|██████████| 297/297 [00:07<00:00, 41.02it/s]\n",
            "val_loss 0.00002 val_acc 1.00000: 100%|██████████| 53/53 [00:01<00:00, 31.92it/s]\n"
          ]
        },
        {
          "output_type": "stream",
          "name": "stdout",
          "text": [
            "Epoch 760/1000 loss 0.00124 val_loss 0.00002 acc 0.99979 val_acc 1.00000\n",
            "Checkpoint guardado en /content/drive/MyDrive/SIS421 prueba dataset 1 test/Checkpoints/checkpoint.pth (Epoch 760)\n"
          ]
        },
        {
          "output_type": "stream",
          "name": "stderr",
          "text": [
            "loss 0.00044 acc 0.99989: 100%|██████████| 297/297 [00:07<00:00, 38.64it/s]\n",
            "val_loss 0.00023 val_acc 1.00000: 100%|██████████| 53/53 [00:01<00:00, 30.67it/s]\n"
          ]
        },
        {
          "output_type": "stream",
          "name": "stdout",
          "text": [
            "Epoch 761/1000 loss 0.00044 val_loss 0.00023 acc 0.99989 val_acc 1.00000\n"
          ]
        },
        {
          "output_type": "stream",
          "name": "stderr",
          "text": [
            "loss 0.00001 acc 1.00000: 100%|██████████| 297/297 [00:07<00:00, 40.89it/s]\n",
            "val_loss 0.00003 val_acc 1.00000: 100%|██████████| 53/53 [00:01<00:00, 34.07it/s]\n"
          ]
        },
        {
          "output_type": "stream",
          "name": "stdout",
          "text": [
            "Epoch 762/1000 loss 0.00001 val_loss 0.00003 acc 1.00000 val_acc 1.00000\n"
          ]
        },
        {
          "output_type": "stream",
          "name": "stderr",
          "text": [
            "loss 0.00140 acc 0.99958: 100%|██████████| 297/297 [00:07<00:00, 39.29it/s]\n",
            "val_loss 0.00011 val_acc 1.00000: 100%|██████████| 53/53 [00:01<00:00, 30.77it/s]\n"
          ]
        },
        {
          "output_type": "stream",
          "name": "stdout",
          "text": [
            "Epoch 763/1000 loss 0.00140 val_loss 0.00011 acc 0.99958 val_acc 1.00000\n"
          ]
        },
        {
          "output_type": "stream",
          "name": "stderr",
          "text": [
            "loss 0.00060 acc 0.99979: 100%|██████████| 297/297 [00:07<00:00, 39.70it/s]\n",
            "val_loss 0.00060 val_acc 1.00000: 100%|██████████| 53/53 [00:01<00:00, 30.89it/s]\n"
          ]
        },
        {
          "output_type": "stream",
          "name": "stdout",
          "text": [
            "Epoch 764/1000 loss 0.00060 val_loss 0.00060 acc 0.99979 val_acc 1.00000\n"
          ]
        },
        {
          "output_type": "stream",
          "name": "stderr",
          "text": [
            "loss 0.00071 acc 0.99979: 100%|██████████| 297/297 [00:06<00:00, 45.36it/s]\n",
            "val_loss 0.00005 val_acc 1.00000: 100%|██████████| 53/53 [00:01<00:00, 32.55it/s]\n"
          ]
        },
        {
          "output_type": "stream",
          "name": "stdout",
          "text": [
            "Epoch 765/1000 loss 0.00071 val_loss 0.00005 acc 0.99979 val_acc 1.00000\n"
          ]
        },
        {
          "output_type": "stream",
          "name": "stderr",
          "text": [
            "loss 0.00089 acc 0.99979: 100%|██████████| 297/297 [00:07<00:00, 39.02it/s]\n",
            "val_loss 0.00002 val_acc 1.00000: 100%|██████████| 53/53 [00:01<00:00, 33.98it/s]\n"
          ]
        },
        {
          "output_type": "stream",
          "name": "stdout",
          "text": [
            "Epoch 766/1000 loss 0.00089 val_loss 0.00002 acc 0.99979 val_acc 1.00000\n"
          ]
        },
        {
          "output_type": "stream",
          "name": "stderr",
          "text": [
            "loss 0.00052 acc 0.99989: 100%|██████████| 297/297 [00:06<00:00, 42.43it/s]\n",
            "val_loss 0.00004 val_acc 1.00000: 100%|██████████| 53/53 [00:01<00:00, 31.87it/s]\n"
          ]
        },
        {
          "output_type": "stream",
          "name": "stdout",
          "text": [
            "Epoch 767/1000 loss 0.00052 val_loss 0.00004 acc 0.99989 val_acc 1.00000\n"
          ]
        },
        {
          "output_type": "stream",
          "name": "stderr",
          "text": [
            "loss 0.00144 acc 0.99968: 100%|██████████| 297/297 [00:07<00:00, 39.84it/s]\n",
            "val_loss 0.00116 val_acc 0.99941: 100%|██████████| 53/53 [00:01<00:00, 29.69it/s]\n"
          ]
        },
        {
          "output_type": "stream",
          "name": "stdout",
          "text": [
            "Epoch 768/1000 loss 0.00144 val_loss 0.00116 acc 0.99968 val_acc 0.99941\n"
          ]
        },
        {
          "output_type": "stream",
          "name": "stderr",
          "text": [
            "loss 0.00115 acc 0.99979: 100%|██████████| 297/297 [00:06<00:00, 43.07it/s]\n",
            "val_loss 0.00027 val_acc 1.00000: 100%|██████████| 53/53 [00:01<00:00, 35.01it/s]\n"
          ]
        },
        {
          "output_type": "stream",
          "name": "stdout",
          "text": [
            "Epoch 769/1000 loss 0.00115 val_loss 0.00027 acc 0.99979 val_acc 1.00000\n"
          ]
        },
        {
          "output_type": "stream",
          "name": "stderr",
          "text": [
            "loss 0.00011 acc 1.00000: 100%|██████████| 297/297 [00:07<00:00, 38.84it/s]\n",
            "val_loss 0.00003 val_acc 1.00000: 100%|██████████| 53/53 [00:01<00:00, 32.82it/s]\n"
          ]
        },
        {
          "output_type": "stream",
          "name": "stdout",
          "text": [
            "Epoch 770/1000 loss 0.00011 val_loss 0.00003 acc 1.00000 val_acc 1.00000\n"
          ]
        },
        {
          "output_type": "stream",
          "name": "stderr",
          "text": [
            "loss 0.00246 acc 0.99961: 100%|██████████| 297/297 [00:07<00:00, 41.46it/s]\n",
            "val_loss 0.00570 val_acc 0.99823: 100%|██████████| 53/53 [00:01<00:00, 36.53it/s]\n"
          ]
        },
        {
          "output_type": "stream",
          "name": "stdout",
          "text": [
            "Epoch 771/1000 loss 0.00246 val_loss 0.00570 acc 0.99961 val_acc 0.99823\n"
          ]
        },
        {
          "output_type": "stream",
          "name": "stderr",
          "text": [
            "loss 0.00074 acc 0.99968: 100%|██████████| 297/297 [00:07<00:00, 40.60it/s]\n",
            "val_loss 0.00252 val_acc 0.99882: 100%|██████████| 53/53 [00:01<00:00, 28.14it/s]\n"
          ]
        },
        {
          "output_type": "stream",
          "name": "stdout",
          "text": [
            "Epoch 772/1000 loss 0.00074 val_loss 0.00252 acc 0.99968 val_acc 0.99882\n"
          ]
        },
        {
          "output_type": "stream",
          "name": "stderr",
          "text": [
            "loss 0.00164 acc 0.99979: 100%|██████████| 297/297 [00:08<00:00, 36.71it/s]\n",
            "val_loss 0.00011 val_acc 1.00000: 100%|██████████| 53/53 [00:01<00:00, 29.42it/s]\n"
          ]
        },
        {
          "output_type": "stream",
          "name": "stdout",
          "text": [
            "Epoch 773/1000 loss 0.00164 val_loss 0.00011 acc 0.99979 val_acc 1.00000\n"
          ]
        },
        {
          "output_type": "stream",
          "name": "stderr",
          "text": [
            "loss 0.00159 acc 0.99968: 100%|██████████| 297/297 [00:07<00:00, 41.13it/s]\n",
            "val_loss 0.00399 val_acc 0.99882: 100%|██████████| 53/53 [00:01<00:00, 34.60it/s]\n"
          ]
        },
        {
          "output_type": "stream",
          "name": "stdout",
          "text": [
            "Epoch 774/1000 loss 0.00159 val_loss 0.00399 acc 0.99968 val_acc 0.99882\n"
          ]
        },
        {
          "output_type": "stream",
          "name": "stderr",
          "text": [
            "loss 0.00046 acc 0.99979: 100%|██████████| 297/297 [00:07<00:00, 40.38it/s]\n",
            "val_loss 0.00521 val_acc 0.99941: 100%|██████████| 53/53 [00:01<00:00, 32.24it/s]\n"
          ]
        },
        {
          "output_type": "stream",
          "name": "stdout",
          "text": [
            "Epoch 775/1000 loss 0.00046 val_loss 0.00521 acc 0.99979 val_acc 0.99941\n"
          ]
        },
        {
          "output_type": "stream",
          "name": "stderr",
          "text": [
            "loss 0.00083 acc 0.99979: 100%|██████████| 297/297 [00:06<00:00, 45.64it/s]\n",
            "val_loss 0.00217 val_acc 0.99941: 100%|██████████| 53/53 [00:01<00:00, 33.38it/s]\n"
          ]
        },
        {
          "output_type": "stream",
          "name": "stdout",
          "text": [
            "Epoch 776/1000 loss 0.00083 val_loss 0.00217 acc 0.99979 val_acc 0.99941\n"
          ]
        },
        {
          "output_type": "stream",
          "name": "stderr",
          "text": [
            "loss 0.00022 acc 0.99979: 100%|██████████| 297/297 [00:07<00:00, 38.95it/s]\n",
            "val_loss 0.00186 val_acc 0.99941: 100%|██████████| 53/53 [00:01<00:00, 29.18it/s]\n"
          ]
        },
        {
          "output_type": "stream",
          "name": "stdout",
          "text": [
            "Epoch 777/1000 loss 0.00022 val_loss 0.00186 acc 0.99979 val_acc 0.99941\n"
          ]
        },
        {
          "output_type": "stream",
          "name": "stderr",
          "text": [
            "loss 0.00010 acc 1.00000: 100%|██████████| 297/297 [00:07<00:00, 40.36it/s]\n",
            "val_loss 0.00113 val_acc 0.99941: 100%|██████████| 53/53 [00:01<00:00, 31.39it/s]\n"
          ]
        },
        {
          "output_type": "stream",
          "name": "stdout",
          "text": [
            "Epoch 778/1000 loss 0.00010 val_loss 0.00113 acc 1.00000 val_acc 0.99941\n"
          ]
        },
        {
          "output_type": "stream",
          "name": "stderr",
          "text": [
            "loss 0.00004 acc 1.00000: 100%|██████████| 297/297 [00:06<00:00, 43.91it/s]\n",
            "val_loss 0.00321 val_acc 0.99941: 100%|██████████| 53/53 [00:01<00:00, 32.71it/s]\n"
          ]
        },
        {
          "output_type": "stream",
          "name": "stdout",
          "text": [
            "Epoch 779/1000 loss 0.00004 val_loss 0.00321 acc 1.00000 val_acc 0.99941\n"
          ]
        },
        {
          "output_type": "stream",
          "name": "stderr",
          "text": [
            "loss 0.00013 acc 0.99989: 100%|██████████| 297/297 [00:07<00:00, 39.43it/s]\n",
            "val_loss 0.00207 val_acc 0.99941: 100%|██████████| 53/53 [00:01<00:00, 31.68it/s]\n"
          ]
        },
        {
          "output_type": "stream",
          "name": "stdout",
          "text": [
            "Epoch 780/1000 loss 0.00013 val_loss 0.00207 acc 0.99989 val_acc 0.99941\n",
            "Checkpoint guardado en /content/drive/MyDrive/SIS421 prueba dataset 1 test/Checkpoints/checkpoint.pth (Epoch 780)\n"
          ]
        },
        {
          "output_type": "stream",
          "name": "stderr",
          "text": [
            "loss 0.00100 acc 0.99958: 100%|██████████| 297/297 [00:06<00:00, 43.03it/s]\n",
            "val_loss 0.01932 val_acc 0.99587: 100%|██████████| 53/53 [00:01<00:00, 35.87it/s]\n"
          ]
        },
        {
          "output_type": "stream",
          "name": "stdout",
          "text": [
            "Epoch 781/1000 loss 0.00100 val_loss 0.01932 acc 0.99958 val_acc 0.99587\n"
          ]
        },
        {
          "output_type": "stream",
          "name": "stderr",
          "text": [
            "loss 0.00036 acc 0.99979: 100%|██████████| 297/297 [00:07<00:00, 41.05it/s]\n",
            "val_loss 0.00263 val_acc 0.99882: 100%|██████████| 53/53 [00:01<00:00, 32.47it/s]\n"
          ]
        },
        {
          "output_type": "stream",
          "name": "stdout",
          "text": [
            "Epoch 782/1000 loss 0.00036 val_loss 0.00263 acc 0.99979 val_acc 0.99882\n"
          ]
        },
        {
          "output_type": "stream",
          "name": "stderr",
          "text": [
            "loss 0.00195 acc 0.99947: 100%|██████████| 297/297 [00:07<00:00, 41.47it/s]\n",
            "val_loss 0.00080 val_acc 1.00000: 100%|██████████| 53/53 [00:01<00:00, 33.83it/s]\n"
          ]
        },
        {
          "output_type": "stream",
          "name": "stdout",
          "text": [
            "Epoch 783/1000 loss 0.00195 val_loss 0.00080 acc 0.99947 val_acc 1.00000\n"
          ]
        },
        {
          "output_type": "stream",
          "name": "stderr",
          "text": [
            "loss 0.00006 acc 1.00000: 100%|██████████| 297/297 [00:06<00:00, 45.08it/s]\n",
            "val_loss 0.00015 val_acc 1.00000: 100%|██████████| 53/53 [00:01<00:00, 31.85it/s]\n"
          ]
        },
        {
          "output_type": "stream",
          "name": "stdout",
          "text": [
            "Epoch 784/1000 loss 0.00006 val_loss 0.00015 acc 1.00000 val_acc 1.00000\n"
          ]
        },
        {
          "output_type": "stream",
          "name": "stderr",
          "text": [
            "loss 0.00060 acc 0.99989: 100%|██████████| 297/297 [00:07<00:00, 40.45it/s]\n",
            "val_loss 0.00052 val_acc 1.00000: 100%|██████████| 53/53 [00:01<00:00, 33.38it/s]\n"
          ]
        },
        {
          "output_type": "stream",
          "name": "stdout",
          "text": [
            "Epoch 785/1000 loss 0.00060 val_loss 0.00052 acc 0.99989 val_acc 1.00000\n"
          ]
        },
        {
          "output_type": "stream",
          "name": "stderr",
          "text": [
            "loss 0.00389 acc 0.99940: 100%|██████████| 297/297 [00:06<00:00, 47.66it/s]\n",
            "val_loss 0.00062 val_acc 0.99941: 100%|██████████| 53/53 [00:01<00:00, 32.41it/s]\n"
          ]
        },
        {
          "output_type": "stream",
          "name": "stdout",
          "text": [
            "Epoch 786/1000 loss 0.00389 val_loss 0.00062 acc 0.99940 val_acc 0.99941\n"
          ]
        },
        {
          "output_type": "stream",
          "name": "stderr",
          "text": [
            "loss 0.00099 acc 0.99968: 100%|██████████| 297/297 [00:06<00:00, 45.91it/s]\n",
            "val_loss 0.00063 val_acc 0.99941: 100%|██████████| 53/53 [00:01<00:00, 33.36it/s]\n"
          ]
        },
        {
          "output_type": "stream",
          "name": "stdout",
          "text": [
            "Epoch 787/1000 loss 0.00099 val_loss 0.00063 acc 0.99968 val_acc 0.99941\n"
          ]
        },
        {
          "output_type": "stream",
          "name": "stderr",
          "text": [
            "loss 0.00105 acc 0.99989: 100%|██████████| 297/297 [00:06<00:00, 45.57it/s]\n",
            "val_loss 0.00057 val_acc 1.00000: 100%|██████████| 53/53 [00:01<00:00, 33.96it/s]\n"
          ]
        },
        {
          "output_type": "stream",
          "name": "stdout",
          "text": [
            "Epoch 788/1000 loss 0.00105 val_loss 0.00057 acc 0.99989 val_acc 1.00000\n"
          ]
        },
        {
          "output_type": "stream",
          "name": "stderr",
          "text": [
            "loss 0.00017 acc 0.99989: 100%|██████████| 297/297 [00:06<00:00, 43.51it/s]\n",
            "val_loss 0.00034 val_acc 1.00000: 100%|██████████| 53/53 [00:01<00:00, 31.14it/s]\n"
          ]
        },
        {
          "output_type": "stream",
          "name": "stdout",
          "text": [
            "Epoch 789/1000 loss 0.00017 val_loss 0.00034 acc 0.99989 val_acc 1.00000\n"
          ]
        },
        {
          "output_type": "stream",
          "name": "stderr",
          "text": [
            "loss 0.00058 acc 0.99979: 100%|██████████| 297/297 [00:07<00:00, 39.07it/s]\n",
            "val_loss 0.00323 val_acc 0.99941: 100%|██████████| 53/53 [00:01<00:00, 34.48it/s]\n"
          ]
        },
        {
          "output_type": "stream",
          "name": "stdout",
          "text": [
            "Epoch 790/1000 loss 0.00058 val_loss 0.00323 acc 0.99979 val_acc 0.99941\n"
          ]
        },
        {
          "output_type": "stream",
          "name": "stderr",
          "text": [
            "loss 0.00013 acc 0.99989: 100%|██████████| 297/297 [00:06<00:00, 44.04it/s]\n",
            "val_loss 0.00374 val_acc 0.99941: 100%|██████████| 53/53 [00:01<00:00, 33.84it/s]\n"
          ]
        },
        {
          "output_type": "stream",
          "name": "stdout",
          "text": [
            "Epoch 791/1000 loss 0.00013 val_loss 0.00374 acc 0.99989 val_acc 0.99941\n"
          ]
        },
        {
          "output_type": "stream",
          "name": "stderr",
          "text": [
            "loss 0.00013 acc 1.00000: 100%|██████████| 297/297 [00:07<00:00, 38.16it/s]\n",
            "val_loss 0.00544 val_acc 0.99941: 100%|██████████| 53/53 [00:01<00:00, 32.35it/s]\n"
          ]
        },
        {
          "output_type": "stream",
          "name": "stdout",
          "text": [
            "Epoch 792/1000 loss 0.00013 val_loss 0.00544 acc 1.00000 val_acc 0.99941\n"
          ]
        },
        {
          "output_type": "stream",
          "name": "stderr",
          "text": [
            "loss 0.00001 acc 1.00000: 100%|██████████| 297/297 [00:07<00:00, 38.79it/s]\n",
            "val_loss 0.00255 val_acc 0.99941: 100%|██████████| 53/53 [00:01<00:00, 29.61it/s]\n"
          ]
        },
        {
          "output_type": "stream",
          "name": "stdout",
          "text": [
            "Epoch 793/1000 loss 0.00001 val_loss 0.00255 acc 1.00000 val_acc 0.99941\n"
          ]
        },
        {
          "output_type": "stream",
          "name": "stderr",
          "text": [
            "loss 0.00006 acc 1.00000: 100%|██████████| 297/297 [00:07<00:00, 37.62it/s]\n",
            "val_loss 0.00531 val_acc 0.99941: 100%|██████████| 53/53 [00:01<00:00, 28.77it/s]\n"
          ]
        },
        {
          "output_type": "stream",
          "name": "stdout",
          "text": [
            "Epoch 794/1000 loss 0.00006 val_loss 0.00531 acc 1.00000 val_acc 0.99941\n"
          ]
        },
        {
          "output_type": "stream",
          "name": "stderr",
          "text": [
            "loss 0.00026 acc 0.99979: 100%|██████████| 297/297 [00:06<00:00, 44.68it/s]\n",
            "val_loss 0.00178 val_acc 0.99941: 100%|██████████| 53/53 [00:01<00:00, 29.00it/s]\n"
          ]
        },
        {
          "output_type": "stream",
          "name": "stdout",
          "text": [
            "Epoch 795/1000 loss 0.00026 val_loss 0.00178 acc 0.99979 val_acc 0.99941\n"
          ]
        },
        {
          "output_type": "stream",
          "name": "stderr",
          "text": [
            "loss 0.00320 acc 0.99951: 100%|██████████| 297/297 [00:06<00:00, 43.35it/s]\n",
            "val_loss 0.00021 val_acc 1.00000: 100%|██████████| 53/53 [00:01<00:00, 29.05it/s]\n"
          ]
        },
        {
          "output_type": "stream",
          "name": "stdout",
          "text": [
            "Epoch 796/1000 loss 0.00320 val_loss 0.00021 acc 0.99951 val_acc 1.00000\n"
          ]
        },
        {
          "output_type": "stream",
          "name": "stderr",
          "text": [
            "loss 0.00042 acc 0.99979: 100%|██████████| 297/297 [00:07<00:00, 39.31it/s]\n",
            "val_loss 0.00047 val_acc 1.00000: 100%|██████████| 53/53 [00:01<00:00, 32.28it/s]\n"
          ]
        },
        {
          "output_type": "stream",
          "name": "stdout",
          "text": [
            "Epoch 797/1000 loss 0.00042 val_loss 0.00047 acc 0.99979 val_acc 1.00000\n"
          ]
        },
        {
          "output_type": "stream",
          "name": "stderr",
          "text": [
            "loss 0.00256 acc 0.99951: 100%|██████████| 297/297 [00:06<00:00, 43.55it/s]\n",
            "val_loss 0.00192 val_acc 0.99941: 100%|██████████| 53/53 [00:01<00:00, 32.64it/s]\n"
          ]
        },
        {
          "output_type": "stream",
          "name": "stdout",
          "text": [
            "Epoch 798/1000 loss 0.00256 val_loss 0.00192 acc 0.99951 val_acc 0.99941\n"
          ]
        },
        {
          "output_type": "stream",
          "name": "stderr",
          "text": [
            "loss 0.00041 acc 0.99979: 100%|██████████| 297/297 [00:07<00:00, 39.39it/s]\n",
            "val_loss 0.00724 val_acc 0.99941: 100%|██████████| 53/53 [00:01<00:00, 29.89it/s]\n"
          ]
        },
        {
          "output_type": "stream",
          "name": "stdout",
          "text": [
            "Epoch 799/1000 loss 0.00041 val_loss 0.00724 acc 0.99979 val_acc 0.99941\n"
          ]
        },
        {
          "output_type": "stream",
          "name": "stderr",
          "text": [
            "loss 0.00046 acc 0.99979: 100%|██████████| 297/297 [00:06<00:00, 43.53it/s]\n",
            "val_loss 0.00003 val_acc 1.00000: 100%|██████████| 53/53 [00:01<00:00, 34.99it/s]\n"
          ]
        },
        {
          "output_type": "stream",
          "name": "stdout",
          "text": [
            "Epoch 800/1000 loss 0.00046 val_loss 0.00003 acc 0.99979 val_acc 1.00000\n",
            "Checkpoint guardado en /content/drive/MyDrive/SIS421 prueba dataset 1 test/Checkpoints/checkpoint.pth (Epoch 800)\n"
          ]
        },
        {
          "output_type": "stream",
          "name": "stderr",
          "text": [
            "loss 0.00076 acc 0.99979: 100%|██████████| 297/297 [00:07<00:00, 38.80it/s]\n",
            "val_loss 0.00085 val_acc 0.99941: 100%|██████████| 53/53 [00:01<00:00, 29.14it/s]\n"
          ]
        },
        {
          "output_type": "stream",
          "name": "stdout",
          "text": [
            "Epoch 801/1000 loss 0.00076 val_loss 0.00085 acc 0.99979 val_acc 0.99941\n"
          ]
        },
        {
          "output_type": "stream",
          "name": "stderr",
          "text": [
            "loss 0.00030 acc 0.99989: 100%|██████████| 297/297 [00:06<00:00, 42.89it/s]\n",
            "val_loss 0.00446 val_acc 0.99941: 100%|██████████| 53/53 [00:01<00:00, 34.46it/s]\n"
          ]
        },
        {
          "output_type": "stream",
          "name": "stdout",
          "text": [
            "Epoch 802/1000 loss 0.00030 val_loss 0.00446 acc 0.99989 val_acc 0.99941\n"
          ]
        },
        {
          "output_type": "stream",
          "name": "stderr",
          "text": [
            "loss 0.00260 acc 0.99947: 100%|██████████| 297/297 [00:07<00:00, 40.04it/s]\n",
            "val_loss 0.00002 val_acc 1.00000: 100%|██████████| 53/53 [00:01<00:00, 32.88it/s]\n"
          ]
        },
        {
          "output_type": "stream",
          "name": "stdout",
          "text": [
            "Epoch 803/1000 loss 0.00260 val_loss 0.00002 acc 0.99947 val_acc 1.00000\n"
          ]
        },
        {
          "output_type": "stream",
          "name": "stderr",
          "text": [
            "loss 0.00011 acc 0.99989: 100%|██████████| 297/297 [00:07<00:00, 39.41it/s]\n",
            "val_loss 0.00002 val_acc 1.00000: 100%|██████████| 53/53 [00:01<00:00, 32.99it/s]\n"
          ]
        },
        {
          "output_type": "stream",
          "name": "stdout",
          "text": [
            "Epoch 804/1000 loss 0.00011 val_loss 0.00002 acc 0.99989 val_acc 1.00000\n"
          ]
        },
        {
          "output_type": "stream",
          "name": "stderr",
          "text": [
            "loss 0.00003 acc 1.00000: 100%|██████████| 297/297 [00:06<00:00, 44.18it/s]\n",
            "val_loss 0.00002 val_acc 1.00000: 100%|██████████| 53/53 [00:01<00:00, 31.41it/s]\n"
          ]
        },
        {
          "output_type": "stream",
          "name": "stdout",
          "text": [
            "Epoch 805/1000 loss 0.00003 val_loss 0.00002 acc 1.00000 val_acc 1.00000\n"
          ]
        },
        {
          "output_type": "stream",
          "name": "stderr",
          "text": [
            "loss 0.00010 acc 1.00000: 100%|██████████| 297/297 [00:07<00:00, 38.25it/s]\n",
            "val_loss 0.00000 val_acc 1.00000: 100%|██████████| 53/53 [00:01<00:00, 29.72it/s]\n"
          ]
        },
        {
          "output_type": "stream",
          "name": "stdout",
          "text": [
            "Epoch 806/1000 loss 0.00010 val_loss 0.00000 acc 1.00000 val_acc 1.00000\n"
          ]
        },
        {
          "output_type": "stream",
          "name": "stderr",
          "text": [
            "loss 0.00042 acc 0.99979: 100%|██████████| 297/297 [00:06<00:00, 42.62it/s]\n",
            "val_loss 0.00030 val_acc 1.00000: 100%|██████████| 53/53 [00:01<00:00, 32.57it/s]\n"
          ]
        },
        {
          "output_type": "stream",
          "name": "stdout",
          "text": [
            "Epoch 807/1000 loss 0.00042 val_loss 0.00030 acc 0.99979 val_acc 1.00000\n"
          ]
        },
        {
          "output_type": "stream",
          "name": "stderr",
          "text": [
            "loss 0.00039 acc 0.99989: 100%|██████████| 297/297 [00:07<00:00, 38.99it/s]\n",
            "val_loss 0.00004 val_acc 1.00000: 100%|██████████| 53/53 [00:01<00:00, 29.92it/s]\n"
          ]
        },
        {
          "output_type": "stream",
          "name": "stdout",
          "text": [
            "Epoch 808/1000 loss 0.00039 val_loss 0.00004 acc 0.99989 val_acc 1.00000\n"
          ]
        },
        {
          "output_type": "stream",
          "name": "stderr",
          "text": [
            "loss 0.00115 acc 0.99951: 100%|██████████| 297/297 [00:06<00:00, 44.46it/s]\n",
            "val_loss 0.00002 val_acc 1.00000: 100%|██████████| 53/53 [00:01<00:00, 31.50it/s]\n"
          ]
        },
        {
          "output_type": "stream",
          "name": "stdout",
          "text": [
            "Epoch 809/1000 loss 0.00115 val_loss 0.00002 acc 0.99951 val_acc 1.00000\n"
          ]
        },
        {
          "output_type": "stream",
          "name": "stderr",
          "text": [
            "loss 0.00012 acc 1.00000: 100%|██████████| 297/297 [00:07<00:00, 38.13it/s]\n",
            "val_loss 0.00001 val_acc 1.00000: 100%|██████████| 53/53 [00:01<00:00, 31.82it/s]\n"
          ]
        },
        {
          "output_type": "stream",
          "name": "stdout",
          "text": [
            "Epoch 810/1000 loss 0.00012 val_loss 0.00001 acc 1.00000 val_acc 1.00000\n"
          ]
        },
        {
          "output_type": "stream",
          "name": "stderr",
          "text": [
            "loss 0.00071 acc 0.99968: 100%|██████████| 297/297 [00:07<00:00, 41.99it/s]\n",
            "val_loss 0.00165 val_acc 0.99882: 100%|██████████| 53/53 [00:01<00:00, 32.71it/s]\n"
          ]
        },
        {
          "output_type": "stream",
          "name": "stdout",
          "text": [
            "Epoch 811/1000 loss 0.00071 val_loss 0.00165 acc 0.99968 val_acc 0.99882\n"
          ]
        },
        {
          "output_type": "stream",
          "name": "stderr",
          "text": [
            "loss 0.00004 acc 1.00000: 100%|██████████| 297/297 [00:07<00:00, 37.66it/s]\n",
            "val_loss 0.00067 val_acc 0.99941: 100%|██████████| 53/53 [00:01<00:00, 29.18it/s]\n"
          ]
        },
        {
          "output_type": "stream",
          "name": "stdout",
          "text": [
            "Epoch 812/1000 loss 0.00004 val_loss 0.00067 acc 1.00000 val_acc 0.99941\n"
          ]
        },
        {
          "output_type": "stream",
          "name": "stderr",
          "text": [
            "loss 0.00009 acc 0.99989: 100%|██████████| 297/297 [00:07<00:00, 40.71it/s]\n",
            "val_loss 0.00011 val_acc 1.00000: 100%|██████████| 53/53 [00:01<00:00, 31.45it/s]\n"
          ]
        },
        {
          "output_type": "stream",
          "name": "stdout",
          "text": [
            "Epoch 813/1000 loss 0.00009 val_loss 0.00011 acc 0.99989 val_acc 1.00000\n"
          ]
        },
        {
          "output_type": "stream",
          "name": "stderr",
          "text": [
            "loss 0.00000 acc 1.00000: 100%|██████████| 297/297 [00:07<00:00, 37.62it/s]\n",
            "val_loss 0.00088 val_acc 0.99941: 100%|██████████| 53/53 [00:01<00:00, 29.19it/s]\n"
          ]
        },
        {
          "output_type": "stream",
          "name": "stdout",
          "text": [
            "Epoch 814/1000 loss 0.00000 val_loss 0.00088 acc 1.00000 val_acc 0.99941\n"
          ]
        },
        {
          "output_type": "stream",
          "name": "stderr",
          "text": [
            "loss 0.00002 acc 1.00000: 100%|██████████| 297/297 [00:07<00:00, 38.44it/s]\n",
            "val_loss 0.00019 val_acc 1.00000: 100%|██████████| 53/53 [00:01<00:00, 33.17it/s]\n"
          ]
        },
        {
          "output_type": "stream",
          "name": "stdout",
          "text": [
            "Epoch 815/1000 loss 0.00002 val_loss 0.00019 acc 1.00000 val_acc 1.00000\n"
          ]
        },
        {
          "output_type": "stream",
          "name": "stderr",
          "text": [
            "loss 0.00134 acc 0.99972: 100%|██████████| 297/297 [00:07<00:00, 41.30it/s]\n",
            "val_loss 0.00004 val_acc 1.00000: 100%|██████████| 53/53 [00:01<00:00, 27.55it/s]\n"
          ]
        },
        {
          "output_type": "stream",
          "name": "stdout",
          "text": [
            "Epoch 816/1000 loss 0.00134 val_loss 0.00004 acc 0.99972 val_acc 1.00000\n"
          ]
        },
        {
          "output_type": "stream",
          "name": "stderr",
          "text": [
            "loss 0.00137 acc 0.99958: 100%|██████████| 297/297 [00:07<00:00, 38.04it/s]\n",
            "val_loss 0.00002 val_acc 1.00000: 100%|██████████| 53/53 [00:01<00:00, 29.51it/s]\n"
          ]
        },
        {
          "output_type": "stream",
          "name": "stdout",
          "text": [
            "Epoch 817/1000 loss 0.00137 val_loss 0.00002 acc 0.99958 val_acc 1.00000\n"
          ]
        },
        {
          "output_type": "stream",
          "name": "stderr",
          "text": [
            "loss 0.00014 acc 0.99989: 100%|██████████| 297/297 [00:06<00:00, 42.69it/s]\n",
            "val_loss 0.00010 val_acc 1.00000: 100%|██████████| 53/53 [00:01<00:00, 32.10it/s]\n"
          ]
        },
        {
          "output_type": "stream",
          "name": "stdout",
          "text": [
            "Epoch 818/1000 loss 0.00014 val_loss 0.00010 acc 0.99989 val_acc 1.00000\n"
          ]
        },
        {
          "output_type": "stream",
          "name": "stderr",
          "text": [
            "loss 0.00013 acc 0.99989: 100%|██████████| 297/297 [00:07<00:00, 38.00it/s]\n",
            "val_loss 0.00083 val_acc 0.99941: 100%|██████████| 53/53 [00:01<00:00, 29.24it/s]\n"
          ]
        },
        {
          "output_type": "stream",
          "name": "stdout",
          "text": [
            "Epoch 819/1000 loss 0.00013 val_loss 0.00083 acc 0.99989 val_acc 0.99941\n"
          ]
        },
        {
          "output_type": "stream",
          "name": "stderr",
          "text": [
            "loss 0.00011 acc 1.00000: 100%|██████████| 297/297 [00:07<00:00, 41.21it/s]\n",
            "val_loss 0.00001 val_acc 1.00000: 100%|██████████| 53/53 [00:01<00:00, 32.62it/s]\n"
          ]
        },
        {
          "output_type": "stream",
          "name": "stdout",
          "text": [
            "Epoch 820/1000 loss 0.00011 val_loss 0.00001 acc 1.00000 val_acc 1.00000\n",
            "Checkpoint guardado en /content/drive/MyDrive/SIS421 prueba dataset 1 test/Checkpoints/checkpoint.pth (Epoch 820)\n"
          ]
        },
        {
          "output_type": "stream",
          "name": "stderr",
          "text": [
            "loss 0.00184 acc 0.99972: 100%|██████████| 297/297 [00:07<00:00, 39.85it/s]\n",
            "val_loss 0.00000 val_acc 1.00000: 100%|██████████| 53/53 [00:01<00:00, 31.27it/s]\n"
          ]
        },
        {
          "output_type": "stream",
          "name": "stdout",
          "text": [
            "Epoch 821/1000 loss 0.00184 val_loss 0.00000 acc 0.99972 val_acc 1.00000\n"
          ]
        },
        {
          "output_type": "stream",
          "name": "stderr",
          "text": [
            "loss 0.00135 acc 0.99958: 100%|██████████| 297/297 [00:06<00:00, 42.68it/s]\n",
            "val_loss 0.00004 val_acc 1.00000: 100%|██████████| 53/53 [00:01<00:00, 35.80it/s]\n"
          ]
        },
        {
          "output_type": "stream",
          "name": "stdout",
          "text": [
            "Epoch 822/1000 loss 0.00135 val_loss 0.00004 acc 0.99958 val_acc 1.00000\n"
          ]
        },
        {
          "output_type": "stream",
          "name": "stderr",
          "text": [
            "loss 0.00004 acc 1.00000: 100%|██████████| 297/297 [00:07<00:00, 39.79it/s]\n",
            "val_loss 0.00008 val_acc 1.00000: 100%|██████████| 53/53 [00:01<00:00, 31.72it/s]\n"
          ]
        },
        {
          "output_type": "stream",
          "name": "stdout",
          "text": [
            "Epoch 823/1000 loss 0.00004 val_loss 0.00008 acc 1.00000 val_acc 1.00000\n"
          ]
        },
        {
          "output_type": "stream",
          "name": "stderr",
          "text": [
            "loss 0.00106 acc 0.99968: 100%|██████████| 297/297 [00:07<00:00, 39.76it/s]\n",
            "val_loss 0.00013 val_acc 1.00000: 100%|██████████| 53/53 [00:01<00:00, 34.87it/s]\n"
          ]
        },
        {
          "output_type": "stream",
          "name": "stdout",
          "text": [
            "Epoch 824/1000 loss 0.00106 val_loss 0.00013 acc 0.99968 val_acc 1.00000\n"
          ]
        },
        {
          "output_type": "stream",
          "name": "stderr",
          "text": [
            "loss 0.00016 acc 1.00000: 100%|██████████| 297/297 [00:06<00:00, 43.81it/s]\n",
            "val_loss 0.00004 val_acc 1.00000: 100%|██████████| 53/53 [00:01<00:00, 32.47it/s]\n"
          ]
        },
        {
          "output_type": "stream",
          "name": "stdout",
          "text": [
            "Epoch 825/1000 loss 0.00016 val_loss 0.00004 acc 1.00000 val_acc 1.00000\n"
          ]
        },
        {
          "output_type": "stream",
          "name": "stderr",
          "text": [
            "loss 0.00007 acc 1.00000: 100%|██████████| 297/297 [00:07<00:00, 38.35it/s]\n",
            "val_loss 0.00017 val_acc 1.00000: 100%|██████████| 53/53 [00:01<00:00, 32.39it/s]\n"
          ]
        },
        {
          "output_type": "stream",
          "name": "stdout",
          "text": [
            "Epoch 826/1000 loss 0.00007 val_loss 0.00017 acc 1.00000 val_acc 1.00000\n"
          ]
        },
        {
          "output_type": "stream",
          "name": "stderr",
          "text": [
            "loss 0.00095 acc 0.99979: 100%|██████████| 297/297 [00:06<00:00, 44.50it/s]\n",
            "val_loss 0.00018 val_acc 1.00000: 100%|██████████| 53/53 [00:01<00:00, 33.94it/s]\n"
          ]
        },
        {
          "output_type": "stream",
          "name": "stdout",
          "text": [
            "Epoch 827/1000 loss 0.00095 val_loss 0.00018 acc 0.99979 val_acc 1.00000\n"
          ]
        },
        {
          "output_type": "stream",
          "name": "stderr",
          "text": [
            "loss 0.00026 acc 0.99989: 100%|██████████| 297/297 [00:07<00:00, 41.18it/s]\n",
            "val_loss 0.00008 val_acc 1.00000: 100%|██████████| 53/53 [00:01<00:00, 32.74it/s]\n"
          ]
        },
        {
          "output_type": "stream",
          "name": "stdout",
          "text": [
            "Epoch 828/1000 loss 0.00026 val_loss 0.00008 acc 0.99989 val_acc 1.00000\n"
          ]
        },
        {
          "output_type": "stream",
          "name": "stderr",
          "text": [
            "loss 0.00043 acc 0.99979: 100%|██████████| 297/297 [00:06<00:00, 44.22it/s]\n",
            "val_loss 0.00096 val_acc 0.99941: 100%|██████████| 53/53 [00:01<00:00, 36.71it/s]\n"
          ]
        },
        {
          "output_type": "stream",
          "name": "stdout",
          "text": [
            "Epoch 829/1000 loss 0.00043 val_loss 0.00096 acc 0.99979 val_acc 0.99941\n"
          ]
        },
        {
          "output_type": "stream",
          "name": "stderr",
          "text": [
            "loss 0.00030 acc 0.99989: 100%|██████████| 297/297 [00:07<00:00, 40.59it/s]\n",
            "val_loss 0.00595 val_acc 0.99941: 100%|██████████| 53/53 [00:01<00:00, 31.89it/s]\n"
          ]
        },
        {
          "output_type": "stream",
          "name": "stdout",
          "text": [
            "Epoch 830/1000 loss 0.00030 val_loss 0.00595 acc 0.99989 val_acc 0.99941\n"
          ]
        },
        {
          "output_type": "stream",
          "name": "stderr",
          "text": [
            "loss 0.00018 acc 0.99989: 100%|██████████| 297/297 [00:07<00:00, 39.12it/s]\n",
            "val_loss 0.00292 val_acc 0.99941: 100%|██████████| 53/53 [00:01<00:00, 31.78it/s]\n"
          ]
        },
        {
          "output_type": "stream",
          "name": "stdout",
          "text": [
            "Epoch 831/1000 loss 0.00018 val_loss 0.00292 acc 0.99989 val_acc 0.99941\n"
          ]
        },
        {
          "output_type": "stream",
          "name": "stderr",
          "text": [
            "loss 0.00007 acc 1.00000: 100%|██████████| 297/297 [00:06<00:00, 42.72it/s]\n",
            "val_loss 0.00067 val_acc 0.99941: 100%|██████████| 53/53 [00:01<00:00, 31.15it/s]\n"
          ]
        },
        {
          "output_type": "stream",
          "name": "stdout",
          "text": [
            "Epoch 832/1000 loss 0.00007 val_loss 0.00067 acc 1.00000 val_acc 0.99941\n"
          ]
        },
        {
          "output_type": "stream",
          "name": "stderr",
          "text": [
            "loss 0.00161 acc 0.99919: 100%|██████████| 297/297 [00:07<00:00, 37.97it/s]\n",
            "val_loss 0.01638 val_acc 0.99823: 100%|██████████| 53/53 [00:01<00:00, 31.36it/s]\n"
          ]
        },
        {
          "output_type": "stream",
          "name": "stdout",
          "text": [
            "Epoch 833/1000 loss 0.00161 val_loss 0.01638 acc 0.99919 val_acc 0.99823\n"
          ]
        },
        {
          "output_type": "stream",
          "name": "stderr",
          "text": [
            "loss 0.00039 acc 0.99989: 100%|██████████| 297/297 [00:07<00:00, 37.89it/s]\n",
            "val_loss 0.00825 val_acc 0.99764: 100%|██████████| 53/53 [00:01<00:00, 28.86it/s]\n"
          ]
        },
        {
          "output_type": "stream",
          "name": "stdout",
          "text": [
            "Epoch 834/1000 loss 0.00039 val_loss 0.00825 acc 0.99989 val_acc 0.99764\n"
          ]
        },
        {
          "output_type": "stream",
          "name": "stderr",
          "text": [
            "loss 0.00010 acc 1.00000: 100%|██████████| 297/297 [00:07<00:00, 38.20it/s]\n",
            "val_loss 0.00859 val_acc 0.99764: 100%|██████████| 53/53 [00:01<00:00, 31.36it/s]\n"
          ]
        },
        {
          "output_type": "stream",
          "name": "stdout",
          "text": [
            "Epoch 835/1000 loss 0.00010 val_loss 0.00859 acc 1.00000 val_acc 0.99764\n"
          ]
        },
        {
          "output_type": "stream",
          "name": "stderr",
          "text": [
            "loss 0.00290 acc 0.99937: 100%|██████████| 297/297 [00:07<00:00, 42.03it/s]\n",
            "val_loss 0.00941 val_acc 0.99882: 100%|██████████| 53/53 [00:01<00:00, 30.80it/s]\n"
          ]
        },
        {
          "output_type": "stream",
          "name": "stdout",
          "text": [
            "Epoch 836/1000 loss 0.00290 val_loss 0.00941 acc 0.99937 val_acc 0.99882\n"
          ]
        },
        {
          "output_type": "stream",
          "name": "stderr",
          "text": [
            "loss 0.00045 acc 0.99989: 100%|██████████| 297/297 [00:07<00:00, 38.51it/s]\n",
            "val_loss 0.00762 val_acc 0.99941: 100%|██████████| 53/53 [00:01<00:00, 30.07it/s]\n"
          ]
        },
        {
          "output_type": "stream",
          "name": "stdout",
          "text": [
            "Epoch 837/1000 loss 0.00045 val_loss 0.00762 acc 0.99989 val_acc 0.99941\n"
          ]
        },
        {
          "output_type": "stream",
          "name": "stderr",
          "text": [
            "loss 0.00066 acc 0.99979: 100%|██████████| 297/297 [00:07<00:00, 41.69it/s]\n",
            "val_loss 0.00398 val_acc 0.99941: 100%|██████████| 53/53 [00:01<00:00, 32.97it/s]\n"
          ]
        },
        {
          "output_type": "stream",
          "name": "stdout",
          "text": [
            "Epoch 838/1000 loss 0.00066 val_loss 0.00398 acc 0.99979 val_acc 0.99941\n"
          ]
        },
        {
          "output_type": "stream",
          "name": "stderr",
          "text": [
            "loss 0.00022 acc 0.99989: 100%|██████████| 297/297 [00:07<00:00, 41.17it/s]\n",
            "val_loss 0.00484 val_acc 0.99941: 100%|██████████| 53/53 [00:01<00:00, 32.37it/s]\n"
          ]
        },
        {
          "output_type": "stream",
          "name": "stdout",
          "text": [
            "Epoch 839/1000 loss 0.00022 val_loss 0.00484 acc 0.99989 val_acc 0.99941\n"
          ]
        },
        {
          "output_type": "stream",
          "name": "stderr",
          "text": [
            "loss 0.00004 acc 1.00000: 100%|██████████| 297/297 [00:08<00:00, 36.38it/s]\n",
            "val_loss 0.00214 val_acc 0.99941: 100%|██████████| 53/53 [00:01<00:00, 31.92it/s]\n"
          ]
        },
        {
          "output_type": "stream",
          "name": "stdout",
          "text": [
            "Epoch 840/1000 loss 0.00004 val_loss 0.00214 acc 1.00000 val_acc 0.99941\n",
            "Checkpoint guardado en /content/drive/MyDrive/SIS421 prueba dataset 1 test/Checkpoints/checkpoint.pth (Epoch 840)\n"
          ]
        },
        {
          "output_type": "stream",
          "name": "stderr",
          "text": [
            "loss 0.00006 acc 1.00000: 100%|██████████| 297/297 [00:07<00:00, 42.29it/s]\n",
            "val_loss 0.00428 val_acc 0.99941: 100%|██████████| 53/53 [00:01<00:00, 31.27it/s]\n"
          ]
        },
        {
          "output_type": "stream",
          "name": "stdout",
          "text": [
            "Epoch 841/1000 loss 0.00006 val_loss 0.00428 acc 1.00000 val_acc 0.99941\n"
          ]
        },
        {
          "output_type": "stream",
          "name": "stderr",
          "text": [
            "loss 0.00035 acc 0.99989: 100%|██████████| 297/297 [00:07<00:00, 39.88it/s]\n",
            "val_loss 0.00449 val_acc 0.99941: 100%|██████████| 53/53 [00:01<00:00, 31.19it/s]\n"
          ]
        },
        {
          "output_type": "stream",
          "name": "stdout",
          "text": [
            "Epoch 842/1000 loss 0.00035 val_loss 0.00449 acc 0.99989 val_acc 0.99941\n"
          ]
        },
        {
          "output_type": "stream",
          "name": "stderr",
          "text": [
            "loss 0.00026 acc 0.99989: 100%|██████████| 297/297 [00:07<00:00, 41.67it/s]\n",
            "val_loss 0.00482 val_acc 0.99941: 100%|██████████| 53/53 [00:01<00:00, 33.51it/s]\n"
          ]
        },
        {
          "output_type": "stream",
          "name": "stdout",
          "text": [
            "Epoch 843/1000 loss 0.00026 val_loss 0.00482 acc 0.99989 val_acc 0.99941\n"
          ]
        },
        {
          "output_type": "stream",
          "name": "stderr",
          "text": [
            "loss 0.00000 acc 1.00000: 100%|██████████| 297/297 [00:07<00:00, 39.63it/s]\n",
            "val_loss 0.00399 val_acc 0.99941: 100%|██████████| 53/53 [00:01<00:00, 29.25it/s]\n"
          ]
        },
        {
          "output_type": "stream",
          "name": "stdout",
          "text": [
            "Epoch 844/1000 loss 0.00000 val_loss 0.00399 acc 1.00000 val_acc 0.99941\n"
          ]
        },
        {
          "output_type": "stream",
          "name": "stderr",
          "text": [
            "loss 0.00372 acc 0.99972: 100%|██████████| 297/297 [00:07<00:00, 41.76it/s]\n",
            "val_loss 0.00395 val_acc 0.99941: 100%|██████████| 53/53 [00:01<00:00, 33.77it/s]\n"
          ]
        },
        {
          "output_type": "stream",
          "name": "stdout",
          "text": [
            "Epoch 845/1000 loss 0.00372 val_loss 0.00395 acc 0.99972 val_acc 0.99941\n"
          ]
        },
        {
          "output_type": "stream",
          "name": "stderr",
          "text": [
            "loss 0.00024 acc 0.99989: 100%|██████████| 297/297 [00:07<00:00, 37.90it/s]\n",
            "val_loss 0.00504 val_acc 0.99941: 100%|██████████| 53/53 [00:01<00:00, 30.13it/s]\n"
          ]
        },
        {
          "output_type": "stream",
          "name": "stdout",
          "text": [
            "Epoch 846/1000 loss 0.00024 val_loss 0.00504 acc 0.99989 val_acc 0.99941\n"
          ]
        },
        {
          "output_type": "stream",
          "name": "stderr",
          "text": [
            "loss 0.00060 acc 0.99968: 100%|██████████| 297/297 [00:07<00:00, 40.70it/s]\n",
            "val_loss 0.00027 val_acc 1.00000: 100%|██████████| 53/53 [00:01<00:00, 28.94it/s]\n"
          ]
        },
        {
          "output_type": "stream",
          "name": "stdout",
          "text": [
            "Epoch 847/1000 loss 0.00060 val_loss 0.00027 acc 0.99968 val_acc 1.00000\n"
          ]
        },
        {
          "output_type": "stream",
          "name": "stderr",
          "text": [
            "loss 0.00021 acc 0.99989: 100%|██████████| 297/297 [00:07<00:00, 38.13it/s]\n",
            "val_loss 0.00040 val_acc 1.00000: 100%|██████████| 53/53 [00:01<00:00, 30.35it/s]\n"
          ]
        },
        {
          "output_type": "stream",
          "name": "stdout",
          "text": [
            "Epoch 848/1000 loss 0.00021 val_loss 0.00040 acc 0.99989 val_acc 1.00000\n"
          ]
        },
        {
          "output_type": "stream",
          "name": "stderr",
          "text": [
            "loss 0.00002 acc 1.00000: 100%|██████████| 297/297 [00:06<00:00, 42.74it/s]\n",
            "val_loss 0.00007 val_acc 1.00000: 100%|██████████| 53/53 [00:01<00:00, 31.18it/s]\n"
          ]
        },
        {
          "output_type": "stream",
          "name": "stdout",
          "text": [
            "Epoch 849/1000 loss 0.00002 val_loss 0.00007 acc 1.00000 val_acc 1.00000\n"
          ]
        },
        {
          "output_type": "stream",
          "name": "stderr",
          "text": [
            "loss 0.00001 acc 1.00000: 100%|██████████| 297/297 [00:07<00:00, 39.72it/s]\n",
            "val_loss 0.00007 val_acc 1.00000: 100%|██████████| 53/53 [00:01<00:00, 28.85it/s]\n"
          ]
        },
        {
          "output_type": "stream",
          "name": "stdout",
          "text": [
            "Epoch 850/1000 loss 0.00001 val_loss 0.00007 acc 1.00000 val_acc 1.00000\n"
          ]
        },
        {
          "output_type": "stream",
          "name": "stderr",
          "text": [
            "loss 0.00055 acc 0.99979: 100%|██████████| 297/297 [00:07<00:00, 39.35it/s]\n",
            "val_loss 0.00005 val_acc 1.00000: 100%|██████████| 53/53 [00:01<00:00, 30.43it/s]\n"
          ]
        },
        {
          "output_type": "stream",
          "name": "stdout",
          "text": [
            "Epoch 851/1000 loss 0.00055 val_loss 0.00005 acc 0.99979 val_acc 1.00000\n"
          ]
        },
        {
          "output_type": "stream",
          "name": "stderr",
          "text": [
            "loss 0.00017 acc 0.99989: 100%|██████████| 297/297 [00:07<00:00, 42.30it/s]\n",
            "val_loss 0.00012 val_acc 1.00000: 100%|██████████| 53/53 [00:01<00:00, 31.91it/s]\n"
          ]
        },
        {
          "output_type": "stream",
          "name": "stdout",
          "text": [
            "Epoch 852/1000 loss 0.00017 val_loss 0.00012 acc 0.99989 val_acc 1.00000\n"
          ]
        },
        {
          "output_type": "stream",
          "name": "stderr",
          "text": [
            "loss 0.00019 acc 0.99989: 100%|██████████| 297/297 [00:07<00:00, 38.86it/s]\n",
            "val_loss 0.00006 val_acc 1.00000: 100%|██████████| 53/53 [00:01<00:00, 32.33it/s]\n"
          ]
        },
        {
          "output_type": "stream",
          "name": "stdout",
          "text": [
            "Epoch 853/1000 loss 0.00019 val_loss 0.00006 acc 0.99989 val_acc 1.00000\n"
          ]
        },
        {
          "output_type": "stream",
          "name": "stderr",
          "text": [
            "loss 0.00016 acc 1.00000: 100%|██████████| 297/297 [00:07<00:00, 39.35it/s]\n",
            "val_loss 0.00005 val_acc 1.00000: 100%|██████████| 53/53 [00:01<00:00, 29.20it/s]\n"
          ]
        },
        {
          "output_type": "stream",
          "name": "stdout",
          "text": [
            "Epoch 854/1000 loss 0.00016 val_loss 0.00005 acc 1.00000 val_acc 1.00000\n"
          ]
        },
        {
          "output_type": "stream",
          "name": "stderr",
          "text": [
            "loss 0.00012 acc 1.00000: 100%|██████████| 297/297 [00:07<00:00, 37.70it/s]\n",
            "val_loss 0.00558 val_acc 0.99882: 100%|██████████| 53/53 [00:01<00:00, 30.83it/s]\n"
          ]
        },
        {
          "output_type": "stream",
          "name": "stdout",
          "text": [
            "Epoch 855/1000 loss 0.00012 val_loss 0.00558 acc 1.00000 val_acc 0.99882\n"
          ]
        },
        {
          "output_type": "stream",
          "name": "stderr",
          "text": [
            "loss 0.00006 acc 1.00000: 100%|██████████| 297/297 [00:07<00:00, 41.17it/s]\n",
            "val_loss 0.00014 val_acc 1.00000: 100%|██████████| 53/53 [00:01<00:00, 32.85it/s]\n"
          ]
        },
        {
          "output_type": "stream",
          "name": "stdout",
          "text": [
            "Epoch 856/1000 loss 0.00006 val_loss 0.00014 acc 1.00000 val_acc 1.00000\n"
          ]
        },
        {
          "output_type": "stream",
          "name": "stderr",
          "text": [
            "loss 0.00002 acc 1.00000: 100%|██████████| 297/297 [00:07<00:00, 40.85it/s]\n",
            "val_loss 0.00011 val_acc 1.00000: 100%|██████████| 53/53 [00:01<00:00, 27.81it/s]\n"
          ]
        },
        {
          "output_type": "stream",
          "name": "stdout",
          "text": [
            "Epoch 857/1000 loss 0.00002 val_loss 0.00011 acc 1.00000 val_acc 1.00000\n"
          ]
        },
        {
          "output_type": "stream",
          "name": "stderr",
          "text": [
            "loss 0.00002 acc 1.00000: 100%|██████████| 297/297 [00:07<00:00, 40.98it/s]\n",
            "val_loss 0.00120 val_acc 0.99941: 100%|██████████| 53/53 [00:01<00:00, 32.54it/s]\n"
          ]
        },
        {
          "output_type": "stream",
          "name": "stdout",
          "text": [
            "Epoch 858/1000 loss 0.00002 val_loss 0.00120 acc 1.00000 val_acc 0.99941\n"
          ]
        },
        {
          "output_type": "stream",
          "name": "stderr",
          "text": [
            "loss 0.00005 acc 1.00000: 100%|██████████| 297/297 [00:07<00:00, 41.73it/s]\n",
            "val_loss 0.00014 val_acc 1.00000: 100%|██████████| 53/53 [00:01<00:00, 32.11it/s]\n"
          ]
        },
        {
          "output_type": "stream",
          "name": "stdout",
          "text": [
            "Epoch 859/1000 loss 0.00005 val_loss 0.00014 acc 1.00000 val_acc 1.00000\n"
          ]
        },
        {
          "output_type": "stream",
          "name": "stderr",
          "text": [
            "loss 0.00004 acc 1.00000: 100%|██████████| 297/297 [00:07<00:00, 39.22it/s]\n",
            "val_loss 0.00219 val_acc 0.99941: 100%|██████████| 53/53 [00:01<00:00, 33.09it/s]\n"
          ]
        },
        {
          "output_type": "stream",
          "name": "stdout",
          "text": [
            "Epoch 860/1000 loss 0.00004 val_loss 0.00219 acc 1.00000 val_acc 0.99941\n",
            "Checkpoint guardado en /content/drive/MyDrive/SIS421 prueba dataset 1 test/Checkpoints/checkpoint.pth (Epoch 860)\n"
          ]
        },
        {
          "output_type": "stream",
          "name": "stderr",
          "text": [
            "loss 0.00001 acc 1.00000: 100%|██████████| 297/297 [00:06<00:00, 45.34it/s]\n",
            "val_loss 0.00302 val_acc 0.99941: 100%|██████████| 53/53 [00:01<00:00, 32.94it/s]\n"
          ]
        },
        {
          "output_type": "stream",
          "name": "stdout",
          "text": [
            "Epoch 861/1000 loss 0.00001 val_loss 0.00302 acc 1.00000 val_acc 0.99941\n"
          ]
        },
        {
          "output_type": "stream",
          "name": "stderr",
          "text": [
            "loss 0.00010 acc 0.99989: 100%|██████████| 297/297 [00:07<00:00, 40.27it/s]\n",
            "val_loss 0.00207 val_acc 0.99941: 100%|██████████| 53/53 [00:01<00:00, 30.70it/s]\n"
          ]
        },
        {
          "output_type": "stream",
          "name": "stdout",
          "text": [
            "Epoch 862/1000 loss 0.00010 val_loss 0.00207 acc 0.99989 val_acc 0.99941\n"
          ]
        },
        {
          "output_type": "stream",
          "name": "stderr",
          "text": [
            "loss 0.01402 acc 0.99895: 100%|██████████| 297/297 [00:06<00:00, 43.19it/s]\n",
            "val_loss 0.00002 val_acc 1.00000: 100%|██████████| 53/53 [00:01<00:00, 33.21it/s]\n"
          ]
        },
        {
          "output_type": "stream",
          "name": "stdout",
          "text": [
            "Epoch 863/1000 loss 0.01402 val_loss 0.00002 acc 0.99895 val_acc 1.00000\n"
          ]
        },
        {
          "output_type": "stream",
          "name": "stderr",
          "text": [
            "loss 0.00088 acc 0.99968: 100%|██████████| 297/297 [00:07<00:00, 38.42it/s]\n",
            "val_loss 0.00139 val_acc 0.99941: 100%|██████████| 53/53 [00:01<00:00, 32.33it/s]\n"
          ]
        },
        {
          "output_type": "stream",
          "name": "stdout",
          "text": [
            "Epoch 864/1000 loss 0.00088 val_loss 0.00139 acc 0.99968 val_acc 0.99941\n"
          ]
        },
        {
          "output_type": "stream",
          "name": "stderr",
          "text": [
            "loss 0.00125 acc 0.99968: 100%|██████████| 297/297 [00:07<00:00, 39.25it/s]\n",
            "val_loss 0.00446 val_acc 0.99882: 100%|██████████| 53/53 [00:01<00:00, 31.69it/s]\n"
          ]
        },
        {
          "output_type": "stream",
          "name": "stdout",
          "text": [
            "Epoch 865/1000 loss 0.00125 val_loss 0.00446 acc 0.99968 val_acc 0.99882\n"
          ]
        },
        {
          "output_type": "stream",
          "name": "stderr",
          "text": [
            "loss 0.00026 acc 0.99989: 100%|██████████| 297/297 [00:07<00:00, 39.84it/s]\n",
            "val_loss 0.00062 val_acc 0.99941: 100%|██████████| 53/53 [00:01<00:00, 30.22it/s]\n"
          ]
        },
        {
          "output_type": "stream",
          "name": "stdout",
          "text": [
            "Epoch 866/1000 loss 0.00026 val_loss 0.00062 acc 0.99989 val_acc 0.99941\n"
          ]
        },
        {
          "output_type": "stream",
          "name": "stderr",
          "text": [
            "loss 0.00003 acc 1.00000: 100%|██████████| 297/297 [00:07<00:00, 38.03it/s]\n",
            "val_loss 0.00032 val_acc 1.00000: 100%|██████████| 53/53 [00:01<00:00, 29.84it/s]\n"
          ]
        },
        {
          "output_type": "stream",
          "name": "stdout",
          "text": [
            "Epoch 867/1000 loss 0.00003 val_loss 0.00032 acc 1.00000 val_acc 1.00000\n"
          ]
        },
        {
          "output_type": "stream",
          "name": "stderr",
          "text": [
            "loss 0.00000 acc 1.00000: 100%|██████████| 297/297 [00:07<00:00, 40.64it/s]\n",
            "val_loss 0.00011 val_acc 1.00000: 100%|██████████| 53/53 [00:01<00:00, 30.65it/s]\n"
          ]
        },
        {
          "output_type": "stream",
          "name": "stdout",
          "text": [
            "Epoch 868/1000 loss 0.00000 val_loss 0.00011 acc 1.00000 val_acc 1.00000\n"
          ]
        },
        {
          "output_type": "stream",
          "name": "stderr",
          "text": [
            "loss 0.00038 acc 0.99989: 100%|██████████| 297/297 [00:07<00:00, 37.59it/s]\n",
            "val_loss 0.00011 val_acc 1.00000: 100%|██████████| 53/53 [00:01<00:00, 29.67it/s]\n"
          ]
        },
        {
          "output_type": "stream",
          "name": "stdout",
          "text": [
            "Epoch 869/1000 loss 0.00038 val_loss 0.00011 acc 0.99989 val_acc 1.00000\n"
          ]
        },
        {
          "output_type": "stream",
          "name": "stderr",
          "text": [
            "loss 0.00006 acc 1.00000: 100%|██████████| 297/297 [00:07<00:00, 41.50it/s]\n",
            "val_loss 0.00007 val_acc 1.00000: 100%|██████████| 53/53 [00:01<00:00, 34.21it/s]\n"
          ]
        },
        {
          "output_type": "stream",
          "name": "stdout",
          "text": [
            "Epoch 870/1000 loss 0.00006 val_loss 0.00007 acc 1.00000 val_acc 1.00000\n"
          ]
        },
        {
          "output_type": "stream",
          "name": "stderr",
          "text": [
            "loss 0.00011 acc 1.00000: 100%|██████████| 297/297 [00:07<00:00, 38.01it/s]\n",
            "val_loss 0.00002 val_acc 1.00000: 100%|██████████| 53/53 [00:01<00:00, 29.97it/s]\n"
          ]
        },
        {
          "output_type": "stream",
          "name": "stdout",
          "text": [
            "Epoch 871/1000 loss 0.00011 val_loss 0.00002 acc 1.00000 val_acc 1.00000\n"
          ]
        },
        {
          "output_type": "stream",
          "name": "stderr",
          "text": [
            "loss 0.00002 acc 1.00000: 100%|██████████| 297/297 [00:06<00:00, 42.70it/s]\n",
            "val_loss 0.00005 val_acc 1.00000: 100%|██████████| 53/53 [00:01<00:00, 33.51it/s]\n"
          ]
        },
        {
          "output_type": "stream",
          "name": "stdout",
          "text": [
            "Epoch 872/1000 loss 0.00002 val_loss 0.00005 acc 1.00000 val_acc 1.00000\n"
          ]
        },
        {
          "output_type": "stream",
          "name": "stderr",
          "text": [
            "loss 0.00007 acc 1.00000: 100%|██████████| 297/297 [00:09<00:00, 31.24it/s]\n",
            "val_loss 0.00002 val_acc 1.00000: 100%|██████████| 53/53 [00:01<00:00, 29.86it/s]\n"
          ]
        },
        {
          "output_type": "stream",
          "name": "stdout",
          "text": [
            "Epoch 873/1000 loss 0.00007 val_loss 0.00002 acc 1.00000 val_acc 1.00000\n"
          ]
        },
        {
          "output_type": "stream",
          "name": "stderr",
          "text": [
            "loss 0.00004 acc 1.00000: 100%|██████████| 297/297 [00:07<00:00, 38.42it/s]\n",
            "val_loss 0.00042 val_acc 1.00000: 100%|██████████| 53/53 [00:01<00:00, 31.13it/s]\n"
          ]
        },
        {
          "output_type": "stream",
          "name": "stdout",
          "text": [
            "Epoch 874/1000 loss 0.00004 val_loss 0.00042 acc 1.00000 val_acc 1.00000\n"
          ]
        },
        {
          "output_type": "stream",
          "name": "stderr",
          "text": [
            "loss 0.00001 acc 1.00000: 100%|██████████| 297/297 [00:07<00:00, 38.85it/s]\n",
            "val_loss 0.00007 val_acc 1.00000: 100%|██████████| 53/53 [00:01<00:00, 30.62it/s]\n"
          ]
        },
        {
          "output_type": "stream",
          "name": "stdout",
          "text": [
            "Epoch 875/1000 loss 0.00001 val_loss 0.00007 acc 1.00000 val_acc 1.00000\n"
          ]
        },
        {
          "output_type": "stream",
          "name": "stderr",
          "text": [
            "loss 0.00038 acc 0.99989: 100%|██████████| 297/297 [00:07<00:00, 39.17it/s]\n",
            "val_loss 0.00007 val_acc 1.00000: 100%|██████████| 53/53 [00:01<00:00, 33.85it/s]\n"
          ]
        },
        {
          "output_type": "stream",
          "name": "stdout",
          "text": [
            "Epoch 876/1000 loss 0.00038 val_loss 0.00007 acc 0.99989 val_acc 1.00000\n"
          ]
        },
        {
          "output_type": "stream",
          "name": "stderr",
          "text": [
            "loss 0.00050 acc 0.99979: 100%|██████████| 297/297 [00:07<00:00, 41.54it/s]\n",
            "val_loss 0.00008 val_acc 1.00000: 100%|██████████| 53/53 [00:01<00:00, 32.16it/s]\n"
          ]
        },
        {
          "output_type": "stream",
          "name": "stdout",
          "text": [
            "Epoch 877/1000 loss 0.00050 val_loss 0.00008 acc 0.99979 val_acc 1.00000\n"
          ]
        },
        {
          "output_type": "stream",
          "name": "stderr",
          "text": [
            "loss 0.00024 acc 0.99989: 100%|██████████| 297/297 [00:07<00:00, 37.47it/s]\n",
            "val_loss 0.00001 val_acc 1.00000: 100%|██████████| 53/53 [00:01<00:00, 30.56it/s]\n"
          ]
        },
        {
          "output_type": "stream",
          "name": "stdout",
          "text": [
            "Epoch 878/1000 loss 0.00024 val_loss 0.00001 acc 0.99989 val_acc 1.00000\n"
          ]
        },
        {
          "output_type": "stream",
          "name": "stderr",
          "text": [
            "loss 0.00007 acc 1.00000: 100%|██████████| 297/297 [00:07<00:00, 41.86it/s]\n",
            "val_loss 0.00163 val_acc 0.99882: 100%|██████████| 53/53 [00:01<00:00, 31.45it/s]\n"
          ]
        },
        {
          "output_type": "stream",
          "name": "stdout",
          "text": [
            "Epoch 879/1000 loss 0.00007 val_loss 0.00163 acc 1.00000 val_acc 0.99882\n"
          ]
        },
        {
          "output_type": "stream",
          "name": "stderr",
          "text": [
            "loss 0.00005 acc 1.00000: 100%|██████████| 297/297 [00:07<00:00, 38.30it/s]\n",
            "val_loss 0.00034 val_acc 1.00000: 100%|██████████| 53/53 [00:01<00:00, 33.31it/s]\n"
          ]
        },
        {
          "output_type": "stream",
          "name": "stdout",
          "text": [
            "Epoch 880/1000 loss 0.00005 val_loss 0.00034 acc 1.00000 val_acc 1.00000\n",
            "Checkpoint guardado en /content/drive/MyDrive/SIS421 prueba dataset 1 test/Checkpoints/checkpoint.pth (Epoch 880)\n"
          ]
        },
        {
          "output_type": "stream",
          "name": "stderr",
          "text": [
            "loss 0.00002 acc 1.00000: 100%|██████████| 297/297 [00:06<00:00, 42.63it/s]\n",
            "val_loss 0.00002 val_acc 1.00000: 100%|██████████| 53/53 [00:01<00:00, 31.13it/s]\n"
          ]
        },
        {
          "output_type": "stream",
          "name": "stdout",
          "text": [
            "Epoch 881/1000 loss 0.00002 val_loss 0.00002 acc 1.00000 val_acc 1.00000\n"
          ]
        },
        {
          "output_type": "stream",
          "name": "stderr",
          "text": [
            "loss 0.00003 acc 1.00000: 100%|██████████| 297/297 [00:07<00:00, 38.89it/s]\n",
            "val_loss 0.00012 val_acc 1.00000: 100%|██████████| 53/53 [00:01<00:00, 30.73it/s]\n"
          ]
        },
        {
          "output_type": "stream",
          "name": "stdout",
          "text": [
            "Epoch 882/1000 loss 0.00003 val_loss 0.00012 acc 1.00000 val_acc 1.00000\n"
          ]
        },
        {
          "output_type": "stream",
          "name": "stderr",
          "text": [
            "loss 0.00166 acc 0.99947: 100%|██████████| 297/297 [00:07<00:00, 41.22it/s]\n",
            "val_loss 0.00004 val_acc 1.00000: 100%|██████████| 53/53 [00:01<00:00, 33.96it/s]\n"
          ]
        },
        {
          "output_type": "stream",
          "name": "stdout",
          "text": [
            "Epoch 883/1000 loss 0.00166 val_loss 0.00004 acc 0.99947 val_acc 1.00000\n"
          ]
        },
        {
          "output_type": "stream",
          "name": "stderr",
          "text": [
            "loss 0.00117 acc 0.99989: 100%|██████████| 297/297 [00:07<00:00, 37.51it/s]\n",
            "val_loss 0.01253 val_acc 0.99823: 100%|██████████| 53/53 [00:01<00:00, 32.47it/s]\n"
          ]
        },
        {
          "output_type": "stream",
          "name": "stdout",
          "text": [
            "Epoch 884/1000 loss 0.00117 val_loss 0.01253 acc 0.99989 val_acc 0.99823\n"
          ]
        },
        {
          "output_type": "stream",
          "name": "stderr",
          "text": [
            "loss 0.00141 acc 0.99968: 100%|██████████| 297/297 [00:06<00:00, 43.85it/s]\n",
            "val_loss 0.01009 val_acc 0.99882: 100%|██████████| 53/53 [00:01<00:00, 34.66it/s]\n"
          ]
        },
        {
          "output_type": "stream",
          "name": "stdout",
          "text": [
            "Epoch 885/1000 loss 0.00141 val_loss 0.01009 acc 0.99968 val_acc 0.99882\n"
          ]
        },
        {
          "output_type": "stream",
          "name": "stderr",
          "text": [
            "loss 0.00134 acc 0.99979: 100%|██████████| 297/297 [00:07<00:00, 39.08it/s]\n",
            "val_loss 0.00343 val_acc 0.99882: 100%|██████████| 53/53 [00:01<00:00, 28.32it/s]\n"
          ]
        },
        {
          "output_type": "stream",
          "name": "stdout",
          "text": [
            "Epoch 886/1000 loss 0.00134 val_loss 0.00343 acc 0.99979 val_acc 0.99882\n"
          ]
        },
        {
          "output_type": "stream",
          "name": "stderr",
          "text": [
            "loss 0.00012 acc 1.00000: 100%|██████████| 297/297 [00:07<00:00, 42.01it/s]\n",
            "val_loss 0.00770 val_acc 0.99882: 100%|██████████| 53/53 [00:01<00:00, 31.02it/s]\n"
          ]
        },
        {
          "output_type": "stream",
          "name": "stdout",
          "text": [
            "Epoch 887/1000 loss 0.00012 val_loss 0.00770 acc 1.00000 val_acc 0.99882\n"
          ]
        },
        {
          "output_type": "stream",
          "name": "stderr",
          "text": [
            "loss 0.00007 acc 1.00000: 100%|██████████| 297/297 [00:07<00:00, 39.75it/s]\n",
            "val_loss 0.00902 val_acc 0.99823: 100%|██████████| 53/53 [00:01<00:00, 28.70it/s]\n"
          ]
        },
        {
          "output_type": "stream",
          "name": "stdout",
          "text": [
            "Epoch 888/1000 loss 0.00007 val_loss 0.00902 acc 1.00000 val_acc 0.99823\n"
          ]
        },
        {
          "output_type": "stream",
          "name": "stderr",
          "text": [
            "loss 0.00053 acc 0.99979: 100%|██████████| 297/297 [00:07<00:00, 41.68it/s]\n",
            "val_loss 0.00717 val_acc 0.99882: 100%|██████████| 53/53 [00:01<00:00, 34.19it/s]\n"
          ]
        },
        {
          "output_type": "stream",
          "name": "stdout",
          "text": [
            "Epoch 889/1000 loss 0.00053 val_loss 0.00717 acc 0.99979 val_acc 0.99882\n"
          ]
        },
        {
          "output_type": "stream",
          "name": "stderr",
          "text": [
            "loss 0.00002 acc 1.00000: 100%|██████████| 297/297 [00:07<00:00, 40.42it/s]\n",
            "val_loss 0.00428 val_acc 0.99882: 100%|██████████| 53/53 [00:01<00:00, 30.17it/s]\n"
          ]
        },
        {
          "output_type": "stream",
          "name": "stdout",
          "text": [
            "Epoch 890/1000 loss 0.00002 val_loss 0.00428 acc 1.00000 val_acc 0.99882\n"
          ]
        },
        {
          "output_type": "stream",
          "name": "stderr",
          "text": [
            "loss 0.00217 acc 0.99944: 100%|██████████| 297/297 [00:06<00:00, 42.59it/s]\n",
            "val_loss 0.00829 val_acc 0.99882: 100%|██████████| 53/53 [00:01<00:00, 34.18it/s]\n"
          ]
        },
        {
          "output_type": "stream",
          "name": "stdout",
          "text": [
            "Epoch 891/1000 loss 0.00217 val_loss 0.00829 acc 0.99944 val_acc 0.99882\n"
          ]
        },
        {
          "output_type": "stream",
          "name": "stderr",
          "text": [
            "loss 0.00196 acc 0.99947: 100%|██████████| 297/297 [00:07<00:00, 39.06it/s]\n",
            "val_loss 0.00140 val_acc 0.99882: 100%|██████████| 53/53 [00:01<00:00, 31.12it/s]\n"
          ]
        },
        {
          "output_type": "stream",
          "name": "stdout",
          "text": [
            "Epoch 892/1000 loss 0.00196 val_loss 0.00140 acc 0.99947 val_acc 0.99882\n"
          ]
        },
        {
          "output_type": "stream",
          "name": "stderr",
          "text": [
            "loss 0.00217 acc 0.99947: 100%|██████████| 297/297 [00:07<00:00, 38.28it/s]\n",
            "val_loss 0.00458 val_acc 0.99882: 100%|██████████| 53/53 [00:01<00:00, 33.10it/s]\n"
          ]
        },
        {
          "output_type": "stream",
          "name": "stdout",
          "text": [
            "Epoch 893/1000 loss 0.00217 val_loss 0.00458 acc 0.99947 val_acc 0.99882\n"
          ]
        },
        {
          "output_type": "stream",
          "name": "stderr",
          "text": [
            "loss 0.00223 acc 0.99951: 100%|██████████| 297/297 [00:07<00:00, 39.33it/s]\n",
            "val_loss 0.00371 val_acc 0.99882: 100%|██████████| 53/53 [00:01<00:00, 30.23it/s]\n"
          ]
        },
        {
          "output_type": "stream",
          "name": "stdout",
          "text": [
            "Epoch 894/1000 loss 0.00223 val_loss 0.00371 acc 0.99951 val_acc 0.99882\n"
          ]
        },
        {
          "output_type": "stream",
          "name": "stderr",
          "text": [
            "loss 0.00120 acc 0.99958: 100%|██████████| 297/297 [00:07<00:00, 38.56it/s]\n",
            "val_loss 0.00520 val_acc 0.99705: 100%|██████████| 53/53 [00:01<00:00, 30.19it/s]\n"
          ]
        },
        {
          "output_type": "stream",
          "name": "stdout",
          "text": [
            "Epoch 895/1000 loss 0.00120 val_loss 0.00520 acc 0.99958 val_acc 0.99705\n"
          ]
        },
        {
          "output_type": "stream",
          "name": "stderr",
          "text": [
            "loss 0.00071 acc 0.99989: 100%|██████████| 297/297 [00:07<00:00, 42.07it/s]\n",
            "val_loss 0.00081 val_acc 0.99941: 100%|██████████| 53/53 [00:01<00:00, 32.10it/s]\n"
          ]
        },
        {
          "output_type": "stream",
          "name": "stdout",
          "text": [
            "Epoch 896/1000 loss 0.00071 val_loss 0.00081 acc 0.99989 val_acc 0.99941\n"
          ]
        },
        {
          "output_type": "stream",
          "name": "stderr",
          "text": [
            "loss 0.00008 acc 1.00000: 100%|██████████| 297/297 [00:07<00:00, 38.07it/s]\n",
            "val_loss 0.00186 val_acc 0.99882: 100%|██████████| 53/53 [00:01<00:00, 29.45it/s]\n"
          ]
        },
        {
          "output_type": "stream",
          "name": "stdout",
          "text": [
            "Epoch 897/1000 loss 0.00008 val_loss 0.00186 acc 1.00000 val_acc 0.99882\n"
          ]
        },
        {
          "output_type": "stream",
          "name": "stderr",
          "text": [
            "loss 0.00088 acc 0.99968: 100%|██████████| 297/297 [00:06<00:00, 42.85it/s]\n",
            "val_loss 0.00450 val_acc 0.99882: 100%|██████████| 53/53 [00:01<00:00, 34.83it/s]\n"
          ]
        },
        {
          "output_type": "stream",
          "name": "stdout",
          "text": [
            "Epoch 898/1000 loss 0.00088 val_loss 0.00450 acc 0.99968 val_acc 0.99882\n"
          ]
        },
        {
          "output_type": "stream",
          "name": "stderr",
          "text": [
            "loss 0.00095 acc 0.99972: 100%|██████████| 297/297 [00:07<00:00, 39.24it/s]\n",
            "val_loss 0.00174 val_acc 0.99882: 100%|██████████| 53/53 [00:01<00:00, 28.89it/s]\n"
          ]
        },
        {
          "output_type": "stream",
          "name": "stdout",
          "text": [
            "Epoch 899/1000 loss 0.00095 val_loss 0.00174 acc 0.99972 val_acc 0.99882\n"
          ]
        },
        {
          "output_type": "stream",
          "name": "stderr",
          "text": [
            "loss 0.00043 acc 0.99989: 100%|██████████| 297/297 [00:06<00:00, 42.77it/s]\n",
            "val_loss 0.00447 val_acc 0.99882: 100%|██████████| 53/53 [00:01<00:00, 34.70it/s]\n"
          ]
        },
        {
          "output_type": "stream",
          "name": "stdout",
          "text": [
            "Epoch 900/1000 loss 0.00043 val_loss 0.00447 acc 0.99989 val_acc 0.99882\n",
            "Checkpoint guardado en /content/drive/MyDrive/SIS421 prueba dataset 1 test/Checkpoints/checkpoint.pth (Epoch 900)\n"
          ]
        },
        {
          "output_type": "stream",
          "name": "stderr",
          "text": [
            "loss 0.00010 acc 1.00000: 100%|██████████| 297/297 [00:07<00:00, 39.49it/s]\n",
            "val_loss 0.00025 val_acc 1.00000: 100%|██████████| 53/53 [00:01<00:00, 29.90it/s]\n"
          ]
        },
        {
          "output_type": "stream",
          "name": "stdout",
          "text": [
            "Epoch 901/1000 loss 0.00010 val_loss 0.00025 acc 1.00000 val_acc 1.00000\n"
          ]
        },
        {
          "output_type": "stream",
          "name": "stderr",
          "text": [
            "loss 0.00012 acc 1.00000: 100%|██████████| 297/297 [00:07<00:00, 39.14it/s]\n",
            "val_loss 0.00621 val_acc 0.99882: 100%|██████████| 53/53 [00:01<00:00, 31.74it/s]\n"
          ]
        },
        {
          "output_type": "stream",
          "name": "stdout",
          "text": [
            "Epoch 902/1000 loss 0.00012 val_loss 0.00621 acc 1.00000 val_acc 0.99882\n"
          ]
        },
        {
          "output_type": "stream",
          "name": "stderr",
          "text": [
            "loss 0.00002 acc 1.00000: 100%|██████████| 297/297 [00:06<00:00, 43.67it/s]\n",
            "val_loss 0.00333 val_acc 0.99882: 100%|██████████| 53/53 [00:01<00:00, 33.49it/s]\n"
          ]
        },
        {
          "output_type": "stream",
          "name": "stdout",
          "text": [
            "Epoch 903/1000 loss 0.00002 val_loss 0.00333 acc 1.00000 val_acc 0.99882\n"
          ]
        },
        {
          "output_type": "stream",
          "name": "stderr",
          "text": [
            "loss 0.00001 acc 1.00000: 100%|██████████| 297/297 [00:07<00:00, 39.34it/s]\n",
            "val_loss 0.00158 val_acc 0.99882: 100%|██████████| 53/53 [00:01<00:00, 31.21it/s]\n"
          ]
        },
        {
          "output_type": "stream",
          "name": "stdout",
          "text": [
            "Epoch 904/1000 loss 0.00001 val_loss 0.00158 acc 1.00000 val_acc 0.99882\n"
          ]
        },
        {
          "output_type": "stream",
          "name": "stderr",
          "text": [
            "loss 0.00002 acc 1.00000: 100%|██████████| 297/297 [00:06<00:00, 43.93it/s]\n",
            "val_loss 0.00319 val_acc 0.99882: 100%|██████████| 53/53 [00:01<00:00, 34.08it/s]\n"
          ]
        },
        {
          "output_type": "stream",
          "name": "stdout",
          "text": [
            "Epoch 905/1000 loss 0.00002 val_loss 0.00319 acc 1.00000 val_acc 0.99882\n"
          ]
        },
        {
          "output_type": "stream",
          "name": "stderr",
          "text": [
            "loss 0.00135 acc 0.99951: 100%|██████████| 297/297 [00:07<00:00, 40.20it/s]\n",
            "val_loss 0.00339 val_acc 0.99882: 100%|██████████| 53/53 [00:01<00:00, 29.63it/s]\n"
          ]
        },
        {
          "output_type": "stream",
          "name": "stdout",
          "text": [
            "Epoch 906/1000 loss 0.00135 val_loss 0.00339 acc 0.99951 val_acc 0.99882\n"
          ]
        },
        {
          "output_type": "stream",
          "name": "stderr",
          "text": [
            "loss 0.00062 acc 0.99979: 100%|██████████| 297/297 [00:06<00:00, 44.74it/s]\n",
            "val_loss 0.00073 val_acc 1.00000: 100%|██████████| 53/53 [00:01<00:00, 30.76it/s]\n"
          ]
        },
        {
          "output_type": "stream",
          "name": "stdout",
          "text": [
            "Epoch 907/1000 loss 0.00062 val_loss 0.00073 acc 0.99979 val_acc 1.00000\n"
          ]
        },
        {
          "output_type": "stream",
          "name": "stderr",
          "text": [
            "loss 0.00079 acc 0.99989: 100%|██████████| 297/297 [00:07<00:00, 41.40it/s]\n",
            "val_loss 0.00137 val_acc 0.99882: 100%|██████████| 53/53 [00:01<00:00, 29.95it/s]\n"
          ]
        },
        {
          "output_type": "stream",
          "name": "stdout",
          "text": [
            "Epoch 908/1000 loss 0.00079 val_loss 0.00137 acc 0.99989 val_acc 0.99882\n"
          ]
        },
        {
          "output_type": "stream",
          "name": "stderr",
          "text": [
            "loss 0.00006 acc 1.00000: 100%|██████████| 297/297 [00:07<00:00, 40.47it/s]\n",
            "val_loss 0.00242 val_acc 0.99882: 100%|██████████| 53/53 [00:01<00:00, 33.47it/s]\n"
          ]
        },
        {
          "output_type": "stream",
          "name": "stdout",
          "text": [
            "Epoch 909/1000 loss 0.00006 val_loss 0.00242 acc 1.00000 val_acc 0.99882\n"
          ]
        },
        {
          "output_type": "stream",
          "name": "stderr",
          "text": [
            "loss 0.00006 acc 1.00000: 100%|██████████| 297/297 [00:06<00:00, 43.49it/s]\n",
            "val_loss 0.00027 val_acc 1.00000: 100%|██████████| 53/53 [00:01<00:00, 34.12it/s]\n"
          ]
        },
        {
          "output_type": "stream",
          "name": "stdout",
          "text": [
            "Epoch 910/1000 loss 0.00006 val_loss 0.00027 acc 1.00000 val_acc 1.00000\n"
          ]
        },
        {
          "output_type": "stream",
          "name": "stderr",
          "text": [
            "loss 0.00032 acc 0.99989: 100%|██████████| 297/297 [00:07<00:00, 40.81it/s]\n",
            "val_loss 0.00020 val_acc 1.00000: 100%|██████████| 53/53 [00:01<00:00, 33.32it/s]\n"
          ]
        },
        {
          "output_type": "stream",
          "name": "stdout",
          "text": [
            "Epoch 911/1000 loss 0.00032 val_loss 0.00020 acc 0.99989 val_acc 1.00000\n"
          ]
        },
        {
          "output_type": "stream",
          "name": "stderr",
          "text": [
            "loss 0.00020 acc 1.00000: 100%|██████████| 297/297 [00:07<00:00, 41.95it/s]\n",
            "val_loss 0.00043 val_acc 1.00000: 100%|██████████| 53/53 [00:01<00:00, 34.15it/s]\n"
          ]
        },
        {
          "output_type": "stream",
          "name": "stdout",
          "text": [
            "Epoch 912/1000 loss 0.00020 val_loss 0.00043 acc 1.00000 val_acc 1.00000\n"
          ]
        },
        {
          "output_type": "stream",
          "name": "stderr",
          "text": [
            "loss 0.00006 acc 1.00000: 100%|██████████| 297/297 [00:07<00:00, 37.69it/s]\n",
            "val_loss 0.00484 val_acc 0.99882: 100%|██████████| 53/53 [00:01<00:00, 29.89it/s]\n"
          ]
        },
        {
          "output_type": "stream",
          "name": "stdout",
          "text": [
            "Epoch 913/1000 loss 0.00006 val_loss 0.00484 acc 1.00000 val_acc 0.99882\n"
          ]
        },
        {
          "output_type": "stream",
          "name": "stderr",
          "text": [
            "loss 0.00108 acc 0.99972: 100%|██████████| 297/297 [00:06<00:00, 43.58it/s]\n",
            "val_loss 0.00775 val_acc 0.99882: 100%|██████████| 53/53 [00:01<00:00, 32.31it/s]\n"
          ]
        },
        {
          "output_type": "stream",
          "name": "stdout",
          "text": [
            "Epoch 914/1000 loss 0.00108 val_loss 0.00775 acc 0.99972 val_acc 0.99882\n"
          ]
        },
        {
          "output_type": "stream",
          "name": "stderr",
          "text": [
            "loss 0.00014 acc 1.00000: 100%|██████████| 297/297 [00:07<00:00, 38.13it/s]\n",
            "val_loss 0.00168 val_acc 0.99882: 100%|██████████| 53/53 [00:01<00:00, 28.30it/s]\n"
          ]
        },
        {
          "output_type": "stream",
          "name": "stdout",
          "text": [
            "Epoch 915/1000 loss 0.00014 val_loss 0.00168 acc 1.00000 val_acc 0.99882\n"
          ]
        },
        {
          "output_type": "stream",
          "name": "stderr",
          "text": [
            "loss 0.00002 acc 1.00000: 100%|██████████| 297/297 [00:07<00:00, 40.74it/s]\n",
            "val_loss 0.00518 val_acc 0.99882: 100%|██████████| 53/53 [00:01<00:00, 30.49it/s]\n"
          ]
        },
        {
          "output_type": "stream",
          "name": "stdout",
          "text": [
            "Epoch 916/1000 loss 0.00002 val_loss 0.00518 acc 1.00000 val_acc 0.99882\n"
          ]
        },
        {
          "output_type": "stream",
          "name": "stderr",
          "text": [
            "loss 0.00016 acc 0.99989: 100%|██████████| 297/297 [00:06<00:00, 45.10it/s]\n",
            "val_loss 0.00183 val_acc 0.99882: 100%|██████████| 53/53 [00:01<00:00, 35.13it/s]\n"
          ]
        },
        {
          "output_type": "stream",
          "name": "stdout",
          "text": [
            "Epoch 917/1000 loss 0.00016 val_loss 0.00183 acc 0.99989 val_acc 0.99882\n"
          ]
        },
        {
          "output_type": "stream",
          "name": "stderr",
          "text": [
            "loss 0.00022 acc 0.99989: 100%|██████████| 297/297 [00:06<00:00, 43.28it/s]\n",
            "val_loss 0.00221 val_acc 0.99882: 100%|██████████| 53/53 [00:01<00:00, 33.73it/s]\n"
          ]
        },
        {
          "output_type": "stream",
          "name": "stdout",
          "text": [
            "Epoch 918/1000 loss 0.00022 val_loss 0.00221 acc 0.99989 val_acc 0.99882\n"
          ]
        },
        {
          "output_type": "stream",
          "name": "stderr",
          "text": [
            "loss 0.00023 acc 0.99989: 100%|██████████| 297/297 [00:06<00:00, 43.34it/s]\n",
            "val_loss 0.00259 val_acc 0.99882: 100%|██████████| 53/53 [00:01<00:00, 35.52it/s]\n"
          ]
        },
        {
          "output_type": "stream",
          "name": "stdout",
          "text": [
            "Epoch 919/1000 loss 0.00023 val_loss 0.00259 acc 0.99989 val_acc 0.99882\n"
          ]
        },
        {
          "output_type": "stream",
          "name": "stderr",
          "text": [
            "loss 0.00137 acc 0.99947: 100%|██████████| 297/297 [00:06<00:00, 46.16it/s]\n",
            "val_loss 0.00527 val_acc 0.99764: 100%|██████████| 53/53 [00:01<00:00, 35.64it/s]\n"
          ]
        },
        {
          "output_type": "stream",
          "name": "stdout",
          "text": [
            "Epoch 920/1000 loss 0.00137 val_loss 0.00527 acc 0.99947 val_acc 0.99764\n",
            "Checkpoint guardado en /content/drive/MyDrive/SIS421 prueba dataset 1 test/Checkpoints/checkpoint.pth (Epoch 920)\n"
          ]
        },
        {
          "output_type": "stream",
          "name": "stderr",
          "text": [
            "loss 0.00014 acc 0.99989: 100%|██████████| 297/297 [00:07<00:00, 41.49it/s]\n",
            "val_loss 0.00037 val_acc 1.00000: 100%|██████████| 53/53 [00:01<00:00, 32.87it/s]\n"
          ]
        },
        {
          "output_type": "stream",
          "name": "stdout",
          "text": [
            "Epoch 921/1000 loss 0.00014 val_loss 0.00037 acc 0.99989 val_acc 1.00000\n"
          ]
        },
        {
          "output_type": "stream",
          "name": "stderr",
          "text": [
            "loss 0.00118 acc 0.99958: 100%|██████████| 297/297 [00:06<00:00, 46.39it/s]\n",
            "val_loss 0.02351 val_acc 0.99528: 100%|██████████| 53/53 [00:01<00:00, 33.18it/s]\n"
          ]
        },
        {
          "output_type": "stream",
          "name": "stdout",
          "text": [
            "Epoch 922/1000 loss 0.00118 val_loss 0.02351 acc 0.99958 val_acc 0.99528\n"
          ]
        },
        {
          "output_type": "stream",
          "name": "stderr",
          "text": [
            "loss 0.00008 acc 1.00000: 100%|██████████| 297/297 [00:07<00:00, 37.88it/s]\n",
            "val_loss 0.00137 val_acc 0.99882: 100%|██████████| 53/53 [00:01<00:00, 32.85it/s]\n"
          ]
        },
        {
          "output_type": "stream",
          "name": "stdout",
          "text": [
            "Epoch 923/1000 loss 0.00008 val_loss 0.00137 acc 1.00000 val_acc 0.99882\n"
          ]
        },
        {
          "output_type": "stream",
          "name": "stderr",
          "text": [
            "loss 0.00026 acc 0.99989: 100%|██████████| 297/297 [00:06<00:00, 43.57it/s]\n",
            "val_loss 0.00194 val_acc 0.99882: 100%|██████████| 53/53 [00:01<00:00, 34.07it/s]\n"
          ]
        },
        {
          "output_type": "stream",
          "name": "stdout",
          "text": [
            "Epoch 924/1000 loss 0.00026 val_loss 0.00194 acc 0.99989 val_acc 0.99882\n"
          ]
        },
        {
          "output_type": "stream",
          "name": "stderr",
          "text": [
            "loss 0.00038 acc 0.99979: 100%|██████████| 297/297 [00:07<00:00, 41.24it/s]\n",
            "val_loss 0.00123 val_acc 0.99941: 100%|██████████| 53/53 [00:01<00:00, 28.33it/s]\n"
          ]
        },
        {
          "output_type": "stream",
          "name": "stdout",
          "text": [
            "Epoch 925/1000 loss 0.00038 val_loss 0.00123 acc 0.99979 val_acc 0.99941\n"
          ]
        },
        {
          "output_type": "stream",
          "name": "stderr",
          "text": [
            "loss 0.00029 acc 0.99989: 100%|██████████| 297/297 [00:06<00:00, 44.44it/s]\n",
            "val_loss 0.00244 val_acc 0.99882: 100%|██████████| 53/53 [00:01<00:00, 33.41it/s]\n"
          ]
        },
        {
          "output_type": "stream",
          "name": "stdout",
          "text": [
            "Epoch 926/1000 loss 0.00029 val_loss 0.00244 acc 0.99989 val_acc 0.99882\n"
          ]
        },
        {
          "output_type": "stream",
          "name": "stderr",
          "text": [
            "loss 0.00003 acc 1.00000: 100%|██████████| 297/297 [00:06<00:00, 42.73it/s]\n",
            "val_loss 0.00263 val_acc 0.99823: 100%|██████████| 53/53 [00:01<00:00, 30.14it/s]\n"
          ]
        },
        {
          "output_type": "stream",
          "name": "stdout",
          "text": [
            "Epoch 927/1000 loss 0.00003 val_loss 0.00263 acc 1.00000 val_acc 0.99823\n"
          ]
        },
        {
          "output_type": "stream",
          "name": "stderr",
          "text": [
            "loss 0.00004 acc 1.00000: 100%|██████████| 297/297 [00:07<00:00, 40.52it/s]\n",
            "val_loss 0.00459 val_acc 0.99823: 100%|██████████| 53/53 [00:01<00:00, 33.89it/s]\n"
          ]
        },
        {
          "output_type": "stream",
          "name": "stdout",
          "text": [
            "Epoch 928/1000 loss 0.00004 val_loss 0.00459 acc 1.00000 val_acc 0.99823\n"
          ]
        },
        {
          "output_type": "stream",
          "name": "stderr",
          "text": [
            "loss 0.00142 acc 0.99958: 100%|██████████| 297/297 [00:06<00:00, 45.66it/s]\n",
            "val_loss 0.00646 val_acc 0.99823: 100%|██████████| 53/53 [00:01<00:00, 33.10it/s]\n"
          ]
        },
        {
          "output_type": "stream",
          "name": "stdout",
          "text": [
            "Epoch 929/1000 loss 0.00142 val_loss 0.00646 acc 0.99958 val_acc 0.99823\n"
          ]
        },
        {
          "output_type": "stream",
          "name": "stderr",
          "text": [
            "loss 0.00023 acc 0.99979: 100%|██████████| 297/297 [00:07<00:00, 38.92it/s]\n",
            "val_loss 0.00134 val_acc 0.99882: 100%|██████████| 53/53 [00:01<00:00, 30.64it/s]\n"
          ]
        },
        {
          "output_type": "stream",
          "name": "stdout",
          "text": [
            "Epoch 930/1000 loss 0.00023 val_loss 0.00134 acc 0.99979 val_acc 0.99882\n"
          ]
        },
        {
          "output_type": "stream",
          "name": "stderr",
          "text": [
            "loss 0.00049 acc 0.99979: 100%|██████████| 297/297 [00:06<00:00, 44.30it/s]\n",
            "val_loss 0.00085 val_acc 0.99941: 100%|██████████| 53/53 [00:01<00:00, 32.63it/s]\n"
          ]
        },
        {
          "output_type": "stream",
          "name": "stdout",
          "text": [
            "Epoch 931/1000 loss 0.00049 val_loss 0.00085 acc 0.99979 val_acc 0.99941\n"
          ]
        },
        {
          "output_type": "stream",
          "name": "stderr",
          "text": [
            "loss 0.00074 acc 0.99979: 100%|██████████| 297/297 [00:07<00:00, 37.78it/s]\n",
            "val_loss 0.00045 val_acc 1.00000: 100%|██████████| 53/53 [00:01<00:00, 30.68it/s]\n"
          ]
        },
        {
          "output_type": "stream",
          "name": "stdout",
          "text": [
            "Epoch 932/1000 loss 0.00074 val_loss 0.00045 acc 0.99979 val_acc 1.00000\n"
          ]
        },
        {
          "output_type": "stream",
          "name": "stderr",
          "text": [
            "loss 0.00007 acc 1.00000: 100%|██████████| 297/297 [00:07<00:00, 42.31it/s]\n",
            "val_loss 0.00109 val_acc 0.99941: 100%|██████████| 53/53 [00:01<00:00, 34.27it/s]\n"
          ]
        },
        {
          "output_type": "stream",
          "name": "stdout",
          "text": [
            "Epoch 933/1000 loss 0.00007 val_loss 0.00109 acc 1.00000 val_acc 0.99941\n"
          ]
        },
        {
          "output_type": "stream",
          "name": "stderr",
          "text": [
            "loss 0.00003 acc 1.00000: 100%|██████████| 297/297 [00:07<00:00, 40.08it/s]\n",
            "val_loss 0.00016 val_acc 1.00000: 100%|██████████| 53/53 [00:01<00:00, 29.68it/s]\n"
          ]
        },
        {
          "output_type": "stream",
          "name": "stdout",
          "text": [
            "Epoch 934/1000 loss 0.00003 val_loss 0.00016 acc 1.00000 val_acc 1.00000\n"
          ]
        },
        {
          "output_type": "stream",
          "name": "stderr",
          "text": [
            "loss 0.00007 acc 1.00000: 100%|██████████| 297/297 [00:06<00:00, 43.05it/s]\n",
            "val_loss 0.00117 val_acc 0.99941: 100%|██████████| 53/53 [00:01<00:00, 34.69it/s]\n"
          ]
        },
        {
          "output_type": "stream",
          "name": "stdout",
          "text": [
            "Epoch 935/1000 loss 0.00007 val_loss 0.00117 acc 1.00000 val_acc 0.99941\n"
          ]
        },
        {
          "output_type": "stream",
          "name": "stderr",
          "text": [
            "loss 0.00006 acc 1.00000: 100%|██████████| 297/297 [00:07<00:00, 40.73it/s]\n",
            "val_loss 0.00018 val_acc 1.00000: 100%|██████████| 53/53 [00:01<00:00, 29.63it/s]\n"
          ]
        },
        {
          "output_type": "stream",
          "name": "stdout",
          "text": [
            "Epoch 936/1000 loss 0.00006 val_loss 0.00018 acc 1.00000 val_acc 1.00000\n"
          ]
        },
        {
          "output_type": "stream",
          "name": "stderr",
          "text": [
            "loss 0.00002 acc 1.00000: 100%|██████████| 297/297 [00:07<00:00, 39.00it/s]\n",
            "val_loss 0.00230 val_acc 0.99882: 100%|██████████| 53/53 [00:01<00:00, 29.27it/s]\n"
          ]
        },
        {
          "output_type": "stream",
          "name": "stdout",
          "text": [
            "Epoch 937/1000 loss 0.00002 val_loss 0.00230 acc 1.00000 val_acc 0.99882\n"
          ]
        },
        {
          "output_type": "stream",
          "name": "stderr",
          "text": [
            "loss 0.00021 acc 0.99989: 100%|██████████| 297/297 [00:06<00:00, 46.13it/s]\n",
            "val_loss 0.00054 val_acc 1.00000: 100%|██████████| 53/53 [00:01<00:00, 38.71it/s]\n"
          ]
        },
        {
          "output_type": "stream",
          "name": "stdout",
          "text": [
            "Epoch 938/1000 loss 0.00021 val_loss 0.00054 acc 0.99989 val_acc 1.00000\n"
          ]
        },
        {
          "output_type": "stream",
          "name": "stderr",
          "text": [
            "loss 0.00028 acc 0.99989: 100%|██████████| 297/297 [00:07<00:00, 42.32it/s]\n",
            "val_loss 0.00101 val_acc 0.99941: 100%|██████████| 53/53 [00:01<00:00, 33.61it/s]\n"
          ]
        },
        {
          "output_type": "stream",
          "name": "stdout",
          "text": [
            "Epoch 939/1000 loss 0.00028 val_loss 0.00101 acc 0.99989 val_acc 0.99941\n"
          ]
        },
        {
          "output_type": "stream",
          "name": "stderr",
          "text": [
            "loss 0.00030 acc 0.99979: 100%|██████████| 297/297 [00:06<00:00, 46.01it/s]\n",
            "val_loss 0.00031 val_acc 1.00000: 100%|██████████| 53/53 [00:01<00:00, 34.98it/s]\n"
          ]
        },
        {
          "output_type": "stream",
          "name": "stdout",
          "text": [
            "Epoch 940/1000 loss 0.00030 val_loss 0.00031 acc 0.99979 val_acc 1.00000\n",
            "Checkpoint guardado en /content/drive/MyDrive/SIS421 prueba dataset 1 test/Checkpoints/checkpoint.pth (Epoch 940)\n"
          ]
        },
        {
          "output_type": "stream",
          "name": "stderr",
          "text": [
            "loss 0.00071 acc 0.99989: 100%|██████████| 297/297 [00:06<00:00, 44.95it/s]\n",
            "val_loss 0.00030 val_acc 1.00000: 100%|██████████| 53/53 [00:01<00:00, 31.87it/s]\n"
          ]
        },
        {
          "output_type": "stream",
          "name": "stdout",
          "text": [
            "Epoch 941/1000 loss 0.00071 val_loss 0.00030 acc 0.99989 val_acc 1.00000\n"
          ]
        },
        {
          "output_type": "stream",
          "name": "stderr",
          "text": [
            "loss 0.00001 acc 1.00000: 100%|██████████| 297/297 [00:07<00:00, 41.76it/s]\n",
            "val_loss 0.00089 val_acc 0.99941: 100%|██████████| 53/53 [00:01<00:00, 38.46it/s]\n"
          ]
        },
        {
          "output_type": "stream",
          "name": "stdout",
          "text": [
            "Epoch 942/1000 loss 0.00001 val_loss 0.00089 acc 1.00000 val_acc 0.99941\n"
          ]
        },
        {
          "output_type": "stream",
          "name": "stderr",
          "text": [
            "loss 0.00046 acc 0.99989: 100%|██████████| 297/297 [00:06<00:00, 46.54it/s]\n",
            "val_loss 0.00065 val_acc 1.00000: 100%|██████████| 53/53 [00:01<00:00, 34.94it/s]\n"
          ]
        },
        {
          "output_type": "stream",
          "name": "stdout",
          "text": [
            "Epoch 943/1000 loss 0.00046 val_loss 0.00065 acc 0.99989 val_acc 1.00000\n"
          ]
        },
        {
          "output_type": "stream",
          "name": "stderr",
          "text": [
            "loss 0.00003 acc 1.00000: 100%|██████████| 297/297 [00:06<00:00, 42.61it/s]\n",
            "val_loss 0.00007 val_acc 1.00000: 100%|██████████| 53/53 [00:01<00:00, 35.43it/s]\n"
          ]
        },
        {
          "output_type": "stream",
          "name": "stdout",
          "text": [
            "Epoch 944/1000 loss 0.00003 val_loss 0.00007 acc 1.00000 val_acc 1.00000\n"
          ]
        },
        {
          "output_type": "stream",
          "name": "stderr",
          "text": [
            "loss 0.00004 acc 1.00000: 100%|██████████| 297/297 [00:06<00:00, 47.41it/s]\n",
            "val_loss 0.00010 val_acc 1.00000: 100%|██████████| 53/53 [00:01<00:00, 35.50it/s]\n"
          ]
        },
        {
          "output_type": "stream",
          "name": "stdout",
          "text": [
            "Epoch 945/1000 loss 0.00004 val_loss 0.00010 acc 1.00000 val_acc 1.00000\n"
          ]
        },
        {
          "output_type": "stream",
          "name": "stderr",
          "text": [
            "loss 0.00013 acc 0.99989: 100%|██████████| 297/297 [00:06<00:00, 43.85it/s]\n",
            "val_loss 0.00539 val_acc 0.99941: 100%|██████████| 53/53 [00:01<00:00, 31.02it/s]\n"
          ]
        },
        {
          "output_type": "stream",
          "name": "stdout",
          "text": [
            "Epoch 946/1000 loss 0.00013 val_loss 0.00539 acc 0.99989 val_acc 0.99941\n"
          ]
        },
        {
          "output_type": "stream",
          "name": "stderr",
          "text": [
            "loss 0.00010 acc 1.00000: 100%|██████████| 297/297 [00:07<00:00, 39.90it/s]\n",
            "val_loss 0.00033 val_acc 1.00000: 100%|██████████| 53/53 [00:01<00:00, 34.43it/s]\n"
          ]
        },
        {
          "output_type": "stream",
          "name": "stdout",
          "text": [
            "Epoch 947/1000 loss 0.00010 val_loss 0.00033 acc 1.00000 val_acc 1.00000\n"
          ]
        },
        {
          "output_type": "stream",
          "name": "stderr",
          "text": [
            "loss 0.00004 acc 1.00000: 100%|██████████| 297/297 [00:06<00:00, 44.45it/s]\n",
            "val_loss 0.00377 val_acc 0.99941: 100%|██████████| 53/53 [00:01<00:00, 35.56it/s]\n"
          ]
        },
        {
          "output_type": "stream",
          "name": "stdout",
          "text": [
            "Epoch 948/1000 loss 0.00004 val_loss 0.00377 acc 1.00000 val_acc 0.99941\n"
          ]
        },
        {
          "output_type": "stream",
          "name": "stderr",
          "text": [
            "loss 0.00021 acc 0.99989: 100%|██████████| 297/297 [00:07<00:00, 40.64it/s]\n",
            "val_loss 0.05936 val_acc 0.98703: 100%|██████████| 53/53 [00:01<00:00, 33.11it/s]\n"
          ]
        },
        {
          "output_type": "stream",
          "name": "stdout",
          "text": [
            "Epoch 949/1000 loss 0.00021 val_loss 0.05936 acc 0.99989 val_acc 0.98703\n"
          ]
        },
        {
          "output_type": "stream",
          "name": "stderr",
          "text": [
            "loss 0.00032 acc 0.99989: 100%|██████████| 297/297 [00:06<00:00, 46.27it/s]\n",
            "val_loss 0.00394 val_acc 0.99941: 100%|██████████| 53/53 [00:01<00:00, 31.60it/s]\n"
          ]
        },
        {
          "output_type": "stream",
          "name": "stdout",
          "text": [
            "Epoch 950/1000 loss 0.00032 val_loss 0.00394 acc 0.99989 val_acc 0.99941\n"
          ]
        },
        {
          "output_type": "stream",
          "name": "stderr",
          "text": [
            "loss 0.00002 acc 1.00000: 100%|██████████| 297/297 [00:07<00:00, 39.06it/s]\n",
            "val_loss 0.00214 val_acc 0.99941: 100%|██████████| 53/53 [00:01<00:00, 29.14it/s]\n"
          ]
        },
        {
          "output_type": "stream",
          "name": "stdout",
          "text": [
            "Epoch 951/1000 loss 0.00002 val_loss 0.00214 acc 1.00000 val_acc 0.99941\n"
          ]
        },
        {
          "output_type": "stream",
          "name": "stderr",
          "text": [
            "loss 0.00081 acc 0.99979: 100%|██████████| 297/297 [00:06<00:00, 42.92it/s]\n",
            "val_loss 0.00057 val_acc 1.00000: 100%|██████████| 53/53 [00:01<00:00, 34.25it/s]\n"
          ]
        },
        {
          "output_type": "stream",
          "name": "stdout",
          "text": [
            "Epoch 952/1000 loss 0.00081 val_loss 0.00057 acc 0.99979 val_acc 1.00000\n"
          ]
        },
        {
          "output_type": "stream",
          "name": "stderr",
          "text": [
            "loss 0.00194 acc 0.99968: 100%|██████████| 297/297 [00:07<00:00, 41.08it/s]\n",
            "val_loss 0.00493 val_acc 0.99882: 100%|██████████| 53/53 [00:01<00:00, 33.64it/s]\n"
          ]
        },
        {
          "output_type": "stream",
          "name": "stdout",
          "text": [
            "Epoch 953/1000 loss 0.00194 val_loss 0.00493 acc 0.99968 val_acc 0.99882\n"
          ]
        },
        {
          "output_type": "stream",
          "name": "stderr",
          "text": [
            "loss 0.00010 acc 1.00000: 100%|██████████| 297/297 [00:06<00:00, 43.46it/s]\n",
            "val_loss 0.00006 val_acc 1.00000: 100%|██████████| 53/53 [00:01<00:00, 34.69it/s]\n"
          ]
        },
        {
          "output_type": "stream",
          "name": "stdout",
          "text": [
            "Epoch 954/1000 loss 0.00010 val_loss 0.00006 acc 1.00000 val_acc 1.00000\n"
          ]
        },
        {
          "output_type": "stream",
          "name": "stderr",
          "text": [
            "loss 0.00027 acc 0.99979: 100%|██████████| 297/297 [00:06<00:00, 44.50it/s]\n",
            "val_loss 0.00004 val_acc 1.00000: 100%|██████████| 53/53 [00:01<00:00, 34.72it/s]\n"
          ]
        },
        {
          "output_type": "stream",
          "name": "stdout",
          "text": [
            "Epoch 955/1000 loss 0.00027 val_loss 0.00004 acc 0.99979 val_acc 1.00000\n"
          ]
        },
        {
          "output_type": "stream",
          "name": "stderr",
          "text": [
            "loss 0.00007 acc 1.00000: 100%|██████████| 297/297 [00:07<00:00, 41.53it/s]\n",
            "val_loss 0.00146 val_acc 0.99941: 100%|██████████| 53/53 [00:01<00:00, 34.81it/s]\n"
          ]
        },
        {
          "output_type": "stream",
          "name": "stdout",
          "text": [
            "Epoch 956/1000 loss 0.00007 val_loss 0.00146 acc 1.00000 val_acc 0.99941\n"
          ]
        },
        {
          "output_type": "stream",
          "name": "stderr",
          "text": [
            "loss 0.00003 acc 1.00000: 100%|██████████| 297/297 [00:06<00:00, 45.81it/s]\n",
            "val_loss 0.00011 val_acc 1.00000: 100%|██████████| 53/53 [00:01<00:00, 35.43it/s]\n"
          ]
        },
        {
          "output_type": "stream",
          "name": "stdout",
          "text": [
            "Epoch 957/1000 loss 0.00003 val_loss 0.00011 acc 1.00000 val_acc 1.00000\n"
          ]
        },
        {
          "output_type": "stream",
          "name": "stderr",
          "text": [
            "loss 0.00023 acc 0.99989: 100%|██████████| 297/297 [00:07<00:00, 40.66it/s]\n",
            "val_loss 0.00005 val_acc 1.00000: 100%|██████████| 53/53 [00:01<00:00, 31.71it/s]\n"
          ]
        },
        {
          "output_type": "stream",
          "name": "stdout",
          "text": [
            "Epoch 958/1000 loss 0.00023 val_loss 0.00005 acc 0.99989 val_acc 1.00000\n"
          ]
        },
        {
          "output_type": "stream",
          "name": "stderr",
          "text": [
            "loss 0.00014 acc 1.00000: 100%|██████████| 297/297 [00:07<00:00, 42.14it/s]\n",
            "val_loss 0.00535 val_acc 0.99823: 100%|██████████| 53/53 [00:01<00:00, 34.30it/s]\n"
          ]
        },
        {
          "output_type": "stream",
          "name": "stdout",
          "text": [
            "Epoch 959/1000 loss 0.00014 val_loss 0.00535 acc 1.00000 val_acc 0.99823\n"
          ]
        },
        {
          "output_type": "stream",
          "name": "stderr",
          "text": [
            "loss 0.00058 acc 0.99979: 100%|██████████| 297/297 [00:06<00:00, 46.87it/s]\n",
            "val_loss 0.00142 val_acc 0.99941: 100%|██████████| 53/53 [00:01<00:00, 34.79it/s]\n"
          ]
        },
        {
          "output_type": "stream",
          "name": "stdout",
          "text": [
            "Epoch 960/1000 loss 0.00058 val_loss 0.00142 acc 0.99979 val_acc 0.99941\n",
            "Checkpoint guardado en /content/drive/MyDrive/SIS421 prueba dataset 1 test/Checkpoints/checkpoint.pth (Epoch 960)\n"
          ]
        },
        {
          "output_type": "stream",
          "name": "stderr",
          "text": [
            "loss 0.00046 acc 0.99972: 100%|██████████| 297/297 [00:07<00:00, 40.76it/s]\n",
            "val_loss 0.00368 val_acc 0.99823: 100%|██████████| 53/53 [00:01<00:00, 33.93it/s]\n"
          ]
        },
        {
          "output_type": "stream",
          "name": "stdout",
          "text": [
            "Epoch 961/1000 loss 0.00046 val_loss 0.00368 acc 0.99972 val_acc 0.99823\n"
          ]
        },
        {
          "output_type": "stream",
          "name": "stderr",
          "text": [
            "loss 0.00040 acc 0.99979: 100%|██████████| 297/297 [00:06<00:00, 47.56it/s]\n",
            "val_loss 0.00014 val_acc 1.00000: 100%|██████████| 53/53 [00:01<00:00, 29.71it/s]\n"
          ]
        },
        {
          "output_type": "stream",
          "name": "stdout",
          "text": [
            "Epoch 962/1000 loss 0.00040 val_loss 0.00014 acc 0.99979 val_acc 1.00000\n"
          ]
        },
        {
          "output_type": "stream",
          "name": "stderr",
          "text": [
            "loss 0.00005 acc 1.00000: 100%|██████████| 297/297 [00:06<00:00, 42.98it/s]\n",
            "val_loss 0.00018 val_acc 1.00000: 100%|██████████| 53/53 [00:01<00:00, 31.53it/s]\n"
          ]
        },
        {
          "output_type": "stream",
          "name": "stdout",
          "text": [
            "Epoch 963/1000 loss 0.00005 val_loss 0.00018 acc 1.00000 val_acc 1.00000\n"
          ]
        },
        {
          "output_type": "stream",
          "name": "stderr",
          "text": [
            "loss 0.00163 acc 0.99972: 100%|██████████| 297/297 [00:06<00:00, 43.71it/s]\n",
            "val_loss 0.00013 val_acc 1.00000: 100%|██████████| 53/53 [00:01<00:00, 31.48it/s]\n"
          ]
        },
        {
          "output_type": "stream",
          "name": "stdout",
          "text": [
            "Epoch 964/1000 loss 0.00163 val_loss 0.00013 acc 0.99972 val_acc 1.00000\n"
          ]
        },
        {
          "output_type": "stream",
          "name": "stderr",
          "text": [
            "loss 0.00162 acc 0.99958: 100%|██████████| 297/297 [00:07<00:00, 38.35it/s]\n",
            "val_loss 0.00020 val_acc 1.00000: 100%|██████████| 53/53 [00:01<00:00, 32.80it/s]\n"
          ]
        },
        {
          "output_type": "stream",
          "name": "stdout",
          "text": [
            "Epoch 965/1000 loss 0.00162 val_loss 0.00020 acc 0.99958 val_acc 1.00000\n"
          ]
        },
        {
          "output_type": "stream",
          "name": "stderr",
          "text": [
            "loss 0.00006 acc 1.00000: 100%|██████████| 297/297 [00:07<00:00, 40.15it/s]\n",
            "val_loss 0.00138 val_acc 0.99941: 100%|██████████| 53/53 [00:01<00:00, 31.81it/s]\n"
          ]
        },
        {
          "output_type": "stream",
          "name": "stdout",
          "text": [
            "Epoch 966/1000 loss 0.00006 val_loss 0.00138 acc 1.00000 val_acc 0.99941\n"
          ]
        },
        {
          "output_type": "stream",
          "name": "stderr",
          "text": [
            "loss 0.00005 acc 1.00000: 100%|██████████| 297/297 [00:06<00:00, 44.77it/s]\n",
            "val_loss 0.00018 val_acc 1.00000: 100%|██████████| 53/53 [00:01<00:00, 29.89it/s]\n"
          ]
        },
        {
          "output_type": "stream",
          "name": "stdout",
          "text": [
            "Epoch 967/1000 loss 0.00005 val_loss 0.00018 acc 1.00000 val_acc 1.00000\n"
          ]
        },
        {
          "output_type": "stream",
          "name": "stderr",
          "text": [
            "loss 0.00031 acc 0.99989: 100%|██████████| 297/297 [00:07<00:00, 40.96it/s]\n",
            "val_loss 0.00015 val_acc 1.00000: 100%|██████████| 53/53 [00:01<00:00, 32.49it/s]\n"
          ]
        },
        {
          "output_type": "stream",
          "name": "stdout",
          "text": [
            "Epoch 968/1000 loss 0.00031 val_loss 0.00015 acc 0.99989 val_acc 1.00000\n"
          ]
        },
        {
          "output_type": "stream",
          "name": "stderr",
          "text": [
            "loss 0.00156 acc 0.99937: 100%|██████████| 297/297 [00:06<00:00, 42.88it/s]\n",
            "val_loss 0.00404 val_acc 0.99882: 100%|██████████| 53/53 [00:01<00:00, 33.78it/s]\n"
          ]
        },
        {
          "output_type": "stream",
          "name": "stdout",
          "text": [
            "Epoch 969/1000 loss 0.00156 val_loss 0.00404 acc 0.99937 val_acc 0.99882\n"
          ]
        },
        {
          "output_type": "stream",
          "name": "stderr",
          "text": [
            "loss 0.00037 acc 0.99968: 100%|██████████| 297/297 [00:07<00:00, 39.37it/s]\n",
            "val_loss 0.00057 val_acc 1.00000: 100%|██████████| 53/53 [00:01<00:00, 32.61it/s]\n"
          ]
        },
        {
          "output_type": "stream",
          "name": "stdout",
          "text": [
            "Epoch 970/1000 loss 0.00037 val_loss 0.00057 acc 0.99968 val_acc 1.00000\n"
          ]
        },
        {
          "output_type": "stream",
          "name": "stderr",
          "text": [
            "loss 0.00006 acc 1.00000: 100%|██████████| 297/297 [00:07<00:00, 41.43it/s]\n",
            "val_loss 0.00093 val_acc 0.99941: 100%|██████████| 53/53 [00:01<00:00, 32.62it/s]\n"
          ]
        },
        {
          "output_type": "stream",
          "name": "stdout",
          "text": [
            "Epoch 971/1000 loss 0.00006 val_loss 0.00093 acc 1.00000 val_acc 0.99941\n"
          ]
        },
        {
          "output_type": "stream",
          "name": "stderr",
          "text": [
            "loss 0.00005 acc 1.00000: 100%|██████████| 297/297 [00:07<00:00, 39.10it/s]\n",
            "val_loss 0.00008 val_acc 1.00000: 100%|██████████| 53/53 [00:01<00:00, 30.51it/s]\n"
          ]
        },
        {
          "output_type": "stream",
          "name": "stdout",
          "text": [
            "Epoch 972/1000 loss 0.00005 val_loss 0.00008 acc 1.00000 val_acc 1.00000\n"
          ]
        },
        {
          "output_type": "stream",
          "name": "stderr",
          "text": [
            "loss 0.00015 acc 0.99989: 100%|██████████| 297/297 [00:06<00:00, 43.26it/s]\n",
            "val_loss 0.00005 val_acc 1.00000: 100%|██████████| 53/53 [00:01<00:00, 31.37it/s]\n"
          ]
        },
        {
          "output_type": "stream",
          "name": "stdout",
          "text": [
            "Epoch 973/1000 loss 0.00015 val_loss 0.00005 acc 0.99989 val_acc 1.00000\n"
          ]
        },
        {
          "output_type": "stream",
          "name": "stderr",
          "text": [
            "loss 0.00004 acc 1.00000: 100%|██████████| 297/297 [00:07<00:00, 40.49it/s]\n",
            "val_loss 0.00009 val_acc 1.00000: 100%|██████████| 53/53 [00:01<00:00, 31.66it/s]\n"
          ]
        },
        {
          "output_type": "stream",
          "name": "stdout",
          "text": [
            "Epoch 974/1000 loss 0.00004 val_loss 0.00009 acc 1.00000 val_acc 1.00000\n"
          ]
        },
        {
          "output_type": "stream",
          "name": "stderr",
          "text": [
            "loss 0.00003 acc 1.00000: 100%|██████████| 297/297 [00:07<00:00, 41.73it/s]\n",
            "val_loss 0.00079 val_acc 0.99941: 100%|██████████| 53/53 [00:01<00:00, 32.53it/s]\n"
          ]
        },
        {
          "output_type": "stream",
          "name": "stdout",
          "text": [
            "Epoch 975/1000 loss 0.00003 val_loss 0.00079 acc 1.00000 val_acc 0.99941\n"
          ]
        },
        {
          "output_type": "stream",
          "name": "stderr",
          "text": [
            "loss 0.00011 acc 0.99989: 100%|██████████| 297/297 [00:06<00:00, 42.67it/s]\n",
            "val_loss 0.00003 val_acc 1.00000: 100%|██████████| 53/53 [00:01<00:00, 32.71it/s]\n"
          ]
        },
        {
          "output_type": "stream",
          "name": "stdout",
          "text": [
            "Epoch 976/1000 loss 0.00011 val_loss 0.00003 acc 0.99989 val_acc 1.00000\n"
          ]
        },
        {
          "output_type": "stream",
          "name": "stderr",
          "text": [
            "loss 0.00002 acc 1.00000: 100%|██████████| 297/297 [00:07<00:00, 39.28it/s]\n",
            "val_loss 0.00036 val_acc 1.00000: 100%|██████████| 53/53 [00:01<00:00, 29.63it/s]\n"
          ]
        },
        {
          "output_type": "stream",
          "name": "stdout",
          "text": [
            "Epoch 977/1000 loss 0.00002 val_loss 0.00036 acc 1.00000 val_acc 1.00000\n"
          ]
        },
        {
          "output_type": "stream",
          "name": "stderr",
          "text": [
            "loss 0.00000 acc 1.00000: 100%|██████████| 297/297 [00:06<00:00, 43.23it/s]\n",
            "val_loss 0.00016 val_acc 1.00000: 100%|██████████| 53/53 [00:01<00:00, 27.98it/s]\n"
          ]
        },
        {
          "output_type": "stream",
          "name": "stdout",
          "text": [
            "Epoch 978/1000 loss 0.00000 val_loss 0.00016 acc 1.00000 val_acc 1.00000\n"
          ]
        },
        {
          "output_type": "stream",
          "name": "stderr",
          "text": [
            "loss 0.00001 acc 1.00000: 100%|██████████| 297/297 [00:08<00:00, 36.17it/s]\n",
            "val_loss 0.00010 val_acc 1.00000: 100%|██████████| 53/53 [00:02<00:00, 26.41it/s]\n"
          ]
        },
        {
          "output_type": "stream",
          "name": "stdout",
          "text": [
            "Epoch 979/1000 loss 0.00001 val_loss 0.00010 acc 1.00000 val_acc 1.00000\n"
          ]
        },
        {
          "output_type": "stream",
          "name": "stderr",
          "text": [
            "loss 0.00001 acc 1.00000: 100%|██████████| 297/297 [00:07<00:00, 37.65it/s]\n",
            "val_loss 0.00010 val_acc 1.00000: 100%|██████████| 53/53 [00:01<00:00, 30.59it/s]\n"
          ]
        },
        {
          "output_type": "stream",
          "name": "stdout",
          "text": [
            "Epoch 980/1000 loss 0.00001 val_loss 0.00010 acc 1.00000 val_acc 1.00000\n",
            "Checkpoint guardado en /content/drive/MyDrive/SIS421 prueba dataset 1 test/Checkpoints/checkpoint.pth (Epoch 980)\n"
          ]
        },
        {
          "output_type": "stream",
          "name": "stderr",
          "text": [
            "loss 0.00008 acc 1.00000: 100%|██████████| 297/297 [00:07<00:00, 41.70it/s]\n",
            "val_loss 0.00084 val_acc 0.99941: 100%|██████████| 53/53 [00:01<00:00, 32.73it/s]\n"
          ]
        },
        {
          "output_type": "stream",
          "name": "stdout",
          "text": [
            "Epoch 981/1000 loss 0.00008 val_loss 0.00084 acc 1.00000 val_acc 0.99941\n"
          ]
        },
        {
          "output_type": "stream",
          "name": "stderr",
          "text": [
            "loss 0.00003 acc 1.00000: 100%|██████████| 297/297 [00:07<00:00, 39.36it/s]\n",
            "val_loss 0.00024 val_acc 1.00000: 100%|██████████| 53/53 [00:01<00:00, 30.14it/s]\n"
          ]
        },
        {
          "output_type": "stream",
          "name": "stdout",
          "text": [
            "Epoch 982/1000 loss 0.00003 val_loss 0.00024 acc 1.00000 val_acc 1.00000\n"
          ]
        },
        {
          "output_type": "stream",
          "name": "stderr",
          "text": [
            "loss 0.00002 acc 1.00000: 100%|██████████| 297/297 [00:06<00:00, 43.63it/s]\n",
            "val_loss 0.00036 val_acc 1.00000: 100%|██████████| 53/53 [00:01<00:00, 30.95it/s]\n"
          ]
        },
        {
          "output_type": "stream",
          "name": "stdout",
          "text": [
            "Epoch 983/1000 loss 0.00002 val_loss 0.00036 acc 1.00000 val_acc 1.00000\n"
          ]
        },
        {
          "output_type": "stream",
          "name": "stderr",
          "text": [
            "loss 0.00042 acc 0.99989: 100%|██████████| 297/297 [00:07<00:00, 38.86it/s]\n",
            "val_loss 0.00109 val_acc 0.99941: 100%|██████████| 53/53 [00:01<00:00, 28.82it/s]\n"
          ]
        },
        {
          "output_type": "stream",
          "name": "stdout",
          "text": [
            "Epoch 984/1000 loss 0.00042 val_loss 0.00109 acc 0.99989 val_acc 0.99941\n"
          ]
        },
        {
          "output_type": "stream",
          "name": "stderr",
          "text": [
            "loss 0.00088 acc 0.99979: 100%|██████████| 297/297 [00:07<00:00, 42.40it/s]\n",
            "val_loss 0.00192 val_acc 0.99941: 100%|██████████| 53/53 [00:01<00:00, 33.82it/s]\n"
          ]
        },
        {
          "output_type": "stream",
          "name": "stdout",
          "text": [
            "Epoch 985/1000 loss 0.00088 val_loss 0.00192 acc 0.99979 val_acc 0.99941\n"
          ]
        },
        {
          "output_type": "stream",
          "name": "stderr",
          "text": [
            "loss 0.00090 acc 0.99968: 100%|██████████| 297/297 [00:07<00:00, 39.18it/s]\n",
            "val_loss 0.00005 val_acc 1.00000: 100%|██████████| 53/53 [00:01<00:00, 30.01it/s]\n"
          ]
        },
        {
          "output_type": "stream",
          "name": "stdout",
          "text": [
            "Epoch 986/1000 loss 0.00090 val_loss 0.00005 acc 0.99968 val_acc 1.00000\n"
          ]
        },
        {
          "output_type": "stream",
          "name": "stderr",
          "text": [
            "loss 0.00015 acc 0.99989: 100%|██████████| 297/297 [00:06<00:00, 42.85it/s]\n",
            "val_loss 0.00016 val_acc 1.00000: 100%|██████████| 53/53 [00:01<00:00, 35.26it/s]\n"
          ]
        },
        {
          "output_type": "stream",
          "name": "stdout",
          "text": [
            "Epoch 987/1000 loss 0.00015 val_loss 0.00016 acc 0.99989 val_acc 1.00000\n"
          ]
        },
        {
          "output_type": "stream",
          "name": "stderr",
          "text": [
            "loss 0.00004 acc 1.00000: 100%|██████████| 297/297 [00:07<00:00, 41.06it/s]\n",
            "val_loss 0.00009 val_acc 1.00000: 100%|██████████| 53/53 [00:01<00:00, 28.37it/s]\n"
          ]
        },
        {
          "output_type": "stream",
          "name": "stdout",
          "text": [
            "Epoch 988/1000 loss 0.00004 val_loss 0.00009 acc 1.00000 val_acc 1.00000\n"
          ]
        },
        {
          "output_type": "stream",
          "name": "stderr",
          "text": [
            "loss 0.00105 acc 0.99972: 100%|██████████| 297/297 [00:07<00:00, 38.48it/s]\n",
            "val_loss 0.00022 val_acc 1.00000: 100%|██████████| 53/53 [00:01<00:00, 30.88it/s]\n"
          ]
        },
        {
          "output_type": "stream",
          "name": "stdout",
          "text": [
            "Epoch 989/1000 loss 0.00105 val_loss 0.00022 acc 0.99972 val_acc 1.00000\n"
          ]
        },
        {
          "output_type": "stream",
          "name": "stderr",
          "text": [
            "loss 0.00007 acc 1.00000: 100%|██████████| 297/297 [00:06<00:00, 43.32it/s]\n",
            "val_loss 0.00004 val_acc 1.00000: 100%|██████████| 53/53 [00:01<00:00, 32.23it/s]\n"
          ]
        },
        {
          "output_type": "stream",
          "name": "stdout",
          "text": [
            "Epoch 990/1000 loss 0.00007 val_loss 0.00004 acc 1.00000 val_acc 1.00000\n"
          ]
        },
        {
          "output_type": "stream",
          "name": "stderr",
          "text": [
            "loss 0.00081 acc 0.99979: 100%|██████████| 297/297 [00:07<00:00, 38.91it/s]\n",
            "val_loss 0.00013 val_acc 1.00000: 100%|██████████| 53/53 [00:01<00:00, 31.30it/s]\n"
          ]
        },
        {
          "output_type": "stream",
          "name": "stdout",
          "text": [
            "Epoch 991/1000 loss 0.00081 val_loss 0.00013 acc 0.99979 val_acc 1.00000\n"
          ]
        },
        {
          "output_type": "stream",
          "name": "stderr",
          "text": [
            "loss 0.00192 acc 0.99972: 100%|██████████| 297/297 [00:06<00:00, 42.80it/s]\n",
            "val_loss 0.00007 val_acc 1.00000: 100%|██████████| 53/53 [00:01<00:00, 34.94it/s]\n"
          ]
        },
        {
          "output_type": "stream",
          "name": "stdout",
          "text": [
            "Epoch 992/1000 loss 0.00192 val_loss 0.00007 acc 0.99972 val_acc 1.00000\n"
          ]
        },
        {
          "output_type": "stream",
          "name": "stderr",
          "text": [
            "loss 0.00094 acc 0.99958: 100%|██████████| 297/297 [00:07<00:00, 39.27it/s]\n",
            "val_loss 0.00003 val_acc 1.00000: 100%|██████████| 53/53 [00:01<00:00, 29.59it/s]\n"
          ]
        },
        {
          "output_type": "stream",
          "name": "stdout",
          "text": [
            "Epoch 993/1000 loss 0.00094 val_loss 0.00003 acc 0.99958 val_acc 1.00000\n"
          ]
        },
        {
          "output_type": "stream",
          "name": "stderr",
          "text": [
            "loss 0.00069 acc 0.99968: 100%|██████████| 297/297 [00:07<00:00, 41.52it/s]\n",
            "val_loss 0.00005 val_acc 1.00000: 100%|██████████| 53/53 [00:01<00:00, 31.35it/s]\n"
          ]
        },
        {
          "output_type": "stream",
          "name": "stdout",
          "text": [
            "Epoch 994/1000 loss 0.00069 val_loss 0.00005 acc 0.99968 val_acc 1.00000\n"
          ]
        },
        {
          "output_type": "stream",
          "name": "stderr",
          "text": [
            "loss 0.00003 acc 1.00000: 100%|██████████| 297/297 [00:07<00:00, 40.23it/s]\n",
            "val_loss 0.00003 val_acc 1.00000: 100%|██████████| 53/53 [00:01<00:00, 31.13it/s]\n"
          ]
        },
        {
          "output_type": "stream",
          "name": "stdout",
          "text": [
            "Epoch 995/1000 loss 0.00003 val_loss 0.00003 acc 1.00000 val_acc 1.00000\n"
          ]
        },
        {
          "output_type": "stream",
          "name": "stderr",
          "text": [
            "loss 0.00006 acc 1.00000: 100%|██████████| 297/297 [00:06<00:00, 43.51it/s]\n",
            "val_loss 0.00015 val_acc 1.00000: 100%|██████████| 53/53 [00:01<00:00, 32.01it/s]\n"
          ]
        },
        {
          "output_type": "stream",
          "name": "stdout",
          "text": [
            "Epoch 996/1000 loss 0.00006 val_loss 0.00015 acc 1.00000 val_acc 1.00000\n"
          ]
        },
        {
          "output_type": "stream",
          "name": "stderr",
          "text": [
            "loss 0.00001 acc 1.00000: 100%|██████████| 297/297 [00:07<00:00, 40.99it/s]\n",
            "val_loss 0.00007 val_acc 1.00000: 100%|██████████| 53/53 [00:01<00:00, 28.05it/s]\n"
          ]
        },
        {
          "output_type": "stream",
          "name": "stdout",
          "text": [
            "Epoch 997/1000 loss 0.00001 val_loss 0.00007 acc 1.00000 val_acc 1.00000\n"
          ]
        },
        {
          "output_type": "stream",
          "name": "stderr",
          "text": [
            "loss 0.00026 acc 0.99989: 100%|██████████| 297/297 [00:07<00:00, 41.79it/s]\n",
            "val_loss 0.00003 val_acc 1.00000: 100%|██████████| 53/53 [00:01<00:00, 30.24it/s]\n"
          ]
        },
        {
          "output_type": "stream",
          "name": "stdout",
          "text": [
            "Epoch 998/1000 loss 0.00026 val_loss 0.00003 acc 0.99989 val_acc 1.00000\n"
          ]
        },
        {
          "output_type": "stream",
          "name": "stderr",
          "text": [
            "loss 0.00022 acc 0.99989: 100%|██████████| 297/297 [00:06<00:00, 43.31it/s]\n",
            "val_loss 0.00006 val_acc 1.00000: 100%|██████████| 53/53 [00:01<00:00, 32.86it/s]\n"
          ]
        },
        {
          "output_type": "stream",
          "name": "stdout",
          "text": [
            "Epoch 999/1000 loss 0.00022 val_loss 0.00006 acc 0.99989 val_acc 1.00000\n"
          ]
        },
        {
          "output_type": "stream",
          "name": "stderr",
          "text": [
            "loss 0.00003 acc 1.00000: 100%|██████████| 297/297 [00:06<00:00, 43.20it/s]\n",
            "val_loss 0.00004 val_acc 1.00000: 100%|██████████| 53/53 [00:01<00:00, 32.18it/s]\n"
          ]
        },
        {
          "output_type": "stream",
          "name": "stdout",
          "text": [
            "Epoch 1000/1000 loss 0.00003 val_loss 0.00004 acc 1.00000 val_acc 1.00000\n",
            "Checkpoint guardado en /content/drive/MyDrive/SIS421 prueba dataset 1 test/Checkpoints/checkpoint.pth (Epoch 1000)\n",
            "Modelo guardado en TorchScript en: /content/drive/MyDrive/SIS421 prueba dataset 1 test/Checkpoints/model_scripted.pt\n"
          ]
        },
        {
          "output_type": "error",
          "ename": "RuntimeError",
          "evalue": "mat1 and mat2 shapes cannot be multiplied (3072x32 and 3072x100)",
          "traceback": [
            "\u001b[0;31m---------------------------------------------------------------------------\u001b[0m",
            "\u001b[0;31mRuntimeError\u001b[0m                              Traceback (most recent call last)",
            "\u001b[0;32m<ipython-input-16-e3d07caf3f9a>\u001b[0m in \u001b[0;36m<cell line: 2>\u001b[0;34m()\u001b[0m\n\u001b[1;32m      1\u001b[0m \u001b[0;31m# Entrenar el modelo\u001b[0m\u001b[0;34m\u001b[0m\u001b[0;34m\u001b[0m\u001b[0m\n\u001b[0;32m----> 2\u001b[0;31m \u001b[0mfit\u001b[0m\u001b[0;34m(\u001b[0m\u001b[0mmodel\u001b[0m\u001b[0;34m,\u001b[0m \u001b[0;34m{\u001b[0m\u001b[0;34m'train'\u001b[0m\u001b[0;34m:\u001b[0m \u001b[0mtrain_loader\u001b[0m\u001b[0;34m,\u001b[0m \u001b[0;34m'test'\u001b[0m\u001b[0;34m:\u001b[0m \u001b[0mtest_loader\u001b[0m\u001b[0;34m}\u001b[0m\u001b[0;34m,\u001b[0m \u001b[0mepochs\u001b[0m\u001b[0;34m=\u001b[0m\u001b[0;36m1000\u001b[0m\u001b[0;34m,\u001b[0m \u001b[0mcheckpoint_interval\u001b[0m\u001b[0;34m=\u001b[0m\u001b[0;36m20\u001b[0m\u001b[0;34m,\u001b[0m \u001b[0msave_path\u001b[0m\u001b[0;34m=\u001b[0m\u001b[0;34m'/content/drive/MyDrive/SIS421 prueba dataset 1 test/Checkpoints/checkpoint.pth'\u001b[0m\u001b[0;34m)\u001b[0m\u001b[0;34m\u001b[0m\u001b[0;34m\u001b[0m\u001b[0m\n\u001b[0m",
            "\u001b[0;32m<ipython-input-14-cd7b9b1cb660>\u001b[0m in \u001b[0;36mfit\u001b[0;34m(model, dataloader, epochs, checkpoint_interval, save_path)\u001b[0m\n\u001b[1;32m     60\u001b[0m     \u001b[0monnx_save_path\u001b[0m \u001b[0;34m=\u001b[0m \u001b[0;34m'/content/drive/MyDrive/SIS421 prueba dataset 1 test/Checkpoints/model.onnx'\u001b[0m\u001b[0;34m\u001b[0m\u001b[0;34m\u001b[0m\u001b[0m\n\u001b[1;32m     61\u001b[0m     \u001b[0mexample_input\u001b[0m \u001b[0;34m=\u001b[0m \u001b[0mnext\u001b[0m\u001b[0;34m(\u001b[0m\u001b[0miter\u001b[0m\u001b[0;34m(\u001b[0m\u001b[0mdataloader\u001b[0m\u001b[0;34m[\u001b[0m\u001b[0;34m'train'\u001b[0m\u001b[0;34m]\u001b[0m\u001b[0;34m)\u001b[0m\u001b[0;34m)\u001b[0m\u001b[0;34m[\u001b[0m\u001b[0;36m0\u001b[0m\u001b[0;34m]\u001b[0m\u001b[0;34m.\u001b[0m\u001b[0mto\u001b[0m\u001b[0;34m(\u001b[0m\u001b[0mdevice\u001b[0m\u001b[0;34m)\u001b[0m  \u001b[0;31m# Ejemplo de entrada\u001b[0m\u001b[0;34m\u001b[0m\u001b[0;34m\u001b[0m\u001b[0m\n\u001b[0;32m---> 62\u001b[0;31m     torch.onnx.export(\n\u001b[0m\u001b[1;32m     63\u001b[0m         \u001b[0mmodel\u001b[0m\u001b[0;34m,\u001b[0m                     \u001b[0;31m# Modelo PyTorch\u001b[0m\u001b[0;34m\u001b[0m\u001b[0;34m\u001b[0m\u001b[0m\n\u001b[1;32m     64\u001b[0m         \u001b[0mexample_input\u001b[0m\u001b[0;34m,\u001b[0m             \u001b[0;31m# Ejemplo de entrada\u001b[0m\u001b[0;34m\u001b[0m\u001b[0;34m\u001b[0m\u001b[0m\n",
            "\u001b[0;32m/usr/local/lib/python3.10/dist-packages/torch/onnx/utils.py\u001b[0m in \u001b[0;36mexport\u001b[0;34m(model, args, f, export_params, verbose, training, input_names, output_names, operator_export_type, opset_version, do_constant_folding, dynamic_axes, keep_initializers_as_inputs, custom_opsets, export_modules_as_functions, autograd_inlining, dynamo)\u001b[0m\n\u001b[1;32m    549\u001b[0m         )\n\u001b[1;32m    550\u001b[0m \u001b[0;34m\u001b[0m\u001b[0m\n\u001b[0;32m--> 551\u001b[0;31m     _export(\n\u001b[0m\u001b[1;32m    552\u001b[0m         \u001b[0mmodel\u001b[0m\u001b[0;34m,\u001b[0m\u001b[0;34m\u001b[0m\u001b[0;34m\u001b[0m\u001b[0m\n\u001b[1;32m    553\u001b[0m         \u001b[0margs\u001b[0m\u001b[0;34m,\u001b[0m\u001b[0;34m\u001b[0m\u001b[0;34m\u001b[0m\u001b[0m\n",
            "\u001b[0;32m/usr/local/lib/python3.10/dist-packages/torch/onnx/utils.py\u001b[0m in \u001b[0;36m_export\u001b[0;34m(model, args, f, export_params, verbose, training, input_names, output_names, operator_export_type, export_type, opset_version, do_constant_folding, dynamic_axes, keep_initializers_as_inputs, fixed_batch_size, custom_opsets, add_node_names, onnx_shape_inference, export_modules_as_functions, autograd_inlining)\u001b[0m\n\u001b[1;32m   1646\u001b[0m             \u001b[0m_validate_dynamic_axes\u001b[0m\u001b[0;34m(\u001b[0m\u001b[0mdynamic_axes\u001b[0m\u001b[0;34m,\u001b[0m \u001b[0mmodel\u001b[0m\u001b[0;34m,\u001b[0m \u001b[0minput_names\u001b[0m\u001b[0;34m,\u001b[0m \u001b[0moutput_names\u001b[0m\u001b[0;34m)\u001b[0m\u001b[0;34m\u001b[0m\u001b[0;34m\u001b[0m\u001b[0m\n\u001b[1;32m   1647\u001b[0m \u001b[0;34m\u001b[0m\u001b[0m\n\u001b[0;32m-> 1648\u001b[0;31m             graph, params_dict, torch_out = _model_to_graph(\n\u001b[0m\u001b[1;32m   1649\u001b[0m                 \u001b[0mmodel\u001b[0m\u001b[0;34m,\u001b[0m\u001b[0;34m\u001b[0m\u001b[0;34m\u001b[0m\u001b[0m\n\u001b[1;32m   1650\u001b[0m                 \u001b[0margs\u001b[0m\u001b[0;34m,\u001b[0m\u001b[0;34m\u001b[0m\u001b[0;34m\u001b[0m\u001b[0m\n",
            "\u001b[0;32m/usr/local/lib/python3.10/dist-packages/torch/onnx/utils.py\u001b[0m in \u001b[0;36m_model_to_graph\u001b[0;34m(model, args, verbose, input_names, output_names, operator_export_type, do_constant_folding, _disable_torch_constant_prop, fixed_batch_size, training, dynamic_axes)\u001b[0m\n\u001b[1;32m   1168\u001b[0m \u001b[0;34m\u001b[0m\u001b[0m\n\u001b[1;32m   1169\u001b[0m     \u001b[0mmodel\u001b[0m \u001b[0;34m=\u001b[0m \u001b[0m_pre_trace_quant_model\u001b[0m\u001b[0;34m(\u001b[0m\u001b[0mmodel\u001b[0m\u001b[0;34m,\u001b[0m \u001b[0margs\u001b[0m\u001b[0;34m)\u001b[0m\u001b[0;34m\u001b[0m\u001b[0;34m\u001b[0m\u001b[0m\n\u001b[0;32m-> 1170\u001b[0;31m     \u001b[0mgraph\u001b[0m\u001b[0;34m,\u001b[0m \u001b[0mparams\u001b[0m\u001b[0;34m,\u001b[0m \u001b[0mtorch_out\u001b[0m\u001b[0;34m,\u001b[0m \u001b[0mmodule\u001b[0m \u001b[0;34m=\u001b[0m \u001b[0m_create_jit_graph\u001b[0m\u001b[0;34m(\u001b[0m\u001b[0mmodel\u001b[0m\u001b[0;34m,\u001b[0m \u001b[0margs\u001b[0m\u001b[0;34m)\u001b[0m\u001b[0;34m\u001b[0m\u001b[0;34m\u001b[0m\u001b[0m\n\u001b[0m\u001b[1;32m   1171\u001b[0m     \u001b[0mparams_dict\u001b[0m \u001b[0;34m=\u001b[0m \u001b[0m_get_named_param_dict\u001b[0m\u001b[0;34m(\u001b[0m\u001b[0mgraph\u001b[0m\u001b[0;34m,\u001b[0m \u001b[0mparams\u001b[0m\u001b[0;34m)\u001b[0m\u001b[0;34m\u001b[0m\u001b[0;34m\u001b[0m\u001b[0m\n\u001b[1;32m   1172\u001b[0m \u001b[0;34m\u001b[0m\u001b[0m\n",
            "\u001b[0;32m/usr/local/lib/python3.10/dist-packages/torch/onnx/utils.py\u001b[0m in \u001b[0;36m_create_jit_graph\u001b[0;34m(model, args)\u001b[0m\n\u001b[1;32m   1044\u001b[0m         \u001b[0;32mreturn\u001b[0m \u001b[0mgraph\u001b[0m\u001b[0;34m,\u001b[0m \u001b[0mparams\u001b[0m\u001b[0;34m,\u001b[0m \u001b[0mtorch_out\u001b[0m\u001b[0;34m,\u001b[0m \u001b[0;32mNone\u001b[0m\u001b[0;34m\u001b[0m\u001b[0;34m\u001b[0m\u001b[0m\n\u001b[1;32m   1045\u001b[0m \u001b[0;34m\u001b[0m\u001b[0m\n\u001b[0;32m-> 1046\u001b[0;31m     \u001b[0mgraph\u001b[0m\u001b[0;34m,\u001b[0m \u001b[0mtorch_out\u001b[0m \u001b[0;34m=\u001b[0m \u001b[0m_trace_and_get_graph_from_model\u001b[0m\u001b[0;34m(\u001b[0m\u001b[0mmodel\u001b[0m\u001b[0;34m,\u001b[0m \u001b[0margs\u001b[0m\u001b[0;34m)\u001b[0m\u001b[0;34m\u001b[0m\u001b[0;34m\u001b[0m\u001b[0m\n\u001b[0m\u001b[1;32m   1047\u001b[0m     \u001b[0m_C\u001b[0m\u001b[0;34m.\u001b[0m\u001b[0m_jit_pass_onnx_lint\u001b[0m\u001b[0;34m(\u001b[0m\u001b[0mgraph\u001b[0m\u001b[0;34m)\u001b[0m\u001b[0;34m\u001b[0m\u001b[0;34m\u001b[0m\u001b[0m\n\u001b[1;32m   1048\u001b[0m     \u001b[0mstate_dict\u001b[0m \u001b[0;34m=\u001b[0m \u001b[0mtorch\u001b[0m\u001b[0;34m.\u001b[0m\u001b[0mjit\u001b[0m\u001b[0;34m.\u001b[0m\u001b[0m_unique_state_dict\u001b[0m\u001b[0;34m(\u001b[0m\u001b[0mmodel\u001b[0m\u001b[0;34m)\u001b[0m\u001b[0;34m\u001b[0m\u001b[0;34m\u001b[0m\u001b[0m\n",
            "\u001b[0;32m/usr/local/lib/python3.10/dist-packages/torch/onnx/utils.py\u001b[0m in \u001b[0;36m_trace_and_get_graph_from_model\u001b[0;34m(model, args)\u001b[0m\n\u001b[1;32m    948\u001b[0m     \u001b[0mprev_autocast_cache_enabled\u001b[0m \u001b[0;34m=\u001b[0m \u001b[0mtorch\u001b[0m\u001b[0;34m.\u001b[0m\u001b[0mis_autocast_cache_enabled\u001b[0m\u001b[0;34m(\u001b[0m\u001b[0;34m)\u001b[0m\u001b[0;34m\u001b[0m\u001b[0;34m\u001b[0m\u001b[0m\n\u001b[1;32m    949\u001b[0m     \u001b[0mtorch\u001b[0m\u001b[0;34m.\u001b[0m\u001b[0mset_autocast_cache_enabled\u001b[0m\u001b[0;34m(\u001b[0m\u001b[0;32mFalse\u001b[0m\u001b[0;34m)\u001b[0m\u001b[0;34m\u001b[0m\u001b[0;34m\u001b[0m\u001b[0m\n\u001b[0;32m--> 950\u001b[0;31m     trace_graph, torch_out, inputs_states = torch.jit._get_trace_graph(\n\u001b[0m\u001b[1;32m    951\u001b[0m         \u001b[0mmodel\u001b[0m\u001b[0;34m,\u001b[0m\u001b[0;34m\u001b[0m\u001b[0;34m\u001b[0m\u001b[0m\n\u001b[1;32m    952\u001b[0m         \u001b[0margs\u001b[0m\u001b[0;34m,\u001b[0m\u001b[0;34m\u001b[0m\u001b[0;34m\u001b[0m\u001b[0m\n",
            "\u001b[0;32m/usr/local/lib/python3.10/dist-packages/torch/jit/_trace.py\u001b[0m in \u001b[0;36m_get_trace_graph\u001b[0;34m(f, args, kwargs, strict, _force_outplace, return_inputs, _return_inputs_states)\u001b[0m\n\u001b[1;32m   1495\u001b[0m     \u001b[0;32mif\u001b[0m \u001b[0;32mnot\u001b[0m \u001b[0misinstance\u001b[0m\u001b[0;34m(\u001b[0m\u001b[0margs\u001b[0m\u001b[0;34m,\u001b[0m \u001b[0mtuple\u001b[0m\u001b[0;34m)\u001b[0m\u001b[0;34m:\u001b[0m\u001b[0;34m\u001b[0m\u001b[0;34m\u001b[0m\u001b[0m\n\u001b[1;32m   1496\u001b[0m         \u001b[0margs\u001b[0m \u001b[0;34m=\u001b[0m \u001b[0;34m(\u001b[0m\u001b[0margs\u001b[0m\u001b[0;34m,\u001b[0m\u001b[0;34m)\u001b[0m\u001b[0;34m\u001b[0m\u001b[0;34m\u001b[0m\u001b[0m\n\u001b[0;32m-> 1497\u001b[0;31m     outs = ONNXTracedModule(\n\u001b[0m\u001b[1;32m   1498\u001b[0m         \u001b[0mf\u001b[0m\u001b[0;34m,\u001b[0m \u001b[0mstrict\u001b[0m\u001b[0;34m,\u001b[0m \u001b[0m_force_outplace\u001b[0m\u001b[0;34m,\u001b[0m \u001b[0mreturn_inputs\u001b[0m\u001b[0;34m,\u001b[0m \u001b[0m_return_inputs_states\u001b[0m\u001b[0;34m\u001b[0m\u001b[0;34m\u001b[0m\u001b[0m\n\u001b[1;32m   1499\u001b[0m     )(*args, **kwargs)\n",
            "\u001b[0;32m/usr/local/lib/python3.10/dist-packages/torch/nn/modules/module.py\u001b[0m in \u001b[0;36m_wrapped_call_impl\u001b[0;34m(self, *args, **kwargs)\u001b[0m\n\u001b[1;32m   1551\u001b[0m             \u001b[0;32mreturn\u001b[0m \u001b[0mself\u001b[0m\u001b[0;34m.\u001b[0m\u001b[0m_compiled_call_impl\u001b[0m\u001b[0;34m(\u001b[0m\u001b[0;34m*\u001b[0m\u001b[0margs\u001b[0m\u001b[0;34m,\u001b[0m \u001b[0;34m**\u001b[0m\u001b[0mkwargs\u001b[0m\u001b[0;34m)\u001b[0m  \u001b[0;31m# type: ignore[misc]\u001b[0m\u001b[0;34m\u001b[0m\u001b[0;34m\u001b[0m\u001b[0m\n\u001b[1;32m   1552\u001b[0m         \u001b[0;32melse\u001b[0m\u001b[0;34m:\u001b[0m\u001b[0;34m\u001b[0m\u001b[0;34m\u001b[0m\u001b[0m\n\u001b[0;32m-> 1553\u001b[0;31m             \u001b[0;32mreturn\u001b[0m \u001b[0mself\u001b[0m\u001b[0;34m.\u001b[0m\u001b[0m_call_impl\u001b[0m\u001b[0;34m(\u001b[0m\u001b[0;34m*\u001b[0m\u001b[0margs\u001b[0m\u001b[0;34m,\u001b[0m \u001b[0;34m**\u001b[0m\u001b[0mkwargs\u001b[0m\u001b[0;34m)\u001b[0m\u001b[0;34m\u001b[0m\u001b[0;34m\u001b[0m\u001b[0m\n\u001b[0m\u001b[1;32m   1554\u001b[0m \u001b[0;34m\u001b[0m\u001b[0m\n\u001b[1;32m   1555\u001b[0m     \u001b[0;32mdef\u001b[0m \u001b[0m_call_impl\u001b[0m\u001b[0;34m(\u001b[0m\u001b[0mself\u001b[0m\u001b[0;34m,\u001b[0m \u001b[0;34m*\u001b[0m\u001b[0margs\u001b[0m\u001b[0;34m,\u001b[0m \u001b[0;34m**\u001b[0m\u001b[0mkwargs\u001b[0m\u001b[0;34m)\u001b[0m\u001b[0;34m:\u001b[0m\u001b[0;34m\u001b[0m\u001b[0;34m\u001b[0m\u001b[0m\n",
            "\u001b[0;32m/usr/local/lib/python3.10/dist-packages/torch/nn/modules/module.py\u001b[0m in \u001b[0;36m_call_impl\u001b[0;34m(self, *args, **kwargs)\u001b[0m\n\u001b[1;32m   1560\u001b[0m                 \u001b[0;32mor\u001b[0m \u001b[0m_global_backward_pre_hooks\u001b[0m \u001b[0;32mor\u001b[0m \u001b[0m_global_backward_hooks\u001b[0m\u001b[0;34m\u001b[0m\u001b[0;34m\u001b[0m\u001b[0m\n\u001b[1;32m   1561\u001b[0m                 or _global_forward_hooks or _global_forward_pre_hooks):\n\u001b[0;32m-> 1562\u001b[0;31m             \u001b[0;32mreturn\u001b[0m \u001b[0mforward_call\u001b[0m\u001b[0;34m(\u001b[0m\u001b[0;34m*\u001b[0m\u001b[0margs\u001b[0m\u001b[0;34m,\u001b[0m \u001b[0;34m**\u001b[0m\u001b[0mkwargs\u001b[0m\u001b[0;34m)\u001b[0m\u001b[0;34m\u001b[0m\u001b[0;34m\u001b[0m\u001b[0m\n\u001b[0m\u001b[1;32m   1563\u001b[0m \u001b[0;34m\u001b[0m\u001b[0m\n\u001b[1;32m   1564\u001b[0m         \u001b[0;32mtry\u001b[0m\u001b[0;34m:\u001b[0m\u001b[0;34m\u001b[0m\u001b[0;34m\u001b[0m\u001b[0m\n",
            "\u001b[0;32m/usr/local/lib/python3.10/dist-packages/torch/jit/_trace.py\u001b[0m in \u001b[0;36mforward\u001b[0;34m(self, *args)\u001b[0m\n\u001b[1;32m    139\u001b[0m                 \u001b[0;32mreturn\u001b[0m \u001b[0mtuple\u001b[0m\u001b[0;34m(\u001b[0m\u001b[0mout_vars\u001b[0m\u001b[0;34m)\u001b[0m\u001b[0;34m\u001b[0m\u001b[0;34m\u001b[0m\u001b[0m\n\u001b[1;32m    140\u001b[0m \u001b[0;34m\u001b[0m\u001b[0m\n\u001b[0;32m--> 141\u001b[0;31m         graph, out = torch._C._create_graph_by_tracing(\n\u001b[0m\u001b[1;32m    142\u001b[0m             \u001b[0mwrapper\u001b[0m\u001b[0;34m,\u001b[0m\u001b[0;34m\u001b[0m\u001b[0;34m\u001b[0m\u001b[0m\n\u001b[1;32m    143\u001b[0m             \u001b[0min_vars\u001b[0m \u001b[0;34m+\u001b[0m \u001b[0mmodule_state\u001b[0m\u001b[0;34m,\u001b[0m\u001b[0;34m\u001b[0m\u001b[0;34m\u001b[0m\u001b[0m\n",
            "\u001b[0;32m/usr/local/lib/python3.10/dist-packages/torch/jit/_trace.py\u001b[0m in \u001b[0;36mwrapper\u001b[0;34m(*args)\u001b[0m\n\u001b[1;32m    130\u001b[0m             \u001b[0;32mif\u001b[0m \u001b[0mself\u001b[0m\u001b[0;34m.\u001b[0m\u001b[0m_return_inputs_states\u001b[0m\u001b[0;34m:\u001b[0m\u001b[0;34m\u001b[0m\u001b[0;34m\u001b[0m\u001b[0m\n\u001b[1;32m    131\u001b[0m                 \u001b[0minputs_states\u001b[0m\u001b[0;34m.\u001b[0m\u001b[0mappend\u001b[0m\u001b[0;34m(\u001b[0m\u001b[0m_unflatten\u001b[0m\u001b[0;34m(\u001b[0m\u001b[0min_args\u001b[0m\u001b[0;34m,\u001b[0m \u001b[0min_desc\u001b[0m\u001b[0;34m)\u001b[0m\u001b[0;34m)\u001b[0m\u001b[0;34m\u001b[0m\u001b[0;34m\u001b[0m\u001b[0m\n\u001b[0;32m--> 132\u001b[0;31m             \u001b[0mouts\u001b[0m\u001b[0;34m.\u001b[0m\u001b[0mappend\u001b[0m\u001b[0;34m(\u001b[0m\u001b[0mself\u001b[0m\u001b[0;34m.\u001b[0m\u001b[0minner\u001b[0m\u001b[0;34m(\u001b[0m\u001b[0;34m*\u001b[0m\u001b[0mtrace_inputs\u001b[0m\u001b[0;34m)\u001b[0m\u001b[0;34m)\u001b[0m\u001b[0;34m\u001b[0m\u001b[0;34m\u001b[0m\u001b[0m\n\u001b[0m\u001b[1;32m    133\u001b[0m             \u001b[0;32mif\u001b[0m \u001b[0mself\u001b[0m\u001b[0;34m.\u001b[0m\u001b[0m_return_inputs_states\u001b[0m\u001b[0;34m:\u001b[0m\u001b[0;34m\u001b[0m\u001b[0;34m\u001b[0m\u001b[0m\n\u001b[1;32m    134\u001b[0m                 \u001b[0minputs_states\u001b[0m\u001b[0;34m[\u001b[0m\u001b[0;36m0\u001b[0m\u001b[0;34m]\u001b[0m \u001b[0;34m=\u001b[0m \u001b[0;34m(\u001b[0m\u001b[0minputs_states\u001b[0m\u001b[0;34m[\u001b[0m\u001b[0;36m0\u001b[0m\u001b[0;34m]\u001b[0m\u001b[0;34m,\u001b[0m \u001b[0mtrace_inputs\u001b[0m\u001b[0;34m)\u001b[0m\u001b[0;34m\u001b[0m\u001b[0;34m\u001b[0m\u001b[0m\n",
            "\u001b[0;32m/usr/local/lib/python3.10/dist-packages/torch/nn/modules/module.py\u001b[0m in \u001b[0;36m_wrapped_call_impl\u001b[0;34m(self, *args, **kwargs)\u001b[0m\n\u001b[1;32m   1551\u001b[0m             \u001b[0;32mreturn\u001b[0m \u001b[0mself\u001b[0m\u001b[0;34m.\u001b[0m\u001b[0m_compiled_call_impl\u001b[0m\u001b[0;34m(\u001b[0m\u001b[0;34m*\u001b[0m\u001b[0margs\u001b[0m\u001b[0;34m,\u001b[0m \u001b[0;34m**\u001b[0m\u001b[0mkwargs\u001b[0m\u001b[0;34m)\u001b[0m  \u001b[0;31m# type: ignore[misc]\u001b[0m\u001b[0;34m\u001b[0m\u001b[0;34m\u001b[0m\u001b[0m\n\u001b[1;32m   1552\u001b[0m         \u001b[0;32melse\u001b[0m\u001b[0;34m:\u001b[0m\u001b[0;34m\u001b[0m\u001b[0;34m\u001b[0m\u001b[0m\n\u001b[0;32m-> 1553\u001b[0;31m             \u001b[0;32mreturn\u001b[0m \u001b[0mself\u001b[0m\u001b[0;34m.\u001b[0m\u001b[0m_call_impl\u001b[0m\u001b[0;34m(\u001b[0m\u001b[0;34m*\u001b[0m\u001b[0margs\u001b[0m\u001b[0;34m,\u001b[0m \u001b[0;34m**\u001b[0m\u001b[0mkwargs\u001b[0m\u001b[0;34m)\u001b[0m\u001b[0;34m\u001b[0m\u001b[0;34m\u001b[0m\u001b[0m\n\u001b[0m\u001b[1;32m   1554\u001b[0m \u001b[0;34m\u001b[0m\u001b[0m\n\u001b[1;32m   1555\u001b[0m     \u001b[0;32mdef\u001b[0m \u001b[0m_call_impl\u001b[0m\u001b[0;34m(\u001b[0m\u001b[0mself\u001b[0m\u001b[0;34m,\u001b[0m \u001b[0;34m*\u001b[0m\u001b[0margs\u001b[0m\u001b[0;34m,\u001b[0m \u001b[0;34m**\u001b[0m\u001b[0mkwargs\u001b[0m\u001b[0;34m)\u001b[0m\u001b[0;34m:\u001b[0m\u001b[0;34m\u001b[0m\u001b[0;34m\u001b[0m\u001b[0m\n",
            "\u001b[0;32m/usr/local/lib/python3.10/dist-packages/torch/nn/modules/module.py\u001b[0m in \u001b[0;36m_call_impl\u001b[0;34m(self, *args, **kwargs)\u001b[0m\n\u001b[1;32m   1560\u001b[0m                 \u001b[0;32mor\u001b[0m \u001b[0m_global_backward_pre_hooks\u001b[0m \u001b[0;32mor\u001b[0m \u001b[0m_global_backward_hooks\u001b[0m\u001b[0;34m\u001b[0m\u001b[0;34m\u001b[0m\u001b[0m\n\u001b[1;32m   1561\u001b[0m                 or _global_forward_hooks or _global_forward_pre_hooks):\n\u001b[0;32m-> 1562\u001b[0;31m             \u001b[0;32mreturn\u001b[0m \u001b[0mforward_call\u001b[0m\u001b[0;34m(\u001b[0m\u001b[0;34m*\u001b[0m\u001b[0margs\u001b[0m\u001b[0;34m,\u001b[0m \u001b[0;34m**\u001b[0m\u001b[0mkwargs\u001b[0m\u001b[0;34m)\u001b[0m\u001b[0;34m\u001b[0m\u001b[0;34m\u001b[0m\u001b[0m\n\u001b[0m\u001b[1;32m   1563\u001b[0m \u001b[0;34m\u001b[0m\u001b[0m\n\u001b[1;32m   1564\u001b[0m         \u001b[0;32mtry\u001b[0m\u001b[0;34m:\u001b[0m\u001b[0;34m\u001b[0m\u001b[0;34m\u001b[0m\u001b[0m\n",
            "\u001b[0;32m/usr/local/lib/python3.10/dist-packages/torch/nn/modules/module.py\u001b[0m in \u001b[0;36m_slow_forward\u001b[0;34m(self, *input, **kwargs)\u001b[0m\n\u001b[1;32m   1541\u001b[0m                 \u001b[0mrecording_scopes\u001b[0m \u001b[0;34m=\u001b[0m \u001b[0;32mFalse\u001b[0m\u001b[0;34m\u001b[0m\u001b[0;34m\u001b[0m\u001b[0m\n\u001b[1;32m   1542\u001b[0m         \u001b[0;32mtry\u001b[0m\u001b[0;34m:\u001b[0m\u001b[0;34m\u001b[0m\u001b[0;34m\u001b[0m\u001b[0m\n\u001b[0;32m-> 1543\u001b[0;31m             \u001b[0mresult\u001b[0m \u001b[0;34m=\u001b[0m \u001b[0mself\u001b[0m\u001b[0;34m.\u001b[0m\u001b[0mforward\u001b[0m\u001b[0;34m(\u001b[0m\u001b[0;34m*\u001b[0m\u001b[0minput\u001b[0m\u001b[0;34m,\u001b[0m \u001b[0;34m**\u001b[0m\u001b[0mkwargs\u001b[0m\u001b[0;34m)\u001b[0m\u001b[0;34m\u001b[0m\u001b[0;34m\u001b[0m\u001b[0m\n\u001b[0m\u001b[1;32m   1544\u001b[0m         \u001b[0;32mfinally\u001b[0m\u001b[0;34m:\u001b[0m\u001b[0;34m\u001b[0m\u001b[0;34m\u001b[0m\u001b[0m\n\u001b[1;32m   1545\u001b[0m             \u001b[0;32mif\u001b[0m \u001b[0mrecording_scopes\u001b[0m\u001b[0;34m:\u001b[0m\u001b[0;34m\u001b[0m\u001b[0;34m\u001b[0m\u001b[0m\n",
            "\u001b[0;32m/usr/local/lib/python3.10/dist-packages/torch/nn/modules/container.py\u001b[0m in \u001b[0;36mforward\u001b[0;34m(self, input)\u001b[0m\n\u001b[1;32m    217\u001b[0m     \u001b[0;32mdef\u001b[0m \u001b[0mforward\u001b[0m\u001b[0;34m(\u001b[0m\u001b[0mself\u001b[0m\u001b[0;34m,\u001b[0m \u001b[0minput\u001b[0m\u001b[0;34m)\u001b[0m\u001b[0;34m:\u001b[0m\u001b[0;34m\u001b[0m\u001b[0;34m\u001b[0m\u001b[0m\n\u001b[1;32m    218\u001b[0m         \u001b[0;32mfor\u001b[0m \u001b[0mmodule\u001b[0m \u001b[0;32min\u001b[0m \u001b[0mself\u001b[0m\u001b[0;34m:\u001b[0m\u001b[0;34m\u001b[0m\u001b[0;34m\u001b[0m\u001b[0m\n\u001b[0;32m--> 219\u001b[0;31m             \u001b[0minput\u001b[0m \u001b[0;34m=\u001b[0m \u001b[0mmodule\u001b[0m\u001b[0;34m(\u001b[0m\u001b[0minput\u001b[0m\u001b[0;34m)\u001b[0m\u001b[0;34m\u001b[0m\u001b[0;34m\u001b[0m\u001b[0m\n\u001b[0m\u001b[1;32m    220\u001b[0m         \u001b[0;32mreturn\u001b[0m \u001b[0minput\u001b[0m\u001b[0;34m\u001b[0m\u001b[0;34m\u001b[0m\u001b[0m\n\u001b[1;32m    221\u001b[0m \u001b[0;34m\u001b[0m\u001b[0m\n",
            "\u001b[0;32m/usr/local/lib/python3.10/dist-packages/torch/nn/modules/module.py\u001b[0m in \u001b[0;36m_wrapped_call_impl\u001b[0;34m(self, *args, **kwargs)\u001b[0m\n\u001b[1;32m   1551\u001b[0m             \u001b[0;32mreturn\u001b[0m \u001b[0mself\u001b[0m\u001b[0;34m.\u001b[0m\u001b[0m_compiled_call_impl\u001b[0m\u001b[0;34m(\u001b[0m\u001b[0;34m*\u001b[0m\u001b[0margs\u001b[0m\u001b[0;34m,\u001b[0m \u001b[0;34m**\u001b[0m\u001b[0mkwargs\u001b[0m\u001b[0;34m)\u001b[0m  \u001b[0;31m# type: ignore[misc]\u001b[0m\u001b[0;34m\u001b[0m\u001b[0;34m\u001b[0m\u001b[0m\n\u001b[1;32m   1552\u001b[0m         \u001b[0;32melse\u001b[0m\u001b[0;34m:\u001b[0m\u001b[0;34m\u001b[0m\u001b[0;34m\u001b[0m\u001b[0m\n\u001b[0;32m-> 1553\u001b[0;31m             \u001b[0;32mreturn\u001b[0m \u001b[0mself\u001b[0m\u001b[0;34m.\u001b[0m\u001b[0m_call_impl\u001b[0m\u001b[0;34m(\u001b[0m\u001b[0;34m*\u001b[0m\u001b[0margs\u001b[0m\u001b[0;34m,\u001b[0m \u001b[0;34m**\u001b[0m\u001b[0mkwargs\u001b[0m\u001b[0;34m)\u001b[0m\u001b[0;34m\u001b[0m\u001b[0;34m\u001b[0m\u001b[0m\n\u001b[0m\u001b[1;32m   1554\u001b[0m \u001b[0;34m\u001b[0m\u001b[0m\n\u001b[1;32m   1555\u001b[0m     \u001b[0;32mdef\u001b[0m \u001b[0m_call_impl\u001b[0m\u001b[0;34m(\u001b[0m\u001b[0mself\u001b[0m\u001b[0;34m,\u001b[0m \u001b[0;34m*\u001b[0m\u001b[0margs\u001b[0m\u001b[0;34m,\u001b[0m \u001b[0;34m**\u001b[0m\u001b[0mkwargs\u001b[0m\u001b[0;34m)\u001b[0m\u001b[0;34m:\u001b[0m\u001b[0;34m\u001b[0m\u001b[0;34m\u001b[0m\u001b[0m\n",
            "\u001b[0;32m/usr/local/lib/python3.10/dist-packages/torch/nn/modules/module.py\u001b[0m in \u001b[0;36m_call_impl\u001b[0;34m(self, *args, **kwargs)\u001b[0m\n\u001b[1;32m   1560\u001b[0m                 \u001b[0;32mor\u001b[0m \u001b[0m_global_backward_pre_hooks\u001b[0m \u001b[0;32mor\u001b[0m \u001b[0m_global_backward_hooks\u001b[0m\u001b[0;34m\u001b[0m\u001b[0;34m\u001b[0m\u001b[0m\n\u001b[1;32m   1561\u001b[0m                 or _global_forward_hooks or _global_forward_pre_hooks):\n\u001b[0;32m-> 1562\u001b[0;31m             \u001b[0;32mreturn\u001b[0m \u001b[0mforward_call\u001b[0m\u001b[0;34m(\u001b[0m\u001b[0;34m*\u001b[0m\u001b[0margs\u001b[0m\u001b[0;34m,\u001b[0m \u001b[0;34m**\u001b[0m\u001b[0mkwargs\u001b[0m\u001b[0;34m)\u001b[0m\u001b[0;34m\u001b[0m\u001b[0;34m\u001b[0m\u001b[0m\n\u001b[0m\u001b[1;32m   1563\u001b[0m \u001b[0;34m\u001b[0m\u001b[0m\n\u001b[1;32m   1564\u001b[0m         \u001b[0;32mtry\u001b[0m\u001b[0;34m:\u001b[0m\u001b[0;34m\u001b[0m\u001b[0;34m\u001b[0m\u001b[0m\n",
            "\u001b[0;32m/usr/local/lib/python3.10/dist-packages/torch/nn/modules/module.py\u001b[0m in \u001b[0;36m_slow_forward\u001b[0;34m(self, *input, **kwargs)\u001b[0m\n\u001b[1;32m   1541\u001b[0m                 \u001b[0mrecording_scopes\u001b[0m \u001b[0;34m=\u001b[0m \u001b[0;32mFalse\u001b[0m\u001b[0;34m\u001b[0m\u001b[0;34m\u001b[0m\u001b[0m\n\u001b[1;32m   1542\u001b[0m         \u001b[0;32mtry\u001b[0m\u001b[0;34m:\u001b[0m\u001b[0;34m\u001b[0m\u001b[0;34m\u001b[0m\u001b[0m\n\u001b[0;32m-> 1543\u001b[0;31m             \u001b[0mresult\u001b[0m \u001b[0;34m=\u001b[0m \u001b[0mself\u001b[0m\u001b[0;34m.\u001b[0m\u001b[0mforward\u001b[0m\u001b[0;34m(\u001b[0m\u001b[0;34m*\u001b[0m\u001b[0minput\u001b[0m\u001b[0;34m,\u001b[0m \u001b[0;34m**\u001b[0m\u001b[0mkwargs\u001b[0m\u001b[0;34m)\u001b[0m\u001b[0;34m\u001b[0m\u001b[0;34m\u001b[0m\u001b[0m\n\u001b[0m\u001b[1;32m   1544\u001b[0m         \u001b[0;32mfinally\u001b[0m\u001b[0;34m:\u001b[0m\u001b[0;34m\u001b[0m\u001b[0;34m\u001b[0m\u001b[0m\n\u001b[1;32m   1545\u001b[0m             \u001b[0;32mif\u001b[0m \u001b[0mrecording_scopes\u001b[0m\u001b[0;34m:\u001b[0m\u001b[0;34m\u001b[0m\u001b[0;34m\u001b[0m\u001b[0m\n",
            "\u001b[0;32m/usr/local/lib/python3.10/dist-packages/torch/nn/modules/linear.py\u001b[0m in \u001b[0;36mforward\u001b[0;34m(self, input)\u001b[0m\n\u001b[1;32m    115\u001b[0m \u001b[0;34m\u001b[0m\u001b[0m\n\u001b[1;32m    116\u001b[0m     \u001b[0;32mdef\u001b[0m \u001b[0mforward\u001b[0m\u001b[0;34m(\u001b[0m\u001b[0mself\u001b[0m\u001b[0;34m,\u001b[0m \u001b[0minput\u001b[0m\u001b[0;34m:\u001b[0m \u001b[0mTensor\u001b[0m\u001b[0;34m)\u001b[0m \u001b[0;34m->\u001b[0m \u001b[0mTensor\u001b[0m\u001b[0;34m:\u001b[0m\u001b[0;34m\u001b[0m\u001b[0;34m\u001b[0m\u001b[0m\n\u001b[0;32m--> 117\u001b[0;31m         \u001b[0;32mreturn\u001b[0m \u001b[0mF\u001b[0m\u001b[0;34m.\u001b[0m\u001b[0mlinear\u001b[0m\u001b[0;34m(\u001b[0m\u001b[0minput\u001b[0m\u001b[0;34m,\u001b[0m \u001b[0mself\u001b[0m\u001b[0;34m.\u001b[0m\u001b[0mweight\u001b[0m\u001b[0;34m,\u001b[0m \u001b[0mself\u001b[0m\u001b[0;34m.\u001b[0m\u001b[0mbias\u001b[0m\u001b[0;34m)\u001b[0m\u001b[0;34m\u001b[0m\u001b[0;34m\u001b[0m\u001b[0m\n\u001b[0m\u001b[1;32m    118\u001b[0m \u001b[0;34m\u001b[0m\u001b[0m\n\u001b[1;32m    119\u001b[0m     \u001b[0;32mdef\u001b[0m \u001b[0mextra_repr\u001b[0m\u001b[0;34m(\u001b[0m\u001b[0mself\u001b[0m\u001b[0;34m)\u001b[0m \u001b[0;34m->\u001b[0m \u001b[0mstr\u001b[0m\u001b[0;34m:\u001b[0m\u001b[0;34m\u001b[0m\u001b[0;34m\u001b[0m\u001b[0m\n",
            "\u001b[0;31mRuntimeError\u001b[0m: mat1 and mat2 shapes cannot be multiplied (3072x32 and 3072x100)"
          ]
        }
      ]
    },
    {
      "cell_type": "code",
      "source": [
        "def load_checkpoint(model, optimizer, save_path):\n",
        "    # Cargar el checkpoint\n",
        "    checkpoint = torch.load(save_path)\n",
        "\n",
        "    # Restaurar el estado del modelo\n",
        "    model.load_state_dict(checkpoint['model_state_dict'])\n",
        "\n",
        "    # Restaurar el estado del optimizador\n",
        "    optimizer.load_state_dict(checkpoint['optimizer_state_dict'])\n",
        "\n",
        "    # Restaurar la última época\n",
        "    epoch = checkpoint['epoch']\n",
        "\n",
        "    # Restaurar la pérdida\n",
        "    loss = checkpoint['loss']\n",
        "\n",
        "    print(f\"Checkpoint cargado desde {save_path} (Epoch {epoch})\")\n",
        "\n",
        "    return model, optimizer, epoch, loss"
      ],
      "metadata": {
        "id": "uaLjFpHqGU9t"
      },
      "execution_count": 24,
      "outputs": []
    },
    {
      "cell_type": "code",
      "source": [
        "# Crear el modelo y el optimizador\n",
        "# model = CustomImageDataset()  # Asegúrate de usar tu modelo\n",
        "model = build_model(D_in=32*32*3, H=100, D_out=len(set(train_labels)))\n",
        "model.to(device)  # Mover el modelo al dispositivo\n",
        "\n",
        "optimizer = torch.optim.Adam(model.parameters(), lr=1e-3)\n",
        "\n",
        "# Cargar el checkpoint si existe\n",
        "save_path = '/content/drive/MyDrive/SIS421/Checkpoints/checkpoint.pth'\n",
        "model, optimizer, start_epoch, _ = load_checkpoint(model, optimizer, save_path)\n",
        "epochs=1000\n",
        "# Continuar el entrenamiento desde la última época guardada\n",
        "for epoch in range(start_epoch + 1, epochs + 1):\n",
        "    # El código de entrenamiento continúa aquí...\n",
        "        model.train()\n",
        "        train_loss, train_acc = [], []\n",
        "        bar = tqdm(dataloader['train'])  # Asegúrate de acceder a la clave 'train'\n",
        "        for X, y in bar:\n",
        "            X, y = X.to(device), y.to(device)\n",
        "            optimizer.zero_grad()\n",
        "            y_hat = model(X.view(X.size(0), -1))  # Aplanar imágenes\n",
        "            loss = criterion(y_hat, y)\n",
        "            loss.backward()\n",
        "            optimizer.step()\n",
        "            train_loss.append(loss.item())\n",
        "            acc = (y == torch.argmax(y_hat, axis=1)).sum().item() / len(y)\n",
        "            train_acc.append(acc)\n",
        "            bar.set_description(f\"loss {np.mean(train_loss):.5f} acc {np.mean(train_acc):.5f}\")\n",
        "\n",
        "        model.eval()\n",
        "        val_loss, val_acc = [], []\n",
        "        with torch.no_grad():\n",
        "            bar = tqdm(dataloader['test'])\n",
        "            for X, y in bar:\n",
        "                X, y = X.to(device), y.to(device)\n",
        "                y_hat = model(X.view(X.size(0), -1))\n",
        "                loss = criterion(y_hat, y)\n",
        "                val_loss.append(loss.item())\n",
        "                acc = (y == torch.argmax(y_hat, axis=1)).sum().item() / len(y)\n",
        "                val_acc.append(acc)\n",
        "                bar.set_description(f\"val_loss {np.mean(val_loss):.5f} val_acc {np.mean(val_acc):.5f}\")\n",
        "\n",
        "        print(f\"Epoch {epoch}/{epochs} loss {np.mean(train_loss):.5f} val_loss {np.mean(val_loss):.5f} acc {np.mean(train_acc):.5f} val_acc {np.mean(val_acc):.5f}\")\n"
      ],
      "metadata": {
        "colab": {
          "base_uri": "https://localhost:8080/"
        },
        "id": "4IXHhK5uGvdl",
        "outputId": "5618cd07-5f5f-49c8-e694-8083f99d8ccb"
      },
      "execution_count": 27,
      "outputs": [
        {
          "output_type": "stream",
          "name": "stderr",
          "text": [
            "<ipython-input-24-ed8fc7aa725a>:3: FutureWarning: You are using `torch.load` with `weights_only=False` (the current default value), which uses the default pickle module implicitly. It is possible to construct malicious pickle data which will execute arbitrary code during unpickling (See https://github.com/pytorch/pytorch/blob/main/SECURITY.md#untrusted-models for more details). In a future release, the default value for `weights_only` will be flipped to `True`. This limits the functions that could be executed during unpickling. Arbitrary objects will no longer be allowed to be loaded via this mode unless they are explicitly allowlisted by the user via `torch.serialization.add_safe_globals`. We recommend you start setting `weights_only=True` for any use case where you don't have full control of the loaded file. Please open an issue on GitHub for any issues related to this experimental feature.\n",
            "  checkpoint = torch.load(save_path)\n"
          ]
        },
        {
          "output_type": "stream",
          "name": "stdout",
          "text": [
            "Checkpoint cargado desde /content/drive/MyDrive/SIS421/Checkpoints/checkpoint.pth (Epoch 1000)\n"
          ]
        }
      ]
    },
    {
      "cell_type": "markdown",
      "source": [
        "## Exportacion de datos con torchscrip"
      ],
      "metadata": {
        "id": "FV1VL_49qahd"
      }
    },
    {
      "cell_type": "code",
      "source": [
        "# Convertir el modelo a TorchScript\n",
        "model.eval()  # Asegúrate de que el modelo esté en modo de evaluación\n",
        "scripted_model = torch.jit.script(model)\n",
        "\n",
        "# Guardar el modelo TorchScript\n",
        "torchscript_save_path = '/content/drive/MyDrive/SIS421/Checkpoints/model_scripted.pt'\n",
        "scripted_model.save(torchscript_save_path)\n",
        "\n",
        "print(f\"Modelo guardado en TorchScript en: {torchscript_save_path}\")"
      ],
      "metadata": {
        "colab": {
          "base_uri": "https://localhost:8080/"
        },
        "id": "x6GqaB8gI_t3",
        "outputId": "9af44074-7917-4cfe-f357-50df337dc078"
      },
      "execution_count": 29,
      "outputs": [
        {
          "output_type": "stream",
          "name": "stdout",
          "text": [
            "Modelo guardado en TorchScript en: /content/drive/MyDrive/SIS421/Checkpoints/model_scripted.pt\n"
          ]
        }
      ]
    },
    {
      "cell_type": "markdown",
      "source": [
        "Cargamos el modelo"
      ],
      "metadata": {
        "id": "hQjADsLzRg1c"
      }
    },
    {
      "cell_type": "code",
      "source": [
        "\n",
        "# Cargar el modelo TorchScript\n",
        "torchscript_model_path = '/content/drive/MyDrive/SIS421/Checkpoints/model_scripted.pt'\n",
        "loaded_model = torch.jit.load(torchscript_model_path)\n",
        "\n",
        "# Cambiar el modelo a modo de evaluación\n",
        "loaded_model.eval()\n",
        "\n",
        "# Usar el modelo cargado\n",
        "example_input = torch.randn(1, 3, 32, 32).to(device)\n",
        "\n",
        "# Aplana el ejemplo de entrada como lo hiciste durante el entrenamiento\n",
        "example_input = example_input.view(1, -1)  # Esto lo convierte a [1, 3072]\n",
        "output = loaded_model(example_input)\n",
        "print(output)\n"
      ],
      "metadata": {
        "id": "9lT3RWf6QPTz",
        "colab": {
          "base_uri": "https://localhost:8080/"
        },
        "outputId": "3f205bc9-c709-40b4-b3dc-fbd7f0983711"
      },
      "execution_count": 45,
      "outputs": [
        {
          "output_type": "stream",
          "name": "stdout",
          "text": [
            "tensor([[-104.7855, -165.2558,   45.4594,  -30.5624,  -11.4203]],\n",
            "       device='cuda:0', grad_fn=<AddmmBackward0>)\n"
          ]
        }
      ]
    },
    {
      "cell_type": "code",
      "source": [
        "loaded_model = torch.jit.load('/content/drive/MyDrive/SIS421/Checkpoints/model_scripted.pt')\n",
        "loaded_model.eval()\n"
      ],
      "metadata": {
        "colab": {
          "base_uri": "https://localhost:8080/"
        },
        "id": "DDTsY550uCNK",
        "outputId": "ba3b2c2b-7a31-4124-bf45-332858823326"
      },
      "execution_count": 47,
      "outputs": [
        {
          "output_type": "execute_result",
          "data": {
            "text/plain": [
              "RecursiveScriptModule(\n",
              "  original_name=Sequential\n",
              "  (0): RecursiveScriptModule(original_name=Linear)\n",
              "  (1): RecursiveScriptModule(original_name=BatchNorm1d)\n",
              "  (2): RecursiveScriptModule(original_name=ReLU)\n",
              "  (3): RecursiveScriptModule(original_name=Linear)\n",
              "  (4): RecursiveScriptModule(original_name=BatchNorm1d)\n",
              "  (5): RecursiveScriptModule(original_name=ReLU)\n",
              "  (6): RecursiveScriptModule(original_name=Linear)\n",
              ")"
            ]
          },
          "metadata": {},
          "execution_count": 47
        }
      ]
    },
    {
      "cell_type": "markdown",
      "source": [
        "## Exportamos a ONNX"
      ],
      "metadata": {
        "id": "8Mi2GxlKrGF4"
      }
    },
    {
      "cell_type": "code",
      "source": [
        "!pip install onnx\n",
        "!pip install onnxruntime"
      ],
      "metadata": {
        "id": "jzH4ZNxuQujz",
        "colab": {
          "base_uri": "https://localhost:8080/"
        },
        "outputId": "89f88b8d-9282-49a4-e35b-4571a05c8f43"
      },
      "execution_count": 41,
      "outputs": [
        {
          "output_type": "stream",
          "name": "stdout",
          "text": [
            "Collecting onnx\n",
            "  Downloading onnx-1.16.2-cp310-cp310-manylinux_2_17_x86_64.manylinux2014_x86_64.whl.metadata (16 kB)\n",
            "Requirement already satisfied: numpy>=1.20 in /usr/local/lib/python3.10/dist-packages (from onnx) (1.26.4)\n",
            "Requirement already satisfied: protobuf>=3.20.2 in /usr/local/lib/python3.10/dist-packages (from onnx) (3.20.3)\n",
            "Downloading onnx-1.16.2-cp310-cp310-manylinux_2_17_x86_64.manylinux2014_x86_64.whl (15.9 MB)\n",
            "\u001b[?25l   \u001b[90m━━━━━━━━━━━━━━━━━━━━━━━━━━━━━━━━━━━━━━━━\u001b[0m \u001b[32m0.0/15.9 MB\u001b[0m \u001b[31m?\u001b[0m eta \u001b[36m-:--:--\u001b[0m\r\u001b[2K   \u001b[91m━━━━━━━━\u001b[0m\u001b[91m╸\u001b[0m\u001b[90m━━━━━━━━━━━━━━━━━━━━━━━━━━━━━━━\u001b[0m \u001b[32m3.5/15.9 MB\u001b[0m \u001b[31m107.5 MB/s\u001b[0m eta \u001b[36m0:00:01\u001b[0m\r\u001b[2K   \u001b[91m━━━━━━━━━━━━━━━━━━━━\u001b[0m\u001b[90m╺\u001b[0m\u001b[90m━━━━━━━━━━━━━━━━━━━\u001b[0m \u001b[32m8.0/15.9 MB\u001b[0m \u001b[31m116.8 MB/s\u001b[0m eta \u001b[36m0:00:01\u001b[0m\r\u001b[2K   \u001b[91m━━━━━━━━━━━━━━━━━━━━━━━━━━━━━━━\u001b[0m\u001b[90m╺\u001b[0m\u001b[90m━━━━━━━━\u001b[0m \u001b[32m12.5/15.9 MB\u001b[0m \u001b[31m122.0 MB/s\u001b[0m eta \u001b[36m0:00:01\u001b[0m\r\u001b[2K   \u001b[91m━━━━━━━━━━━━━━━━━━━━━━━━━━━━━━━━━━━━━━━\u001b[0m\u001b[91m╸\u001b[0m \u001b[32m15.9/15.9 MB\u001b[0m \u001b[31m132.1 MB/s\u001b[0m eta \u001b[36m0:00:01\u001b[0m\r\u001b[2K   \u001b[91m━━━━━━━━━━━━━━━━━━━━━━━━━━━━━━━━━━━━━━━\u001b[0m\u001b[91m╸\u001b[0m \u001b[32m15.9/15.9 MB\u001b[0m \u001b[31m132.1 MB/s\u001b[0m eta \u001b[36m0:00:01\u001b[0m\r\u001b[2K   \u001b[90m━━━━━━━━━━━━━━━━━━━━━━━━━━━━━━━━━━━━━━━━\u001b[0m \u001b[32m15.9/15.9 MB\u001b[0m \u001b[31m73.7 MB/s\u001b[0m eta \u001b[36m0:00:00\u001b[0m\n",
            "\u001b[?25hInstalling collected packages: onnx\n",
            "Successfully installed onnx-1.16.2\n",
            "Requirement already satisfied: onnxruntime in /usr/local/lib/python3.10/dist-packages (1.19.2)\n",
            "Requirement already satisfied: coloredlogs in /usr/local/lib/python3.10/dist-packages (from onnxruntime) (15.0.1)\n",
            "Requirement already satisfied: flatbuffers in /usr/local/lib/python3.10/dist-packages (from onnxruntime) (24.3.25)\n",
            "Requirement already satisfied: numpy>=1.21.6 in /usr/local/lib/python3.10/dist-packages (from onnxruntime) (1.26.4)\n",
            "Requirement already satisfied: packaging in /usr/local/lib/python3.10/dist-packages (from onnxruntime) (24.1)\n",
            "Requirement already satisfied: protobuf in /usr/local/lib/python3.10/dist-packages (from onnxruntime) (3.20.3)\n",
            "Requirement already satisfied: sympy in /usr/local/lib/python3.10/dist-packages (from onnxruntime) (1.13.2)\n",
            "Requirement already satisfied: humanfriendly>=9.1 in /usr/local/lib/python3.10/dist-packages (from coloredlogs->onnxruntime) (10.0)\n",
            "Requirement already satisfied: mpmath<1.4,>=1.1.0 in /usr/local/lib/python3.10/dist-packages (from sympy->onnxruntime) (1.3.0)\n"
          ]
        }
      ]
    },
    {
      "cell_type": "markdown",
      "source": [
        "Enviamos el modelo"
      ],
      "metadata": {
        "id": "xQvROZz7t_MG"
      }
    },
    {
      "cell_type": "code",
      "source": [
        "import onnx\n",
        "import onnxruntime as ort\n",
        "import numpy as np\n",
        "\n",
        "# Asegúrate de que el modelo esté en modo evaluación\n",
        "model.eval()\n",
        "\n",
        "# Supongamos que tu batch_size es 1 para el ejemplo de entrada\n",
        "example_input = torch.randn(1, 3, 32, 32).to(device)\n",
        "\n",
        "# Aplana el ejemplo de entrada como lo hiciste durante el entrenamiento\n",
        "example_input = example_input.view(1, -1)  # Esto lo convierte a [1, 3072]\n",
        "\n",
        "\n",
        "onnx_save_path = '/content/drive/MyDrive/SIS421/Checkpoints/model.onnx'\n",
        "\n",
        "# Exportar el modelo a ONNX con el ejemplo de entrada aplanado\n",
        "torch.onnx.export(\n",
        "    model,                     # Modelo PyTorch\n",
        "    example_input,             # Ejemplo de entrada (aplanado a [1, 3072])\n",
        "    onnx_save_path,            # Path de archivo de salida\n",
        "    export_params=True,        # Exportar parámetros entrenados\n",
        "    opset_version=11,          # Versión de ONNX\n",
        "    do_constant_folding=True,  # Plegado constante para optimización\n",
        "    input_names=['input'],     # Nombres de las entradas\n",
        "    output_names=['output'],   # Nombres de las salidas\n",
        "    dynamic_axes={'input': {0: 'batch_size'}, 'output': {0: 'batch_size'}}  # Ejes dinámicos para batch_size\n",
        ")\n",
        "\n",
        "print(f\"Modelo guardado en ONNX en: {onnx_save_path}\")\n"
      ],
      "metadata": {
        "colab": {
          "base_uri": "https://localhost:8080/"
        },
        "id": "UNX478seJKGW",
        "outputId": "5411fb0e-502f-4b57-e029-29ecb365e213"
      },
      "execution_count": 42,
      "outputs": [
        {
          "output_type": "stream",
          "name": "stdout",
          "text": [
            "Modelo guardado en ONNX en: /content/drive/MyDrive/SIS421/Checkpoints/model.onnx\n"
          ]
        }
      ]
    },
    {
      "cell_type": "markdown",
      "source": [
        "Para cargarlo"
      ],
      "metadata": {
        "id": "uTiar5yisCkx"
      }
    },
    {
      "cell_type": "code",
      "source": [
        "onnx_model_path = \"/content/drive/MyDrive/SIS421/Checkpoints/model.onnx\"\n",
        "ort_session = ort.InferenceSession(onnx_model_path)\n",
        "\n",
        "# Crear un ejemplo de entrada en PyTorch\n",
        "example_input = torch.randn(1, 3, 32, 32)\n",
        "\n",
        "# Aplana el ejemplo de entrada como lo hiciste durante el entrenamiento\n",
        "example_input = example_input.view(1, -1)  # Esto lo convierte a [1, 3072]\n",
        "\n",
        "# Convertir el tensor a numpy array\n",
        "example_input_np = example_input.numpy()\n",
        "\n",
        "# Hacer una predicción\n",
        "outputs = ort_session.run(None, {'input': example_input_np})\n",
        "\n",
        "print(outputs)"
      ],
      "metadata": {
        "colab": {
          "base_uri": "https://localhost:8080/"
        },
        "id": "d6q7DE5ruQuY",
        "outputId": "3349bf61-2cc5-47d2-f5d7-68afaa13e215"
      },
      "execution_count": 50,
      "outputs": [
        {
          "output_type": "stream",
          "name": "stdout",
          "text": [
            "[array([[-119.077286 , -124.9446   ,   26.270847 ,  -11.060738 ,\n",
            "          -1.9246594]], dtype=float32)]\n"
          ]
        }
      ]
    }
  ]
}